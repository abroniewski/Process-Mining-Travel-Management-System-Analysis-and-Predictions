{
 "cells": [
  {
   "cell_type": "code",
   "execution_count": 3,
   "metadata": {},
   "outputs": [],
   "source": [
    "# import libraties\n",
    "import pandas as pd\n",
    "import numpy as np\n",
    "import json\n",
    "import pickle\n",
    "\n",
    "# https://pm4py.fit.fraunhofer.de/documentation\n",
    "import pm4py\n",
    "from pm4py.objects.log.util.log import project_traces\n",
    "from pm4py.objects.log.util import interval_lifecycle\n",
    "from pm4py.algo.transformation.log_to_features import algorithm as log_to_features\n",
    "from pm4py.objects.log.obj import EventLog, Trace\n",
    "\n",
    "import warnings\n",
    "warnings.filterwarnings(\"ignore\")"
   ]
  },
  {
   "cell_type": "code",
   "execution_count": 4,
   "metadata": {},
   "outputs": [],
   "source": [
    "# function to project the trace\n",
    "def project_nth(log, index):\n",
    "    print(str(project_traces(log)[index]))"
   ]
  },
  {
   "cell_type": "code",
   "execution_count": 5,
   "metadata": {},
   "outputs": [
    {
     "data": {
      "text/html": [
       "<div>\n",
       "<style scoped>\n",
       "    .dataframe tbody tr th:only-of-type {\n",
       "        vertical-align: middle;\n",
       "    }\n",
       "\n",
       "    .dataframe tbody tr th {\n",
       "        vertical-align: top;\n",
       "    }\n",
       "\n",
       "    .dataframe thead th {\n",
       "        text-align: right;\n",
       "    }\n",
       "</style>\n",
       "<table border=\"1\" class=\"dataframe\">\n",
       "  <thead>\n",
       "    <tr style=\"text-align: right;\">\n",
       "      <th></th>\n",
       "      <th>case</th>\n",
       "      <th>event</th>\n",
       "      <th>startTime</th>\n",
       "      <th>completeTime</th>\n",
       "      <th>dec_id_5</th>\n",
       "      <th>dec_id_6</th>\n",
       "      <th>dec_id_3</th>\n",
       "      <th>dec_id_4</th>\n",
       "      <th>dec_id_1</th>\n",
       "      <th>dec_id_2</th>\n",
       "      <th>...</th>\n",
       "      <th>Task_4</th>\n",
       "      <th>Task_3</th>\n",
       "      <th>Task_2</th>\n",
       "      <th>Task_9</th>\n",
       "      <th>Task_8</th>\n",
       "      <th>Task_7</th>\n",
       "      <th>Task_6</th>\n",
       "      <th>org:resource</th>\n",
       "      <th>event_id</th>\n",
       "      <th>org:role</th>\n",
       "    </tr>\n",
       "  </thead>\n",
       "  <tbody>\n",
       "    <tr>\n",
       "      <th>0</th>\n",
       "      <td>travel permit 76455</td>\n",
       "      <td>Start trip</td>\n",
       "      <td>2016/10/05 00:00:00.000</td>\n",
       "      <td>2016/10/05 00:00:00.000</td>\n",
       "      <td>NaN</td>\n",
       "      <td>NaN</td>\n",
       "      <td>NaN</td>\n",
       "      <td>NaN</td>\n",
       "      <td>NaN</td>\n",
       "      <td>NaN</td>\n",
       "      <td>...</td>\n",
       "      <td>NaN</td>\n",
       "      <td>NaN</td>\n",
       "      <td>NaN</td>\n",
       "      <td>NaN</td>\n",
       "      <td>NaN</td>\n",
       "      <td>NaN</td>\n",
       "      <td>NaN</td>\n",
       "      <td>STAFF MEMBER</td>\n",
       "      <td>rv_travel permit 76455_6</td>\n",
       "      <td>EMPLOYEE</td>\n",
       "    </tr>\n",
       "    <tr>\n",
       "      <th>1</th>\n",
       "      <td>travel permit 76455</td>\n",
       "      <td>End trip</td>\n",
       "      <td>2016/10/05 00:00:00.000</td>\n",
       "      <td>2016/10/05 00:00:00.000</td>\n",
       "      <td>NaN</td>\n",
       "      <td>NaN</td>\n",
       "      <td>NaN</td>\n",
       "      <td>NaN</td>\n",
       "      <td>NaN</td>\n",
       "      <td>NaN</td>\n",
       "      <td>...</td>\n",
       "      <td>NaN</td>\n",
       "      <td>NaN</td>\n",
       "      <td>NaN</td>\n",
       "      <td>NaN</td>\n",
       "      <td>NaN</td>\n",
       "      <td>NaN</td>\n",
       "      <td>NaN</td>\n",
       "      <td>STAFF MEMBER</td>\n",
       "      <td>rv_travel permit 76455_7</td>\n",
       "      <td>EMPLOYEE</td>\n",
       "    </tr>\n",
       "    <tr>\n",
       "      <th>2</th>\n",
       "      <td>travel permit 76455</td>\n",
       "      <td>Permit SUBMITTED by EMPLOYEE</td>\n",
       "      <td>2017/04/06 13:32:10.000</td>\n",
       "      <td>2017/04/06 13:32:10.000</td>\n",
       "      <td>NaN</td>\n",
       "      <td>NaN</td>\n",
       "      <td>NaN</td>\n",
       "      <td>NaN</td>\n",
       "      <td>NaN</td>\n",
       "      <td>NaN</td>\n",
       "      <td>...</td>\n",
       "      <td>NaN</td>\n",
       "      <td>NaN</td>\n",
       "      <td>NaN</td>\n",
       "      <td>NaN</td>\n",
       "      <td>NaN</td>\n",
       "      <td>NaN</td>\n",
       "      <td>NaN</td>\n",
       "      <td>STAFF MEMBER</td>\n",
       "      <td>st_step 76459_0</td>\n",
       "      <td>EMPLOYEE</td>\n",
       "    </tr>\n",
       "    <tr>\n",
       "      <th>3</th>\n",
       "      <td>travel permit 76455</td>\n",
       "      <td>Permit FINAL_APPROVED by SUPERVISOR</td>\n",
       "      <td>2017/04/06 13:32:28.000</td>\n",
       "      <td>2017/04/06 13:32:28.000</td>\n",
       "      <td>NaN</td>\n",
       "      <td>NaN</td>\n",
       "      <td>NaN</td>\n",
       "      <td>NaN</td>\n",
       "      <td>NaN</td>\n",
       "      <td>NaN</td>\n",
       "      <td>...</td>\n",
       "      <td>NaN</td>\n",
       "      <td>NaN</td>\n",
       "      <td>NaN</td>\n",
       "      <td>NaN</td>\n",
       "      <td>NaN</td>\n",
       "      <td>NaN</td>\n",
       "      <td>NaN</td>\n",
       "      <td>STAFF MEMBER</td>\n",
       "      <td>st_step 76460_0</td>\n",
       "      <td>SUPERVISOR</td>\n",
       "    </tr>\n",
       "    <tr>\n",
       "      <th>4</th>\n",
       "      <td>travel permit 76455</td>\n",
       "      <td>Declaration SUBMITTED by EMPLOYEE</td>\n",
       "      <td>2017/04/07 13:38:14.000</td>\n",
       "      <td>2017/04/07 13:38:14.000</td>\n",
       "      <td>NaN</td>\n",
       "      <td>NaN</td>\n",
       "      <td>NaN</td>\n",
       "      <td>NaN</td>\n",
       "      <td>NaN</td>\n",
       "      <td>NaN</td>\n",
       "      <td>...</td>\n",
       "      <td>NaN</td>\n",
       "      <td>NaN</td>\n",
       "      <td>NaN</td>\n",
       "      <td>NaN</td>\n",
       "      <td>NaN</td>\n",
       "      <td>NaN</td>\n",
       "      <td>NaN</td>\n",
       "      <td>STAFF MEMBER</td>\n",
       "      <td>st_step 76461_0</td>\n",
       "      <td>EMPLOYEE</td>\n",
       "    </tr>\n",
       "  </tbody>\n",
       "</table>\n",
       "<p>5 rows × 174 columns</p>\n",
       "</div>"
      ],
      "text/plain": [
       "                  case                                event  \\\n",
       "0  travel permit 76455                           Start trip   \n",
       "1  travel permit 76455                             End trip   \n",
       "2  travel permit 76455         Permit SUBMITTED by EMPLOYEE   \n",
       "3  travel permit 76455  Permit FINAL_APPROVED by SUPERVISOR   \n",
       "4  travel permit 76455    Declaration SUBMITTED by EMPLOYEE   \n",
       "\n",
       "                 startTime             completeTime dec_id_5 dec_id_6  \\\n",
       "0  2016/10/05 00:00:00.000  2016/10/05 00:00:00.000      NaN      NaN   \n",
       "1  2016/10/05 00:00:00.000  2016/10/05 00:00:00.000      NaN      NaN   \n",
       "2  2017/04/06 13:32:10.000  2017/04/06 13:32:10.000      NaN      NaN   \n",
       "3  2017/04/06 13:32:28.000  2017/04/06 13:32:28.000      NaN      NaN   \n",
       "4  2017/04/07 13:38:14.000  2017/04/07 13:38:14.000      NaN      NaN   \n",
       "\n",
       "  dec_id_3 dec_id_4 dec_id_1 dec_id_2  ... Task_4 Task_3 Task_2 Task_9 Task_8  \\\n",
       "0      NaN      NaN      NaN      NaN  ...    NaN    NaN    NaN    NaN    NaN   \n",
       "1      NaN      NaN      NaN      NaN  ...    NaN    NaN    NaN    NaN    NaN   \n",
       "2      NaN      NaN      NaN      NaN  ...    NaN    NaN    NaN    NaN    NaN   \n",
       "3      NaN      NaN      NaN      NaN  ...    NaN    NaN    NaN    NaN    NaN   \n",
       "4      NaN      NaN      NaN      NaN  ...    NaN    NaN    NaN    NaN    NaN   \n",
       "\n",
       "  Task_7 Task_6  org:resource                  event_id    org:role  \n",
       "0    NaN    NaN  STAFF MEMBER  rv_travel permit 76455_6    EMPLOYEE  \n",
       "1    NaN    NaN  STAFF MEMBER  rv_travel permit 76455_7    EMPLOYEE  \n",
       "2    NaN    NaN  STAFF MEMBER           st_step 76459_0    EMPLOYEE  \n",
       "3    NaN    NaN  STAFF MEMBER           st_step 76460_0  SUPERVISOR  \n",
       "4    NaN    NaN  STAFF MEMBER           st_step 76461_0    EMPLOYEE  \n",
       "\n",
       "[5 rows x 174 columns]"
      ]
     },
     "execution_count": 5,
     "metadata": {},
     "output_type": "execute_result"
    }
   ],
   "source": [
    "# read data in csv \n",
    "trace = pd.read_csv('../data/BPIC2020_CSV/TravelPermits.csv')\n",
    "trace.head()"
   ]
  },
  {
   "attachments": {},
   "cell_type": "markdown",
   "metadata": {},
   "source": [
    "# Comman Data Pre Processing"
   ]
  },
  {
   "cell_type": "code",
   "execution_count": 6,
   "metadata": {},
   "outputs": [
    {
     "data": {
      "text/html": [
       "<div>\n",
       "<style scoped>\n",
       "    .dataframe tbody tr th:only-of-type {\n",
       "        vertical-align: middle;\n",
       "    }\n",
       "\n",
       "    .dataframe tbody tr th {\n",
       "        vertical-align: top;\n",
       "    }\n",
       "\n",
       "    .dataframe thead th {\n",
       "        text-align: right;\n",
       "    }\n",
       "</style>\n",
       "<table border=\"1\" class=\"dataframe\">\n",
       "  <thead>\n",
       "    <tr style=\"text-align: right;\">\n",
       "      <th></th>\n",
       "      <th>case</th>\n",
       "      <th>event</th>\n",
       "      <th>startTime</th>\n",
       "      <th>completeTime</th>\n",
       "      <th>id</th>\n",
       "      <th>RequestedAmount_0</th>\n",
       "      <th>Overspent</th>\n",
       "      <th>travel permit number</th>\n",
       "      <th>OverspentAmount</th>\n",
       "      <th>RequestedBudget</th>\n",
       "      <th>ProjectNumber</th>\n",
       "      <th>TaskNumber</th>\n",
       "      <th>TotalDeclared</th>\n",
       "      <th>BudgetNumber</th>\n",
       "      <th>ActivityNumber</th>\n",
       "      <th>OrganizationalEntity</th>\n",
       "      <th>org:resource</th>\n",
       "      <th>event_id</th>\n",
       "      <th>org:role</th>\n",
       "    </tr>\n",
       "  </thead>\n",
       "  <tbody>\n",
       "    <tr>\n",
       "      <th>0</th>\n",
       "      <td>travel permit 76455</td>\n",
       "      <td>Start trip</td>\n",
       "      <td>2016/10/05 00:00:00.000</td>\n",
       "      <td>2016/10/05 00:00:00.000</td>\n",
       "      <td>travel permit 76455</td>\n",
       "      <td>56</td>\n",
       "      <td>False</td>\n",
       "      <td>travel permit number 76456</td>\n",
       "      <td>0.0</td>\n",
       "      <td>41.613445</td>\n",
       "      <td>UNKNOWN</td>\n",
       "      <td>UNKNOWN</td>\n",
       "      <td>39.664561</td>\n",
       "      <td>budget 922</td>\n",
       "      <td>activity 46005</td>\n",
       "      <td>organizational unit 65458</td>\n",
       "      <td>STAFF MEMBER</td>\n",
       "      <td>rv_travel permit 76455_6</td>\n",
       "      <td>EMPLOYEE</td>\n",
       "    </tr>\n",
       "    <tr>\n",
       "      <th>1</th>\n",
       "      <td>travel permit 76455</td>\n",
       "      <td>End trip</td>\n",
       "      <td>2016/10/05 00:00:00.000</td>\n",
       "      <td>2016/10/05 00:00:00.000</td>\n",
       "      <td>travel permit 76455</td>\n",
       "      <td>56</td>\n",
       "      <td>False</td>\n",
       "      <td>travel permit number 76456</td>\n",
       "      <td>0.0</td>\n",
       "      <td>41.613445</td>\n",
       "      <td>UNKNOWN</td>\n",
       "      <td>UNKNOWN</td>\n",
       "      <td>39.664561</td>\n",
       "      <td>budget 922</td>\n",
       "      <td>activity 46005</td>\n",
       "      <td>organizational unit 65458</td>\n",
       "      <td>STAFF MEMBER</td>\n",
       "      <td>rv_travel permit 76455_7</td>\n",
       "      <td>EMPLOYEE</td>\n",
       "    </tr>\n",
       "    <tr>\n",
       "      <th>2</th>\n",
       "      <td>travel permit 76455</td>\n",
       "      <td>Permit SUBMITTED by EMPLOYEE</td>\n",
       "      <td>2017/04/06 13:32:10.000</td>\n",
       "      <td>2017/04/06 13:32:10.000</td>\n",
       "      <td>travel permit 76455</td>\n",
       "      <td>56</td>\n",
       "      <td>False</td>\n",
       "      <td>travel permit number 76456</td>\n",
       "      <td>0.0</td>\n",
       "      <td>41.613445</td>\n",
       "      <td>UNKNOWN</td>\n",
       "      <td>UNKNOWN</td>\n",
       "      <td>39.664561</td>\n",
       "      <td>budget 922</td>\n",
       "      <td>activity 46005</td>\n",
       "      <td>organizational unit 65458</td>\n",
       "      <td>STAFF MEMBER</td>\n",
       "      <td>st_step 76459_0</td>\n",
       "      <td>EMPLOYEE</td>\n",
       "    </tr>\n",
       "    <tr>\n",
       "      <th>3</th>\n",
       "      <td>travel permit 76455</td>\n",
       "      <td>Permit FINAL_APPROVED by SUPERVISOR</td>\n",
       "      <td>2017/04/06 13:32:28.000</td>\n",
       "      <td>2017/04/06 13:32:28.000</td>\n",
       "      <td>travel permit 76455</td>\n",
       "      <td>56</td>\n",
       "      <td>False</td>\n",
       "      <td>travel permit number 76456</td>\n",
       "      <td>0.0</td>\n",
       "      <td>41.613445</td>\n",
       "      <td>UNKNOWN</td>\n",
       "      <td>UNKNOWN</td>\n",
       "      <td>39.664561</td>\n",
       "      <td>budget 922</td>\n",
       "      <td>activity 46005</td>\n",
       "      <td>organizational unit 65458</td>\n",
       "      <td>STAFF MEMBER</td>\n",
       "      <td>st_step 76460_0</td>\n",
       "      <td>SUPERVISOR</td>\n",
       "    </tr>\n",
       "    <tr>\n",
       "      <th>4</th>\n",
       "      <td>travel permit 76455</td>\n",
       "      <td>Declaration SUBMITTED by EMPLOYEE</td>\n",
       "      <td>2017/04/07 13:38:14.000</td>\n",
       "      <td>2017/04/07 13:38:14.000</td>\n",
       "      <td>travel permit 76455</td>\n",
       "      <td>56</td>\n",
       "      <td>False</td>\n",
       "      <td>travel permit number 76456</td>\n",
       "      <td>0.0</td>\n",
       "      <td>41.613445</td>\n",
       "      <td>UNKNOWN</td>\n",
       "      <td>UNKNOWN</td>\n",
       "      <td>39.664561</td>\n",
       "      <td>budget 922</td>\n",
       "      <td>activity 46005</td>\n",
       "      <td>organizational unit 65458</td>\n",
       "      <td>STAFF MEMBER</td>\n",
       "      <td>st_step 76461_0</td>\n",
       "      <td>EMPLOYEE</td>\n",
       "    </tr>\n",
       "  </tbody>\n",
       "</table>\n",
       "</div>"
      ],
      "text/plain": [
       "                  case                                event  \\\n",
       "0  travel permit 76455                           Start trip   \n",
       "1  travel permit 76455                             End trip   \n",
       "2  travel permit 76455         Permit SUBMITTED by EMPLOYEE   \n",
       "3  travel permit 76455  Permit FINAL_APPROVED by SUPERVISOR   \n",
       "4  travel permit 76455    Declaration SUBMITTED by EMPLOYEE   \n",
       "\n",
       "                 startTime             completeTime                   id  \\\n",
       "0  2016/10/05 00:00:00.000  2016/10/05 00:00:00.000  travel permit 76455   \n",
       "1  2016/10/05 00:00:00.000  2016/10/05 00:00:00.000  travel permit 76455   \n",
       "2  2017/04/06 13:32:10.000  2017/04/06 13:32:10.000  travel permit 76455   \n",
       "3  2017/04/06 13:32:28.000  2017/04/06 13:32:28.000  travel permit 76455   \n",
       "4  2017/04/07 13:38:14.000  2017/04/07 13:38:14.000  travel permit 76455   \n",
       "\n",
       "  RequestedAmount_0  Overspent        travel permit number  OverspentAmount  \\\n",
       "0                56      False  travel permit number 76456              0.0   \n",
       "1                56      False  travel permit number 76456              0.0   \n",
       "2                56      False  travel permit number 76456              0.0   \n",
       "3                56      False  travel permit number 76456              0.0   \n",
       "4                56      False  travel permit number 76456              0.0   \n",
       "\n",
       "   RequestedBudget ProjectNumber TaskNumber  TotalDeclared BudgetNumber  \\\n",
       "0        41.613445       UNKNOWN    UNKNOWN      39.664561   budget 922   \n",
       "1        41.613445       UNKNOWN    UNKNOWN      39.664561   budget 922   \n",
       "2        41.613445       UNKNOWN    UNKNOWN      39.664561   budget 922   \n",
       "3        41.613445       UNKNOWN    UNKNOWN      39.664561   budget 922   \n",
       "4        41.613445       UNKNOWN    UNKNOWN      39.664561   budget 922   \n",
       "\n",
       "   ActivityNumber       OrganizationalEntity  org:resource  \\\n",
       "0  activity 46005  organizational unit 65458  STAFF MEMBER   \n",
       "1  activity 46005  organizational unit 65458  STAFF MEMBER   \n",
       "2  activity 46005  organizational unit 65458  STAFF MEMBER   \n",
       "3  activity 46005  organizational unit 65458  STAFF MEMBER   \n",
       "4  activity 46005  organizational unit 65458  STAFF MEMBER   \n",
       "\n",
       "                   event_id    org:role  \n",
       "0  rv_travel permit 76455_6    EMPLOYEE  \n",
       "1  rv_travel permit 76455_7    EMPLOYEE  \n",
       "2           st_step 76459_0    EMPLOYEE  \n",
       "3           st_step 76460_0  SUPERVISOR  \n",
       "4           st_step 76461_0    EMPLOYEE  "
      ]
     },
     "execution_count": 6,
     "metadata": {},
     "output_type": "execute_result"
    }
   ],
   "source": [
    "# remove columns where missing > 30%\n",
    "\n",
    "# get persentage of missing values in a column\n",
    "percent_missing = trace.isnull().sum() * 100 / len(trace)\n",
    "missing_value_df = pd.DataFrame({'column_name': trace.columns,\n",
    "                                 'percent_missing': percent_missing})\n",
    "\n",
    "# extract list of coumns which are more then 30%\n",
    "miss_ls = list(percent_missing[percent_missing>30].keys())\n",
    "\n",
    "# keep the remaining columns where missing data is less then 30%\n",
    "trace = trace.loc[:, ~trace.columns.isin(miss_ls)]\n",
    "trace.head()"
   ]
  },
  {
   "cell_type": "code",
   "execution_count": 7,
   "metadata": {},
   "outputs": [],
   "source": [
    "# adding time features month and year\n",
    "trace['startTime'] = pd.to_datetime(trace['startTime'])\n",
    "trace['completeTime'] = pd.to_datetime(trace['completeTime'])\n",
    "trace['year'] = trace['startTime'].dt.year\n",
    "trace['month'] = trace['startTime'].dt.month\n",
    "\n",
    "# converting dataframe to event log\n",
    "trace_log = pm4py.format_dataframe(trace, case_id='case', activity_key='event', timestamp_key='completeTime', start_timestamp_key='startTime')\n",
    "trace_log = pm4py.convert_to_event_log(trace_log)\n",
    "\n",
    "# add other time features\n",
    "trace_log = interval_lifecycle.assign_lead_cycle_time(trace_log)"
   ]
  },
  {
   "attachments": {},
   "cell_type": "markdown",
   "metadata": {},
   "source": [
    "### Keeping traces only till rejection event or complete if not rejected\n",
    "\n",
    "- No bucketing/clustering/binding is applied (to do if needed)\n",
    "- we extracted traces before the rejection for decleration, because we are intrested in prediction for the traces before that only \n",
    "- some process do not follow the above path but those are considered as accapted"
   ]
  },
  {
   "cell_type": "code",
   "execution_count": 8,
   "metadata": {},
   "outputs": [],
   "source": [
    "# extract traces only till the decleration is rejected(included), otherwise include it payment handled \n",
    "prefix_traces = []\n",
    "for trace in trace_log:\n",
    "    trace_end_flag = False\n",
    "    for i,event in enumerate(trace):\n",
    "        if \"Declaration REJECTED\" in event['event']:\n",
    "            trace_end_flag = True\n",
    "            i+=1\n",
    "            break\n",
    "        if \"Payment Handled\" in event['event']:\n",
    "            trace_end_flag = True\n",
    "    if trace_end_flag:\n",
    "        prefix_traces.append(Trace(trace[:i], attributes = trace.attributes))\n",
    "prefix_traces = EventLog(prefix_traces)"
   ]
  },
  {
   "cell_type": "code",
   "execution_count": 9,
   "metadata": {},
   "outputs": [
    {
     "data": {
      "text/plain": [
       "5742"
      ]
     },
     "execution_count": 9,
     "metadata": {},
     "output_type": "execute_result"
    }
   ],
   "source": [
    "len(prefix_traces)"
   ]
  },
  {
   "cell_type": "code",
   "execution_count": 10,
   "metadata": {},
   "outputs": [
    {
     "data": {
      "text/plain": [
       "7065"
      ]
     },
     "execution_count": 10,
     "metadata": {},
     "output_type": "execute_result"
    }
   ],
   "source": [
    "len(trace_log)"
   ]
  },
  {
   "attachments": {},
   "cell_type": "markdown",
   "metadata": {},
   "source": [
    "### Extracting target variables"
   ]
  },
  {
   "cell_type": "code",
   "execution_count": 11,
   "metadata": {},
   "outputs": [
    {
     "data": {
      "text/html": [
       "<div>\n",
       "<style scoped>\n",
       "    .dataframe tbody tr th:only-of-type {\n",
       "        vertical-align: middle;\n",
       "    }\n",
       "\n",
       "    .dataframe tbody tr th {\n",
       "        vertical-align: top;\n",
       "    }\n",
       "\n",
       "    .dataframe thead th {\n",
       "        text-align: right;\n",
       "    }\n",
       "</style>\n",
       "<table border=\"1\" class=\"dataframe\">\n",
       "  <thead>\n",
       "    <tr style=\"text-align: right;\">\n",
       "      <th></th>\n",
       "      <th>case</th>\n",
       "      <th>event</th>\n",
       "      <th>startTime</th>\n",
       "      <th>completeTime</th>\n",
       "      <th>id</th>\n",
       "      <th>RequestedAmount_0</th>\n",
       "      <th>Overspent</th>\n",
       "      <th>travel permit number</th>\n",
       "      <th>OverspentAmount</th>\n",
       "      <th>RequestedBudget</th>\n",
       "      <th>...</th>\n",
       "      <th>time:timestamp</th>\n",
       "      <th>@@index</th>\n",
       "      <th>@@case_index</th>\n",
       "      <th>start_timestamp</th>\n",
       "      <th>@@approx_bh_partial_cycle_time</th>\n",
       "      <th>@@approx_bh_partial_lead_time</th>\n",
       "      <th>@@approx_bh_overall_wasted_time</th>\n",
       "      <th>@@approx_bh_this_wasted_time</th>\n",
       "      <th>@approx_bh_ratio_cycle_lead_time</th>\n",
       "      <th>case:concept:name</th>\n",
       "    </tr>\n",
       "  </thead>\n",
       "  <tbody>\n",
       "    <tr>\n",
       "      <th>0</th>\n",
       "      <td>travel permit 10022</td>\n",
       "      <td>Permit SUBMITTED by EMPLOYEE</td>\n",
       "      <td>2018-02-20 13:51:27</td>\n",
       "      <td>2018-02-20 13:51:27</td>\n",
       "      <td>travel permit 10022</td>\n",
       "      <td>395</td>\n",
       "      <td>False</td>\n",
       "      <td>travel permit number 10023</td>\n",
       "      <td>-50.662542</td>\n",
       "      <td>2134.047941</td>\n",
       "      <td>...</td>\n",
       "      <td>2018-02-20 13:51:27</td>\n",
       "      <td>0</td>\n",
       "      <td>0</td>\n",
       "      <td>2018-02-20 13:51:27</td>\n",
       "      <td>0.0</td>\n",
       "      <td>0.0</td>\n",
       "      <td>0.0</td>\n",
       "      <td>0.0</td>\n",
       "      <td>1.0</td>\n",
       "      <td>travel permit 10022</td>\n",
       "    </tr>\n",
       "    <tr>\n",
       "      <th>1</th>\n",
       "      <td>travel permit 10022</td>\n",
       "      <td>Permit APPROVED by ADMINISTRATION</td>\n",
       "      <td>2018-02-20 13:51:34</td>\n",
       "      <td>2018-02-20 13:51:34</td>\n",
       "      <td>travel permit 10022</td>\n",
       "      <td>395</td>\n",
       "      <td>False</td>\n",
       "      <td>travel permit number 10023</td>\n",
       "      <td>-50.662542</td>\n",
       "      <td>2134.047941</td>\n",
       "      <td>...</td>\n",
       "      <td>2018-02-20 13:51:34</td>\n",
       "      <td>1</td>\n",
       "      <td>0</td>\n",
       "      <td>2018-02-20 13:51:34</td>\n",
       "      <td>0.0</td>\n",
       "      <td>7.0</td>\n",
       "      <td>7.0</td>\n",
       "      <td>7.0</td>\n",
       "      <td>0.0</td>\n",
       "      <td>travel permit 10022</td>\n",
       "    </tr>\n",
       "    <tr>\n",
       "      <th>2</th>\n",
       "      <td>travel permit 10022</td>\n",
       "      <td>Permit APPROVED by BUDGET OWNER</td>\n",
       "      <td>2018-02-20 16:27:33</td>\n",
       "      <td>2018-02-20 16:27:33</td>\n",
       "      <td>travel permit 10022</td>\n",
       "      <td>395</td>\n",
       "      <td>False</td>\n",
       "      <td>travel permit number 10023</td>\n",
       "      <td>-50.662542</td>\n",
       "      <td>2134.047941</td>\n",
       "      <td>...</td>\n",
       "      <td>2018-02-20 16:27:33</td>\n",
       "      <td>2</td>\n",
       "      <td>0</td>\n",
       "      <td>2018-02-20 16:27:33</td>\n",
       "      <td>0.0</td>\n",
       "      <td>9366.0</td>\n",
       "      <td>9366.0</td>\n",
       "      <td>9359.0</td>\n",
       "      <td>0.0</td>\n",
       "      <td>travel permit 10022</td>\n",
       "    </tr>\n",
       "    <tr>\n",
       "      <th>3</th>\n",
       "      <td>travel permit 10022</td>\n",
       "      <td>Permit FINAL_APPROVED by SUPERVISOR</td>\n",
       "      <td>2018-02-21 12:58:49</td>\n",
       "      <td>2018-02-21 12:58:49</td>\n",
       "      <td>travel permit 10022</td>\n",
       "      <td>395</td>\n",
       "      <td>False</td>\n",
       "      <td>travel permit number 10023</td>\n",
       "      <td>-50.662542</td>\n",
       "      <td>2134.047941</td>\n",
       "      <td>...</td>\n",
       "      <td>2018-02-21 12:58:49</td>\n",
       "      <td>3</td>\n",
       "      <td>0</td>\n",
       "      <td>2018-02-21 12:58:49</td>\n",
       "      <td>0.0</td>\n",
       "      <td>32842.0</td>\n",
       "      <td>32842.0</td>\n",
       "      <td>23476.0</td>\n",
       "      <td>0.0</td>\n",
       "      <td>travel permit 10022</td>\n",
       "    </tr>\n",
       "    <tr>\n",
       "      <th>4</th>\n",
       "      <td>travel permit 10022</td>\n",
       "      <td>Start trip</td>\n",
       "      <td>2018-03-17 00:00:00</td>\n",
       "      <td>2018-03-17 00:00:00</td>\n",
       "      <td>travel permit 10022</td>\n",
       "      <td>395</td>\n",
       "      <td>False</td>\n",
       "      <td>travel permit number 10023</td>\n",
       "      <td>-50.662542</td>\n",
       "      <td>2134.047941</td>\n",
       "      <td>...</td>\n",
       "      <td>2018-03-17 00:00:00</td>\n",
       "      <td>4</td>\n",
       "      <td>0</td>\n",
       "      <td>2018-03-17 00:00:00</td>\n",
       "      <td>0.0</td>\n",
       "      <td>659313.0</td>\n",
       "      <td>659313.0</td>\n",
       "      <td>626471.0</td>\n",
       "      <td>0.0</td>\n",
       "      <td>travel permit 10022</td>\n",
       "    </tr>\n",
       "  </tbody>\n",
       "</table>\n",
       "<p>5 rows × 32 columns</p>\n",
       "</div>"
      ],
      "text/plain": [
       "                  case                                event  \\\n",
       "0  travel permit 10022         Permit SUBMITTED by EMPLOYEE   \n",
       "1  travel permit 10022    Permit APPROVED by ADMINISTRATION   \n",
       "2  travel permit 10022      Permit APPROVED by BUDGET OWNER   \n",
       "3  travel permit 10022  Permit FINAL_APPROVED by SUPERVISOR   \n",
       "4  travel permit 10022                           Start trip   \n",
       "\n",
       "            startTime        completeTime                   id  \\\n",
       "0 2018-02-20 13:51:27 2018-02-20 13:51:27  travel permit 10022   \n",
       "1 2018-02-20 13:51:34 2018-02-20 13:51:34  travel permit 10022   \n",
       "2 2018-02-20 16:27:33 2018-02-20 16:27:33  travel permit 10022   \n",
       "3 2018-02-21 12:58:49 2018-02-21 12:58:49  travel permit 10022   \n",
       "4 2018-03-17 00:00:00 2018-03-17 00:00:00  travel permit 10022   \n",
       "\n",
       "  RequestedAmount_0  Overspent        travel permit number  OverspentAmount  \\\n",
       "0               395      False  travel permit number 10023       -50.662542   \n",
       "1               395      False  travel permit number 10023       -50.662542   \n",
       "2               395      False  travel permit number 10023       -50.662542   \n",
       "3               395      False  travel permit number 10023       -50.662542   \n",
       "4               395      False  travel permit number 10023       -50.662542   \n",
       "\n",
       "   RequestedBudget  ...      time:timestamp @@index  @@case_index  \\\n",
       "0      2134.047941  ... 2018-02-20 13:51:27       0             0   \n",
       "1      2134.047941  ... 2018-02-20 13:51:34       1             0   \n",
       "2      2134.047941  ... 2018-02-20 16:27:33       2             0   \n",
       "3      2134.047941  ... 2018-02-21 12:58:49       3             0   \n",
       "4      2134.047941  ... 2018-03-17 00:00:00       4             0   \n",
       "\n",
       "      start_timestamp @@approx_bh_partial_cycle_time  \\\n",
       "0 2018-02-20 13:51:27                            0.0   \n",
       "1 2018-02-20 13:51:34                            0.0   \n",
       "2 2018-02-20 16:27:33                            0.0   \n",
       "3 2018-02-21 12:58:49                            0.0   \n",
       "4 2018-03-17 00:00:00                            0.0   \n",
       "\n",
       "  @@approx_bh_partial_lead_time @@approx_bh_overall_wasted_time  \\\n",
       "0                           0.0                             0.0   \n",
       "1                           7.0                             7.0   \n",
       "2                        9366.0                          9366.0   \n",
       "3                       32842.0                         32842.0   \n",
       "4                      659313.0                        659313.0   \n",
       "\n",
       "  @@approx_bh_this_wasted_time @approx_bh_ratio_cycle_lead_time  \\\n",
       "0                          0.0                              1.0   \n",
       "1                          7.0                              0.0   \n",
       "2                       9359.0                              0.0   \n",
       "3                      23476.0                              0.0   \n",
       "4                     626471.0                              0.0   \n",
       "\n",
       "     case:concept:name  \n",
       "0  travel permit 10022  \n",
       "1  travel permit 10022  \n",
       "2  travel permit 10022  \n",
       "3  travel permit 10022  \n",
       "4  travel permit 10022  \n",
       "\n",
       "[5 rows x 32 columns]"
      ]
     },
     "execution_count": 11,
     "metadata": {},
     "output_type": "execute_result"
    }
   ],
   "source": [
    "# convert extracted traces to dataframe\n",
    "trace = pm4py.convert_to_dataframe(prefix_traces)\n",
    "trace.head()"
   ]
  },
  {
   "cell_type": "code",
   "execution_count": 12,
   "metadata": {},
   "outputs": [],
   "source": [
    "# saving original trace dataframe for one hot encoding \n",
    "original_df = trace.copy()"
   ]
  },
  {
   "attachments": {},
   "cell_type": "markdown",
   "metadata": {},
   "source": [
    "# train test split\n",
    "\n",
    "- Do temporal train test split and preprocess them seperately so that no data leakage will be present\n",
    "- we split data based on 70% 30 % (Temporal split)\n",
    "- classifier will be trained with all cases that started before a given date T1 which would represent a current point in time in a real-life scenario, and the testing is done only on cases that start afterwards."
   ]
  },
  {
   "cell_type": "code",
   "execution_count": 13,
   "metadata": {},
   "outputs": [],
   "source": [
    "# get completion time and sort\n",
    "completion_time_ls = list(trace.groupby(['case'])['completeTime'].max())\n",
    "completion_time_ls = sorted(completion_time_ls)"
   ]
  },
  {
   "cell_type": "code",
   "execution_count": 14,
   "metadata": {},
   "outputs": [
    {
     "data": {
      "text/plain": [
       "(Timestamp('2018-09-17 11:34:42'), Timestamp('2018-11-08 15:42:36'))"
      ]
     },
     "execution_count": 14,
     "metadata": {},
     "output_type": "execute_result"
    }
   ],
   "source": [
    "# split on 70% max time \n",
    "train_split_portion = 0.70\n",
    "val_split_seperation = 0.85\n",
    "total_data = len(completion_time_ls)\n",
    "train_len = int(train_split_portion*total_data)\n",
    "val_len = int(val_split_seperation*total_data)\n",
    "last_train_completion_time = completion_time_ls[train_len]\n",
    "last_val_completion_time = completion_time_ls[val_len]\n",
    "val_start_time = last_train_completion_time\n",
    "last_train_completion_time,last_val_completion_time"
   ]
  },
  {
   "cell_type": "code",
   "execution_count": 15,
   "metadata": {},
   "outputs": [
    {
     "name": "stdout",
     "output_type": "stream",
     "text": [
      "train, val and test count\n",
      "4020 861 861\n"
     ]
    }
   ],
   "source": [
    "# take all traces where start dates are after the last_train_completion_time\n",
    "dtype_list = list(trace.dtypes) # get original types of the columns\n",
    "train_df = pd.DataFrame(columns = trace.columns)\n",
    "test_df = pd.DataFrame(columns = trace.columns)\n",
    "val_df = pd.DataFrame(columns = trace.columns)\n",
    "train_count,test_count,val_count = 0,0,0\n",
    "intersecting_traces = []\n",
    "for name, group in trace.groupby(['case'],as_index=False):\n",
    "    if group['completeTime'].iloc[-1] <= last_train_completion_time:\n",
    "        train_df = train_df.append(group)\n",
    "        train_count+=1\n",
    "    # elif (group['startTime'].iloc[0] >= last_train_completion_time) and (group['completeTime'].iloc[-1] <= last_val_completion_time):\n",
    "    elif group['completeTime'].iloc[-1] <= last_val_completion_time:\n",
    "        val_df = val_df.append(group)\n",
    "        val_count+=1        \n",
    "    # elif group['startTime'].iloc[0] >= last_val_completion_time:\n",
    "    #     test_df = test_df.append(group)\n",
    "    #     test_count+=1\n",
    "    else:\n",
    "        test_df = test_df.append(group)\n",
    "        test_count+=1\n",
    "        # intersecting_traces.append(group)\n",
    "\n",
    "\n",
    "# converting train and test to their original data types\n",
    "for i,col in enumerate(train_df.columns):\n",
    "    train_df[col] = train_df[col].astype(dtype_list[i])\n",
    "\n",
    "for i,col in enumerate(test_df.columns):\n",
    "    test_df[col] = test_df[col].astype(dtype_list[i])\n",
    "\n",
    "for i,col in enumerate(val_df.columns):\n",
    "    val_df[col] = val_df[col].astype(dtype_list[i])\n",
    "\n",
    "\n",
    "print(\"train, val and test count\")\n",
    "print(train_count,val_count,test_count)"
   ]
  },
  {
   "cell_type": "code",
   "execution_count": 417,
   "metadata": {},
   "outputs": [],
   "source": [
    "# # loss of traces due to temporal intersection\n",
    "# # these are the traces which started and intersecting with split times\n",
    "# len(intersecting_traces)"
   ]
  },
  {
   "cell_type": "markdown",
   "metadata": {},
   "source": [
    "# Define common variables"
   ]
  },
  {
   "cell_type": "code",
   "execution_count": 16,
   "metadata": {},
   "outputs": [],
   "source": [
    "# trace length and saving path\n",
    "t_length = 10\n",
    "save_path_base = '../data/training_data/'"
   ]
  },
  {
   "cell_type": "markdown",
   "metadata": {},
   "source": [
    "# ====================================\n",
    "# Preparing Train Data\n",
    "\n",
    "- define trace length and df_type (train or test)\n",
    "- Working on train and test seperately, so run whole code for the same trace length for train and then for test\n",
    "- the repeating code will be modularized when developing python file"
   ]
  },
  {
   "cell_type": "code",
   "execution_count": 17,
   "metadata": {},
   "outputs": [],
   "source": [
    "# permits is just for the variable name, as below code is using permit as dataframe name\n",
    "df_type = 'train'\n",
    "permits = train_df"
   ]
  },
  {
   "attachments": {},
   "cell_type": "markdown",
   "metadata": {},
   "source": [
    "# Extracting Prefix till specified length\n",
    "\n",
    "- Trace length ( 10 for now - no specific reason, process is not big so randomly chosen 10 / to do)\n",
    "- so basically all the traces of length less than equal to 10 are chosen, \n",
    "    - We need to deal if vector length is not same (10 in our case) - we performed padding (adding zeros at the end) during encoding for those traces\n",
    "    - so we have traces with length 1,2,... 10 \n",
    "    - any trace with length less then equal to 10 can be predicted using our model"
   ]
  },
  {
   "cell_type": "code",
   "execution_count": 18,
   "metadata": {},
   "outputs": [],
   "source": [
    "# converting dataframe to event log\n",
    "trace_log = pm4py.format_dataframe(permits, case_id='case', activity_key='event', timestamp_key='completeTime', start_timestamp_key='startTime')\n",
    "trace_log = pm4py.convert_to_event_log(trace_log)"
   ]
  },
  {
   "attachments": {},
   "cell_type": "markdown",
   "metadata": {},
   "source": [
    "### Extracting target variable\n",
    "\n",
    "- In our case target variable is REJECTED Declaration, in the process whoever rejects the Declaration (Administrartor, pre-approvar, etc.) it is considered as Declaration REJECTED so using it to identify our target variable\n",
    "\n",
    "- One of our assumption is - If the decleration is not submitted by Employee and the payment is handeled directly, it is also considered as Declaration Accapted (so basically all the Declarations which is not rejected by employee are considerd as Accapted )\n",
    "\n",
    "- we are not dealing with situations where it got rejected twice. For now we are only interested in 1st time rejection\n"
   ]
  },
  {
   "cell_type": "code",
   "execution_count": 19,
   "metadata": {},
   "outputs": [],
   "source": [
    "# to extract target varaible, \n",
    "# if event starts with the name decleration rejected it is considered as rejected\n",
    "declerations = []\n",
    "for trace in trace_log:\n",
    "    flag = False\n",
    "    for i,event in enumerate(trace):\n",
    "        if \"Declaration REJECTED\" in event['event']:\n",
    "            flag = True\n",
    "            break\n",
    "    \n",
    "    if flag:\n",
    "        declerations.append(1)\n",
    "    else:\n",
    "        declerations.append(0)"
   ]
  },
  {
   "cell_type": "code",
   "execution_count": 20,
   "metadata": {},
   "outputs": [],
   "source": [
    "# extract traces only till the decleration is rejected (excluded), otherwise complete trace \n",
    "prefix_traces = []\n",
    "for trace in trace_log:\n",
    "    for i,event in enumerate(trace):\n",
    "        if \"Declaration REJECTED\" in event['event']:\n",
    "            break\n",
    "    prefix_traces.append(Trace(trace[:i], attributes = trace.attributes))\n",
    "prefix_traces = EventLog(prefix_traces)"
   ]
  },
  {
   "cell_type": "code",
   "execution_count": 21,
   "metadata": {},
   "outputs": [],
   "source": [
    "# generate prefixes, note that we need to add the casts to EventLog and Trace to make sure that the result is a PM4Py EventLog object\n",
    "trace_prefixes = EventLog([Trace(trace[0:t_length], attributes = trace.attributes) for trace in prefix_traces])"
   ]
  },
  {
   "cell_type": "code",
   "execution_count": 22,
   "metadata": {},
   "outputs": [
    {
     "name": "stdout",
     "output_type": "stream",
     "text": [
      "[16, 16, 8, 8, 6, 17, 8, 10, 8, 7, 8, 9, 8, 15, 10]\n",
      "[10, 10, 8, 8, 6, 10, 8, 10, 8, 7, 8, 9, 8, 10, 10]\n"
     ]
    }
   ],
   "source": [
    "# check the trace length\n",
    "print([len(trace) for trace in prefix_traces][0:15])\n",
    "print([len(trace) for trace in trace_prefixes][0:15])"
   ]
  },
  {
   "cell_type": "code",
   "execution_count": 23,
   "metadata": {},
   "outputs": [
    {
     "name": "stdout",
     "output_type": "stream",
     "text": [
      "['Permit SUBMITTED by EMPLOYEE', 'Permit APPROVED by ADMINISTRATION', 'Permit APPROVED by BUDGET OWNER', 'Permit FINAL_APPROVED by SUPERVISOR', 'Start trip', 'End trip', 'Declaration SUBMITTED by EMPLOYEE', 'Declaration APPROVED by ADMINISTRATION', 'Declaration SUBMITTED by EMPLOYEE', 'Declaration APPROVED by ADMINISTRATION']\n"
     ]
    }
   ],
   "source": [
    "# check if all good\n",
    "project_nth(trace_prefixes, 0)"
   ]
  },
  {
   "cell_type": "code",
   "execution_count": 24,
   "metadata": {},
   "outputs": [
    {
     "name": "stdout",
     "output_type": "stream",
     "text": [
      "2 8\n"
     ]
    }
   ],
   "source": [
    "# to check which traces are not of our desired length (these will be padded while preparing the the training data)\n",
    "for i,trace in enumerate(trace_prefixes):\n",
    "    if len(trace)!=t_length:\n",
    "        print(i, len(trace))\n",
    "        break"
   ]
  },
  {
   "cell_type": "code",
   "execution_count": 25,
   "metadata": {},
   "outputs": [
    {
     "data": {
      "text/html": [
       "<div>\n",
       "<style scoped>\n",
       "    .dataframe tbody tr th:only-of-type {\n",
       "        vertical-align: middle;\n",
       "    }\n",
       "\n",
       "    .dataframe tbody tr th {\n",
       "        vertical-align: top;\n",
       "    }\n",
       "\n",
       "    .dataframe thead th {\n",
       "        text-align: right;\n",
       "    }\n",
       "</style>\n",
       "<table border=\"1\" class=\"dataframe\">\n",
       "  <thead>\n",
       "    <tr style=\"text-align: right;\">\n",
       "      <th></th>\n",
       "      <th>case</th>\n",
       "      <th>event</th>\n",
       "      <th>startTime</th>\n",
       "      <th>completeTime</th>\n",
       "      <th>id</th>\n",
       "      <th>RequestedAmount_0</th>\n",
       "      <th>Overspent</th>\n",
       "      <th>travel permit number</th>\n",
       "      <th>OverspentAmount</th>\n",
       "      <th>RequestedBudget</th>\n",
       "      <th>...</th>\n",
       "      <th>@@case_index</th>\n",
       "      <th>start_timestamp</th>\n",
       "      <th>@@approx_bh_partial_cycle_time</th>\n",
       "      <th>@@approx_bh_partial_lead_time</th>\n",
       "      <th>@@approx_bh_overall_wasted_time</th>\n",
       "      <th>@@approx_bh_this_wasted_time</th>\n",
       "      <th>@approx_bh_ratio_cycle_lead_time</th>\n",
       "      <th>concept:name</th>\n",
       "      <th>time:timestamp</th>\n",
       "      <th>case:concept:name</th>\n",
       "    </tr>\n",
       "  </thead>\n",
       "  <tbody>\n",
       "    <tr>\n",
       "      <th>0</th>\n",
       "      <td>travel permit 10022</td>\n",
       "      <td>Permit SUBMITTED by EMPLOYEE</td>\n",
       "      <td>2018-02-20 13:51:27</td>\n",
       "      <td>2018-02-20 13:51:27</td>\n",
       "      <td>travel permit 10022</td>\n",
       "      <td>395</td>\n",
       "      <td>False</td>\n",
       "      <td>travel permit number 10023</td>\n",
       "      <td>-50.662542</td>\n",
       "      <td>2134.047941</td>\n",
       "      <td>...</td>\n",
       "      <td>0</td>\n",
       "      <td>2018-02-20 13:51:27</td>\n",
       "      <td>0.0</td>\n",
       "      <td>0.0</td>\n",
       "      <td>0.0</td>\n",
       "      <td>0.0</td>\n",
       "      <td>1.0</td>\n",
       "      <td>Permit SUBMITTED by EMPLOYEE</td>\n",
       "      <td>2018-02-20 13:51:27</td>\n",
       "      <td>travel permit 10022</td>\n",
       "    </tr>\n",
       "    <tr>\n",
       "      <th>1</th>\n",
       "      <td>travel permit 10022</td>\n",
       "      <td>Permit APPROVED by ADMINISTRATION</td>\n",
       "      <td>2018-02-20 13:51:34</td>\n",
       "      <td>2018-02-20 13:51:34</td>\n",
       "      <td>travel permit 10022</td>\n",
       "      <td>395</td>\n",
       "      <td>False</td>\n",
       "      <td>travel permit number 10023</td>\n",
       "      <td>-50.662542</td>\n",
       "      <td>2134.047941</td>\n",
       "      <td>...</td>\n",
       "      <td>0</td>\n",
       "      <td>2018-02-20 13:51:34</td>\n",
       "      <td>0.0</td>\n",
       "      <td>7.0</td>\n",
       "      <td>7.0</td>\n",
       "      <td>7.0</td>\n",
       "      <td>0.0</td>\n",
       "      <td>Permit APPROVED by ADMINISTRATION</td>\n",
       "      <td>2018-02-20 13:51:34</td>\n",
       "      <td>travel permit 10022</td>\n",
       "    </tr>\n",
       "    <tr>\n",
       "      <th>2</th>\n",
       "      <td>travel permit 10022</td>\n",
       "      <td>Permit APPROVED by BUDGET OWNER</td>\n",
       "      <td>2018-02-20 16:27:33</td>\n",
       "      <td>2018-02-20 16:27:33</td>\n",
       "      <td>travel permit 10022</td>\n",
       "      <td>395</td>\n",
       "      <td>False</td>\n",
       "      <td>travel permit number 10023</td>\n",
       "      <td>-50.662542</td>\n",
       "      <td>2134.047941</td>\n",
       "      <td>...</td>\n",
       "      <td>0</td>\n",
       "      <td>2018-02-20 16:27:33</td>\n",
       "      <td>0.0</td>\n",
       "      <td>9366.0</td>\n",
       "      <td>9366.0</td>\n",
       "      <td>9359.0</td>\n",
       "      <td>0.0</td>\n",
       "      <td>Permit APPROVED by BUDGET OWNER</td>\n",
       "      <td>2018-02-20 16:27:33</td>\n",
       "      <td>travel permit 10022</td>\n",
       "    </tr>\n",
       "    <tr>\n",
       "      <th>3</th>\n",
       "      <td>travel permit 10022</td>\n",
       "      <td>Permit FINAL_APPROVED by SUPERVISOR</td>\n",
       "      <td>2018-02-21 12:58:49</td>\n",
       "      <td>2018-02-21 12:58:49</td>\n",
       "      <td>travel permit 10022</td>\n",
       "      <td>395</td>\n",
       "      <td>False</td>\n",
       "      <td>travel permit number 10023</td>\n",
       "      <td>-50.662542</td>\n",
       "      <td>2134.047941</td>\n",
       "      <td>...</td>\n",
       "      <td>0</td>\n",
       "      <td>2018-02-21 12:58:49</td>\n",
       "      <td>0.0</td>\n",
       "      <td>32842.0</td>\n",
       "      <td>32842.0</td>\n",
       "      <td>23476.0</td>\n",
       "      <td>0.0</td>\n",
       "      <td>Permit FINAL_APPROVED by SUPERVISOR</td>\n",
       "      <td>2018-02-21 12:58:49</td>\n",
       "      <td>travel permit 10022</td>\n",
       "    </tr>\n",
       "    <tr>\n",
       "      <th>4</th>\n",
       "      <td>travel permit 10022</td>\n",
       "      <td>Start trip</td>\n",
       "      <td>2018-03-17 00:00:00</td>\n",
       "      <td>2018-03-17 00:00:00</td>\n",
       "      <td>travel permit 10022</td>\n",
       "      <td>395</td>\n",
       "      <td>False</td>\n",
       "      <td>travel permit number 10023</td>\n",
       "      <td>-50.662542</td>\n",
       "      <td>2134.047941</td>\n",
       "      <td>...</td>\n",
       "      <td>0</td>\n",
       "      <td>2018-03-17 00:00:00</td>\n",
       "      <td>0.0</td>\n",
       "      <td>659313.0</td>\n",
       "      <td>659313.0</td>\n",
       "      <td>626471.0</td>\n",
       "      <td>0.0</td>\n",
       "      <td>Start trip</td>\n",
       "      <td>2018-03-17 00:00:00</td>\n",
       "      <td>travel permit 10022</td>\n",
       "    </tr>\n",
       "  </tbody>\n",
       "</table>\n",
       "<p>5 rows × 32 columns</p>\n",
       "</div>"
      ],
      "text/plain": [
       "                  case                                event  \\\n",
       "0  travel permit 10022         Permit SUBMITTED by EMPLOYEE   \n",
       "1  travel permit 10022    Permit APPROVED by ADMINISTRATION   \n",
       "2  travel permit 10022      Permit APPROVED by BUDGET OWNER   \n",
       "3  travel permit 10022  Permit FINAL_APPROVED by SUPERVISOR   \n",
       "4  travel permit 10022                           Start trip   \n",
       "\n",
       "            startTime        completeTime                   id  \\\n",
       "0 2018-02-20 13:51:27 2018-02-20 13:51:27  travel permit 10022   \n",
       "1 2018-02-20 13:51:34 2018-02-20 13:51:34  travel permit 10022   \n",
       "2 2018-02-20 16:27:33 2018-02-20 16:27:33  travel permit 10022   \n",
       "3 2018-02-21 12:58:49 2018-02-21 12:58:49  travel permit 10022   \n",
       "4 2018-03-17 00:00:00 2018-03-17 00:00:00  travel permit 10022   \n",
       "\n",
       "  RequestedAmount_0  Overspent        travel permit number  OverspentAmount  \\\n",
       "0               395      False  travel permit number 10023       -50.662542   \n",
       "1               395      False  travel permit number 10023       -50.662542   \n",
       "2               395      False  travel permit number 10023       -50.662542   \n",
       "3               395      False  travel permit number 10023       -50.662542   \n",
       "4               395      False  travel permit number 10023       -50.662542   \n",
       "\n",
       "   RequestedBudget  ... @@case_index     start_timestamp  \\\n",
       "0      2134.047941  ...            0 2018-02-20 13:51:27   \n",
       "1      2134.047941  ...            0 2018-02-20 13:51:34   \n",
       "2      2134.047941  ...            0 2018-02-20 16:27:33   \n",
       "3      2134.047941  ...            0 2018-02-21 12:58:49   \n",
       "4      2134.047941  ...            0 2018-03-17 00:00:00   \n",
       "\n",
       "   @@approx_bh_partial_cycle_time @@approx_bh_partial_lead_time  \\\n",
       "0                             0.0                           0.0   \n",
       "1                             0.0                           7.0   \n",
       "2                             0.0                        9366.0   \n",
       "3                             0.0                       32842.0   \n",
       "4                             0.0                      659313.0   \n",
       "\n",
       "  @@approx_bh_overall_wasted_time @@approx_bh_this_wasted_time  \\\n",
       "0                             0.0                          0.0   \n",
       "1                             7.0                          7.0   \n",
       "2                          9366.0                       9359.0   \n",
       "3                         32842.0                      23476.0   \n",
       "4                        659313.0                     626471.0   \n",
       "\n",
       "  @approx_bh_ratio_cycle_lead_time                         concept:name  \\\n",
       "0                              1.0         Permit SUBMITTED by EMPLOYEE   \n",
       "1                              0.0    Permit APPROVED by ADMINISTRATION   \n",
       "2                              0.0      Permit APPROVED by BUDGET OWNER   \n",
       "3                              0.0  Permit FINAL_APPROVED by SUPERVISOR   \n",
       "4                              0.0                           Start trip   \n",
       "\n",
       "       time:timestamp    case:concept:name  \n",
       "0 2018-02-20 13:51:27  travel permit 10022  \n",
       "1 2018-02-20 13:51:34  travel permit 10022  \n",
       "2 2018-02-20 16:27:33  travel permit 10022  \n",
       "3 2018-02-21 12:58:49  travel permit 10022  \n",
       "4 2018-03-17 00:00:00  travel permit 10022  \n",
       "\n",
       "[5 rows x 32 columns]"
      ]
     },
     "execution_count": 25,
     "metadata": {},
     "output_type": "execute_result"
    }
   ],
   "source": [
    "# convert logs to dataframe\n",
    "# final base dataframe\n",
    "df = pm4py.convert_to_dataframe(trace_prefixes)\n",
    "df.head(5)"
   ]
  },
  {
   "cell_type": "code",
   "execution_count": 26,
   "metadata": {},
   "outputs": [
    {
     "data": {
      "text/html": [
       "<div>\n",
       "<style scoped>\n",
       "    .dataframe tbody tr th:only-of-type {\n",
       "        vertical-align: middle;\n",
       "    }\n",
       "\n",
       "    .dataframe tbody tr th {\n",
       "        vertical-align: top;\n",
       "    }\n",
       "\n",
       "    .dataframe thead th {\n",
       "        text-align: right;\n",
       "    }\n",
       "</style>\n",
       "<table border=\"1\" class=\"dataframe\">\n",
       "  <thead>\n",
       "    <tr style=\"text-align: right;\">\n",
       "      <th></th>\n",
       "      <th>case</th>\n",
       "      <th>event</th>\n",
       "      <th>startTime</th>\n",
       "      <th>completeTime</th>\n",
       "      <th>id</th>\n",
       "      <th>RequestedAmount_0</th>\n",
       "      <th>Overspent</th>\n",
       "      <th>travel permit number</th>\n",
       "      <th>OverspentAmount</th>\n",
       "      <th>RequestedBudget</th>\n",
       "      <th>...</th>\n",
       "      <th>start_timestamp</th>\n",
       "      <th>@@approx_bh_partial_cycle_time</th>\n",
       "      <th>@@approx_bh_partial_lead_time</th>\n",
       "      <th>@@approx_bh_overall_wasted_time</th>\n",
       "      <th>@@approx_bh_this_wasted_time</th>\n",
       "      <th>@approx_bh_ratio_cycle_lead_time</th>\n",
       "      <th>concept:name</th>\n",
       "      <th>time:timestamp</th>\n",
       "      <th>case:concept:name</th>\n",
       "      <th>declerations</th>\n",
       "    </tr>\n",
       "  </thead>\n",
       "  <tbody>\n",
       "    <tr>\n",
       "      <th>0</th>\n",
       "      <td>travel permit 10022</td>\n",
       "      <td>Permit SUBMITTED by EMPLOYEE</td>\n",
       "      <td>2018-02-20 13:51:27</td>\n",
       "      <td>2018-02-20 13:51:27</td>\n",
       "      <td>travel permit 10022</td>\n",
       "      <td>395</td>\n",
       "      <td>False</td>\n",
       "      <td>travel permit number 10023</td>\n",
       "      <td>-50.662542</td>\n",
       "      <td>2134.047941</td>\n",
       "      <td>...</td>\n",
       "      <td>2018-02-20 13:51:27</td>\n",
       "      <td>0.0</td>\n",
       "      <td>0.0</td>\n",
       "      <td>0.0</td>\n",
       "      <td>0.0</td>\n",
       "      <td>1.0</td>\n",
       "      <td>Permit SUBMITTED by EMPLOYEE</td>\n",
       "      <td>2018-02-20 13:51:27</td>\n",
       "      <td>travel permit 10022</td>\n",
       "      <td>0</td>\n",
       "    </tr>\n",
       "    <tr>\n",
       "      <th>1</th>\n",
       "      <td>travel permit 10022</td>\n",
       "      <td>Permit APPROVED by ADMINISTRATION</td>\n",
       "      <td>2018-02-20 13:51:34</td>\n",
       "      <td>2018-02-20 13:51:34</td>\n",
       "      <td>travel permit 10022</td>\n",
       "      <td>395</td>\n",
       "      <td>False</td>\n",
       "      <td>travel permit number 10023</td>\n",
       "      <td>-50.662542</td>\n",
       "      <td>2134.047941</td>\n",
       "      <td>...</td>\n",
       "      <td>2018-02-20 13:51:34</td>\n",
       "      <td>0.0</td>\n",
       "      <td>7.0</td>\n",
       "      <td>7.0</td>\n",
       "      <td>7.0</td>\n",
       "      <td>0.0</td>\n",
       "      <td>Permit APPROVED by ADMINISTRATION</td>\n",
       "      <td>2018-02-20 13:51:34</td>\n",
       "      <td>travel permit 10022</td>\n",
       "      <td>0</td>\n",
       "    </tr>\n",
       "    <tr>\n",
       "      <th>2</th>\n",
       "      <td>travel permit 10022</td>\n",
       "      <td>Permit APPROVED by BUDGET OWNER</td>\n",
       "      <td>2018-02-20 16:27:33</td>\n",
       "      <td>2018-02-20 16:27:33</td>\n",
       "      <td>travel permit 10022</td>\n",
       "      <td>395</td>\n",
       "      <td>False</td>\n",
       "      <td>travel permit number 10023</td>\n",
       "      <td>-50.662542</td>\n",
       "      <td>2134.047941</td>\n",
       "      <td>...</td>\n",
       "      <td>2018-02-20 16:27:33</td>\n",
       "      <td>0.0</td>\n",
       "      <td>9366.0</td>\n",
       "      <td>9366.0</td>\n",
       "      <td>9359.0</td>\n",
       "      <td>0.0</td>\n",
       "      <td>Permit APPROVED by BUDGET OWNER</td>\n",
       "      <td>2018-02-20 16:27:33</td>\n",
       "      <td>travel permit 10022</td>\n",
       "      <td>0</td>\n",
       "    </tr>\n",
       "    <tr>\n",
       "      <th>3</th>\n",
       "      <td>travel permit 10022</td>\n",
       "      <td>Permit FINAL_APPROVED by SUPERVISOR</td>\n",
       "      <td>2018-02-21 12:58:49</td>\n",
       "      <td>2018-02-21 12:58:49</td>\n",
       "      <td>travel permit 10022</td>\n",
       "      <td>395</td>\n",
       "      <td>False</td>\n",
       "      <td>travel permit number 10023</td>\n",
       "      <td>-50.662542</td>\n",
       "      <td>2134.047941</td>\n",
       "      <td>...</td>\n",
       "      <td>2018-02-21 12:58:49</td>\n",
       "      <td>0.0</td>\n",
       "      <td>32842.0</td>\n",
       "      <td>32842.0</td>\n",
       "      <td>23476.0</td>\n",
       "      <td>0.0</td>\n",
       "      <td>Permit FINAL_APPROVED by SUPERVISOR</td>\n",
       "      <td>2018-02-21 12:58:49</td>\n",
       "      <td>travel permit 10022</td>\n",
       "      <td>0</td>\n",
       "    </tr>\n",
       "    <tr>\n",
       "      <th>4</th>\n",
       "      <td>travel permit 10022</td>\n",
       "      <td>Start trip</td>\n",
       "      <td>2018-03-17 00:00:00</td>\n",
       "      <td>2018-03-17 00:00:00</td>\n",
       "      <td>travel permit 10022</td>\n",
       "      <td>395</td>\n",
       "      <td>False</td>\n",
       "      <td>travel permit number 10023</td>\n",
       "      <td>-50.662542</td>\n",
       "      <td>2134.047941</td>\n",
       "      <td>...</td>\n",
       "      <td>2018-03-17 00:00:00</td>\n",
       "      <td>0.0</td>\n",
       "      <td>659313.0</td>\n",
       "      <td>659313.0</td>\n",
       "      <td>626471.0</td>\n",
       "      <td>0.0</td>\n",
       "      <td>Start trip</td>\n",
       "      <td>2018-03-17 00:00:00</td>\n",
       "      <td>travel permit 10022</td>\n",
       "      <td>0</td>\n",
       "    </tr>\n",
       "  </tbody>\n",
       "</table>\n",
       "<p>5 rows × 33 columns</p>\n",
       "</div>"
      ],
      "text/plain": [
       "                  case                                event  \\\n",
       "0  travel permit 10022         Permit SUBMITTED by EMPLOYEE   \n",
       "1  travel permit 10022    Permit APPROVED by ADMINISTRATION   \n",
       "2  travel permit 10022      Permit APPROVED by BUDGET OWNER   \n",
       "3  travel permit 10022  Permit FINAL_APPROVED by SUPERVISOR   \n",
       "4  travel permit 10022                           Start trip   \n",
       "\n",
       "            startTime        completeTime                   id  \\\n",
       "0 2018-02-20 13:51:27 2018-02-20 13:51:27  travel permit 10022   \n",
       "1 2018-02-20 13:51:34 2018-02-20 13:51:34  travel permit 10022   \n",
       "2 2018-02-20 16:27:33 2018-02-20 16:27:33  travel permit 10022   \n",
       "3 2018-02-21 12:58:49 2018-02-21 12:58:49  travel permit 10022   \n",
       "4 2018-03-17 00:00:00 2018-03-17 00:00:00  travel permit 10022   \n",
       "\n",
       "  RequestedAmount_0  Overspent        travel permit number  OverspentAmount  \\\n",
       "0               395      False  travel permit number 10023       -50.662542   \n",
       "1               395      False  travel permit number 10023       -50.662542   \n",
       "2               395      False  travel permit number 10023       -50.662542   \n",
       "3               395      False  travel permit number 10023       -50.662542   \n",
       "4               395      False  travel permit number 10023       -50.662542   \n",
       "\n",
       "   RequestedBudget  ...     start_timestamp @@approx_bh_partial_cycle_time  \\\n",
       "0      2134.047941  ... 2018-02-20 13:51:27                            0.0   \n",
       "1      2134.047941  ... 2018-02-20 13:51:34                            0.0   \n",
       "2      2134.047941  ... 2018-02-20 16:27:33                            0.0   \n",
       "3      2134.047941  ... 2018-02-21 12:58:49                            0.0   \n",
       "4      2134.047941  ... 2018-03-17 00:00:00                            0.0   \n",
       "\n",
       "   @@approx_bh_partial_lead_time @@approx_bh_overall_wasted_time  \\\n",
       "0                            0.0                             0.0   \n",
       "1                            7.0                             7.0   \n",
       "2                         9366.0                          9366.0   \n",
       "3                        32842.0                         32842.0   \n",
       "4                       659313.0                        659313.0   \n",
       "\n",
       "  @@approx_bh_this_wasted_time @approx_bh_ratio_cycle_lead_time  \\\n",
       "0                          0.0                              1.0   \n",
       "1                          7.0                              0.0   \n",
       "2                       9359.0                              0.0   \n",
       "3                      23476.0                              0.0   \n",
       "4                     626471.0                              0.0   \n",
       "\n",
       "                          concept:name      time:timestamp  \\\n",
       "0         Permit SUBMITTED by EMPLOYEE 2018-02-20 13:51:27   \n",
       "1    Permit APPROVED by ADMINISTRATION 2018-02-20 13:51:34   \n",
       "2      Permit APPROVED by BUDGET OWNER 2018-02-20 16:27:33   \n",
       "3  Permit FINAL_APPROVED by SUPERVISOR 2018-02-21 12:58:49   \n",
       "4                           Start trip 2018-03-17 00:00:00   \n",
       "\n",
       "     case:concept:name  declerations  \n",
       "0  travel permit 10022             0  \n",
       "1  travel permit 10022             0  \n",
       "2  travel permit 10022             0  \n",
       "3  travel permit 10022             0  \n",
       "4  travel permit 10022             0  \n",
       "\n",
       "[5 rows x 33 columns]"
      ]
     },
     "execution_count": 26,
     "metadata": {},
     "output_type": "execute_result"
    }
   ],
   "source": [
    "# Create dataframe for Target variable and combine with above trace dataframe\n",
    "cases = list(df.groupby(['case'],sort=False)['id'].first().keys())\n",
    "df_dict = dict()\n",
    "df_dict['case'] = cases\n",
    "df_dict['declerations'] = declerations\n",
    "temp_df = pd.DataFrame(df_dict)\n",
    "\n",
    "# merge target variable with permits\n",
    "df = df.merge(temp_df,on=['case'])\n",
    "df.head()"
   ]
  },
  {
   "cell_type": "code",
   "execution_count": 27,
   "metadata": {},
   "outputs": [],
   "source": [
    "save_path = save_path_base + df_type +'_trace_len_'+str(t_length)+ '.csv'\n",
    "df.to_csv(save_path,index=False)"
   ]
  },
  {
   "attachments": {},
   "cell_type": "markdown",
   "metadata": {},
   "source": [
    "## Check last activity distribution for all trace length\n",
    "\n",
    "- Run the below code when trace length is 10\n",
    "- because it will give you all traces ending at 10,8,6,4 lengths\n",
    "- if trace is smaller then nth (4,6,8,10) length we keep the last activity if the trace"
   ]
  },
  {
   "cell_type": "code",
   "execution_count": 28,
   "metadata": {},
   "outputs": [],
   "source": [
    "# save distribution\n",
    "event_distribution_LIST = []\n",
    "# event_distribution_LIST['10'],event_distribution_LIST['8'],event_distribution_LIST['6'],event_distribution_LIST['4'] = [],[],[],[]\n",
    "trace_lengths = [4,6,8,10]\n",
    "for name, group in df.groupby(['case'],sort=False):\n",
    "    # print(name)\n",
    "    event_list = list(group['event'])\n",
    "    for t_len in trace_lengths:\n",
    "        index = t_len-1\n",
    "        try:\n",
    "            event_distribution_LIST.append([event_list[index],t_len])\n",
    "        except:\n",
    "            event_distribution_LIST.append([event_list[-1],t_len])"
   ]
  },
  {
   "cell_type": "code",
   "execution_count": 29,
   "metadata": {},
   "outputs": [
    {
     "data": {
      "text/html": [
       "<div>\n",
       "<style scoped>\n",
       "    .dataframe tbody tr th:only-of-type {\n",
       "        vertical-align: middle;\n",
       "    }\n",
       "\n",
       "    .dataframe tbody tr th {\n",
       "        vertical-align: top;\n",
       "    }\n",
       "\n",
       "    .dataframe thead th {\n",
       "        text-align: right;\n",
       "    }\n",
       "</style>\n",
       "<table border=\"1\" class=\"dataframe\">\n",
       "  <thead>\n",
       "    <tr style=\"text-align: right;\">\n",
       "      <th></th>\n",
       "      <th>Activities</th>\n",
       "      <th>Trace length</th>\n",
       "    </tr>\n",
       "  </thead>\n",
       "  <tbody>\n",
       "    <tr>\n",
       "      <th>0</th>\n",
       "      <td>Permit FINAL_APPROVED by SUPERVISOR</td>\n",
       "      <td>4</td>\n",
       "    </tr>\n",
       "    <tr>\n",
       "      <th>1</th>\n",
       "      <td>End trip</td>\n",
       "      <td>6</td>\n",
       "    </tr>\n",
       "    <tr>\n",
       "      <th>2</th>\n",
       "      <td>Declaration APPROVED by ADMINISTRATION</td>\n",
       "      <td>8</td>\n",
       "    </tr>\n",
       "    <tr>\n",
       "      <th>3</th>\n",
       "      <td>Declaration APPROVED by ADMINISTRATION</td>\n",
       "      <td>10</td>\n",
       "    </tr>\n",
       "    <tr>\n",
       "      <th>4</th>\n",
       "      <td>Request For Payment SUBMITTED by EMPLOYEE</td>\n",
       "      <td>4</td>\n",
       "    </tr>\n",
       "  </tbody>\n",
       "</table>\n",
       "</div>"
      ],
      "text/plain": [
       "                                  Activities  Trace length\n",
       "0        Permit FINAL_APPROVED by SUPERVISOR             4\n",
       "1                                   End trip             6\n",
       "2     Declaration APPROVED by ADMINISTRATION             8\n",
       "3     Declaration APPROVED by ADMINISTRATION            10\n",
       "4  Request For Payment SUBMITTED by EMPLOYEE             4"
      ]
     },
     "execution_count": 29,
     "metadata": {},
     "output_type": "execute_result"
    }
   ],
   "source": [
    "# create dataframe\n",
    "act_distribution = pd.DataFrame(event_distribution_LIST, columns=['Activities','Trace length'])\n",
    "act_distribution.head()"
   ]
  },
  {
   "cell_type": "code",
   "execution_count": 30,
   "metadata": {},
   "outputs": [
    {
     "data": {
      "text/html": [
       "<div>\n",
       "<style scoped>\n",
       "    .dataframe tbody tr th:only-of-type {\n",
       "        vertical-align: middle;\n",
       "    }\n",
       "\n",
       "    .dataframe tbody tr th {\n",
       "        vertical-align: top;\n",
       "    }\n",
       "\n",
       "    .dataframe thead th {\n",
       "        text-align: right;\n",
       "    }\n",
       "</style>\n",
       "<table border=\"1\" class=\"dataframe\">\n",
       "  <thead>\n",
       "    <tr style=\"text-align: right;\">\n",
       "      <th></th>\n",
       "      <th>Trace length</th>\n",
       "      <th>Activities</th>\n",
       "      <th>Percent count</th>\n",
       "    </tr>\n",
       "  </thead>\n",
       "  <tbody>\n",
       "    <tr>\n",
       "      <th>0</th>\n",
       "      <td>4</td>\n",
       "      <td>Start trip</td>\n",
       "      <td>35.497512</td>\n",
       "    </tr>\n",
       "    <tr>\n",
       "      <th>1</th>\n",
       "      <td>4</td>\n",
       "      <td>Permit FINAL_APPROVED by SUPERVISOR</td>\n",
       "      <td>19.402985</td>\n",
       "    </tr>\n",
       "    <tr>\n",
       "      <th>2</th>\n",
       "      <td>4</td>\n",
       "      <td>End trip</td>\n",
       "      <td>12.263682</td>\n",
       "    </tr>\n",
       "    <tr>\n",
       "      <th>3</th>\n",
       "      <td>4</td>\n",
       "      <td>Request For Payment SUBMITTED by EMPLOYEE</td>\n",
       "      <td>10.000000</td>\n",
       "    </tr>\n",
       "    <tr>\n",
       "      <th>4</th>\n",
       "      <td>4</td>\n",
       "      <td>Permit APPROVED by ADMINISTRATION</td>\n",
       "      <td>6.169154</td>\n",
       "    </tr>\n",
       "  </tbody>\n",
       "</table>\n",
       "</div>"
      ],
      "text/plain": [
       "   Trace length                                 Activities  Percent count\n",
       "0             4                                 Start trip      35.497512\n",
       "1             4        Permit FINAL_APPROVED by SUPERVISOR      19.402985\n",
       "2             4                                   End trip      12.263682\n",
       "3             4  Request For Payment SUBMITTED by EMPLOYEE      10.000000\n",
       "4             4          Permit APPROVED by ADMINISTRATION       6.169154"
      ]
     },
     "execution_count": 30,
     "metadata": {},
     "output_type": "execute_result"
    }
   ],
   "source": [
    "# value count and normalized\n",
    "df_dist = act_distribution.groupby('Trace length')['Activities'].value_counts(normalize=True)\n",
    "df_dist = df_dist.mul(100)\n",
    "df_dist = df_dist.rename('Percent count').reset_index()\n",
    "df_dist.head()"
   ]
  },
  {
   "cell_type": "code",
   "execution_count": 31,
   "metadata": {},
   "outputs": [],
   "source": [
    "df_dist.to_csv('../last_activity_distribution_against_tracelength.csv',index='False')"
   ]
  },
  {
   "cell_type": "code",
   "execution_count": 35,
   "metadata": {},
   "outputs": [
    {
     "data": {
      "application/vnd.plotly.v1+json": {
       "config": {
        "plotlyServerURL": "https://plot.ly"
       },
       "data": [
        {
         "alignmentgroup": "True",
         "hovertemplate": "Activities=Start trip<br>Trace length=%{x}<br>Percent count=%{y}<extra></extra>",
         "legendgroup": "Start trip",
         "marker": {
          "color": "#636efa",
          "pattern": {
           "shape": ""
          }
         },
         "name": "Start trip",
         "offsetgroup": "Start trip",
         "orientation": "v",
         "showlegend": true,
         "textposition": "auto",
         "type": "bar",
         "x": [
          4,
          6,
          8,
          10
         ],
         "xaxis": "x",
         "y": [
          35.49751243781095,
          2.2388059701492535,
          1.1940298507462688,
          1.5920398009950247
         ],
         "yaxis": "y"
        },
        {
         "alignmentgroup": "True",
         "hovertemplate": "Activities=Permit FINAL_APPROVED by SUPERVISOR<br>Trace length=%{x}<br>Percent count=%{y}<extra></extra>",
         "legendgroup": "Permit FINAL_APPROVED by SUPERVISOR",
         "marker": {
          "color": "#EF553B",
          "pattern": {
           "shape": ""
          }
         },
         "name": "Permit FINAL_APPROVED by SUPERVISOR",
         "offsetgroup": "Permit FINAL_APPROVED by SUPERVISOR",
         "orientation": "v",
         "showlegend": true,
         "textposition": "auto",
         "type": "bar",
         "x": [
          4,
          6,
          8,
          10
         ],
         "xaxis": "x",
         "y": [
          19.402985074626866,
          4.303482587064677,
          0.845771144278607,
          0.12437810945273632
         ],
         "yaxis": "y"
        },
        {
         "alignmentgroup": "True",
         "hovertemplate": "Activities=End trip<br>Trace length=%{x}<br>Percent count=%{y}<extra></extra>",
         "legendgroup": "End trip",
         "marker": {
          "color": "#00cc96",
          "pattern": {
           "shape": ""
          }
         },
         "name": "End trip",
         "offsetgroup": "End trip",
         "orientation": "v",
         "showlegend": true,
         "textposition": "auto",
         "type": "bar",
         "x": [
          4,
          6,
          8,
          10
         ],
         "xaxis": "x",
         "y": [
          12.2636815920398,
          15.597014925373134,
          2.6865671641791042,
          7.313432835820896
         ],
         "yaxis": "y"
        },
        {
         "alignmentgroup": "True",
         "hovertemplate": "Activities=Request For Payment SUBMITTED by EMPLOYEE<br>Trace length=%{x}<br>Percent count=%{y}<extra></extra>",
         "legendgroup": "Request For Payment SUBMITTED by EMPLOYEE",
         "marker": {
          "color": "#ab63fa",
          "pattern": {
           "shape": ""
          }
         },
         "name": "Request For Payment SUBMITTED by EMPLOYEE",
         "offsetgroup": "Request For Payment SUBMITTED by EMPLOYEE",
         "orientation": "v",
         "showlegend": true,
         "textposition": "auto",
         "type": "bar",
         "x": [
          4,
          6,
          8,
          10
         ],
         "xaxis": "x",
         "y": [
          10,
          2.2388059701492535,
          1.4427860696517412,
          0.9452736318407959
         ],
         "yaxis": "y"
        },
        {
         "alignmentgroup": "True",
         "hovertemplate": "Activities=Permit APPROVED by ADMINISTRATION<br>Trace length=%{x}<br>Percent count=%{y}<extra></extra>",
         "legendgroup": "Permit APPROVED by ADMINISTRATION",
         "marker": {
          "color": "#FFA15A",
          "pattern": {
           "shape": ""
          }
         },
         "name": "Permit APPROVED by ADMINISTRATION",
         "offsetgroup": "Permit APPROVED by ADMINISTRATION",
         "orientation": "v",
         "showlegend": true,
         "textposition": "auto",
         "type": "bar",
         "x": [
          4,
          6,
          8,
          10
         ],
         "xaxis": "x",
         "y": [
          6.169154228855722,
          0.6965174129353234,
          0.1990049751243781,
          0.12437810945273632
         ],
         "yaxis": "y"
        },
        {
         "alignmentgroup": "True",
         "hovertemplate": "Activities=Permit FINAL_APPROVED by DIRECTOR<br>Trace length=%{x}<br>Percent count=%{y}<extra></extra>",
         "legendgroup": "Permit FINAL_APPROVED by DIRECTOR",
         "marker": {
          "color": "#19d3f3",
          "pattern": {
           "shape": ""
          }
         },
         "name": "Permit FINAL_APPROVED by DIRECTOR",
         "offsetgroup": "Permit FINAL_APPROVED by DIRECTOR",
         "orientation": "v",
         "showlegend": true,
         "textposition": "auto",
         "type": "bar",
         "x": [
          4,
          6,
          8,
          10
         ],
         "xaxis": "x",
         "y": [
          3.656716417910448,
          0.7711442786069652,
          0.1990049751243781,
          0.12437810945273632
         ],
         "yaxis": "y"
        },
        {
         "alignmentgroup": "True",
         "hovertemplate": "Activities=Permit APPROVED by SUPERVISOR<br>Trace length=%{x}<br>Percent count=%{y}<extra></extra>",
         "legendgroup": "Permit APPROVED by SUPERVISOR",
         "marker": {
          "color": "#FF6692",
          "pattern": {
           "shape": ""
          }
         },
         "name": "Permit APPROVED by SUPERVISOR",
         "offsetgroup": "Permit APPROVED by SUPERVISOR",
         "orientation": "v",
         "showlegend": true,
         "textposition": "auto",
         "type": "bar",
         "x": [
          4,
          6,
          8,
          10
         ],
         "xaxis": "x",
         "y": [
          2.4875621890547266,
          0.1492537313432836,
          0.09950248756218905,
          0.04975124378109452
         ],
         "yaxis": "y"
        },
        {
         "alignmentgroup": "True",
         "hovertemplate": "Activities=Request For Payment FINAL_APPROVED by SUPERVISOR<br>Trace length=%{x}<br>Percent count=%{y}<extra></extra>",
         "legendgroup": "Request For Payment FINAL_APPROVED by SUPERVISOR",
         "marker": {
          "color": "#B6E880",
          "pattern": {
           "shape": ""
          }
         },
         "name": "Request For Payment FINAL_APPROVED by SUPERVISOR",
         "offsetgroup": "Request For Payment FINAL_APPROVED by SUPERVISOR",
         "orientation": "v",
         "showlegend": true,
         "textposition": "auto",
         "type": "bar",
         "x": [
          4,
          6,
          8,
          10
         ],
         "xaxis": "x",
         "y": [
          1.7412935323383085,
          8.109452736318408,
          3.880597014925373,
          1.0447761194029852
         ],
         "yaxis": "y"
        },
        {
         "alignmentgroup": "True",
         "hovertemplate": "Activities=Permit APPROVED by BUDGET OWNER<br>Trace length=%{x}<br>Percent count=%{y}<extra></extra>",
         "legendgroup": "Permit APPROVED by BUDGET OWNER",
         "marker": {
          "color": "#FF97FF",
          "pattern": {
           "shape": ""
          }
         },
         "name": "Permit APPROVED by BUDGET OWNER",
         "offsetgroup": "Permit APPROVED by BUDGET OWNER",
         "orientation": "v",
         "showlegend": true,
         "textposition": "auto",
         "type": "bar",
         "x": [
          4,
          6,
          8,
          10
         ],
         "xaxis": "x",
         "y": [
          1.5422885572139304,
          0.22388059701492538,
          0.5223880597014926,
          0.02487562189054726
         ],
         "yaxis": "y"
        },
        {
         "alignmentgroup": "True",
         "hovertemplate": "Activities=Request For Payment APPROVED by ADMINISTRATION<br>Trace length=%{x}<br>Percent count=%{y}<extra></extra>",
         "legendgroup": "Request For Payment APPROVED by ADMINISTRATION",
         "marker": {
          "color": "#FECB52",
          "pattern": {
           "shape": ""
          }
         },
         "name": "Request For Payment APPROVED by ADMINISTRATION",
         "offsetgroup": "Request For Payment APPROVED by ADMINISTRATION",
         "orientation": "v",
         "showlegend": true,
         "textposition": "auto",
         "type": "bar",
         "x": [
          4,
          6,
          8,
          10
         ],
         "xaxis": "x",
         "y": [
          1.5174129353233832,
          4.328358208955224,
          1.5671641791044775,
          1.4179104477611941
         ],
         "yaxis": "y"
        },
        {
         "alignmentgroup": "True",
         "hovertemplate": "Activities=Declaration SUBMITTED by EMPLOYEE<br>Trace length=%{x}<br>Percent count=%{y}<extra></extra>",
         "legendgroup": "Declaration SUBMITTED by EMPLOYEE",
         "marker": {
          "color": "#636efa",
          "pattern": {
           "shape": ""
          }
         },
         "name": "Declaration SUBMITTED by EMPLOYEE",
         "offsetgroup": "Declaration SUBMITTED by EMPLOYEE",
         "orientation": "v",
         "showlegend": true,
         "textposition": "auto",
         "type": "bar",
         "x": [
          4,
          6,
          8,
          10
         ],
         "xaxis": "x",
         "y": [
          1.3184079601990049,
          40.27363184079602,
          18.45771144278607,
          17.611940298507463
         ],
         "yaxis": "y"
        },
        {
         "alignmentgroup": "True",
         "hovertemplate": "Activities=Permit SUBMITTED by EMPLOYEE<br>Trace length=%{x}<br>Percent count=%{y}<extra></extra>",
         "legendgroup": "Permit SUBMITTED by EMPLOYEE",
         "marker": {
          "color": "#EF553B",
          "pattern": {
           "shape": ""
          }
         },
         "name": "Permit SUBMITTED by EMPLOYEE",
         "offsetgroup": "Permit SUBMITTED by EMPLOYEE",
         "orientation": "v",
         "showlegend": true,
         "textposition": "auto",
         "type": "bar",
         "x": [
          4,
          6,
          8,
          10
         ],
         "xaxis": "x",
         "y": [
          1.144278606965174,
          1.0945273631840797,
          0.17412935323383086,
          0.12437810945273632
         ],
         "yaxis": "y"
        },
        {
         "alignmentgroup": "True",
         "hovertemplate": "Activities=Permit REJECTED by EMPLOYEE<br>Trace length=%{x}<br>Percent count=%{y}<extra></extra>",
         "legendgroup": "Permit REJECTED by EMPLOYEE",
         "marker": {
          "color": "#00cc96",
          "pattern": {
           "shape": ""
          }
         },
         "name": "Permit REJECTED by EMPLOYEE",
         "offsetgroup": "Permit REJECTED by EMPLOYEE",
         "orientation": "v",
         "showlegend": true,
         "textposition": "auto",
         "type": "bar",
         "x": [
          4,
          6,
          8,
          10
         ],
         "xaxis": "x",
         "y": [
          0.9701492537313432,
          0.1990049751243781,
          0.12437810945273632,
          0.0746268656716418
         ],
         "yaxis": "y"
        },
        {
         "alignmentgroup": "True",
         "hovertemplate": "Activities=Permit APPROVED by PRE_APPROVER<br>Trace length=%{x}<br>Percent count=%{y}<extra></extra>",
         "legendgroup": "Permit APPROVED by PRE_APPROVER",
         "marker": {
          "color": "#ab63fa",
          "pattern": {
           "shape": ""
          }
         },
         "name": "Permit APPROVED by PRE_APPROVER",
         "offsetgroup": "Permit APPROVED by PRE_APPROVER",
         "orientation": "v",
         "showlegend": true,
         "textposition": "auto",
         "type": "bar",
         "x": [
          4,
          6,
          8
         ],
         "xaxis": "x",
         "y": [
          0.6218905472636816,
          0.1492537313432836,
          0.0746268656716418
         ],
         "yaxis": "y"
        },
        {
         "alignmentgroup": "True",
         "hovertemplate": "Activities=Permit REJECTED by ADMINISTRATION<br>Trace length=%{x}<br>Percent count=%{y}<extra></extra>",
         "legendgroup": "Permit REJECTED by ADMINISTRATION",
         "marker": {
          "color": "#FFA15A",
          "pattern": {
           "shape": ""
          }
         },
         "name": "Permit REJECTED by ADMINISTRATION",
         "offsetgroup": "Permit REJECTED by ADMINISTRATION",
         "orientation": "v",
         "showlegend": true,
         "textposition": "auto",
         "type": "bar",
         "x": [
          4,
          6,
          8
         ],
         "xaxis": "x",
         "y": [
          0.5223880597014926,
          0.02487562189054726,
          0.02487562189054726
         ],
         "yaxis": "y"
        },
        {
         "alignmentgroup": "True",
         "hovertemplate": "Activities=Permit REJECTED by SUPERVISOR<br>Trace length=%{x}<br>Percent count=%{y}<extra></extra>",
         "legendgroup": "Permit REJECTED by SUPERVISOR",
         "marker": {
          "color": "#19d3f3",
          "pattern": {
           "shape": ""
          }
         },
         "name": "Permit REJECTED by SUPERVISOR",
         "offsetgroup": "Permit REJECTED by SUPERVISOR",
         "orientation": "v",
         "showlegend": true,
         "textposition": "auto",
         "type": "bar",
         "x": [
          4,
          6
         ],
         "xaxis": "x",
         "y": [
          0.2985074626865672,
          0.09950248756218905
         ],
         "yaxis": "y"
        },
        {
         "alignmentgroup": "True",
         "hovertemplate": "Activities=Request For Payment APPROVED by PRE_APPROVER<br>Trace length=%{x}<br>Percent count=%{y}<extra></extra>",
         "legendgroup": "Request For Payment APPROVED by PRE_APPROVER",
         "marker": {
          "color": "#FF6692",
          "pattern": {
           "shape": ""
          }
         },
         "name": "Request For Payment APPROVED by PRE_APPROVER",
         "offsetgroup": "Request For Payment APPROVED by PRE_APPROVER",
         "orientation": "v",
         "showlegend": true,
         "textposition": "auto",
         "type": "bar",
         "x": [
          4,
          6,
          8,
          10
         ],
         "xaxis": "x",
         "y": [
          0.2985074626865672,
          0.17412935323383086,
          0.1492537313432836,
          0.27363184079601993
         ],
         "yaxis": "y"
        },
        {
         "alignmentgroup": "True",
         "hovertemplate": "Activities=Permit REJECTED by MISSING<br>Trace length=%{x}<br>Percent count=%{y}<extra></extra>",
         "legendgroup": "Permit REJECTED by MISSING",
         "marker": {
          "color": "#B6E880",
          "pattern": {
           "shape": ""
          }
         },
         "name": "Permit REJECTED by MISSING",
         "offsetgroup": "Permit REJECTED by MISSING",
         "orientation": "v",
         "showlegend": true,
         "textposition": "auto",
         "type": "bar",
         "x": [
          4,
          6,
          8,
          10
         ],
         "xaxis": "x",
         "y": [
          0.17412935323383086,
          0.0746268656716418,
          0.09950248756218905,
          0.02487562189054726
         ],
         "yaxis": "y"
        },
        {
         "alignmentgroup": "True",
         "hovertemplate": "Activities=Permit REJECTED by PRE_APPROVER<br>Trace length=%{x}<br>Percent count=%{y}<extra></extra>",
         "legendgroup": "Permit REJECTED by PRE_APPROVER",
         "marker": {
          "color": "#FF97FF",
          "pattern": {
           "shape": ""
          }
         },
         "name": "Permit REJECTED by PRE_APPROVER",
         "offsetgroup": "Permit REJECTED by PRE_APPROVER",
         "orientation": "v",
         "showlegend": true,
         "textposition": "auto",
         "type": "bar",
         "x": [
          4
         ],
         "xaxis": "x",
         "y": [
          0.09950248756218905
         ],
         "yaxis": "y"
        },
        {
         "alignmentgroup": "True",
         "hovertemplate": "Activities=Request For Payment REJECTED by ADMINISTRATION<br>Trace length=%{x}<br>Percent count=%{y}<extra></extra>",
         "legendgroup": "Request For Payment REJECTED by ADMINISTRATION",
         "marker": {
          "color": "#FECB52",
          "pattern": {
           "shape": ""
          }
         },
         "name": "Request For Payment REJECTED by ADMINISTRATION",
         "offsetgroup": "Request For Payment REJECTED by ADMINISTRATION",
         "orientation": "v",
         "showlegend": true,
         "textposition": "auto",
         "type": "bar",
         "x": [
          4,
          6,
          8,
          10
         ],
         "xaxis": "x",
         "y": [
          0.09950248756218905,
          0.2985074626865672,
          0.17412935323383086,
          0.09950248756218905
         ],
         "yaxis": "y"
        },
        {
         "alignmentgroup": "True",
         "hovertemplate": "Activities=Declaration SAVED by EMPLOYEE<br>Trace length=%{x}<br>Percent count=%{y}<extra></extra>",
         "legendgroup": "Declaration SAVED by EMPLOYEE",
         "marker": {
          "color": "#636efa",
          "pattern": {
           "shape": ""
          }
         },
         "name": "Declaration SAVED by EMPLOYEE",
         "offsetgroup": "Declaration SAVED by EMPLOYEE",
         "orientation": "v",
         "showlegend": true,
         "textposition": "auto",
         "type": "bar",
         "x": [
          4,
          6,
          8,
          10
         ],
         "xaxis": "x",
         "y": [
          0.0746268656716418,
          0.09950248756218905,
          0.02487562189054726,
          0.0746268656716418
         ],
         "yaxis": "y"
        },
        {
         "alignmentgroup": "True",
         "hovertemplate": "Activities=Request For Payment SAVED by EMPLOYEE<br>Trace length=%{x}<br>Percent count=%{y}<extra></extra>",
         "legendgroup": "Request For Payment SAVED by EMPLOYEE",
         "marker": {
          "color": "#EF553B",
          "pattern": {
           "shape": ""
          }
         },
         "name": "Request For Payment SAVED by EMPLOYEE",
         "offsetgroup": "Request For Payment SAVED by EMPLOYEE",
         "orientation": "v",
         "showlegend": true,
         "textposition": "auto",
         "type": "bar",
         "x": [
          4,
          6
         ],
         "xaxis": "x",
         "y": [
          0.04975124378109452,
          0.02487562189054726
         ],
         "yaxis": "y"
        },
        {
         "alignmentgroup": "True",
         "hovertemplate": "Activities=Declaration FINAL_APPROVED by SUPERVISOR<br>Trace length=%{x}<br>Percent count=%{y}<extra></extra>",
         "legendgroup": "Declaration FINAL_APPROVED by SUPERVISOR",
         "marker": {
          "color": "#00cc96",
          "pattern": {
           "shape": ""
          }
         },
         "name": "Declaration FINAL_APPROVED by SUPERVISOR",
         "offsetgroup": "Declaration FINAL_APPROVED by SUPERVISOR",
         "orientation": "v",
         "showlegend": true,
         "textposition": "auto",
         "type": "bar",
         "x": [
          4,
          6,
          8,
          10
         ],
         "xaxis": "x",
         "y": [
          0.02487562189054726,
          10.024875621890548,
          39.5273631840796,
          54.30348258706468
         ],
         "yaxis": "y"
        },
        {
         "alignmentgroup": "True",
         "hovertemplate": "Activities=Permit REJECTED by BUDGET OWNER<br>Trace length=%{x}<br>Percent count=%{y}<extra></extra>",
         "legendgroup": "Permit REJECTED by BUDGET OWNER",
         "marker": {
          "color": "#ab63fa",
          "pattern": {
           "shape": ""
          }
         },
         "name": "Permit REJECTED by BUDGET OWNER",
         "offsetgroup": "Permit REJECTED by BUDGET OWNER",
         "orientation": "v",
         "showlegend": true,
         "textposition": "auto",
         "type": "bar",
         "x": [
          4,
          8
         ],
         "xaxis": "x",
         "y": [
          0.02487562189054726,
          0.09950248756218905
         ],
         "yaxis": "y"
        },
        {
         "alignmentgroup": "True",
         "hovertemplate": "Activities=Send Reminder<br>Trace length=%{x}<br>Percent count=%{y}<extra></extra>",
         "legendgroup": "Send Reminder",
         "marker": {
          "color": "#FFA15A",
          "pattern": {
           "shape": ""
          }
         },
         "name": "Send Reminder",
         "offsetgroup": "Send Reminder",
         "orientation": "v",
         "showlegend": true,
         "textposition": "auto",
         "type": "bar",
         "x": [
          6,
          8,
          10
         ],
         "xaxis": "x",
         "y": [
          2.6368159203980097,
          0.24875621890547264,
          0.12437810945273632
         ],
         "yaxis": "y"
        },
        {
         "alignmentgroup": "True",
         "hovertemplate": "Activities=Declaration APPROVED by ADMINISTRATION<br>Trace length=%{x}<br>Percent count=%{y}<extra></extra>",
         "legendgroup": "Declaration APPROVED by ADMINISTRATION",
         "marker": {
          "color": "#19d3f3",
          "pattern": {
           "shape": ""
          }
         },
         "name": "Declaration APPROVED by ADMINISTRATION",
         "offsetgroup": "Declaration APPROVED by ADMINISTRATION",
         "orientation": "v",
         "showlegend": true,
         "textposition": "auto",
         "type": "bar",
         "x": [
          6,
          8,
          10
         ],
         "xaxis": "x",
         "y": [
          1.4427860696517412,
          14.129353233830846,
          1.8905472636815919
         ],
         "yaxis": "y"
        },
        {
         "alignmentgroup": "True",
         "hovertemplate": "Activities=Payment Handled<br>Trace length=%{x}<br>Percent count=%{y}<extra></extra>",
         "legendgroup": "Payment Handled",
         "marker": {
          "color": "#FF6692",
          "pattern": {
           "shape": ""
          }
         },
         "name": "Payment Handled",
         "offsetgroup": "Payment Handled",
         "orientation": "v",
         "showlegend": true,
         "textposition": "auto",
         "type": "bar",
         "x": [
          6,
          8,
          10
         ],
         "xaxis": "x",
         "y": [
          1.3681592039800996,
          7.636815920398011,
          3.8308457711442783
         ],
         "yaxis": "y"
        },
        {
         "alignmentgroup": "True",
         "hovertemplate": "Activities=Declaration APPROVED by PRE_APPROVER<br>Trace length=%{x}<br>Percent count=%{y}<extra></extra>",
         "legendgroup": "Declaration APPROVED by PRE_APPROVER",
         "marker": {
          "color": "#B6E880",
          "pattern": {
           "shape": ""
          }
         },
         "name": "Declaration APPROVED by PRE_APPROVER",
         "offsetgroup": "Declaration APPROVED by PRE_APPROVER",
         "orientation": "v",
         "showlegend": true,
         "textposition": "auto",
         "type": "bar",
         "x": [
          6,
          8,
          10
         ],
         "xaxis": "x",
         "y": [
          0.8706467661691543,
          0.3731343283582089,
          0.5223880597014926
         ],
         "yaxis": "y"
        },
        {
         "alignmentgroup": "True",
         "hovertemplate": "Activities=Request For Payment REJECTED by EMPLOYEE<br>Trace length=%{x}<br>Percent count=%{y}<extra></extra>",
         "legendgroup": "Request For Payment REJECTED by EMPLOYEE",
         "marker": {
          "color": "#FF97FF",
          "pattern": {
           "shape": ""
          }
         },
         "name": "Request For Payment REJECTED by EMPLOYEE",
         "offsetgroup": "Request For Payment REJECTED by EMPLOYEE",
         "orientation": "v",
         "showlegend": true,
         "textposition": "auto",
         "type": "bar",
         "x": [
          6,
          8,
          10
         ],
         "xaxis": "x",
         "y": [
          0.7462686567164178,
          0.3731343283582089,
          0.1990049751243781
         ],
         "yaxis": "y"
        },
        {
         "alignmentgroup": "True",
         "hovertemplate": "Activities=Request Payment<br>Trace length=%{x}<br>Percent count=%{y}<extra></extra>",
         "legendgroup": "Request Payment",
         "marker": {
          "color": "#FECB52",
          "pattern": {
           "shape": ""
          }
         },
         "name": "Request Payment",
         "offsetgroup": "Request Payment",
         "orientation": "v",
         "showlegend": true,
         "textposition": "auto",
         "type": "bar",
         "x": [
          6,
          8,
          10
         ],
         "xaxis": "x",
         "y": [
          0.7462686567164178,
          2.014925373134328,
          2.8606965174129355
         ],
         "yaxis": "y"
        },
        {
         "alignmentgroup": "True",
         "hovertemplate": "Activities=Request For Payment APPROVED by BUDGET OWNER<br>Trace length=%{x}<br>Percent count=%{y}<extra></extra>",
         "legendgroup": "Request For Payment APPROVED by BUDGET OWNER",
         "marker": {
          "color": "#636efa",
          "pattern": {
           "shape": ""
          }
         },
         "name": "Request For Payment APPROVED by BUDGET OWNER",
         "offsetgroup": "Request For Payment APPROVED by BUDGET OWNER",
         "orientation": "v",
         "showlegend": true,
         "textposition": "auto",
         "type": "bar",
         "x": [
          6,
          8,
          10
         ],
         "xaxis": "x",
         "y": [
          0.7213930348258706,
          0.6965174129353234,
          0.7960199004975124
         ],
         "yaxis": "y"
        },
        {
         "alignmentgroup": "True",
         "hovertemplate": "Activities=Request For Payment FINAL_APPROVED by DIRECTOR<br>Trace length=%{x}<br>Percent count=%{y}<extra></extra>",
         "legendgroup": "Request For Payment FINAL_APPROVED by DIRECTOR",
         "marker": {
          "color": "#EF553B",
          "pattern": {
           "shape": ""
          }
         },
         "name": "Request For Payment FINAL_APPROVED by DIRECTOR",
         "offsetgroup": "Request For Payment FINAL_APPROVED by DIRECTOR",
         "orientation": "v",
         "showlegend": true,
         "textposition": "auto",
         "type": "bar",
         "x": [
          6,
          8,
          10
         ],
         "xaxis": "x",
         "y": [
          0.0746268656716418,
          0.1492537313432836,
          0.09950248756218905
         ],
         "yaxis": "y"
        },
        {
         "alignmentgroup": "True",
         "hovertemplate": "Activities=Request For Payment REJECTED by SUPERVISOR<br>Trace length=%{x}<br>Percent count=%{y}<extra></extra>",
         "legendgroup": "Request For Payment REJECTED by SUPERVISOR",
         "marker": {
          "color": "#00cc96",
          "pattern": {
           "shape": ""
          }
         },
         "name": "Request For Payment REJECTED by SUPERVISOR",
         "offsetgroup": "Request For Payment REJECTED by SUPERVISOR",
         "orientation": "v",
         "showlegend": true,
         "textposition": "auto",
         "type": "bar",
         "x": [
          6,
          10
         ],
         "xaxis": "x",
         "y": [
          0.0746268656716418,
          0.02487562189054726
         ],
         "yaxis": "y"
        },
        {
         "alignmentgroup": "True",
         "hovertemplate": "Activities=Declaration APPROVED by SUPERVISOR<br>Trace length=%{x}<br>Percent count=%{y}<extra></extra>",
         "legendgroup": "Declaration APPROVED by SUPERVISOR",
         "marker": {
          "color": "#ab63fa",
          "pattern": {
           "shape": ""
          }
         },
         "name": "Declaration APPROVED by SUPERVISOR",
         "offsetgroup": "Declaration APPROVED by SUPERVISOR",
         "orientation": "v",
         "showlegend": true,
         "textposition": "auto",
         "type": "bar",
         "x": [
          6,
          8,
          10
         ],
         "xaxis": "x",
         "y": [
          0.04975124378109452,
          0.24875621890547264,
          0.27363184079601993
         ],
         "yaxis": "y"
        },
        {
         "alignmentgroup": "True",
         "hovertemplate": "Activities=Request For Payment APPROVED by SUPERVISOR<br>Trace length=%{x}<br>Percent count=%{y}<extra></extra>",
         "legendgroup": "Request For Payment APPROVED by SUPERVISOR",
         "marker": {
          "color": "#FFA15A",
          "pattern": {
           "shape": ""
          }
         },
         "name": "Request For Payment APPROVED by SUPERVISOR",
         "offsetgroup": "Request For Payment APPROVED by SUPERVISOR",
         "orientation": "v",
         "showlegend": true,
         "textposition": "auto",
         "type": "bar",
         "x": [
          6,
          8,
          10
         ],
         "xaxis": "x",
         "y": [
          0.04975124378109452,
          0.0746268656716418,
          0.04975124378109452
         ],
         "yaxis": "y"
        },
        {
         "alignmentgroup": "True",
         "hovertemplate": "Activities=Request For Payment REJECTED by BUDGET OWNER<br>Trace length=%{x}<br>Percent count=%{y}<extra></extra>",
         "legendgroup": "Request For Payment REJECTED by BUDGET OWNER",
         "marker": {
          "color": "#19d3f3",
          "pattern": {
           "shape": ""
          }
         },
         "name": "Request For Payment REJECTED by BUDGET OWNER",
         "offsetgroup": "Request For Payment REJECTED by BUDGET OWNER",
         "orientation": "v",
         "showlegend": true,
         "textposition": "auto",
         "type": "bar",
         "x": [
          6
         ],
         "xaxis": "x",
         "y": [
          0.02487562189054726
         ],
         "yaxis": "y"
        },
        {
         "alignmentgroup": "True",
         "hovertemplate": "Activities=Declaration FINAL_APPROVED by DIRECTOR<br>Trace length=%{x}<br>Percent count=%{y}<extra></extra>",
         "legendgroup": "Declaration FINAL_APPROVED by DIRECTOR",
         "marker": {
          "color": "#FF6692",
          "pattern": {
           "shape": ""
          }
         },
         "name": "Declaration FINAL_APPROVED by DIRECTOR",
         "offsetgroup": "Declaration FINAL_APPROVED by DIRECTOR",
         "orientation": "v",
         "showlegend": true,
         "textposition": "auto",
         "type": "bar",
         "x": [
          8,
          10
         ],
         "xaxis": "x",
         "y": [
          1.3432835820895521,
          2.064676616915423
         ],
         "yaxis": "y"
        },
        {
         "alignmentgroup": "True",
         "hovertemplate": "Activities=Declaration APPROVED by BUDGET OWNER<br>Trace length=%{x}<br>Percent count=%{y}<extra></extra>",
         "legendgroup": "Declaration APPROVED by BUDGET OWNER",
         "marker": {
          "color": "#B6E880",
          "pattern": {
           "shape": ""
          }
         },
         "name": "Declaration APPROVED by BUDGET OWNER",
         "offsetgroup": "Declaration APPROVED by BUDGET OWNER",
         "orientation": "v",
         "showlegend": true,
         "textposition": "auto",
         "type": "bar",
         "x": [
          8,
          10
         ],
         "xaxis": "x",
         "y": [
          1.0447761194029852,
          1.8905472636815919
         ],
         "yaxis": "y"
        },
        {
         "alignmentgroup": "True",
         "hovertemplate": "Activities=Request For Payment REJECTED by PRE_APPROVER<br>Trace length=%{x}<br>Percent count=%{y}<extra></extra>",
         "legendgroup": "Request For Payment REJECTED by PRE_APPROVER",
         "marker": {
          "color": "#FF97FF",
          "pattern": {
           "shape": ""
          }
         },
         "name": "Request For Payment REJECTED by PRE_APPROVER",
         "offsetgroup": "Request For Payment REJECTED by PRE_APPROVER",
         "orientation": "v",
         "showlegend": true,
         "textposition": "auto",
         "type": "bar",
         "x": [
          8,
          10
         ],
         "xaxis": "x",
         "y": [
          0.0746268656716418,
          0.02487562189054726
         ],
         "yaxis": "y"
        },
        {
         "alignmentgroup": "True",
         "hovertemplate": "Activities=Request For Payment REJECTED by MISSING<br>Trace length=%{x}<br>Percent count=%{y}<extra></extra>",
         "legendgroup": "Request For Payment REJECTED by MISSING",
         "marker": {
          "color": "#FECB52",
          "pattern": {
           "shape": ""
          }
         },
         "name": "Request For Payment REJECTED by MISSING",
         "offsetgroup": "Request For Payment REJECTED by MISSING",
         "orientation": "v",
         "showlegend": true,
         "textposition": "auto",
         "type": "bar",
         "x": [
          8
         ],
         "xaxis": "x",
         "y": [
          0.02487562189054726
         ],
         "yaxis": "y"
        }
       ],
       "layout": {
        "barmode": "relative",
        "legend": {
         "title": {
          "text": "Activities"
         },
         "tracegroupgap": 0
        },
        "template": {
         "data": {
          "bar": [
           {
            "error_x": {
             "color": "#2a3f5f"
            },
            "error_y": {
             "color": "#2a3f5f"
            },
            "marker": {
             "line": {
              "color": "#E5ECF6",
              "width": 0.5
             },
             "pattern": {
              "fillmode": "overlay",
              "size": 10,
              "solidity": 0.2
             }
            },
            "type": "bar"
           }
          ],
          "barpolar": [
           {
            "marker": {
             "line": {
              "color": "#E5ECF6",
              "width": 0.5
             },
             "pattern": {
              "fillmode": "overlay",
              "size": 10,
              "solidity": 0.2
             }
            },
            "type": "barpolar"
           }
          ],
          "carpet": [
           {
            "aaxis": {
             "endlinecolor": "#2a3f5f",
             "gridcolor": "white",
             "linecolor": "white",
             "minorgridcolor": "white",
             "startlinecolor": "#2a3f5f"
            },
            "baxis": {
             "endlinecolor": "#2a3f5f",
             "gridcolor": "white",
             "linecolor": "white",
             "minorgridcolor": "white",
             "startlinecolor": "#2a3f5f"
            },
            "type": "carpet"
           }
          ],
          "choropleth": [
           {
            "colorbar": {
             "outlinewidth": 0,
             "ticks": ""
            },
            "type": "choropleth"
           }
          ],
          "contour": [
           {
            "colorbar": {
             "outlinewidth": 0,
             "ticks": ""
            },
            "colorscale": [
             [
              0,
              "#0d0887"
             ],
             [
              0.1111111111111111,
              "#46039f"
             ],
             [
              0.2222222222222222,
              "#7201a8"
             ],
             [
              0.3333333333333333,
              "#9c179e"
             ],
             [
              0.4444444444444444,
              "#bd3786"
             ],
             [
              0.5555555555555556,
              "#d8576b"
             ],
             [
              0.6666666666666666,
              "#ed7953"
             ],
             [
              0.7777777777777778,
              "#fb9f3a"
             ],
             [
              0.8888888888888888,
              "#fdca26"
             ],
             [
              1,
              "#f0f921"
             ]
            ],
            "type": "contour"
           }
          ],
          "contourcarpet": [
           {
            "colorbar": {
             "outlinewidth": 0,
             "ticks": ""
            },
            "type": "contourcarpet"
           }
          ],
          "heatmap": [
           {
            "colorbar": {
             "outlinewidth": 0,
             "ticks": ""
            },
            "colorscale": [
             [
              0,
              "#0d0887"
             ],
             [
              0.1111111111111111,
              "#46039f"
             ],
             [
              0.2222222222222222,
              "#7201a8"
             ],
             [
              0.3333333333333333,
              "#9c179e"
             ],
             [
              0.4444444444444444,
              "#bd3786"
             ],
             [
              0.5555555555555556,
              "#d8576b"
             ],
             [
              0.6666666666666666,
              "#ed7953"
             ],
             [
              0.7777777777777778,
              "#fb9f3a"
             ],
             [
              0.8888888888888888,
              "#fdca26"
             ],
             [
              1,
              "#f0f921"
             ]
            ],
            "type": "heatmap"
           }
          ],
          "heatmapgl": [
           {
            "colorbar": {
             "outlinewidth": 0,
             "ticks": ""
            },
            "colorscale": [
             [
              0,
              "#0d0887"
             ],
             [
              0.1111111111111111,
              "#46039f"
             ],
             [
              0.2222222222222222,
              "#7201a8"
             ],
             [
              0.3333333333333333,
              "#9c179e"
             ],
             [
              0.4444444444444444,
              "#bd3786"
             ],
             [
              0.5555555555555556,
              "#d8576b"
             ],
             [
              0.6666666666666666,
              "#ed7953"
             ],
             [
              0.7777777777777778,
              "#fb9f3a"
             ],
             [
              0.8888888888888888,
              "#fdca26"
             ],
             [
              1,
              "#f0f921"
             ]
            ],
            "type": "heatmapgl"
           }
          ],
          "histogram": [
           {
            "marker": {
             "pattern": {
              "fillmode": "overlay",
              "size": 10,
              "solidity": 0.2
             }
            },
            "type": "histogram"
           }
          ],
          "histogram2d": [
           {
            "colorbar": {
             "outlinewidth": 0,
             "ticks": ""
            },
            "colorscale": [
             [
              0,
              "#0d0887"
             ],
             [
              0.1111111111111111,
              "#46039f"
             ],
             [
              0.2222222222222222,
              "#7201a8"
             ],
             [
              0.3333333333333333,
              "#9c179e"
             ],
             [
              0.4444444444444444,
              "#bd3786"
             ],
             [
              0.5555555555555556,
              "#d8576b"
             ],
             [
              0.6666666666666666,
              "#ed7953"
             ],
             [
              0.7777777777777778,
              "#fb9f3a"
             ],
             [
              0.8888888888888888,
              "#fdca26"
             ],
             [
              1,
              "#f0f921"
             ]
            ],
            "type": "histogram2d"
           }
          ],
          "histogram2dcontour": [
           {
            "colorbar": {
             "outlinewidth": 0,
             "ticks": ""
            },
            "colorscale": [
             [
              0,
              "#0d0887"
             ],
             [
              0.1111111111111111,
              "#46039f"
             ],
             [
              0.2222222222222222,
              "#7201a8"
             ],
             [
              0.3333333333333333,
              "#9c179e"
             ],
             [
              0.4444444444444444,
              "#bd3786"
             ],
             [
              0.5555555555555556,
              "#d8576b"
             ],
             [
              0.6666666666666666,
              "#ed7953"
             ],
             [
              0.7777777777777778,
              "#fb9f3a"
             ],
             [
              0.8888888888888888,
              "#fdca26"
             ],
             [
              1,
              "#f0f921"
             ]
            ],
            "type": "histogram2dcontour"
           }
          ],
          "mesh3d": [
           {
            "colorbar": {
             "outlinewidth": 0,
             "ticks": ""
            },
            "type": "mesh3d"
           }
          ],
          "parcoords": [
           {
            "line": {
             "colorbar": {
              "outlinewidth": 0,
              "ticks": ""
             }
            },
            "type": "parcoords"
           }
          ],
          "pie": [
           {
            "automargin": true,
            "type": "pie"
           }
          ],
          "scatter": [
           {
            "fillpattern": {
             "fillmode": "overlay",
             "size": 10,
             "solidity": 0.2
            },
            "type": "scatter"
           }
          ],
          "scatter3d": [
           {
            "line": {
             "colorbar": {
              "outlinewidth": 0,
              "ticks": ""
             }
            },
            "marker": {
             "colorbar": {
              "outlinewidth": 0,
              "ticks": ""
             }
            },
            "type": "scatter3d"
           }
          ],
          "scattercarpet": [
           {
            "marker": {
             "colorbar": {
              "outlinewidth": 0,
              "ticks": ""
             }
            },
            "type": "scattercarpet"
           }
          ],
          "scattergeo": [
           {
            "marker": {
             "colorbar": {
              "outlinewidth": 0,
              "ticks": ""
             }
            },
            "type": "scattergeo"
           }
          ],
          "scattergl": [
           {
            "marker": {
             "colorbar": {
              "outlinewidth": 0,
              "ticks": ""
             }
            },
            "type": "scattergl"
           }
          ],
          "scattermapbox": [
           {
            "marker": {
             "colorbar": {
              "outlinewidth": 0,
              "ticks": ""
             }
            },
            "type": "scattermapbox"
           }
          ],
          "scatterpolar": [
           {
            "marker": {
             "colorbar": {
              "outlinewidth": 0,
              "ticks": ""
             }
            },
            "type": "scatterpolar"
           }
          ],
          "scatterpolargl": [
           {
            "marker": {
             "colorbar": {
              "outlinewidth": 0,
              "ticks": ""
             }
            },
            "type": "scatterpolargl"
           }
          ],
          "scatterternary": [
           {
            "marker": {
             "colorbar": {
              "outlinewidth": 0,
              "ticks": ""
             }
            },
            "type": "scatterternary"
           }
          ],
          "surface": [
           {
            "colorbar": {
             "outlinewidth": 0,
             "ticks": ""
            },
            "colorscale": [
             [
              0,
              "#0d0887"
             ],
             [
              0.1111111111111111,
              "#46039f"
             ],
             [
              0.2222222222222222,
              "#7201a8"
             ],
             [
              0.3333333333333333,
              "#9c179e"
             ],
             [
              0.4444444444444444,
              "#bd3786"
             ],
             [
              0.5555555555555556,
              "#d8576b"
             ],
             [
              0.6666666666666666,
              "#ed7953"
             ],
             [
              0.7777777777777778,
              "#fb9f3a"
             ],
             [
              0.8888888888888888,
              "#fdca26"
             ],
             [
              1,
              "#f0f921"
             ]
            ],
            "type": "surface"
           }
          ],
          "table": [
           {
            "cells": {
             "fill": {
              "color": "#EBF0F8"
             },
             "line": {
              "color": "white"
             }
            },
            "header": {
             "fill": {
              "color": "#C8D4E3"
             },
             "line": {
              "color": "white"
             }
            },
            "type": "table"
           }
          ]
         },
         "layout": {
          "annotationdefaults": {
           "arrowcolor": "#2a3f5f",
           "arrowhead": 0,
           "arrowwidth": 1
          },
          "autotypenumbers": "strict",
          "coloraxis": {
           "colorbar": {
            "outlinewidth": 0,
            "ticks": ""
           }
          },
          "colorscale": {
           "diverging": [
            [
             0,
             "#8e0152"
            ],
            [
             0.1,
             "#c51b7d"
            ],
            [
             0.2,
             "#de77ae"
            ],
            [
             0.3,
             "#f1b6da"
            ],
            [
             0.4,
             "#fde0ef"
            ],
            [
             0.5,
             "#f7f7f7"
            ],
            [
             0.6,
             "#e6f5d0"
            ],
            [
             0.7,
             "#b8e186"
            ],
            [
             0.8,
             "#7fbc41"
            ],
            [
             0.9,
             "#4d9221"
            ],
            [
             1,
             "#276419"
            ]
           ],
           "sequential": [
            [
             0,
             "#0d0887"
            ],
            [
             0.1111111111111111,
             "#46039f"
            ],
            [
             0.2222222222222222,
             "#7201a8"
            ],
            [
             0.3333333333333333,
             "#9c179e"
            ],
            [
             0.4444444444444444,
             "#bd3786"
            ],
            [
             0.5555555555555556,
             "#d8576b"
            ],
            [
             0.6666666666666666,
             "#ed7953"
            ],
            [
             0.7777777777777778,
             "#fb9f3a"
            ],
            [
             0.8888888888888888,
             "#fdca26"
            ],
            [
             1,
             "#f0f921"
            ]
           ],
           "sequentialminus": [
            [
             0,
             "#0d0887"
            ],
            [
             0.1111111111111111,
             "#46039f"
            ],
            [
             0.2222222222222222,
             "#7201a8"
            ],
            [
             0.3333333333333333,
             "#9c179e"
            ],
            [
             0.4444444444444444,
             "#bd3786"
            ],
            [
             0.5555555555555556,
             "#d8576b"
            ],
            [
             0.6666666666666666,
             "#ed7953"
            ],
            [
             0.7777777777777778,
             "#fb9f3a"
            ],
            [
             0.8888888888888888,
             "#fdca26"
            ],
            [
             1,
             "#f0f921"
            ]
           ]
          },
          "colorway": [
           "#636efa",
           "#EF553B",
           "#00cc96",
           "#ab63fa",
           "#FFA15A",
           "#19d3f3",
           "#FF6692",
           "#B6E880",
           "#FF97FF",
           "#FECB52"
          ],
          "font": {
           "color": "#2a3f5f"
          },
          "geo": {
           "bgcolor": "white",
           "lakecolor": "white",
           "landcolor": "#E5ECF6",
           "showlakes": true,
           "showland": true,
           "subunitcolor": "white"
          },
          "hoverlabel": {
           "align": "left"
          },
          "hovermode": "closest",
          "mapbox": {
           "style": "light"
          },
          "paper_bgcolor": "white",
          "plot_bgcolor": "#E5ECF6",
          "polar": {
           "angularaxis": {
            "gridcolor": "white",
            "linecolor": "white",
            "ticks": ""
           },
           "bgcolor": "#E5ECF6",
           "radialaxis": {
            "gridcolor": "white",
            "linecolor": "white",
            "ticks": ""
           }
          },
          "scene": {
           "xaxis": {
            "backgroundcolor": "#E5ECF6",
            "gridcolor": "white",
            "gridwidth": 2,
            "linecolor": "white",
            "showbackground": true,
            "ticks": "",
            "zerolinecolor": "white"
           },
           "yaxis": {
            "backgroundcolor": "#E5ECF6",
            "gridcolor": "white",
            "gridwidth": 2,
            "linecolor": "white",
            "showbackground": true,
            "ticks": "",
            "zerolinecolor": "white"
           },
           "zaxis": {
            "backgroundcolor": "#E5ECF6",
            "gridcolor": "white",
            "gridwidth": 2,
            "linecolor": "white",
            "showbackground": true,
            "ticks": "",
            "zerolinecolor": "white"
           }
          },
          "shapedefaults": {
           "line": {
            "color": "#2a3f5f"
           }
          },
          "ternary": {
           "aaxis": {
            "gridcolor": "white",
            "linecolor": "white",
            "ticks": ""
           },
           "baxis": {
            "gridcolor": "white",
            "linecolor": "white",
            "ticks": ""
           },
           "bgcolor": "#E5ECF6",
           "caxis": {
            "gridcolor": "white",
            "linecolor": "white",
            "ticks": ""
           }
          },
          "title": {
           "x": 0.05
          },
          "xaxis": {
           "automargin": true,
           "gridcolor": "white",
           "linecolor": "white",
           "ticks": "",
           "title": {
            "standoff": 15
           },
           "zerolinecolor": "white",
           "zerolinewidth": 2
          },
          "yaxis": {
           "automargin": true,
           "gridcolor": "white",
           "linecolor": "white",
           "ticks": "",
           "title": {
            "standoff": 15
           },
           "zerolinecolor": "white",
           "zerolinewidth": 2
          }
         }
        },
        "title": {
         "text": "Comparison of Final Activity for Different Trace Lengths",
         "x": 0.3
        },
        "xaxis": {
         "anchor": "y",
         "domain": [
          0,
          1
         ],
         "tickvals": [
          4,
          6,
          8,
          10
         ],
         "title": {
          "text": "Trace Length (number of activities from start)"
         }
        },
        "yaxis": {
         "anchor": "x",
         "domain": [
          0,
          1
         ],
         "title": {
          "text": "Percentage of Traces Ending in Acitivity (%)"
         }
        }
       }
      }
     },
     "metadata": {},
     "output_type": "display_data"
    }
   ],
   "source": [
    "# plot the distribution\n",
    "import plotly.express as px\n",
    "fig = px.bar(df_dist, x=\"Trace length\", y=\"Percent count\", color=\"Activities\", title=\"Comparison of Final Activity for Different Trace Lengths\")\n",
    "fig.update_layout(xaxis_title=\"Trace Length (number of activities from start)\", yaxis_title=\"Percentage of Traces Ending in Acitivity (%)\")\n",
    "fig.update_xaxes(tickvals=[4,6,8,10])\n",
    "fig.update_layout(title_x=0.3)\n",
    "fig.show()\n",
    "fig.write_html(\"../docs/activity_vs_trace_length_distribution.html\")"
   ]
  },
  {
   "cell_type": "code",
   "execution_count": 50,
   "metadata": {},
   "outputs": [
    {
     "data": {
      "application/vnd.plotly.v1+json": {
       "config": {
        "plotlyServerURL": "https://plot.ly"
       },
       "data": [
        {
         "alignmentgroup": "True",
         "hovertemplate": "Activities=Declaration FINAL_APPROVED by SUPERVISOR<br>Trace length=%{x}<br>Percent count=%{y}<extra></extra>",
         "legendgroup": "Declaration FINAL_APPROVED by SUPERVISOR",
         "marker": {
          "color": "rgb(102, 197, 204)",
          "pattern": {
           "shape": ""
          }
         },
         "name": "Declaration FINAL_APPROVED by SUPERVISOR",
         "offsetgroup": "Declaration FINAL_APPROVED by SUPERVISOR",
         "orientation": "v",
         "showlegend": true,
         "textposition": "auto",
         "type": "bar",
         "x": [
          10,
          8,
          6
         ],
         "xaxis": "x",
         "y": [
          54.30348258706468,
          39.5273631840796,
          10.024875621890548
         ],
         "yaxis": "y"
        },
        {
         "alignmentgroup": "True",
         "hovertemplate": "Activities=Declaration SUBMITTED by EMPLOYEE<br>Trace length=%{x}<br>Percent count=%{y}<extra></extra>",
         "legendgroup": "Declaration SUBMITTED by EMPLOYEE",
         "marker": {
          "color": "rgb(246, 207, 113)",
          "pattern": {
           "shape": ""
          }
         },
         "name": "Declaration SUBMITTED by EMPLOYEE",
         "offsetgroup": "Declaration SUBMITTED by EMPLOYEE",
         "orientation": "v",
         "showlegend": true,
         "textposition": "auto",
         "type": "bar",
         "x": [
          6,
          8,
          10
         ],
         "xaxis": "x",
         "y": [
          40.27363184079602,
          18.45771144278607,
          17.611940298507463
         ],
         "yaxis": "y"
        },
        {
         "alignmentgroup": "True",
         "hovertemplate": "Activities=Start trip<br>Trace length=%{x}<br>Percent count=%{y}<extra></extra>",
         "legendgroup": "Start trip",
         "marker": {
          "color": "rgb(248, 156, 116)",
          "pattern": {
           "shape": ""
          }
         },
         "name": "Start trip",
         "offsetgroup": "Start trip",
         "orientation": "v",
         "showlegend": true,
         "textposition": "auto",
         "type": "bar",
         "x": [
          4
         ],
         "xaxis": "x",
         "y": [
          35.49751243781095
         ],
         "yaxis": "y"
        },
        {
         "alignmentgroup": "True",
         "hovertemplate": "Activities=Permit FINAL_APPROVED by SUPERVISOR<br>Trace length=%{x}<br>Percent count=%{y}<extra></extra>",
         "legendgroup": "Permit FINAL_APPROVED by SUPERVISOR",
         "marker": {
          "color": "rgb(220, 176, 242)",
          "pattern": {
           "shape": ""
          }
         },
         "name": "Permit FINAL_APPROVED by SUPERVISOR",
         "offsetgroup": "Permit FINAL_APPROVED by SUPERVISOR",
         "orientation": "v",
         "showlegend": true,
         "textposition": "auto",
         "type": "bar",
         "x": [
          4,
          6
         ],
         "xaxis": "x",
         "y": [
          19.402985074626866,
          4.303482587064677
         ],
         "yaxis": "y"
        },
        {
         "alignmentgroup": "True",
         "hovertemplate": "Activities=End trip<br>Trace length=%{x}<br>Percent count=%{y}<extra></extra>",
         "legendgroup": "End trip",
         "marker": {
          "color": "rgb(135, 197, 95)",
          "pattern": {
           "shape": ""
          }
         },
         "name": "End trip",
         "offsetgroup": "End trip",
         "orientation": "v",
         "showlegend": true,
         "textposition": "auto",
         "type": "bar",
         "x": [
          6,
          4,
          10
         ],
         "xaxis": "x",
         "y": [
          15.597014925373134,
          12.2636815920398,
          7.313432835820896
         ],
         "yaxis": "y"
        },
        {
         "alignmentgroup": "True",
         "hovertemplate": "Activities=Declaration APPROVED by ADMINISTRATION<br>Trace length=%{x}<br>Percent count=%{y}<extra></extra>",
         "legendgroup": "Declaration APPROVED by ADMINISTRATION",
         "marker": {
          "color": "rgb(158, 185, 243)",
          "pattern": {
           "shape": ""
          }
         },
         "name": "Declaration APPROVED by ADMINISTRATION",
         "offsetgroup": "Declaration APPROVED by ADMINISTRATION",
         "orientation": "v",
         "showlegend": true,
         "textposition": "auto",
         "type": "bar",
         "x": [
          8
         ],
         "xaxis": "x",
         "y": [
          14.129353233830846
         ],
         "yaxis": "y"
        },
        {
         "alignmentgroup": "True",
         "hovertemplate": "Activities=Request For Payment SUBMITTED by EMPLOYEE<br>Trace length=%{x}<br>Percent count=%{y}<extra></extra>",
         "legendgroup": "Request For Payment SUBMITTED by EMPLOYEE",
         "marker": {
          "color": "rgb(254, 136, 177)",
          "pattern": {
           "shape": ""
          }
         },
         "name": "Request For Payment SUBMITTED by EMPLOYEE",
         "offsetgroup": "Request For Payment SUBMITTED by EMPLOYEE",
         "orientation": "v",
         "showlegend": true,
         "textposition": "auto",
         "type": "bar",
         "x": [
          4
         ],
         "xaxis": "x",
         "y": [
          10
         ],
         "yaxis": "y"
        },
        {
         "alignmentgroup": "True",
         "hovertemplate": "Activities=Request For Payment FINAL_APPROVED by SUPERVISOR<br>Trace length=%{x}<br>Percent count=%{y}<extra></extra>",
         "legendgroup": "Request For Payment FINAL_APPROVED by SUPERVISOR",
         "marker": {
          "color": "rgb(201, 219, 116)",
          "pattern": {
           "shape": ""
          }
         },
         "name": "Request For Payment FINAL_APPROVED by SUPERVISOR",
         "offsetgroup": "Request For Payment FINAL_APPROVED by SUPERVISOR",
         "orientation": "v",
         "showlegend": true,
         "textposition": "auto",
         "type": "bar",
         "x": [
          6
         ],
         "xaxis": "x",
         "y": [
          8.109452736318408
         ],
         "yaxis": "y"
        },
        {
         "alignmentgroup": "True",
         "hovertemplate": "Activities=Payment Handled<br>Trace length=%{x}<br>Percent count=%{y}<extra></extra>",
         "legendgroup": "Payment Handled",
         "marker": {
          "color": "rgb(139, 224, 164)",
          "pattern": {
           "shape": ""
          }
         },
         "name": "Payment Handled",
         "offsetgroup": "Payment Handled",
         "orientation": "v",
         "showlegend": true,
         "textposition": "auto",
         "type": "bar",
         "x": [
          8
         ],
         "xaxis": "x",
         "y": [
          7.636815920398011
         ],
         "yaxis": "y"
        },
        {
         "alignmentgroup": "True",
         "hovertemplate": "Activities=Permit APPROVED by ADMINISTRATION<br>Trace length=%{x}<br>Percent count=%{y}<extra></extra>",
         "legendgroup": "Permit APPROVED by ADMINISTRATION",
         "marker": {
          "color": "rgb(180, 151, 231)",
          "pattern": {
           "shape": ""
          }
         },
         "name": "Permit APPROVED by ADMINISTRATION",
         "offsetgroup": "Permit APPROVED by ADMINISTRATION",
         "orientation": "v",
         "showlegend": true,
         "textposition": "auto",
         "type": "bar",
         "x": [
          4
         ],
         "xaxis": "x",
         "y": [
          6.169154228855722
         ],
         "yaxis": "y"
        },
        {
         "alignmentgroup": "True",
         "hovertemplate": "Activities=Request For Payment APPROVED by ADMINISTRATION<br>Trace length=%{x}<br>Percent count=%{y}<extra></extra>",
         "legendgroup": "Request For Payment APPROVED by ADMINISTRATION",
         "marker": {
          "color": "rgb(179, 179, 179)",
          "pattern": {
           "shape": ""
          }
         },
         "name": "Request For Payment APPROVED by ADMINISTRATION",
         "offsetgroup": "Request For Payment APPROVED by ADMINISTRATION",
         "orientation": "v",
         "showlegend": true,
         "textposition": "auto",
         "type": "bar",
         "x": [
          6
         ],
         "xaxis": "x",
         "y": [
          4.328358208955224
         ],
         "yaxis": "y"
        }
       ],
       "layout": {
        "barmode": "relative",
        "legend": {
         "title": {
          "text": "Activities"
         },
         "tracegroupgap": 0
        },
        "template": {
         "data": {
          "bar": [
           {
            "error_x": {
             "color": "#2a3f5f"
            },
            "error_y": {
             "color": "#2a3f5f"
            },
            "marker": {
             "line": {
              "color": "#E5ECF6",
              "width": 0.5
             },
             "pattern": {
              "fillmode": "overlay",
              "size": 10,
              "solidity": 0.2
             }
            },
            "type": "bar"
           }
          ],
          "barpolar": [
           {
            "marker": {
             "line": {
              "color": "#E5ECF6",
              "width": 0.5
             },
             "pattern": {
              "fillmode": "overlay",
              "size": 10,
              "solidity": 0.2
             }
            },
            "type": "barpolar"
           }
          ],
          "carpet": [
           {
            "aaxis": {
             "endlinecolor": "#2a3f5f",
             "gridcolor": "white",
             "linecolor": "white",
             "minorgridcolor": "white",
             "startlinecolor": "#2a3f5f"
            },
            "baxis": {
             "endlinecolor": "#2a3f5f",
             "gridcolor": "white",
             "linecolor": "white",
             "minorgridcolor": "white",
             "startlinecolor": "#2a3f5f"
            },
            "type": "carpet"
           }
          ],
          "choropleth": [
           {
            "colorbar": {
             "outlinewidth": 0,
             "ticks": ""
            },
            "type": "choropleth"
           }
          ],
          "contour": [
           {
            "colorbar": {
             "outlinewidth": 0,
             "ticks": ""
            },
            "colorscale": [
             [
              0,
              "#0d0887"
             ],
             [
              0.1111111111111111,
              "#46039f"
             ],
             [
              0.2222222222222222,
              "#7201a8"
             ],
             [
              0.3333333333333333,
              "#9c179e"
             ],
             [
              0.4444444444444444,
              "#bd3786"
             ],
             [
              0.5555555555555556,
              "#d8576b"
             ],
             [
              0.6666666666666666,
              "#ed7953"
             ],
             [
              0.7777777777777778,
              "#fb9f3a"
             ],
             [
              0.8888888888888888,
              "#fdca26"
             ],
             [
              1,
              "#f0f921"
             ]
            ],
            "type": "contour"
           }
          ],
          "contourcarpet": [
           {
            "colorbar": {
             "outlinewidth": 0,
             "ticks": ""
            },
            "type": "contourcarpet"
           }
          ],
          "heatmap": [
           {
            "colorbar": {
             "outlinewidth": 0,
             "ticks": ""
            },
            "colorscale": [
             [
              0,
              "#0d0887"
             ],
             [
              0.1111111111111111,
              "#46039f"
             ],
             [
              0.2222222222222222,
              "#7201a8"
             ],
             [
              0.3333333333333333,
              "#9c179e"
             ],
             [
              0.4444444444444444,
              "#bd3786"
             ],
             [
              0.5555555555555556,
              "#d8576b"
             ],
             [
              0.6666666666666666,
              "#ed7953"
             ],
             [
              0.7777777777777778,
              "#fb9f3a"
             ],
             [
              0.8888888888888888,
              "#fdca26"
             ],
             [
              1,
              "#f0f921"
             ]
            ],
            "type": "heatmap"
           }
          ],
          "heatmapgl": [
           {
            "colorbar": {
             "outlinewidth": 0,
             "ticks": ""
            },
            "colorscale": [
             [
              0,
              "#0d0887"
             ],
             [
              0.1111111111111111,
              "#46039f"
             ],
             [
              0.2222222222222222,
              "#7201a8"
             ],
             [
              0.3333333333333333,
              "#9c179e"
             ],
             [
              0.4444444444444444,
              "#bd3786"
             ],
             [
              0.5555555555555556,
              "#d8576b"
             ],
             [
              0.6666666666666666,
              "#ed7953"
             ],
             [
              0.7777777777777778,
              "#fb9f3a"
             ],
             [
              0.8888888888888888,
              "#fdca26"
             ],
             [
              1,
              "#f0f921"
             ]
            ],
            "type": "heatmapgl"
           }
          ],
          "histogram": [
           {
            "marker": {
             "pattern": {
              "fillmode": "overlay",
              "size": 10,
              "solidity": 0.2
             }
            },
            "type": "histogram"
           }
          ],
          "histogram2d": [
           {
            "colorbar": {
             "outlinewidth": 0,
             "ticks": ""
            },
            "colorscale": [
             [
              0,
              "#0d0887"
             ],
             [
              0.1111111111111111,
              "#46039f"
             ],
             [
              0.2222222222222222,
              "#7201a8"
             ],
             [
              0.3333333333333333,
              "#9c179e"
             ],
             [
              0.4444444444444444,
              "#bd3786"
             ],
             [
              0.5555555555555556,
              "#d8576b"
             ],
             [
              0.6666666666666666,
              "#ed7953"
             ],
             [
              0.7777777777777778,
              "#fb9f3a"
             ],
             [
              0.8888888888888888,
              "#fdca26"
             ],
             [
              1,
              "#f0f921"
             ]
            ],
            "type": "histogram2d"
           }
          ],
          "histogram2dcontour": [
           {
            "colorbar": {
             "outlinewidth": 0,
             "ticks": ""
            },
            "colorscale": [
             [
              0,
              "#0d0887"
             ],
             [
              0.1111111111111111,
              "#46039f"
             ],
             [
              0.2222222222222222,
              "#7201a8"
             ],
             [
              0.3333333333333333,
              "#9c179e"
             ],
             [
              0.4444444444444444,
              "#bd3786"
             ],
             [
              0.5555555555555556,
              "#d8576b"
             ],
             [
              0.6666666666666666,
              "#ed7953"
             ],
             [
              0.7777777777777778,
              "#fb9f3a"
             ],
             [
              0.8888888888888888,
              "#fdca26"
             ],
             [
              1,
              "#f0f921"
             ]
            ],
            "type": "histogram2dcontour"
           }
          ],
          "mesh3d": [
           {
            "colorbar": {
             "outlinewidth": 0,
             "ticks": ""
            },
            "type": "mesh3d"
           }
          ],
          "parcoords": [
           {
            "line": {
             "colorbar": {
              "outlinewidth": 0,
              "ticks": ""
             }
            },
            "type": "parcoords"
           }
          ],
          "pie": [
           {
            "automargin": true,
            "type": "pie"
           }
          ],
          "scatter": [
           {
            "fillpattern": {
             "fillmode": "overlay",
             "size": 10,
             "solidity": 0.2
            },
            "type": "scatter"
           }
          ],
          "scatter3d": [
           {
            "line": {
             "colorbar": {
              "outlinewidth": 0,
              "ticks": ""
             }
            },
            "marker": {
             "colorbar": {
              "outlinewidth": 0,
              "ticks": ""
             }
            },
            "type": "scatter3d"
           }
          ],
          "scattercarpet": [
           {
            "marker": {
             "colorbar": {
              "outlinewidth": 0,
              "ticks": ""
             }
            },
            "type": "scattercarpet"
           }
          ],
          "scattergeo": [
           {
            "marker": {
             "colorbar": {
              "outlinewidth": 0,
              "ticks": ""
             }
            },
            "type": "scattergeo"
           }
          ],
          "scattergl": [
           {
            "marker": {
             "colorbar": {
              "outlinewidth": 0,
              "ticks": ""
             }
            },
            "type": "scattergl"
           }
          ],
          "scattermapbox": [
           {
            "marker": {
             "colorbar": {
              "outlinewidth": 0,
              "ticks": ""
             }
            },
            "type": "scattermapbox"
           }
          ],
          "scatterpolar": [
           {
            "marker": {
             "colorbar": {
              "outlinewidth": 0,
              "ticks": ""
             }
            },
            "type": "scatterpolar"
           }
          ],
          "scatterpolargl": [
           {
            "marker": {
             "colorbar": {
              "outlinewidth": 0,
              "ticks": ""
             }
            },
            "type": "scatterpolargl"
           }
          ],
          "scatterternary": [
           {
            "marker": {
             "colorbar": {
              "outlinewidth": 0,
              "ticks": ""
             }
            },
            "type": "scatterternary"
           }
          ],
          "surface": [
           {
            "colorbar": {
             "outlinewidth": 0,
             "ticks": ""
            },
            "colorscale": [
             [
              0,
              "#0d0887"
             ],
             [
              0.1111111111111111,
              "#46039f"
             ],
             [
              0.2222222222222222,
              "#7201a8"
             ],
             [
              0.3333333333333333,
              "#9c179e"
             ],
             [
              0.4444444444444444,
              "#bd3786"
             ],
             [
              0.5555555555555556,
              "#d8576b"
             ],
             [
              0.6666666666666666,
              "#ed7953"
             ],
             [
              0.7777777777777778,
              "#fb9f3a"
             ],
             [
              0.8888888888888888,
              "#fdca26"
             ],
             [
              1,
              "#f0f921"
             ]
            ],
            "type": "surface"
           }
          ],
          "table": [
           {
            "cells": {
             "fill": {
              "color": "#EBF0F8"
             },
             "line": {
              "color": "white"
             }
            },
            "header": {
             "fill": {
              "color": "#C8D4E3"
             },
             "line": {
              "color": "white"
             }
            },
            "type": "table"
           }
          ]
         },
         "layout": {
          "annotationdefaults": {
           "arrowcolor": "#2a3f5f",
           "arrowhead": 0,
           "arrowwidth": 1
          },
          "autotypenumbers": "strict",
          "coloraxis": {
           "colorbar": {
            "outlinewidth": 0,
            "ticks": ""
           }
          },
          "colorscale": {
           "diverging": [
            [
             0,
             "#8e0152"
            ],
            [
             0.1,
             "#c51b7d"
            ],
            [
             0.2,
             "#de77ae"
            ],
            [
             0.3,
             "#f1b6da"
            ],
            [
             0.4,
             "#fde0ef"
            ],
            [
             0.5,
             "#f7f7f7"
            ],
            [
             0.6,
             "#e6f5d0"
            ],
            [
             0.7,
             "#b8e186"
            ],
            [
             0.8,
             "#7fbc41"
            ],
            [
             0.9,
             "#4d9221"
            ],
            [
             1,
             "#276419"
            ]
           ],
           "sequential": [
            [
             0,
             "#0d0887"
            ],
            [
             0.1111111111111111,
             "#46039f"
            ],
            [
             0.2222222222222222,
             "#7201a8"
            ],
            [
             0.3333333333333333,
             "#9c179e"
            ],
            [
             0.4444444444444444,
             "#bd3786"
            ],
            [
             0.5555555555555556,
             "#d8576b"
            ],
            [
             0.6666666666666666,
             "#ed7953"
            ],
            [
             0.7777777777777778,
             "#fb9f3a"
            ],
            [
             0.8888888888888888,
             "#fdca26"
            ],
            [
             1,
             "#f0f921"
            ]
           ],
           "sequentialminus": [
            [
             0,
             "#0d0887"
            ],
            [
             0.1111111111111111,
             "#46039f"
            ],
            [
             0.2222222222222222,
             "#7201a8"
            ],
            [
             0.3333333333333333,
             "#9c179e"
            ],
            [
             0.4444444444444444,
             "#bd3786"
            ],
            [
             0.5555555555555556,
             "#d8576b"
            ],
            [
             0.6666666666666666,
             "#ed7953"
            ],
            [
             0.7777777777777778,
             "#fb9f3a"
            ],
            [
             0.8888888888888888,
             "#fdca26"
            ],
            [
             1,
             "#f0f921"
            ]
           ]
          },
          "colorway": [
           "#636efa",
           "#EF553B",
           "#00cc96",
           "#ab63fa",
           "#FFA15A",
           "#19d3f3",
           "#FF6692",
           "#B6E880",
           "#FF97FF",
           "#FECB52"
          ],
          "font": {
           "color": "#2a3f5f"
          },
          "geo": {
           "bgcolor": "white",
           "lakecolor": "white",
           "landcolor": "#E5ECF6",
           "showlakes": true,
           "showland": true,
           "subunitcolor": "white"
          },
          "hoverlabel": {
           "align": "left"
          },
          "hovermode": "closest",
          "mapbox": {
           "style": "light"
          },
          "paper_bgcolor": "white",
          "plot_bgcolor": "#E5ECF6",
          "polar": {
           "angularaxis": {
            "gridcolor": "white",
            "linecolor": "white",
            "ticks": ""
           },
           "bgcolor": "#E5ECF6",
           "radialaxis": {
            "gridcolor": "white",
            "linecolor": "white",
            "ticks": ""
           }
          },
          "scene": {
           "xaxis": {
            "backgroundcolor": "#E5ECF6",
            "gridcolor": "white",
            "gridwidth": 2,
            "linecolor": "white",
            "showbackground": true,
            "ticks": "",
            "zerolinecolor": "white"
           },
           "yaxis": {
            "backgroundcolor": "#E5ECF6",
            "gridcolor": "white",
            "gridwidth": 2,
            "linecolor": "white",
            "showbackground": true,
            "ticks": "",
            "zerolinecolor": "white"
           },
           "zaxis": {
            "backgroundcolor": "#E5ECF6",
            "gridcolor": "white",
            "gridwidth": 2,
            "linecolor": "white",
            "showbackground": true,
            "ticks": "",
            "zerolinecolor": "white"
           }
          },
          "shapedefaults": {
           "line": {
            "color": "#2a3f5f"
           }
          },
          "ternary": {
           "aaxis": {
            "gridcolor": "white",
            "linecolor": "white",
            "ticks": ""
           },
           "baxis": {
            "gridcolor": "white",
            "linecolor": "white",
            "ticks": ""
           },
           "bgcolor": "#E5ECF6",
           "caxis": {
            "gridcolor": "white",
            "linecolor": "white",
            "ticks": ""
           }
          },
          "title": {
           "x": 0.05
          },
          "xaxis": {
           "automargin": true,
           "gridcolor": "white",
           "linecolor": "white",
           "ticks": "",
           "title": {
            "standoff": 15
           },
           "zerolinecolor": "white",
           "zerolinewidth": 2
          },
          "yaxis": {
           "automargin": true,
           "gridcolor": "white",
           "linecolor": "white",
           "ticks": "",
           "title": {
            "standoff": 15
           },
           "zerolinecolor": "white",
           "zerolinewidth": 2
          }
         }
        },
        "title": {
         "text": "Comparison of Final Activity for Different Trace Lengths (Top 15%)",
         "x": 0.3
        },
        "xaxis": {
         "anchor": "y",
         "domain": [
          0,
          1
         ],
         "tickvals": [
          4,
          6,
          8,
          10
         ],
         "title": {
          "text": "Trace Length (number of activities from start)"
         }
        },
        "yaxis": {
         "anchor": "x",
         "domain": [
          0,
          1
         ],
         "title": {
          "text": "Percentage of Traces Ending in Acitivity (%)"
         }
        }
       }
      }
     },
     "metadata": {},
     "output_type": "display_data"
    }
   ],
   "source": [
    "# plot the distribution\n",
    "import plotly.express as px\n",
    "\n",
    "df_top15 = df_dist.sort_values(by='Percent count', ascending=False).head(int(len(df_dist)*0.15))\n",
    "fig = px.bar(df_top15, x=\"Trace length\", y=\"Percent count\", color=\"Activities\", title=\"Comparison of Final Activity for Different Trace Lengths (Top 15%)\",\n",
    "             color_discrete_sequence=px.colors.qualitative.Pastel)\n",
    "\n",
    "\n",
    "fig.update_layout(xaxis_title=\"Trace Length (number of activities from start)\", yaxis_title=\"Percentage of Traces Ending in Acitivity (%)\")\n",
    "fig.update_xaxes(tickvals=[4,6,8,10])\n",
    "fig.update_layout(title_x=0.3)\n",
    "fig.show()\n",
    "fig.write_html(\"../docs/activity_vs_trace_length_distribution.html\")"
   ]
  },
  {
   "cell_type": "markdown",
   "metadata": {},
   "source": [
    "## Feature Selection ( Based on Data Exploration )"
   ]
  },
  {
   "cell_type": "code",
   "execution_count": 370,
   "metadata": {},
   "outputs": [],
   "source": [
    "# passed features we want to extract\n",
    "\n",
    "# str_ev_attr\tString attributes at the event level: these are hot-encoded into features that may assume value 0 or value 1.\n",
    "# str_tr_attr\tString attributes at the trace level: these are hot-encoded into features that may assume value 0 or value 1.\n",
    "# num_ev_attr\tNumeric attributes at the event level: these are encoded by including the last value of the attribute among the events of the trace.\n",
    "# num_tr_attr\tNumeric attributes at trace level: these are encoded by including the numerical value.\n",
    "# str_evsucc_attr\tSuccessions related to the string attributes values at the event level: for example, if we have a trace [A,B,C], it might be important to include not only the presence of the single values A, B and C as features; but also the presence of the directly-follows couples (A,B) and (B,C).\n",
    "# ================================================\n",
    "\n",
    "str_ev_attr = ['concept:name']\n",
    "str_tr_attr = ['OrganizationalEntity','month']\n",
    "num_ev_attr = ['@@approx_bh_partial_lead_time','@@approx_bh_this_wasted_time']\n",
    "num_tr_attr = []"
   ]
  },
  {
   "cell_type": "markdown",
   "metadata": {},
   "source": [
    "# Data encoding\n",
    "\n",
    "- preparing input data to be passed, \n",
    "- there are different encodings we can go with\n",
    "    - boolean encoding (one hot encoding if the activity present or not)\n",
    "    - frequency encoding (count of activity)\n",
    "    - simple index encoding (n events one hot encoding)\n",
    "    - latest payload encoding (with trace attributes)\n",
    "    - index payload encoding (n events one hot encoding + with trace attributes)\n",
    "    - complex index based encoding (static feature + nevents encoding + event features )\n",
    "    - lstm encoding (m x n)\n",
    "    \n",
    "=========  \n",
    "\n",
    "- Since the complex index based encoding covers the above 3 ( we can simply filter columns to get those, also feature importance (random forest) can ignore those which are not imporant ) we basically generated 4 different encodings -\n",
    "    - boolean encoding (one hot encoding if the activity present or not)\n",
    "    - frequency encoding (count of activity)\n",
    "    - complex index based encoding (static feature + nevents encoding + event features )\n",
    "    - lstm encoding (m x n)\n",
    "\n",
    "=======\n",
    "- No need of paddings in boolean and frequency encoding as the activities are fixed \\\n",
    "\n",
    "**PADDING** \n",
    "- for one hot encoded attributes (categorical values) the desired vector length is  - t_length * ohe_length (Ex. 10*number of activities) \n",
    "- for numerical values the desired length is t_length\n",
    "\n",
    "**Note** - For now process changes are not been considered, if a new activity arrives in future"
   ]
  },
  {
   "cell_type": "markdown",
   "metadata": {},
   "source": [
    "## Common functions for Encodings "
   ]
  },
  {
   "cell_type": "code",
   "execution_count": 371,
   "metadata": {},
   "outputs": [],
   "source": [
    "# function to save the data\n",
    "def save_data(X,y,feature_names, save_path):\n",
    "    data_dict = {}\n",
    "    data_dict['X'] = X\n",
    "    data_dict['y'] = y\n",
    "    data_dict['feature_names'] = feature_names\n",
    "\n",
    "    # save pickle\n",
    "    with open(save_path, 'wb') as handle:\n",
    "        pickle.dump(data_dict, handle)"
   ]
  },
  {
   "cell_type": "code",
   "execution_count": 372,
   "metadata": {},
   "outputs": [],
   "source": [
    "# load the data from pickle\n",
    "def load_data(load_path):\n",
    "    with open(load_path, 'rb') as handle:\n",
    "        data = pickle.load(handle)\n",
    "    return data"
   ]
  },
  {
   "cell_type": "code",
   "execution_count": 373,
   "metadata": {},
   "outputs": [],
   "source": [
    "# function to get the one hot encoded vectors of categorical values\n",
    "def get_ohe_dict(categorical_vars, df):\n",
    "    ohe_dict = {}\n",
    "    for var in categorical_vars:\n",
    "        var_dict = {}\n",
    "        var_data = sorted(df[var].unique())\n",
    "        var_len = len(var_data)\n",
    "        for i,cat in enumerate(var_data):\n",
    "            var_dict[cat] = [0]*var_len\n",
    "            var_dict[cat][i] = 1\n",
    "\n",
    "        ohe_dict[var] = var_dict\n",
    "\n",
    "    return ohe_dict"
   ]
  },
  {
   "cell_type": "code",
   "execution_count": 374,
   "metadata": {},
   "outputs": [],
   "source": [
    "# padding function for ohe encoding\n",
    "def cat_padding(vec, t_length, attr_length):\n",
    "    desired_length = t_length*attr_length\n",
    "    vec_length = len(vec)\n",
    "    if vec_length != desired_length:\n",
    "        pad_vec = [0]*(desired_length-vec_length)\n",
    "        vec.extend(pad_vec)\n",
    "    return vec"
   ]
  },
  {
   "cell_type": "code",
   "execution_count": 375,
   "metadata": {},
   "outputs": [],
   "source": [
    "# padding function for non-ohe encoding\n",
    "def num_padding(vec, t_length):\n",
    "    vec_length = len(vec)\n",
    "    if vec_length != t_length:\n",
    "        pad_vec = [0]*(t_length-vec_length)\n",
    "        vec.extend(pad_vec)\n",
    "    return vec"
   ]
  },
  {
   "cell_type": "code",
   "execution_count": 376,
   "metadata": {},
   "outputs": [
    {
     "data": {
      "text/plain": [
       "['concept:name', 'OrganizationalEntity', 'month']"
      ]
     },
     "execution_count": 376,
     "metadata": {},
     "output_type": "execute_result"
    }
   ],
   "source": [
    "# create one hot encoding dict fot categorical variables\n",
    "# variables which we want to be one hot encoded\n",
    "categorical_vars = str_ev_attr + str_tr_attr\n",
    "ohe_dict = get_ohe_dict(categorical_vars, original_df)\n",
    "categorical_vars"
   ]
  },
  {
   "cell_type": "markdown",
   "metadata": {},
   "source": [
    "## Boolean encoding\n",
    "\n",
    "- can be easily extended with adding more attributes of traces other then activities, but for now kept it simple and as discussed in course"
   ]
  },
  {
   "cell_type": "code",
   "execution_count": 377,
   "metadata": {},
   "outputs": [],
   "source": [
    "# here for each trace we extract ohe vector for activity and sum them up and if count is greater then 1 we make them 1 \n",
    "# because this encoding only provides info, if the activity was there or not\n",
    "\n",
    "data = []\n",
    "\n",
    "for id, group in df.groupby(['case:concept:name']):\n",
    "    feature_vec = []\n",
    "\n",
    "    # add categorical and numerical event attributes\n",
    "    for cat_atr in str_ev_attr[:1]:\n",
    "        attr_length = len(list(ohe_dict[cat_atr].values())[0])\n",
    "        str_ev_vec = np.array([0]*attr_length)\n",
    "\n",
    "        for ca in group[cat_atr]:\n",
    "            str_ev_vec  = str_ev_vec + np.array(ohe_dict[cat_atr][ca])\n",
    "\n",
    "        # make it a non frequency vector (if count is greater then 1 make it 1)\n",
    "        for i,num in enumerate(str_ev_vec):\n",
    "            if num>1:\n",
    "                str_ev_vec[i]=1\n",
    "\n",
    "        feature_vec.extend(list(str_ev_vec))\n",
    "\n",
    "    data.append(feature_vec)\n",
    "\n",
    "    # data.append(feature_vec)"
   ]
  },
  {
   "cell_type": "code",
   "execution_count": 378,
   "metadata": {},
   "outputs": [],
   "source": [
    "# saving data \n",
    "encode_name = 'boolean_encode_'\n",
    "save_path = save_path_base + encode_name + df_type +'_trace_len_'+str(t_length)+ '.pickle'\n",
    "save_data(data, declerations, ohe_dict ,save_path)"
   ]
  },
  {
   "cell_type": "markdown",
   "metadata": {},
   "source": [
    "## Frequency encoding"
   ]
  },
  {
   "cell_type": "code",
   "execution_count": 379,
   "metadata": {},
   "outputs": [],
   "source": [
    "# here for each trace we extract ohe vector for activity and sum them up \n",
    "# because this encoding only provides count of how many times the activity appears\n",
    "\n",
    "data = []\n",
    "\n",
    "for id, group in df.groupby(['case:concept:name']):\n",
    "    feature_vec = []\n",
    "\n",
    "    # add categorical and numerical event attributes\n",
    "    for cat_atr in str_ev_attr[:1]:\n",
    "        attr_length = len(list(ohe_dict[cat_atr].values())[0])\n",
    "        str_ev_vec = np.array([0]*attr_length)\n",
    "\n",
    "        for ca in group[cat_atr]:\n",
    "            str_ev_vec  = str_ev_vec + np.array(ohe_dict[cat_atr][ca])\n",
    "\n",
    "        feature_vec.extend(list(str_ev_vec))\n",
    "\n",
    "    data.append(feature_vec)\n",
    "\n",
    "    # data.append(feature_vec)"
   ]
  },
  {
   "cell_type": "code",
   "execution_count": 380,
   "metadata": {},
   "outputs": [],
   "source": [
    "# save results\n",
    "encode_name = 'frequency_encode_'\n",
    "save_path = save_path_base + encode_name + df_type +'_trace_len_'+str(t_length)+ '.pickle'\n",
    "save_data(data, declerations, ohe_dict ,save_path)"
   ]
  },
  {
   "cell_type": "markdown",
   "metadata": {},
   "source": [
    "## Complex index based encoding - static feature (trace attributes) + n events encoding + event features"
   ]
  },
  {
   "cell_type": "code",
   "execution_count": 381,
   "metadata": {},
   "outputs": [],
   "source": [
    "# here for each trace we put events encoded in order and there aatributes along with padding to make vector length same\n",
    "# similatly for trace attributes but since it is trace attributes that is only for once\n",
    "\n",
    "data = []\n",
    "\n",
    "for id, group in df.groupby(['case:concept:name']):\n",
    "    feature_vec = []\n",
    "\n",
    "    # add categorical and numerical event attributes along with paddings \n",
    "\n",
    "    for cat_atr in str_ev_attr:\n",
    "        str_ev_vec = []\n",
    "        attr_length = len(list(ohe_dict[cat_atr].values())[0])\n",
    "        for ca in group[cat_atr]:\n",
    "            str_ev_vec.extend(ohe_dict[cat_atr][ca])\n",
    "        \n",
    "        # padding\n",
    "        str_ev_vec = cat_padding(str_ev_vec, t_length, attr_length)\n",
    "        feature_vec.extend(str_ev_vec)\n",
    "\n",
    "\n",
    "    for num_atr in num_ev_attr:\n",
    "        num_ev_vec = []\n",
    "        num_ev_vec.extend(list(group[num_atr]))\n",
    "\n",
    "        # padding\n",
    "        num_ev_vec = num_padding(num_ev_vec, t_length)\n",
    "        feature_vec.extend(num_ev_vec)\n",
    "\n",
    "\n",
    "\n",
    "    # add categorical and numerical trace attributes\n",
    "    for num_t_atr in num_tr_attr:\n",
    "        feature_vec.extend(group[num_t_atr].iloc[0])\n",
    "\n",
    "\n",
    "    for cat_t_atr in str_tr_attr:\n",
    "        feature_vec.extend(ohe_dict[cat_t_atr][group[cat_t_atr].iloc[0]])\n",
    "\n",
    "    # add vector to data\n",
    "    data.append(feature_vec)\n"
   ]
  },
  {
   "cell_type": "code",
   "execution_count": 382,
   "metadata": {},
   "outputs": [],
   "source": [
    "# check if all vector lengths are same \n",
    "vec_len = len(data[0])\n",
    "for i, d in enumerate(data):\n",
    "    if len(d)!=vec_len:\n",
    "        print(i, len(d))"
   ]
  },
  {
   "cell_type": "code",
   "execution_count": 383,
   "metadata": {},
   "outputs": [],
   "source": [
    "# save results\n",
    "encode_name = 'complexindex_encode_'\n",
    "save_path = save_path_base + encode_name + df_type +'_trace_len_'+str(t_length)+ '.pickle'\n",
    "save_data(data, declerations, ohe_dict ,save_path)"
   ]
  },
  {
   "cell_type": "markdown",
   "metadata": {},
   "source": [
    "## LSTM encoding"
   ]
  },
  {
   "cell_type": "code",
   "execution_count": 384,
   "metadata": {},
   "outputs": [],
   "source": [
    "# here we create sequence of each trace\n",
    "# so the dimentions will be (number of examples * trace_length * feature_length )\n",
    "\n",
    "data = []\n",
    "\n",
    "for id, group in df.groupby(['case:concept:name']):\n",
    "    \n",
    "    feature_vec = []\n",
    "\n",
    "    for index, row in group.iterrows():\n",
    "\n",
    "        row_vec = []\n",
    "\n",
    "        for cat_atr in str_ev_attr:\n",
    "            row_vec.extend(ohe_dict[cat_atr][row[cat_atr]])\n",
    "\n",
    "        for num_atr in num_ev_attr:\n",
    "            row_vec.append(row[num_atr])\n",
    "\n",
    "\n",
    "        # add categorical and numerical trace attributes\n",
    "        for num_t_atr in num_tr_attr:\n",
    "            row_vec.append(group[num_t_atr].iloc[0])\n",
    "\n",
    "        for cat_t_atr in str_tr_attr:\n",
    "            row_vec.extend(ohe_dict[cat_t_atr][group[cat_t_atr].iloc[0]])\n",
    "\n",
    "        feature_vec.append(row_vec)\n",
    "    \n",
    "\n",
    "    # add vector to data\n",
    "    data.append(feature_vec)\n"
   ]
  },
  {
   "cell_type": "code",
   "execution_count": 385,
   "metadata": {},
   "outputs": [],
   "source": [
    "# converting to array\n",
    "data = np.array([np.array(ls) for ls in data])"
   ]
  },
  {
   "cell_type": "code",
   "execution_count": 386,
   "metadata": {},
   "outputs": [
    {
     "data": {
      "text/plain": [
       "(10, 87)"
      ]
     },
     "execution_count": 386,
     "metadata": {},
     "output_type": "execute_result"
    }
   ],
   "source": [
    "# shape we want for all the traces\n",
    "feature_len = len(data[0][0])\n",
    "desired_shape = (t_length,feature_len)\n",
    "desired_shape"
   ]
  },
  {
   "cell_type": "code",
   "execution_count": 387,
   "metadata": {},
   "outputs": [
    {
     "data": {
      "text/plain": [
       "(3592, 10, 87)"
      ]
     },
     "execution_count": 387,
     "metadata": {},
     "output_type": "execute_result"
    }
   ],
   "source": [
    "# padding data to make equal shape of vectors\n",
    "padded_data = []\n",
    "for case in data:\n",
    "    pd_case = np.zeros(desired_shape)\n",
    "    pd_case[:case.shape[0],:case.shape[1]] = case\n",
    "    padded_data.append(pd_case)\n",
    "\n",
    "padded_data = np.array(padded_data)\n",
    "padded_data.shape"
   ]
  },
  {
   "cell_type": "code",
   "execution_count": 388,
   "metadata": {},
   "outputs": [],
   "source": [
    "# save results\n",
    "encode_name = 'lstm_encode_'\n",
    "save_path = save_path_base + encode_name + df_type +'_trace_len_'+str(t_length)+ '.pickle'\n",
    "save_data(padded_data, declerations, ohe_dict ,save_path)"
   ]
  },
  {
   "cell_type": "code",
   "execution_count": null,
   "metadata": {},
   "outputs": [],
   "source": []
  },
  {
   "cell_type": "code",
   "execution_count": null,
   "metadata": {},
   "outputs": [],
   "source": []
  },
  {
   "cell_type": "markdown",
   "metadata": {},
   "source": [
    "# =============================================\n",
    "# Preparing Test Data\n",
    "\n",
    "- exactly same, just using **train encoding** to create features\n",
    "- define trace length and df_type (train or test)\n",
    "- Working on train and test seperately, so run whole code for the same trace length for train and then for test"
   ]
  },
  {
   "cell_type": "code",
   "execution_count": 389,
   "metadata": {},
   "outputs": [],
   "source": [
    "df_type = 'test'\n",
    "permits = test_df"
   ]
  },
  {
   "cell_type": "code",
   "execution_count": 390,
   "metadata": {},
   "outputs": [
    {
     "data": {
      "text/html": [
       "<div>\n",
       "<style scoped>\n",
       "    .dataframe tbody tr th:only-of-type {\n",
       "        vertical-align: middle;\n",
       "    }\n",
       "\n",
       "    .dataframe tbody tr th {\n",
       "        vertical-align: top;\n",
       "    }\n",
       "\n",
       "    .dataframe thead th {\n",
       "        text-align: right;\n",
       "    }\n",
       "</style>\n",
       "<table border=\"1\" class=\"dataframe\">\n",
       "  <thead>\n",
       "    <tr style=\"text-align: right;\">\n",
       "      <th></th>\n",
       "      <th>case</th>\n",
       "      <th>event</th>\n",
       "      <th>startTime</th>\n",
       "      <th>completeTime</th>\n",
       "      <th>id</th>\n",
       "      <th>RequestedAmount_0</th>\n",
       "      <th>Overspent</th>\n",
       "      <th>travel permit number</th>\n",
       "      <th>OverspentAmount</th>\n",
       "      <th>RequestedBudget</th>\n",
       "      <th>...</th>\n",
       "      <th>year</th>\n",
       "      <th>month</th>\n",
       "      <th>@@approx_bh_partial_cycle_time</th>\n",
       "      <th>@@approx_bh_partial_lead_time</th>\n",
       "      <th>@@approx_bh_overall_wasted_time</th>\n",
       "      <th>@@approx_bh_this_wasted_time</th>\n",
       "      <th>@approx_bh_ratio_cycle_lead_time</th>\n",
       "      <th>case:concept:name</th>\n",
       "      <th>concept:name</th>\n",
       "      <th>time:timestamp</th>\n",
       "    </tr>\n",
       "  </thead>\n",
       "  <tbody>\n",
       "    <tr>\n",
       "      <th>117</th>\n",
       "      <td>travel permit 10215</td>\n",
       "      <td>Permit SUBMITTED by EMPLOYEE</td>\n",
       "      <td>2018-09-05 08:37:34+00:00</td>\n",
       "      <td>2018-09-05 08:37:34+00:00</td>\n",
       "      <td>travel permit 10215</td>\n",
       "      <td>1,957</td>\n",
       "      <td>True</td>\n",
       "      <td>travel permit number 10216</td>\n",
       "      <td>224.765145</td>\n",
       "      <td>1915.760495</td>\n",
       "      <td>...</td>\n",
       "      <td>2018</td>\n",
       "      <td>9</td>\n",
       "      <td>0.0</td>\n",
       "      <td>0.0</td>\n",
       "      <td>0.0</td>\n",
       "      <td>0.0</td>\n",
       "      <td>1.0</td>\n",
       "      <td>travel permit 10215</td>\n",
       "      <td>Permit SUBMITTED by EMPLOYEE</td>\n",
       "      <td>2018-09-05 08:37:34+00:00</td>\n",
       "    </tr>\n",
       "    <tr>\n",
       "      <th>118</th>\n",
       "      <td>travel permit 10215</td>\n",
       "      <td>Permit APPROVED by ADMINISTRATION</td>\n",
       "      <td>2018-09-05 08:38:28+00:00</td>\n",
       "      <td>2018-09-05 08:38:28+00:00</td>\n",
       "      <td>travel permit 10215</td>\n",
       "      <td>1,957</td>\n",
       "      <td>True</td>\n",
       "      <td>travel permit number 10216</td>\n",
       "      <td>224.765145</td>\n",
       "      <td>1915.760495</td>\n",
       "      <td>...</td>\n",
       "      <td>2018</td>\n",
       "      <td>9</td>\n",
       "      <td>0.0</td>\n",
       "      <td>54.0</td>\n",
       "      <td>54.0</td>\n",
       "      <td>54.0</td>\n",
       "      <td>0.0</td>\n",
       "      <td>travel permit 10215</td>\n",
       "      <td>Permit APPROVED by ADMINISTRATION</td>\n",
       "      <td>2018-09-05 08:38:28+00:00</td>\n",
       "    </tr>\n",
       "    <tr>\n",
       "      <th>119</th>\n",
       "      <td>travel permit 10215</td>\n",
       "      <td>Permit APPROVED by BUDGET OWNER</td>\n",
       "      <td>2018-09-05 08:55:23+00:00</td>\n",
       "      <td>2018-09-05 08:55:23+00:00</td>\n",
       "      <td>travel permit 10215</td>\n",
       "      <td>1,957</td>\n",
       "      <td>True</td>\n",
       "      <td>travel permit number 10216</td>\n",
       "      <td>224.765145</td>\n",
       "      <td>1915.760495</td>\n",
       "      <td>...</td>\n",
       "      <td>2018</td>\n",
       "      <td>9</td>\n",
       "      <td>0.0</td>\n",
       "      <td>1069.0</td>\n",
       "      <td>1069.0</td>\n",
       "      <td>1015.0</td>\n",
       "      <td>0.0</td>\n",
       "      <td>travel permit 10215</td>\n",
       "      <td>Permit APPROVED by BUDGET OWNER</td>\n",
       "      <td>2018-09-05 08:55:23+00:00</td>\n",
       "    </tr>\n",
       "    <tr>\n",
       "      <th>120</th>\n",
       "      <td>travel permit 10215</td>\n",
       "      <td>Permit FINAL_APPROVED by SUPERVISOR</td>\n",
       "      <td>2018-09-06 15:06:29+00:00</td>\n",
       "      <td>2018-09-06 15:06:29+00:00</td>\n",
       "      <td>travel permit 10215</td>\n",
       "      <td>1,957</td>\n",
       "      <td>True</td>\n",
       "      <td>travel permit number 10216</td>\n",
       "      <td>224.765145</td>\n",
       "      <td>1915.760495</td>\n",
       "      <td>...</td>\n",
       "      <td>2018</td>\n",
       "      <td>9</td>\n",
       "      <td>0.0</td>\n",
       "      <td>59335.0</td>\n",
       "      <td>59335.0</td>\n",
       "      <td>58266.0</td>\n",
       "      <td>0.0</td>\n",
       "      <td>travel permit 10215</td>\n",
       "      <td>Permit FINAL_APPROVED by SUPERVISOR</td>\n",
       "      <td>2018-09-06 15:06:29+00:00</td>\n",
       "    </tr>\n",
       "    <tr>\n",
       "      <th>121</th>\n",
       "      <td>travel permit 10215</td>\n",
       "      <td>Start trip</td>\n",
       "      <td>2018-11-06 00:00:00+00:00</td>\n",
       "      <td>2018-11-06 00:00:00+00:00</td>\n",
       "      <td>travel permit 10215</td>\n",
       "      <td>1,957</td>\n",
       "      <td>True</td>\n",
       "      <td>travel permit number 10216</td>\n",
       "      <td>224.765145</td>\n",
       "      <td>1915.760495</td>\n",
       "      <td>...</td>\n",
       "      <td>2018</td>\n",
       "      <td>11</td>\n",
       "      <td>0.0</td>\n",
       "      <td>1578146.0</td>\n",
       "      <td>1578146.0</td>\n",
       "      <td>1518811.0</td>\n",
       "      <td>0.0</td>\n",
       "      <td>travel permit 10215</td>\n",
       "      <td>Start trip</td>\n",
       "      <td>2018-11-06 00:00:00+00:00</td>\n",
       "    </tr>\n",
       "  </tbody>\n",
       "</table>\n",
       "<p>5 rows × 32 columns</p>\n",
       "</div>"
      ],
      "text/plain": [
       "                    case                                event  \\\n",
       "117  travel permit 10215         Permit SUBMITTED by EMPLOYEE   \n",
       "118  travel permit 10215    Permit APPROVED by ADMINISTRATION   \n",
       "119  travel permit 10215      Permit APPROVED by BUDGET OWNER   \n",
       "120  travel permit 10215  Permit FINAL_APPROVED by SUPERVISOR   \n",
       "121  travel permit 10215                           Start trip   \n",
       "\n",
       "                    startTime              completeTime                   id  \\\n",
       "117 2018-09-05 08:37:34+00:00 2018-09-05 08:37:34+00:00  travel permit 10215   \n",
       "118 2018-09-05 08:38:28+00:00 2018-09-05 08:38:28+00:00  travel permit 10215   \n",
       "119 2018-09-05 08:55:23+00:00 2018-09-05 08:55:23+00:00  travel permit 10215   \n",
       "120 2018-09-06 15:06:29+00:00 2018-09-06 15:06:29+00:00  travel permit 10215   \n",
       "121 2018-11-06 00:00:00+00:00 2018-11-06 00:00:00+00:00  travel permit 10215   \n",
       "\n",
       "    RequestedAmount_0  Overspent        travel permit number  OverspentAmount  \\\n",
       "117             1,957       True  travel permit number 10216       224.765145   \n",
       "118             1,957       True  travel permit number 10216       224.765145   \n",
       "119             1,957       True  travel permit number 10216       224.765145   \n",
       "120             1,957       True  travel permit number 10216       224.765145   \n",
       "121             1,957       True  travel permit number 10216       224.765145   \n",
       "\n",
       "     RequestedBudget  ...  year month  @@approx_bh_partial_cycle_time  \\\n",
       "117      1915.760495  ...  2018     9                             0.0   \n",
       "118      1915.760495  ...  2018     9                             0.0   \n",
       "119      1915.760495  ...  2018     9                             0.0   \n",
       "120      1915.760495  ...  2018     9                             0.0   \n",
       "121      1915.760495  ...  2018    11                             0.0   \n",
       "\n",
       "    @@approx_bh_partial_lead_time @@approx_bh_overall_wasted_time  \\\n",
       "117                           0.0                             0.0   \n",
       "118                          54.0                            54.0   \n",
       "119                        1069.0                          1069.0   \n",
       "120                       59335.0                         59335.0   \n",
       "121                     1578146.0                       1578146.0   \n",
       "\n",
       "    @@approx_bh_this_wasted_time @approx_bh_ratio_cycle_lead_time  \\\n",
       "117                          0.0                              1.0   \n",
       "118                         54.0                              0.0   \n",
       "119                       1015.0                              0.0   \n",
       "120                      58266.0                              0.0   \n",
       "121                    1518811.0                              0.0   \n",
       "\n",
       "       case:concept:name                         concept:name  \\\n",
       "117  travel permit 10215         Permit SUBMITTED by EMPLOYEE   \n",
       "118  travel permit 10215    Permit APPROVED by ADMINISTRATION   \n",
       "119  travel permit 10215      Permit APPROVED by BUDGET OWNER   \n",
       "120  travel permit 10215  Permit FINAL_APPROVED by SUPERVISOR   \n",
       "121  travel permit 10215                           Start trip   \n",
       "\n",
       "               time:timestamp  \n",
       "117 2018-09-05 08:37:34+00:00  \n",
       "118 2018-09-05 08:38:28+00:00  \n",
       "119 2018-09-05 08:55:23+00:00  \n",
       "120 2018-09-06 15:06:29+00:00  \n",
       "121 2018-11-06 00:00:00+00:00  \n",
       "\n",
       "[5 rows x 32 columns]"
      ]
     },
     "execution_count": 390,
     "metadata": {},
     "output_type": "execute_result"
    }
   ],
   "source": [
    "test_df.head()"
   ]
  },
  {
   "cell_type": "markdown",
   "metadata": {},
   "source": [
    "### Adding some stastitics features in event log using pm4py"
   ]
  },
  {
   "cell_type": "code",
   "execution_count": 391,
   "metadata": {},
   "outputs": [],
   "source": [
    "# converting dataframe to event log\n",
    "trace_log = pm4py.format_dataframe(permits, case_id='case', activity_key='event', timestamp_key='completeTime', start_timestamp_key='startTime')\n",
    "trace_log = pm4py.convert_to_event_log(trace_log)"
   ]
  },
  {
   "attachments": {},
   "cell_type": "markdown",
   "metadata": {},
   "source": [
    "### Extracting target variable\n",
    "\n",
    "- In our case target variable is REJECTED Declaration, in the process whoever rejects the Declaration (Administrartor, pre-approvar, etc.) it is considered as Declaration REJECTED so using it to identify our target variable\n",
    "\n",
    "- One of our assumption is - If the decleration is not submitted by Employee and the payment is handeled directly, it is also considered as Declaration Accapted (so basically all the Declarations which is not rejected by employee are considerd as Accapted )\n",
    "\n",
    "- we are not dealing with situations where it got rejected twice. For now we are only interested in 1st time rejection\n"
   ]
  },
  {
   "cell_type": "code",
   "execution_count": 392,
   "metadata": {},
   "outputs": [],
   "source": [
    "# to extract target varaible, \n",
    "# if event starts with the name decleration rejected it is considered as rejected\n",
    "declerations = []\n",
    "for trace in trace_log:\n",
    "    flag = False\n",
    "    for i,event in enumerate(trace):\n",
    "        if \"Declaration REJECTED\" in event['event']:\n",
    "            flag = True\n",
    "            break\n",
    "    \n",
    "    if flag:\n",
    "        declerations.append(1)\n",
    "    else:\n",
    "        declerations.append(0)"
   ]
  },
  {
   "cell_type": "code",
   "execution_count": 393,
   "metadata": {},
   "outputs": [
    {
     "data": {
      "text/plain": [
       "769"
      ]
     },
     "execution_count": 393,
     "metadata": {},
     "output_type": "execute_result"
    }
   ],
   "source": [
    "len(declerations)"
   ]
  },
  {
   "cell_type": "code",
   "execution_count": 394,
   "metadata": {},
   "outputs": [],
   "source": [
    "# extract traces only till the decleration is rejected (excluded), otherwise complete trace \n",
    "prefix_traces = []\n",
    "for trace in trace_log:\n",
    "    for i,event in enumerate(trace):\n",
    "        if \"Declaration REJECTED\" in event['event']:\n",
    "            break\n",
    "    prefix_traces.append(Trace(trace[:i], attributes = trace.attributes))\n",
    "prefix_traces = EventLog(prefix_traces)"
   ]
  },
  {
   "cell_type": "code",
   "execution_count": 395,
   "metadata": {},
   "outputs": [],
   "source": [
    "# generate prefixes, note that we need to add the casts to EventLog and Trace to make sure that the result is a PM4Py EventLog object\n",
    "trace_prefixes = EventLog([Trace(trace[0:t_length], attributes = trace.attributes) for trace in prefix_traces])"
   ]
  },
  {
   "cell_type": "code",
   "execution_count": 396,
   "metadata": {},
   "outputs": [
    {
     "name": "stdout",
     "output_type": "stream",
     "text": [
      "[10, 8, 11, 16, 10, 8, 34, 15, 8, 10, 13, 10, 7, 18, 9]\n",
      "[10, 8, 10, 10, 10, 8, 10, 10, 8, 10, 10, 10, 7, 10, 9]\n"
     ]
    }
   ],
   "source": [
    "# check the trace length\n",
    "print([len(trace) for trace in prefix_traces][0:15])\n",
    "print([len(trace) for trace in trace_prefixes][0:15])"
   ]
  },
  {
   "cell_type": "code",
   "execution_count": 397,
   "metadata": {},
   "outputs": [
    {
     "name": "stdout",
     "output_type": "stream",
     "text": [
      "['Permit SUBMITTED by EMPLOYEE', 'Permit APPROVED by ADMINISTRATION', 'Permit APPROVED by BUDGET OWNER', 'Permit FINAL_APPROVED by SUPERVISOR', 'Start trip', 'End trip', 'Declaration SUBMITTED by EMPLOYEE', 'Declaration APPROVED by ADMINISTRATION', 'Declaration APPROVED by BUDGET OWNER', 'Declaration FINAL_APPROVED by SUPERVISOR']\n"
     ]
    }
   ],
   "source": [
    "# check if all good\n",
    "project_nth(trace_prefixes, 0)"
   ]
  },
  {
   "cell_type": "code",
   "execution_count": 398,
   "metadata": {},
   "outputs": [
    {
     "name": "stdout",
     "output_type": "stream",
     "text": [
      "1 8\n"
     ]
    }
   ],
   "source": [
    "# to check which traces are not of our desired length (these will be padded while preparing the the training data)\n",
    "for i,trace in enumerate(trace_prefixes):\n",
    "    if len(trace)!=t_length:\n",
    "        print(i, len(trace))\n",
    "        break"
   ]
  },
  {
   "cell_type": "code",
   "execution_count": 399,
   "metadata": {},
   "outputs": [
    {
     "data": {
      "text/html": [
       "<div>\n",
       "<style scoped>\n",
       "    .dataframe tbody tr th:only-of-type {\n",
       "        vertical-align: middle;\n",
       "    }\n",
       "\n",
       "    .dataframe tbody tr th {\n",
       "        vertical-align: top;\n",
       "    }\n",
       "\n",
       "    .dataframe thead th {\n",
       "        text-align: right;\n",
       "    }\n",
       "</style>\n",
       "<table border=\"1\" class=\"dataframe\">\n",
       "  <thead>\n",
       "    <tr style=\"text-align: right;\">\n",
       "      <th></th>\n",
       "      <th>case</th>\n",
       "      <th>event</th>\n",
       "      <th>startTime</th>\n",
       "      <th>completeTime</th>\n",
       "      <th>id</th>\n",
       "      <th>RequestedAmount_0</th>\n",
       "      <th>Overspent</th>\n",
       "      <th>travel permit number</th>\n",
       "      <th>OverspentAmount</th>\n",
       "      <th>RequestedBudget</th>\n",
       "      <th>...</th>\n",
       "      <th>year</th>\n",
       "      <th>month</th>\n",
       "      <th>@@approx_bh_partial_cycle_time</th>\n",
       "      <th>@@approx_bh_partial_lead_time</th>\n",
       "      <th>@@approx_bh_overall_wasted_time</th>\n",
       "      <th>@@approx_bh_this_wasted_time</th>\n",
       "      <th>@approx_bh_ratio_cycle_lead_time</th>\n",
       "      <th>concept:name</th>\n",
       "      <th>time:timestamp</th>\n",
       "      <th>case:concept:name</th>\n",
       "    </tr>\n",
       "  </thead>\n",
       "  <tbody>\n",
       "    <tr>\n",
       "      <th>0</th>\n",
       "      <td>travel permit 10215</td>\n",
       "      <td>Permit SUBMITTED by EMPLOYEE</td>\n",
       "      <td>2018-09-05 08:37:34+00:00</td>\n",
       "      <td>2018-09-05 08:37:34+00:00</td>\n",
       "      <td>travel permit 10215</td>\n",
       "      <td>1,957</td>\n",
       "      <td>True</td>\n",
       "      <td>travel permit number 10216</td>\n",
       "      <td>224.765145</td>\n",
       "      <td>1915.760495</td>\n",
       "      <td>...</td>\n",
       "      <td>2018</td>\n",
       "      <td>9</td>\n",
       "      <td>0.0</td>\n",
       "      <td>0.0</td>\n",
       "      <td>0.0</td>\n",
       "      <td>0.0</td>\n",
       "      <td>1.0</td>\n",
       "      <td>Permit SUBMITTED by EMPLOYEE</td>\n",
       "      <td>2018-09-05 08:37:34+00:00</td>\n",
       "      <td>travel permit 10215</td>\n",
       "    </tr>\n",
       "    <tr>\n",
       "      <th>1</th>\n",
       "      <td>travel permit 10215</td>\n",
       "      <td>Permit APPROVED by ADMINISTRATION</td>\n",
       "      <td>2018-09-05 08:38:28+00:00</td>\n",
       "      <td>2018-09-05 08:38:28+00:00</td>\n",
       "      <td>travel permit 10215</td>\n",
       "      <td>1,957</td>\n",
       "      <td>True</td>\n",
       "      <td>travel permit number 10216</td>\n",
       "      <td>224.765145</td>\n",
       "      <td>1915.760495</td>\n",
       "      <td>...</td>\n",
       "      <td>2018</td>\n",
       "      <td>9</td>\n",
       "      <td>0.0</td>\n",
       "      <td>54.0</td>\n",
       "      <td>54.0</td>\n",
       "      <td>54.0</td>\n",
       "      <td>0.0</td>\n",
       "      <td>Permit APPROVED by ADMINISTRATION</td>\n",
       "      <td>2018-09-05 08:38:28+00:00</td>\n",
       "      <td>travel permit 10215</td>\n",
       "    </tr>\n",
       "    <tr>\n",
       "      <th>2</th>\n",
       "      <td>travel permit 10215</td>\n",
       "      <td>Permit APPROVED by BUDGET OWNER</td>\n",
       "      <td>2018-09-05 08:55:23+00:00</td>\n",
       "      <td>2018-09-05 08:55:23+00:00</td>\n",
       "      <td>travel permit 10215</td>\n",
       "      <td>1,957</td>\n",
       "      <td>True</td>\n",
       "      <td>travel permit number 10216</td>\n",
       "      <td>224.765145</td>\n",
       "      <td>1915.760495</td>\n",
       "      <td>...</td>\n",
       "      <td>2018</td>\n",
       "      <td>9</td>\n",
       "      <td>0.0</td>\n",
       "      <td>1069.0</td>\n",
       "      <td>1069.0</td>\n",
       "      <td>1015.0</td>\n",
       "      <td>0.0</td>\n",
       "      <td>Permit APPROVED by BUDGET OWNER</td>\n",
       "      <td>2018-09-05 08:55:23+00:00</td>\n",
       "      <td>travel permit 10215</td>\n",
       "    </tr>\n",
       "    <tr>\n",
       "      <th>3</th>\n",
       "      <td>travel permit 10215</td>\n",
       "      <td>Permit FINAL_APPROVED by SUPERVISOR</td>\n",
       "      <td>2018-09-06 15:06:29+00:00</td>\n",
       "      <td>2018-09-06 15:06:29+00:00</td>\n",
       "      <td>travel permit 10215</td>\n",
       "      <td>1,957</td>\n",
       "      <td>True</td>\n",
       "      <td>travel permit number 10216</td>\n",
       "      <td>224.765145</td>\n",
       "      <td>1915.760495</td>\n",
       "      <td>...</td>\n",
       "      <td>2018</td>\n",
       "      <td>9</td>\n",
       "      <td>0.0</td>\n",
       "      <td>59335.0</td>\n",
       "      <td>59335.0</td>\n",
       "      <td>58266.0</td>\n",
       "      <td>0.0</td>\n",
       "      <td>Permit FINAL_APPROVED by SUPERVISOR</td>\n",
       "      <td>2018-09-06 15:06:29+00:00</td>\n",
       "      <td>travel permit 10215</td>\n",
       "    </tr>\n",
       "    <tr>\n",
       "      <th>4</th>\n",
       "      <td>travel permit 10215</td>\n",
       "      <td>Start trip</td>\n",
       "      <td>2018-11-06 00:00:00+00:00</td>\n",
       "      <td>2018-11-06 00:00:00+00:00</td>\n",
       "      <td>travel permit 10215</td>\n",
       "      <td>1,957</td>\n",
       "      <td>True</td>\n",
       "      <td>travel permit number 10216</td>\n",
       "      <td>224.765145</td>\n",
       "      <td>1915.760495</td>\n",
       "      <td>...</td>\n",
       "      <td>2018</td>\n",
       "      <td>11</td>\n",
       "      <td>0.0</td>\n",
       "      <td>1578146.0</td>\n",
       "      <td>1578146.0</td>\n",
       "      <td>1518811.0</td>\n",
       "      <td>0.0</td>\n",
       "      <td>Start trip</td>\n",
       "      <td>2018-11-06 00:00:00+00:00</td>\n",
       "      <td>travel permit 10215</td>\n",
       "    </tr>\n",
       "  </tbody>\n",
       "</table>\n",
       "<p>5 rows × 32 columns</p>\n",
       "</div>"
      ],
      "text/plain": [
       "                  case                                event  \\\n",
       "0  travel permit 10215         Permit SUBMITTED by EMPLOYEE   \n",
       "1  travel permit 10215    Permit APPROVED by ADMINISTRATION   \n",
       "2  travel permit 10215      Permit APPROVED by BUDGET OWNER   \n",
       "3  travel permit 10215  Permit FINAL_APPROVED by SUPERVISOR   \n",
       "4  travel permit 10215                           Start trip   \n",
       "\n",
       "                  startTime              completeTime                   id  \\\n",
       "0 2018-09-05 08:37:34+00:00 2018-09-05 08:37:34+00:00  travel permit 10215   \n",
       "1 2018-09-05 08:38:28+00:00 2018-09-05 08:38:28+00:00  travel permit 10215   \n",
       "2 2018-09-05 08:55:23+00:00 2018-09-05 08:55:23+00:00  travel permit 10215   \n",
       "3 2018-09-06 15:06:29+00:00 2018-09-06 15:06:29+00:00  travel permit 10215   \n",
       "4 2018-11-06 00:00:00+00:00 2018-11-06 00:00:00+00:00  travel permit 10215   \n",
       "\n",
       "  RequestedAmount_0  Overspent        travel permit number  OverspentAmount  \\\n",
       "0             1,957       True  travel permit number 10216       224.765145   \n",
       "1             1,957       True  travel permit number 10216       224.765145   \n",
       "2             1,957       True  travel permit number 10216       224.765145   \n",
       "3             1,957       True  travel permit number 10216       224.765145   \n",
       "4             1,957       True  travel permit number 10216       224.765145   \n",
       "\n",
       "   RequestedBudget  ...  year month  @@approx_bh_partial_cycle_time  \\\n",
       "0      1915.760495  ...  2018     9                             0.0   \n",
       "1      1915.760495  ...  2018     9                             0.0   \n",
       "2      1915.760495  ...  2018     9                             0.0   \n",
       "3      1915.760495  ...  2018     9                             0.0   \n",
       "4      1915.760495  ...  2018    11                             0.0   \n",
       "\n",
       "  @@approx_bh_partial_lead_time @@approx_bh_overall_wasted_time  \\\n",
       "0                           0.0                             0.0   \n",
       "1                          54.0                            54.0   \n",
       "2                        1069.0                          1069.0   \n",
       "3                       59335.0                         59335.0   \n",
       "4                     1578146.0                       1578146.0   \n",
       "\n",
       "  @@approx_bh_this_wasted_time @approx_bh_ratio_cycle_lead_time  \\\n",
       "0                          0.0                              1.0   \n",
       "1                         54.0                              0.0   \n",
       "2                       1015.0                              0.0   \n",
       "3                      58266.0                              0.0   \n",
       "4                    1518811.0                              0.0   \n",
       "\n",
       "                          concept:name            time:timestamp  \\\n",
       "0         Permit SUBMITTED by EMPLOYEE 2018-09-05 08:37:34+00:00   \n",
       "1    Permit APPROVED by ADMINISTRATION 2018-09-05 08:38:28+00:00   \n",
       "2      Permit APPROVED by BUDGET OWNER 2018-09-05 08:55:23+00:00   \n",
       "3  Permit FINAL_APPROVED by SUPERVISOR 2018-09-06 15:06:29+00:00   \n",
       "4                           Start trip 2018-11-06 00:00:00+00:00   \n",
       "\n",
       "     case:concept:name  \n",
       "0  travel permit 10215  \n",
       "1  travel permit 10215  \n",
       "2  travel permit 10215  \n",
       "3  travel permit 10215  \n",
       "4  travel permit 10215  \n",
       "\n",
       "[5 rows x 32 columns]"
      ]
     },
     "execution_count": 399,
     "metadata": {},
     "output_type": "execute_result"
    }
   ],
   "source": [
    "# convert logs to dataframe\n",
    "# final base dataframe\n",
    "df = pm4py.convert_to_dataframe(trace_prefixes)\n",
    "df.head(5)"
   ]
  },
  {
   "cell_type": "code",
   "execution_count": 400,
   "metadata": {},
   "outputs": [
    {
     "data": {
      "text/html": [
       "<div>\n",
       "<style scoped>\n",
       "    .dataframe tbody tr th:only-of-type {\n",
       "        vertical-align: middle;\n",
       "    }\n",
       "\n",
       "    .dataframe tbody tr th {\n",
       "        vertical-align: top;\n",
       "    }\n",
       "\n",
       "    .dataframe thead th {\n",
       "        text-align: right;\n",
       "    }\n",
       "</style>\n",
       "<table border=\"1\" class=\"dataframe\">\n",
       "  <thead>\n",
       "    <tr style=\"text-align: right;\">\n",
       "      <th></th>\n",
       "      <th>case</th>\n",
       "      <th>event</th>\n",
       "      <th>startTime</th>\n",
       "      <th>completeTime</th>\n",
       "      <th>id</th>\n",
       "      <th>RequestedAmount_0</th>\n",
       "      <th>Overspent</th>\n",
       "      <th>travel permit number</th>\n",
       "      <th>OverspentAmount</th>\n",
       "      <th>RequestedBudget</th>\n",
       "      <th>...</th>\n",
       "      <th>month</th>\n",
       "      <th>@@approx_bh_partial_cycle_time</th>\n",
       "      <th>@@approx_bh_partial_lead_time</th>\n",
       "      <th>@@approx_bh_overall_wasted_time</th>\n",
       "      <th>@@approx_bh_this_wasted_time</th>\n",
       "      <th>@approx_bh_ratio_cycle_lead_time</th>\n",
       "      <th>concept:name</th>\n",
       "      <th>time:timestamp</th>\n",
       "      <th>case:concept:name</th>\n",
       "      <th>declerations</th>\n",
       "    </tr>\n",
       "  </thead>\n",
       "  <tbody>\n",
       "    <tr>\n",
       "      <th>0</th>\n",
       "      <td>travel permit 10215</td>\n",
       "      <td>Permit SUBMITTED by EMPLOYEE</td>\n",
       "      <td>2018-09-05 08:37:34+00:00</td>\n",
       "      <td>2018-09-05 08:37:34+00:00</td>\n",
       "      <td>travel permit 10215</td>\n",
       "      <td>1,957</td>\n",
       "      <td>True</td>\n",
       "      <td>travel permit number 10216</td>\n",
       "      <td>224.765145</td>\n",
       "      <td>1915.760495</td>\n",
       "      <td>...</td>\n",
       "      <td>9</td>\n",
       "      <td>0.0</td>\n",
       "      <td>0.0</td>\n",
       "      <td>0.0</td>\n",
       "      <td>0.0</td>\n",
       "      <td>1.0</td>\n",
       "      <td>Permit SUBMITTED by EMPLOYEE</td>\n",
       "      <td>2018-09-05 08:37:34+00:00</td>\n",
       "      <td>travel permit 10215</td>\n",
       "      <td>0</td>\n",
       "    </tr>\n",
       "    <tr>\n",
       "      <th>1</th>\n",
       "      <td>travel permit 10215</td>\n",
       "      <td>Permit APPROVED by ADMINISTRATION</td>\n",
       "      <td>2018-09-05 08:38:28+00:00</td>\n",
       "      <td>2018-09-05 08:38:28+00:00</td>\n",
       "      <td>travel permit 10215</td>\n",
       "      <td>1,957</td>\n",
       "      <td>True</td>\n",
       "      <td>travel permit number 10216</td>\n",
       "      <td>224.765145</td>\n",
       "      <td>1915.760495</td>\n",
       "      <td>...</td>\n",
       "      <td>9</td>\n",
       "      <td>0.0</td>\n",
       "      <td>54.0</td>\n",
       "      <td>54.0</td>\n",
       "      <td>54.0</td>\n",
       "      <td>0.0</td>\n",
       "      <td>Permit APPROVED by ADMINISTRATION</td>\n",
       "      <td>2018-09-05 08:38:28+00:00</td>\n",
       "      <td>travel permit 10215</td>\n",
       "      <td>0</td>\n",
       "    </tr>\n",
       "    <tr>\n",
       "      <th>2</th>\n",
       "      <td>travel permit 10215</td>\n",
       "      <td>Permit APPROVED by BUDGET OWNER</td>\n",
       "      <td>2018-09-05 08:55:23+00:00</td>\n",
       "      <td>2018-09-05 08:55:23+00:00</td>\n",
       "      <td>travel permit 10215</td>\n",
       "      <td>1,957</td>\n",
       "      <td>True</td>\n",
       "      <td>travel permit number 10216</td>\n",
       "      <td>224.765145</td>\n",
       "      <td>1915.760495</td>\n",
       "      <td>...</td>\n",
       "      <td>9</td>\n",
       "      <td>0.0</td>\n",
       "      <td>1069.0</td>\n",
       "      <td>1069.0</td>\n",
       "      <td>1015.0</td>\n",
       "      <td>0.0</td>\n",
       "      <td>Permit APPROVED by BUDGET OWNER</td>\n",
       "      <td>2018-09-05 08:55:23+00:00</td>\n",
       "      <td>travel permit 10215</td>\n",
       "      <td>0</td>\n",
       "    </tr>\n",
       "    <tr>\n",
       "      <th>3</th>\n",
       "      <td>travel permit 10215</td>\n",
       "      <td>Permit FINAL_APPROVED by SUPERVISOR</td>\n",
       "      <td>2018-09-06 15:06:29+00:00</td>\n",
       "      <td>2018-09-06 15:06:29+00:00</td>\n",
       "      <td>travel permit 10215</td>\n",
       "      <td>1,957</td>\n",
       "      <td>True</td>\n",
       "      <td>travel permit number 10216</td>\n",
       "      <td>224.765145</td>\n",
       "      <td>1915.760495</td>\n",
       "      <td>...</td>\n",
       "      <td>9</td>\n",
       "      <td>0.0</td>\n",
       "      <td>59335.0</td>\n",
       "      <td>59335.0</td>\n",
       "      <td>58266.0</td>\n",
       "      <td>0.0</td>\n",
       "      <td>Permit FINAL_APPROVED by SUPERVISOR</td>\n",
       "      <td>2018-09-06 15:06:29+00:00</td>\n",
       "      <td>travel permit 10215</td>\n",
       "      <td>0</td>\n",
       "    </tr>\n",
       "    <tr>\n",
       "      <th>4</th>\n",
       "      <td>travel permit 10215</td>\n",
       "      <td>Start trip</td>\n",
       "      <td>2018-11-06 00:00:00+00:00</td>\n",
       "      <td>2018-11-06 00:00:00+00:00</td>\n",
       "      <td>travel permit 10215</td>\n",
       "      <td>1,957</td>\n",
       "      <td>True</td>\n",
       "      <td>travel permit number 10216</td>\n",
       "      <td>224.765145</td>\n",
       "      <td>1915.760495</td>\n",
       "      <td>...</td>\n",
       "      <td>11</td>\n",
       "      <td>0.0</td>\n",
       "      <td>1578146.0</td>\n",
       "      <td>1578146.0</td>\n",
       "      <td>1518811.0</td>\n",
       "      <td>0.0</td>\n",
       "      <td>Start trip</td>\n",
       "      <td>2018-11-06 00:00:00+00:00</td>\n",
       "      <td>travel permit 10215</td>\n",
       "      <td>0</td>\n",
       "    </tr>\n",
       "  </tbody>\n",
       "</table>\n",
       "<p>5 rows × 33 columns</p>\n",
       "</div>"
      ],
      "text/plain": [
       "                  case                                event  \\\n",
       "0  travel permit 10215         Permit SUBMITTED by EMPLOYEE   \n",
       "1  travel permit 10215    Permit APPROVED by ADMINISTRATION   \n",
       "2  travel permit 10215      Permit APPROVED by BUDGET OWNER   \n",
       "3  travel permit 10215  Permit FINAL_APPROVED by SUPERVISOR   \n",
       "4  travel permit 10215                           Start trip   \n",
       "\n",
       "                  startTime              completeTime                   id  \\\n",
       "0 2018-09-05 08:37:34+00:00 2018-09-05 08:37:34+00:00  travel permit 10215   \n",
       "1 2018-09-05 08:38:28+00:00 2018-09-05 08:38:28+00:00  travel permit 10215   \n",
       "2 2018-09-05 08:55:23+00:00 2018-09-05 08:55:23+00:00  travel permit 10215   \n",
       "3 2018-09-06 15:06:29+00:00 2018-09-06 15:06:29+00:00  travel permit 10215   \n",
       "4 2018-11-06 00:00:00+00:00 2018-11-06 00:00:00+00:00  travel permit 10215   \n",
       "\n",
       "  RequestedAmount_0  Overspent        travel permit number  OverspentAmount  \\\n",
       "0             1,957       True  travel permit number 10216       224.765145   \n",
       "1             1,957       True  travel permit number 10216       224.765145   \n",
       "2             1,957       True  travel permit number 10216       224.765145   \n",
       "3             1,957       True  travel permit number 10216       224.765145   \n",
       "4             1,957       True  travel permit number 10216       224.765145   \n",
       "\n",
       "   RequestedBudget  ... month @@approx_bh_partial_cycle_time  \\\n",
       "0      1915.760495  ...     9                            0.0   \n",
       "1      1915.760495  ...     9                            0.0   \n",
       "2      1915.760495  ...     9                            0.0   \n",
       "3      1915.760495  ...     9                            0.0   \n",
       "4      1915.760495  ...    11                            0.0   \n",
       "\n",
       "   @@approx_bh_partial_lead_time @@approx_bh_overall_wasted_time  \\\n",
       "0                            0.0                             0.0   \n",
       "1                           54.0                            54.0   \n",
       "2                         1069.0                          1069.0   \n",
       "3                        59335.0                         59335.0   \n",
       "4                      1578146.0                       1578146.0   \n",
       "\n",
       "  @@approx_bh_this_wasted_time @approx_bh_ratio_cycle_lead_time  \\\n",
       "0                          0.0                              1.0   \n",
       "1                         54.0                              0.0   \n",
       "2                       1015.0                              0.0   \n",
       "3                      58266.0                              0.0   \n",
       "4                    1518811.0                              0.0   \n",
       "\n",
       "                          concept:name            time:timestamp  \\\n",
       "0         Permit SUBMITTED by EMPLOYEE 2018-09-05 08:37:34+00:00   \n",
       "1    Permit APPROVED by ADMINISTRATION 2018-09-05 08:38:28+00:00   \n",
       "2      Permit APPROVED by BUDGET OWNER 2018-09-05 08:55:23+00:00   \n",
       "3  Permit FINAL_APPROVED by SUPERVISOR 2018-09-06 15:06:29+00:00   \n",
       "4                           Start trip 2018-11-06 00:00:00+00:00   \n",
       "\n",
       "     case:concept:name  declerations  \n",
       "0  travel permit 10215             0  \n",
       "1  travel permit 10215             0  \n",
       "2  travel permit 10215             0  \n",
       "3  travel permit 10215             0  \n",
       "4  travel permit 10215             0  \n",
       "\n",
       "[5 rows x 33 columns]"
      ]
     },
     "execution_count": 400,
     "metadata": {},
     "output_type": "execute_result"
    }
   ],
   "source": [
    "# Create dataframe for Target variable and combine with above trace dataframe\n",
    "cases = list(df.groupby(['case'],sort=False)['id'].first().keys())\n",
    "df_dict = dict()\n",
    "df_dict['case'] = cases\n",
    "df_dict['declerations'] = declerations\n",
    "temp_df = pd.DataFrame(df_dict)\n",
    "\n",
    "# merge target variable with permits\n",
    "df = df.merge(temp_df,on=['case'])\n",
    "df.head()"
   ]
  },
  {
   "cell_type": "code",
   "execution_count": 401,
   "metadata": {},
   "outputs": [],
   "source": [
    "save_path = save_path_base + df_type +'_trace_len_'+str(t_length)+ '.csv'\n",
    "df.to_csv(save_path,index=False)"
   ]
  },
  {
   "cell_type": "markdown",
   "metadata": {},
   "source": [
    "## Feature Selection ( Based on Data Exploration )"
   ]
  },
  {
   "cell_type": "code",
   "execution_count": 303,
   "metadata": {},
   "outputs": [],
   "source": [
    "# passed features we want to extract\n",
    "\n",
    "# str_ev_attr\tString attributes at the event level: these are hot-encoded into features that may assume value 0 or value 1.\n",
    "# str_tr_attr\tString attributes at the trace level: these are hot-encoded into features that may assume value 0 or value 1.\n",
    "# num_ev_attr\tNumeric attributes at the event level: these are encoded by including the last value of the attribute among the events of the trace.\n",
    "# num_tr_attr\tNumeric attributes at trace level: these are encoded by including the numerical value.\n",
    "# str_evsucc_attr\tSuccessions related to the string attributes values at the event level: for example, if we have a trace [A,B,C], it might be important to include not only the presence of the single values A, B and C as features; but also the presence of the directly-follows couples (A,B) and (B,C).\n",
    "# ================================================\n",
    "\n",
    "str_ev_attr = ['concept:name']\n",
    "str_tr_attr = ['OrganizationalEntity','month']\n",
    "num_ev_attr = ['@@approx_bh_partial_lead_time','@@approx_bh_this_wasted_time']\n",
    "num_tr_attr = []"
   ]
  },
  {
   "cell_type": "markdown",
   "metadata": {},
   "source": [
    "## Boolean encoding\n",
    "\n",
    "- can be easily extended with adding more attributes of traces other then activities, but for now kept it simple and as discussed in course"
   ]
  },
  {
   "cell_type": "code",
   "execution_count": 304,
   "metadata": {},
   "outputs": [],
   "source": [
    "encode_name = 'boolean_encode_'\n",
    "save_path = save_path_base + encode_name + 'train' +'_trace_len_'+str(t_length)+ '.pickle'\n",
    "loaded_data = load_data(save_path)\n",
    "ohe_dict = loaded_data['feature_names']"
   ]
  },
  {
   "cell_type": "code",
   "execution_count": 305,
   "metadata": {},
   "outputs": [],
   "source": [
    "# here for each trace we extract ohe vector for activity and sum them up and if count is greater then 1 we make them 1 \n",
    "# because this encoding only provides info, if the activity was there or not\n",
    "\n",
    "data = []\n",
    "\n",
    "for id, group in df.groupby(['case:concept:name']):\n",
    "    feature_vec = []\n",
    "\n",
    "    # add categorical and numerical event attributes\n",
    "    for cat_atr in str_ev_attr[:1]:\n",
    "        attr_length = len(list(ohe_dict[cat_atr].values())[0])\n",
    "        str_ev_vec = np.array([0]*attr_length)\n",
    "\n",
    "        for ca in group[cat_atr]:\n",
    "            str_ev_vec  = str_ev_vec + np.array(ohe_dict[cat_atr][ca])\n",
    "\n",
    "        # make it a non frequency vector (if count is greater then 1 make it 1)\n",
    "        for i,num in enumerate(str_ev_vec):\n",
    "            if num>1:\n",
    "                str_ev_vec[i]=1\n",
    "\n",
    "        feature_vec.extend(list(str_ev_vec))\n",
    "\n",
    "    data.append(feature_vec)\n",
    "\n",
    "    # data.append(feature_vec)"
   ]
  },
  {
   "cell_type": "code",
   "execution_count": 306,
   "metadata": {},
   "outputs": [],
   "source": [
    "encode_name = 'boolean_encode_'\n",
    "save_path = save_path_base + encode_name + df_type +'_trace_len_'+str(t_length)+ '.pickle'\n",
    "save_data(data, declerations, ohe_dict ,save_path)"
   ]
  },
  {
   "cell_type": "markdown",
   "metadata": {},
   "source": [
    "## Frequency encoding"
   ]
  },
  {
   "cell_type": "code",
   "execution_count": 307,
   "metadata": {},
   "outputs": [],
   "source": [
    "encode_name = 'frequency_encode_'\n",
    "save_path = save_path_base + encode_name + 'train' +'_trace_len_'+str(t_length)+ '.pickle'\n",
    "loaded_data = load_data(save_path)\n",
    "ohe_dict = loaded_data['feature_names']"
   ]
  },
  {
   "cell_type": "code",
   "execution_count": 308,
   "metadata": {},
   "outputs": [],
   "source": [
    "# here for each trace we extract ohe vector for activity and sum them up \n",
    "# because this encoding only provides count of how many times the activity appears\n",
    "\n",
    "data = []\n",
    "\n",
    "for id, group in df.groupby(['case:concept:name']):\n",
    "    feature_vec = []\n",
    "\n",
    "    # add categorical and numerical event attributes\n",
    "    for cat_atr in str_ev_attr[:1]:\n",
    "        attr_length = len(list(ohe_dict[cat_atr].values())[0])\n",
    "        str_ev_vec = np.array([0]*attr_length)\n",
    "\n",
    "        for ca in group[cat_atr]:\n",
    "            str_ev_vec  = str_ev_vec + np.array(ohe_dict[cat_atr][ca])\n",
    "\n",
    "        feature_vec.extend(list(str_ev_vec))\n",
    "\n",
    "    data.append(feature_vec)\n",
    "\n",
    "    # data.append(feature_vec)"
   ]
  },
  {
   "cell_type": "code",
   "execution_count": 309,
   "metadata": {},
   "outputs": [],
   "source": [
    "# save results\n",
    "encode_name = 'frequency_encode_'\n",
    "save_path = save_path_base + encode_name + df_type +'_trace_len_'+str(t_length)+ '.pickle'\n",
    "save_data(data, declerations, ohe_dict ,save_path)"
   ]
  },
  {
   "cell_type": "markdown",
   "metadata": {},
   "source": [
    "## Complex index based encoding - static feature (trace attributes) + n events encoding + event features"
   ]
  },
  {
   "cell_type": "code",
   "execution_count": 310,
   "metadata": {},
   "outputs": [],
   "source": [
    "encode_name = 'complex_index_encode_'\n",
    "save_path = save_path_base + encode_name + 'train' +'_trace_len_'+str(t_length)+ '.pickle'\n",
    "loaded_data = load_data(save_path)\n",
    "ohe_dict = loaded_data['feature_names']"
   ]
  },
  {
   "cell_type": "code",
   "execution_count": 311,
   "metadata": {},
   "outputs": [],
   "source": [
    "# here for each trace we put events encoded in order and there aatributes along with padding to make vector length same\n",
    "# similatly for trace attributes but since it is trace attributes that is only for once\n",
    "\n",
    "data = []\n",
    "\n",
    "for id, group in df.groupby(['case:concept:name']):\n",
    "    feature_vec = []\n",
    "\n",
    "    # add categorical and numerical event attributes along with paddings \n",
    "\n",
    "    for cat_atr in str_ev_attr:\n",
    "        str_ev_vec = []\n",
    "        attr_length = len(list(ohe_dict[cat_atr].values())[0])\n",
    "        for ca in group[cat_atr]:\n",
    "            str_ev_vec.extend(ohe_dict[cat_atr][ca])\n",
    "        \n",
    "        # padding\n",
    "        str_ev_vec = cat_padding(str_ev_vec, t_length, attr_length)\n",
    "        feature_vec.extend(str_ev_vec)\n",
    "\n",
    "\n",
    "    for num_atr in num_ev_attr:\n",
    "        num_ev_vec = []\n",
    "        num_ev_vec.extend(list(group[num_atr]))\n",
    "\n",
    "        # padding\n",
    "        num_ev_vec = num_padding(num_ev_vec, t_length)\n",
    "        feature_vec.extend(num_ev_vec)\n",
    "\n",
    "\n",
    "\n",
    "    # add categorical and numerical trace attributes\n",
    "    for num_t_atr in num_tr_attr:\n",
    "        feature_vec.extend(group[num_t_atr].iloc[0])\n",
    "\n",
    "\n",
    "    for cat_t_atr in str_tr_attr:\n",
    "        feature_vec.extend(ohe_dict[cat_t_atr][group[cat_t_atr].iloc[0]])\n",
    "\n",
    "    # add vector to data\n",
    "    data.append(feature_vec)\n"
   ]
  },
  {
   "cell_type": "code",
   "execution_count": 312,
   "metadata": {},
   "outputs": [],
   "source": [
    "# check if all vector lengths are same \n",
    "vec_len = len(data[0])\n",
    "\n",
    "for i, d in enumerate(data):\n",
    "    if len(d)!=vec_len:\n",
    "        print(i, len(d))"
   ]
  },
  {
   "cell_type": "code",
   "execution_count": 313,
   "metadata": {},
   "outputs": [],
   "source": [
    "# save results\n",
    "encode_name = 'complex_index_encode_'\n",
    "save_path = save_path_base + encode_name + df_type +'_trace_len_'+str(t_length)+ '.pickle'\n",
    "save_data(data, declerations, ohe_dict ,save_path)"
   ]
  },
  {
   "cell_type": "markdown",
   "metadata": {},
   "source": [
    "## LSTM encoding"
   ]
  },
  {
   "cell_type": "code",
   "execution_count": 314,
   "metadata": {},
   "outputs": [],
   "source": [
    "encode_name = 'lstm_encode_'\n",
    "save_path = save_path_base + encode_name + 'train' +'_trace_len_'+str(t_length)+ '.pickle'\n",
    "loaded_data = load_data(save_path)\n",
    "ohe_dict = loaded_data['feature_names']"
   ]
  },
  {
   "cell_type": "code",
   "execution_count": 315,
   "metadata": {},
   "outputs": [],
   "source": [
    "# here we create sequence of each trace\n",
    "# so the dimentions will be (number of examples * trace_length * feature_length )\n",
    "\n",
    "data = []\n",
    "\n",
    "for id, group in df.groupby(['case:concept:name']):\n",
    "    \n",
    "    feature_vec = []\n",
    "\n",
    "    for index, row in group.iterrows():\n",
    "\n",
    "        row_vec = []\n",
    "\n",
    "        for cat_atr in str_ev_attr:\n",
    "            row_vec.extend(ohe_dict[cat_atr][row[cat_atr]])\n",
    "\n",
    "        for num_atr in num_ev_attr:\n",
    "            row_vec.append(row[num_atr])\n",
    "\n",
    "\n",
    "        # add categorical and numerical trace attributes\n",
    "        for num_t_atr in num_tr_attr:\n",
    "            row_vec.append(group[num_t_atr].iloc[0])\n",
    "\n",
    "        for cat_t_atr in str_tr_attr:\n",
    "            row_vec.extend(ohe_dict[cat_t_atr][group[cat_t_atr].iloc[0]])\n",
    "\n",
    "        feature_vec.append(row_vec)\n",
    "    \n",
    "\n",
    "    # add vector to data\n",
    "    data.append(feature_vec)\n"
   ]
  },
  {
   "cell_type": "code",
   "execution_count": 316,
   "metadata": {},
   "outputs": [],
   "source": [
    "# converting to array\n",
    "data = np.array([np.array(ls) for ls in data])"
   ]
  },
  {
   "cell_type": "code",
   "execution_count": 317,
   "metadata": {},
   "outputs": [
    {
     "data": {
      "text/plain": [
       "(10, 87)"
      ]
     },
     "execution_count": 317,
     "metadata": {},
     "output_type": "execute_result"
    }
   ],
   "source": [
    "feature_len = len(data[0][0])\n",
    "desired_shape = (t_length,feature_len)\n",
    "desired_shape"
   ]
  },
  {
   "cell_type": "code",
   "execution_count": 318,
   "metadata": {},
   "outputs": [
    {
     "data": {
      "text/plain": [
       "(769, 10, 87)"
      ]
     },
     "execution_count": 318,
     "metadata": {},
     "output_type": "execute_result"
    }
   ],
   "source": [
    "# padding data to make equal shape of vectors\n",
    "padded_data = []\n",
    "for case in data:\n",
    "    pd_case = np.zeros(desired_shape)\n",
    "    pd_case[:case.shape[0],:case.shape[1]] = case\n",
    "    padded_data.append(pd_case)\n",
    "\n",
    "padded_data = np.array(padded_data)\n",
    "padded_data.shape"
   ]
  },
  {
   "cell_type": "code",
   "execution_count": 319,
   "metadata": {},
   "outputs": [],
   "source": [
    "# save results\n",
    "encode_name = 'lstm_encode_'\n",
    "save_path = save_path_base + encode_name + df_type +'_trace_len_'+str(t_length)+ '.pickle'\n",
    "save_data(data, declerations, ohe_dict ,save_path)"
   ]
  },
  {
   "cell_type": "code",
   "execution_count": null,
   "metadata": {},
   "outputs": [],
   "source": []
  },
  {
   "cell_type": "code",
   "execution_count": null,
   "metadata": {},
   "outputs": [],
   "source": []
  },
  {
   "attachments": {},
   "cell_type": "markdown",
   "metadata": {},
   "source": [
    "# =============================================\n",
    "# Preparing Val Data"
   ]
  },
  {
   "cell_type": "code",
   "execution_count": 320,
   "metadata": {},
   "outputs": [],
   "source": [
    "df_type = 'val'\n",
    "permits = val_df"
   ]
  },
  {
   "cell_type": "code",
   "execution_count": 321,
   "metadata": {},
   "outputs": [
    {
     "data": {
      "text/html": [
       "<div>\n",
       "<style scoped>\n",
       "    .dataframe tbody tr th:only-of-type {\n",
       "        vertical-align: middle;\n",
       "    }\n",
       "\n",
       "    .dataframe tbody tr th {\n",
       "        vertical-align: top;\n",
       "    }\n",
       "\n",
       "    .dataframe thead th {\n",
       "        text-align: right;\n",
       "    }\n",
       "</style>\n",
       "<table border=\"1\" class=\"dataframe\">\n",
       "  <thead>\n",
       "    <tr style=\"text-align: right;\">\n",
       "      <th></th>\n",
       "      <th>case</th>\n",
       "      <th>event</th>\n",
       "      <th>startTime</th>\n",
       "      <th>completeTime</th>\n",
       "      <th>id</th>\n",
       "      <th>RequestedAmount_0</th>\n",
       "      <th>Overspent</th>\n",
       "      <th>travel permit number</th>\n",
       "      <th>OverspentAmount</th>\n",
       "      <th>RequestedBudget</th>\n",
       "      <th>...</th>\n",
       "      <th>year</th>\n",
       "      <th>month</th>\n",
       "      <th>concept:name</th>\n",
       "      <th>time:timestamp</th>\n",
       "      <th>@@approx_bh_partial_cycle_time</th>\n",
       "      <th>@@approx_bh_partial_lead_time</th>\n",
       "      <th>@@approx_bh_overall_wasted_time</th>\n",
       "      <th>@@approx_bh_this_wasted_time</th>\n",
       "      <th>@approx_bh_ratio_cycle_lead_time</th>\n",
       "      <th>case:concept:name</th>\n",
       "    </tr>\n",
       "  </thead>\n",
       "  <tbody>\n",
       "    <tr>\n",
       "      <th>97</th>\n",
       "      <td>travel permit 10181</td>\n",
       "      <td>Permit SUBMITTED by EMPLOYEE</td>\n",
       "      <td>2018-09-03 12:54:24+00:00</td>\n",
       "      <td>2018-09-03 12:54:24+00:00</td>\n",
       "      <td>travel permit 10181</td>\n",
       "      <td>479</td>\n",
       "      <td>False</td>\n",
       "      <td>travel permit number 10182</td>\n",
       "      <td>-1906.94003</td>\n",
       "      <td>2793.12322</td>\n",
       "      <td>...</td>\n",
       "      <td>2018</td>\n",
       "      <td>9</td>\n",
       "      <td>Permit SUBMITTED by EMPLOYEE</td>\n",
       "      <td>2018-09-03 12:54:24+00:00</td>\n",
       "      <td>0.0</td>\n",
       "      <td>0.0</td>\n",
       "      <td>0.0</td>\n",
       "      <td>0.0</td>\n",
       "      <td>1.0</td>\n",
       "      <td>travel permit 10181</td>\n",
       "    </tr>\n",
       "    <tr>\n",
       "      <th>98</th>\n",
       "      <td>travel permit 10181</td>\n",
       "      <td>Permit APPROVED by ADMINISTRATION</td>\n",
       "      <td>2018-09-03 12:54:26+00:00</td>\n",
       "      <td>2018-09-03 12:54:26+00:00</td>\n",
       "      <td>travel permit 10181</td>\n",
       "      <td>479</td>\n",
       "      <td>False</td>\n",
       "      <td>travel permit number 10182</td>\n",
       "      <td>-1906.94003</td>\n",
       "      <td>2793.12322</td>\n",
       "      <td>...</td>\n",
       "      <td>2018</td>\n",
       "      <td>9</td>\n",
       "      <td>Permit APPROVED by ADMINISTRATION</td>\n",
       "      <td>2018-09-03 12:54:26+00:00</td>\n",
       "      <td>0.0</td>\n",
       "      <td>2.0</td>\n",
       "      <td>2.0</td>\n",
       "      <td>2.0</td>\n",
       "      <td>0.0</td>\n",
       "      <td>travel permit 10181</td>\n",
       "    </tr>\n",
       "    <tr>\n",
       "      <th>99</th>\n",
       "      <td>travel permit 10181</td>\n",
       "      <td>Permit APPROVED by BUDGET OWNER</td>\n",
       "      <td>2018-09-05 09:50:06+00:00</td>\n",
       "      <td>2018-09-05 09:50:06+00:00</td>\n",
       "      <td>travel permit 10181</td>\n",
       "      <td>479</td>\n",
       "      <td>False</td>\n",
       "      <td>travel permit number 10182</td>\n",
       "      <td>-1906.94003</td>\n",
       "      <td>2793.12322</td>\n",
       "      <td>...</td>\n",
       "      <td>2018</td>\n",
       "      <td>9</td>\n",
       "      <td>Permit APPROVED by BUDGET OWNER</td>\n",
       "      <td>2018-09-05 09:50:06+00:00</td>\n",
       "      <td>0.0</td>\n",
       "      <td>60942.0</td>\n",
       "      <td>60942.0</td>\n",
       "      <td>60940.0</td>\n",
       "      <td>0.0</td>\n",
       "      <td>travel permit 10181</td>\n",
       "    </tr>\n",
       "    <tr>\n",
       "      <th>100</th>\n",
       "      <td>travel permit 10181</td>\n",
       "      <td>Permit FINAL_APPROVED by SUPERVISOR</td>\n",
       "      <td>2018-09-06 22:19:13+00:00</td>\n",
       "      <td>2018-09-06 22:19:13+00:00</td>\n",
       "      <td>travel permit 10181</td>\n",
       "      <td>479</td>\n",
       "      <td>False</td>\n",
       "      <td>travel permit number 10182</td>\n",
       "      <td>-1906.94003</td>\n",
       "      <td>2793.12322</td>\n",
       "      <td>...</td>\n",
       "      <td>2018</td>\n",
       "      <td>9</td>\n",
       "      <td>Permit FINAL_APPROVED by SUPERVISOR</td>\n",
       "      <td>2018-09-06 22:19:13+00:00</td>\n",
       "      <td>0.0</td>\n",
       "      <td>122736.0</td>\n",
       "      <td>122736.0</td>\n",
       "      <td>61794.0</td>\n",
       "      <td>0.0</td>\n",
       "      <td>travel permit 10181</td>\n",
       "    </tr>\n",
       "    <tr>\n",
       "      <th>101</th>\n",
       "      <td>travel permit 10181</td>\n",
       "      <td>Start trip</td>\n",
       "      <td>2018-09-23 00:00:00+00:00</td>\n",
       "      <td>2018-09-23 00:00:00+00:00</td>\n",
       "      <td>travel permit 10181</td>\n",
       "      <td>479</td>\n",
       "      <td>False</td>\n",
       "      <td>travel permit number 10182</td>\n",
       "      <td>-1906.94003</td>\n",
       "      <td>2793.12322</td>\n",
       "      <td>...</td>\n",
       "      <td>2018</td>\n",
       "      <td>9</td>\n",
       "      <td>Start trip</td>\n",
       "      <td>2018-09-23 00:00:00+00:00</td>\n",
       "      <td>0.0</td>\n",
       "      <td>518736.0</td>\n",
       "      <td>518736.0</td>\n",
       "      <td>396000.0</td>\n",
       "      <td>0.0</td>\n",
       "      <td>travel permit 10181</td>\n",
       "    </tr>\n",
       "  </tbody>\n",
       "</table>\n",
       "<p>5 rows × 32 columns</p>\n",
       "</div>"
      ],
      "text/plain": [
       "                    case                                event  \\\n",
       "97   travel permit 10181         Permit SUBMITTED by EMPLOYEE   \n",
       "98   travel permit 10181    Permit APPROVED by ADMINISTRATION   \n",
       "99   travel permit 10181      Permit APPROVED by BUDGET OWNER   \n",
       "100  travel permit 10181  Permit FINAL_APPROVED by SUPERVISOR   \n",
       "101  travel permit 10181                           Start trip   \n",
       "\n",
       "                    startTime              completeTime                   id  \\\n",
       "97  2018-09-03 12:54:24+00:00 2018-09-03 12:54:24+00:00  travel permit 10181   \n",
       "98  2018-09-03 12:54:26+00:00 2018-09-03 12:54:26+00:00  travel permit 10181   \n",
       "99  2018-09-05 09:50:06+00:00 2018-09-05 09:50:06+00:00  travel permit 10181   \n",
       "100 2018-09-06 22:19:13+00:00 2018-09-06 22:19:13+00:00  travel permit 10181   \n",
       "101 2018-09-23 00:00:00+00:00 2018-09-23 00:00:00+00:00  travel permit 10181   \n",
       "\n",
       "    RequestedAmount_0  Overspent        travel permit number  OverspentAmount  \\\n",
       "97                479      False  travel permit number 10182      -1906.94003   \n",
       "98                479      False  travel permit number 10182      -1906.94003   \n",
       "99                479      False  travel permit number 10182      -1906.94003   \n",
       "100               479      False  travel permit number 10182      -1906.94003   \n",
       "101               479      False  travel permit number 10182      -1906.94003   \n",
       "\n",
       "     RequestedBudget  ...  year month                         concept:name  \\\n",
       "97        2793.12322  ...  2018     9         Permit SUBMITTED by EMPLOYEE   \n",
       "98        2793.12322  ...  2018     9    Permit APPROVED by ADMINISTRATION   \n",
       "99        2793.12322  ...  2018     9      Permit APPROVED by BUDGET OWNER   \n",
       "100       2793.12322  ...  2018     9  Permit FINAL_APPROVED by SUPERVISOR   \n",
       "101       2793.12322  ...  2018     9                           Start trip   \n",
       "\n",
       "               time:timestamp @@approx_bh_partial_cycle_time  \\\n",
       "97  2018-09-03 12:54:24+00:00                            0.0   \n",
       "98  2018-09-03 12:54:26+00:00                            0.0   \n",
       "99  2018-09-05 09:50:06+00:00                            0.0   \n",
       "100 2018-09-06 22:19:13+00:00                            0.0   \n",
       "101 2018-09-23 00:00:00+00:00                            0.0   \n",
       "\n",
       "    @@approx_bh_partial_lead_time @@approx_bh_overall_wasted_time  \\\n",
       "97                            0.0                             0.0   \n",
       "98                            2.0                             2.0   \n",
       "99                        60942.0                         60942.0   \n",
       "100                      122736.0                        122736.0   \n",
       "101                      518736.0                        518736.0   \n",
       "\n",
       "    @@approx_bh_this_wasted_time @approx_bh_ratio_cycle_lead_time  \\\n",
       "97                           0.0                              1.0   \n",
       "98                           2.0                              0.0   \n",
       "99                       60940.0                              0.0   \n",
       "100                      61794.0                              0.0   \n",
       "101                     396000.0                              0.0   \n",
       "\n",
       "       case:concept:name  \n",
       "97   travel permit 10181  \n",
       "98   travel permit 10181  \n",
       "99   travel permit 10181  \n",
       "100  travel permit 10181  \n",
       "101  travel permit 10181  \n",
       "\n",
       "[5 rows x 32 columns]"
      ]
     },
     "execution_count": 321,
     "metadata": {},
     "output_type": "execute_result"
    }
   ],
   "source": [
    "val_df.head()"
   ]
  },
  {
   "cell_type": "markdown",
   "metadata": {},
   "source": [
    "### Adding some stastitics features in event log using pm4py"
   ]
  },
  {
   "cell_type": "code",
   "execution_count": 322,
   "metadata": {},
   "outputs": [],
   "source": [
    "# converting dataframe to event log\n",
    "trace_log = pm4py.format_dataframe(permits, case_id='case', activity_key='event', timestamp_key='completeTime', start_timestamp_key='startTime')\n",
    "trace_log = pm4py.convert_to_event_log(trace_log)"
   ]
  },
  {
   "attachments": {},
   "cell_type": "markdown",
   "metadata": {},
   "source": [
    "### Extracting target variable\n",
    "\n",
    "- In our case target variable is REJECTED Declaration, in the process whoever rejects the Declaration (Administrartor, pre-approvar, etc.) it is considered as Declaration REJECTED so using it to identify our target variable\n",
    "\n",
    "- One of our assumption is - If the decleration is not submitted by Employee and the payment is handeled directly, it is also considered as Declaration Accapted (so basically all the Declarations which is not rejected by employee are considerd as Accapted )\n",
    "\n",
    "- we are not dealing with situations where it got rejected twice. For now we are only interested in 1st time rejection\n"
   ]
  },
  {
   "cell_type": "code",
   "execution_count": 323,
   "metadata": {},
   "outputs": [],
   "source": [
    "# to extract target varaible, \n",
    "# if event starts with the name decleration rejected it is considered as rejected\n",
    "declerations = []\n",
    "for trace in trace_log:\n",
    "    flag = False\n",
    "    for i,event in enumerate(trace):\n",
    "        if \"Declaration REJECTED\" in event['event']:\n",
    "            flag = True\n",
    "            break\n",
    "    \n",
    "    if flag:\n",
    "        declerations.append(1)\n",
    "    else:\n",
    "        declerations.append(0)"
   ]
  },
  {
   "cell_type": "code",
   "execution_count": 324,
   "metadata": {},
   "outputs": [
    {
     "data": {
      "text/plain": [
       "770"
      ]
     },
     "execution_count": 324,
     "metadata": {},
     "output_type": "execute_result"
    }
   ],
   "source": [
    "len(declerations)"
   ]
  },
  {
   "cell_type": "code",
   "execution_count": 325,
   "metadata": {},
   "outputs": [],
   "source": [
    "# extract traces only till the decleration is rejected (excluded), otherwise complete trace \n",
    "prefix_traces = []\n",
    "for trace in trace_log:\n",
    "    for i,event in enumerate(trace):\n",
    "        if \"Declaration REJECTED\" in event['event']:\n",
    "            break\n",
    "    prefix_traces.append(Trace(trace[:i], attributes = trace.attributes))\n",
    "prefix_traces = EventLog(prefix_traces)"
   ]
  },
  {
   "cell_type": "code",
   "execution_count": 326,
   "metadata": {},
   "outputs": [],
   "source": [
    "# generate prefixes, note that we need to add the casts to EventLog and Trace to make sure that the result is a PM4Py EventLog object\n",
    "trace_prefixes = EventLog([Trace(trace[0:t_length], attributes = trace.attributes) for trace in prefix_traces])"
   ]
  },
  {
   "cell_type": "code",
   "execution_count": 327,
   "metadata": {},
   "outputs": [
    {
     "name": "stdout",
     "output_type": "stream",
     "text": [
      "[10, 8, 21, 6, 10, 10, 8, 10, 10, 6, 8, 8, 10, 6, 7]\n",
      "[10, 8, 10, 6, 10, 10, 8, 10, 10, 6, 8, 8, 10, 6, 7]\n"
     ]
    }
   ],
   "source": [
    "# check the trace length\n",
    "print([len(trace) for trace in prefix_traces][0:15])\n",
    "print([len(trace) for trace in trace_prefixes][0:15])"
   ]
  },
  {
   "cell_type": "code",
   "execution_count": 328,
   "metadata": {},
   "outputs": [
    {
     "name": "stdout",
     "output_type": "stream",
     "text": [
      "['Permit SUBMITTED by EMPLOYEE', 'Permit APPROVED by ADMINISTRATION', 'Permit APPROVED by BUDGET OWNER', 'Permit FINAL_APPROVED by SUPERVISOR', 'Start trip', 'End trip', 'Declaration SUBMITTED by EMPLOYEE', 'Declaration APPROVED by ADMINISTRATION', 'Declaration APPROVED by BUDGET OWNER', 'Declaration FINAL_APPROVED by SUPERVISOR']\n"
     ]
    }
   ],
   "source": [
    "# check if all good\n",
    "project_nth(trace_prefixes, 0)"
   ]
  },
  {
   "cell_type": "code",
   "execution_count": 329,
   "metadata": {},
   "outputs": [
    {
     "name": "stdout",
     "output_type": "stream",
     "text": [
      "1 8\n"
     ]
    }
   ],
   "source": [
    "# to check which traces are not of our desired length (these will be padded while preparing the the training data)\n",
    "for i,trace in enumerate(trace_prefixes):\n",
    "    if len(trace)!=t_length:\n",
    "        print(i, len(trace))\n",
    "        break"
   ]
  },
  {
   "cell_type": "code",
   "execution_count": 330,
   "metadata": {},
   "outputs": [
    {
     "data": {
      "text/html": [
       "<div>\n",
       "<style scoped>\n",
       "    .dataframe tbody tr th:only-of-type {\n",
       "        vertical-align: middle;\n",
       "    }\n",
       "\n",
       "    .dataframe tbody tr th {\n",
       "        vertical-align: top;\n",
       "    }\n",
       "\n",
       "    .dataframe thead th {\n",
       "        text-align: right;\n",
       "    }\n",
       "</style>\n",
       "<table border=\"1\" class=\"dataframe\">\n",
       "  <thead>\n",
       "    <tr style=\"text-align: right;\">\n",
       "      <th></th>\n",
       "      <th>case</th>\n",
       "      <th>event</th>\n",
       "      <th>startTime</th>\n",
       "      <th>completeTime</th>\n",
       "      <th>id</th>\n",
       "      <th>RequestedAmount_0</th>\n",
       "      <th>Overspent</th>\n",
       "      <th>travel permit number</th>\n",
       "      <th>OverspentAmount</th>\n",
       "      <th>RequestedBudget</th>\n",
       "      <th>...</th>\n",
       "      <th>year</th>\n",
       "      <th>month</th>\n",
       "      <th>@@approx_bh_partial_cycle_time</th>\n",
       "      <th>@@approx_bh_partial_lead_time</th>\n",
       "      <th>@@approx_bh_overall_wasted_time</th>\n",
       "      <th>@@approx_bh_this_wasted_time</th>\n",
       "      <th>@approx_bh_ratio_cycle_lead_time</th>\n",
       "      <th>concept:name</th>\n",
       "      <th>time:timestamp</th>\n",
       "      <th>case:concept:name</th>\n",
       "    </tr>\n",
       "  </thead>\n",
       "  <tbody>\n",
       "    <tr>\n",
       "      <th>0</th>\n",
       "      <td>travel permit 10181</td>\n",
       "      <td>Permit SUBMITTED by EMPLOYEE</td>\n",
       "      <td>2018-09-03 12:54:24+00:00</td>\n",
       "      <td>2018-09-03 12:54:24+00:00</td>\n",
       "      <td>travel permit 10181</td>\n",
       "      <td>479</td>\n",
       "      <td>False</td>\n",
       "      <td>travel permit number 10182</td>\n",
       "      <td>-1906.94003</td>\n",
       "      <td>2793.12322</td>\n",
       "      <td>...</td>\n",
       "      <td>2018</td>\n",
       "      <td>9</td>\n",
       "      <td>0.0</td>\n",
       "      <td>0.0</td>\n",
       "      <td>0.0</td>\n",
       "      <td>0.0</td>\n",
       "      <td>1.0</td>\n",
       "      <td>Permit SUBMITTED by EMPLOYEE</td>\n",
       "      <td>2018-09-03 12:54:24+00:00</td>\n",
       "      <td>travel permit 10181</td>\n",
       "    </tr>\n",
       "    <tr>\n",
       "      <th>1</th>\n",
       "      <td>travel permit 10181</td>\n",
       "      <td>Permit APPROVED by ADMINISTRATION</td>\n",
       "      <td>2018-09-03 12:54:26+00:00</td>\n",
       "      <td>2018-09-03 12:54:26+00:00</td>\n",
       "      <td>travel permit 10181</td>\n",
       "      <td>479</td>\n",
       "      <td>False</td>\n",
       "      <td>travel permit number 10182</td>\n",
       "      <td>-1906.94003</td>\n",
       "      <td>2793.12322</td>\n",
       "      <td>...</td>\n",
       "      <td>2018</td>\n",
       "      <td>9</td>\n",
       "      <td>0.0</td>\n",
       "      <td>2.0</td>\n",
       "      <td>2.0</td>\n",
       "      <td>2.0</td>\n",
       "      <td>0.0</td>\n",
       "      <td>Permit APPROVED by ADMINISTRATION</td>\n",
       "      <td>2018-09-03 12:54:26+00:00</td>\n",
       "      <td>travel permit 10181</td>\n",
       "    </tr>\n",
       "    <tr>\n",
       "      <th>2</th>\n",
       "      <td>travel permit 10181</td>\n",
       "      <td>Permit APPROVED by BUDGET OWNER</td>\n",
       "      <td>2018-09-05 09:50:06+00:00</td>\n",
       "      <td>2018-09-05 09:50:06+00:00</td>\n",
       "      <td>travel permit 10181</td>\n",
       "      <td>479</td>\n",
       "      <td>False</td>\n",
       "      <td>travel permit number 10182</td>\n",
       "      <td>-1906.94003</td>\n",
       "      <td>2793.12322</td>\n",
       "      <td>...</td>\n",
       "      <td>2018</td>\n",
       "      <td>9</td>\n",
       "      <td>0.0</td>\n",
       "      <td>60942.0</td>\n",
       "      <td>60942.0</td>\n",
       "      <td>60940.0</td>\n",
       "      <td>0.0</td>\n",
       "      <td>Permit APPROVED by BUDGET OWNER</td>\n",
       "      <td>2018-09-05 09:50:06+00:00</td>\n",
       "      <td>travel permit 10181</td>\n",
       "    </tr>\n",
       "    <tr>\n",
       "      <th>3</th>\n",
       "      <td>travel permit 10181</td>\n",
       "      <td>Permit FINAL_APPROVED by SUPERVISOR</td>\n",
       "      <td>2018-09-06 22:19:13+00:00</td>\n",
       "      <td>2018-09-06 22:19:13+00:00</td>\n",
       "      <td>travel permit 10181</td>\n",
       "      <td>479</td>\n",
       "      <td>False</td>\n",
       "      <td>travel permit number 10182</td>\n",
       "      <td>-1906.94003</td>\n",
       "      <td>2793.12322</td>\n",
       "      <td>...</td>\n",
       "      <td>2018</td>\n",
       "      <td>9</td>\n",
       "      <td>0.0</td>\n",
       "      <td>122736.0</td>\n",
       "      <td>122736.0</td>\n",
       "      <td>61794.0</td>\n",
       "      <td>0.0</td>\n",
       "      <td>Permit FINAL_APPROVED by SUPERVISOR</td>\n",
       "      <td>2018-09-06 22:19:13+00:00</td>\n",
       "      <td>travel permit 10181</td>\n",
       "    </tr>\n",
       "    <tr>\n",
       "      <th>4</th>\n",
       "      <td>travel permit 10181</td>\n",
       "      <td>Start trip</td>\n",
       "      <td>2018-09-23 00:00:00+00:00</td>\n",
       "      <td>2018-09-23 00:00:00+00:00</td>\n",
       "      <td>travel permit 10181</td>\n",
       "      <td>479</td>\n",
       "      <td>False</td>\n",
       "      <td>travel permit number 10182</td>\n",
       "      <td>-1906.94003</td>\n",
       "      <td>2793.12322</td>\n",
       "      <td>...</td>\n",
       "      <td>2018</td>\n",
       "      <td>9</td>\n",
       "      <td>0.0</td>\n",
       "      <td>518736.0</td>\n",
       "      <td>518736.0</td>\n",
       "      <td>396000.0</td>\n",
       "      <td>0.0</td>\n",
       "      <td>Start trip</td>\n",
       "      <td>2018-09-23 00:00:00+00:00</td>\n",
       "      <td>travel permit 10181</td>\n",
       "    </tr>\n",
       "  </tbody>\n",
       "</table>\n",
       "<p>5 rows × 32 columns</p>\n",
       "</div>"
      ],
      "text/plain": [
       "                  case                                event  \\\n",
       "0  travel permit 10181         Permit SUBMITTED by EMPLOYEE   \n",
       "1  travel permit 10181    Permit APPROVED by ADMINISTRATION   \n",
       "2  travel permit 10181      Permit APPROVED by BUDGET OWNER   \n",
       "3  travel permit 10181  Permit FINAL_APPROVED by SUPERVISOR   \n",
       "4  travel permit 10181                           Start trip   \n",
       "\n",
       "                  startTime              completeTime                   id  \\\n",
       "0 2018-09-03 12:54:24+00:00 2018-09-03 12:54:24+00:00  travel permit 10181   \n",
       "1 2018-09-03 12:54:26+00:00 2018-09-03 12:54:26+00:00  travel permit 10181   \n",
       "2 2018-09-05 09:50:06+00:00 2018-09-05 09:50:06+00:00  travel permit 10181   \n",
       "3 2018-09-06 22:19:13+00:00 2018-09-06 22:19:13+00:00  travel permit 10181   \n",
       "4 2018-09-23 00:00:00+00:00 2018-09-23 00:00:00+00:00  travel permit 10181   \n",
       "\n",
       "  RequestedAmount_0  Overspent        travel permit number  OverspentAmount  \\\n",
       "0               479      False  travel permit number 10182      -1906.94003   \n",
       "1               479      False  travel permit number 10182      -1906.94003   \n",
       "2               479      False  travel permit number 10182      -1906.94003   \n",
       "3               479      False  travel permit number 10182      -1906.94003   \n",
       "4               479      False  travel permit number 10182      -1906.94003   \n",
       "\n",
       "   RequestedBudget  ...  year month  @@approx_bh_partial_cycle_time  \\\n",
       "0       2793.12322  ...  2018     9                             0.0   \n",
       "1       2793.12322  ...  2018     9                             0.0   \n",
       "2       2793.12322  ...  2018     9                             0.0   \n",
       "3       2793.12322  ...  2018     9                             0.0   \n",
       "4       2793.12322  ...  2018     9                             0.0   \n",
       "\n",
       "  @@approx_bh_partial_lead_time @@approx_bh_overall_wasted_time  \\\n",
       "0                           0.0                             0.0   \n",
       "1                           2.0                             2.0   \n",
       "2                       60942.0                         60942.0   \n",
       "3                      122736.0                        122736.0   \n",
       "4                      518736.0                        518736.0   \n",
       "\n",
       "  @@approx_bh_this_wasted_time @approx_bh_ratio_cycle_lead_time  \\\n",
       "0                          0.0                              1.0   \n",
       "1                          2.0                              0.0   \n",
       "2                      60940.0                              0.0   \n",
       "3                      61794.0                              0.0   \n",
       "4                     396000.0                              0.0   \n",
       "\n",
       "                          concept:name            time:timestamp  \\\n",
       "0         Permit SUBMITTED by EMPLOYEE 2018-09-03 12:54:24+00:00   \n",
       "1    Permit APPROVED by ADMINISTRATION 2018-09-03 12:54:26+00:00   \n",
       "2      Permit APPROVED by BUDGET OWNER 2018-09-05 09:50:06+00:00   \n",
       "3  Permit FINAL_APPROVED by SUPERVISOR 2018-09-06 22:19:13+00:00   \n",
       "4                           Start trip 2018-09-23 00:00:00+00:00   \n",
       "\n",
       "     case:concept:name  \n",
       "0  travel permit 10181  \n",
       "1  travel permit 10181  \n",
       "2  travel permit 10181  \n",
       "3  travel permit 10181  \n",
       "4  travel permit 10181  \n",
       "\n",
       "[5 rows x 32 columns]"
      ]
     },
     "execution_count": 330,
     "metadata": {},
     "output_type": "execute_result"
    }
   ],
   "source": [
    "# convert logs to dataframe\n",
    "# final base dataframe\n",
    "df = pm4py.convert_to_dataframe(trace_prefixes)\n",
    "df.head(5)"
   ]
  },
  {
   "cell_type": "code",
   "execution_count": 402,
   "metadata": {},
   "outputs": [
    {
     "data": {
      "text/html": [
       "<div>\n",
       "<style scoped>\n",
       "    .dataframe tbody tr th:only-of-type {\n",
       "        vertical-align: middle;\n",
       "    }\n",
       "\n",
       "    .dataframe tbody tr th {\n",
       "        vertical-align: top;\n",
       "    }\n",
       "\n",
       "    .dataframe thead th {\n",
       "        text-align: right;\n",
       "    }\n",
       "</style>\n",
       "<table border=\"1\" class=\"dataframe\">\n",
       "  <thead>\n",
       "    <tr style=\"text-align: right;\">\n",
       "      <th></th>\n",
       "      <th>case</th>\n",
       "      <th>event</th>\n",
       "      <th>startTime</th>\n",
       "      <th>completeTime</th>\n",
       "      <th>id</th>\n",
       "      <th>RequestedAmount_0</th>\n",
       "      <th>Overspent</th>\n",
       "      <th>travel permit number</th>\n",
       "      <th>OverspentAmount</th>\n",
       "      <th>RequestedBudget</th>\n",
       "      <th>...</th>\n",
       "      <th>@@approx_bh_partial_cycle_time</th>\n",
       "      <th>@@approx_bh_partial_lead_time</th>\n",
       "      <th>@@approx_bh_overall_wasted_time</th>\n",
       "      <th>@@approx_bh_this_wasted_time</th>\n",
       "      <th>@approx_bh_ratio_cycle_lead_time</th>\n",
       "      <th>concept:name</th>\n",
       "      <th>time:timestamp</th>\n",
       "      <th>case:concept:name</th>\n",
       "      <th>declerations_x</th>\n",
       "      <th>declerations_y</th>\n",
       "    </tr>\n",
       "  </thead>\n",
       "  <tbody>\n",
       "    <tr>\n",
       "      <th>0</th>\n",
       "      <td>travel permit 10215</td>\n",
       "      <td>Permit SUBMITTED by EMPLOYEE</td>\n",
       "      <td>2018-09-05 08:37:34+00:00</td>\n",
       "      <td>2018-09-05 08:37:34+00:00</td>\n",
       "      <td>travel permit 10215</td>\n",
       "      <td>1,957</td>\n",
       "      <td>True</td>\n",
       "      <td>travel permit number 10216</td>\n",
       "      <td>224.765145</td>\n",
       "      <td>1915.760495</td>\n",
       "      <td>...</td>\n",
       "      <td>0.0</td>\n",
       "      <td>0.0</td>\n",
       "      <td>0.0</td>\n",
       "      <td>0.0</td>\n",
       "      <td>1.0</td>\n",
       "      <td>Permit SUBMITTED by EMPLOYEE</td>\n",
       "      <td>2018-09-05 08:37:34+00:00</td>\n",
       "      <td>travel permit 10215</td>\n",
       "      <td>0</td>\n",
       "      <td>0</td>\n",
       "    </tr>\n",
       "    <tr>\n",
       "      <th>1</th>\n",
       "      <td>travel permit 10215</td>\n",
       "      <td>Permit APPROVED by ADMINISTRATION</td>\n",
       "      <td>2018-09-05 08:38:28+00:00</td>\n",
       "      <td>2018-09-05 08:38:28+00:00</td>\n",
       "      <td>travel permit 10215</td>\n",
       "      <td>1,957</td>\n",
       "      <td>True</td>\n",
       "      <td>travel permit number 10216</td>\n",
       "      <td>224.765145</td>\n",
       "      <td>1915.760495</td>\n",
       "      <td>...</td>\n",
       "      <td>0.0</td>\n",
       "      <td>54.0</td>\n",
       "      <td>54.0</td>\n",
       "      <td>54.0</td>\n",
       "      <td>0.0</td>\n",
       "      <td>Permit APPROVED by ADMINISTRATION</td>\n",
       "      <td>2018-09-05 08:38:28+00:00</td>\n",
       "      <td>travel permit 10215</td>\n",
       "      <td>0</td>\n",
       "      <td>0</td>\n",
       "    </tr>\n",
       "    <tr>\n",
       "      <th>2</th>\n",
       "      <td>travel permit 10215</td>\n",
       "      <td>Permit APPROVED by BUDGET OWNER</td>\n",
       "      <td>2018-09-05 08:55:23+00:00</td>\n",
       "      <td>2018-09-05 08:55:23+00:00</td>\n",
       "      <td>travel permit 10215</td>\n",
       "      <td>1,957</td>\n",
       "      <td>True</td>\n",
       "      <td>travel permit number 10216</td>\n",
       "      <td>224.765145</td>\n",
       "      <td>1915.760495</td>\n",
       "      <td>...</td>\n",
       "      <td>0.0</td>\n",
       "      <td>1069.0</td>\n",
       "      <td>1069.0</td>\n",
       "      <td>1015.0</td>\n",
       "      <td>0.0</td>\n",
       "      <td>Permit APPROVED by BUDGET OWNER</td>\n",
       "      <td>2018-09-05 08:55:23+00:00</td>\n",
       "      <td>travel permit 10215</td>\n",
       "      <td>0</td>\n",
       "      <td>0</td>\n",
       "    </tr>\n",
       "    <tr>\n",
       "      <th>3</th>\n",
       "      <td>travel permit 10215</td>\n",
       "      <td>Permit FINAL_APPROVED by SUPERVISOR</td>\n",
       "      <td>2018-09-06 15:06:29+00:00</td>\n",
       "      <td>2018-09-06 15:06:29+00:00</td>\n",
       "      <td>travel permit 10215</td>\n",
       "      <td>1,957</td>\n",
       "      <td>True</td>\n",
       "      <td>travel permit number 10216</td>\n",
       "      <td>224.765145</td>\n",
       "      <td>1915.760495</td>\n",
       "      <td>...</td>\n",
       "      <td>0.0</td>\n",
       "      <td>59335.0</td>\n",
       "      <td>59335.0</td>\n",
       "      <td>58266.0</td>\n",
       "      <td>0.0</td>\n",
       "      <td>Permit FINAL_APPROVED by SUPERVISOR</td>\n",
       "      <td>2018-09-06 15:06:29+00:00</td>\n",
       "      <td>travel permit 10215</td>\n",
       "      <td>0</td>\n",
       "      <td>0</td>\n",
       "    </tr>\n",
       "    <tr>\n",
       "      <th>4</th>\n",
       "      <td>travel permit 10215</td>\n",
       "      <td>Start trip</td>\n",
       "      <td>2018-11-06 00:00:00+00:00</td>\n",
       "      <td>2018-11-06 00:00:00+00:00</td>\n",
       "      <td>travel permit 10215</td>\n",
       "      <td>1,957</td>\n",
       "      <td>True</td>\n",
       "      <td>travel permit number 10216</td>\n",
       "      <td>224.765145</td>\n",
       "      <td>1915.760495</td>\n",
       "      <td>...</td>\n",
       "      <td>0.0</td>\n",
       "      <td>1578146.0</td>\n",
       "      <td>1578146.0</td>\n",
       "      <td>1518811.0</td>\n",
       "      <td>0.0</td>\n",
       "      <td>Start trip</td>\n",
       "      <td>2018-11-06 00:00:00+00:00</td>\n",
       "      <td>travel permit 10215</td>\n",
       "      <td>0</td>\n",
       "      <td>0</td>\n",
       "    </tr>\n",
       "  </tbody>\n",
       "</table>\n",
       "<p>5 rows × 34 columns</p>\n",
       "</div>"
      ],
      "text/plain": [
       "                  case                                event  \\\n",
       "0  travel permit 10215         Permit SUBMITTED by EMPLOYEE   \n",
       "1  travel permit 10215    Permit APPROVED by ADMINISTRATION   \n",
       "2  travel permit 10215      Permit APPROVED by BUDGET OWNER   \n",
       "3  travel permit 10215  Permit FINAL_APPROVED by SUPERVISOR   \n",
       "4  travel permit 10215                           Start trip   \n",
       "\n",
       "                  startTime              completeTime                   id  \\\n",
       "0 2018-09-05 08:37:34+00:00 2018-09-05 08:37:34+00:00  travel permit 10215   \n",
       "1 2018-09-05 08:38:28+00:00 2018-09-05 08:38:28+00:00  travel permit 10215   \n",
       "2 2018-09-05 08:55:23+00:00 2018-09-05 08:55:23+00:00  travel permit 10215   \n",
       "3 2018-09-06 15:06:29+00:00 2018-09-06 15:06:29+00:00  travel permit 10215   \n",
       "4 2018-11-06 00:00:00+00:00 2018-11-06 00:00:00+00:00  travel permit 10215   \n",
       "\n",
       "  RequestedAmount_0  Overspent        travel permit number  OverspentAmount  \\\n",
       "0             1,957       True  travel permit number 10216       224.765145   \n",
       "1             1,957       True  travel permit number 10216       224.765145   \n",
       "2             1,957       True  travel permit number 10216       224.765145   \n",
       "3             1,957       True  travel permit number 10216       224.765145   \n",
       "4             1,957       True  travel permit number 10216       224.765145   \n",
       "\n",
       "   RequestedBudget  ... @@approx_bh_partial_cycle_time  \\\n",
       "0      1915.760495  ...                            0.0   \n",
       "1      1915.760495  ...                            0.0   \n",
       "2      1915.760495  ...                            0.0   \n",
       "3      1915.760495  ...                            0.0   \n",
       "4      1915.760495  ...                            0.0   \n",
       "\n",
       "  @@approx_bh_partial_lead_time  @@approx_bh_overall_wasted_time  \\\n",
       "0                           0.0                              0.0   \n",
       "1                          54.0                             54.0   \n",
       "2                        1069.0                           1069.0   \n",
       "3                       59335.0                          59335.0   \n",
       "4                     1578146.0                        1578146.0   \n",
       "\n",
       "  @@approx_bh_this_wasted_time @approx_bh_ratio_cycle_lead_time  \\\n",
       "0                          0.0                              1.0   \n",
       "1                         54.0                              0.0   \n",
       "2                       1015.0                              0.0   \n",
       "3                      58266.0                              0.0   \n",
       "4                    1518811.0                              0.0   \n",
       "\n",
       "                          concept:name            time:timestamp  \\\n",
       "0         Permit SUBMITTED by EMPLOYEE 2018-09-05 08:37:34+00:00   \n",
       "1    Permit APPROVED by ADMINISTRATION 2018-09-05 08:38:28+00:00   \n",
       "2      Permit APPROVED by BUDGET OWNER 2018-09-05 08:55:23+00:00   \n",
       "3  Permit FINAL_APPROVED by SUPERVISOR 2018-09-06 15:06:29+00:00   \n",
       "4                           Start trip 2018-11-06 00:00:00+00:00   \n",
       "\n",
       "     case:concept:name declerations_x  declerations_y  \n",
       "0  travel permit 10215              0               0  \n",
       "1  travel permit 10215              0               0  \n",
       "2  travel permit 10215              0               0  \n",
       "3  travel permit 10215              0               0  \n",
       "4  travel permit 10215              0               0  \n",
       "\n",
       "[5 rows x 34 columns]"
      ]
     },
     "execution_count": 402,
     "metadata": {},
     "output_type": "execute_result"
    }
   ],
   "source": [
    "# Create dataframe for Target variable and combine with above trace dataframe\n",
    "cases = list(df.groupby(['case'],sort=False)['id'].first().keys())\n",
    "df_dict = dict()\n",
    "df_dict['case'] = cases\n",
    "df_dict['declerations'] = declerations\n",
    "temp_df = pd.DataFrame(df_dict)\n",
    "\n",
    "# merge target variable with permits\n",
    "df = df.merge(temp_df,on=['case'])\n",
    "df.head()"
   ]
  },
  {
   "cell_type": "code",
   "execution_count": 403,
   "metadata": {},
   "outputs": [],
   "source": [
    "save_path = save_path_base + df_type +'_trace_len_'+str(t_length)+ '.csv'\n",
    "df.to_csv(save_path,index=False)"
   ]
  },
  {
   "cell_type": "markdown",
   "metadata": {},
   "source": [
    "## Feature Selection ( Based on Data Exploration )"
   ]
  },
  {
   "cell_type": "code",
   "execution_count": 333,
   "metadata": {},
   "outputs": [],
   "source": [
    "# passed features we want to extract\n",
    "\n",
    "# str_ev_attr\tString attributes at the event level: these are hot-encoded into features that may assume value 0 or value 1.\n",
    "# str_tr_attr\tString attributes at the trace level: these are hot-encoded into features that may assume value 0 or value 1.\n",
    "# num_ev_attr\tNumeric attributes at the event level: these are encoded by including the last value of the attribute among the events of the trace.\n",
    "# num_tr_attr\tNumeric attributes at trace level: these are encoded by including the numerical value.\n",
    "# str_evsucc_attr\tSuccessions related to the string attributes values at the event level: for example, if we have a trace [A,B,C], it might be important to include not only the presence of the single values A, B and C as features; but also the presence of the directly-follows couples (A,B) and (B,C).\n",
    "# ================================================\n",
    "\n",
    "str_ev_attr = ['concept:name']\n",
    "str_tr_attr = ['OrganizationalEntity','month']\n",
    "num_ev_attr = ['@@approx_bh_partial_lead_time','@@approx_bh_this_wasted_time']\n",
    "num_tr_attr = []"
   ]
  },
  {
   "cell_type": "markdown",
   "metadata": {},
   "source": [
    "## Boolean encoding\n",
    "\n",
    "- can be easily extended with adding more attributes of traces other then activities, but for now kept it simple and as discussed in course"
   ]
  },
  {
   "cell_type": "code",
   "execution_count": 334,
   "metadata": {},
   "outputs": [],
   "source": [
    "encode_name = 'boolean_encode_'\n",
    "save_path = save_path_base + encode_name + 'train' +'_trace_len_'+str(t_length)+ '.pickle'\n",
    "loaded_data = load_data(save_path)\n",
    "ohe_dict = loaded_data['feature_names']"
   ]
  },
  {
   "cell_type": "code",
   "execution_count": 335,
   "metadata": {},
   "outputs": [],
   "source": [
    "# here for each trace we extract ohe vector for activity and sum them up and if count is greater then 1 we make them 1 \n",
    "# because this encoding only provides info, if the activity was there or not\n",
    "\n",
    "data = []\n",
    "\n",
    "for id, group in df.groupby(['case:concept:name']):\n",
    "    feature_vec = []\n",
    "\n",
    "    # add categorical and numerical event attributes\n",
    "    for cat_atr in str_ev_attr[:1]:\n",
    "        attr_length = len(list(ohe_dict[cat_atr].values())[0])\n",
    "        str_ev_vec = np.array([0]*attr_length)\n",
    "\n",
    "        for ca in group[cat_atr]:\n",
    "            str_ev_vec  = str_ev_vec + np.array(ohe_dict[cat_atr][ca])\n",
    "\n",
    "        # make it a non frequency vector (if count is greater then 1 make it 1)\n",
    "        for i,num in enumerate(str_ev_vec):\n",
    "            if num>1:\n",
    "                str_ev_vec[i]=1\n",
    "\n",
    "        feature_vec.extend(list(str_ev_vec))\n",
    "\n",
    "    data.append(feature_vec)\n",
    "\n",
    "    # data.append(feature_vec)"
   ]
  },
  {
   "cell_type": "code",
   "execution_count": 336,
   "metadata": {},
   "outputs": [],
   "source": [
    "encode_name = 'boolean_encode_'\n",
    "save_path = save_path_base + encode_name + df_type +'_trace_len_'+str(t_length)+ '.pickle'\n",
    "save_data(data, declerations, ohe_dict ,save_path)"
   ]
  },
  {
   "cell_type": "markdown",
   "metadata": {},
   "source": [
    "## Frequency encoding"
   ]
  },
  {
   "cell_type": "code",
   "execution_count": 337,
   "metadata": {},
   "outputs": [],
   "source": [
    "encode_name = 'frequency_encode_'\n",
    "save_path = save_path_base + encode_name + 'train' +'_trace_len_'+str(t_length)+ '.pickle'\n",
    "loaded_data = load_data(save_path)\n",
    "ohe_dict = loaded_data['feature_names']"
   ]
  },
  {
   "cell_type": "code",
   "execution_count": 338,
   "metadata": {},
   "outputs": [],
   "source": [
    "# here for each trace we extract ohe vector for activity and sum them up \n",
    "# because this encoding only provides count of how many times the activity appears\n",
    "\n",
    "data = []\n",
    "\n",
    "for id, group in df.groupby(['case:concept:name']):\n",
    "    feature_vec = []\n",
    "\n",
    "    # add categorical and numerical event attributes\n",
    "    for cat_atr in str_ev_attr[:1]:\n",
    "        attr_length = len(list(ohe_dict[cat_atr].values())[0])\n",
    "        str_ev_vec = np.array([0]*attr_length)\n",
    "\n",
    "        for ca in group[cat_atr]:\n",
    "            str_ev_vec  = str_ev_vec + np.array(ohe_dict[cat_atr][ca])\n",
    "\n",
    "        feature_vec.extend(list(str_ev_vec))\n",
    "\n",
    "    data.append(feature_vec)\n",
    "\n",
    "    # data.append(feature_vec)"
   ]
  },
  {
   "cell_type": "code",
   "execution_count": 339,
   "metadata": {},
   "outputs": [],
   "source": [
    "# save results\n",
    "encode_name = 'frequency_encode_'\n",
    "save_path = save_path_base + encode_name + df_type +'_trace_len_'+str(t_length)+ '.pickle'\n",
    "save_data(data, declerations, ohe_dict ,save_path)"
   ]
  },
  {
   "cell_type": "markdown",
   "metadata": {},
   "source": [
    "## Complex index based encoding - static feature (trace attributes) + n events encoding + event features"
   ]
  },
  {
   "cell_type": "code",
   "execution_count": 340,
   "metadata": {},
   "outputs": [],
   "source": [
    "encode_name = 'complex_index_encode_'\n",
    "save_path = save_path_base + encode_name + 'train' +'_trace_len_'+str(t_length)+ '.pickle'\n",
    "loaded_data = load_data(save_path)\n",
    "ohe_dict = loaded_data['feature_names']"
   ]
  },
  {
   "cell_type": "code",
   "execution_count": 341,
   "metadata": {},
   "outputs": [],
   "source": [
    "# here for each trace we put events encoded in order and there aatributes along with padding to make vector length same\n",
    "# similatly for trace attributes but since it is trace attributes that is only for once\n",
    "\n",
    "data = []\n",
    "\n",
    "for id, group in df.groupby(['case:concept:name']):\n",
    "    feature_vec = []\n",
    "\n",
    "    # add categorical and numerical event attributes along with paddings \n",
    "\n",
    "    for cat_atr in str_ev_attr:\n",
    "        str_ev_vec = []\n",
    "        attr_length = len(list(ohe_dict[cat_atr].values())[0])\n",
    "        for ca in group[cat_atr]:\n",
    "            str_ev_vec.extend(ohe_dict[cat_atr][ca])\n",
    "        \n",
    "        # padding\n",
    "        str_ev_vec = cat_padding(str_ev_vec, t_length, attr_length)\n",
    "        feature_vec.extend(str_ev_vec)\n",
    "\n",
    "\n",
    "    for num_atr in num_ev_attr:\n",
    "        num_ev_vec = []\n",
    "        num_ev_vec.extend(list(group[num_atr]))\n",
    "\n",
    "        # padding\n",
    "        num_ev_vec = num_padding(num_ev_vec, t_length)\n",
    "        feature_vec.extend(num_ev_vec)\n",
    "\n",
    "\n",
    "\n",
    "    # add categorical and numerical trace attributes\n",
    "    for num_t_atr in num_tr_attr:\n",
    "        feature_vec.extend(group[num_t_atr].iloc[0])\n",
    "\n",
    "\n",
    "    for cat_t_atr in str_tr_attr:\n",
    "        feature_vec.extend(ohe_dict[cat_t_atr][group[cat_t_atr].iloc[0]])\n",
    "\n",
    "    # add vector to data\n",
    "    data.append(feature_vec)\n"
   ]
  },
  {
   "cell_type": "code",
   "execution_count": 342,
   "metadata": {},
   "outputs": [],
   "source": [
    "# check if all vector lengths are same \n",
    "vec_len = len(data[0])\n",
    "\n",
    "for i, d in enumerate(data):\n",
    "    if len(d)!=vec_len:\n",
    "        print(i, len(d))"
   ]
  },
  {
   "cell_type": "code",
   "execution_count": 343,
   "metadata": {},
   "outputs": [],
   "source": [
    "# save results\n",
    "encode_name = 'complex_index_encode_'\n",
    "save_path = save_path_base + encode_name + df_type +'_trace_len_'+str(t_length)+ '.pickle'\n",
    "save_data(data, declerations, ohe_dict ,save_path)"
   ]
  },
  {
   "cell_type": "markdown",
   "metadata": {},
   "source": [
    "## LSTM encoding"
   ]
  },
  {
   "cell_type": "code",
   "execution_count": 344,
   "metadata": {},
   "outputs": [],
   "source": [
    "encode_name = 'lstm_encode_'\n",
    "save_path = save_path_base + encode_name + 'train' +'_trace_len_'+str(t_length)+ '.pickle'\n",
    "loaded_data = load_data(save_path)\n",
    "ohe_dict = loaded_data['feature_names']"
   ]
  },
  {
   "cell_type": "code",
   "execution_count": 345,
   "metadata": {},
   "outputs": [],
   "source": [
    "# here we create sequence of each trace\n",
    "# so the dimentions will be (number of examples * trace_length * feature_length )\n",
    "\n",
    "data = []\n",
    "\n",
    "for id, group in df.groupby(['case:concept:name']):\n",
    "    \n",
    "    feature_vec = []\n",
    "\n",
    "    for index, row in group.iterrows():\n",
    "\n",
    "        row_vec = []\n",
    "\n",
    "        for cat_atr in str_ev_attr:\n",
    "            row_vec.extend(ohe_dict[cat_atr][row[cat_atr]])\n",
    "\n",
    "        for num_atr in num_ev_attr:\n",
    "            row_vec.append(row[num_atr])\n",
    "\n",
    "\n",
    "        # add categorical and numerical trace attributes\n",
    "        for num_t_atr in num_tr_attr:\n",
    "            row_vec.append(group[num_t_atr].iloc[0])\n",
    "\n",
    "        for cat_t_atr in str_tr_attr:\n",
    "            row_vec.extend(ohe_dict[cat_t_atr][group[cat_t_atr].iloc[0]])\n",
    "\n",
    "        feature_vec.append(row_vec)\n",
    "    \n",
    "\n",
    "    # add vector to data\n",
    "    data.append(feature_vec)\n"
   ]
  },
  {
   "cell_type": "code",
   "execution_count": 346,
   "metadata": {},
   "outputs": [],
   "source": [
    "# converting to array\n",
    "data = np.array([np.array(ls) for ls in data])"
   ]
  },
  {
   "cell_type": "code",
   "execution_count": 347,
   "metadata": {},
   "outputs": [
    {
     "data": {
      "text/plain": [
       "(10, 87)"
      ]
     },
     "execution_count": 347,
     "metadata": {},
     "output_type": "execute_result"
    }
   ],
   "source": [
    "feature_len = len(data[0][0])\n",
    "desired_shape = (t_length,feature_len)\n",
    "desired_shape"
   ]
  },
  {
   "cell_type": "code",
   "execution_count": 348,
   "metadata": {},
   "outputs": [
    {
     "data": {
      "text/plain": [
       "(770, 10, 87)"
      ]
     },
     "execution_count": 348,
     "metadata": {},
     "output_type": "execute_result"
    }
   ],
   "source": [
    "# padding data to make equal shape of vectors\n",
    "padded_data = []\n",
    "for case in data:\n",
    "    pd_case = np.zeros(desired_shape)\n",
    "    pd_case[:case.shape[0],:case.shape[1]] = case\n",
    "    padded_data.append(pd_case)\n",
    "\n",
    "padded_data = np.array(padded_data)\n",
    "padded_data.shape"
   ]
  },
  {
   "cell_type": "code",
   "execution_count": 349,
   "metadata": {},
   "outputs": [],
   "source": [
    "# save results\n",
    "encode_name = 'lstm_encode_'\n",
    "save_path = save_path_base + encode_name + df_type +'_trace_len_'+str(t_length)+ '.pickle'\n",
    "save_data(data, declerations, ohe_dict ,save_path)"
   ]
  },
  {
   "cell_type": "code",
   "execution_count": null,
   "metadata": {},
   "outputs": [],
   "source": []
  },
  {
   "cell_type": "code",
   "execution_count": null,
   "metadata": {},
   "outputs": [],
   "source": []
  },
  {
   "cell_type": "markdown",
   "metadata": {},
   "source": [
    "# =================== END ================="
   ]
  },
  {
   "cell_type": "code",
   "execution_count": null,
   "metadata": {},
   "outputs": [],
   "source": []
  },
  {
   "cell_type": "code",
   "execution_count": null,
   "metadata": {},
   "outputs": [],
   "source": []
  },
  {
   "cell_type": "code",
   "execution_count": null,
   "metadata": {},
   "outputs": [],
   "source": []
  },
  {
   "cell_type": "code",
   "execution_count": null,
   "metadata": {},
   "outputs": [],
   "source": []
  },
  {
   "cell_type": "code",
   "execution_count": null,
   "metadata": {},
   "outputs": [],
   "source": []
  },
  {
   "cell_type": "code",
   "execution_count": null,
   "metadata": {},
   "outputs": [],
   "source": []
  },
  {
   "cell_type": "markdown",
   "metadata": {},
   "source": [
    "\n",
    "\n",
    "# Extra"
   ]
  },
  {
   "cell_type": "code",
   "execution_count": null,
   "metadata": {},
   "outputs": [],
   "source": []
  },
  {
   "cell_type": "markdown",
   "metadata": {},
   "source": [
    "## Preparing data for task Declaration REJECTED vs Accapted by Administrator/Employee\n",
    "\n",
    "- keeping all the traces \\\n",
    "or\n",
    "Extract traces only where decleration is submitted by employee is in a trace ( we are not considering other traces where decision of accatped, rejected is not being made /discuss )\n",
    "- create target variables, if application is rejected or not\n",
    "- get traces which starts from permit submitted by employee to the trace decleration is submitted by employee (discuss)\n",
    "- filter traces of length n (10,15,20 decide) \n",
    "- choose encoding and decide features to involve which we belive will be there before the activity decleration is submitted\n",
    "\n",
    "\n",
    "### Filterings\n",
    "\n",
    "1. Filtering on timeframe (from this date to that)\n",
    "2. Filter on case performance (traces finished withing 10 days)\n",
    "3. Filter on start and end activities (give list of start and end)\n",
    "4. Filter on variants (keeping only frequent trace flows like - [a,b,c,d] and [a d b c], or 0.4 threshold etc)\n",
    "5. Filter on attributes values (selection and projection of traces)\n",
    "6. Filter on numeric attribute values (from declared amount 500 to 1000)\n",
    "7. Between Filter (filtering the activities from say permit apply to permit accapted)\n",
    "8. case size (number of activiries in case)\n",
    "\n",
    "\n",
    "### Statistics\n",
    "\n",
    "1. Throughput Time (time to complete traces)\n",
    "2. Case Arrival/Dispersion Ratio (arrival time between two traces (not events))\n",
    "3. Performance Spectrum (time between activities)\n",
    "4. Cycle Time and Waiting Time (cycle time - time between activities, lead Time - the overall time in which the instance was worked, from the start to the end,accumelative )\n",
    "5. Sojourn Time - time taken for an activity to complete from the end of previous activity\n",
    "6. other stats if needed\n"
   ]
  },
  {
   "cell_type": "code",
   "execution_count": 7,
   "metadata": {},
   "outputs": [],
   "source": [
    "# # To extract target varaible, \n",
    "# # if event starts with the name decleration rejected it is considered as rejected application\n",
    "# declerations = []\n",
    "# for trace in trace_log:\n",
    "#     flag = False\n",
    "#     for i,event in enumerate(trace):\n",
    "#         if \"Declaration REJECTED\" in event['event']:\n",
    "#             flag = True\n",
    "#             break\n",
    "#     if flag:\n",
    "#         declerations.append(1)\n",
    "#     else:\n",
    "#         declerations.append(0)"
   ]
  },
  {
   "cell_type": "code",
   "execution_count": null,
   "metadata": {},
   "outputs": [],
   "source": [
    "# prefix_data = pd.DataFrame(columns = trace.columns)\n",
    "# for name, group in trace.groupby(['case']):\n",
    "#     for i in range(len(group)):\n",
    "#         if \"Declaration REJECTED\" in group.iloc[i]['event']:\n",
    "#             break\n",
    "#     temp = group.head(i)\n",
    "#     prefix_data = prefix_data.append(group.head(i))\n",
    "#     break\n",
    "# prefix_data.head()"
   ]
  },
  {
   "cell_type": "code",
   "execution_count": null,
   "metadata": {},
   "outputs": [],
   "source": [
    "# permits.head()\n",
    "# permits['startTime'] = pd.to_datetime(permits['startTime'])\n",
    "# permits['completeTime'] = pd.to_datetime(permits['completeTime'])"
   ]
  },
  {
   "cell_type": "code",
   "execution_count": null,
   "metadata": {},
   "outputs": [],
   "source": [
    "# # add year and month column\n",
    "# permits['year'] = permits['startTime'].dt.year\n",
    "# permits['month'] = permits['startTime'].dt.month"
   ]
  },
  {
   "cell_type": "code",
   "execution_count": null,
   "metadata": {},
   "outputs": [],
   "source": [
    "# # time to complete the activity\n",
    "# permits['act_completionTime'] = permits['completeTime'] - permits['startTime']\n",
    "# permits['act_completionTime'] = permits['act_completionTime'].dt.total_seconds()"
   ]
  },
  {
   "cell_type": "code",
   "execution_count": null,
   "metadata": {},
   "outputs": [],
   "source": [
    "# # get minimum time for earch trace (when trace started)\n",
    "# temp_df = pd.DataFrame(permits.groupby(['case'])['startTime'].min())\n",
    "# temp_df['index'] = temp_df.index\n",
    "# temp_df.reset_index(drop=True, inplace=True)\n",
    "# temp_df.columns = ['startTime_min','case']\n",
    "\n",
    "# # merge with permits\n",
    "# permits = permits.merge(temp_df,on=['case'])"
   ]
  },
  {
   "cell_type": "code",
   "execution_count": null,
   "metadata": {},
   "outputs": [],
   "source": [
    "# # get max time for earch trace (when trace ended)\n",
    "# temp_df = pd.DataFrame(permits.groupby(['case'])['completeTime'].max())\n",
    "# temp_df['index'] = temp_df.index\n",
    "# temp_df.reset_index(drop=True, inplace=True)\n",
    "# temp_df.columns = ['completeTime_max','case']\n",
    "\n",
    "# # merge with permits\n",
    "# permits = permits.merge(temp_df,on=['case'])"
   ]
  },
  {
   "cell_type": "code",
   "execution_count": null,
   "metadata": {},
   "outputs": [],
   "source": [
    "# # calculate trace time\n",
    "# permits['processCompletionTime']=permits['completeTime_max']-permits['startTime_min']\n",
    "# permits['processCompletionTime'] = permits['processCompletionTime'].dt.total_seconds()"
   ]
  },
  {
   "cell_type": "code",
   "execution_count": null,
   "metadata": {},
   "outputs": [],
   "source": [
    "# # calculate time taken between activities and cumulative time\n",
    "# act_time_taken=[]\n",
    "# act_inc_time = []\n",
    "# for name,group in permits.groupby(['case'],sort=False):\n",
    "#     act_time_taken.append([name,pd.to_datetime(0) - pd.to_datetime(0)])\n",
    "#     act_inc_time.append([name,pd.to_datetime(0) - pd.to_datetime(0)])\n",
    "#     act_time=pd.to_datetime(0) - pd.to_datetime(0)\n",
    "#     for i in range(len(group)-1):\n",
    "#         st_time_1 = group.iloc[i]['startTime']\n",
    "#         st_time_2 = group.iloc[i+1]['startTime']\n",
    "#         diff = st_time_2-st_time_1\n",
    "#         act_time+=diff\n",
    "#         act_time_taken.append([name,diff])\n",
    "#         act_inc_time.append([name,act_time])\n",
    "\n",
    "# time_diff_df = pd.DataFrame(act_time_taken,columns=['case','act_time_diff'])\n",
    "# time_inc_df = pd.DataFrame(act_inc_time,columns=['case','act_inc_time'])\n",
    "\n",
    "# # add with permits\n",
    "# permits['next_act_time_diff'] = time_diff_df['act_time_diff']\n",
    "# permits['next_act_time_diff'] = permits['next_act_time_diff'].dt.total_seconds()\n",
    "\n",
    "# permits['act_inc_time'] = time_inc_df['act_inc_time']\n",
    "# permits['act_inc_time'] = permits['act_inc_time'].dt.total_seconds()"
   ]
  },
  {
   "cell_type": "code",
   "execution_count": null,
   "metadata": {},
   "outputs": [
    {
     "data": {
      "text/html": [
       "<div>\n",
       "<style scoped>\n",
       "    .dataframe tbody tr th:only-of-type {\n",
       "        vertical-align: middle;\n",
       "    }\n",
       "\n",
       "    .dataframe tbody tr th {\n",
       "        vertical-align: top;\n",
       "    }\n",
       "\n",
       "    .dataframe thead th {\n",
       "        text-align: right;\n",
       "    }\n",
       "</style>\n",
       "<table border=\"1\" class=\"dataframe\">\n",
       "  <thead>\n",
       "    <tr style=\"text-align: right;\">\n",
       "      <th></th>\n",
       "      <th>case</th>\n",
       "      <th>event</th>\n",
       "      <th>startTime</th>\n",
       "      <th>completeTime</th>\n",
       "      <th>OrganizationalEntity</th>\n",
       "      <th>TotalDeclared</th>\n",
       "      <th>Overspent</th>\n",
       "      <th>RequestedBudget</th>\n",
       "      <th>OverspentAmount</th>\n",
       "      <th>org:resource</th>\n",
       "      <th>year</th>\n",
       "      <th>month</th>\n",
       "      <th>act_completionTime</th>\n",
       "      <th>startTime_min</th>\n",
       "      <th>completeTime_max</th>\n",
       "      <th>processCompletionTime</th>\n",
       "      <th>next_act_time_diff</th>\n",
       "      <th>act_inc_time</th>\n",
       "    </tr>\n",
       "  </thead>\n",
       "  <tbody>\n",
       "    <tr>\n",
       "      <th>0</th>\n",
       "      <td>travel permit 10066</td>\n",
       "      <td>Permit SUBMITTED by EMPLOYEE</td>\n",
       "      <td>2018-02-21 16:28:17</td>\n",
       "      <td>2018-02-21 16:28:17</td>\n",
       "      <td>organizational unit 65460</td>\n",
       "      <td>71.195831</td>\n",
       "      <td>False</td>\n",
       "      <td>64.878503</td>\n",
       "      <td>-18.925474</td>\n",
       "      <td>STAFF MEMBER</td>\n",
       "      <td>2018</td>\n",
       "      <td>2</td>\n",
       "      <td>0.0</td>\n",
       "      <td>2018-02-21 16:28:17</td>\n",
       "      <td>2018-03-01 17:31:26</td>\n",
       "      <td>694989.0</td>\n",
       "      <td>0.0</td>\n",
       "      <td>0.0</td>\n",
       "    </tr>\n",
       "    <tr>\n",
       "      <th>1</th>\n",
       "      <td>travel permit 10066</td>\n",
       "      <td>Permit APPROVED by ADMINISTRATION</td>\n",
       "      <td>2018-02-21 16:28:19</td>\n",
       "      <td>2018-02-21 16:28:19</td>\n",
       "      <td>organizational unit 65460</td>\n",
       "      <td>71.195831</td>\n",
       "      <td>False</td>\n",
       "      <td>64.878503</td>\n",
       "      <td>-18.925474</td>\n",
       "      <td>STAFF MEMBER</td>\n",
       "      <td>2018</td>\n",
       "      <td>2</td>\n",
       "      <td>0.0</td>\n",
       "      <td>2018-02-21 16:28:17</td>\n",
       "      <td>2018-03-01 17:31:26</td>\n",
       "      <td>694989.0</td>\n",
       "      <td>2.0</td>\n",
       "      <td>2.0</td>\n",
       "    </tr>\n",
       "    <tr>\n",
       "      <th>2</th>\n",
       "      <td>travel permit 10066</td>\n",
       "      <td>Start trip</td>\n",
       "      <td>2018-02-22 00:00:00</td>\n",
       "      <td>2018-02-22 00:00:00</td>\n",
       "      <td>organizational unit 65460</td>\n",
       "      <td>71.195831</td>\n",
       "      <td>False</td>\n",
       "      <td>64.878503</td>\n",
       "      <td>-18.925474</td>\n",
       "      <td>STAFF MEMBER</td>\n",
       "      <td>2018</td>\n",
       "      <td>2</td>\n",
       "      <td>0.0</td>\n",
       "      <td>2018-02-21 16:28:17</td>\n",
       "      <td>2018-03-01 17:31:26</td>\n",
       "      <td>694989.0</td>\n",
       "      <td>27101.0</td>\n",
       "      <td>27103.0</td>\n",
       "    </tr>\n",
       "    <tr>\n",
       "      <th>3</th>\n",
       "      <td>travel permit 10066</td>\n",
       "      <td>End trip</td>\n",
       "      <td>2018-02-22 00:00:00</td>\n",
       "      <td>2018-02-22 00:00:00</td>\n",
       "      <td>organizational unit 65460</td>\n",
       "      <td>71.195831</td>\n",
       "      <td>False</td>\n",
       "      <td>64.878503</td>\n",
       "      <td>-18.925474</td>\n",
       "      <td>STAFF MEMBER</td>\n",
       "      <td>2018</td>\n",
       "      <td>2</td>\n",
       "      <td>0.0</td>\n",
       "      <td>2018-02-21 16:28:17</td>\n",
       "      <td>2018-03-01 17:31:26</td>\n",
       "      <td>694989.0</td>\n",
       "      <td>0.0</td>\n",
       "      <td>27103.0</td>\n",
       "    </tr>\n",
       "    <tr>\n",
       "      <th>4</th>\n",
       "      <td>travel permit 10066</td>\n",
       "      <td>Permit FINAL_APPROVED by SUPERVISOR</td>\n",
       "      <td>2018-02-22 08:27:05</td>\n",
       "      <td>2018-02-22 08:27:05</td>\n",
       "      <td>organizational unit 65460</td>\n",
       "      <td>71.195831</td>\n",
       "      <td>False</td>\n",
       "      <td>64.878503</td>\n",
       "      <td>-18.925474</td>\n",
       "      <td>STAFF MEMBER</td>\n",
       "      <td>2018</td>\n",
       "      <td>2</td>\n",
       "      <td>0.0</td>\n",
       "      <td>2018-02-21 16:28:17</td>\n",
       "      <td>2018-03-01 17:31:26</td>\n",
       "      <td>694989.0</td>\n",
       "      <td>30425.0</td>\n",
       "      <td>57528.0</td>\n",
       "    </tr>\n",
       "  </tbody>\n",
       "</table>\n",
       "</div>"
      ],
      "text/plain": [
       "                  case                                event  \\\n",
       "0  travel permit 10066         Permit SUBMITTED by EMPLOYEE   \n",
       "1  travel permit 10066    Permit APPROVED by ADMINISTRATION   \n",
       "2  travel permit 10066                           Start trip   \n",
       "3  travel permit 10066                             End trip   \n",
       "4  travel permit 10066  Permit FINAL_APPROVED by SUPERVISOR   \n",
       "\n",
       "            startTime        completeTime       OrganizationalEntity  \\\n",
       "0 2018-02-21 16:28:17 2018-02-21 16:28:17  organizational unit 65460   \n",
       "1 2018-02-21 16:28:19 2018-02-21 16:28:19  organizational unit 65460   \n",
       "2 2018-02-22 00:00:00 2018-02-22 00:00:00  organizational unit 65460   \n",
       "3 2018-02-22 00:00:00 2018-02-22 00:00:00  organizational unit 65460   \n",
       "4 2018-02-22 08:27:05 2018-02-22 08:27:05  organizational unit 65460   \n",
       "\n",
       "  TotalDeclared Overspent RequestedBudget OverspentAmount  org:resource  year  \\\n",
       "0     71.195831     False       64.878503      -18.925474  STAFF MEMBER  2018   \n",
       "1     71.195831     False       64.878503      -18.925474  STAFF MEMBER  2018   \n",
       "2     71.195831     False       64.878503      -18.925474  STAFF MEMBER  2018   \n",
       "3     71.195831     False       64.878503      -18.925474  STAFF MEMBER  2018   \n",
       "4     71.195831     False       64.878503      -18.925474  STAFF MEMBER  2018   \n",
       "\n",
       "   month  act_completionTime       startTime_min    completeTime_max  \\\n",
       "0      2                 0.0 2018-02-21 16:28:17 2018-03-01 17:31:26   \n",
       "1      2                 0.0 2018-02-21 16:28:17 2018-03-01 17:31:26   \n",
       "2      2                 0.0 2018-02-21 16:28:17 2018-03-01 17:31:26   \n",
       "3      2                 0.0 2018-02-21 16:28:17 2018-03-01 17:31:26   \n",
       "4      2                 0.0 2018-02-21 16:28:17 2018-03-01 17:31:26   \n",
       "\n",
       "   processCompletionTime  next_act_time_diff  act_inc_time  \n",
       "0               694989.0                 0.0           0.0  \n",
       "1               694989.0                 2.0           2.0  \n",
       "2               694989.0             27101.0       27103.0  \n",
       "3               694989.0                 0.0       27103.0  \n",
       "4               694989.0             30425.0       57528.0  "
      ]
     },
     "metadata": {},
     "output_type": "display_data"
    }
   ],
   "source": [
    "# permits.head()"
   ]
  },
  {
   "cell_type": "code",
   "execution_count": null,
   "metadata": {},
   "outputs": [],
   "source": []
  },
  {
   "cell_type": "code",
   "execution_count": null,
   "metadata": {},
   "outputs": [],
   "source": []
  },
  {
   "cell_type": "code",
   "execution_count": 21,
   "metadata": {},
   "outputs": [],
   "source": [
    "# # Create dataframe for Target variable and combine with above trace dataframe\n",
    "# cases = list(df.groupby(['case'],sort=False)['id'].first().keys())\n",
    "# df_dict = dict()\n",
    "# df_dict['case'] = cases\n",
    "# df_dict['declerations'] = declerations\n",
    "# temp_df = pd.DataFrame(df_dict)\n",
    "\n",
    "# # merge target variable with permits\n",
    "# trace = df.merge(temp_df,on=['case'])\n",
    "# trace.head()"
   ]
  },
  {
   "cell_type": "code",
   "execution_count": null,
   "metadata": {},
   "outputs": [],
   "source": [
    "# from pm4py.statistics.sojourn_time.log import get as soj_time_get\n",
    "# soj_time = soj_time_get.apply(trace_log, parameters={soj_time_get.Parameters.TIMESTAMP_KEY: \"time:timestamp\", soj_time_get.Parameters.START_TIMESTAMP_KEY: \"startTime\"})\n",
    "# print(soj_time)"
   ]
  },
  {
   "cell_type": "code",
   "execution_count": null,
   "metadata": {},
   "outputs": [],
   "source": [
    "# # to get all trace cases\n",
    "# for i, trace in enumerate(trace_log):\n",
    "#     print(trace[0]['case'])"
   ]
  },
  {
   "cell_type": "code",
   "execution_count": null,
   "metadata": {},
   "outputs": [],
   "source": [
    "# # throughput time (time to complete traces) all in seconds\n",
    "# all_case_durations = pm4py.get_all_case_durations(trace_log)\n",
    "# all_case_durations"
   ]
  },
  {
   "cell_type": "code",
   "execution_count": null,
   "metadata": {},
   "outputs": [],
   "source": [
    "# # arrival between cases\n",
    "# case_arrival_ratio = pm4py.get_case_arrival_average(trace_log)\n",
    "# case_arrival_ratio/(60*60)"
   ]
  },
  {
   "cell_type": "code",
   "execution_count": null,
   "metadata": {},
   "outputs": [],
   "source": [
    "# from pm4py.objects.log.util import interval_lifecycle\n",
    "# enriched_log = interval_lifecycle.assign_lead_cycle_time(trace_log)\n",
    "# enriched_log"
   ]
  },
  {
   "cell_type": "markdown",
   "metadata": {},
   "source": [
    "### boolean bigram encoding"
   ]
  },
  {
   "cell_type": "code",
   "execution_count": null,
   "metadata": {},
   "outputs": [],
   "source": [
    "# data_2gram, feature_names = log_to_features.apply(trace_prefixes, \n",
    "#                                                   parameters={\"str_ev_attr\": [], \n",
    "#                                                         \"str_tr_attr\": [], \n",
    "#                                                         \"num_ev_attr\": [], \n",
    "#                                                         \"num_tr_attr\": [], \n",
    "#                                                         \"str_evsucc_attr\": [\"concept:name\"]})\n",
    "# feature_names"
   ]
  },
  {
   "cell_type": "code",
   "execution_count": null,
   "metadata": {},
   "outputs": [],
   "source": [
    "# data_2gram = np.asarray(data_2gram)"
   ]
  },
  {
   "cell_type": "code",
   "execution_count": null,
   "metadata": {},
   "outputs": [],
   "source": [
    "# project_nth(trace_prefixes, 0)"
   ]
  },
  {
   "cell_type": "code",
   "execution_count": null,
   "metadata": {},
   "outputs": [],
   "source": [
    "# print(data_2gram[0])"
   ]
  },
  {
   "cell_type": "code",
   "execution_count": null,
   "metadata": {},
   "outputs": [],
   "source": [
    "# train_data = {}\n",
    "# train_data['X']=data_2gram\n",
    "# train_data['y'] = declerations\n",
    "# train_data['feature_names'] = feature_names"
   ]
  },
  {
   "cell_type": "code",
   "execution_count": null,
   "metadata": {},
   "outputs": [],
   "source": [
    "# # save json\n",
    "# save_path = '../data/training_data/bigram_boolean_encode.json'\n",
    "# with open(save_path, 'w', encoding='utf-8') as f:\n",
    "#     json.dump(train_data, f, ensure_ascii=False, indent=4)"
   ]
  },
  {
   "cell_type": "markdown",
   "metadata": {},
   "source": []
  },
  {
   "cell_type": "code",
   "execution_count": null,
   "metadata": {},
   "outputs": [],
   "source": [
    "# between_log = pm4py.filter_between(dec_sub_traces, \"Permit SUBMITTED by EMPLOYEE\", \"Declaration SUBMITTED by EMPLOYEE\")"
   ]
  },
  {
   "cell_type": "code",
   "execution_count": null,
   "metadata": {},
   "outputs": [],
   "source": [
    "# project_nth(between_log, 232)"
   ]
  },
  {
   "cell_type": "code",
   "execution_count": null,
   "metadata": {},
   "outputs": [],
   "source": [
    "# # we can get any attribute of trace using this\n",
    "# activities = pm4py.get_event_attribute_values(trace_log, \"concept:name\")\n",
    "# resources = pm4py.get_event_attribute_values(trace_log, \"org:resource\")\n",
    "# resources"
   ]
  },
  {
   "cell_type": "code",
   "execution_count": null,
   "metadata": {},
   "outputs": [],
   "source": [
    "# remove Return Decleration event\n",
    "# train_raw = pm4py.filter_event_attribute_values(trace_log, \"concept:name\", \"Declaration REJECTED by EMPLOYEE\", level = \"event\", retain=False)"
   ]
  },
  {
   "cell_type": "markdown",
   "metadata": {},
   "source": []
  },
  {
   "cell_type": "code",
   "execution_count": null,
   "metadata": {},
   "outputs": [],
   "source": [
    "# to display most frequent feature\n",
    "# # look at the unique vectors and their occurrence frequency/count\n",
    "# # just to check which trace was most frequent, just analysis\n",
    "# dist_features = np.unique(data, return_counts= True, axis = 0)\n",
    "# print(dist_features)\n",
    "\n",
    "\n",
    "# # display most freuent feature\n",
    "# most_freq_feature = dist_features[0][np.argmax(dist_features[1])]\n",
    "# most_freq_feature\n",
    "\n",
    "\n",
    "# # order doesn't matter here\n",
    "# for i in range(0, len(most_freq_feature)):\n",
    "#     if most_freq_feature[i]!=0:\n",
    "#         print(feature_names[i].split(\"@\")[1], end=' , ')"
   ]
  },
  {
   "cell_type": "code",
   "execution_count": null,
   "metadata": {},
   "outputs": [],
   "source": []
  },
  {
   "cell_type": "code",
   "execution_count": null,
   "metadata": {},
   "outputs": [],
   "source": [
    "# # printing all activities in trace \n",
    "# for trace in trace_log[0]:\n",
    "#     print(trace[\"concept:name\"])"
   ]
  },
  {
   "cell_type": "code",
   "execution_count": null,
   "metadata": {},
   "outputs": [],
   "source": [
    "# # although the split was 70:30, but since it is sequence data, traces can have different number of data points, so actual number is different \n",
    "# test_data_percentage = (test_count/train_count)*100\n",
    "# print(\"trace test percentage\")\n",
    "# print(test_data_percentage)"
   ]
  },
  {
   "cell_type": "code",
   "execution_count": null,
   "metadata": {},
   "outputs": [],
   "source": [
    "# to extract only traces where Declaration SUBMITTED by EMPLOYEE is present\n",
    "# dec_sub_traces = []\n",
    "# for trace in trace_log:\n",
    "#     if len(list(filter(lambda e: e[\"concept:name\"] == \"Declaration SUBMITTED by EMPLOYEE\" ,trace))) > 0:\n",
    "#         dec_sub_traces.append(Trace(trace, attributes = trace.attributes))\n",
    "\n",
    "# dec_sub_traces = EventLog(dec_sub_traces)"
   ]
  }
 ],
 "metadata": {
  "kernelspec": {
   "display_name": "Python 3",
   "language": "python",
   "name": "python3"
  },
  "language_info": {
   "codemirror_mode": {
    "name": "ipython",
    "version": 3
   },
   "file_extension": ".py",
   "mimetype": "text/x-python",
   "name": "python",
   "nbconvert_exporter": "python",
   "pygments_lexer": "ipython3",
   "version": "3.11.1"
  },
  "orig_nbformat": 4,
  "vscode": {
   "interpreter": {
    "hash": "5238573367df39f7286bb46f9ff5f08f63a01a80960060ce41e3c79b190280fa"
   }
  }
 },
 "nbformat": 4,
 "nbformat_minor": 2
}
