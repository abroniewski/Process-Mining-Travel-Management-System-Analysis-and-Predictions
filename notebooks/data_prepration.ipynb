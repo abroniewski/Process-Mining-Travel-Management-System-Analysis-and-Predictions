{
 "cells": [
  {
   "cell_type": "code",
   "execution_count": 862,
   "metadata": {},
   "outputs": [],
   "source": [
    "import pandas as pd\n",
    "import numpy as np\n",
    "import json\n",
    "import pickle\n",
    "\n",
    "# https://pm4py.fit.fraunhofer.de/documentation\n",
    "import pm4py\n",
    "from pm4py.objects.log.obj import EventLog, Trace\n",
    "from pm4py.objects.log.util.log import project_traces\n",
    "from pm4py.objects.log.util import interval_lifecycle\n",
    "from pm4py.statistics.sojourn_time.log import get as soj_time_get\n",
    "from pm4py.algo.transformation.log_to_features import algorithm as log_to_features\n",
    "\n",
    "import warnings\n",
    "warnings.filterwarnings(\"ignore\")"
   ]
  },
  {
   "cell_type": "code",
   "execution_count": 863,
   "metadata": {},
   "outputs": [],
   "source": [
    "# function to project the trace\n",
    "def project_nth(log, index):\n",
    "    print(str(project_traces(log)[index]))"
   ]
  },
  {
   "cell_type": "code",
   "execution_count": 899,
   "metadata": {},
   "outputs": [],
   "source": [
    "# read data in csv\n",
    "trace = pd.read_csv('../data/Travel Permits (filtered).csv')\n",
    "\n",
    "# to read from xes file\n",
    "# data_path = '../data/Travel Permits Filtered.xes'\n",
    "# trace_log = pm4py.read_xes(data_path)\n",
    "# trace_log = pm4py.format_dataframe(trace_log, case_id='case:id', activity_key='concept:name', timestamp_key='time:timestamp')\n",
    "# trace_log = pm4py.convert_to_event_log(trace_log)\n",
    "# trace_log"
   ]
  },
  {
   "cell_type": "code",
   "execution_count": 900,
   "metadata": {},
   "outputs": [],
   "source": [
    "# removing redundant columns and converting time to pandas datetime object\n",
    "imp_cols = ['case', 'event', 'startTime', 'completeTime', 'OrganizationalEntity',\n",
    "       'TotalDeclared', 'Overspent',\n",
    "       'RequestedBudget', 'OverspentAmount', 'org:resource']\n",
    "trace = trace[imp_cols]\n",
    "trace['startTime'] = pd.to_datetime(trace['startTime'])\n",
    "trace['completeTime'] = pd.to_datetime(trace['completeTime'])"
   ]
  },
  {
   "cell_type": "markdown",
   "metadata": {},
   "source": [
    "# train test split\n",
    "\n",
    "- Do temporal train test split and preprocess them seperately so that no data leakage will be present\n",
    "- we split data based on 80% 20 %\n",
    "- classifier is trained with all cases that started before a given date T1 which would represent a current point in time in a real-life scenario, and the testing is done only on cases that start afterwards."
   ]
  },
  {
   "cell_type": "code",
   "execution_count": 901,
   "metadata": {},
   "outputs": [
    {
     "data": {
      "text/html": [
       "<div>\n",
       "<style scoped>\n",
       "    .dataframe tbody tr th:only-of-type {\n",
       "        vertical-align: middle;\n",
       "    }\n",
       "\n",
       "    .dataframe tbody tr th {\n",
       "        vertical-align: top;\n",
       "    }\n",
       "\n",
       "    .dataframe thead th {\n",
       "        text-align: right;\n",
       "    }\n",
       "</style>\n",
       "<table border=\"1\" class=\"dataframe\">\n",
       "  <thead>\n",
       "    <tr style=\"text-align: right;\">\n",
       "      <th></th>\n",
       "      <th>case</th>\n",
       "      <th>event</th>\n",
       "      <th>startTime</th>\n",
       "      <th>completeTime</th>\n",
       "      <th>OrganizationalEntity</th>\n",
       "      <th>TotalDeclared</th>\n",
       "      <th>Overspent</th>\n",
       "      <th>RequestedBudget</th>\n",
       "      <th>OverspentAmount</th>\n",
       "      <th>org:resource</th>\n",
       "    </tr>\n",
       "  </thead>\n",
       "  <tbody>\n",
       "    <tr>\n",
       "      <th>0</th>\n",
       "      <td>travel permit 76455</td>\n",
       "      <td>Start trip</td>\n",
       "      <td>2016-10-05 00:00:00</td>\n",
       "      <td>2016-10-05 00:00:00</td>\n",
       "      <td>organizational unit 65458</td>\n",
       "      <td>39.664561</td>\n",
       "      <td>False</td>\n",
       "      <td>41.613445</td>\n",
       "      <td>0.0</td>\n",
       "      <td>STAFF MEMBER</td>\n",
       "    </tr>\n",
       "    <tr>\n",
       "      <th>1</th>\n",
       "      <td>travel permit 76455</td>\n",
       "      <td>End trip</td>\n",
       "      <td>2016-10-05 00:00:00</td>\n",
       "      <td>2016-10-05 00:00:00</td>\n",
       "      <td>organizational unit 65458</td>\n",
       "      <td>39.664561</td>\n",
       "      <td>False</td>\n",
       "      <td>41.613445</td>\n",
       "      <td>0.0</td>\n",
       "      <td>STAFF MEMBER</td>\n",
       "    </tr>\n",
       "    <tr>\n",
       "      <th>2</th>\n",
       "      <td>travel permit 76455</td>\n",
       "      <td>Permit SUBMITTED by EMPLOYEE</td>\n",
       "      <td>2017-04-06 13:32:10</td>\n",
       "      <td>2017-04-06 13:32:10</td>\n",
       "      <td>organizational unit 65458</td>\n",
       "      <td>39.664561</td>\n",
       "      <td>False</td>\n",
       "      <td>41.613445</td>\n",
       "      <td>0.0</td>\n",
       "      <td>STAFF MEMBER</td>\n",
       "    </tr>\n",
       "    <tr>\n",
       "      <th>3</th>\n",
       "      <td>travel permit 76455</td>\n",
       "      <td>Permit FINAL_APPROVED by SUPERVISOR</td>\n",
       "      <td>2017-04-06 13:32:28</td>\n",
       "      <td>2017-04-06 13:32:28</td>\n",
       "      <td>organizational unit 65458</td>\n",
       "      <td>39.664561</td>\n",
       "      <td>False</td>\n",
       "      <td>41.613445</td>\n",
       "      <td>0.0</td>\n",
       "      <td>STAFF MEMBER</td>\n",
       "    </tr>\n",
       "    <tr>\n",
       "      <th>4</th>\n",
       "      <td>travel permit 76455</td>\n",
       "      <td>Declaration SUBMITTED by EMPLOYEE</td>\n",
       "      <td>2017-04-07 13:38:14</td>\n",
       "      <td>2017-04-07 13:38:14</td>\n",
       "      <td>organizational unit 65458</td>\n",
       "      <td>39.664561</td>\n",
       "      <td>False</td>\n",
       "      <td>41.613445</td>\n",
       "      <td>0.0</td>\n",
       "      <td>STAFF MEMBER</td>\n",
       "    </tr>\n",
       "  </tbody>\n",
       "</table>\n",
       "</div>"
      ],
      "text/plain": [
       "                  case                                event  \\\n",
       "0  travel permit 76455                           Start trip   \n",
       "1  travel permit 76455                             End trip   \n",
       "2  travel permit 76455         Permit SUBMITTED by EMPLOYEE   \n",
       "3  travel permit 76455  Permit FINAL_APPROVED by SUPERVISOR   \n",
       "4  travel permit 76455    Declaration SUBMITTED by EMPLOYEE   \n",
       "\n",
       "            startTime        completeTime       OrganizationalEntity  \\\n",
       "0 2016-10-05 00:00:00 2016-10-05 00:00:00  organizational unit 65458   \n",
       "1 2016-10-05 00:00:00 2016-10-05 00:00:00  organizational unit 65458   \n",
       "2 2017-04-06 13:32:10 2017-04-06 13:32:10  organizational unit 65458   \n",
       "3 2017-04-06 13:32:28 2017-04-06 13:32:28  organizational unit 65458   \n",
       "4 2017-04-07 13:38:14 2017-04-07 13:38:14  organizational unit 65458   \n",
       "\n",
       "   TotalDeclared  Overspent  RequestedBudget  OverspentAmount  org:resource  \n",
       "0      39.664561      False        41.613445              0.0  STAFF MEMBER  \n",
       "1      39.664561      False        41.613445              0.0  STAFF MEMBER  \n",
       "2      39.664561      False        41.613445              0.0  STAFF MEMBER  \n",
       "3      39.664561      False        41.613445              0.0  STAFF MEMBER  \n",
       "4      39.664561      False        41.613445              0.0  STAFF MEMBER  "
      ]
     },
     "execution_count": 901,
     "metadata": {},
     "output_type": "execute_result"
    }
   ],
   "source": [
    "trace.head()"
   ]
  },
  {
   "cell_type": "code",
   "execution_count": 902,
   "metadata": {},
   "outputs": [],
   "source": [
    "completion_time_ls = list(trace.groupby(['case'])['completeTime'].max())\n",
    "completion_time_ls = sorted(completion_time_ls)"
   ]
  },
  {
   "cell_type": "code",
   "execution_count": 903,
   "metadata": {},
   "outputs": [
    {
     "data": {
      "text/plain": [
       "Timestamp('2018-09-20 17:31:17')"
      ]
     },
     "execution_count": 903,
     "metadata": {},
     "output_type": "execute_result"
    }
   ],
   "source": [
    "split_portion = 0.70\n",
    "total_data = len(completion_time_ls)\n",
    "train_len = int(split_portion*total_data)\n",
    "last_train_completion_time = completion_time_ls[train_len]\n",
    "last_train_completion_time"
   ]
  },
  {
   "cell_type": "code",
   "execution_count": 904,
   "metadata": {},
   "outputs": [],
   "source": [
    "train_df = pd.DataFrame(columns = trace.columns)\n",
    "test_df = pd.DataFrame(columns = trace.columns)\n",
    "train_count,test_count = 0,0\n",
    "for name, group in trace.groupby(['case']):\n",
    "    if group['startTime'].iloc[0] < last_train_completion_time:\n",
    "        train_df = train_df.append(group)\n",
    "        train_count+=1\n",
    "    else:\n",
    "        test_df = test_df.append(group)\n",
    "        test_count+=1"
   ]
  },
  {
   "cell_type": "code",
   "execution_count": 1003,
   "metadata": {},
   "outputs": [
    {
     "name": "stdout",
     "output_type": "stream",
     "text": [
      "train and test count\n",
      "2825 460\n",
      "trace test percentage\n",
      "16.283185840707965\n"
     ]
    }
   ],
   "source": [
    "test_data_percentage = (test_count/train_count)*100\n",
    "print(\"train and test count\")\n",
    "print(train_count,test_count)\n",
    "print(\"trace test percentage\")\n",
    "print(test_data_percentage)"
   ]
  },
  {
   "cell_type": "markdown",
   "metadata": {},
   "source": [
    "# Define comman variables"
   ]
  },
  {
   "cell_type": "code",
   "execution_count": 1178,
   "metadata": {},
   "outputs": [],
   "source": [
    "t_length = 6\n",
    "save_path_base = '../data/training_data/'"
   ]
  },
  {
   "cell_type": "markdown",
   "metadata": {},
   "source": [
    "# Preparing Train Data\n",
    "\n",
    "- define trace length and df_type (train or test)\n",
    "- Working on train and test seperately, so run whole code for the same trace length for train and then for test"
   ]
  },
  {
   "cell_type": "code",
   "execution_count": 1179,
   "metadata": {},
   "outputs": [],
   "source": [
    "df_type = 'train'\n",
    "permits = train_df"
   ]
  },
  {
   "cell_type": "markdown",
   "metadata": {},
   "source": [
    "## Preparing data for task Declaration REJECTED vs Accapted by Administrator/Employee\n",
    "\n",
    "- keeping all the traces \\\n",
    "or\n",
    "Extract traces only where decleration is submitted by employee is in a trace ( we are not considering other traces where decision of accatped, rejected is not being made /discuss )\n",
    "- create target variables, if application is rejected or not\n",
    "- get traces which starts from permit submitted by employee to the trace decleration is submitted by employee (discuss)\n",
    "- filter traces of length n (10,15,20 decide) \n",
    "- choose encoding and decide features to involve which we belive will be there before the activity decleration is submitted\n",
    "\n",
    "\n",
    "### Filterings\n",
    "\n",
    "1. Filtering on timeframe (from this date to that)\n",
    "2. Filter on case performance (traces finished withing 10 days)\n",
    "3. Filter on start and end activities (give list of start and end)\n",
    "4. Filter on variants (keeping only frequent trace flows like - [a,b,c,d] and [a d b c], or 0.4 threshold etc)\n",
    "5. Filter on attributes values (selection and projection of traces)\n",
    "6. Filter on numeric attribute values (from declared amount 500 to 1000)\n",
    "7. Between Filter (filtering the activities from say permit apply to permit accapted)\n",
    "8. case size (number of activiries in case)\n",
    "\n",
    "\n",
    "### Statistics\n",
    "\n",
    "1. Throughput Time (time to complete traces)\n",
    "2. Case Arrival/Dispersion Ratio (arrival time between two traces (not events))\n",
    "3. Performance Spectrum (time between activities)\n",
    "4. Cycle Time and Waiting Time (cycle time - time between activities, lead Time - the overall time in which the instance was worked, from the start to the end,accumelative )\n",
    "5. Sojourn Time - time taken for an activity to complete from the end of previous activity\n",
    "6. other stats if needed\n"
   ]
  },
  {
   "cell_type": "markdown",
   "metadata": {},
   "source": [
    "# Feature Engineering"
   ]
  },
  {
   "cell_type": "code",
   "execution_count": 1180,
   "metadata": {},
   "outputs": [],
   "source": [
    "permits.head()\n",
    "permits['startTime'] = pd.to_datetime(permits['startTime'])\n",
    "permits['completeTime'] = pd.to_datetime(permits['completeTime'])"
   ]
  },
  {
   "cell_type": "code",
   "execution_count": 1181,
   "metadata": {},
   "outputs": [],
   "source": [
    "# add year and month column\n",
    "permits['year'] = permits['startTime'].dt.year\n",
    "permits['month'] = permits['startTime'].dt.month"
   ]
  },
  {
   "cell_type": "code",
   "execution_count": 1182,
   "metadata": {},
   "outputs": [],
   "source": [
    "# time to complete the activity\n",
    "permits['act_completionTime'] = permits['completeTime'] - permits['startTime']\n",
    "permits['act_completionTime'] = permits['act_completionTime'].dt.total_seconds()"
   ]
  },
  {
   "cell_type": "code",
   "execution_count": 1183,
   "metadata": {},
   "outputs": [],
   "source": [
    "# get minimum time for earch trace (when trace started)\n",
    "temp_df = pd.DataFrame(permits.groupby(['case'])['startTime'].min())\n",
    "temp_df['index'] = temp_df.index\n",
    "temp_df.reset_index(drop=True, inplace=True)\n",
    "temp_df.columns = ['startTime_min','case']\n",
    "\n",
    "# merge with permits\n",
    "permits = permits.merge(temp_df,on=['case'])"
   ]
  },
  {
   "cell_type": "code",
   "execution_count": 1184,
   "metadata": {},
   "outputs": [],
   "source": [
    "# get max time for earch trace (when trace ended)\n",
    "temp_df = pd.DataFrame(permits.groupby(['case'])['completeTime'].max())\n",
    "temp_df['index'] = temp_df.index\n",
    "temp_df.reset_index(drop=True, inplace=True)\n",
    "temp_df.columns = ['completeTime_max','case']\n",
    "\n",
    "# merge with permits\n",
    "permits = permits.merge(temp_df,on=['case'])"
   ]
  },
  {
   "cell_type": "code",
   "execution_count": 1185,
   "metadata": {},
   "outputs": [],
   "source": [
    "# calculate trace time\n",
    "permits['processCompletionTime']=permits['completeTime_max']-permits['startTime_min']\n",
    "permits['processCompletionTime'] = permits['processCompletionTime'].dt.total_seconds()"
   ]
  },
  {
   "cell_type": "code",
   "execution_count": 1186,
   "metadata": {},
   "outputs": [],
   "source": [
    "# calculate time taken between activities\n",
    "act_time_taken=[]\n",
    "for name,group in permits.groupby(['case'],sort=False):\n",
    "    act_time_taken.append([name,pd.to_datetime(0) - pd.to_datetime(0)])\n",
    "    for i in range(len(group)-1):\n",
    "        st_time_1 = group.iloc[i]['startTime']\n",
    "        st_time_2 = group.iloc[i+1]['startTime']\n",
    "        diff = st_time_2-st_time_1\n",
    "        act_time_taken.append([name,diff])\n",
    "\n",
    "time_diff_df = pd.DataFrame(act_time_taken,columns=['case','act_time_diff'])\n",
    "\n",
    "# add with permits\n",
    "permits['next_act_time_diff'] = time_diff_df['act_time_diff']\n",
    "permits['next_act_time_diff'] = permits['next_act_time_diff'].dt.total_seconds()"
   ]
  },
  {
   "cell_type": "code",
   "execution_count": 1187,
   "metadata": {},
   "outputs": [
    {
     "data": {
      "text/html": [
       "<div>\n",
       "<style scoped>\n",
       "    .dataframe tbody tr th:only-of-type {\n",
       "        vertical-align: middle;\n",
       "    }\n",
       "\n",
       "    .dataframe tbody tr th {\n",
       "        vertical-align: top;\n",
       "    }\n",
       "\n",
       "    .dataframe thead th {\n",
       "        text-align: right;\n",
       "    }\n",
       "</style>\n",
       "<table border=\"1\" class=\"dataframe\">\n",
       "  <thead>\n",
       "    <tr style=\"text-align: right;\">\n",
       "      <th></th>\n",
       "      <th>case</th>\n",
       "      <th>event</th>\n",
       "      <th>startTime</th>\n",
       "      <th>completeTime</th>\n",
       "      <th>OrganizationalEntity</th>\n",
       "      <th>TotalDeclared</th>\n",
       "      <th>Overspent</th>\n",
       "      <th>RequestedBudget</th>\n",
       "      <th>OverspentAmount</th>\n",
       "      <th>org:resource</th>\n",
       "      <th>year</th>\n",
       "      <th>month</th>\n",
       "      <th>act_completionTime</th>\n",
       "      <th>startTime_min</th>\n",
       "      <th>completeTime_max</th>\n",
       "      <th>processCompletionTime</th>\n",
       "      <th>next_act_time_diff</th>\n",
       "    </tr>\n",
       "  </thead>\n",
       "  <tbody>\n",
       "    <tr>\n",
       "      <th>0</th>\n",
       "      <td>travel permit 10066</td>\n",
       "      <td>Permit SUBMITTED by EMPLOYEE</td>\n",
       "      <td>2018-02-21 16:28:17</td>\n",
       "      <td>2018-02-21 16:28:17</td>\n",
       "      <td>organizational unit 65460</td>\n",
       "      <td>71.195831</td>\n",
       "      <td>False</td>\n",
       "      <td>64.878503</td>\n",
       "      <td>-18.925474</td>\n",
       "      <td>STAFF MEMBER</td>\n",
       "      <td>2018</td>\n",
       "      <td>2</td>\n",
       "      <td>0.0</td>\n",
       "      <td>2018-02-21 16:28:17</td>\n",
       "      <td>2018-03-01 17:31:26</td>\n",
       "      <td>694989.0</td>\n",
       "      <td>0.0</td>\n",
       "    </tr>\n",
       "    <tr>\n",
       "      <th>1</th>\n",
       "      <td>travel permit 10066</td>\n",
       "      <td>Permit APPROVED by ADMINISTRATION</td>\n",
       "      <td>2018-02-21 16:28:19</td>\n",
       "      <td>2018-02-21 16:28:19</td>\n",
       "      <td>organizational unit 65460</td>\n",
       "      <td>71.195831</td>\n",
       "      <td>False</td>\n",
       "      <td>64.878503</td>\n",
       "      <td>-18.925474</td>\n",
       "      <td>STAFF MEMBER</td>\n",
       "      <td>2018</td>\n",
       "      <td>2</td>\n",
       "      <td>0.0</td>\n",
       "      <td>2018-02-21 16:28:17</td>\n",
       "      <td>2018-03-01 17:31:26</td>\n",
       "      <td>694989.0</td>\n",
       "      <td>2.0</td>\n",
       "    </tr>\n",
       "    <tr>\n",
       "      <th>2</th>\n",
       "      <td>travel permit 10066</td>\n",
       "      <td>Start trip</td>\n",
       "      <td>2018-02-22 00:00:00</td>\n",
       "      <td>2018-02-22 00:00:00</td>\n",
       "      <td>organizational unit 65460</td>\n",
       "      <td>71.195831</td>\n",
       "      <td>False</td>\n",
       "      <td>64.878503</td>\n",
       "      <td>-18.925474</td>\n",
       "      <td>STAFF MEMBER</td>\n",
       "      <td>2018</td>\n",
       "      <td>2</td>\n",
       "      <td>0.0</td>\n",
       "      <td>2018-02-21 16:28:17</td>\n",
       "      <td>2018-03-01 17:31:26</td>\n",
       "      <td>694989.0</td>\n",
       "      <td>27101.0</td>\n",
       "    </tr>\n",
       "    <tr>\n",
       "      <th>3</th>\n",
       "      <td>travel permit 10066</td>\n",
       "      <td>End trip</td>\n",
       "      <td>2018-02-22 00:00:00</td>\n",
       "      <td>2018-02-22 00:00:00</td>\n",
       "      <td>organizational unit 65460</td>\n",
       "      <td>71.195831</td>\n",
       "      <td>False</td>\n",
       "      <td>64.878503</td>\n",
       "      <td>-18.925474</td>\n",
       "      <td>STAFF MEMBER</td>\n",
       "      <td>2018</td>\n",
       "      <td>2</td>\n",
       "      <td>0.0</td>\n",
       "      <td>2018-02-21 16:28:17</td>\n",
       "      <td>2018-03-01 17:31:26</td>\n",
       "      <td>694989.0</td>\n",
       "      <td>0.0</td>\n",
       "    </tr>\n",
       "    <tr>\n",
       "      <th>4</th>\n",
       "      <td>travel permit 10066</td>\n",
       "      <td>Permit FINAL_APPROVED by SUPERVISOR</td>\n",
       "      <td>2018-02-22 08:27:05</td>\n",
       "      <td>2018-02-22 08:27:05</td>\n",
       "      <td>organizational unit 65460</td>\n",
       "      <td>71.195831</td>\n",
       "      <td>False</td>\n",
       "      <td>64.878503</td>\n",
       "      <td>-18.925474</td>\n",
       "      <td>STAFF MEMBER</td>\n",
       "      <td>2018</td>\n",
       "      <td>2</td>\n",
       "      <td>0.0</td>\n",
       "      <td>2018-02-21 16:28:17</td>\n",
       "      <td>2018-03-01 17:31:26</td>\n",
       "      <td>694989.0</td>\n",
       "      <td>30425.0</td>\n",
       "    </tr>\n",
       "  </tbody>\n",
       "</table>\n",
       "</div>"
      ],
      "text/plain": [
       "                  case                                event  \\\n",
       "0  travel permit 10066         Permit SUBMITTED by EMPLOYEE   \n",
       "1  travel permit 10066    Permit APPROVED by ADMINISTRATION   \n",
       "2  travel permit 10066                           Start trip   \n",
       "3  travel permit 10066                             End trip   \n",
       "4  travel permit 10066  Permit FINAL_APPROVED by SUPERVISOR   \n",
       "\n",
       "            startTime        completeTime       OrganizationalEntity  \\\n",
       "0 2018-02-21 16:28:17 2018-02-21 16:28:17  organizational unit 65460   \n",
       "1 2018-02-21 16:28:19 2018-02-21 16:28:19  organizational unit 65460   \n",
       "2 2018-02-22 00:00:00 2018-02-22 00:00:00  organizational unit 65460   \n",
       "3 2018-02-22 00:00:00 2018-02-22 00:00:00  organizational unit 65460   \n",
       "4 2018-02-22 08:27:05 2018-02-22 08:27:05  organizational unit 65460   \n",
       "\n",
       "  TotalDeclared Overspent RequestedBudget OverspentAmount  org:resource  year  \\\n",
       "0     71.195831     False       64.878503      -18.925474  STAFF MEMBER  2018   \n",
       "1     71.195831     False       64.878503      -18.925474  STAFF MEMBER  2018   \n",
       "2     71.195831     False       64.878503      -18.925474  STAFF MEMBER  2018   \n",
       "3     71.195831     False       64.878503      -18.925474  STAFF MEMBER  2018   \n",
       "4     71.195831     False       64.878503      -18.925474  STAFF MEMBER  2018   \n",
       "\n",
       "   month  act_completionTime       startTime_min    completeTime_max  \\\n",
       "0      2                 0.0 2018-02-21 16:28:17 2018-03-01 17:31:26   \n",
       "1      2                 0.0 2018-02-21 16:28:17 2018-03-01 17:31:26   \n",
       "2      2                 0.0 2018-02-21 16:28:17 2018-03-01 17:31:26   \n",
       "3      2                 0.0 2018-02-21 16:28:17 2018-03-01 17:31:26   \n",
       "4      2                 0.0 2018-02-21 16:28:17 2018-03-01 17:31:26   \n",
       "\n",
       "   processCompletionTime  next_act_time_diff  \n",
       "0               694989.0                 0.0  \n",
       "1               694989.0                 2.0  \n",
       "2               694989.0             27101.0  \n",
       "3               694989.0                 0.0  \n",
       "4               694989.0             30425.0  "
      ]
     },
     "execution_count": 1187,
     "metadata": {},
     "output_type": "execute_result"
    }
   ],
   "source": [
    "permits.head()"
   ]
  },
  {
   "cell_type": "markdown",
   "metadata": {},
   "source": [
    "### Adding some stastitics features in event log using pm4py"
   ]
  },
  {
   "cell_type": "code",
   "execution_count": 1188,
   "metadata": {},
   "outputs": [],
   "source": [
    "# converting dataframe to event log\n",
    "trace_log = pm4py.format_dataframe(permits, case_id='case', activity_key='event', timestamp_key='completeTime', start_timestamp_key='startTime')\n",
    "trace_log = pm4py.convert_to_event_log(trace_log)"
   ]
  },
  {
   "cell_type": "code",
   "execution_count": 1189,
   "metadata": {},
   "outputs": [],
   "source": [
    "# adding lead and waiting time\n",
    "# @@approx_bh_partial_lead_time\tIncremental lead time associated to the event\n",
    "# @@approx_bh_overall_wasted_time\tDifference between the partial lead time and the partial cycle time values (for us same as above, as no cylce time for us)\n",
    "# @@approx_bh_this_wasted_time\tWasted time ONLY with regards to the activity described by the ‘interval’ even (time difference between activities)\n",
    "\n",
    "trace_log = interval_lifecycle.assign_lead_cycle_time(trace_log)"
   ]
  },
  {
   "cell_type": "code",
   "execution_count": 1190,
   "metadata": {},
   "outputs": [
    {
     "data": {
      "text/plain": [
       "{'Permit SUBMITTED by EMPLOYEE': 0.0,\n",
       " 'Permit APPROVED by ADMINISTRATION': 0.0,\n",
       " 'Start trip': 0.0,\n",
       " 'End trip': 0.0,\n",
       " 'Permit FINAL_APPROVED by SUPERVISOR': 0.0,\n",
       " 'Declaration SUBMITTED by EMPLOYEE': 0.0,\n",
       " 'Declaration APPROVED by ADMINISTRATION': 0.0,\n",
       " 'Declaration FINAL_APPROVED by SUPERVISOR': 0.0,\n",
       " 'Request Payment': 0.0,\n",
       " 'Payment Handled': 0.0,\n",
       " 'Permit APPROVED by BUDGET OWNER': 0.0,\n",
       " 'Declaration APPROVED by BUDGET OWNER': 0.0,\n",
       " 'Declaration REJECTED by ADMINISTRATION': 0.0,\n",
       " 'Declaration REJECTED by EMPLOYEE': 0.0,\n",
       " 'Permit APPROVED by SUPERVISOR': 0.0,\n",
       " 'Permit FINAL_APPROVED by DIRECTOR': 0.0,\n",
       " 'Send Reminder': 0.0,\n",
       " 'Declaration REJECTED by SUPERVISOR': 0.0,\n",
       " 'Declaration APPROVED by SUPERVISOR': 0.0,\n",
       " 'Declaration FINAL_APPROVED by DIRECTOR': 0.0,\n",
       " 'Permit APPROVED by PRE_APPROVER': 0.0,\n",
       " 'Declaration APPROVED by PRE_APPROVER': 0.0,\n",
       " 'Declaration REJECTED by MISSING': 0.0,\n",
       " 'Declaration REJECTED by PRE_APPROVER': 0.0}"
      ]
     },
     "execution_count": 1190,
     "metadata": {},
     "output_type": "execute_result"
    }
   ],
   "source": [
    "# time taken to start and end the activity\n",
    "# found all zero based on data so nothing to add\n",
    "soj_time = soj_time_get.apply(trace_log, parameters={soj_time_get.Parameters.TIMESTAMP_KEY: \"time:timestamp\", soj_time_get.Parameters.START_TIMESTAMP_KEY: \"startTime\"})\n",
    "soj_time"
   ]
  },
  {
   "cell_type": "markdown",
   "metadata": {},
   "source": [
    "# Extracting target variable\n",
    "\n",
    "- In our case target variable is REJECTED Declaration, in the process whoever rejects the Declaration (Administrartor, pre-approvar, etc.) it always goes through Declaration REJECTED by EMPLOYEE or it directly goes to Declaration REJECTED by MISSING, so using these two to identify our target variable\n",
    "\n",
    "- One of our assumption is - If the decleration is not submitted by Employee and the payment is handeled directly, it is also considered as Declaration Accapted (so basically all the Declarations which is not rejected by employee are considerd as Accapted )\n",
    "\n",
    "- we are not dealing with situations where it got rejected twice. For now we are only interested in 1st time rejection\n",
    "\n",
    "\n",
    "<div>\n",
    "<img src=\"../docs/huristic_net_BPI2020.png\", width = 800, height = 800> \n",
    "</div>"
   ]
  },
  {
   "cell_type": "code",
   "execution_count": 1191,
   "metadata": {},
   "outputs": [
    {
     "data": {
      "text/plain": [
       "[0, 0, 0, 0, 0, 0, 0, 0, 0, 1, 0, 0, 0, 0, 0, 1, 1, 0, 0, 0]"
      ]
     },
     "execution_count": 1191,
     "metadata": {},
     "output_type": "execute_result"
    }
   ],
   "source": [
    "declerations = [len(list(filter(lambda e: e[\"concept:name\"] == (\"Declaration REJECTED by EMPLOYEE\" or \"Declaration REJECTED by MISSING\") ,trace))) > 0 for trace in trace_log]\n",
    "declerations = [1 if dec != False else 0 for dec in declerations]\n",
    "declerations[:20]"
   ]
  },
  {
   "cell_type": "code",
   "execution_count": 1192,
   "metadata": {},
   "outputs": [
    {
     "name": "stdout",
     "output_type": "stream",
     "text": [
      "2825\n"
     ]
    }
   ],
   "source": [
    "print(len(declerations))"
   ]
  },
  {
   "cell_type": "markdown",
   "metadata": {},
   "source": [
    "# Extracting Prefix \n",
    "\n",
    "- No bucketing/clustering/binding is applied (to do if needed)\n",
    "- we extracted traces before the rejection for decleration, because we are intrested in prediction for the traces before that only \n",
    "- some process do not follow the above path but those are considered as accapted\n",
    "- Trace length ( 10 for now - no specific reason, process is not big so randomly chosen 10 / to do)\n",
    "- so basically all the traces of length less than equal to 10 are chosen, \n",
    "    - We need to deal if vector length is not same (10 in our case) - we performed padding (adding zeros at the end) during encoding for those traces\n",
    "    - so we have traces with length 1,2,... 10 \n",
    "    - any trace with length less then equal to 10 can be predicted using our model"
   ]
  },
  {
   "cell_type": "code",
   "execution_count": 1193,
   "metadata": {},
   "outputs": [],
   "source": [
    "# to extract only traces till the point decleration is rejected\n",
    "prefix_traces = []\n",
    "for trace in trace_log:\n",
    "    for i,event in enumerate(trace):\n",
    "        if \"Declaration REJECTED\" in event['event']:\n",
    "            break\n",
    "    prefix_traces.append(Trace(trace[:i], attributes = trace.attributes))\n",
    "prefix_traces = EventLog(prefix_traces)"
   ]
  },
  {
   "cell_type": "code",
   "execution_count": 1194,
   "metadata": {},
   "outputs": [
    {
     "name": "stdout",
     "output_type": "stream",
     "text": [
      "['Permit SUBMITTED by EMPLOYEE', 'Permit APPROVED by ADMINISTRATION', 'Permit APPROVED by BUDGET OWNER', 'Permit FINAL_APPROVED by SUPERVISOR', 'Start trip', 'End trip', 'Declaration SUBMITTED by EMPLOYEE', 'Declaration APPROVED by ADMINISTRATION', 'Declaration APPROVED by BUDGET OWNER', 'Declaration FINAL_APPROVED by SUPERVISOR', 'Request Payment']\n"
     ]
    }
   ],
   "source": [
    "# check if all good\n",
    "project_nth(prefix_traces, 3)"
   ]
  },
  {
   "cell_type": "code",
   "execution_count": 1195,
   "metadata": {},
   "outputs": [],
   "source": [
    "# generate prefixes, note that we need to add the casts to EventLog and Trace to make sure that the result is a PM4Py EventLog object\n",
    "trace_prefixes = EventLog([Trace(trace[0:t_length], attributes = trace.attributes) for trace in trace_log])"
   ]
  },
  {
   "cell_type": "code",
   "execution_count": 1196,
   "metadata": {},
   "outputs": [
    {
     "name": "stdout",
     "output_type": "stream",
     "text": [
      "[10, 10, 10, 12, 10, 12, 10, 12, 10, 13, 10, 12, 10, 10, 10]\n",
      "[6, 6, 6, 6, 6, 6, 6, 6, 6, 6, 6, 6, 6, 6, 6]\n"
     ]
    }
   ],
   "source": [
    "# check the trace length\n",
    "print([len(trace) for trace in trace_log][0:15])\n",
    "print([len(trace) for trace in trace_prefixes][0:15])"
   ]
  },
  {
   "cell_type": "code",
   "execution_count": 1197,
   "metadata": {},
   "outputs": [
    {
     "name": "stdout",
     "output_type": "stream",
     "text": [
      "['Permit SUBMITTED by EMPLOYEE', 'Permit APPROVED by ADMINISTRATION', 'Permit APPROVED by BUDGET OWNER', 'Permit FINAL_APPROVED by SUPERVISOR', 'Start trip', 'End trip']\n"
     ]
    }
   ],
   "source": [
    "# check if all good\n",
    "project_nth(trace_prefixes, 98)"
   ]
  },
  {
   "cell_type": "code",
   "execution_count": 1198,
   "metadata": {},
   "outputs": [],
   "source": [
    "# to check which traces are not of our desired length (these will be padded while preparing the the training data)\n",
    "for i,trace in enumerate(trace_prefixes):\n",
    "    if len(trace)!=t_length:\n",
    "        print(i, len(trace))\n",
    "        break"
   ]
  },
  {
   "cell_type": "markdown",
   "metadata": {},
   "source": [
    "## Feature selection/Filtering (Manual)"
   ]
  },
  {
   "cell_type": "code",
   "execution_count": 1199,
   "metadata": {},
   "outputs": [
    {
     "data": {
      "text/html": [
       "<div>\n",
       "<style scoped>\n",
       "    .dataframe tbody tr th:only-of-type {\n",
       "        vertical-align: middle;\n",
       "    }\n",
       "\n",
       "    .dataframe tbody tr th {\n",
       "        vertical-align: top;\n",
       "    }\n",
       "\n",
       "    .dataframe thead th {\n",
       "        text-align: right;\n",
       "    }\n",
       "</style>\n",
       "<table border=\"1\" class=\"dataframe\">\n",
       "  <thead>\n",
       "    <tr style=\"text-align: right;\">\n",
       "      <th></th>\n",
       "      <th>case</th>\n",
       "      <th>event</th>\n",
       "      <th>startTime</th>\n",
       "      <th>completeTime</th>\n",
       "      <th>OrganizationalEntity</th>\n",
       "      <th>TotalDeclared</th>\n",
       "      <th>Overspent</th>\n",
       "      <th>RequestedBudget</th>\n",
       "      <th>OverspentAmount</th>\n",
       "      <th>org:resource</th>\n",
       "      <th>...</th>\n",
       "      <th>time:timestamp</th>\n",
       "      <th>@@index</th>\n",
       "      <th>@@case_index</th>\n",
       "      <th>start_timestamp</th>\n",
       "      <th>@@approx_bh_partial_cycle_time</th>\n",
       "      <th>@@approx_bh_partial_lead_time</th>\n",
       "      <th>@@approx_bh_overall_wasted_time</th>\n",
       "      <th>@@approx_bh_this_wasted_time</th>\n",
       "      <th>@approx_bh_ratio_cycle_lead_time</th>\n",
       "      <th>case:concept:name</th>\n",
       "    </tr>\n",
       "  </thead>\n",
       "  <tbody>\n",
       "    <tr>\n",
       "      <th>0</th>\n",
       "      <td>travel permit 10066</td>\n",
       "      <td>Permit SUBMITTED by EMPLOYEE</td>\n",
       "      <td>2018-02-21 16:28:17</td>\n",
       "      <td>2018-02-21 16:28:17</td>\n",
       "      <td>organizational unit 65460</td>\n",
       "      <td>1970-01-01 00:00:00.000000071+00:00</td>\n",
       "      <td>False</td>\n",
       "      <td>1970-01-01 00:00:00.000000064+00:00</td>\n",
       "      <td>1969-12-31 23:59:59.999999982+00:00</td>\n",
       "      <td>STAFF MEMBER</td>\n",
       "      <td>...</td>\n",
       "      <td>2018-02-21 16:28:17</td>\n",
       "      <td>0</td>\n",
       "      <td>0</td>\n",
       "      <td>2018-02-21 16:28:17</td>\n",
       "      <td>0.0</td>\n",
       "      <td>0.0</td>\n",
       "      <td>0.0</td>\n",
       "      <td>0.0</td>\n",
       "      <td>1.0</td>\n",
       "      <td>travel permit 10066</td>\n",
       "    </tr>\n",
       "    <tr>\n",
       "      <th>1</th>\n",
       "      <td>travel permit 10066</td>\n",
       "      <td>Permit APPROVED by ADMINISTRATION</td>\n",
       "      <td>2018-02-21 16:28:19</td>\n",
       "      <td>2018-02-21 16:28:19</td>\n",
       "      <td>organizational unit 65460</td>\n",
       "      <td>1970-01-01 00:00:00.000000071+00:00</td>\n",
       "      <td>False</td>\n",
       "      <td>1970-01-01 00:00:00.000000064+00:00</td>\n",
       "      <td>1969-12-31 23:59:59.999999982+00:00</td>\n",
       "      <td>STAFF MEMBER</td>\n",
       "      <td>...</td>\n",
       "      <td>2018-02-21 16:28:19</td>\n",
       "      <td>1</td>\n",
       "      <td>0</td>\n",
       "      <td>2018-02-21 16:28:19</td>\n",
       "      <td>0.0</td>\n",
       "      <td>2.0</td>\n",
       "      <td>2.0</td>\n",
       "      <td>2.0</td>\n",
       "      <td>0.0</td>\n",
       "      <td>travel permit 10066</td>\n",
       "    </tr>\n",
       "    <tr>\n",
       "      <th>2</th>\n",
       "      <td>travel permit 10066</td>\n",
       "      <td>Start trip</td>\n",
       "      <td>2018-02-22 00:00:00</td>\n",
       "      <td>2018-02-22 00:00:00</td>\n",
       "      <td>organizational unit 65460</td>\n",
       "      <td>1970-01-01 00:00:00.000000071+00:00</td>\n",
       "      <td>False</td>\n",
       "      <td>1970-01-01 00:00:00.000000064+00:00</td>\n",
       "      <td>1969-12-31 23:59:59.999999982+00:00</td>\n",
       "      <td>STAFF MEMBER</td>\n",
       "      <td>...</td>\n",
       "      <td>2018-02-22 00:00:00</td>\n",
       "      <td>2</td>\n",
       "      <td>0</td>\n",
       "      <td>2018-02-22 00:00:00</td>\n",
       "      <td>0.0</td>\n",
       "      <td>1903.0</td>\n",
       "      <td>1903.0</td>\n",
       "      <td>1901.0</td>\n",
       "      <td>0.0</td>\n",
       "      <td>travel permit 10066</td>\n",
       "    </tr>\n",
       "    <tr>\n",
       "      <th>3</th>\n",
       "      <td>travel permit 10066</td>\n",
       "      <td>End trip</td>\n",
       "      <td>2018-02-22 00:00:00</td>\n",
       "      <td>2018-02-22 00:00:00</td>\n",
       "      <td>organizational unit 65460</td>\n",
       "      <td>1970-01-01 00:00:00.000000071+00:00</td>\n",
       "      <td>False</td>\n",
       "      <td>1970-01-01 00:00:00.000000064+00:00</td>\n",
       "      <td>1969-12-31 23:59:59.999999982+00:00</td>\n",
       "      <td>STAFF MEMBER</td>\n",
       "      <td>...</td>\n",
       "      <td>2018-02-22 00:00:00</td>\n",
       "      <td>3</td>\n",
       "      <td>0</td>\n",
       "      <td>2018-02-22 00:00:00</td>\n",
       "      <td>0.0</td>\n",
       "      <td>1903.0</td>\n",
       "      <td>1903.0</td>\n",
       "      <td>0.0</td>\n",
       "      <td>0.0</td>\n",
       "      <td>travel permit 10066</td>\n",
       "    </tr>\n",
       "    <tr>\n",
       "      <th>4</th>\n",
       "      <td>travel permit 10066</td>\n",
       "      <td>Permit FINAL_APPROVED by SUPERVISOR</td>\n",
       "      <td>2018-02-22 08:27:05</td>\n",
       "      <td>2018-02-22 08:27:05</td>\n",
       "      <td>organizational unit 65460</td>\n",
       "      <td>1970-01-01 00:00:00.000000071+00:00</td>\n",
       "      <td>False</td>\n",
       "      <td>1970-01-01 00:00:00.000000064+00:00</td>\n",
       "      <td>1969-12-31 23:59:59.999999982+00:00</td>\n",
       "      <td>STAFF MEMBER</td>\n",
       "      <td>...</td>\n",
       "      <td>2018-02-22 08:27:05</td>\n",
       "      <td>4</td>\n",
       "      <td>0</td>\n",
       "      <td>2018-02-22 08:27:05</td>\n",
       "      <td>0.0</td>\n",
       "      <td>7128.0</td>\n",
       "      <td>7128.0</td>\n",
       "      <td>5225.0</td>\n",
       "      <td>0.0</td>\n",
       "      <td>travel permit 10066</td>\n",
       "    </tr>\n",
       "  </tbody>\n",
       "</table>\n",
       "<p>5 rows × 28 columns</p>\n",
       "</div>"
      ],
      "text/plain": [
       "                  case                                event  \\\n",
       "0  travel permit 10066         Permit SUBMITTED by EMPLOYEE   \n",
       "1  travel permit 10066    Permit APPROVED by ADMINISTRATION   \n",
       "2  travel permit 10066                           Start trip   \n",
       "3  travel permit 10066                             End trip   \n",
       "4  travel permit 10066  Permit FINAL_APPROVED by SUPERVISOR   \n",
       "\n",
       "            startTime        completeTime       OrganizationalEntity  \\\n",
       "0 2018-02-21 16:28:17 2018-02-21 16:28:17  organizational unit 65460   \n",
       "1 2018-02-21 16:28:19 2018-02-21 16:28:19  organizational unit 65460   \n",
       "2 2018-02-22 00:00:00 2018-02-22 00:00:00  organizational unit 65460   \n",
       "3 2018-02-22 00:00:00 2018-02-22 00:00:00  organizational unit 65460   \n",
       "4 2018-02-22 08:27:05 2018-02-22 08:27:05  organizational unit 65460   \n",
       "\n",
       "                        TotalDeclared  Overspent  \\\n",
       "0 1970-01-01 00:00:00.000000071+00:00      False   \n",
       "1 1970-01-01 00:00:00.000000071+00:00      False   \n",
       "2 1970-01-01 00:00:00.000000071+00:00      False   \n",
       "3 1970-01-01 00:00:00.000000071+00:00      False   \n",
       "4 1970-01-01 00:00:00.000000071+00:00      False   \n",
       "\n",
       "                      RequestedBudget                     OverspentAmount  \\\n",
       "0 1970-01-01 00:00:00.000000064+00:00 1969-12-31 23:59:59.999999982+00:00   \n",
       "1 1970-01-01 00:00:00.000000064+00:00 1969-12-31 23:59:59.999999982+00:00   \n",
       "2 1970-01-01 00:00:00.000000064+00:00 1969-12-31 23:59:59.999999982+00:00   \n",
       "3 1970-01-01 00:00:00.000000064+00:00 1969-12-31 23:59:59.999999982+00:00   \n",
       "4 1970-01-01 00:00:00.000000064+00:00 1969-12-31 23:59:59.999999982+00:00   \n",
       "\n",
       "   org:resource  ...      time:timestamp  @@index  @@case_index  \\\n",
       "0  STAFF MEMBER  ... 2018-02-21 16:28:17        0             0   \n",
       "1  STAFF MEMBER  ... 2018-02-21 16:28:19        1             0   \n",
       "2  STAFF MEMBER  ... 2018-02-22 00:00:00        2             0   \n",
       "3  STAFF MEMBER  ... 2018-02-22 00:00:00        3             0   \n",
       "4  STAFF MEMBER  ... 2018-02-22 08:27:05        4             0   \n",
       "\n",
       "      start_timestamp @@approx_bh_partial_cycle_time  \\\n",
       "0 2018-02-21 16:28:17                            0.0   \n",
       "1 2018-02-21 16:28:19                            0.0   \n",
       "2 2018-02-22 00:00:00                            0.0   \n",
       "3 2018-02-22 00:00:00                            0.0   \n",
       "4 2018-02-22 08:27:05                            0.0   \n",
       "\n",
       "   @@approx_bh_partial_lead_time  @@approx_bh_overall_wasted_time  \\\n",
       "0                            0.0                              0.0   \n",
       "1                            2.0                              2.0   \n",
       "2                         1903.0                           1903.0   \n",
       "3                         1903.0                           1903.0   \n",
       "4                         7128.0                           7128.0   \n",
       "\n",
       "  @@approx_bh_this_wasted_time @approx_bh_ratio_cycle_lead_time  \\\n",
       "0                          0.0                              1.0   \n",
       "1                          2.0                              0.0   \n",
       "2                       1901.0                              0.0   \n",
       "3                          0.0                              0.0   \n",
       "4                       5225.0                              0.0   \n",
       "\n",
       "     case:concept:name  \n",
       "0  travel permit 10066  \n",
       "1  travel permit 10066  \n",
       "2  travel permit 10066  \n",
       "3  travel permit 10066  \n",
       "4  travel permit 10066  \n",
       "\n",
       "[5 rows x 28 columns]"
      ]
     },
     "execution_count": 1199,
     "metadata": {},
     "output_type": "execute_result"
    }
   ],
   "source": [
    "df = pm4py.convert_to_dataframe(trace_prefixes)\n",
    "df.head(5)"
   ]
  },
  {
   "cell_type": "code",
   "execution_count": 1200,
   "metadata": {},
   "outputs": [
    {
     "data": {
      "text/plain": [
       "Index(['case', 'event', 'startTime', 'completeTime', 'OrganizationalEntity',\n",
       "       'TotalDeclared', 'Overspent', 'RequestedBudget', 'OverspentAmount',\n",
       "       'org:resource', 'year', 'month', 'act_completionTime', 'startTime_min',\n",
       "       'completeTime_max', 'processCompletionTime', 'next_act_time_diff',\n",
       "       'concept:name', 'time:timestamp', '@@index', '@@case_index',\n",
       "       'start_timestamp', '@@approx_bh_partial_cycle_time',\n",
       "       '@@approx_bh_partial_lead_time', '@@approx_bh_overall_wasted_time',\n",
       "       '@@approx_bh_this_wasted_time', '@approx_bh_ratio_cycle_lead_time',\n",
       "       'case:concept:name'],\n",
       "      dtype='object')"
      ]
     },
     "execution_count": 1200,
     "metadata": {},
     "output_type": "execute_result"
    }
   ],
   "source": [
    "df.columns"
   ]
  },
  {
   "cell_type": "code",
   "execution_count": 1201,
   "metadata": {},
   "outputs": [],
   "source": [
    "# passed features we want to extract\n",
    "\n",
    "# str_ev_attr\tString attributes at the event level: these are hot-encoded into features that may assume value 0 or value 1.\n",
    "# str_tr_attr\tString attributes at the trace level: these are hot-encoded into features that may assume value 0 or value 1.\n",
    "# num_ev_attr\tNumeric attributes at the event level: these are encoded by including the last value of the attribute among the events of the trace.\n",
    "# num_tr_attr\tNumeric attributes at trace level: these are encoded by including the numerical value.\n",
    "# str_evsucc_attr\tSuccessions related to the string attributes values at the event level: for example, if we have a trace [A,B,C], it might be important to include not only the presence of the single values A, B and C as features; but also the presence of the directly-follows couples (A,B) and (B,C).\n",
    "# ================================================\n",
    "\n",
    "str_ev_attr = ['concept:name','org:resource']\n",
    "str_tr_attr = ['OrganizationalEntity','month']\n",
    "num_ev_attr = ['@@approx_bh_partial_lead_time','@@approx_bh_this_wasted_time']\n",
    "num_tr_attr = []"
   ]
  },
  {
   "cell_type": "markdown",
   "metadata": {},
   "source": [
    "# Data encoding\n",
    "\n",
    "- preparing input data to be passed, \n",
    "- there are different encodings we can go with\n",
    "    - boolean encoding (one hot encoding if the activity present or not)\n",
    "    - frequency encoding (count of activity)\n",
    "    - simple index encoding (n events one hot encoding)\n",
    "    - latest payload encoding (with trace attributes)\n",
    "    - index payload encoding (n events one hot encoding + with trace attributes)\n",
    "    - complex index based encoding (static feature + nevents encoding + event features )\n",
    "    - lstm encoding (m x n)\n",
    "    \n",
    "=========  \n",
    "\n",
    "- Since the complex index based encoding covers the above 3 ( we can simply filter columns to get those, also feature importance (random forest) can ignore those which are not imporant ) we basically generated 4 different encodings -\n",
    "    - boolean encoding (one hot encoding if the activity present or not)\n",
    "    - frequency encoding (count of activity)\n",
    "    - complex index based encoding (static feature + nevents encoding + event features )\n",
    "    - lstm encoding (m x n)\n",
    "\n",
    "=======\n",
    "- No need of paddings in boolean and frequency encoding as the activities are fixed \\\n",
    "\n",
    "**PADDING** \n",
    "- for one hot encoded attributes (categorical values) the desired vector length is  - t_length * ohe_length (Ex. 10*number of activities) \n",
    "- for numerical values the desired length is t_length\n",
    "\n",
    "**Note** - For now process changes are not been considered, if a new activity arrives in future"
   ]
  },
  {
   "cell_type": "code",
   "execution_count": 1202,
   "metadata": {},
   "outputs": [],
   "source": [
    "# function to save the data\n",
    "def save_data(X,y,feature_names, save_path):\n",
    "    data_dict = {}\n",
    "    data_dict['X'] = X\n",
    "    data_dict['y'] = y\n",
    "    data_dict['feature_names'] = feature_names\n",
    "\n",
    "    # save pickle\n",
    "    with open(save_path, 'wb') as handle:\n",
    "        pickle.dump(data_dict, handle)"
   ]
  },
  {
   "cell_type": "code",
   "execution_count": 1203,
   "metadata": {},
   "outputs": [],
   "source": [
    "def load_data(load_path):\n",
    "    with open(load_path, 'rb') as handle:\n",
    "        data = pickle.load(handle)\n",
    "    return data"
   ]
  },
  {
   "cell_type": "code",
   "execution_count": 1204,
   "metadata": {},
   "outputs": [],
   "source": [
    "# function to get the one hot encoded vectors of categorical values\n",
    "def get_ohe_dict(categorical_vars, df):\n",
    "    ohe_dict = {}\n",
    "    for var in categorical_vars:\n",
    "        var_dict = {}\n",
    "        var_data = sorted(df[var].unique())\n",
    "        var_len = len(var_data)\n",
    "        for i,cat in enumerate(var_data):\n",
    "            var_dict[cat] = [0]*var_len\n",
    "            var_dict[cat][i] = 1\n",
    "\n",
    "        ohe_dict[var] = var_dict\n",
    "\n",
    "    return ohe_dict"
   ]
  },
  {
   "cell_type": "code",
   "execution_count": 1205,
   "metadata": {},
   "outputs": [],
   "source": [
    "# padding function for ohe encoding\n",
    "def cat_padding(vec, t_length, attr_length):\n",
    "    desired_length = t_length*attr_length\n",
    "    vec_length = len(vec)\n",
    "    if vec_length != desired_length:\n",
    "        pad_vec = [0]*(desired_length-vec_length)\n",
    "        vec.extend(pad_vec)\n",
    "    return vec"
   ]
  },
  {
   "cell_type": "code",
   "execution_count": 1206,
   "metadata": {},
   "outputs": [],
   "source": [
    "# padding function for non-ohe encoding\n",
    "def num_padding(vec, t_length):\n",
    "    vec_length = len(vec)\n",
    "    if vec_length != t_length:\n",
    "        pad_vec = [0]*(t_length-vec_length)\n",
    "        vec.extend(pad_vec)\n",
    "    return vec"
   ]
  },
  {
   "cell_type": "code",
   "execution_count": 1207,
   "metadata": {},
   "outputs": [
    {
     "data": {
      "text/plain": [
       "['concept:name', 'org:resource', 'OrganizationalEntity', 'month']"
      ]
     },
     "execution_count": 1207,
     "metadata": {},
     "output_type": "execute_result"
    }
   ],
   "source": [
    "# create one hot encoding dict fot categorical variables\n",
    "# variables which we want to be one hot encoded\n",
    "categorical_vars = str_ev_attr + str_tr_attr\n",
    "ohe_dict = get_ohe_dict(categorical_vars, df)\n",
    "categorical_vars"
   ]
  },
  {
   "cell_type": "markdown",
   "metadata": {},
   "source": [
    "## Boolean encoding\n",
    "\n",
    "- can be easily extended with adding more attributes of traces other then activities, but for now kept it simple and as discussed in course"
   ]
  },
  {
   "cell_type": "code",
   "execution_count": 1208,
   "metadata": {},
   "outputs": [],
   "source": [
    "data = []\n",
    "\n",
    "for id, group in df.groupby(['case:concept:name']):\n",
    "    feature_vec = []\n",
    "\n",
    "    # add categorical and numerical event attributes\n",
    "    for cat_atr in str_ev_attr[:1]:\n",
    "        attr_length = len(list(ohe_dict[cat_atr].values())[0])\n",
    "        str_ev_vec = np.array([0]*attr_length)\n",
    "\n",
    "        for ca in group[cat_atr]:\n",
    "            str_ev_vec  = str_ev_vec + np.array(ohe_dict[cat_atr][ca])\n",
    "\n",
    "        # make it a non frequency vector (if count is greater then 1 make it 1)\n",
    "        for i,num in enumerate(str_ev_vec):\n",
    "            if num>1:\n",
    "                str_ev_vec[i]=1\n",
    "\n",
    "        feature_vec.extend(list(str_ev_vec))\n",
    "\n",
    "    data.append(feature_vec)\n",
    "\n",
    "    # data.append(feature_vec)"
   ]
  },
  {
   "cell_type": "code",
   "execution_count": 1209,
   "metadata": {},
   "outputs": [],
   "source": [
    "encode_name = 'boolean_encode_'\n",
    "save_path = save_path_base + encode_name + df_type +'_trace_len_'+str(t_length)+ '.pickle'\n",
    "save_data(data, declerations, ohe_dict ,save_path)"
   ]
  },
  {
   "cell_type": "markdown",
   "metadata": {},
   "source": [
    "## Frequency encoding"
   ]
  },
  {
   "cell_type": "code",
   "execution_count": 1210,
   "metadata": {},
   "outputs": [],
   "source": [
    "data = []\n",
    "\n",
    "for id, group in df.groupby(['case:concept:name']):\n",
    "    feature_vec = []\n",
    "\n",
    "    # add categorical and numerical event attributes\n",
    "    for cat_atr in str_ev_attr[:1]:\n",
    "        attr_length = len(list(ohe_dict[cat_atr].values())[0])\n",
    "        str_ev_vec = np.array([0]*attr_length)\n",
    "\n",
    "        for ca in group[cat_atr]:\n",
    "            str_ev_vec  = str_ev_vec + np.array(ohe_dict[cat_atr][ca])\n",
    "\n",
    "        feature_vec.extend(list(str_ev_vec))\n",
    "\n",
    "    data.append(feature_vec)\n",
    "\n",
    "    # data.append(feature_vec)"
   ]
  },
  {
   "cell_type": "code",
   "execution_count": 1211,
   "metadata": {},
   "outputs": [],
   "source": [
    "# save results\n",
    "encode_name = 'frequency_encode_'\n",
    "save_path = save_path_base + encode_name + df_type +'_trace_len_'+str(t_length)+ '.pickle'\n",
    "save_data(data, declerations, ohe_dict ,save_path)"
   ]
  },
  {
   "cell_type": "markdown",
   "metadata": {},
   "source": [
    "## Complex index based encoding - static feature (trace attributes) + n events encoding + event features"
   ]
  },
  {
   "cell_type": "code",
   "execution_count": 1212,
   "metadata": {},
   "outputs": [],
   "source": [
    "data = []\n",
    "\n",
    "for id, group in df.groupby(['case:concept:name']):\n",
    "    feature_vec = []\n",
    "\n",
    "    # add categorical and numerical event attributes along with paddings \n",
    "\n",
    "    for cat_atr in str_ev_attr:\n",
    "        str_ev_vec = []\n",
    "        attr_length = len(list(ohe_dict[cat_atr].values())[0])\n",
    "        for ca in group[cat_atr]:\n",
    "            str_ev_vec.append(ohe_dict[cat_atr][ca])\n",
    "        \n",
    "        # padding\n",
    "        str_ev_vec = cat_padding(str_ev_vec, t_length, attr_length)\n",
    "        feature_vec.extend(str_ev_vec)\n",
    "\n",
    "\n",
    "    for num_atr in num_ev_attr:\n",
    "        num_ev_vec = []\n",
    "        num_ev_vec.append(list(group[num_atr]))\n",
    "\n",
    "        # padding\n",
    "        num_ev_vec = num_padding(num_ev_vec, t_length)\n",
    "        feature_vec.extend(num_ev_vec)\n",
    "\n",
    "\n",
    "\n",
    "    # add categorical and numerical trace attributes\n",
    "    for num_t_atr in num_tr_attr:\n",
    "        feature_vec.extend(group[num_t_atr].iloc[0])\n",
    "\n",
    "\n",
    "    for cat_t_atr in str_tr_attr:\n",
    "        feature_vec.extend(ohe_dict[cat_t_atr][group[cat_t_atr].iloc[0]])\n",
    "\n",
    "    # add vector to data\n",
    "    data.append(feature_vec)\n"
   ]
  },
  {
   "cell_type": "code",
   "execution_count": 1213,
   "metadata": {},
   "outputs": [],
   "source": [
    "# check if all vector lengths are same \n",
    "vec_len = len(data[0])\n",
    "\n",
    "for i, d in enumerate(data):\n",
    "    if len(d)!=vec_len:\n",
    "        print(i, len(d))"
   ]
  },
  {
   "cell_type": "code",
   "execution_count": 1214,
   "metadata": {},
   "outputs": [],
   "source": [
    "# save results\n",
    "encode_name = 'complex_index_encode_'\n",
    "save_path = save_path_base + encode_name + df_type +'_trace_len_'+str(t_length)+ '.pickle'\n",
    "save_data(data, declerations, ohe_dict ,save_path)"
   ]
  },
  {
   "cell_type": "markdown",
   "metadata": {},
   "source": [
    "## LSTM encoding"
   ]
  },
  {
   "cell_type": "code",
   "execution_count": 1215,
   "metadata": {},
   "outputs": [],
   "source": [
    "data = []\n",
    "\n",
    "for id, group in df.groupby(['case:concept:name']):\n",
    "    \n",
    "    feature_vec = []\n",
    "\n",
    "    for index, row in group.iterrows():\n",
    "\n",
    "        row_vec = []\n",
    "\n",
    "        for cat_atr in str_ev_attr:\n",
    "            row_vec.extend(ohe_dict[cat_atr][row[cat_atr]])\n",
    "\n",
    "        for num_atr in num_ev_attr:\n",
    "            row_vec.append(row[num_atr])\n",
    "\n",
    "\n",
    "        # add categorical and numerical trace attributes\n",
    "        for num_t_atr in num_tr_attr:\n",
    "            row_vec.append(group[num_t_atr].iloc[0])\n",
    "\n",
    "        for cat_t_atr in str_tr_attr:\n",
    "            row_vec.extend(ohe_dict[cat_t_atr][group[cat_t_atr].iloc[0]])\n",
    "\n",
    "        feature_vec.append(row_vec)\n",
    "    \n",
    "\n",
    "    # add vector to data\n",
    "    data.append(feature_vec)\n"
   ]
  },
  {
   "cell_type": "code",
   "execution_count": 1216,
   "metadata": {},
   "outputs": [],
   "source": [
    "# converting to array\n",
    "data = np.array([np.array(ls) for ls in data])"
   ]
  },
  {
   "cell_type": "code",
   "execution_count": 1217,
   "metadata": {},
   "outputs": [
    {
     "data": {
      "text/plain": [
       "(6, 55)"
      ]
     },
     "execution_count": 1217,
     "metadata": {},
     "output_type": "execute_result"
    }
   ],
   "source": [
    "feature_len = len(data[0][0])\n",
    "desired_shape = (t_length,feature_len)\n",
    "desired_shape"
   ]
  },
  {
   "cell_type": "code",
   "execution_count": 1218,
   "metadata": {},
   "outputs": [],
   "source": [
    "# padding data to make equal shape of vectors\n",
    "padded_data = []\n",
    "for case in data:\n",
    "    pd_case = np.zeros(desired_shape)\n",
    "    pd_case[:case.shape[0],:case.shape[1]] = case\n",
    "    padded_data.append(pd_case)\n",
    "\n",
    "padded_data = np.array(padded_data).shape"
   ]
  },
  {
   "cell_type": "code",
   "execution_count": 1219,
   "metadata": {},
   "outputs": [],
   "source": [
    "# save results\n",
    "encode_name = 'lstm_encode_'\n",
    "save_path = save_path_base + encode_name + df_type +'_trace_len_'+str(t_length)+ '.pickle'\n",
    "save_data(data, declerations, ohe_dict ,save_path)"
   ]
  },
  {
   "cell_type": "code",
   "execution_count": null,
   "metadata": {},
   "outputs": [],
   "source": []
  },
  {
   "cell_type": "code",
   "execution_count": null,
   "metadata": {},
   "outputs": [],
   "source": []
  },
  {
   "cell_type": "code",
   "execution_count": null,
   "metadata": {},
   "outputs": [],
   "source": []
  },
  {
   "cell_type": "markdown",
   "metadata": {},
   "source": [
    "# =============================================\n",
    "# Preparing Test Data\n",
    "\n",
    "- define trace length and df_type (train or test)\n",
    "- Working on train and test seperately, so run whole code for the same trace length for train and then for test"
   ]
  },
  {
   "cell_type": "code",
   "execution_count": 1220,
   "metadata": {},
   "outputs": [],
   "source": [
    "df_type = 'test'\n",
    "permits = test_df"
   ]
  },
  {
   "cell_type": "markdown",
   "metadata": {},
   "source": [
    "# Feature Engineering"
   ]
  },
  {
   "cell_type": "code",
   "execution_count": 1221,
   "metadata": {},
   "outputs": [],
   "source": [
    "permits.head()\n",
    "permits['startTime'] = pd.to_datetime(permits['startTime'])\n",
    "permits['completeTime'] = pd.to_datetime(permits['completeTime'])"
   ]
  },
  {
   "cell_type": "code",
   "execution_count": 1222,
   "metadata": {},
   "outputs": [],
   "source": [
    "# add year and month column\n",
    "permits['year'] = permits['startTime'].dt.year\n",
    "permits['month'] = permits['startTime'].dt.month"
   ]
  },
  {
   "cell_type": "code",
   "execution_count": 1223,
   "metadata": {},
   "outputs": [],
   "source": [
    "# time to complete the activity\n",
    "permits['act_completionTime'] = permits['completeTime'] - permits['startTime']\n",
    "permits['act_completionTime'] = permits['act_completionTime'].dt.total_seconds()"
   ]
  },
  {
   "cell_type": "code",
   "execution_count": 1224,
   "metadata": {},
   "outputs": [],
   "source": [
    "# get minimum time for earch trace (when trace started)\n",
    "temp_df = pd.DataFrame(permits.groupby(['case'])['startTime'].min())\n",
    "temp_df['index'] = temp_df.index\n",
    "temp_df.reset_index(drop=True, inplace=True)\n",
    "temp_df.columns = ['startTime_min','case']\n",
    "\n",
    "# merge with permits\n",
    "permits = permits.merge(temp_df,on=['case'])"
   ]
  },
  {
   "cell_type": "code",
   "execution_count": 1225,
   "metadata": {},
   "outputs": [],
   "source": [
    "# get max time for earch trace (when trace ended)\n",
    "temp_df = pd.DataFrame(permits.groupby(['case'])['completeTime'].max())\n",
    "temp_df['index'] = temp_df.index\n",
    "temp_df.reset_index(drop=True, inplace=True)\n",
    "temp_df.columns = ['completeTime_max','case']\n",
    "\n",
    "# merge with permits\n",
    "permits = permits.merge(temp_df,on=['case'])"
   ]
  },
  {
   "cell_type": "code",
   "execution_count": 1226,
   "metadata": {},
   "outputs": [],
   "source": [
    "# calculate trace time\n",
    "permits['processCompletionTime']=permits['completeTime_max']-permits['startTime_min']\n",
    "permits['processCompletionTime'] = permits['processCompletionTime'].dt.total_seconds()"
   ]
  },
  {
   "cell_type": "code",
   "execution_count": 1227,
   "metadata": {},
   "outputs": [],
   "source": [
    "# calculate time taken between activities\n",
    "act_time_taken=[]\n",
    "for name,group in permits.groupby(['case'],sort=False):\n",
    "    act_time_taken.append([name,pd.to_datetime(0) - pd.to_datetime(0)])\n",
    "    for i in range(len(group)-1):\n",
    "        st_time_1 = group.iloc[i]['startTime']\n",
    "        st_time_2 = group.iloc[i+1]['startTime']\n",
    "        diff = st_time_2-st_time_1\n",
    "        act_time_taken.append([name,diff])\n",
    "\n",
    "time_diff_df = pd.DataFrame(act_time_taken,columns=['case','act_time_diff'])\n",
    "\n",
    "# add with permits\n",
    "permits['next_act_time_diff'] = time_diff_df['act_time_diff']\n",
    "permits['next_act_time_diff'] = permits['next_act_time_diff'].dt.total_seconds()"
   ]
  },
  {
   "cell_type": "code",
   "execution_count": 1228,
   "metadata": {},
   "outputs": [
    {
     "data": {
      "text/html": [
       "<div>\n",
       "<style scoped>\n",
       "    .dataframe tbody tr th:only-of-type {\n",
       "        vertical-align: middle;\n",
       "    }\n",
       "\n",
       "    .dataframe tbody tr th {\n",
       "        vertical-align: top;\n",
       "    }\n",
       "\n",
       "    .dataframe thead th {\n",
       "        text-align: right;\n",
       "    }\n",
       "</style>\n",
       "<table border=\"1\" class=\"dataframe\">\n",
       "  <thead>\n",
       "    <tr style=\"text-align: right;\">\n",
       "      <th></th>\n",
       "      <th>case</th>\n",
       "      <th>event</th>\n",
       "      <th>startTime</th>\n",
       "      <th>completeTime</th>\n",
       "      <th>OrganizationalEntity</th>\n",
       "      <th>TotalDeclared</th>\n",
       "      <th>Overspent</th>\n",
       "      <th>RequestedBudget</th>\n",
       "      <th>OverspentAmount</th>\n",
       "      <th>org:resource</th>\n",
       "      <th>year</th>\n",
       "      <th>month</th>\n",
       "      <th>act_completionTime</th>\n",
       "      <th>startTime_min</th>\n",
       "      <th>completeTime_max</th>\n",
       "      <th>processCompletionTime</th>\n",
       "      <th>next_act_time_diff</th>\n",
       "    </tr>\n",
       "  </thead>\n",
       "  <tbody>\n",
       "    <tr>\n",
       "      <th>0</th>\n",
       "      <td>travel permit 10898</td>\n",
       "      <td>Permit SUBMITTED by EMPLOYEE</td>\n",
       "      <td>2018-09-27 12:35:05</td>\n",
       "      <td>2018-09-27 12:35:05</td>\n",
       "      <td>organizational unit 65458</td>\n",
       "      <td>264.493826</td>\n",
       "      <td>True</td>\n",
       "      <td>347.303505</td>\n",
       "      <td>44.996875</td>\n",
       "      <td>STAFF MEMBER</td>\n",
       "      <td>2018</td>\n",
       "      <td>9</td>\n",
       "      <td>0.0</td>\n",
       "      <td>2018-09-27 12:35:05</td>\n",
       "      <td>2018-11-05 17:31:18</td>\n",
       "      <td>3387373.0</td>\n",
       "      <td>0.0</td>\n",
       "    </tr>\n",
       "    <tr>\n",
       "      <th>1</th>\n",
       "      <td>travel permit 10898</td>\n",
       "      <td>Permit APPROVED by ADMINISTRATION</td>\n",
       "      <td>2018-09-27 12:35:10</td>\n",
       "      <td>2018-09-27 12:35:10</td>\n",
       "      <td>organizational unit 65458</td>\n",
       "      <td>264.493826</td>\n",
       "      <td>True</td>\n",
       "      <td>347.303505</td>\n",
       "      <td>44.996875</td>\n",
       "      <td>STAFF MEMBER</td>\n",
       "      <td>2018</td>\n",
       "      <td>9</td>\n",
       "      <td>0.0</td>\n",
       "      <td>2018-09-27 12:35:05</td>\n",
       "      <td>2018-11-05 17:31:18</td>\n",
       "      <td>3387373.0</td>\n",
       "      <td>5.0</td>\n",
       "    </tr>\n",
       "    <tr>\n",
       "      <th>2</th>\n",
       "      <td>travel permit 10898</td>\n",
       "      <td>Permit FINAL_APPROVED by SUPERVISOR</td>\n",
       "      <td>2018-09-28 15:45:28</td>\n",
       "      <td>2018-09-28 15:45:28</td>\n",
       "      <td>organizational unit 65458</td>\n",
       "      <td>264.493826</td>\n",
       "      <td>True</td>\n",
       "      <td>347.303505</td>\n",
       "      <td>44.996875</td>\n",
       "      <td>STAFF MEMBER</td>\n",
       "      <td>2018</td>\n",
       "      <td>9</td>\n",
       "      <td>0.0</td>\n",
       "      <td>2018-09-27 12:35:05</td>\n",
       "      <td>2018-11-05 17:31:18</td>\n",
       "      <td>3387373.0</td>\n",
       "      <td>97818.0</td>\n",
       "    </tr>\n",
       "    <tr>\n",
       "      <th>3</th>\n",
       "      <td>travel permit 10898</td>\n",
       "      <td>Start trip</td>\n",
       "      <td>2018-10-08 00:00:00</td>\n",
       "      <td>2018-10-08 00:00:00</td>\n",
       "      <td>organizational unit 65458</td>\n",
       "      <td>264.493826</td>\n",
       "      <td>True</td>\n",
       "      <td>347.303505</td>\n",
       "      <td>44.996875</td>\n",
       "      <td>STAFF MEMBER</td>\n",
       "      <td>2018</td>\n",
       "      <td>10</td>\n",
       "      <td>0.0</td>\n",
       "      <td>2018-09-27 12:35:05</td>\n",
       "      <td>2018-11-05 17:31:18</td>\n",
       "      <td>3387373.0</td>\n",
       "      <td>807272.0</td>\n",
       "    </tr>\n",
       "    <tr>\n",
       "      <th>4</th>\n",
       "      <td>travel permit 10898</td>\n",
       "      <td>End trip</td>\n",
       "      <td>2018-10-12 00:00:00</td>\n",
       "      <td>2018-10-12 00:00:00</td>\n",
       "      <td>organizational unit 65458</td>\n",
       "      <td>264.493826</td>\n",
       "      <td>True</td>\n",
       "      <td>347.303505</td>\n",
       "      <td>44.996875</td>\n",
       "      <td>STAFF MEMBER</td>\n",
       "      <td>2018</td>\n",
       "      <td>10</td>\n",
       "      <td>0.0</td>\n",
       "      <td>2018-09-27 12:35:05</td>\n",
       "      <td>2018-11-05 17:31:18</td>\n",
       "      <td>3387373.0</td>\n",
       "      <td>345600.0</td>\n",
       "    </tr>\n",
       "  </tbody>\n",
       "</table>\n",
       "</div>"
      ],
      "text/plain": [
       "                  case                                event  \\\n",
       "0  travel permit 10898         Permit SUBMITTED by EMPLOYEE   \n",
       "1  travel permit 10898    Permit APPROVED by ADMINISTRATION   \n",
       "2  travel permit 10898  Permit FINAL_APPROVED by SUPERVISOR   \n",
       "3  travel permit 10898                           Start trip   \n",
       "4  travel permit 10898                             End trip   \n",
       "\n",
       "            startTime        completeTime       OrganizationalEntity  \\\n",
       "0 2018-09-27 12:35:05 2018-09-27 12:35:05  organizational unit 65458   \n",
       "1 2018-09-27 12:35:10 2018-09-27 12:35:10  organizational unit 65458   \n",
       "2 2018-09-28 15:45:28 2018-09-28 15:45:28  organizational unit 65458   \n",
       "3 2018-10-08 00:00:00 2018-10-08 00:00:00  organizational unit 65458   \n",
       "4 2018-10-12 00:00:00 2018-10-12 00:00:00  organizational unit 65458   \n",
       "\n",
       "  TotalDeclared Overspent RequestedBudget OverspentAmount  org:resource  year  \\\n",
       "0    264.493826      True      347.303505       44.996875  STAFF MEMBER  2018   \n",
       "1    264.493826      True      347.303505       44.996875  STAFF MEMBER  2018   \n",
       "2    264.493826      True      347.303505       44.996875  STAFF MEMBER  2018   \n",
       "3    264.493826      True      347.303505       44.996875  STAFF MEMBER  2018   \n",
       "4    264.493826      True      347.303505       44.996875  STAFF MEMBER  2018   \n",
       "\n",
       "   month  act_completionTime       startTime_min    completeTime_max  \\\n",
       "0      9                 0.0 2018-09-27 12:35:05 2018-11-05 17:31:18   \n",
       "1      9                 0.0 2018-09-27 12:35:05 2018-11-05 17:31:18   \n",
       "2      9                 0.0 2018-09-27 12:35:05 2018-11-05 17:31:18   \n",
       "3     10                 0.0 2018-09-27 12:35:05 2018-11-05 17:31:18   \n",
       "4     10                 0.0 2018-09-27 12:35:05 2018-11-05 17:31:18   \n",
       "\n",
       "   processCompletionTime  next_act_time_diff  \n",
       "0              3387373.0                 0.0  \n",
       "1              3387373.0                 5.0  \n",
       "2              3387373.0             97818.0  \n",
       "3              3387373.0            807272.0  \n",
       "4              3387373.0            345600.0  "
      ]
     },
     "execution_count": 1228,
     "metadata": {},
     "output_type": "execute_result"
    }
   ],
   "source": [
    "permits.head()"
   ]
  },
  {
   "cell_type": "markdown",
   "metadata": {},
   "source": [
    "### Adding some stastitics features in event log using pm4py"
   ]
  },
  {
   "cell_type": "code",
   "execution_count": 1229,
   "metadata": {},
   "outputs": [],
   "source": [
    "# converting dataframe to event log\n",
    "trace_log = pm4py.format_dataframe(permits, case_id='case', activity_key='event', timestamp_key='completeTime', start_timestamp_key='startTime')\n",
    "trace_log = pm4py.convert_to_event_log(trace_log)"
   ]
  },
  {
   "cell_type": "code",
   "execution_count": 1230,
   "metadata": {},
   "outputs": [],
   "source": [
    "# adding lead and waiting time\n",
    "# @@approx_bh_partial_lead_time\tIncremental lead time associated to the event\n",
    "# @@approx_bh_overall_wasted_time\tDifference between the partial lead time and the partial cycle time values (for us same as above, as no cylce time for us)\n",
    "# @@approx_bh_this_wasted_time\tWasted time ONLY with regards to the activity described by the ‘interval’ even (time difference between activities)\n",
    "\n",
    "trace_log = interval_lifecycle.assign_lead_cycle_time(trace_log)"
   ]
  },
  {
   "cell_type": "code",
   "execution_count": 1231,
   "metadata": {},
   "outputs": [
    {
     "data": {
      "text/plain": [
       "{'Permit SUBMITTED by EMPLOYEE': 0.0,\n",
       " 'Permit APPROVED by ADMINISTRATION': 0.0,\n",
       " 'Permit FINAL_APPROVED by SUPERVISOR': 0.0,\n",
       " 'Start trip': 0.0,\n",
       " 'End trip': 0.0,\n",
       " 'Declaration SUBMITTED by EMPLOYEE': 0.0,\n",
       " 'Declaration APPROVED by ADMINISTRATION': 0.0,\n",
       " 'Declaration FINAL_APPROVED by SUPERVISOR': 0.0,\n",
       " 'Request Payment': 0.0,\n",
       " 'Payment Handled': 0.0,\n",
       " 'Permit APPROVED by BUDGET OWNER': 0.0,\n",
       " 'Declaration APPROVED by BUDGET OWNER': 0.0,\n",
       " 'Declaration REJECTED by ADMINISTRATION': 0.0,\n",
       " 'Declaration REJECTED by EMPLOYEE': 0.0,\n",
       " 'Permit APPROVED by SUPERVISOR': 0.0,\n",
       " 'Permit FINAL_APPROVED by DIRECTOR': 0.0,\n",
       " 'Declaration APPROVED by SUPERVISOR': 0.0,\n",
       " 'Declaration FINAL_APPROVED by DIRECTOR': 0.0,\n",
       " 'Send Reminder': 0.0}"
      ]
     },
     "execution_count": 1231,
     "metadata": {},
     "output_type": "execute_result"
    }
   ],
   "source": [
    "# time taken to start and end the activity\n",
    "# found all zero based on data so nothing to add\n",
    "soj_time = soj_time_get.apply(trace_log, parameters={soj_time_get.Parameters.TIMESTAMP_KEY: \"time:timestamp\", soj_time_get.Parameters.START_TIMESTAMP_KEY: \"startTime\"})\n",
    "soj_time"
   ]
  },
  {
   "cell_type": "markdown",
   "metadata": {},
   "source": [
    "# Extracting target variable"
   ]
  },
  {
   "cell_type": "code",
   "execution_count": 1232,
   "metadata": {},
   "outputs": [
    {
     "data": {
      "text/plain": [
       "[0, 0, 0, 0, 0, 0, 0, 1, 0, 0, 0, 0, 0, 0, 1, 0, 0, 0, 0, 0]"
      ]
     },
     "execution_count": 1232,
     "metadata": {},
     "output_type": "execute_result"
    }
   ],
   "source": [
    "declerations = [len(list(filter(lambda e: e[\"concept:name\"] == (\"Declaration REJECTED by EMPLOYEE\" or \"Declaration REJECTED by MISSING\") ,trace))) > 0 for trace in trace_log]\n",
    "declerations = [1 if dec != False else 0 for dec in declerations]\n",
    "declerations[:20]"
   ]
  },
  {
   "cell_type": "code",
   "execution_count": 1233,
   "metadata": {},
   "outputs": [
    {
     "name": "stdout",
     "output_type": "stream",
     "text": [
      "460\n"
     ]
    }
   ],
   "source": [
    "print(len(declerations))"
   ]
  },
  {
   "cell_type": "markdown",
   "metadata": {},
   "source": [
    "# Extracting Prefix "
   ]
  },
  {
   "cell_type": "code",
   "execution_count": 1234,
   "metadata": {},
   "outputs": [],
   "source": [
    "# to extract only traces till the point decleration is rejected\n",
    "prefix_traces = []\n",
    "for trace in trace_log:\n",
    "    for i,event in enumerate(trace):\n",
    "        if \"Declaration REJECTED\" in event['event']:\n",
    "            break\n",
    "    prefix_traces.append(Trace(trace[:i], attributes = trace.attributes))\n",
    "prefix_traces = EventLog(prefix_traces)"
   ]
  },
  {
   "cell_type": "code",
   "execution_count": 1235,
   "metadata": {},
   "outputs": [
    {
     "name": "stdout",
     "output_type": "stream",
     "text": [
      "['Permit SUBMITTED by EMPLOYEE', 'Permit APPROVED by ADMINISTRATION', 'Permit APPROVED by BUDGET OWNER', 'Permit FINAL_APPROVED by SUPERVISOR', 'Start trip', 'End trip', 'Declaration SUBMITTED by EMPLOYEE', 'Declaration APPROVED by ADMINISTRATION', 'Declaration APPROVED by BUDGET OWNER', 'Declaration FINAL_APPROVED by SUPERVISOR', 'Request Payment']\n"
     ]
    }
   ],
   "source": [
    "# check if all good\n",
    "project_nth(prefix_traces, 3)"
   ]
  },
  {
   "cell_type": "code",
   "execution_count": 1236,
   "metadata": {},
   "outputs": [],
   "source": [
    "# generate prefixes, note that we need to add the casts to EventLog and Trace to make sure that the result is a PM4Py EventLog object\n",
    "trace_prefixes = EventLog([Trace(trace[0:t_length], attributes = trace.attributes) for trace in trace_log])"
   ]
  },
  {
   "cell_type": "code",
   "execution_count": 1237,
   "metadata": {},
   "outputs": [
    {
     "name": "stdout",
     "output_type": "stream",
     "text": [
      "[10, 10, 10, 12, 10, 10, 10, 13, 10, 12, 12, 10, 10, 10, 13]\n",
      "[6, 6, 6, 6, 6, 6, 6, 6, 6, 6, 6, 6, 6, 6, 6]\n"
     ]
    }
   ],
   "source": [
    "# check the trace length\n",
    "print([len(trace) for trace in trace_log][0:15])\n",
    "print([len(trace) for trace in trace_prefixes][0:15])"
   ]
  },
  {
   "cell_type": "code",
   "execution_count": 1238,
   "metadata": {},
   "outputs": [
    {
     "name": "stdout",
     "output_type": "stream",
     "text": [
      "['Permit SUBMITTED by EMPLOYEE', 'Permit APPROVED by ADMINISTRATION', 'Start trip', 'End trip', 'Permit APPROVED by BUDGET OWNER', 'Permit FINAL_APPROVED by SUPERVISOR']\n"
     ]
    }
   ],
   "source": [
    "# check if all good\n",
    "project_nth(trace_prefixes, 98)"
   ]
  },
  {
   "cell_type": "code",
   "execution_count": 1239,
   "metadata": {},
   "outputs": [],
   "source": [
    "# to check which traces are not of our desired length (these will be padded while preparing the the training data)\n",
    "for i,trace in enumerate(trace_prefixes):\n",
    "    if len(trace)!=t_length:\n",
    "        print(i, len(trace))\n",
    "        break"
   ]
  },
  {
   "cell_type": "markdown",
   "metadata": {},
   "source": [
    "## Boolean encoding\n",
    "\n",
    "- can be easily extended with adding more attributes of traces other then activities, but for now kept it simple and as discussed in course"
   ]
  },
  {
   "cell_type": "code",
   "execution_count": 1240,
   "metadata": {},
   "outputs": [],
   "source": [
    "encode_name = 'boolean_encode_'\n",
    "save_path = save_path_base + encode_name + 'train' +'_trace_len_'+str(t_length)+ '.pickle'\n",
    "loaded_data = load_data(save_path)\n",
    "ohe_dict = loaded_data['feature_names']"
   ]
  },
  {
   "cell_type": "code",
   "execution_count": 1241,
   "metadata": {},
   "outputs": [],
   "source": [
    "data = []\n",
    "\n",
    "for id, group in df.groupby(['case:concept:name']):\n",
    "    feature_vec = []\n",
    "\n",
    "    # add categorical and numerical event attributes\n",
    "    for cat_atr in str_ev_attr[:1]:\n",
    "        attr_length = len(list(ohe_dict[cat_atr].values())[0])\n",
    "        str_ev_vec = np.array([0]*attr_length)\n",
    "\n",
    "        for ca in group[cat_atr]:\n",
    "            str_ev_vec  = str_ev_vec + np.array(ohe_dict[cat_atr][ca])\n",
    "\n",
    "        # make it a non frequency vector (if count is greater then 1 make it 1)\n",
    "        for i,num in enumerate(str_ev_vec):\n",
    "            if num>1:\n",
    "                str_ev_vec[i]=1\n",
    "\n",
    "        feature_vec.extend(list(str_ev_vec))\n",
    "\n",
    "    data.append(feature_vec)\n",
    "\n",
    "    # data.append(feature_vec)"
   ]
  },
  {
   "cell_type": "code",
   "execution_count": 1242,
   "metadata": {},
   "outputs": [],
   "source": [
    "encode_name = 'boolean_encode_'\n",
    "save_path = save_path_base + encode_name + df_type +'_trace_len_'+str(t_length)+ '.pickle'\n",
    "save_data(data, declerations, ohe_dict ,save_path)"
   ]
  },
  {
   "cell_type": "markdown",
   "metadata": {},
   "source": [
    "## Frequency encoding"
   ]
  },
  {
   "cell_type": "code",
   "execution_count": 1243,
   "metadata": {},
   "outputs": [],
   "source": [
    "encode_name = 'frequency_encode_'\n",
    "save_path = save_path_base + encode_name + 'train' +'_trace_len_'+str(t_length)+ '.pickle'\n",
    "loaded_data = load_data(save_path)\n",
    "ohe_dict = loaded_data['feature_names']"
   ]
  },
  {
   "cell_type": "code",
   "execution_count": 1244,
   "metadata": {},
   "outputs": [],
   "source": [
    "data = []\n",
    "\n",
    "for id, group in df.groupby(['case:concept:name']):\n",
    "    feature_vec = []\n",
    "\n",
    "    # add categorical and numerical event attributes\n",
    "    for cat_atr in str_ev_attr[:1]:\n",
    "        attr_length = len(list(ohe_dict[cat_atr].values())[0])\n",
    "        str_ev_vec = np.array([0]*attr_length)\n",
    "\n",
    "        for ca in group[cat_atr]:\n",
    "            str_ev_vec  = str_ev_vec + np.array(ohe_dict[cat_atr][ca])\n",
    "\n",
    "        feature_vec.extend(list(str_ev_vec))\n",
    "\n",
    "    data.append(feature_vec)\n",
    "\n",
    "    # data.append(feature_vec)"
   ]
  },
  {
   "cell_type": "code",
   "execution_count": 1245,
   "metadata": {},
   "outputs": [],
   "source": [
    "# save results\n",
    "encode_name = 'frequency_encode_'\n",
    "save_path = save_path_base + encode_name + df_type +'_trace_len_'+str(t_length)+ '.pickle'\n",
    "save_data(data, declerations, ohe_dict ,save_path)"
   ]
  },
  {
   "cell_type": "markdown",
   "metadata": {},
   "source": [
    "## Complex index based encoding - static feature (trace attributes) + n events encoding + event features"
   ]
  },
  {
   "cell_type": "code",
   "execution_count": 1246,
   "metadata": {},
   "outputs": [],
   "source": [
    "encode_name = 'complex_index_encode_'\n",
    "save_path = save_path_base + encode_name + 'train' +'_trace_len_'+str(t_length)+ '.pickle'\n",
    "loaded_data = load_data(save_path)\n",
    "ohe_dict = loaded_data['feature_names']"
   ]
  },
  {
   "cell_type": "code",
   "execution_count": 1247,
   "metadata": {},
   "outputs": [],
   "source": [
    "data = []\n",
    "\n",
    "for id, group in df.groupby(['case:concept:name']):\n",
    "    feature_vec = []\n",
    "\n",
    "    # add categorical and numerical event attributes along with paddings \n",
    "\n",
    "    for cat_atr in str_ev_attr:\n",
    "        str_ev_vec = []\n",
    "        attr_length = len(list(ohe_dict[cat_atr].values())[0])\n",
    "        for ca in group[cat_atr]:\n",
    "            str_ev_vec.append(ohe_dict[cat_atr][ca])\n",
    "        \n",
    "        # padding\n",
    "        str_ev_vec = cat_padding(str_ev_vec, t_length, attr_length)\n",
    "        feature_vec.extend(str_ev_vec)\n",
    "\n",
    "\n",
    "    for num_atr in num_ev_attr:\n",
    "        num_ev_vec = []\n",
    "        num_ev_vec.append(list(group[num_atr]))\n",
    "\n",
    "        # padding\n",
    "        num_ev_vec = num_padding(num_ev_vec, t_length)\n",
    "        feature_vec.extend(num_ev_vec)\n",
    "\n",
    "\n",
    "\n",
    "    # add categorical and numerical trace attributes\n",
    "    for num_t_atr in num_tr_attr:\n",
    "        feature_vec.extend(group[num_t_atr].iloc[0])\n",
    "\n",
    "\n",
    "    for cat_t_atr in str_tr_attr:\n",
    "        feature_vec.extend(ohe_dict[cat_t_atr][group[cat_t_atr].iloc[0]])\n",
    "\n",
    "    # add vector to data\n",
    "    data.append(feature_vec)\n"
   ]
  },
  {
   "cell_type": "code",
   "execution_count": 1248,
   "metadata": {},
   "outputs": [],
   "source": [
    "# check if all vector lengths are same \n",
    "vec_len = len(data[0])\n",
    "\n",
    "for i, d in enumerate(data):\n",
    "    if len(d)!=vec_len:\n",
    "        print(i, len(d))"
   ]
  },
  {
   "cell_type": "code",
   "execution_count": 1249,
   "metadata": {},
   "outputs": [],
   "source": [
    "# save results\n",
    "encode_name = 'complex_index_encode_'\n",
    "save_path = save_path_base + encode_name + df_type +'_trace_len_'+str(t_length)+ '.pickle'\n",
    "save_data(data, declerations, ohe_dict ,save_path)"
   ]
  },
  {
   "cell_type": "markdown",
   "metadata": {},
   "source": [
    "## LSTM encoding"
   ]
  },
  {
   "cell_type": "code",
   "execution_count": 1250,
   "metadata": {},
   "outputs": [],
   "source": [
    "encode_name = 'lstm_encode_'\n",
    "save_path = save_path_base + encode_name + 'train' +'_trace_len_'+str(t_length)+ '.pickle'\n",
    "loaded_data = load_data(save_path)\n",
    "ohe_dict = loaded_data['feature_names']"
   ]
  },
  {
   "cell_type": "code",
   "execution_count": 1251,
   "metadata": {},
   "outputs": [],
   "source": [
    "data = []\n",
    "\n",
    "for id, group in df.groupby(['case:concept:name']):\n",
    "    \n",
    "    feature_vec = []\n",
    "\n",
    "    for index, row in group.iterrows():\n",
    "\n",
    "        row_vec = []\n",
    "\n",
    "        for cat_atr in str_ev_attr:\n",
    "            row_vec.extend(ohe_dict[cat_atr][row[cat_atr]])\n",
    "\n",
    "        for num_atr in num_ev_attr:\n",
    "            row_vec.append(row[num_atr])\n",
    "\n",
    "\n",
    "        # add categorical and numerical trace attributes\n",
    "        for num_t_atr in num_tr_attr:\n",
    "            row_vec.append(group[num_t_atr].iloc[0])\n",
    "\n",
    "        for cat_t_atr in str_tr_attr:\n",
    "            row_vec.extend(ohe_dict[cat_t_atr][group[cat_t_atr].iloc[0]])\n",
    "\n",
    "        feature_vec.append(row_vec)\n",
    "    \n",
    "\n",
    "    # add vector to data\n",
    "    data.append(feature_vec)\n"
   ]
  },
  {
   "cell_type": "code",
   "execution_count": 1252,
   "metadata": {},
   "outputs": [],
   "source": [
    "# converting to array\n",
    "data = np.array([np.array(ls) for ls in data])"
   ]
  },
  {
   "cell_type": "code",
   "execution_count": 1253,
   "metadata": {},
   "outputs": [
    {
     "data": {
      "text/plain": [
       "(6, 55)"
      ]
     },
     "execution_count": 1253,
     "metadata": {},
     "output_type": "execute_result"
    }
   ],
   "source": [
    "feature_len = len(data[0][0])\n",
    "desired_shape = (t_length,feature_len)\n",
    "desired_shape"
   ]
  },
  {
   "cell_type": "code",
   "execution_count": 1254,
   "metadata": {},
   "outputs": [],
   "source": [
    "# padding data to make equal shape of vectors\n",
    "padded_data = []\n",
    "for case in data:\n",
    "    pd_case = np.zeros(desired_shape)\n",
    "    pd_case[:case.shape[0],:case.shape[1]] = case\n",
    "    padded_data.append(pd_case)\n",
    "\n",
    "padded_data = np.array(padded_data).shape"
   ]
  },
  {
   "cell_type": "code",
   "execution_count": 1255,
   "metadata": {},
   "outputs": [],
   "source": [
    "# save results\n",
    "encode_name = 'lstm_encode_'\n",
    "save_path = save_path_base + encode_name + df_type +'_trace_len_'+str(t_length)+ '.pickle'\n",
    "save_data(data, declerations, ohe_dict ,save_path)"
   ]
  },
  {
   "cell_type": "markdown",
   "metadata": {},
   "source": [
    "# =================== END ================="
   ]
  },
  {
   "cell_type": "code",
   "execution_count": null,
   "metadata": {},
   "outputs": [],
   "source": []
  },
  {
   "cell_type": "code",
   "execution_count": null,
   "metadata": {},
   "outputs": [],
   "source": []
  },
  {
   "cell_type": "code",
   "execution_count": null,
   "metadata": {},
   "outputs": [],
   "source": []
  },
  {
   "cell_type": "code",
   "execution_count": null,
   "metadata": {},
   "outputs": [],
   "source": []
  },
  {
   "cell_type": "code",
   "execution_count": null,
   "metadata": {},
   "outputs": [],
   "source": []
  },
  {
   "cell_type": "code",
   "execution_count": null,
   "metadata": {},
   "outputs": [],
   "source": []
  },
  {
   "cell_type": "markdown",
   "metadata": {},
   "source": [
    "\n",
    "\n",
    "# Extra"
   ]
  },
  {
   "cell_type": "code",
   "execution_count": 351,
   "metadata": {},
   "outputs": [],
   "source": [
    "# from pm4py.statistics.sojourn_time.log import get as soj_time_get\n",
    "# soj_time = soj_time_get.apply(trace_log, parameters={soj_time_get.Parameters.TIMESTAMP_KEY: \"time:timestamp\", soj_time_get.Parameters.START_TIMESTAMP_KEY: \"startTime\"})\n",
    "# print(soj_time)"
   ]
  },
  {
   "cell_type": "code",
   "execution_count": 352,
   "metadata": {},
   "outputs": [],
   "source": [
    "# # to get all trace cases\n",
    "# for i, trace in enumerate(trace_log):\n",
    "#     print(trace[0]['case'])"
   ]
  },
  {
   "cell_type": "code",
   "execution_count": 353,
   "metadata": {},
   "outputs": [],
   "source": [
    "# # throughput time (time to complete traces) all in seconds\n",
    "# all_case_durations = pm4py.get_all_case_durations(trace_log)\n",
    "# all_case_durations"
   ]
  },
  {
   "cell_type": "code",
   "execution_count": 354,
   "metadata": {},
   "outputs": [],
   "source": [
    "# # arrival between cases\n",
    "# case_arrival_ratio = pm4py.get_case_arrival_average(trace_log)\n",
    "# case_arrival_ratio/(60*60)"
   ]
  },
  {
   "cell_type": "code",
   "execution_count": 355,
   "metadata": {},
   "outputs": [],
   "source": [
    "# from pm4py.objects.log.util import interval_lifecycle\n",
    "# enriched_log = interval_lifecycle.assign_lead_cycle_time(trace_log)\n",
    "# enriched_log"
   ]
  },
  {
   "cell_type": "markdown",
   "metadata": {},
   "source": [
    "### boolean bigram encoding"
   ]
  },
  {
   "cell_type": "code",
   "execution_count": null,
   "metadata": {},
   "outputs": [
    {
     "data": {
      "text/plain": [
       "['succession:concept:name@Declaration APPROVED by ADMINISTRATION#Declaration APPROVED by ADMINISTRATION',\n",
       " 'succession:concept:name@Declaration APPROVED by ADMINISTRATION#Declaration APPROVED by BUDGET OWNER',\n",
       " 'succession:concept:name@Declaration APPROVED by ADMINISTRATION#Declaration APPROVED by SUPERVISOR',\n",
       " 'succession:concept:name@Declaration APPROVED by ADMINISTRATION#Declaration FINAL_APPROVED by SUPERVISOR',\n",
       " 'succession:concept:name@Declaration APPROVED by ADMINISTRATION#Declaration REJECTED by ADMINISTRATION',\n",
       " 'succession:concept:name@Declaration APPROVED by ADMINISTRATION#Declaration REJECTED by BUDGET OWNER',\n",
       " 'succession:concept:name@Declaration APPROVED by ADMINISTRATION#Declaration REJECTED by SUPERVISOR',\n",
       " 'succession:concept:name@Declaration APPROVED by ADMINISTRATION#Declaration SUBMITTED by EMPLOYEE',\n",
       " 'succession:concept:name@Declaration APPROVED by ADMINISTRATION#End trip',\n",
       " 'succession:concept:name@Declaration APPROVED by ADMINISTRATION#Permit REJECTED by MISSING',\n",
       " 'succession:concept:name@Declaration APPROVED by ADMINISTRATION#Request For Payment SAVED by EMPLOYEE',\n",
       " 'succession:concept:name@Declaration APPROVED by ADMINISTRATION#Request For Payment SUBMITTED by EMPLOYEE',\n",
       " 'succession:concept:name@Declaration APPROVED by ADMINISTRATION#Start trip',\n",
       " 'succession:concept:name@Declaration APPROVED by BUDGET OWNER#Declaration APPROVED by BUDGET OWNER',\n",
       " 'succession:concept:name@Declaration APPROVED by BUDGET OWNER#Declaration APPROVED by SUPERVISOR',\n",
       " 'succession:concept:name@Declaration APPROVED by BUDGET OWNER#Declaration FINAL_APPROVED by SUPERVISOR',\n",
       " 'succession:concept:name@Declaration APPROVED by BUDGET OWNER#Declaration REJECTED by SUPERVISOR',\n",
       " 'succession:concept:name@Declaration APPROVED by BUDGET OWNER#Declaration SAVED by EMPLOYEE',\n",
       " 'succession:concept:name@Declaration APPROVED by BUDGET OWNER#Declaration SUBMITTED by EMPLOYEE',\n",
       " 'succession:concept:name@Declaration APPROVED by BUDGET OWNER#End trip',\n",
       " 'succession:concept:name@Declaration APPROVED by BUDGET OWNER#Request For Payment SUBMITTED by EMPLOYEE',\n",
       " 'succession:concept:name@Declaration APPROVED by BUDGET OWNER#Start trip',\n",
       " 'succession:concept:name@Declaration APPROVED by PRE_APPROVER#Declaration APPROVED by SUPERVISOR',\n",
       " 'succession:concept:name@Declaration APPROVED by PRE_APPROVER#Declaration FINAL_APPROVED by DIRECTOR',\n",
       " 'succession:concept:name@Declaration APPROVED by PRE_APPROVER#Declaration FINAL_APPROVED by SUPERVISOR',\n",
       " 'succession:concept:name@Declaration APPROVED by PRE_APPROVER#Declaration REJECTED by SUPERVISOR',\n",
       " 'succession:concept:name@Declaration APPROVED by PRE_APPROVER#Declaration SUBMITTED by EMPLOYEE',\n",
       " 'succession:concept:name@Declaration APPROVED by PRE_APPROVER#End trip',\n",
       " 'succession:concept:name@Declaration APPROVED by PRE_APPROVER#Start trip',\n",
       " 'succession:concept:name@Declaration APPROVED by SUPERVISOR#Declaration FINAL_APPROVED by DIRECTOR',\n",
       " 'succession:concept:name@Declaration APPROVED by SUPERVISOR#Declaration REJECTED by DIRECTOR',\n",
       " 'succession:concept:name@Declaration FINAL_APPROVED by DIRECTOR#Declaration APPROVED by SUPERVISOR',\n",
       " 'succession:concept:name@Declaration FINAL_APPROVED by DIRECTOR#Declaration REJECTED by MISSING',\n",
       " 'succession:concept:name@Declaration FINAL_APPROVED by DIRECTOR#Request Payment',\n",
       " 'succession:concept:name@Declaration FINAL_APPROVED by SUPERVISOR#Declaration FINAL_APPROVED by SUPERVISOR',\n",
       " 'succession:concept:name@Declaration FINAL_APPROVED by SUPERVISOR#Declaration REJECTED by ADMINISTRATION',\n",
       " 'succession:concept:name@Declaration FINAL_APPROVED by SUPERVISOR#Declaration REJECTED by MISSING',\n",
       " 'succession:concept:name@Declaration FINAL_APPROVED by SUPERVISOR#Declaration SAVED by EMPLOYEE',\n",
       " 'succession:concept:name@Declaration FINAL_APPROVED by SUPERVISOR#Declaration SUBMITTED by EMPLOYEE',\n",
       " 'succession:concept:name@Declaration FINAL_APPROVED by SUPERVISOR#End trip',\n",
       " 'succession:concept:name@Declaration FINAL_APPROVED by SUPERVISOR#Payment Handled',\n",
       " 'succession:concept:name@Declaration FINAL_APPROVED by SUPERVISOR#Request Payment',\n",
       " 'succession:concept:name@Declaration FINAL_APPROVED by SUPERVISOR#Start trip',\n",
       " 'succession:concept:name@Declaration REJECTED by ADMINISTRATION#Declaration FINAL_APPROVED by SUPERVISOR',\n",
       " 'succession:concept:name@Declaration REJECTED by ADMINISTRATION#Declaration SAVED by EMPLOYEE',\n",
       " 'succession:concept:name@Declaration REJECTED by ADMINISTRATION#Declaration SUBMITTED by EMPLOYEE',\n",
       " 'succession:concept:name@Declaration REJECTED by ADMINISTRATION#End trip',\n",
       " 'succession:concept:name@Declaration REJECTED by ADMINISTRATION#Request For Payment SUBMITTED by EMPLOYEE',\n",
       " 'succession:concept:name@Declaration REJECTED by ADMINISTRATION#Start trip',\n",
       " 'succession:concept:name@Declaration REJECTED by BUDGET OWNER#Declaration SUBMITTED by EMPLOYEE',\n",
       " 'succession:concept:name@Declaration REJECTED by BUDGET OWNER#End trip',\n",
       " 'succession:concept:name@Declaration REJECTED by MISSING#Declaration SUBMITTED by EMPLOYEE',\n",
       " 'succession:concept:name@Declaration REJECTED by MISSING#Request For Payment SUBMITTED by EMPLOYEE',\n",
       " 'succession:concept:name@Declaration REJECTED by PRE_APPROVER#Declaration SUBMITTED by EMPLOYEE',\n",
       " 'succession:concept:name@Declaration REJECTED by PRE_APPROVER#End trip',\n",
       " 'succession:concept:name@Declaration REJECTED by PRE_APPROVER#Request For Payment SUBMITTED by EMPLOYEE',\n",
       " 'succession:concept:name@Declaration REJECTED by SUPERVISOR#Declaration SUBMITTED by EMPLOYEE',\n",
       " 'succession:concept:name@Declaration REJECTED by SUPERVISOR#End trip',\n",
       " 'succession:concept:name@Declaration SAVED by EMPLOYEE#Declaration SAVED by EMPLOYEE',\n",
       " 'succession:concept:name@Declaration SAVED by EMPLOYEE#Declaration SUBMITTED by EMPLOYEE',\n",
       " 'succession:concept:name@Declaration SAVED by EMPLOYEE#End trip',\n",
       " 'succession:concept:name@Declaration SAVED by EMPLOYEE#Permit REJECTED by MISSING',\n",
       " 'succession:concept:name@Declaration SAVED by EMPLOYEE#Request For Payment SUBMITTED by EMPLOYEE',\n",
       " 'succession:concept:name@Declaration SAVED by EMPLOYEE#Request Payment',\n",
       " 'succession:concept:name@Declaration SAVED by EMPLOYEE#Start trip',\n",
       " 'succession:concept:name@Declaration SUBMITTED by EMPLOYEE#Declaration APPROVED by ADMINISTRATION',\n",
       " 'succession:concept:name@Declaration SUBMITTED by EMPLOYEE#Declaration APPROVED by BUDGET OWNER',\n",
       " 'succession:concept:name@Declaration SUBMITTED by EMPLOYEE#Declaration APPROVED by PRE_APPROVER',\n",
       " 'succession:concept:name@Declaration SUBMITTED by EMPLOYEE#Declaration APPROVED by SUPERVISOR',\n",
       " 'succession:concept:name@Declaration SUBMITTED by EMPLOYEE#Declaration FINAL_APPROVED by SUPERVISOR',\n",
       " 'succession:concept:name@Declaration SUBMITTED by EMPLOYEE#Declaration REJECTED by ADMINISTRATION',\n",
       " 'succession:concept:name@Declaration SUBMITTED by EMPLOYEE#Declaration REJECTED by PRE_APPROVER',\n",
       " 'succession:concept:name@Declaration SUBMITTED by EMPLOYEE#Declaration REJECTED by SUPERVISOR',\n",
       " 'succession:concept:name@Declaration SUBMITTED by EMPLOYEE#Declaration SUBMITTED by EMPLOYEE',\n",
       " 'succession:concept:name@Declaration SUBMITTED by EMPLOYEE#End trip',\n",
       " 'succession:concept:name@Declaration SUBMITTED by EMPLOYEE#Permit REJECTED by MISSING',\n",
       " 'succession:concept:name@Declaration SUBMITTED by EMPLOYEE#Request For Payment APPROVED by BUDGET OWNER',\n",
       " 'succession:concept:name@Declaration SUBMITTED by EMPLOYEE#Request For Payment FINAL_APPROVED by SUPERVISOR',\n",
       " 'succession:concept:name@Declaration SUBMITTED by EMPLOYEE#Request For Payment SUBMITTED by EMPLOYEE',\n",
       " 'succession:concept:name@Declaration SUBMITTED by EMPLOYEE#Start trip',\n",
       " 'succession:concept:name@End trip#Declaration APPROVED by ADMINISTRATION',\n",
       " 'succession:concept:name@End trip#Declaration APPROVED by BUDGET OWNER',\n",
       " 'succession:concept:name@End trip#Declaration APPROVED by PRE_APPROVER',\n",
       " 'succession:concept:name@End trip#Declaration FINAL_APPROVED by SUPERVISOR',\n",
       " 'succession:concept:name@End trip#Declaration REJECTED by ADMINISTRATION',\n",
       " 'succession:concept:name@End trip#Declaration REJECTED by MISSING',\n",
       " 'succession:concept:name@End trip#Declaration SAVED by EMPLOYEE',\n",
       " 'succession:concept:name@End trip#Declaration SUBMITTED by EMPLOYEE',\n",
       " 'succession:concept:name@End trip#Payment Handled',\n",
       " 'succession:concept:name@End trip#Permit APPROVED by ADMINISTRATION',\n",
       " 'succession:concept:name@End trip#Permit APPROVED by BUDGET OWNER',\n",
       " 'succession:concept:name@End trip#Permit APPROVED by PRE_APPROVER',\n",
       " 'succession:concept:name@End trip#Permit APPROVED by SUPERVISOR',\n",
       " 'succession:concept:name@End trip#Permit FINAL_APPROVED by DIRECTOR',\n",
       " 'succession:concept:name@End trip#Permit FINAL_APPROVED by SUPERVISOR',\n",
       " 'succession:concept:name@End trip#Permit REJECTED by BUDGET OWNER',\n",
       " 'succession:concept:name@End trip#Permit REJECTED by EMPLOYEE',\n",
       " 'succession:concept:name@End trip#Permit REJECTED by MISSING',\n",
       " 'succession:concept:name@End trip#Permit REJECTED by SUPERVISOR',\n",
       " 'succession:concept:name@End trip#Permit SAVED by EMPLOYEE',\n",
       " 'succession:concept:name@End trip#Permit SUBMITTED by EMPLOYEE',\n",
       " 'succession:concept:name@End trip#Request For Payment APPROVED by ADMINISTRATION',\n",
       " 'succession:concept:name@End trip#Request For Payment FINAL_APPROVED by DIRECTOR',\n",
       " 'succession:concept:name@End trip#Request For Payment FINAL_APPROVED by SUPERVISOR',\n",
       " 'succession:concept:name@End trip#Request For Payment REJECTED by EMPLOYEE',\n",
       " 'succession:concept:name@End trip#Request For Payment SAVED by EMPLOYEE',\n",
       " 'succession:concept:name@End trip#Request For Payment SUBMITTED by EMPLOYEE',\n",
       " 'succession:concept:name@End trip#Request Payment',\n",
       " 'succession:concept:name@End trip#Send Reminder',\n",
       " 'succession:concept:name@Payment Handled#Declaration SUBMITTED by EMPLOYEE',\n",
       " 'succession:concept:name@Payment Handled#End trip',\n",
       " 'succession:concept:name@Payment Handled#Payment Handled',\n",
       " 'succession:concept:name@Payment Handled#Permit FINAL_APPROVED by SUPERVISOR',\n",
       " 'succession:concept:name@Payment Handled#Permit REJECTED by MISSING',\n",
       " 'succession:concept:name@Payment Handled#Permit SUBMITTED by EMPLOYEE',\n",
       " 'succession:concept:name@Payment Handled#Request For Payment SUBMITTED by EMPLOYEE',\n",
       " 'succession:concept:name@Payment Handled#Request Payment',\n",
       " 'succession:concept:name@Payment Handled#Send Reminder',\n",
       " 'succession:concept:name@Payment Handled#Start trip',\n",
       " 'succession:concept:name@Permit APPROVED by ADMINISTRATION#End trip',\n",
       " 'succession:concept:name@Permit APPROVED by ADMINISTRATION#Payment Handled',\n",
       " 'succession:concept:name@Permit APPROVED by ADMINISTRATION#Permit APPROVED by BUDGET OWNER',\n",
       " 'succession:concept:name@Permit APPROVED by ADMINISTRATION#Permit APPROVED by SUPERVISOR',\n",
       " 'succession:concept:name@Permit APPROVED by ADMINISTRATION#Permit FINAL_APPROVED by SUPERVISOR',\n",
       " 'succession:concept:name@Permit APPROVED by ADMINISTRATION#Permit REJECTED by BUDGET OWNER',\n",
       " 'succession:concept:name@Permit APPROVED by ADMINISTRATION#Permit REJECTED by SUPERVISOR',\n",
       " 'succession:concept:name@Permit APPROVED by ADMINISTRATION#Request For Payment APPROVED by ADMINISTRATION',\n",
       " 'succession:concept:name@Permit APPROVED by ADMINISTRATION#Request For Payment REJECTED by EMPLOYEE',\n",
       " 'succession:concept:name@Permit APPROVED by ADMINISTRATION#Request For Payment SAVED by EMPLOYEE',\n",
       " 'succession:concept:name@Permit APPROVED by ADMINISTRATION#Request For Payment SUBMITTED by EMPLOYEE',\n",
       " 'succession:concept:name@Permit APPROVED by ADMINISTRATION#Send Reminder',\n",
       " 'succession:concept:name@Permit APPROVED by ADMINISTRATION#Start trip',\n",
       " 'succession:concept:name@Permit APPROVED by BUDGET OWNER#End trip',\n",
       " 'succession:concept:name@Permit APPROVED by BUDGET OWNER#Payment Handled',\n",
       " 'succession:concept:name@Permit APPROVED by BUDGET OWNER#Permit APPROVED by SUPERVISOR',\n",
       " 'succession:concept:name@Permit APPROVED by BUDGET OWNER#Permit FINAL_APPROVED by DIRECTOR',\n",
       " 'succession:concept:name@Permit APPROVED by BUDGET OWNER#Permit FINAL_APPROVED by SUPERVISOR',\n",
       " 'succession:concept:name@Permit APPROVED by BUDGET OWNER#Permit FOR_APPROVAL by SUPERVISOR',\n",
       " 'succession:concept:name@Permit APPROVED by BUDGET OWNER#Permit REJECTED by SUPERVISOR',\n",
       " 'succession:concept:name@Permit APPROVED by BUDGET OWNER#Request For Payment APPROVED by ADMINISTRATION',\n",
       " 'succession:concept:name@Permit APPROVED by BUDGET OWNER#Request For Payment APPROVED by BUDGET OWNER',\n",
       " 'succession:concept:name@Permit APPROVED by BUDGET OWNER#Request For Payment FINAL_APPROVED by SUPERVISOR',\n",
       " 'succession:concept:name@Permit APPROVED by BUDGET OWNER#Request For Payment REJECTED by ADMINISTRATION',\n",
       " 'succession:concept:name@Permit APPROVED by BUDGET OWNER#Request For Payment REJECTED by EMPLOYEE',\n",
       " 'succession:concept:name@Permit APPROVED by BUDGET OWNER#Request For Payment SUBMITTED by EMPLOYEE',\n",
       " 'succession:concept:name@Permit APPROVED by BUDGET OWNER#Send Reminder',\n",
       " 'succession:concept:name@Permit APPROVED by BUDGET OWNER#Start trip',\n",
       " 'succession:concept:name@Permit APPROVED by PRE_APPROVER#End trip',\n",
       " 'succession:concept:name@Permit APPROVED by PRE_APPROVER#Permit APPROVED by SUPERVISOR',\n",
       " 'succession:concept:name@Permit APPROVED by PRE_APPROVER#Permit FINAL_APPROVED by DIRECTOR',\n",
       " 'succession:concept:name@Permit APPROVED by PRE_APPROVER#Permit FINAL_APPROVED by SUPERVISOR',\n",
       " 'succession:concept:name@Permit APPROVED by PRE_APPROVER#Permit REJECTED by SUPERVISOR',\n",
       " 'succession:concept:name@Permit APPROVED by PRE_APPROVER#Request For Payment SUBMITTED by EMPLOYEE',\n",
       " 'succession:concept:name@Permit APPROVED by PRE_APPROVER#Start trip',\n",
       " 'succession:concept:name@Permit APPROVED by SUPERVISOR#End trip',\n",
       " 'succession:concept:name@Permit APPROVED by SUPERVISOR#Permit FINAL_APPROVED by DIRECTOR',\n",
       " 'succession:concept:name@Permit APPROVED by SUPERVISOR#Permit REJECTED by DIRECTOR',\n",
       " 'succession:concept:name@Permit APPROVED by SUPERVISOR#Request For Payment APPROVED by SUPERVISOR',\n",
       " 'succession:concept:name@Permit APPROVED by SUPERVISOR#Request For Payment FINAL_APPROVED by DIRECTOR',\n",
       " 'succession:concept:name@Permit APPROVED by SUPERVISOR#Request For Payment FINAL_APPROVED by SUPERVISOR',\n",
       " 'succession:concept:name@Permit APPROVED by SUPERVISOR#Request For Payment REJECTED by SUPERVISOR',\n",
       " 'succession:concept:name@Permit APPROVED by SUPERVISOR#Request For Payment SUBMITTED by EMPLOYEE',\n",
       " 'succession:concept:name@Permit APPROVED by SUPERVISOR#Request Payment',\n",
       " 'succession:concept:name@Permit APPROVED by SUPERVISOR#Start trip',\n",
       " 'succession:concept:name@Permit FINAL_APPROVED by DIRECTOR#Declaration SAVED by EMPLOYEE',\n",
       " 'succession:concept:name@Permit FINAL_APPROVED by DIRECTOR#Declaration SUBMITTED by EMPLOYEE',\n",
       " 'succession:concept:name@Permit FINAL_APPROVED by DIRECTOR#End trip',\n",
       " 'succession:concept:name@Permit FINAL_APPROVED by DIRECTOR#Payment Handled',\n",
       " 'succession:concept:name@Permit FINAL_APPROVED by DIRECTOR#Permit APPROVED by SUPERVISOR',\n",
       " 'succession:concept:name@Permit FINAL_APPROVED by DIRECTOR#Permit REJECTED by MISSING',\n",
       " 'succession:concept:name@Permit FINAL_APPROVED by DIRECTOR#Request For Payment FINAL_APPROVED by DIRECTOR',\n",
       " 'succession:concept:name@Permit FINAL_APPROVED by DIRECTOR#Request For Payment FINAL_APPROVED by SUPERVISOR',\n",
       " 'succession:concept:name@Permit FINAL_APPROVED by DIRECTOR#Request For Payment REJECTED by EMPLOYEE',\n",
       " 'succession:concept:name@Permit FINAL_APPROVED by DIRECTOR#Request For Payment SAVED by EMPLOYEE',\n",
       " 'succession:concept:name@Permit FINAL_APPROVED by DIRECTOR#Request For Payment SUBMITTED by EMPLOYEE',\n",
       " 'succession:concept:name@Permit FINAL_APPROVED by DIRECTOR#Request Payment',\n",
       " 'succession:concept:name@Permit FINAL_APPROVED by DIRECTOR#Send Reminder',\n",
       " 'succession:concept:name@Permit FINAL_APPROVED by DIRECTOR#Start trip',\n",
       " 'succession:concept:name@Permit FINAL_APPROVED by SUPERVISOR#Declaration SAVED by EMPLOYEE',\n",
       " 'succession:concept:name@Permit FINAL_APPROVED by SUPERVISOR#Declaration SUBMITTED by EMPLOYEE',\n",
       " 'succession:concept:name@Permit FINAL_APPROVED by SUPERVISOR#End trip',\n",
       " 'succession:concept:name@Permit FINAL_APPROVED by SUPERVISOR#Payment Handled',\n",
       " 'succession:concept:name@Permit FINAL_APPROVED by SUPERVISOR#Permit APPROVED by PRE_APPROVER',\n",
       " 'succession:concept:name@Permit FINAL_APPROVED by SUPERVISOR#Permit REJECTED by MISSING',\n",
       " 'succession:concept:name@Permit FINAL_APPROVED by SUPERVISOR#Request For Payment APPROVED by ADMINISTRATION',\n",
       " 'succession:concept:name@Permit FINAL_APPROVED by SUPERVISOR#Request For Payment APPROVED by BUDGET OWNER',\n",
       " 'succession:concept:name@Permit FINAL_APPROVED by SUPERVISOR#Request For Payment FINAL_APPROVED by SUPERVISOR',\n",
       " 'succession:concept:name@Permit FINAL_APPROVED by SUPERVISOR#Request For Payment REJECTED by ADMINISTRATION',\n",
       " 'succession:concept:name@Permit FINAL_APPROVED by SUPERVISOR#Request For Payment REJECTED by EMPLOYEE',\n",
       " 'succession:concept:name@Permit FINAL_APPROVED by SUPERVISOR#Request For Payment REJECTED by SUPERVISOR',\n",
       " 'succession:concept:name@Permit FINAL_APPROVED by SUPERVISOR#Request For Payment SAVED by EMPLOYEE',\n",
       " 'succession:concept:name@Permit FINAL_APPROVED by SUPERVISOR#Request For Payment SUBMITTED by EMPLOYEE',\n",
       " 'succession:concept:name@Permit FINAL_APPROVED by SUPERVISOR#Request Payment',\n",
       " 'succession:concept:name@Permit FINAL_APPROVED by SUPERVISOR#Send Reminder',\n",
       " 'succession:concept:name@Permit FINAL_APPROVED by SUPERVISOR#Start trip',\n",
       " 'succession:concept:name@Permit FOR_APPROVAL by ADMINISTRATION#Start trip',\n",
       " 'succession:concept:name@Permit FOR_APPROVAL by SUPERVISOR#Send Reminder',\n",
       " 'succession:concept:name@Permit REJECTED by ADMINISTRATION#Permit REJECTED by EMPLOYEE',\n",
       " 'succession:concept:name@Permit REJECTED by ADMINISTRATION#Permit SUBMITTED by EMPLOYEE',\n",
       " 'succession:concept:name@Permit REJECTED by ADMINISTRATION#Request For Payment SUBMITTED by EMPLOYEE',\n",
       " 'succession:concept:name@Permit REJECTED by ADMINISTRATION#Send Reminder',\n",
       " 'succession:concept:name@Permit REJECTED by ADMINISTRATION#Start trip',\n",
       " 'succession:concept:name@Permit REJECTED by BUDGET OWNER#Permit REJECTED by EMPLOYEE',\n",
       " 'succession:concept:name@Permit REJECTED by BUDGET OWNER#Request For Payment SUBMITTED by EMPLOYEE',\n",
       " 'succession:concept:name@Permit REJECTED by DIRECTOR#Permit REJECTED by EMPLOYEE',\n",
       " 'succession:concept:name@Permit REJECTED by EMPLOYEE#End trip',\n",
       " 'succession:concept:name@Permit REJECTED by EMPLOYEE#Permit SAVED by EMPLOYEE',\n",
       " 'succession:concept:name@Permit REJECTED by EMPLOYEE#Permit SUBMITTED by EMPLOYEE',\n",
       " 'succession:concept:name@Permit REJECTED by EMPLOYEE#Start trip',\n",
       " 'succession:concept:name@Permit REJECTED by MISSING#Declaration FINAL_APPROVED by SUPERVISOR',\n",
       " 'succession:concept:name@Permit REJECTED by MISSING#End trip',\n",
       " 'succession:concept:name@Permit REJECTED by MISSING#Payment Handled',\n",
       " 'succession:concept:name@Permit REJECTED by MISSING#Permit SAVED by EMPLOYEE',\n",
       " 'succession:concept:name@Permit REJECTED by MISSING#Permit SUBMITTED by EMPLOYEE',\n",
       " 'succession:concept:name@Permit REJECTED by MISSING#Request Payment',\n",
       " 'succession:concept:name@Permit REJECTED by MISSING#Send Reminder',\n",
       " 'succession:concept:name@Permit REJECTED by MISSING#Start trip',\n",
       " 'succession:concept:name@Permit REJECTED by PRE_APPROVER#Permit REJECTED by EMPLOYEE',\n",
       " 'succession:concept:name@Permit REJECTED by PRE_APPROVER#Start trip',\n",
       " 'succession:concept:name@Permit REJECTED by SUPERVISOR#End trip',\n",
       " 'succession:concept:name@Permit REJECTED by SUPERVISOR#Permit REJECTED by EMPLOYEE',\n",
       " 'succession:concept:name@Permit REJECTED by SUPERVISOR#Permit SUBMITTED by EMPLOYEE',\n",
       " 'succession:concept:name@Permit REJECTED by SUPERVISOR#Request For Payment REJECTED by EMPLOYEE',\n",
       " 'succession:concept:name@Permit REJECTED by SUPERVISOR#Request For Payment SUBMITTED by EMPLOYEE',\n",
       " 'succession:concept:name@Permit REJECTED by SUPERVISOR#Start trip',\n",
       " 'succession:concept:name@Permit SAVED by EMPLOYEE#End trip',\n",
       " 'succession:concept:name@Permit SAVED by EMPLOYEE#Start trip',\n",
       " 'succession:concept:name@Permit SUBMITTED by EMPLOYEE#End trip',\n",
       " 'succession:concept:name@Permit SUBMITTED by EMPLOYEE#Permit APPROVED by ADMINISTRATION',\n",
       " 'succession:concept:name@Permit SUBMITTED by EMPLOYEE#Permit APPROVED by PRE_APPROVER',\n",
       " 'succession:concept:name@Permit SUBMITTED by EMPLOYEE#Permit APPROVED by SUPERVISOR',\n",
       " 'succession:concept:name@Permit SUBMITTED by EMPLOYEE#Permit FINAL_APPROVED by SUPERVISOR',\n",
       " 'succession:concept:name@Permit SUBMITTED by EMPLOYEE#Permit FOR_APPROVAL by ADMINISTRATION',\n",
       " 'succession:concept:name@Permit SUBMITTED by EMPLOYEE#Permit REJECTED by ADMINISTRATION',\n",
       " 'succession:concept:name@Permit SUBMITTED by EMPLOYEE#Permit REJECTED by EMPLOYEE',\n",
       " 'succession:concept:name@Permit SUBMITTED by EMPLOYEE#Permit REJECTED by PRE_APPROVER',\n",
       " 'succession:concept:name@Permit SUBMITTED by EMPLOYEE#Permit REJECTED by SUPERVISOR',\n",
       " 'succession:concept:name@Permit SUBMITTED by EMPLOYEE#Start trip',\n",
       " 'succession:concept:name@Request For Payment APPROVED by ADMINISTRATION#Declaration REJECTED by SUPERVISOR',\n",
       " 'succession:concept:name@Request For Payment APPROVED by ADMINISTRATION#Declaration SUBMITTED by EMPLOYEE',\n",
       " 'succession:concept:name@Request For Payment APPROVED by ADMINISTRATION#End trip',\n",
       " 'succession:concept:name@Request For Payment APPROVED by ADMINISTRATION#Payment Handled',\n",
       " 'succession:concept:name@Request For Payment APPROVED by ADMINISTRATION#Permit APPROVED by BUDGET OWNER',\n",
       " 'succession:concept:name@Request For Payment APPROVED by ADMINISTRATION#Permit APPROVED by SUPERVISOR',\n",
       " 'succession:concept:name@Request For Payment APPROVED by ADMINISTRATION#Permit FINAL_APPROVED by SUPERVISOR',\n",
       " 'succession:concept:name@Request For Payment APPROVED by ADMINISTRATION#Permit REJECTED by SUPERVISOR',\n",
       " 'succession:concept:name@Request For Payment APPROVED by ADMINISTRATION#Request For Payment APPROVED by ADMINISTRATION',\n",
       " 'succession:concept:name@Request For Payment APPROVED by ADMINISTRATION#Request For Payment APPROVED by BUDGET OWNER',\n",
       " 'succession:concept:name@Request For Payment APPROVED by ADMINISTRATION#Request For Payment APPROVED by SUPERVISOR',\n",
       " 'succession:concept:name@Request For Payment APPROVED by ADMINISTRATION#Request For Payment FINAL_APPROVED by SUPERVISOR',\n",
       " 'succession:concept:name@Request For Payment APPROVED by ADMINISTRATION#Request For Payment REJECTED by BUDGET OWNER',\n",
       " 'succession:concept:name@Request For Payment APPROVED by ADMINISTRATION#Request For Payment REJECTED by EMPLOYEE',\n",
       " 'succession:concept:name@Request For Payment APPROVED by ADMINISTRATION#Request For Payment REJECTED by SUPERVISOR',\n",
       " 'succession:concept:name@Request For Payment APPROVED by ADMINISTRATION#Request For Payment SUBMITTED by EMPLOYEE',\n",
       " 'succession:concept:name@Request For Payment APPROVED by ADMINISTRATION#Request Payment',\n",
       " 'succession:concept:name@Request For Payment APPROVED by ADMINISTRATION#Send Reminder',\n",
       " 'succession:concept:name@Request For Payment APPROVED by ADMINISTRATION#Start trip',\n",
       " 'succession:concept:name@Request For Payment APPROVED by BUDGET OWNER#Declaration SUBMITTED by EMPLOYEE',\n",
       " 'succession:concept:name@Request For Payment APPROVED by BUDGET OWNER#End trip',\n",
       " 'succession:concept:name@Request For Payment APPROVED by BUDGET OWNER#Permit APPROVED by BUDGET OWNER',\n",
       " 'succession:concept:name@Request For Payment APPROVED by BUDGET OWNER#Permit APPROVED by SUPERVISOR',\n",
       " 'succession:concept:name@Request For Payment APPROVED by BUDGET OWNER#Permit FINAL_APPROVED by SUPERVISOR',\n",
       " 'succession:concept:name@Request For Payment APPROVED by BUDGET OWNER#Request For Payment APPROVED by BUDGET OWNER',\n",
       " 'succession:concept:name@Request For Payment APPROVED by BUDGET OWNER#Request For Payment APPROVED by SUPERVISOR',\n",
       " 'succession:concept:name@Request For Payment APPROVED by BUDGET OWNER#Request For Payment FINAL_APPROVED by SUPERVISOR',\n",
       " 'succession:concept:name@Request For Payment APPROVED by BUDGET OWNER#Request For Payment REJECTED by EMPLOYEE',\n",
       " 'succession:concept:name@Request For Payment APPROVED by BUDGET OWNER#Request For Payment REJECTED by SUPERVISOR',\n",
       " 'succession:concept:name@Request For Payment APPROVED by BUDGET OWNER#Request For Payment SUBMITTED by EMPLOYEE',\n",
       " 'succession:concept:name@Request For Payment APPROVED by BUDGET OWNER#Start trip',\n",
       " 'succession:concept:name@Request For Payment APPROVED by PRE_APPROVER#Permit FINAL_APPROVED by SUPERVISOR',\n",
       " 'succession:concept:name@Request For Payment APPROVED by PRE_APPROVER#Request For Payment APPROVED by PRE_APPROVER',\n",
       " 'succession:concept:name@Request For Payment APPROVED by PRE_APPROVER#Request For Payment APPROVED by SUPERVISOR',\n",
       " 'succession:concept:name@Request For Payment APPROVED by PRE_APPROVER#Request For Payment FINAL_APPROVED by SUPERVISOR',\n",
       " 'succession:concept:name@Request For Payment APPROVED by PRE_APPROVER#Request For Payment REJECTED by EMPLOYEE',\n",
       " 'succession:concept:name@Request For Payment APPROVED by PRE_APPROVER#Request For Payment REJECTED by SUPERVISOR',\n",
       " 'succession:concept:name@Request For Payment APPROVED by PRE_APPROVER#Request For Payment SUBMITTED by EMPLOYEE',\n",
       " 'succession:concept:name@Request For Payment APPROVED by PRE_APPROVER#Start trip',\n",
       " 'succession:concept:name@Request For Payment APPROVED by SUPERVISOR#End trip',\n",
       " 'succession:concept:name@Request For Payment APPROVED by SUPERVISOR#Permit APPROVED by SUPERVISOR',\n",
       " 'succession:concept:name@Request For Payment APPROVED by SUPERVISOR#Permit FINAL_APPROVED by DIRECTOR',\n",
       " 'succession:concept:name@Request For Payment APPROVED by SUPERVISOR#Request For Payment FINAL_APPROVED by DIRECTOR',\n",
       " 'succession:concept:name@Request For Payment FINAL_APPROVED by DIRECTOR#Permit FINAL_APPROVED by DIRECTOR',\n",
       " 'succession:concept:name@Request For Payment FINAL_APPROVED by DIRECTOR#Request Payment',\n",
       " 'succession:concept:name@Request For Payment FINAL_APPROVED by SUPERVISOR#End trip',\n",
       " 'succession:concept:name@Request For Payment FINAL_APPROVED by SUPERVISOR#Permit APPROVED by SUPERVISOR',\n",
       " 'succession:concept:name@Request For Payment FINAL_APPROVED by SUPERVISOR#Permit FINAL_APPROVED by DIRECTOR',\n",
       " 'succession:concept:name@Request For Payment FINAL_APPROVED by SUPERVISOR#Permit FINAL_APPROVED by SUPERVISOR',\n",
       " 'succession:concept:name@Request For Payment FINAL_APPROVED by SUPERVISOR#Permit REJECTED by EMPLOYEE',\n",
       " 'succession:concept:name@Request For Payment FINAL_APPROVED by SUPERVISOR#Permit REJECTED by MISSING',\n",
       " 'succession:concept:name@Request For Payment FINAL_APPROVED by SUPERVISOR#Request For Payment FINAL_APPROVED by SUPERVISOR',\n",
       " 'succession:concept:name@Request For Payment FINAL_APPROVED by SUPERVISOR#Request For Payment REJECTED by EMPLOYEE',\n",
       " 'succession:concept:name@Request For Payment FINAL_APPROVED by SUPERVISOR#Request For Payment REJECTED by MISSING',\n",
       " 'succession:concept:name@Request For Payment FINAL_APPROVED by SUPERVISOR#Request For Payment SUBMITTED by EMPLOYEE',\n",
       " 'succession:concept:name@Request For Payment FINAL_APPROVED by SUPERVISOR#Request Payment',\n",
       " 'succession:concept:name@Request For Payment FINAL_APPROVED by SUPERVISOR#Send Reminder',\n",
       " 'succession:concept:name@Request For Payment FINAL_APPROVED by SUPERVISOR#Start trip',\n",
       " 'succession:concept:name@Request For Payment REJECTED by ADMINISTRATION#Declaration FINAL_APPROVED by SUPERVISOR',\n",
       " 'succession:concept:name@Request For Payment REJECTED by ADMINISTRATION#Permit APPROVED by BUDGET OWNER',\n",
       " 'succession:concept:name@Request For Payment REJECTED by ADMINISTRATION#Permit FINAL_APPROVED by SUPERVISOR',\n",
       " 'succession:concept:name@Request For Payment REJECTED by ADMINISTRATION#Permit REJECTED by EMPLOYEE',\n",
       " 'succession:concept:name@Request For Payment REJECTED by ADMINISTRATION#Permit REJECTED by SUPERVISOR',\n",
       " 'succession:concept:name@Request For Payment REJECTED by ADMINISTRATION#Request For Payment APPROVED by ADMINISTRATION',\n",
       " 'succession:concept:name@Request For Payment REJECTED by ADMINISTRATION#Request For Payment FINAL_APPROVED by SUPERVISOR',\n",
       " 'succession:concept:name@Request For Payment REJECTED by ADMINISTRATION#Request For Payment REJECTED by ADMINISTRATION',\n",
       " 'succession:concept:name@Request For Payment REJECTED by ADMINISTRATION#Request For Payment REJECTED by EMPLOYEE',\n",
       " 'succession:concept:name@Request For Payment REJECTED by ADMINISTRATION#Request For Payment SUBMITTED by EMPLOYEE',\n",
       " 'succession:concept:name@Request For Payment REJECTED by ADMINISTRATION#Start trip',\n",
       " 'succession:concept:name@Request For Payment REJECTED by BUDGET OWNER#Permit APPROVED by BUDGET OWNER',\n",
       " 'succession:concept:name@Request For Payment REJECTED by BUDGET OWNER#Request For Payment APPROVED by BUDGET OWNER',\n",
       " 'succession:concept:name@Request For Payment REJECTED by BUDGET OWNER#Request For Payment REJECTED by EMPLOYEE',\n",
       " 'succession:concept:name@Request For Payment REJECTED by EMPLOYEE#Declaration SUBMITTED by EMPLOYEE',\n",
       " 'succession:concept:name@Request For Payment REJECTED by EMPLOYEE#End trip',\n",
       " 'succession:concept:name@Request For Payment REJECTED by EMPLOYEE#Permit APPROVED by BUDGET OWNER',\n",
       " 'succession:concept:name@Request For Payment REJECTED by EMPLOYEE#Permit APPROVED by SUPERVISOR',\n",
       " 'succession:concept:name@Request For Payment REJECTED by EMPLOYEE#Permit FINAL_APPROVED by SUPERVISOR',\n",
       " 'succession:concept:name@Request For Payment REJECTED by EMPLOYEE#Request For Payment APPROVED by BUDGET OWNER',\n",
       " 'succession:concept:name@Request For Payment REJECTED by EMPLOYEE#Request For Payment FINAL_APPROVED by SUPERVISOR',\n",
       " 'succession:concept:name@Request For Payment REJECTED by EMPLOYEE#Request For Payment REJECTED by EMPLOYEE',\n",
       " 'succession:concept:name@Request For Payment REJECTED by EMPLOYEE#Request For Payment REJECTED by SUPERVISOR',\n",
       " 'succession:concept:name@Request For Payment REJECTED by EMPLOYEE#Request For Payment SAVED by EMPLOYEE',\n",
       " 'succession:concept:name@Request For Payment REJECTED by EMPLOYEE#Request For Payment SUBMITTED by EMPLOYEE',\n",
       " 'succession:concept:name@Request For Payment REJECTED by EMPLOYEE#Start trip',\n",
       " 'succession:concept:name@Request For Payment REJECTED by MISSING#Declaration SUBMITTED by EMPLOYEE',\n",
       " 'succession:concept:name@Request For Payment REJECTED by MISSING#Request For Payment SUBMITTED by EMPLOYEE',\n",
       " 'succession:concept:name@Request For Payment REJECTED by PRE_APPROVER#Request For Payment REJECTED by EMPLOYEE',\n",
       " 'succession:concept:name@Request For Payment REJECTED by PRE_APPROVER#Request For Payment SUBMITTED by EMPLOYEE',\n",
       " 'succession:concept:name@Request For Payment REJECTED by SUPERVISOR#Permit FINAL_APPROVED by DIRECTOR',\n",
       " 'succession:concept:name@Request For Payment REJECTED by SUPERVISOR#Permit REJECTED by EMPLOYEE',\n",
       " 'succession:concept:name@Request For Payment REJECTED by SUPERVISOR#Request For Payment REJECTED by EMPLOYEE',\n",
       " 'succession:concept:name@Request For Payment SAVED by EMPLOYEE#Declaration SAVED by EMPLOYEE',\n",
       " 'succession:concept:name@Request For Payment SAVED by EMPLOYEE#Declaration SUBMITTED by EMPLOYEE',\n",
       " 'succession:concept:name@Request For Payment SAVED by EMPLOYEE#Permit APPROVED by BUDGET OWNER',\n",
       " 'succession:concept:name@Request For Payment SAVED by EMPLOYEE#Permit APPROVED by SUPERVISOR',\n",
       " 'succession:concept:name@Request For Payment SAVED by EMPLOYEE#Request For Payment SUBMITTED by EMPLOYEE',\n",
       " 'succession:concept:name@Request For Payment SAVED by EMPLOYEE#Start trip',\n",
       " 'succession:concept:name@Request For Payment SUBMITTED by EMPLOYEE#End trip',\n",
       " 'succession:concept:name@Request For Payment SUBMITTED by EMPLOYEE#Payment Handled',\n",
       " 'succession:concept:name@Request For Payment SUBMITTED by EMPLOYEE#Permit APPROVED by BUDGET OWNER',\n",
       " 'succession:concept:name@Request For Payment SUBMITTED by EMPLOYEE#Permit FINAL_APPROVED by SUPERVISOR',\n",
       " 'succession:concept:name@Request For Payment SUBMITTED by EMPLOYEE#Permit REJECTED by BUDGET OWNER',\n",
       " 'succession:concept:name@Request For Payment SUBMITTED by EMPLOYEE#Permit REJECTED by EMPLOYEE',\n",
       " 'succession:concept:name@Request For Payment SUBMITTED by EMPLOYEE#Permit REJECTED by SUPERVISOR',\n",
       " 'succession:concept:name@Request For Payment SUBMITTED by EMPLOYEE#Request For Payment APPROVED by ADMINISTRATION',\n",
       " 'succession:concept:name@Request For Payment SUBMITTED by EMPLOYEE#Request For Payment APPROVED by PRE_APPROVER',\n",
       " 'succession:concept:name@Request For Payment SUBMITTED by EMPLOYEE#Request For Payment APPROVED by SUPERVISOR',\n",
       " 'succession:concept:name@Request For Payment SUBMITTED by EMPLOYEE#Request For Payment FINAL_APPROVED by SUPERVISOR',\n",
       " 'succession:concept:name@Request For Payment SUBMITTED by EMPLOYEE#Request For Payment REJECTED by ADMINISTRATION',\n",
       " 'succession:concept:name@Request For Payment SUBMITTED by EMPLOYEE#Request For Payment REJECTED by PRE_APPROVER',\n",
       " 'succession:concept:name@Request For Payment SUBMITTED by EMPLOYEE#Request For Payment REJECTED by SUPERVISOR',\n",
       " 'succession:concept:name@Request For Payment SUBMITTED by EMPLOYEE#Request For Payment SUBMITTED by EMPLOYEE',\n",
       " 'succession:concept:name@Request For Payment SUBMITTED by EMPLOYEE#Send Reminder',\n",
       " 'succession:concept:name@Request Payment#Declaration REJECTED by MISSING',\n",
       " 'succession:concept:name@Request Payment#Declaration SUBMITTED by EMPLOYEE',\n",
       " 'succession:concept:name@Request Payment#End trip',\n",
       " 'succession:concept:name@Request Payment#Payment Handled',\n",
       " 'succession:concept:name@Request Payment#Permit APPROVED by BUDGET OWNER',\n",
       " 'succession:concept:name@Request Payment#Permit APPROVED by SUPERVISOR',\n",
       " 'succession:concept:name@Request Payment#Permit FINAL_APPROVED by DIRECTOR',\n",
       " 'succession:concept:name@Request Payment#Permit FINAL_APPROVED by SUPERVISOR',\n",
       " 'succession:concept:name@Request Payment#Permit REJECTED by EMPLOYEE',\n",
       " 'succession:concept:name@Request Payment#Permit REJECTED by MISSING',\n",
       " 'succession:concept:name@Request Payment#Request For Payment FINAL_APPROVED by SUPERVISOR',\n",
       " 'succession:concept:name@Request Payment#Request For Payment SUBMITTED by EMPLOYEE',\n",
       " 'succession:concept:name@Request Payment#Request Payment',\n",
       " 'succession:concept:name@Request Payment#Start trip',\n",
       " 'succession:concept:name@Send Reminder#Declaration SAVED by EMPLOYEE',\n",
       " 'succession:concept:name@Send Reminder#Declaration SUBMITTED by EMPLOYEE',\n",
       " 'succession:concept:name@Send Reminder#Permit APPROVED by BUDGET OWNER',\n",
       " 'succession:concept:name@Send Reminder#Permit FINAL_APPROVED by SUPERVISOR',\n",
       " 'succession:concept:name@Send Reminder#Permit REJECTED by EMPLOYEE',\n",
       " 'succession:concept:name@Send Reminder#Request For Payment APPROVED by BUDGET OWNER',\n",
       " 'succession:concept:name@Send Reminder#Request For Payment REJECTED by ADMINISTRATION',\n",
       " 'succession:concept:name@Send Reminder#Request For Payment SAVED by EMPLOYEE',\n",
       " 'succession:concept:name@Send Reminder#Request For Payment SUBMITTED by EMPLOYEE',\n",
       " 'succession:concept:name@Send Reminder#Request Payment',\n",
       " 'succession:concept:name@Send Reminder#Send Reminder',\n",
       " 'succession:concept:name@Start trip#Declaration APPROVED by ADMINISTRATION',\n",
       " 'succession:concept:name@Start trip#Declaration FINAL_APPROVED by SUPERVISOR',\n",
       " 'succession:concept:name@Start trip#Declaration REJECTED by ADMINISTRATION',\n",
       " 'succession:concept:name@Start trip#Declaration REJECTED by PRE_APPROVER',\n",
       " 'succession:concept:name@Start trip#Declaration REJECTED by SUPERVISOR',\n",
       " 'succession:concept:name@Start trip#Declaration SUBMITTED by EMPLOYEE',\n",
       " 'succession:concept:name@Start trip#End trip',\n",
       " 'succession:concept:name@Start trip#Payment Handled',\n",
       " 'succession:concept:name@Start trip#Permit APPROVED by ADMINISTRATION',\n",
       " 'succession:concept:name@Start trip#Permit APPROVED by BUDGET OWNER',\n",
       " 'succession:concept:name@Start trip#Permit APPROVED by SUPERVISOR',\n",
       " 'succession:concept:name@Start trip#Permit FINAL_APPROVED by DIRECTOR',\n",
       " 'succession:concept:name@Start trip#Permit FINAL_APPROVED by SUPERVISOR',\n",
       " 'succession:concept:name@Start trip#Permit REJECTED by EMPLOYEE',\n",
       " 'succession:concept:name@Start trip#Permit REJECTED by MISSING',\n",
       " 'succession:concept:name@Start trip#Permit REJECTED by SUPERVISOR',\n",
       " 'succession:concept:name@Start trip#Permit SUBMITTED by EMPLOYEE',\n",
       " 'succession:concept:name@Start trip#Request For Payment APPROVED by BUDGET OWNER',\n",
       " 'succession:concept:name@Start trip#Request For Payment APPROVED by SUPERVISOR',\n",
       " 'succession:concept:name@Start trip#Request For Payment FINAL_APPROVED by SUPERVISOR',\n",
       " 'succession:concept:name@Start trip#Request For Payment REJECTED by EMPLOYEE',\n",
       " 'succession:concept:name@Start trip#Request For Payment SUBMITTED by EMPLOYEE',\n",
       " 'succession:concept:name@Start trip#Request Payment']"
      ]
     },
     "metadata": {},
     "output_type": "display_data"
    }
   ],
   "source": [
    "data_2gram, feature_names = log_to_features.apply(trace_prefixes, \n",
    "                                                  parameters={\"str_ev_attr\": [], \n",
    "                                                        \"str_tr_attr\": [], \n",
    "                                                        \"num_ev_attr\": [], \n",
    "                                                        \"num_tr_attr\": [], \n",
    "                                                        \"str_evsucc_attr\": [\"concept:name\"]})\n",
    "feature_names"
   ]
  },
  {
   "cell_type": "code",
   "execution_count": null,
   "metadata": {},
   "outputs": [],
   "source": [
    "data_2gram = np.asarray(data_2gram)"
   ]
  },
  {
   "cell_type": "code",
   "execution_count": null,
   "metadata": {},
   "outputs": [
    {
     "name": "stdout",
     "output_type": "stream",
     "text": [
      "['Permit SUBMITTED by EMPLOYEE', 'Permit APPROVED by ADMINISTRATION', 'Permit APPROVED by BUDGET OWNER', 'Permit FINAL_APPROVED by SUPERVISOR', 'Start trip', 'End trip', 'Declaration SUBMITTED by EMPLOYEE', 'Declaration APPROVED by ADMINISTRATION', 'Declaration SUBMITTED by EMPLOYEE', 'Declaration APPROVED by ADMINISTRATION']\n"
     ]
    }
   ],
   "source": [
    "project_nth(trace_prefixes, 0)"
   ]
  },
  {
   "cell_type": "code",
   "execution_count": null,
   "metadata": {},
   "outputs": [
    {
     "name": "stdout",
     "output_type": "stream",
     "text": [
      "[0 0 0 0 0 0 0 1 0 0 0 0 0 0 0 0 0 0 0 0 0 0 0 0 0 0 0 0 0 0 0 0 0 0 0 0 0\n",
      " 0 0 0 0 0 0 0 0 0 0 0 0 0 0 0 0 0 0 0 0 0 0 0 0 0 0 0 0 1 0 0 0 0 0 0 0 0\n",
      " 0 0 0 0 0 0 0 0 0 0 0 0 0 1 0 0 0 0 0 0 0 0 0 0 0 0 0 0 0 0 0 0 0 0 0 0 0\n",
      " 0 0 0 0 0 0 0 0 0 0 1 0 0 0 0 0 0 0 0 0 0 0 0 0 0 1 0 0 0 0 0 0 0 0 0 0 0\n",
      " 0 0 0 0 0 0 0 0 0 0 0 0 0 0 0 0 0 0 0 0 0 0 0 0 0 0 0 0 0 0 0 0 0 0 0 0 0\n",
      " 0 0 0 0 0 0 0 0 0 1 0 0 0 0 0 0 0 0 0 0 0 0 0 0 0 0 0 0 0 0 0 0 0 0 0 0 0\n",
      " 0 0 0 0 0 0 1 0 0 0 0 0 0 0 0 0 0 0 0 0 0 0 0 0 0 0 0 0 0 0 0 0 0 0 0 0 0\n",
      " 0 0 0 0 0 0 0 0 0 0 0 0 0 0 0 0 0 0 0 0 0 0 0 0 0 0 0 0 0 0 0 0 0 0 0 0 0\n",
      " 0 0 0 0 0 0 0 0 0 0 0 0 0 0 0 0 0 0 0 0 0 0 0 0 0 0 0 0 0 0 0 0 0 0 0 0 0\n",
      " 0 0 0 0 0 0 0 0 0 0 0 0 0 0 0 0 0 0 0 0 0 0 0 0 0 0 0 0 0 0 0 0 0 0 0 0 0\n",
      " 0 0 0 0 0 0 0 0 0 0 0 0 1 0 0 0 0 0 0 0 0 0 0 0 0 0 0 0 0]\n"
     ]
    }
   ],
   "source": [
    "print(data_2gram[0])"
   ]
  },
  {
   "cell_type": "code",
   "execution_count": null,
   "metadata": {},
   "outputs": [],
   "source": [
    "train_data = {}\n",
    "train_data['X']=data_2gram\n",
    "train_data['y'] = declerations\n",
    "train_data['feature_names'] = feature_names"
   ]
  },
  {
   "cell_type": "code",
   "execution_count": null,
   "metadata": {},
   "outputs": [],
   "source": [
    "# save json\n",
    "save_path = '../data/training_data/bigram_boolean_encode.json'\n",
    "with open(save_path, 'w', encoding='utf-8') as f:\n",
    "    json.dump(train_data, f, ensure_ascii=False, indent=4)"
   ]
  },
  {
   "cell_type": "markdown",
   "metadata": {},
   "source": []
  },
  {
   "cell_type": "code",
   "execution_count": 496,
   "metadata": {},
   "outputs": [],
   "source": [
    "# between_log = pm4py.filter_between(dec_sub_traces, \"Permit SUBMITTED by EMPLOYEE\", \"Declaration SUBMITTED by EMPLOYEE\")"
   ]
  },
  {
   "cell_type": "code",
   "execution_count": 497,
   "metadata": {},
   "outputs": [],
   "source": [
    "# project_nth(between_log, 232)"
   ]
  },
  {
   "cell_type": "code",
   "execution_count": 498,
   "metadata": {},
   "outputs": [
    {
     "data": {
      "text/plain": [
       "{'STAFF MEMBER': 29187, 'SYSTEM': 6714}"
      ]
     },
     "execution_count": 498,
     "metadata": {},
     "output_type": "execute_result"
    }
   ],
   "source": [
    "# we can get any attribute of trace using this\n",
    "activities = pm4py.get_event_attribute_values(trace_log, \"concept:name\")\n",
    "resources = pm4py.get_event_attribute_values(trace_log, \"org:resource\")\n",
    "resources"
   ]
  },
  {
   "cell_type": "code",
   "execution_count": 499,
   "metadata": {},
   "outputs": [],
   "source": [
    "# remove Return Decleration event\n",
    "# train_raw = pm4py.filter_event_attribute_values(trace_log, \"concept:name\", \"Declaration REJECTED by EMPLOYEE\", level = \"event\", retain=False)"
   ]
  },
  {
   "cell_type": "markdown",
   "metadata": {},
   "source": []
  },
  {
   "cell_type": "code",
   "execution_count": 523,
   "metadata": {},
   "outputs": [],
   "source": [
    "# to display most frequent feature\n",
    "# # look at the unique vectors and their occurrence frequency/count\n",
    "# # just to check which trace was most frequent, just analysis\n",
    "# dist_features = np.unique(data, return_counts= True, axis = 0)\n",
    "# print(dist_features)\n",
    "\n",
    "\n",
    "# # display most freuent feature\n",
    "# most_freq_feature = dist_features[0][np.argmax(dist_features[1])]\n",
    "# most_freq_feature\n",
    "\n",
    "\n",
    "# # order doesn't matter here\n",
    "# for i in range(0, len(most_freq_feature)):\n",
    "#     if most_freq_feature[i]!=0:\n",
    "#         print(feature_names[i].split(\"@\")[1], end=' , ')"
   ]
  },
  {
   "cell_type": "code",
   "execution_count": null,
   "metadata": {},
   "outputs": [],
   "source": []
  },
  {
   "cell_type": "code",
   "execution_count": null,
   "metadata": {},
   "outputs": [],
   "source": [
    "# # printing all activities in trace \n",
    "# for trace in trace_log[0]:\n",
    "#     print(trace[\"concept:name\"])"
   ]
  },
  {
   "cell_type": "code",
   "execution_count": null,
   "metadata": {},
   "outputs": [],
   "source": [
    "# to extract only traces where Declaration SUBMITTED by EMPLOYEE is present\n",
    "# dec_sub_traces = []\n",
    "# for trace in trace_log:\n",
    "#     if len(list(filter(lambda e: e[\"concept:name\"] == \"Declaration SUBMITTED by EMPLOYEE\" ,trace))) > 0:\n",
    "#         dec_sub_traces.append(Trace(trace, attributes = trace.attributes))\n",
    "\n",
    "# dec_sub_traces = EventLog(dec_sub_traces)"
   ]
  }
 ],
 "metadata": {
  "kernelspec": {
   "display_name": "Python 3.10.4 ('ml')",
   "language": "python",
   "name": "python3"
  },
  "language_info": {
   "codemirror_mode": {
    "name": "ipython",
    "version": 3
   },
   "file_extension": ".py",
   "mimetype": "text/x-python",
   "name": "python",
   "nbconvert_exporter": "python",
   "pygments_lexer": "ipython3",
   "version": "3.10.4"
  },
  "orig_nbformat": 4,
  "vscode": {
   "interpreter": {
    "hash": "5188bc372fa413aa2565ae5d28228f50ad7b2c4ebb4a82c5900fd598adbb6408"
   }
  }
 },
 "nbformat": 4,
 "nbformat_minor": 2
}
