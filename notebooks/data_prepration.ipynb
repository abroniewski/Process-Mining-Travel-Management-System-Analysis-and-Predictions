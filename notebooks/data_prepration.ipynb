{
 "cells": [
  {
   "cell_type": "code",
   "execution_count": 186,
   "metadata": {},
   "outputs": [],
   "source": [
    "# import libraties\n",
    "import pandas as pd\n",
    "import numpy as np\n",
    "import json\n",
    "import pickle\n",
    "\n",
    "# https://pm4py.fit.fraunhofer.de/documentation\n",
    "import pm4py\n",
    "from pm4py.objects.log.obj import EventLog, Trace\n",
    "from pm4py.objects.log.util.log import project_traces\n",
    "from pm4py.objects.log.util import interval_lifecycle\n",
    "from pm4py.statistics.sojourn_time.log import get as soj_time_get\n",
    "from pm4py.algo.transformation.log_to_features import algorithm as log_to_features\n",
    "\n",
    "import warnings\n",
    "warnings.filterwarnings(\"ignore\")"
   ]
  },
  {
   "cell_type": "code",
   "execution_count": 187,
   "metadata": {},
   "outputs": [],
   "source": [
    "# function to project the trace\n",
    "def project_nth(log, index):\n",
    "    print(str(project_traces(log)[index]))"
   ]
  },
  {
   "cell_type": "code",
   "execution_count": 188,
   "metadata": {},
   "outputs": [],
   "source": [
    "# read data in csv \n",
    "trace = pd.read_csv('../data/Travel Permits (filtered).csv')\n",
    "\n",
    "# to read from xes file\n",
    "# data_path = '../data/Travel Permits Filtered.xes'\n",
    "# trace_log = pm4py.read_xes(data_path)\n",
    "# trace_log = pm4py.format_dataframe(trace_log, case_id='case:id', activity_key='concept:name', timestamp_key='time:timestamp')\n",
    "# trace_log = pm4py.convert_to_event_log(trace_log)\n",
    "# trace_log"
   ]
  },
  {
   "cell_type": "code",
   "execution_count": 189,
   "metadata": {},
   "outputs": [],
   "source": [
    "# removing redundant columns from data and converting time to pandas datetime object\n",
    "imp_cols = ['case', 'event', 'startTime', 'completeTime', 'OrganizationalEntity',\n",
    "       'TotalDeclared', 'Overspent',\n",
    "       'RequestedBudget', 'OverspentAmount', 'org:resource']\n",
    "trace = trace[imp_cols]\n",
    "trace['startTime'] = pd.to_datetime(trace['startTime'])\n",
    "trace['completeTime'] = pd.to_datetime(trace['completeTime'])"
   ]
  },
  {
   "cell_type": "markdown",
   "metadata": {},
   "source": [
    "# train test split\n",
    "\n",
    "- Do temporal train test split and preprocess them seperately so that no data leakage will be present\n",
    "- we split data based on 70% 30 % (Temporal split)\n",
    "- classifier will be trained with all cases that started before a given date T1 which would represent a current point in time in a real-life scenario, and the testing is done only on cases that start afterwards."
   ]
  },
  {
   "cell_type": "code",
   "execution_count": 190,
   "metadata": {},
   "outputs": [
    {
     "data": {
      "text/html": [
       "<div>\n",
       "<style scoped>\n",
       "    .dataframe tbody tr th:only-of-type {\n",
       "        vertical-align: middle;\n",
       "    }\n",
       "\n",
       "    .dataframe tbody tr th {\n",
       "        vertical-align: top;\n",
       "    }\n",
       "\n",
       "    .dataframe thead th {\n",
       "        text-align: right;\n",
       "    }\n",
       "</style>\n",
       "<table border=\"1\" class=\"dataframe\">\n",
       "  <thead>\n",
       "    <tr style=\"text-align: right;\">\n",
       "      <th></th>\n",
       "      <th>case</th>\n",
       "      <th>event</th>\n",
       "      <th>startTime</th>\n",
       "      <th>completeTime</th>\n",
       "      <th>OrganizationalEntity</th>\n",
       "      <th>TotalDeclared</th>\n",
       "      <th>Overspent</th>\n",
       "      <th>RequestedBudget</th>\n",
       "      <th>OverspentAmount</th>\n",
       "      <th>org:resource</th>\n",
       "    </tr>\n",
       "  </thead>\n",
       "  <tbody>\n",
       "    <tr>\n",
       "      <th>0</th>\n",
       "      <td>travel permit 76455</td>\n",
       "      <td>Start trip</td>\n",
       "      <td>2016-10-05 00:00:00</td>\n",
       "      <td>2016-10-05 00:00:00</td>\n",
       "      <td>organizational unit 65458</td>\n",
       "      <td>39.664561</td>\n",
       "      <td>False</td>\n",
       "      <td>41.613445</td>\n",
       "      <td>0.0</td>\n",
       "      <td>STAFF MEMBER</td>\n",
       "    </tr>\n",
       "    <tr>\n",
       "      <th>1</th>\n",
       "      <td>travel permit 76455</td>\n",
       "      <td>End trip</td>\n",
       "      <td>2016-10-05 00:00:00</td>\n",
       "      <td>2016-10-05 00:00:00</td>\n",
       "      <td>organizational unit 65458</td>\n",
       "      <td>39.664561</td>\n",
       "      <td>False</td>\n",
       "      <td>41.613445</td>\n",
       "      <td>0.0</td>\n",
       "      <td>STAFF MEMBER</td>\n",
       "    </tr>\n",
       "    <tr>\n",
       "      <th>2</th>\n",
       "      <td>travel permit 76455</td>\n",
       "      <td>Permit SUBMITTED by EMPLOYEE</td>\n",
       "      <td>2017-04-06 13:32:10</td>\n",
       "      <td>2017-04-06 13:32:10</td>\n",
       "      <td>organizational unit 65458</td>\n",
       "      <td>39.664561</td>\n",
       "      <td>False</td>\n",
       "      <td>41.613445</td>\n",
       "      <td>0.0</td>\n",
       "      <td>STAFF MEMBER</td>\n",
       "    </tr>\n",
       "    <tr>\n",
       "      <th>3</th>\n",
       "      <td>travel permit 76455</td>\n",
       "      <td>Permit FINAL_APPROVED by SUPERVISOR</td>\n",
       "      <td>2017-04-06 13:32:28</td>\n",
       "      <td>2017-04-06 13:32:28</td>\n",
       "      <td>organizational unit 65458</td>\n",
       "      <td>39.664561</td>\n",
       "      <td>False</td>\n",
       "      <td>41.613445</td>\n",
       "      <td>0.0</td>\n",
       "      <td>STAFF MEMBER</td>\n",
       "    </tr>\n",
       "    <tr>\n",
       "      <th>4</th>\n",
       "      <td>travel permit 76455</td>\n",
       "      <td>Declaration SUBMITTED by EMPLOYEE</td>\n",
       "      <td>2017-04-07 13:38:14</td>\n",
       "      <td>2017-04-07 13:38:14</td>\n",
       "      <td>organizational unit 65458</td>\n",
       "      <td>39.664561</td>\n",
       "      <td>False</td>\n",
       "      <td>41.613445</td>\n",
       "      <td>0.0</td>\n",
       "      <td>STAFF MEMBER</td>\n",
       "    </tr>\n",
       "  </tbody>\n",
       "</table>\n",
       "</div>"
      ],
      "text/plain": [
       "                  case                                event  \\\n",
       "0  travel permit 76455                           Start trip   \n",
       "1  travel permit 76455                             End trip   \n",
       "2  travel permit 76455         Permit SUBMITTED by EMPLOYEE   \n",
       "3  travel permit 76455  Permit FINAL_APPROVED by SUPERVISOR   \n",
       "4  travel permit 76455    Declaration SUBMITTED by EMPLOYEE   \n",
       "\n",
       "            startTime        completeTime       OrganizationalEntity  \\\n",
       "0 2016-10-05 00:00:00 2016-10-05 00:00:00  organizational unit 65458   \n",
       "1 2016-10-05 00:00:00 2016-10-05 00:00:00  organizational unit 65458   \n",
       "2 2017-04-06 13:32:10 2017-04-06 13:32:10  organizational unit 65458   \n",
       "3 2017-04-06 13:32:28 2017-04-06 13:32:28  organizational unit 65458   \n",
       "4 2017-04-07 13:38:14 2017-04-07 13:38:14  organizational unit 65458   \n",
       "\n",
       "   TotalDeclared  Overspent  RequestedBudget  OverspentAmount  org:resource  \n",
       "0      39.664561      False        41.613445              0.0  STAFF MEMBER  \n",
       "1      39.664561      False        41.613445              0.0  STAFF MEMBER  \n",
       "2      39.664561      False        41.613445              0.0  STAFF MEMBER  \n",
       "3      39.664561      False        41.613445              0.0  STAFF MEMBER  \n",
       "4      39.664561      False        41.613445              0.0  STAFF MEMBER  "
      ]
     },
     "execution_count": 190,
     "metadata": {},
     "output_type": "execute_result"
    }
   ],
   "source": [
    "trace.head()"
   ]
  },
  {
   "cell_type": "code",
   "execution_count": 191,
   "metadata": {},
   "outputs": [],
   "source": [
    "# get completion time and sort\n",
    "completion_time_ls = list(trace.groupby(['case'])['completeTime'].max())\n",
    "completion_time_ls = sorted(completion_time_ls)"
   ]
  },
  {
   "cell_type": "code",
   "execution_count": 192,
   "metadata": {},
   "outputs": [
    {
     "data": {
      "text/plain": [
       "Timestamp('2018-09-20 17:31:17')"
      ]
     },
     "execution_count": 192,
     "metadata": {},
     "output_type": "execute_result"
    }
   ],
   "source": [
    "# split on 70% max time \n",
    "split_portion = 0.70\n",
    "total_data = len(completion_time_ls)\n",
    "train_len = int(split_portion*total_data)\n",
    "last_train_completion_time = completion_time_ls[train_len]\n",
    "last_train_completion_time"
   ]
  },
  {
   "cell_type": "code",
   "execution_count": 193,
   "metadata": {},
   "outputs": [],
   "source": [
    "# take all traces where start dates are after the last_train_completion_time\n",
    "train_df = pd.DataFrame(columns = trace.columns)\n",
    "test_df = pd.DataFrame(columns = trace.columns)\n",
    "train_count,test_count = 0,0\n",
    "for name, group in trace.groupby(['case']):\n",
    "    if group['startTime'].iloc[0] < last_train_completion_time:\n",
    "        train_df = train_df.append(group)\n",
    "        train_count+=1\n",
    "    else:\n",
    "        test_df = test_df.append(group)\n",
    "        test_count+=1"
   ]
  },
  {
   "cell_type": "code",
   "execution_count": 194,
   "metadata": {},
   "outputs": [
    {
     "name": "stdout",
     "output_type": "stream",
     "text": [
      "train and test count\n",
      "2825 460\n",
      "trace test percentage\n",
      "16.283185840707965\n"
     ]
    }
   ],
   "source": [
    "# although the split was 70:30, but since it is sequence data, traces can have different number of data points, so actual number is different \n",
    "test_data_percentage = (test_count/train_count)*100\n",
    "print(\"train and test count\")\n",
    "print(train_count,test_count)\n",
    "print(\"trace test percentage\")\n",
    "print(test_data_percentage)"
   ]
  },
  {
   "cell_type": "markdown",
   "metadata": {},
   "source": [
    "# Define comman variables"
   ]
  },
  {
   "cell_type": "code",
   "execution_count": 361,
   "metadata": {},
   "outputs": [],
   "source": [
    "# trace length and saving path\n",
    "t_length = 4\n",
    "save_path_base = '../data/training_data/'"
   ]
  },
  {
   "cell_type": "markdown",
   "metadata": {},
   "source": [
    "# ====================================\n",
    "# Preparing Train Data\n",
    "\n",
    "- define trace length and df_type (train or test)\n",
    "- Working on train and test seperately, so run whole code for the same trace length for train and then for test\n",
    "- the repeating code will be modularized when developing python file"
   ]
  },
  {
   "cell_type": "code",
   "execution_count": 362,
   "metadata": {},
   "outputs": [],
   "source": [
    "# permits is just for the variable name, as below code is using permit as dataframe name\n",
    "df_type = 'train'\n",
    "permits = train_df"
   ]
  },
  {
   "cell_type": "markdown",
   "metadata": {},
   "source": [
    "## Preparing data for task Declaration REJECTED vs Accapted by Administrator/Employee\n",
    "\n",
    "- keeping all the traces \\\n",
    "or\n",
    "Extract traces only where decleration is submitted by employee is in a trace ( we are not considering other traces where decision of accatped, rejected is not being made /discuss )\n",
    "- create target variables, if application is rejected or not\n",
    "- get traces which starts from permit submitted by employee to the trace decleration is submitted by employee (discuss)\n",
    "- filter traces of length n (10,15,20 decide) \n",
    "- choose encoding and decide features to involve which we belive will be there before the activity decleration is submitted\n",
    "\n",
    "\n",
    "### Filterings\n",
    "\n",
    "1. Filtering on timeframe (from this date to that)\n",
    "2. Filter on case performance (traces finished withing 10 days)\n",
    "3. Filter on start and end activities (give list of start and end)\n",
    "4. Filter on variants (keeping only frequent trace flows like - [a,b,c,d] and [a d b c], or 0.4 threshold etc)\n",
    "5. Filter on attributes values (selection and projection of traces)\n",
    "6. Filter on numeric attribute values (from declared amount 500 to 1000)\n",
    "7. Between Filter (filtering the activities from say permit apply to permit accapted)\n",
    "8. case size (number of activiries in case)\n",
    "\n",
    "\n",
    "### Statistics\n",
    "\n",
    "1. Throughput Time (time to complete traces)\n",
    "2. Case Arrival/Dispersion Ratio (arrival time between two traces (not events))\n",
    "3. Performance Spectrum (time between activities)\n",
    "4. Cycle Time and Waiting Time (cycle time - time between activities, lead Time - the overall time in which the instance was worked, from the start to the end,accumelative )\n",
    "5. Sojourn Time - time taken for an activity to complete from the end of previous activity\n",
    "6. other stats if needed\n"
   ]
  },
  {
   "cell_type": "markdown",
   "metadata": {},
   "source": [
    "# Feature Engineering"
   ]
  },
  {
   "cell_type": "code",
   "execution_count": 363,
   "metadata": {},
   "outputs": [],
   "source": [
    "permits.head()\n",
    "permits['startTime'] = pd.to_datetime(permits['startTime'])\n",
    "permits['completeTime'] = pd.to_datetime(permits['completeTime'])"
   ]
  },
  {
   "cell_type": "code",
   "execution_count": 364,
   "metadata": {},
   "outputs": [],
   "source": [
    "# add year and month column\n",
    "permits['year'] = permits['startTime'].dt.year\n",
    "permits['month'] = permits['startTime'].dt.month"
   ]
  },
  {
   "cell_type": "code",
   "execution_count": 365,
   "metadata": {},
   "outputs": [],
   "source": [
    "# time to complete the activity\n",
    "permits['act_completionTime'] = permits['completeTime'] - permits['startTime']\n",
    "permits['act_completionTime'] = permits['act_completionTime'].dt.total_seconds()"
   ]
  },
  {
   "cell_type": "code",
   "execution_count": 366,
   "metadata": {},
   "outputs": [],
   "source": [
    "# get minimum time for earch trace (when trace started)\n",
    "temp_df = pd.DataFrame(permits.groupby(['case'])['startTime'].min())\n",
    "temp_df['index'] = temp_df.index\n",
    "temp_df.reset_index(drop=True, inplace=True)\n",
    "temp_df.columns = ['startTime_min','case']\n",
    "\n",
    "# merge with permits\n",
    "permits = permits.merge(temp_df,on=['case'])"
   ]
  },
  {
   "cell_type": "code",
   "execution_count": 367,
   "metadata": {},
   "outputs": [],
   "source": [
    "# get max time for earch trace (when trace ended)\n",
    "temp_df = pd.DataFrame(permits.groupby(['case'])['completeTime'].max())\n",
    "temp_df['index'] = temp_df.index\n",
    "temp_df.reset_index(drop=True, inplace=True)\n",
    "temp_df.columns = ['completeTime_max','case']\n",
    "\n",
    "# merge with permits\n",
    "permits = permits.merge(temp_df,on=['case'])"
   ]
  },
  {
   "cell_type": "code",
   "execution_count": 368,
   "metadata": {},
   "outputs": [],
   "source": [
    "# calculate trace time\n",
    "permits['processCompletionTime']=permits['completeTime_max']-permits['startTime_min']\n",
    "permits['processCompletionTime'] = permits['processCompletionTime'].dt.total_seconds()"
   ]
  },
  {
   "cell_type": "code",
   "execution_count": 369,
   "metadata": {},
   "outputs": [],
   "source": [
    "# calculate time taken between activities\n",
    "act_time_taken=[]\n",
    "for name,group in permits.groupby(['case'],sort=False):\n",
    "    act_time_taken.append([name,pd.to_datetime(0) - pd.to_datetime(0)])\n",
    "    for i in range(len(group)-1):\n",
    "        st_time_1 = group.iloc[i]['startTime']\n",
    "        st_time_2 = group.iloc[i+1]['startTime']\n",
    "        diff = st_time_2-st_time_1\n",
    "        act_time_taken.append([name,diff])\n",
    "\n",
    "time_diff_df = pd.DataFrame(act_time_taken,columns=['case','act_time_diff'])\n",
    "\n",
    "# add with permits\n",
    "permits['next_act_time_diff'] = time_diff_df['act_time_diff']\n",
    "permits['next_act_time_diff'] = permits['next_act_time_diff'].dt.total_seconds()"
   ]
  },
  {
   "cell_type": "code",
   "execution_count": 370,
   "metadata": {},
   "outputs": [
    {
     "data": {
      "text/html": [
       "<div>\n",
       "<style scoped>\n",
       "    .dataframe tbody tr th:only-of-type {\n",
       "        vertical-align: middle;\n",
       "    }\n",
       "\n",
       "    .dataframe tbody tr th {\n",
       "        vertical-align: top;\n",
       "    }\n",
       "\n",
       "    .dataframe thead th {\n",
       "        text-align: right;\n",
       "    }\n",
       "</style>\n",
       "<table border=\"1\" class=\"dataframe\">\n",
       "  <thead>\n",
       "    <tr style=\"text-align: right;\">\n",
       "      <th></th>\n",
       "      <th>case</th>\n",
       "      <th>event</th>\n",
       "      <th>startTime</th>\n",
       "      <th>completeTime</th>\n",
       "      <th>OrganizationalEntity</th>\n",
       "      <th>TotalDeclared</th>\n",
       "      <th>Overspent</th>\n",
       "      <th>RequestedBudget</th>\n",
       "      <th>OverspentAmount</th>\n",
       "      <th>org:resource</th>\n",
       "      <th>year</th>\n",
       "      <th>month</th>\n",
       "      <th>act_completionTime</th>\n",
       "      <th>startTime_min</th>\n",
       "      <th>completeTime_max</th>\n",
       "      <th>processCompletionTime</th>\n",
       "      <th>next_act_time_diff</th>\n",
       "    </tr>\n",
       "  </thead>\n",
       "  <tbody>\n",
       "    <tr>\n",
       "      <th>0</th>\n",
       "      <td>travel permit 10066</td>\n",
       "      <td>Permit SUBMITTED by EMPLOYEE</td>\n",
       "      <td>2018-02-21 16:28:17</td>\n",
       "      <td>2018-02-21 16:28:17</td>\n",
       "      <td>organizational unit 65460</td>\n",
       "      <td>71.195831</td>\n",
       "      <td>False</td>\n",
       "      <td>64.878503</td>\n",
       "      <td>-18.925474</td>\n",
       "      <td>STAFF MEMBER</td>\n",
       "      <td>2018</td>\n",
       "      <td>2</td>\n",
       "      <td>0.0</td>\n",
       "      <td>2018-02-21 16:28:17</td>\n",
       "      <td>2018-03-01 17:31:26</td>\n",
       "      <td>694989.0</td>\n",
       "      <td>0.0</td>\n",
       "    </tr>\n",
       "    <tr>\n",
       "      <th>1</th>\n",
       "      <td>travel permit 10066</td>\n",
       "      <td>Permit APPROVED by ADMINISTRATION</td>\n",
       "      <td>2018-02-21 16:28:19</td>\n",
       "      <td>2018-02-21 16:28:19</td>\n",
       "      <td>organizational unit 65460</td>\n",
       "      <td>71.195831</td>\n",
       "      <td>False</td>\n",
       "      <td>64.878503</td>\n",
       "      <td>-18.925474</td>\n",
       "      <td>STAFF MEMBER</td>\n",
       "      <td>2018</td>\n",
       "      <td>2</td>\n",
       "      <td>0.0</td>\n",
       "      <td>2018-02-21 16:28:17</td>\n",
       "      <td>2018-03-01 17:31:26</td>\n",
       "      <td>694989.0</td>\n",
       "      <td>2.0</td>\n",
       "    </tr>\n",
       "    <tr>\n",
       "      <th>2</th>\n",
       "      <td>travel permit 10066</td>\n",
       "      <td>Start trip</td>\n",
       "      <td>2018-02-22 00:00:00</td>\n",
       "      <td>2018-02-22 00:00:00</td>\n",
       "      <td>organizational unit 65460</td>\n",
       "      <td>71.195831</td>\n",
       "      <td>False</td>\n",
       "      <td>64.878503</td>\n",
       "      <td>-18.925474</td>\n",
       "      <td>STAFF MEMBER</td>\n",
       "      <td>2018</td>\n",
       "      <td>2</td>\n",
       "      <td>0.0</td>\n",
       "      <td>2018-02-21 16:28:17</td>\n",
       "      <td>2018-03-01 17:31:26</td>\n",
       "      <td>694989.0</td>\n",
       "      <td>27101.0</td>\n",
       "    </tr>\n",
       "    <tr>\n",
       "      <th>3</th>\n",
       "      <td>travel permit 10066</td>\n",
       "      <td>End trip</td>\n",
       "      <td>2018-02-22 00:00:00</td>\n",
       "      <td>2018-02-22 00:00:00</td>\n",
       "      <td>organizational unit 65460</td>\n",
       "      <td>71.195831</td>\n",
       "      <td>False</td>\n",
       "      <td>64.878503</td>\n",
       "      <td>-18.925474</td>\n",
       "      <td>STAFF MEMBER</td>\n",
       "      <td>2018</td>\n",
       "      <td>2</td>\n",
       "      <td>0.0</td>\n",
       "      <td>2018-02-21 16:28:17</td>\n",
       "      <td>2018-03-01 17:31:26</td>\n",
       "      <td>694989.0</td>\n",
       "      <td>0.0</td>\n",
       "    </tr>\n",
       "    <tr>\n",
       "      <th>4</th>\n",
       "      <td>travel permit 10066</td>\n",
       "      <td>Permit FINAL_APPROVED by SUPERVISOR</td>\n",
       "      <td>2018-02-22 08:27:05</td>\n",
       "      <td>2018-02-22 08:27:05</td>\n",
       "      <td>organizational unit 65460</td>\n",
       "      <td>71.195831</td>\n",
       "      <td>False</td>\n",
       "      <td>64.878503</td>\n",
       "      <td>-18.925474</td>\n",
       "      <td>STAFF MEMBER</td>\n",
       "      <td>2018</td>\n",
       "      <td>2</td>\n",
       "      <td>0.0</td>\n",
       "      <td>2018-02-21 16:28:17</td>\n",
       "      <td>2018-03-01 17:31:26</td>\n",
       "      <td>694989.0</td>\n",
       "      <td>30425.0</td>\n",
       "    </tr>\n",
       "  </tbody>\n",
       "</table>\n",
       "</div>"
      ],
      "text/plain": [
       "                  case                                event  \\\n",
       "0  travel permit 10066         Permit SUBMITTED by EMPLOYEE   \n",
       "1  travel permit 10066    Permit APPROVED by ADMINISTRATION   \n",
       "2  travel permit 10066                           Start trip   \n",
       "3  travel permit 10066                             End trip   \n",
       "4  travel permit 10066  Permit FINAL_APPROVED by SUPERVISOR   \n",
       "\n",
       "            startTime        completeTime       OrganizationalEntity  \\\n",
       "0 2018-02-21 16:28:17 2018-02-21 16:28:17  organizational unit 65460   \n",
       "1 2018-02-21 16:28:19 2018-02-21 16:28:19  organizational unit 65460   \n",
       "2 2018-02-22 00:00:00 2018-02-22 00:00:00  organizational unit 65460   \n",
       "3 2018-02-22 00:00:00 2018-02-22 00:00:00  organizational unit 65460   \n",
       "4 2018-02-22 08:27:05 2018-02-22 08:27:05  organizational unit 65460   \n",
       "\n",
       "  TotalDeclared Overspent RequestedBudget OverspentAmount  org:resource  year  \\\n",
       "0     71.195831     False       64.878503      -18.925474  STAFF MEMBER  2018   \n",
       "1     71.195831     False       64.878503      -18.925474  STAFF MEMBER  2018   \n",
       "2     71.195831     False       64.878503      -18.925474  STAFF MEMBER  2018   \n",
       "3     71.195831     False       64.878503      -18.925474  STAFF MEMBER  2018   \n",
       "4     71.195831     False       64.878503      -18.925474  STAFF MEMBER  2018   \n",
       "\n",
       "   month  act_completionTime       startTime_min    completeTime_max  \\\n",
       "0      2                 0.0 2018-02-21 16:28:17 2018-03-01 17:31:26   \n",
       "1      2                 0.0 2018-02-21 16:28:17 2018-03-01 17:31:26   \n",
       "2      2                 0.0 2018-02-21 16:28:17 2018-03-01 17:31:26   \n",
       "3      2                 0.0 2018-02-21 16:28:17 2018-03-01 17:31:26   \n",
       "4      2                 0.0 2018-02-21 16:28:17 2018-03-01 17:31:26   \n",
       "\n",
       "   processCompletionTime  next_act_time_diff  \n",
       "0               694989.0                 0.0  \n",
       "1               694989.0                 2.0  \n",
       "2               694989.0             27101.0  \n",
       "3               694989.0                 0.0  \n",
       "4               694989.0             30425.0  "
      ]
     },
     "execution_count": 370,
     "metadata": {},
     "output_type": "execute_result"
    }
   ],
   "source": [
    "permits.head()"
   ]
  },
  {
   "cell_type": "markdown",
   "metadata": {},
   "source": [
    "### Adding some stastitics features in event log using pm4py"
   ]
  },
  {
   "cell_type": "code",
   "execution_count": 371,
   "metadata": {},
   "outputs": [],
   "source": [
    "# converting dataframe to event log\n",
    "trace_log = pm4py.format_dataframe(permits, case_id='case', activity_key='event', timestamp_key='completeTime', start_timestamp_key='startTime')\n",
    "trace_log = pm4py.convert_to_event_log(trace_log)"
   ]
  },
  {
   "cell_type": "code",
   "execution_count": 372,
   "metadata": {},
   "outputs": [],
   "source": [
    "# adding lead and waiting time\n",
    "# @@approx_bh_partial_lead_time\tIncremental lead time associated to the event\n",
    "# @@approx_bh_overall_wasted_time\tDifference between the partial lead time and the partial cycle time values (for us same as above, as no cylce time for us)\n",
    "# @@approx_bh_this_wasted_time\tWasted time ONLY with regards to the activity described by the ‘interval’ even (time difference between activities)\n",
    "\n",
    "trace_log = interval_lifecycle.assign_lead_cycle_time(trace_log)"
   ]
  },
  {
   "cell_type": "code",
   "execution_count": 373,
   "metadata": {},
   "outputs": [],
   "source": [
    "# time taken to start and end the activity\n",
    "# found all zero based on data so nothing to add\n",
    "soj_time = soj_time_get.apply(trace_log, parameters={soj_time_get.Parameters.TIMESTAMP_KEY: \"time:timestamp\", soj_time_get.Parameters.START_TIMESTAMP_KEY: \"startTime\"})\n",
    "# soj_time"
   ]
  },
  {
   "cell_type": "markdown",
   "metadata": {},
   "source": [
    "# Extracting target variable\n",
    "\n",
    "- In our case target variable is REJECTED Declaration, in the process whoever rejects the Declaration (Administrartor, pre-approvar, etc.) it always goes through Declaration REJECTED by EMPLOYEE or it directly goes to Declaration REJECTED by MISSING, so using these two to identify our target variable\n",
    "\n",
    "- One of our assumption is - If the decleration is not submitted by Employee and the payment is handeled directly, it is also considered as Declaration Accapted (so basically all the Declarations which is not rejected by employee are considerd as Accapted )\n",
    "\n",
    "- we are not dealing with situations where it got rejected twice. For now we are only interested in 1st time rejection\n",
    "\n",
    "\n",
    "<div>\n",
    "<img src=\"../docs/huristic_net_BPI2020.png\", width = 800, height = 800> \n",
    "</div>"
   ]
  },
  {
   "cell_type": "code",
   "execution_count": 374,
   "metadata": {},
   "outputs": [
    {
     "data": {
      "text/plain": [
       "[0, 0, 0, 0, 0, 0, 0, 0, 0, 1, 0, 0, 0, 0, 0, 1, 1, 0, 0, 0]"
      ]
     },
     "execution_count": 374,
     "metadata": {},
     "output_type": "execute_result"
    }
   ],
   "source": [
    "declerations = [len(list(filter(lambda e: e[\"concept:name\"] == (\"Declaration REJECTED by EMPLOYEE\" or \"Declaration REJECTED by MISSING\") ,trace))) > 0 for trace in trace_log]\n",
    "declerations = [1 if dec != False else 0 for dec in declerations]\n",
    "declerations[:20]"
   ]
  },
  {
   "cell_type": "code",
   "execution_count": 375,
   "metadata": {},
   "outputs": [
    {
     "name": "stdout",
     "output_type": "stream",
     "text": [
      "2825\n"
     ]
    }
   ],
   "source": [
    "print(len(declerations))"
   ]
  },
  {
   "cell_type": "markdown",
   "metadata": {},
   "source": [
    "# Extracting Prefix \n",
    "\n",
    "- No bucketing/clustering/binding is applied (to do if needed)\n",
    "- we extracted traces before the rejection for decleration, because we are intrested in prediction for the traces before that only \n",
    "- some process do not follow the above path but those are considered as accapted\n",
    "- Trace length ( 10 for now - no specific reason, process is not big so randomly chosen 10 / to do)\n",
    "- so basically all the traces of length less than equal to 10 are chosen, \n",
    "    - We need to deal if vector length is not same (10 in our case) - we performed padding (adding zeros at the end) during encoding for those traces\n",
    "    - so we have traces with length 1,2,... 10 \n",
    "    - any trace with length less then equal to 10 can be predicted using our model"
   ]
  },
  {
   "cell_type": "code",
   "execution_count": 376,
   "metadata": {},
   "outputs": [],
   "source": [
    "# to extract only traces till the point decleration is rejected\n",
    "prefix_traces = []\n",
    "for trace in trace_log:\n",
    "    for i,event in enumerate(trace):\n",
    "        if \"Declaration REJECTED\" in event['event']:\n",
    "            break\n",
    "    prefix_traces.append(Trace(trace[:i], attributes = trace.attributes))\n",
    "prefix_traces = EventLog(prefix_traces)"
   ]
  },
  {
   "cell_type": "code",
   "execution_count": 377,
   "metadata": {},
   "outputs": [
    {
     "name": "stdout",
     "output_type": "stream",
     "text": [
      "['Permit SUBMITTED by EMPLOYEE', 'Permit APPROVED by ADMINISTRATION', 'Permit APPROVED by BUDGET OWNER', 'Permit FINAL_APPROVED by SUPERVISOR', 'Start trip', 'End trip', 'Declaration SUBMITTED by EMPLOYEE', 'Declaration APPROVED by ADMINISTRATION', 'Declaration APPROVED by BUDGET OWNER', 'Declaration FINAL_APPROVED by SUPERVISOR', 'Request Payment']\n"
     ]
    }
   ],
   "source": [
    "# check if all good\n",
    "project_nth(prefix_traces, 3)"
   ]
  },
  {
   "cell_type": "code",
   "execution_count": 378,
   "metadata": {},
   "outputs": [],
   "source": [
    "# generate prefixes, note that we need to add the casts to EventLog and Trace to make sure that the result is a PM4Py EventLog object\n",
    "trace_prefixes = EventLog([Trace(trace[0:t_length], attributes = trace.attributes) for trace in trace_log])"
   ]
  },
  {
   "cell_type": "code",
   "execution_count": 379,
   "metadata": {},
   "outputs": [
    {
     "name": "stdout",
     "output_type": "stream",
     "text": [
      "[10, 10, 10, 12, 10, 12, 10, 12, 10, 13, 10, 12, 10, 10, 10]\n",
      "[4, 4, 4, 4, 4, 4, 4, 4, 4, 4, 4, 4, 4, 4, 4]\n"
     ]
    }
   ],
   "source": [
    "# check the trace length\n",
    "print([len(trace) for trace in trace_log][0:15])\n",
    "print([len(trace) for trace in trace_prefixes][0:15])"
   ]
  },
  {
   "cell_type": "code",
   "execution_count": 380,
   "metadata": {},
   "outputs": [
    {
     "name": "stdout",
     "output_type": "stream",
     "text": [
      "['Permit SUBMITTED by EMPLOYEE', 'Permit APPROVED by ADMINISTRATION', 'Permit APPROVED by BUDGET OWNER', 'Permit FINAL_APPROVED by SUPERVISOR']\n"
     ]
    }
   ],
   "source": [
    "# check if all good\n",
    "project_nth(trace_prefixes, 98)"
   ]
  },
  {
   "cell_type": "code",
   "execution_count": 381,
   "metadata": {},
   "outputs": [],
   "source": [
    "# to check which traces are not of our desired length (these will be padded while preparing the the training data)\n",
    "for i,trace in enumerate(trace_prefixes):\n",
    "    if len(trace)!=t_length:\n",
    "        print(i, len(trace))\n",
    "        break"
   ]
  },
  {
   "cell_type": "markdown",
   "metadata": {},
   "source": [
    "## Feature selection/Filtering (Manual)"
   ]
  },
  {
   "cell_type": "code",
   "execution_count": 382,
   "metadata": {},
   "outputs": [
    {
     "data": {
      "text/html": [
       "<div>\n",
       "<style scoped>\n",
       "    .dataframe tbody tr th:only-of-type {\n",
       "        vertical-align: middle;\n",
       "    }\n",
       "\n",
       "    .dataframe tbody tr th {\n",
       "        vertical-align: top;\n",
       "    }\n",
       "\n",
       "    .dataframe thead th {\n",
       "        text-align: right;\n",
       "    }\n",
       "</style>\n",
       "<table border=\"1\" class=\"dataframe\">\n",
       "  <thead>\n",
       "    <tr style=\"text-align: right;\">\n",
       "      <th></th>\n",
       "      <th>case</th>\n",
       "      <th>event</th>\n",
       "      <th>startTime</th>\n",
       "      <th>completeTime</th>\n",
       "      <th>OrganizationalEntity</th>\n",
       "      <th>TotalDeclared</th>\n",
       "      <th>Overspent</th>\n",
       "      <th>RequestedBudget</th>\n",
       "      <th>OverspentAmount</th>\n",
       "      <th>org:resource</th>\n",
       "      <th>...</th>\n",
       "      <th>time:timestamp</th>\n",
       "      <th>@@index</th>\n",
       "      <th>@@case_index</th>\n",
       "      <th>start_timestamp</th>\n",
       "      <th>@@approx_bh_partial_cycle_time</th>\n",
       "      <th>@@approx_bh_partial_lead_time</th>\n",
       "      <th>@@approx_bh_overall_wasted_time</th>\n",
       "      <th>@@approx_bh_this_wasted_time</th>\n",
       "      <th>@approx_bh_ratio_cycle_lead_time</th>\n",
       "      <th>case:concept:name</th>\n",
       "    </tr>\n",
       "  </thead>\n",
       "  <tbody>\n",
       "    <tr>\n",
       "      <th>0</th>\n",
       "      <td>travel permit 10066</td>\n",
       "      <td>Permit SUBMITTED by EMPLOYEE</td>\n",
       "      <td>2018-02-21 16:28:17</td>\n",
       "      <td>2018-02-21 16:28:17</td>\n",
       "      <td>organizational unit 65460</td>\n",
       "      <td>1970-01-01 00:00:00.000000071+00:00</td>\n",
       "      <td>False</td>\n",
       "      <td>1970-01-01 00:00:00.000000064+00:00</td>\n",
       "      <td>1969-12-31 23:59:59.999999982+00:00</td>\n",
       "      <td>STAFF MEMBER</td>\n",
       "      <td>...</td>\n",
       "      <td>2018-02-21 16:28:17</td>\n",
       "      <td>0</td>\n",
       "      <td>0</td>\n",
       "      <td>2018-02-21 16:28:17</td>\n",
       "      <td>0.0</td>\n",
       "      <td>0.0</td>\n",
       "      <td>0.0</td>\n",
       "      <td>0.0</td>\n",
       "      <td>1.0</td>\n",
       "      <td>travel permit 10066</td>\n",
       "    </tr>\n",
       "    <tr>\n",
       "      <th>1</th>\n",
       "      <td>travel permit 10066</td>\n",
       "      <td>Permit APPROVED by ADMINISTRATION</td>\n",
       "      <td>2018-02-21 16:28:19</td>\n",
       "      <td>2018-02-21 16:28:19</td>\n",
       "      <td>organizational unit 65460</td>\n",
       "      <td>1970-01-01 00:00:00.000000071+00:00</td>\n",
       "      <td>False</td>\n",
       "      <td>1970-01-01 00:00:00.000000064+00:00</td>\n",
       "      <td>1969-12-31 23:59:59.999999982+00:00</td>\n",
       "      <td>STAFF MEMBER</td>\n",
       "      <td>...</td>\n",
       "      <td>2018-02-21 16:28:19</td>\n",
       "      <td>1</td>\n",
       "      <td>0</td>\n",
       "      <td>2018-02-21 16:28:19</td>\n",
       "      <td>0.0</td>\n",
       "      <td>2.0</td>\n",
       "      <td>2.0</td>\n",
       "      <td>2.0</td>\n",
       "      <td>0.0</td>\n",
       "      <td>travel permit 10066</td>\n",
       "    </tr>\n",
       "    <tr>\n",
       "      <th>2</th>\n",
       "      <td>travel permit 10066</td>\n",
       "      <td>Start trip</td>\n",
       "      <td>2018-02-22 00:00:00</td>\n",
       "      <td>2018-02-22 00:00:00</td>\n",
       "      <td>organizational unit 65460</td>\n",
       "      <td>1970-01-01 00:00:00.000000071+00:00</td>\n",
       "      <td>False</td>\n",
       "      <td>1970-01-01 00:00:00.000000064+00:00</td>\n",
       "      <td>1969-12-31 23:59:59.999999982+00:00</td>\n",
       "      <td>STAFF MEMBER</td>\n",
       "      <td>...</td>\n",
       "      <td>2018-02-22 00:00:00</td>\n",
       "      <td>2</td>\n",
       "      <td>0</td>\n",
       "      <td>2018-02-22 00:00:00</td>\n",
       "      <td>0.0</td>\n",
       "      <td>1903.0</td>\n",
       "      <td>1903.0</td>\n",
       "      <td>1901.0</td>\n",
       "      <td>0.0</td>\n",
       "      <td>travel permit 10066</td>\n",
       "    </tr>\n",
       "    <tr>\n",
       "      <th>3</th>\n",
       "      <td>travel permit 10066</td>\n",
       "      <td>End trip</td>\n",
       "      <td>2018-02-22 00:00:00</td>\n",
       "      <td>2018-02-22 00:00:00</td>\n",
       "      <td>organizational unit 65460</td>\n",
       "      <td>1970-01-01 00:00:00.000000071+00:00</td>\n",
       "      <td>False</td>\n",
       "      <td>1970-01-01 00:00:00.000000064+00:00</td>\n",
       "      <td>1969-12-31 23:59:59.999999982+00:00</td>\n",
       "      <td>STAFF MEMBER</td>\n",
       "      <td>...</td>\n",
       "      <td>2018-02-22 00:00:00</td>\n",
       "      <td>3</td>\n",
       "      <td>0</td>\n",
       "      <td>2018-02-22 00:00:00</td>\n",
       "      <td>0.0</td>\n",
       "      <td>1903.0</td>\n",
       "      <td>1903.0</td>\n",
       "      <td>0.0</td>\n",
       "      <td>0.0</td>\n",
       "      <td>travel permit 10066</td>\n",
       "    </tr>\n",
       "    <tr>\n",
       "      <th>4</th>\n",
       "      <td>travel permit 10077</td>\n",
       "      <td>Permit SUBMITTED by EMPLOYEE</td>\n",
       "      <td>2018-02-22 12:53:59</td>\n",
       "      <td>2018-02-22 12:53:59</td>\n",
       "      <td>organizational unit 65455</td>\n",
       "      <td>1970-01-01 00:00:00.000000658+00:00</td>\n",
       "      <td>False</td>\n",
       "      <td>1970-01-01 00:00:00.000001108+00:00</td>\n",
       "      <td>1969-12-31 23:59:59.999998627+00:00</td>\n",
       "      <td>STAFF MEMBER</td>\n",
       "      <td>...</td>\n",
       "      <td>2018-02-22 12:53:59</td>\n",
       "      <td>10</td>\n",
       "      <td>1</td>\n",
       "      <td>2018-02-22 12:53:59</td>\n",
       "      <td>0.0</td>\n",
       "      <td>0.0</td>\n",
       "      <td>0.0</td>\n",
       "      <td>0.0</td>\n",
       "      <td>1.0</td>\n",
       "      <td>travel permit 10077</td>\n",
       "    </tr>\n",
       "  </tbody>\n",
       "</table>\n",
       "<p>5 rows × 28 columns</p>\n",
       "</div>"
      ],
      "text/plain": [
       "                  case                              event           startTime  \\\n",
       "0  travel permit 10066       Permit SUBMITTED by EMPLOYEE 2018-02-21 16:28:17   \n",
       "1  travel permit 10066  Permit APPROVED by ADMINISTRATION 2018-02-21 16:28:19   \n",
       "2  travel permit 10066                         Start trip 2018-02-22 00:00:00   \n",
       "3  travel permit 10066                           End trip 2018-02-22 00:00:00   \n",
       "4  travel permit 10077       Permit SUBMITTED by EMPLOYEE 2018-02-22 12:53:59   \n",
       "\n",
       "         completeTime       OrganizationalEntity  \\\n",
       "0 2018-02-21 16:28:17  organizational unit 65460   \n",
       "1 2018-02-21 16:28:19  organizational unit 65460   \n",
       "2 2018-02-22 00:00:00  organizational unit 65460   \n",
       "3 2018-02-22 00:00:00  organizational unit 65460   \n",
       "4 2018-02-22 12:53:59  organizational unit 65455   \n",
       "\n",
       "                        TotalDeclared  Overspent  \\\n",
       "0 1970-01-01 00:00:00.000000071+00:00      False   \n",
       "1 1970-01-01 00:00:00.000000071+00:00      False   \n",
       "2 1970-01-01 00:00:00.000000071+00:00      False   \n",
       "3 1970-01-01 00:00:00.000000071+00:00      False   \n",
       "4 1970-01-01 00:00:00.000000658+00:00      False   \n",
       "\n",
       "                      RequestedBudget                     OverspentAmount  \\\n",
       "0 1970-01-01 00:00:00.000000064+00:00 1969-12-31 23:59:59.999999982+00:00   \n",
       "1 1970-01-01 00:00:00.000000064+00:00 1969-12-31 23:59:59.999999982+00:00   \n",
       "2 1970-01-01 00:00:00.000000064+00:00 1969-12-31 23:59:59.999999982+00:00   \n",
       "3 1970-01-01 00:00:00.000000064+00:00 1969-12-31 23:59:59.999999982+00:00   \n",
       "4 1970-01-01 00:00:00.000001108+00:00 1969-12-31 23:59:59.999998627+00:00   \n",
       "\n",
       "   org:resource  ...      time:timestamp  @@index  @@case_index  \\\n",
       "0  STAFF MEMBER  ... 2018-02-21 16:28:17        0             0   \n",
       "1  STAFF MEMBER  ... 2018-02-21 16:28:19        1             0   \n",
       "2  STAFF MEMBER  ... 2018-02-22 00:00:00        2             0   \n",
       "3  STAFF MEMBER  ... 2018-02-22 00:00:00        3             0   \n",
       "4  STAFF MEMBER  ... 2018-02-22 12:53:59       10             1   \n",
       "\n",
       "      start_timestamp @@approx_bh_partial_cycle_time  \\\n",
       "0 2018-02-21 16:28:17                            0.0   \n",
       "1 2018-02-21 16:28:19                            0.0   \n",
       "2 2018-02-22 00:00:00                            0.0   \n",
       "3 2018-02-22 00:00:00                            0.0   \n",
       "4 2018-02-22 12:53:59                            0.0   \n",
       "\n",
       "   @@approx_bh_partial_lead_time  @@approx_bh_overall_wasted_time  \\\n",
       "0                            0.0                              0.0   \n",
       "1                            2.0                              2.0   \n",
       "2                         1903.0                           1903.0   \n",
       "3                         1903.0                           1903.0   \n",
       "4                            0.0                              0.0   \n",
       "\n",
       "  @@approx_bh_this_wasted_time @approx_bh_ratio_cycle_lead_time  \\\n",
       "0                          0.0                              1.0   \n",
       "1                          2.0                              0.0   \n",
       "2                       1901.0                              0.0   \n",
       "3                          0.0                              0.0   \n",
       "4                          0.0                              1.0   \n",
       "\n",
       "     case:concept:name  \n",
       "0  travel permit 10066  \n",
       "1  travel permit 10066  \n",
       "2  travel permit 10066  \n",
       "3  travel permit 10066  \n",
       "4  travel permit 10077  \n",
       "\n",
       "[5 rows x 28 columns]"
      ]
     },
     "execution_count": 382,
     "metadata": {},
     "output_type": "execute_result"
    }
   ],
   "source": [
    "# convert logs to dataframe\n",
    "df = pm4py.convert_to_dataframe(trace_prefixes)\n",
    "df.head(5)"
   ]
  },
  {
   "cell_type": "code",
   "execution_count": 383,
   "metadata": {},
   "outputs": [
    {
     "data": {
      "text/plain": [
       "Index(['case', 'event', 'startTime', 'completeTime', 'OrganizationalEntity',\n",
       "       'TotalDeclared', 'Overspent', 'RequestedBudget', 'OverspentAmount',\n",
       "       'org:resource', 'year', 'month', 'act_completionTime', 'startTime_min',\n",
       "       'completeTime_max', 'processCompletionTime', 'next_act_time_diff',\n",
       "       'concept:name', 'time:timestamp', '@@index', '@@case_index',\n",
       "       'start_timestamp', '@@approx_bh_partial_cycle_time',\n",
       "       '@@approx_bh_partial_lead_time', '@@approx_bh_overall_wasted_time',\n",
       "       '@@approx_bh_this_wasted_time', '@approx_bh_ratio_cycle_lead_time',\n",
       "       'case:concept:name'],\n",
       "      dtype='object')"
      ]
     },
     "execution_count": 383,
     "metadata": {},
     "output_type": "execute_result"
    }
   ],
   "source": [
    "df.columns"
   ]
  },
  {
   "cell_type": "code",
   "execution_count": 384,
   "metadata": {},
   "outputs": [],
   "source": [
    "# passed features we want to extract\n",
    "\n",
    "# str_ev_attr\tString attributes at the event level: these are hot-encoded into features that may assume value 0 or value 1.\n",
    "# str_tr_attr\tString attributes at the trace level: these are hot-encoded into features that may assume value 0 or value 1.\n",
    "# num_ev_attr\tNumeric attributes at the event level: these are encoded by including the last value of the attribute among the events of the trace.\n",
    "# num_tr_attr\tNumeric attributes at trace level: these are encoded by including the numerical value.\n",
    "# str_evsucc_attr\tSuccessions related to the string attributes values at the event level: for example, if we have a trace [A,B,C], it might be important to include not only the presence of the single values A, B and C as features; but also the presence of the directly-follows couples (A,B) and (B,C).\n",
    "# ================================================\n",
    "\n",
    "str_ev_attr = ['concept:name','org:resource']\n",
    "str_tr_attr = ['OrganizationalEntity','month']\n",
    "num_ev_attr = ['@@approx_bh_partial_lead_time','@@approx_bh_this_wasted_time']\n",
    "num_tr_attr = []"
   ]
  },
  {
   "cell_type": "markdown",
   "metadata": {},
   "source": [
    "# Data encoding\n",
    "\n",
    "- preparing input data to be passed, \n",
    "- there are different encodings we can go with\n",
    "    - boolean encoding (one hot encoding if the activity present or not)\n",
    "    - frequency encoding (count of activity)\n",
    "    - simple index encoding (n events one hot encoding)\n",
    "    - latest payload encoding (with trace attributes)\n",
    "    - index payload encoding (n events one hot encoding + with trace attributes)\n",
    "    - complex index based encoding (static feature + nevents encoding + event features )\n",
    "    - lstm encoding (m x n)\n",
    "    \n",
    "=========  \n",
    "\n",
    "- Since the complex index based encoding covers the above 3 ( we can simply filter columns to get those, also feature importance (random forest) can ignore those which are not imporant ) we basically generated 4 different encodings -\n",
    "    - boolean encoding (one hot encoding if the activity present or not)\n",
    "    - frequency encoding (count of activity)\n",
    "    - complex index based encoding (static feature + nevents encoding + event features )\n",
    "    - lstm encoding (m x n)\n",
    "\n",
    "=======\n",
    "- No need of paddings in boolean and frequency encoding as the activities are fixed \\\n",
    "\n",
    "**PADDING** \n",
    "- for one hot encoded attributes (categorical values) the desired vector length is  - t_length * ohe_length (Ex. 10*number of activities) \n",
    "- for numerical values the desired length is t_length\n",
    "\n",
    "**Note** - For now process changes are not been considered, if a new activity arrives in future"
   ]
  },
  {
   "cell_type": "markdown",
   "metadata": {},
   "source": [
    "## Common functions for Encodings "
   ]
  },
  {
   "cell_type": "code",
   "execution_count": 385,
   "metadata": {},
   "outputs": [],
   "source": [
    "# function to save the data\n",
    "def save_data(X,y,feature_names, save_path):\n",
    "    data_dict = {}\n",
    "    data_dict['X'] = X\n",
    "    data_dict['y'] = y\n",
    "    data_dict['feature_names'] = feature_names\n",
    "\n",
    "    # save pickle\n",
    "    with open(save_path, 'wb') as handle:\n",
    "        pickle.dump(data_dict, handle)"
   ]
  },
  {
   "cell_type": "code",
   "execution_count": 386,
   "metadata": {},
   "outputs": [],
   "source": [
    "# load the data from pickle\n",
    "def load_data(load_path):\n",
    "    with open(load_path, 'rb') as handle:\n",
    "        data = pickle.load(handle)\n",
    "    return data"
   ]
  },
  {
   "cell_type": "code",
   "execution_count": 387,
   "metadata": {},
   "outputs": [],
   "source": [
    "# function to get the one hot encoded vectors of categorical values\n",
    "def get_ohe_dict(categorical_vars, df):\n",
    "    ohe_dict = {}\n",
    "    for var in categorical_vars:\n",
    "        var_dict = {}\n",
    "        var_data = sorted(df[var].unique())\n",
    "        var_len = len(var_data)\n",
    "        for i,cat in enumerate(var_data):\n",
    "            var_dict[cat] = [0]*var_len\n",
    "            var_dict[cat][i] = 1\n",
    "\n",
    "        ohe_dict[var] = var_dict\n",
    "\n",
    "    return ohe_dict"
   ]
  },
  {
   "cell_type": "code",
   "execution_count": 388,
   "metadata": {},
   "outputs": [],
   "source": [
    "# padding function for ohe encoding\n",
    "def cat_padding(vec, t_length, attr_length):\n",
    "    desired_length = t_length*attr_length\n",
    "    vec_length = len(vec)\n",
    "    if vec_length != desired_length:\n",
    "        pad_vec = [0]*(desired_length-vec_length)\n",
    "        vec.extend(pad_vec)\n",
    "    return vec"
   ]
  },
  {
   "cell_type": "code",
   "execution_count": 389,
   "metadata": {},
   "outputs": [],
   "source": [
    "# padding function for non-ohe encoding\n",
    "def num_padding(vec, t_length):\n",
    "    vec_length = len(vec)\n",
    "    if vec_length != t_length:\n",
    "        pad_vec = [0]*(t_length-vec_length)\n",
    "        vec.extend(pad_vec)\n",
    "    return vec"
   ]
  },
  {
   "cell_type": "code",
   "execution_count": 390,
   "metadata": {},
   "outputs": [
    {
     "data": {
      "text/plain": [
       "['concept:name', 'org:resource', 'OrganizationalEntity', 'month']"
      ]
     },
     "execution_count": 390,
     "metadata": {},
     "output_type": "execute_result"
    }
   ],
   "source": [
    "# create one hot encoding dict fot categorical variables\n",
    "# variables which we want to be one hot encoded\n",
    "categorical_vars = str_ev_attr + str_tr_attr\n",
    "ohe_dict = get_ohe_dict(categorical_vars, df)\n",
    "categorical_vars"
   ]
  },
  {
   "cell_type": "markdown",
   "metadata": {},
   "source": [
    "## Boolean encoding\n",
    "\n",
    "- can be easily extended with adding more attributes of traces other then activities, but for now kept it simple and as discussed in course"
   ]
  },
  {
   "cell_type": "code",
   "execution_count": 391,
   "metadata": {},
   "outputs": [],
   "source": [
    "# here for each trace we extract ohe vector for activity and sum them up and if count is greater then 1 we make them 1 \n",
    "# because this encoding only provides info, if the activity was there or not\n",
    "\n",
    "data = []\n",
    "\n",
    "for id, group in df.groupby(['case:concept:name']):\n",
    "    feature_vec = []\n",
    "\n",
    "    # add categorical and numerical event attributes\n",
    "    for cat_atr in str_ev_attr[:1]:\n",
    "        attr_length = len(list(ohe_dict[cat_atr].values())[0])\n",
    "        str_ev_vec = np.array([0]*attr_length)\n",
    "\n",
    "        for ca in group[cat_atr]:\n",
    "            str_ev_vec  = str_ev_vec + np.array(ohe_dict[cat_atr][ca])\n",
    "\n",
    "        # make it a non frequency vector (if count is greater then 1 make it 1)\n",
    "        for i,num in enumerate(str_ev_vec):\n",
    "            if num>1:\n",
    "                str_ev_vec[i]=1\n",
    "\n",
    "        feature_vec.extend(list(str_ev_vec))\n",
    "\n",
    "    data.append(feature_vec)\n",
    "\n",
    "    # data.append(feature_vec)"
   ]
  },
  {
   "cell_type": "code",
   "execution_count": 392,
   "metadata": {},
   "outputs": [],
   "source": [
    "# saving data \n",
    "encode_name = 'boolean_encode_'\n",
    "save_path = save_path_base + encode_name + df_type +'_trace_len_'+str(t_length)+ '.pickle'\n",
    "save_data(data, declerations, ohe_dict ,save_path)"
   ]
  },
  {
   "cell_type": "markdown",
   "metadata": {},
   "source": [
    "## Frequency encoding"
   ]
  },
  {
   "cell_type": "code",
   "execution_count": 393,
   "metadata": {},
   "outputs": [],
   "source": [
    "# here for each trace we extract ohe vector for activity and sum them up \n",
    "# because this encoding only provides count of how many times the activity appears\n",
    "\n",
    "data = []\n",
    "\n",
    "for id, group in df.groupby(['case:concept:name']):\n",
    "    feature_vec = []\n",
    "\n",
    "    # add categorical and numerical event attributes\n",
    "    for cat_atr in str_ev_attr[:1]:\n",
    "        attr_length = len(list(ohe_dict[cat_atr].values())[0])\n",
    "        str_ev_vec = np.array([0]*attr_length)\n",
    "\n",
    "        for ca in group[cat_atr]:\n",
    "            str_ev_vec  = str_ev_vec + np.array(ohe_dict[cat_atr][ca])\n",
    "\n",
    "        feature_vec.extend(list(str_ev_vec))\n",
    "\n",
    "    data.append(feature_vec)\n",
    "\n",
    "    # data.append(feature_vec)"
   ]
  },
  {
   "cell_type": "code",
   "execution_count": 394,
   "metadata": {},
   "outputs": [],
   "source": [
    "# save results\n",
    "encode_name = 'frequency_encode_'\n",
    "save_path = save_path_base + encode_name + df_type +'_trace_len_'+str(t_length)+ '.pickle'\n",
    "save_data(data, declerations, ohe_dict ,save_path)"
   ]
  },
  {
   "cell_type": "markdown",
   "metadata": {},
   "source": [
    "## Complex index based encoding - static feature (trace attributes) + n events encoding + event features"
   ]
  },
  {
   "cell_type": "code",
   "execution_count": 395,
   "metadata": {},
   "outputs": [],
   "source": [
    "# here for each trace we put events encoded in order and there aatributes along with padding to make vector length same\n",
    "# similatly for trace attributes but since it is trace attributes that is only for once\n",
    "\n",
    "data = []\n",
    "\n",
    "for id, group in df.groupby(['case:concept:name']):\n",
    "    feature_vec = []\n",
    "\n",
    "    # add categorical and numerical event attributes along with paddings \n",
    "\n",
    "    for cat_atr in str_ev_attr:\n",
    "        str_ev_vec = []\n",
    "        attr_length = len(list(ohe_dict[cat_atr].values())[0])\n",
    "        for ca in group[cat_atr]:\n",
    "            str_ev_vec.append(ohe_dict[cat_atr][ca])\n",
    "        \n",
    "        # padding\n",
    "        str_ev_vec = cat_padding(str_ev_vec, t_length, attr_length)\n",
    "        feature_vec.extend(str_ev_vec)\n",
    "\n",
    "\n",
    "    for num_atr in num_ev_attr:\n",
    "        num_ev_vec = []\n",
    "        num_ev_vec.append(list(group[num_atr]))\n",
    "\n",
    "        # padding\n",
    "        num_ev_vec = num_padding(num_ev_vec, t_length)\n",
    "        feature_vec.extend(num_ev_vec)\n",
    "\n",
    "\n",
    "\n",
    "    # add categorical and numerical trace attributes\n",
    "    for num_t_atr in num_tr_attr:\n",
    "        feature_vec.extend(group[num_t_atr].iloc[0])\n",
    "\n",
    "\n",
    "    for cat_t_atr in str_tr_attr:\n",
    "        feature_vec.extend(ohe_dict[cat_t_atr][group[cat_t_atr].iloc[0]])\n",
    "\n",
    "    # add vector to data\n",
    "    data.append(feature_vec)\n"
   ]
  },
  {
   "cell_type": "code",
   "execution_count": 396,
   "metadata": {},
   "outputs": [],
   "source": [
    "# check if all vector lengths are same \n",
    "vec_len = len(data[0])\n",
    "for i, d in enumerate(data):\n",
    "    if len(d)!=vec_len:\n",
    "        print(i, len(d))"
   ]
  },
  {
   "cell_type": "code",
   "execution_count": 397,
   "metadata": {},
   "outputs": [],
   "source": [
    "# save results\n",
    "encode_name = 'complex_index_encode_'\n",
    "save_path = save_path_base + encode_name + df_type +'_trace_len_'+str(t_length)+ '.pickle'\n",
    "save_data(data, declerations, ohe_dict ,save_path)"
   ]
  },
  {
   "cell_type": "markdown",
   "metadata": {},
   "source": [
    "## LSTM encoding"
   ]
  },
  {
   "cell_type": "code",
   "execution_count": 398,
   "metadata": {},
   "outputs": [],
   "source": [
    "# here we create sequence of each trace\n",
    "# so the dimentions will be (number of examples * trace_length * feature_length )\n",
    "\n",
    "data = []\n",
    "\n",
    "for id, group in df.groupby(['case:concept:name']):\n",
    "    \n",
    "    feature_vec = []\n",
    "\n",
    "    for index, row in group.iterrows():\n",
    "\n",
    "        row_vec = []\n",
    "\n",
    "        for cat_atr in str_ev_attr:\n",
    "            row_vec.extend(ohe_dict[cat_atr][row[cat_atr]])\n",
    "\n",
    "        for num_atr in num_ev_attr:\n",
    "            row_vec.append(row[num_atr])\n",
    "\n",
    "\n",
    "        # add categorical and numerical trace attributes\n",
    "        for num_t_atr in num_tr_attr:\n",
    "            row_vec.append(group[num_t_atr].iloc[0])\n",
    "\n",
    "        for cat_t_atr in str_tr_attr:\n",
    "            row_vec.extend(ohe_dict[cat_t_atr][group[cat_t_atr].iloc[0]])\n",
    "\n",
    "        feature_vec.append(row_vec)\n",
    "    \n",
    "\n",
    "    # add vector to data\n",
    "    data.append(feature_vec)\n"
   ]
  },
  {
   "cell_type": "code",
   "execution_count": 399,
   "metadata": {},
   "outputs": [],
   "source": [
    "# converting to array\n",
    "data = np.array([np.array(ls) for ls in data])"
   ]
  },
  {
   "cell_type": "code",
   "execution_count": 400,
   "metadata": {},
   "outputs": [
    {
     "data": {
      "text/plain": [
       "(4, 49)"
      ]
     },
     "execution_count": 400,
     "metadata": {},
     "output_type": "execute_result"
    }
   ],
   "source": [
    "# shape we want for all the traces\n",
    "feature_len = len(data[0][0])\n",
    "desired_shape = (t_length,feature_len)\n",
    "desired_shape"
   ]
  },
  {
   "cell_type": "code",
   "execution_count": 401,
   "metadata": {},
   "outputs": [],
   "source": [
    "# padding data to make equal shape of vectors\n",
    "padded_data = []\n",
    "for case in data:\n",
    "    pd_case = np.zeros(desired_shape)\n",
    "    pd_case[:case.shape[0],:case.shape[1]] = case\n",
    "    padded_data.append(pd_case)\n",
    "\n",
    "padded_data = np.array(padded_data).shape"
   ]
  },
  {
   "cell_type": "code",
   "execution_count": 402,
   "metadata": {},
   "outputs": [],
   "source": [
    "# save results\n",
    "encode_name = 'lstm_encode_'\n",
    "save_path = save_path_base + encode_name + df_type +'_trace_len_'+str(t_length)+ '.pickle'\n",
    "save_data(data, declerations, ohe_dict ,save_path)"
   ]
  },
  {
   "cell_type": "code",
   "execution_count": null,
   "metadata": {},
   "outputs": [],
   "source": []
  },
  {
   "cell_type": "code",
   "execution_count": null,
   "metadata": {},
   "outputs": [],
   "source": []
  },
  {
   "cell_type": "code",
   "execution_count": null,
   "metadata": {},
   "outputs": [],
   "source": []
  },
  {
   "cell_type": "markdown",
   "metadata": {},
   "source": [
    "# =============================================\n",
    "# Preparing Test Data\n",
    "\n",
    "- exactly same, just using **train encoding** to create features\n",
    "- define trace length and df_type (train or test)\n",
    "- Working on train and test seperately, so run whole code for the same trace length for train and then for test"
   ]
  },
  {
   "cell_type": "code",
   "execution_count": 403,
   "metadata": {},
   "outputs": [],
   "source": [
    "df_type = 'test'\n",
    "permits = test_df"
   ]
  },
  {
   "cell_type": "code",
   "execution_count": 404,
   "metadata": {},
   "outputs": [
    {
     "data": {
      "text/html": [
       "<div>\n",
       "<style scoped>\n",
       "    .dataframe tbody tr th:only-of-type {\n",
       "        vertical-align: middle;\n",
       "    }\n",
       "\n",
       "    .dataframe tbody tr th {\n",
       "        vertical-align: top;\n",
       "    }\n",
       "\n",
       "    .dataframe thead th {\n",
       "        text-align: right;\n",
       "    }\n",
       "</style>\n",
       "<table border=\"1\" class=\"dataframe\">\n",
       "  <thead>\n",
       "    <tr style=\"text-align: right;\">\n",
       "      <th></th>\n",
       "      <th>case</th>\n",
       "      <th>event</th>\n",
       "      <th>startTime</th>\n",
       "      <th>completeTime</th>\n",
       "      <th>OrganizationalEntity</th>\n",
       "      <th>TotalDeclared</th>\n",
       "      <th>Overspent</th>\n",
       "      <th>RequestedBudget</th>\n",
       "      <th>OverspentAmount</th>\n",
       "      <th>org:resource</th>\n",
       "      <th>year</th>\n",
       "      <th>month</th>\n",
       "      <th>act_completionTime</th>\n",
       "    </tr>\n",
       "  </thead>\n",
       "  <tbody>\n",
       "    <tr>\n",
       "      <th>31446</th>\n",
       "      <td>travel permit 10898</td>\n",
       "      <td>Permit SUBMITTED by EMPLOYEE</td>\n",
       "      <td>2018-09-27 12:35:05</td>\n",
       "      <td>2018-09-27 12:35:05</td>\n",
       "      <td>organizational unit 65458</td>\n",
       "      <td>264.493826</td>\n",
       "      <td>True</td>\n",
       "      <td>347.303505</td>\n",
       "      <td>44.996875</td>\n",
       "      <td>STAFF MEMBER</td>\n",
       "      <td>2018</td>\n",
       "      <td>9</td>\n",
       "      <td>0.0</td>\n",
       "    </tr>\n",
       "    <tr>\n",
       "      <th>31447</th>\n",
       "      <td>travel permit 10898</td>\n",
       "      <td>Permit APPROVED by ADMINISTRATION</td>\n",
       "      <td>2018-09-27 12:35:10</td>\n",
       "      <td>2018-09-27 12:35:10</td>\n",
       "      <td>organizational unit 65458</td>\n",
       "      <td>264.493826</td>\n",
       "      <td>True</td>\n",
       "      <td>347.303505</td>\n",
       "      <td>44.996875</td>\n",
       "      <td>STAFF MEMBER</td>\n",
       "      <td>2018</td>\n",
       "      <td>9</td>\n",
       "      <td>0.0</td>\n",
       "    </tr>\n",
       "    <tr>\n",
       "      <th>31448</th>\n",
       "      <td>travel permit 10898</td>\n",
       "      <td>Permit FINAL_APPROVED by SUPERVISOR</td>\n",
       "      <td>2018-09-28 15:45:28</td>\n",
       "      <td>2018-09-28 15:45:28</td>\n",
       "      <td>organizational unit 65458</td>\n",
       "      <td>264.493826</td>\n",
       "      <td>True</td>\n",
       "      <td>347.303505</td>\n",
       "      <td>44.996875</td>\n",
       "      <td>STAFF MEMBER</td>\n",
       "      <td>2018</td>\n",
       "      <td>9</td>\n",
       "      <td>0.0</td>\n",
       "    </tr>\n",
       "    <tr>\n",
       "      <th>31449</th>\n",
       "      <td>travel permit 10898</td>\n",
       "      <td>Start trip</td>\n",
       "      <td>2018-10-08 00:00:00</td>\n",
       "      <td>2018-10-08 00:00:00</td>\n",
       "      <td>organizational unit 65458</td>\n",
       "      <td>264.493826</td>\n",
       "      <td>True</td>\n",
       "      <td>347.303505</td>\n",
       "      <td>44.996875</td>\n",
       "      <td>STAFF MEMBER</td>\n",
       "      <td>2018</td>\n",
       "      <td>10</td>\n",
       "      <td>0.0</td>\n",
       "    </tr>\n",
       "    <tr>\n",
       "      <th>31450</th>\n",
       "      <td>travel permit 10898</td>\n",
       "      <td>End trip</td>\n",
       "      <td>2018-10-12 00:00:00</td>\n",
       "      <td>2018-10-12 00:00:00</td>\n",
       "      <td>organizational unit 65458</td>\n",
       "      <td>264.493826</td>\n",
       "      <td>True</td>\n",
       "      <td>347.303505</td>\n",
       "      <td>44.996875</td>\n",
       "      <td>STAFF MEMBER</td>\n",
       "      <td>2018</td>\n",
       "      <td>10</td>\n",
       "      <td>0.0</td>\n",
       "    </tr>\n",
       "    <tr>\n",
       "      <th>...</th>\n",
       "      <td>...</td>\n",
       "      <td>...</td>\n",
       "      <td>...</td>\n",
       "      <td>...</td>\n",
       "      <td>...</td>\n",
       "      <td>...</td>\n",
       "      <td>...</td>\n",
       "      <td>...</td>\n",
       "      <td>...</td>\n",
       "      <td>...</td>\n",
       "      <td>...</td>\n",
       "      <td>...</td>\n",
       "      <td>...</td>\n",
       "    </tr>\n",
       "    <tr>\n",
       "      <th>33434</th>\n",
       "      <td>travel permit 58843</td>\n",
       "      <td>Declaration SUBMITTED by EMPLOYEE</td>\n",
       "      <td>2018-11-09 16:46:00</td>\n",
       "      <td>2018-11-09 16:46:00</td>\n",
       "      <td>organizational unit 65455</td>\n",
       "      <td>760.481906</td>\n",
       "      <td>False</td>\n",
       "      <td>1013.080859</td>\n",
       "      <td>-158.221068</td>\n",
       "      <td>STAFF MEMBER</td>\n",
       "      <td>2018</td>\n",
       "      <td>11</td>\n",
       "      <td>0.0</td>\n",
       "    </tr>\n",
       "    <tr>\n",
       "      <th>33435</th>\n",
       "      <td>travel permit 58843</td>\n",
       "      <td>Declaration APPROVED by ADMINISTRATION</td>\n",
       "      <td>2018-11-12 09:33:59</td>\n",
       "      <td>2018-11-12 09:33:59</td>\n",
       "      <td>organizational unit 65455</td>\n",
       "      <td>760.481906</td>\n",
       "      <td>False</td>\n",
       "      <td>1013.080859</td>\n",
       "      <td>-158.221068</td>\n",
       "      <td>STAFF MEMBER</td>\n",
       "      <td>2018</td>\n",
       "      <td>11</td>\n",
       "      <td>0.0</td>\n",
       "    </tr>\n",
       "    <tr>\n",
       "      <th>33436</th>\n",
       "      <td>travel permit 58843</td>\n",
       "      <td>Declaration FINAL_APPROVED by SUPERVISOR</td>\n",
       "      <td>2018-11-12 10:40:10</td>\n",
       "      <td>2018-11-12 10:40:10</td>\n",
       "      <td>organizational unit 65455</td>\n",
       "      <td>760.481906</td>\n",
       "      <td>False</td>\n",
       "      <td>1013.080859</td>\n",
       "      <td>-158.221068</td>\n",
       "      <td>STAFF MEMBER</td>\n",
       "      <td>2018</td>\n",
       "      <td>11</td>\n",
       "      <td>0.0</td>\n",
       "    </tr>\n",
       "    <tr>\n",
       "      <th>33437</th>\n",
       "      <td>travel permit 58843</td>\n",
       "      <td>Request Payment</td>\n",
       "      <td>2018-11-12 14:34:54</td>\n",
       "      <td>2018-11-12 14:34:54</td>\n",
       "      <td>organizational unit 65455</td>\n",
       "      <td>760.481906</td>\n",
       "      <td>False</td>\n",
       "      <td>1013.080859</td>\n",
       "      <td>-158.221068</td>\n",
       "      <td>SYSTEM</td>\n",
       "      <td>2018</td>\n",
       "      <td>11</td>\n",
       "      <td>0.0</td>\n",
       "    </tr>\n",
       "    <tr>\n",
       "      <th>33438</th>\n",
       "      <td>travel permit 58843</td>\n",
       "      <td>Payment Handled</td>\n",
       "      <td>2018-11-15 17:31:19</td>\n",
       "      <td>2018-11-15 17:31:19</td>\n",
       "      <td>organizational unit 65455</td>\n",
       "      <td>760.481906</td>\n",
       "      <td>False</td>\n",
       "      <td>1013.080859</td>\n",
       "      <td>-158.221068</td>\n",
       "      <td>SYSTEM</td>\n",
       "      <td>2018</td>\n",
       "      <td>11</td>\n",
       "      <td>0.0</td>\n",
       "    </tr>\n",
       "  </tbody>\n",
       "</table>\n",
       "<p>5160 rows × 13 columns</p>\n",
       "</div>"
      ],
      "text/plain": [
       "                      case                                     event  \\\n",
       "31446  travel permit 10898              Permit SUBMITTED by EMPLOYEE   \n",
       "31447  travel permit 10898         Permit APPROVED by ADMINISTRATION   \n",
       "31448  travel permit 10898       Permit FINAL_APPROVED by SUPERVISOR   \n",
       "31449  travel permit 10898                                Start trip   \n",
       "31450  travel permit 10898                                  End trip   \n",
       "...                    ...                                       ...   \n",
       "33434  travel permit 58843         Declaration SUBMITTED by EMPLOYEE   \n",
       "33435  travel permit 58843    Declaration APPROVED by ADMINISTRATION   \n",
       "33436  travel permit 58843  Declaration FINAL_APPROVED by SUPERVISOR   \n",
       "33437  travel permit 58843                           Request Payment   \n",
       "33438  travel permit 58843                           Payment Handled   \n",
       "\n",
       "                startTime        completeTime       OrganizationalEntity  \\\n",
       "31446 2018-09-27 12:35:05 2018-09-27 12:35:05  organizational unit 65458   \n",
       "31447 2018-09-27 12:35:10 2018-09-27 12:35:10  organizational unit 65458   \n",
       "31448 2018-09-28 15:45:28 2018-09-28 15:45:28  organizational unit 65458   \n",
       "31449 2018-10-08 00:00:00 2018-10-08 00:00:00  organizational unit 65458   \n",
       "31450 2018-10-12 00:00:00 2018-10-12 00:00:00  organizational unit 65458   \n",
       "...                   ...                 ...                        ...   \n",
       "33434 2018-11-09 16:46:00 2018-11-09 16:46:00  organizational unit 65455   \n",
       "33435 2018-11-12 09:33:59 2018-11-12 09:33:59  organizational unit 65455   \n",
       "33436 2018-11-12 10:40:10 2018-11-12 10:40:10  organizational unit 65455   \n",
       "33437 2018-11-12 14:34:54 2018-11-12 14:34:54  organizational unit 65455   \n",
       "33438 2018-11-15 17:31:19 2018-11-15 17:31:19  organizational unit 65455   \n",
       "\n",
       "      TotalDeclared Overspent RequestedBudget OverspentAmount  org:resource  \\\n",
       "31446    264.493826      True      347.303505       44.996875  STAFF MEMBER   \n",
       "31447    264.493826      True      347.303505       44.996875  STAFF MEMBER   \n",
       "31448    264.493826      True      347.303505       44.996875  STAFF MEMBER   \n",
       "31449    264.493826      True      347.303505       44.996875  STAFF MEMBER   \n",
       "31450    264.493826      True      347.303505       44.996875  STAFF MEMBER   \n",
       "...             ...       ...             ...             ...           ...   \n",
       "33434    760.481906     False     1013.080859     -158.221068  STAFF MEMBER   \n",
       "33435    760.481906     False     1013.080859     -158.221068  STAFF MEMBER   \n",
       "33436    760.481906     False     1013.080859     -158.221068  STAFF MEMBER   \n",
       "33437    760.481906     False     1013.080859     -158.221068        SYSTEM   \n",
       "33438    760.481906     False     1013.080859     -158.221068        SYSTEM   \n",
       "\n",
       "       year  month  act_completionTime  \n",
       "31446  2018      9                 0.0  \n",
       "31447  2018      9                 0.0  \n",
       "31448  2018      9                 0.0  \n",
       "31449  2018     10                 0.0  \n",
       "31450  2018     10                 0.0  \n",
       "...     ...    ...                 ...  \n",
       "33434  2018     11                 0.0  \n",
       "33435  2018     11                 0.0  \n",
       "33436  2018     11                 0.0  \n",
       "33437  2018     11                 0.0  \n",
       "33438  2018     11                 0.0  \n",
       "\n",
       "[5160 rows x 13 columns]"
      ]
     },
     "execution_count": 404,
     "metadata": {},
     "output_type": "execute_result"
    }
   ],
   "source": [
    "test_df"
   ]
  },
  {
   "cell_type": "markdown",
   "metadata": {},
   "source": [
    "# Feature Engineering"
   ]
  },
  {
   "cell_type": "code",
   "execution_count": 405,
   "metadata": {},
   "outputs": [],
   "source": [
    "permits.head()\n",
    "permits['startTime'] = pd.to_datetime(permits['startTime'])\n",
    "permits['completeTime'] = pd.to_datetime(permits['completeTime'])"
   ]
  },
  {
   "cell_type": "code",
   "execution_count": 406,
   "metadata": {},
   "outputs": [],
   "source": [
    "# add year and month column\n",
    "permits['year'] = permits['startTime'].dt.year\n",
    "permits['month'] = permits['startTime'].dt.month"
   ]
  },
  {
   "cell_type": "code",
   "execution_count": 407,
   "metadata": {},
   "outputs": [],
   "source": [
    "# time to complete the activity\n",
    "permits['act_completionTime'] = permits['completeTime'] - permits['startTime']\n",
    "permits['act_completionTime'] = permits['act_completionTime'].dt.total_seconds()"
   ]
  },
  {
   "cell_type": "code",
   "execution_count": 408,
   "metadata": {},
   "outputs": [],
   "source": [
    "# get minimum time for earch trace (when trace started)\n",
    "temp_df = pd.DataFrame(permits.groupby(['case'])['startTime'].min())\n",
    "temp_df['index'] = temp_df.index\n",
    "temp_df.reset_index(drop=True, inplace=True)\n",
    "temp_df.columns = ['startTime_min','case']\n",
    "\n",
    "# merge with permits\n",
    "permits = permits.merge(temp_df,on=['case'])"
   ]
  },
  {
   "cell_type": "code",
   "execution_count": 409,
   "metadata": {},
   "outputs": [],
   "source": [
    "# get max time for earch trace (when trace ended)\n",
    "temp_df = pd.DataFrame(permits.groupby(['case'])['completeTime'].max())\n",
    "temp_df['index'] = temp_df.index\n",
    "temp_df.reset_index(drop=True, inplace=True)\n",
    "temp_df.columns = ['completeTime_max','case']\n",
    "\n",
    "# merge with permits\n",
    "permits = permits.merge(temp_df,on=['case'])"
   ]
  },
  {
   "cell_type": "code",
   "execution_count": 410,
   "metadata": {},
   "outputs": [],
   "source": [
    "# calculate trace time\n",
    "permits['processCompletionTime']=permits['completeTime_max']-permits['startTime_min']\n",
    "permits['processCompletionTime'] = permits['processCompletionTime'].dt.total_seconds()"
   ]
  },
  {
   "cell_type": "code",
   "execution_count": 411,
   "metadata": {},
   "outputs": [],
   "source": [
    "# calculate time taken between activities\n",
    "act_time_taken=[]\n",
    "for name,group in permits.groupby(['case'],sort=False):\n",
    "    act_time_taken.append([name,pd.to_datetime(0) - pd.to_datetime(0)])\n",
    "    for i in range(len(group)-1):\n",
    "        st_time_1 = group.iloc[i]['startTime']\n",
    "        st_time_2 = group.iloc[i+1]['startTime']\n",
    "        diff = st_time_2-st_time_1\n",
    "        act_time_taken.append([name,diff])\n",
    "\n",
    "time_diff_df = pd.DataFrame(act_time_taken,columns=['case','act_time_diff'])\n",
    "\n",
    "# add with permits\n",
    "permits['next_act_time_diff'] = time_diff_df['act_time_diff']\n",
    "permits['next_act_time_diff'] = permits['next_act_time_diff'].dt.total_seconds()"
   ]
  },
  {
   "cell_type": "code",
   "execution_count": 412,
   "metadata": {},
   "outputs": [
    {
     "data": {
      "text/html": [
       "<div>\n",
       "<style scoped>\n",
       "    .dataframe tbody tr th:only-of-type {\n",
       "        vertical-align: middle;\n",
       "    }\n",
       "\n",
       "    .dataframe tbody tr th {\n",
       "        vertical-align: top;\n",
       "    }\n",
       "\n",
       "    .dataframe thead th {\n",
       "        text-align: right;\n",
       "    }\n",
       "</style>\n",
       "<table border=\"1\" class=\"dataframe\">\n",
       "  <thead>\n",
       "    <tr style=\"text-align: right;\">\n",
       "      <th></th>\n",
       "      <th>case</th>\n",
       "      <th>event</th>\n",
       "      <th>startTime</th>\n",
       "      <th>completeTime</th>\n",
       "      <th>OrganizationalEntity</th>\n",
       "      <th>TotalDeclared</th>\n",
       "      <th>Overspent</th>\n",
       "      <th>RequestedBudget</th>\n",
       "      <th>OverspentAmount</th>\n",
       "      <th>org:resource</th>\n",
       "      <th>year</th>\n",
       "      <th>month</th>\n",
       "      <th>act_completionTime</th>\n",
       "      <th>startTime_min</th>\n",
       "      <th>completeTime_max</th>\n",
       "      <th>processCompletionTime</th>\n",
       "      <th>next_act_time_diff</th>\n",
       "    </tr>\n",
       "  </thead>\n",
       "  <tbody>\n",
       "    <tr>\n",
       "      <th>0</th>\n",
       "      <td>travel permit 10898</td>\n",
       "      <td>Permit SUBMITTED by EMPLOYEE</td>\n",
       "      <td>2018-09-27 12:35:05</td>\n",
       "      <td>2018-09-27 12:35:05</td>\n",
       "      <td>organizational unit 65458</td>\n",
       "      <td>264.493826</td>\n",
       "      <td>True</td>\n",
       "      <td>347.303505</td>\n",
       "      <td>44.996875</td>\n",
       "      <td>STAFF MEMBER</td>\n",
       "      <td>2018</td>\n",
       "      <td>9</td>\n",
       "      <td>0.0</td>\n",
       "      <td>2018-09-27 12:35:05</td>\n",
       "      <td>2018-11-05 17:31:18</td>\n",
       "      <td>3387373.0</td>\n",
       "      <td>0.0</td>\n",
       "    </tr>\n",
       "    <tr>\n",
       "      <th>1</th>\n",
       "      <td>travel permit 10898</td>\n",
       "      <td>Permit APPROVED by ADMINISTRATION</td>\n",
       "      <td>2018-09-27 12:35:10</td>\n",
       "      <td>2018-09-27 12:35:10</td>\n",
       "      <td>organizational unit 65458</td>\n",
       "      <td>264.493826</td>\n",
       "      <td>True</td>\n",
       "      <td>347.303505</td>\n",
       "      <td>44.996875</td>\n",
       "      <td>STAFF MEMBER</td>\n",
       "      <td>2018</td>\n",
       "      <td>9</td>\n",
       "      <td>0.0</td>\n",
       "      <td>2018-09-27 12:35:05</td>\n",
       "      <td>2018-11-05 17:31:18</td>\n",
       "      <td>3387373.0</td>\n",
       "      <td>5.0</td>\n",
       "    </tr>\n",
       "    <tr>\n",
       "      <th>2</th>\n",
       "      <td>travel permit 10898</td>\n",
       "      <td>Permit FINAL_APPROVED by SUPERVISOR</td>\n",
       "      <td>2018-09-28 15:45:28</td>\n",
       "      <td>2018-09-28 15:45:28</td>\n",
       "      <td>organizational unit 65458</td>\n",
       "      <td>264.493826</td>\n",
       "      <td>True</td>\n",
       "      <td>347.303505</td>\n",
       "      <td>44.996875</td>\n",
       "      <td>STAFF MEMBER</td>\n",
       "      <td>2018</td>\n",
       "      <td>9</td>\n",
       "      <td>0.0</td>\n",
       "      <td>2018-09-27 12:35:05</td>\n",
       "      <td>2018-11-05 17:31:18</td>\n",
       "      <td>3387373.0</td>\n",
       "      <td>97818.0</td>\n",
       "    </tr>\n",
       "    <tr>\n",
       "      <th>3</th>\n",
       "      <td>travel permit 10898</td>\n",
       "      <td>Start trip</td>\n",
       "      <td>2018-10-08 00:00:00</td>\n",
       "      <td>2018-10-08 00:00:00</td>\n",
       "      <td>organizational unit 65458</td>\n",
       "      <td>264.493826</td>\n",
       "      <td>True</td>\n",
       "      <td>347.303505</td>\n",
       "      <td>44.996875</td>\n",
       "      <td>STAFF MEMBER</td>\n",
       "      <td>2018</td>\n",
       "      <td>10</td>\n",
       "      <td>0.0</td>\n",
       "      <td>2018-09-27 12:35:05</td>\n",
       "      <td>2018-11-05 17:31:18</td>\n",
       "      <td>3387373.0</td>\n",
       "      <td>807272.0</td>\n",
       "    </tr>\n",
       "    <tr>\n",
       "      <th>4</th>\n",
       "      <td>travel permit 10898</td>\n",
       "      <td>End trip</td>\n",
       "      <td>2018-10-12 00:00:00</td>\n",
       "      <td>2018-10-12 00:00:00</td>\n",
       "      <td>organizational unit 65458</td>\n",
       "      <td>264.493826</td>\n",
       "      <td>True</td>\n",
       "      <td>347.303505</td>\n",
       "      <td>44.996875</td>\n",
       "      <td>STAFF MEMBER</td>\n",
       "      <td>2018</td>\n",
       "      <td>10</td>\n",
       "      <td>0.0</td>\n",
       "      <td>2018-09-27 12:35:05</td>\n",
       "      <td>2018-11-05 17:31:18</td>\n",
       "      <td>3387373.0</td>\n",
       "      <td>345600.0</td>\n",
       "    </tr>\n",
       "  </tbody>\n",
       "</table>\n",
       "</div>"
      ],
      "text/plain": [
       "                  case                                event  \\\n",
       "0  travel permit 10898         Permit SUBMITTED by EMPLOYEE   \n",
       "1  travel permit 10898    Permit APPROVED by ADMINISTRATION   \n",
       "2  travel permit 10898  Permit FINAL_APPROVED by SUPERVISOR   \n",
       "3  travel permit 10898                           Start trip   \n",
       "4  travel permit 10898                             End trip   \n",
       "\n",
       "            startTime        completeTime       OrganizationalEntity  \\\n",
       "0 2018-09-27 12:35:05 2018-09-27 12:35:05  organizational unit 65458   \n",
       "1 2018-09-27 12:35:10 2018-09-27 12:35:10  organizational unit 65458   \n",
       "2 2018-09-28 15:45:28 2018-09-28 15:45:28  organizational unit 65458   \n",
       "3 2018-10-08 00:00:00 2018-10-08 00:00:00  organizational unit 65458   \n",
       "4 2018-10-12 00:00:00 2018-10-12 00:00:00  organizational unit 65458   \n",
       "\n",
       "  TotalDeclared Overspent RequestedBudget OverspentAmount  org:resource  year  \\\n",
       "0    264.493826      True      347.303505       44.996875  STAFF MEMBER  2018   \n",
       "1    264.493826      True      347.303505       44.996875  STAFF MEMBER  2018   \n",
       "2    264.493826      True      347.303505       44.996875  STAFF MEMBER  2018   \n",
       "3    264.493826      True      347.303505       44.996875  STAFF MEMBER  2018   \n",
       "4    264.493826      True      347.303505       44.996875  STAFF MEMBER  2018   \n",
       "\n",
       "   month  act_completionTime       startTime_min    completeTime_max  \\\n",
       "0      9                 0.0 2018-09-27 12:35:05 2018-11-05 17:31:18   \n",
       "1      9                 0.0 2018-09-27 12:35:05 2018-11-05 17:31:18   \n",
       "2      9                 0.0 2018-09-27 12:35:05 2018-11-05 17:31:18   \n",
       "3     10                 0.0 2018-09-27 12:35:05 2018-11-05 17:31:18   \n",
       "4     10                 0.0 2018-09-27 12:35:05 2018-11-05 17:31:18   \n",
       "\n",
       "   processCompletionTime  next_act_time_diff  \n",
       "0              3387373.0                 0.0  \n",
       "1              3387373.0                 5.0  \n",
       "2              3387373.0             97818.0  \n",
       "3              3387373.0            807272.0  \n",
       "4              3387373.0            345600.0  "
      ]
     },
     "execution_count": 412,
     "metadata": {},
     "output_type": "execute_result"
    }
   ],
   "source": [
    "permits.head()"
   ]
  },
  {
   "cell_type": "markdown",
   "metadata": {},
   "source": [
    "### Adding some stastitics features in event log using pm4py"
   ]
  },
  {
   "cell_type": "code",
   "execution_count": 413,
   "metadata": {},
   "outputs": [],
   "source": [
    "# converting dataframe to event log\n",
    "trace_log = pm4py.format_dataframe(permits, case_id='case', activity_key='event', timestamp_key='completeTime', start_timestamp_key='startTime')\n",
    "trace_log = pm4py.convert_to_event_log(trace_log)"
   ]
  },
  {
   "cell_type": "code",
   "execution_count": 414,
   "metadata": {},
   "outputs": [],
   "source": [
    "# adding lead and waiting time\n",
    "# @@approx_bh_partial_lead_time\tIncremental lead time associated to the event\n",
    "# @@approx_bh_overall_wasted_time\tDifference between the partial lead time and the partial cycle time values (for us same as above, as no cylce time for us)\n",
    "# @@approx_bh_this_wasted_time\tWasted time ONLY with regards to the activity described by the ‘interval’ even (time difference between activities)\n",
    "\n",
    "trace_log = interval_lifecycle.assign_lead_cycle_time(trace_log)"
   ]
  },
  {
   "cell_type": "code",
   "execution_count": 415,
   "metadata": {},
   "outputs": [
    {
     "data": {
      "text/plain": [
       "{'Permit SUBMITTED by EMPLOYEE': 0.0,\n",
       " 'Permit APPROVED by ADMINISTRATION': 0.0,\n",
       " 'Permit FINAL_APPROVED by SUPERVISOR': 0.0,\n",
       " 'Start trip': 0.0,\n",
       " 'End trip': 0.0,\n",
       " 'Declaration SUBMITTED by EMPLOYEE': 0.0,\n",
       " 'Declaration APPROVED by ADMINISTRATION': 0.0,\n",
       " 'Declaration FINAL_APPROVED by SUPERVISOR': 0.0,\n",
       " 'Request Payment': 0.0,\n",
       " 'Payment Handled': 0.0,\n",
       " 'Permit APPROVED by BUDGET OWNER': 0.0,\n",
       " 'Declaration APPROVED by BUDGET OWNER': 0.0,\n",
       " 'Declaration REJECTED by ADMINISTRATION': 0.0,\n",
       " 'Declaration REJECTED by EMPLOYEE': 0.0,\n",
       " 'Permit APPROVED by SUPERVISOR': 0.0,\n",
       " 'Permit FINAL_APPROVED by DIRECTOR': 0.0,\n",
       " 'Declaration APPROVED by SUPERVISOR': 0.0,\n",
       " 'Declaration FINAL_APPROVED by DIRECTOR': 0.0,\n",
       " 'Send Reminder': 0.0}"
      ]
     },
     "execution_count": 415,
     "metadata": {},
     "output_type": "execute_result"
    }
   ],
   "source": [
    "# time taken to start and end the activity\n",
    "# found all zero based on data so nothing to add\n",
    "soj_time = soj_time_get.apply(trace_log, parameters={soj_time_get.Parameters.TIMESTAMP_KEY: \"time:timestamp\", soj_time_get.Parameters.START_TIMESTAMP_KEY: \"startTime\"})\n",
    "soj_time"
   ]
  },
  {
   "cell_type": "markdown",
   "metadata": {},
   "source": [
    "# Extracting target variable"
   ]
  },
  {
   "cell_type": "code",
   "execution_count": 416,
   "metadata": {},
   "outputs": [
    {
     "data": {
      "text/plain": [
       "[0, 0, 0, 0, 0, 0, 0, 1, 0, 0, 0, 0, 0, 0, 1, 0, 0, 0, 0, 0]"
      ]
     },
     "execution_count": 416,
     "metadata": {},
     "output_type": "execute_result"
    }
   ],
   "source": [
    "declerations = [len(list(filter(lambda e: e[\"concept:name\"] == (\"Declaration REJECTED by EMPLOYEE\" or \"Declaration REJECTED by MISSING\") ,trace))) > 0 for trace in trace_log]\n",
    "declerations = [1 if dec != False else 0 for dec in declerations]\n",
    "declerations[:20]"
   ]
  },
  {
   "cell_type": "code",
   "execution_count": 417,
   "metadata": {},
   "outputs": [
    {
     "name": "stdout",
     "output_type": "stream",
     "text": [
      "460\n"
     ]
    }
   ],
   "source": [
    "print(len(declerations))"
   ]
  },
  {
   "cell_type": "markdown",
   "metadata": {},
   "source": [
    "# Extracting Prefix "
   ]
  },
  {
   "cell_type": "code",
   "execution_count": 418,
   "metadata": {},
   "outputs": [],
   "source": [
    "# to extract only traces till the point decleration is rejected\n",
    "prefix_traces = []\n",
    "for trace in trace_log:\n",
    "    for i,event in enumerate(trace):\n",
    "        if \"Declaration REJECTED\" in event['event']:\n",
    "            break\n",
    "    prefix_traces.append(Trace(trace[:i], attributes = trace.attributes))\n",
    "prefix_traces = EventLog(prefix_traces)"
   ]
  },
  {
   "cell_type": "code",
   "execution_count": 419,
   "metadata": {},
   "outputs": [
    {
     "name": "stdout",
     "output_type": "stream",
     "text": [
      "['Permit SUBMITTED by EMPLOYEE', 'Permit APPROVED by ADMINISTRATION', 'Permit APPROVED by BUDGET OWNER', 'Permit FINAL_APPROVED by SUPERVISOR', 'Start trip', 'End trip', 'Declaration SUBMITTED by EMPLOYEE', 'Declaration APPROVED by ADMINISTRATION', 'Declaration APPROVED by BUDGET OWNER', 'Declaration FINAL_APPROVED by SUPERVISOR', 'Request Payment']\n"
     ]
    }
   ],
   "source": [
    "# check if all good\n",
    "project_nth(prefix_traces, 3)"
   ]
  },
  {
   "cell_type": "code",
   "execution_count": 420,
   "metadata": {},
   "outputs": [],
   "source": [
    "# generate prefixes, note that we need to add the casts to EventLog and Trace to make sure that the result is a PM4Py EventLog object\n",
    "trace_prefixes = EventLog([Trace(trace[0:t_length], attributes = trace.attributes) for trace in trace_log])"
   ]
  },
  {
   "cell_type": "code",
   "execution_count": 421,
   "metadata": {},
   "outputs": [
    {
     "name": "stdout",
     "output_type": "stream",
     "text": [
      "[10, 10, 10, 12, 10, 10, 10, 13, 10, 12, 12, 10, 10, 10, 13]\n",
      "[4, 4, 4, 4, 4, 4, 4, 4, 4, 4, 4, 4, 4, 4, 4]\n"
     ]
    }
   ],
   "source": [
    "# check the trace length\n",
    "print([len(trace) for trace in trace_log][0:15])\n",
    "print([len(trace) for trace in trace_prefixes][0:15])"
   ]
  },
  {
   "cell_type": "code",
   "execution_count": 422,
   "metadata": {},
   "outputs": [
    {
     "name": "stdout",
     "output_type": "stream",
     "text": [
      "['Permit SUBMITTED by EMPLOYEE', 'Permit APPROVED by ADMINISTRATION', 'Start trip', 'End trip']\n"
     ]
    }
   ],
   "source": [
    "# check if all good\n",
    "project_nth(trace_prefixes, 98)"
   ]
  },
  {
   "cell_type": "code",
   "execution_count": 423,
   "metadata": {},
   "outputs": [],
   "source": [
    "# to check which traces are not of our desired length (these will be padded while preparing the the training data)\n",
    "for i,trace in enumerate(trace_prefixes):\n",
    "    if len(trace)!=t_length:\n",
    "        print(i, len(trace))\n",
    "        break"
   ]
  },
  {
   "cell_type": "code",
   "execution_count": 424,
   "metadata": {},
   "outputs": [
    {
     "data": {
      "text/html": [
       "<div>\n",
       "<style scoped>\n",
       "    .dataframe tbody tr th:only-of-type {\n",
       "        vertical-align: middle;\n",
       "    }\n",
       "\n",
       "    .dataframe tbody tr th {\n",
       "        vertical-align: top;\n",
       "    }\n",
       "\n",
       "    .dataframe thead th {\n",
       "        text-align: right;\n",
       "    }\n",
       "</style>\n",
       "<table border=\"1\" class=\"dataframe\">\n",
       "  <thead>\n",
       "    <tr style=\"text-align: right;\">\n",
       "      <th></th>\n",
       "      <th>case</th>\n",
       "      <th>event</th>\n",
       "      <th>startTime</th>\n",
       "      <th>completeTime</th>\n",
       "      <th>OrganizationalEntity</th>\n",
       "      <th>TotalDeclared</th>\n",
       "      <th>Overspent</th>\n",
       "      <th>RequestedBudget</th>\n",
       "      <th>OverspentAmount</th>\n",
       "      <th>org:resource</th>\n",
       "      <th>...</th>\n",
       "      <th>time:timestamp</th>\n",
       "      <th>@@index</th>\n",
       "      <th>@@case_index</th>\n",
       "      <th>start_timestamp</th>\n",
       "      <th>@@approx_bh_partial_cycle_time</th>\n",
       "      <th>@@approx_bh_partial_lead_time</th>\n",
       "      <th>@@approx_bh_overall_wasted_time</th>\n",
       "      <th>@@approx_bh_this_wasted_time</th>\n",
       "      <th>@approx_bh_ratio_cycle_lead_time</th>\n",
       "      <th>case:concept:name</th>\n",
       "    </tr>\n",
       "  </thead>\n",
       "  <tbody>\n",
       "    <tr>\n",
       "      <th>0</th>\n",
       "      <td>travel permit 10898</td>\n",
       "      <td>Permit SUBMITTED by EMPLOYEE</td>\n",
       "      <td>2018-09-27 12:35:05</td>\n",
       "      <td>2018-09-27 12:35:05</td>\n",
       "      <td>organizational unit 65458</td>\n",
       "      <td>1970-01-01 00:00:00.000000264+00:00</td>\n",
       "      <td>True</td>\n",
       "      <td>1970-01-01 00:00:00.000000347+00:00</td>\n",
       "      <td>1970-01-01 00:00:00.000000044+00:00</td>\n",
       "      <td>STAFF MEMBER</td>\n",
       "      <td>...</td>\n",
       "      <td>2018-09-27 12:35:05</td>\n",
       "      <td>0</td>\n",
       "      <td>0</td>\n",
       "      <td>2018-09-27 12:35:05</td>\n",
       "      <td>0.0</td>\n",
       "      <td>0.0</td>\n",
       "      <td>0.0</td>\n",
       "      <td>0.0</td>\n",
       "      <td>1.0</td>\n",
       "      <td>travel permit 10898</td>\n",
       "    </tr>\n",
       "    <tr>\n",
       "      <th>1</th>\n",
       "      <td>travel permit 10898</td>\n",
       "      <td>Permit APPROVED by ADMINISTRATION</td>\n",
       "      <td>2018-09-27 12:35:10</td>\n",
       "      <td>2018-09-27 12:35:10</td>\n",
       "      <td>organizational unit 65458</td>\n",
       "      <td>1970-01-01 00:00:00.000000264+00:00</td>\n",
       "      <td>True</td>\n",
       "      <td>1970-01-01 00:00:00.000000347+00:00</td>\n",
       "      <td>1970-01-01 00:00:00.000000044+00:00</td>\n",
       "      <td>STAFF MEMBER</td>\n",
       "      <td>...</td>\n",
       "      <td>2018-09-27 12:35:10</td>\n",
       "      <td>1</td>\n",
       "      <td>0</td>\n",
       "      <td>2018-09-27 12:35:10</td>\n",
       "      <td>0.0</td>\n",
       "      <td>5.0</td>\n",
       "      <td>5.0</td>\n",
       "      <td>5.0</td>\n",
       "      <td>0.0</td>\n",
       "      <td>travel permit 10898</td>\n",
       "    </tr>\n",
       "    <tr>\n",
       "      <th>2</th>\n",
       "      <td>travel permit 10898</td>\n",
       "      <td>Permit FINAL_APPROVED by SUPERVISOR</td>\n",
       "      <td>2018-09-28 15:45:28</td>\n",
       "      <td>2018-09-28 15:45:28</td>\n",
       "      <td>organizational unit 65458</td>\n",
       "      <td>1970-01-01 00:00:00.000000264+00:00</td>\n",
       "      <td>True</td>\n",
       "      <td>1970-01-01 00:00:00.000000347+00:00</td>\n",
       "      <td>1970-01-01 00:00:00.000000044+00:00</td>\n",
       "      <td>STAFF MEMBER</td>\n",
       "      <td>...</td>\n",
       "      <td>2018-09-28 15:45:28</td>\n",
       "      <td>2</td>\n",
       "      <td>0</td>\n",
       "      <td>2018-09-28 15:45:28</td>\n",
       "      <td>0.0</td>\n",
       "      <td>47423.0</td>\n",
       "      <td>47423.0</td>\n",
       "      <td>47418.0</td>\n",
       "      <td>0.0</td>\n",
       "      <td>travel permit 10898</td>\n",
       "    </tr>\n",
       "    <tr>\n",
       "      <th>3</th>\n",
       "      <td>travel permit 10898</td>\n",
       "      <td>Start trip</td>\n",
       "      <td>2018-10-08 00:00:00</td>\n",
       "      <td>2018-10-08 00:00:00</td>\n",
       "      <td>organizational unit 65458</td>\n",
       "      <td>1970-01-01 00:00:00.000000264+00:00</td>\n",
       "      <td>True</td>\n",
       "      <td>1970-01-01 00:00:00.000000347+00:00</td>\n",
       "      <td>1970-01-01 00:00:00.000000044+00:00</td>\n",
       "      <td>STAFF MEMBER</td>\n",
       "      <td>...</td>\n",
       "      <td>2018-10-08 00:00:00</td>\n",
       "      <td>3</td>\n",
       "      <td>0</td>\n",
       "      <td>2018-10-08 00:00:00</td>\n",
       "      <td>0.0</td>\n",
       "      <td>231895.0</td>\n",
       "      <td>231895.0</td>\n",
       "      <td>184472.0</td>\n",
       "      <td>0.0</td>\n",
       "      <td>travel permit 10898</td>\n",
       "    </tr>\n",
       "    <tr>\n",
       "      <th>4</th>\n",
       "      <td>travel permit 11220</td>\n",
       "      <td>Permit SUBMITTED by EMPLOYEE</td>\n",
       "      <td>2018-10-04 14:04:31</td>\n",
       "      <td>2018-10-04 14:04:31</td>\n",
       "      <td>organizational unit 65464</td>\n",
       "      <td>1970-01-01 00:00:00.000000264+00:00</td>\n",
       "      <td>False</td>\n",
       "      <td>1970-01-01 00:00:00.000000334+00:00</td>\n",
       "      <td>1969-12-31 23:59:59.999999907+00:00</td>\n",
       "      <td>STAFF MEMBER</td>\n",
       "      <td>...</td>\n",
       "      <td>2018-10-04 14:04:31</td>\n",
       "      <td>10</td>\n",
       "      <td>1</td>\n",
       "      <td>2018-10-04 14:04:31</td>\n",
       "      <td>0.0</td>\n",
       "      <td>0.0</td>\n",
       "      <td>0.0</td>\n",
       "      <td>0.0</td>\n",
       "      <td>1.0</td>\n",
       "      <td>travel permit 11220</td>\n",
       "    </tr>\n",
       "  </tbody>\n",
       "</table>\n",
       "<p>5 rows × 28 columns</p>\n",
       "</div>"
      ],
      "text/plain": [
       "                  case                                event  \\\n",
       "0  travel permit 10898         Permit SUBMITTED by EMPLOYEE   \n",
       "1  travel permit 10898    Permit APPROVED by ADMINISTRATION   \n",
       "2  travel permit 10898  Permit FINAL_APPROVED by SUPERVISOR   \n",
       "3  travel permit 10898                           Start trip   \n",
       "4  travel permit 11220         Permit SUBMITTED by EMPLOYEE   \n",
       "\n",
       "            startTime        completeTime       OrganizationalEntity  \\\n",
       "0 2018-09-27 12:35:05 2018-09-27 12:35:05  organizational unit 65458   \n",
       "1 2018-09-27 12:35:10 2018-09-27 12:35:10  organizational unit 65458   \n",
       "2 2018-09-28 15:45:28 2018-09-28 15:45:28  organizational unit 65458   \n",
       "3 2018-10-08 00:00:00 2018-10-08 00:00:00  organizational unit 65458   \n",
       "4 2018-10-04 14:04:31 2018-10-04 14:04:31  organizational unit 65464   \n",
       "\n",
       "                        TotalDeclared  Overspent  \\\n",
       "0 1970-01-01 00:00:00.000000264+00:00       True   \n",
       "1 1970-01-01 00:00:00.000000264+00:00       True   \n",
       "2 1970-01-01 00:00:00.000000264+00:00       True   \n",
       "3 1970-01-01 00:00:00.000000264+00:00       True   \n",
       "4 1970-01-01 00:00:00.000000264+00:00      False   \n",
       "\n",
       "                      RequestedBudget                     OverspentAmount  \\\n",
       "0 1970-01-01 00:00:00.000000347+00:00 1970-01-01 00:00:00.000000044+00:00   \n",
       "1 1970-01-01 00:00:00.000000347+00:00 1970-01-01 00:00:00.000000044+00:00   \n",
       "2 1970-01-01 00:00:00.000000347+00:00 1970-01-01 00:00:00.000000044+00:00   \n",
       "3 1970-01-01 00:00:00.000000347+00:00 1970-01-01 00:00:00.000000044+00:00   \n",
       "4 1970-01-01 00:00:00.000000334+00:00 1969-12-31 23:59:59.999999907+00:00   \n",
       "\n",
       "   org:resource  ...      time:timestamp  @@index  @@case_index  \\\n",
       "0  STAFF MEMBER  ... 2018-09-27 12:35:05        0             0   \n",
       "1  STAFF MEMBER  ... 2018-09-27 12:35:10        1             0   \n",
       "2  STAFF MEMBER  ... 2018-09-28 15:45:28        2             0   \n",
       "3  STAFF MEMBER  ... 2018-10-08 00:00:00        3             0   \n",
       "4  STAFF MEMBER  ... 2018-10-04 14:04:31       10             1   \n",
       "\n",
       "      start_timestamp @@approx_bh_partial_cycle_time  \\\n",
       "0 2018-09-27 12:35:05                            0.0   \n",
       "1 2018-09-27 12:35:10                            0.0   \n",
       "2 2018-09-28 15:45:28                            0.0   \n",
       "3 2018-10-08 00:00:00                            0.0   \n",
       "4 2018-10-04 14:04:31                            0.0   \n",
       "\n",
       "   @@approx_bh_partial_lead_time  @@approx_bh_overall_wasted_time  \\\n",
       "0                            0.0                              0.0   \n",
       "1                            5.0                              5.0   \n",
       "2                        47423.0                          47423.0   \n",
       "3                       231895.0                         231895.0   \n",
       "4                            0.0                              0.0   \n",
       "\n",
       "  @@approx_bh_this_wasted_time @approx_bh_ratio_cycle_lead_time  \\\n",
       "0                          0.0                              1.0   \n",
       "1                          5.0                              0.0   \n",
       "2                      47418.0                              0.0   \n",
       "3                     184472.0                              0.0   \n",
       "4                          0.0                              1.0   \n",
       "\n",
       "     case:concept:name  \n",
       "0  travel permit 10898  \n",
       "1  travel permit 10898  \n",
       "2  travel permit 10898  \n",
       "3  travel permit 10898  \n",
       "4  travel permit 11220  \n",
       "\n",
       "[5 rows x 28 columns]"
      ]
     },
     "execution_count": 424,
     "metadata": {},
     "output_type": "execute_result"
    }
   ],
   "source": [
    "# convert logs to dataframe\n",
    "df = pm4py.convert_to_dataframe(trace_prefixes)\n",
    "df.head(5)"
   ]
  },
  {
   "cell_type": "markdown",
   "metadata": {},
   "source": [
    "## Feature selection/Filtering (Manual)"
   ]
  },
  {
   "cell_type": "code",
   "execution_count": 425,
   "metadata": {},
   "outputs": [
    {
     "data": {
      "text/html": [
       "<div>\n",
       "<style scoped>\n",
       "    .dataframe tbody tr th:only-of-type {\n",
       "        vertical-align: middle;\n",
       "    }\n",
       "\n",
       "    .dataframe tbody tr th {\n",
       "        vertical-align: top;\n",
       "    }\n",
       "\n",
       "    .dataframe thead th {\n",
       "        text-align: right;\n",
       "    }\n",
       "</style>\n",
       "<table border=\"1\" class=\"dataframe\">\n",
       "  <thead>\n",
       "    <tr style=\"text-align: right;\">\n",
       "      <th></th>\n",
       "      <th>case</th>\n",
       "      <th>event</th>\n",
       "      <th>startTime</th>\n",
       "      <th>completeTime</th>\n",
       "      <th>OrganizationalEntity</th>\n",
       "      <th>TotalDeclared</th>\n",
       "      <th>Overspent</th>\n",
       "      <th>RequestedBudget</th>\n",
       "      <th>OverspentAmount</th>\n",
       "      <th>org:resource</th>\n",
       "      <th>...</th>\n",
       "      <th>time:timestamp</th>\n",
       "      <th>@@index</th>\n",
       "      <th>@@case_index</th>\n",
       "      <th>start_timestamp</th>\n",
       "      <th>@@approx_bh_partial_cycle_time</th>\n",
       "      <th>@@approx_bh_partial_lead_time</th>\n",
       "      <th>@@approx_bh_overall_wasted_time</th>\n",
       "      <th>@@approx_bh_this_wasted_time</th>\n",
       "      <th>@approx_bh_ratio_cycle_lead_time</th>\n",
       "      <th>case:concept:name</th>\n",
       "    </tr>\n",
       "  </thead>\n",
       "  <tbody>\n",
       "    <tr>\n",
       "      <th>0</th>\n",
       "      <td>travel permit 10898</td>\n",
       "      <td>Permit SUBMITTED by EMPLOYEE</td>\n",
       "      <td>2018-09-27 12:35:05</td>\n",
       "      <td>2018-09-27 12:35:05</td>\n",
       "      <td>organizational unit 65458</td>\n",
       "      <td>1970-01-01 00:00:00.000000264+00:00</td>\n",
       "      <td>True</td>\n",
       "      <td>1970-01-01 00:00:00.000000347+00:00</td>\n",
       "      <td>1970-01-01 00:00:00.000000044+00:00</td>\n",
       "      <td>STAFF MEMBER</td>\n",
       "      <td>...</td>\n",
       "      <td>2018-09-27 12:35:05</td>\n",
       "      <td>0</td>\n",
       "      <td>0</td>\n",
       "      <td>2018-09-27 12:35:05</td>\n",
       "      <td>0.0</td>\n",
       "      <td>0.0</td>\n",
       "      <td>0.0</td>\n",
       "      <td>0.0</td>\n",
       "      <td>1.0</td>\n",
       "      <td>travel permit 10898</td>\n",
       "    </tr>\n",
       "    <tr>\n",
       "      <th>1</th>\n",
       "      <td>travel permit 10898</td>\n",
       "      <td>Permit APPROVED by ADMINISTRATION</td>\n",
       "      <td>2018-09-27 12:35:10</td>\n",
       "      <td>2018-09-27 12:35:10</td>\n",
       "      <td>organizational unit 65458</td>\n",
       "      <td>1970-01-01 00:00:00.000000264+00:00</td>\n",
       "      <td>True</td>\n",
       "      <td>1970-01-01 00:00:00.000000347+00:00</td>\n",
       "      <td>1970-01-01 00:00:00.000000044+00:00</td>\n",
       "      <td>STAFF MEMBER</td>\n",
       "      <td>...</td>\n",
       "      <td>2018-09-27 12:35:10</td>\n",
       "      <td>1</td>\n",
       "      <td>0</td>\n",
       "      <td>2018-09-27 12:35:10</td>\n",
       "      <td>0.0</td>\n",
       "      <td>5.0</td>\n",
       "      <td>5.0</td>\n",
       "      <td>5.0</td>\n",
       "      <td>0.0</td>\n",
       "      <td>travel permit 10898</td>\n",
       "    </tr>\n",
       "    <tr>\n",
       "      <th>2</th>\n",
       "      <td>travel permit 10898</td>\n",
       "      <td>Permit FINAL_APPROVED by SUPERVISOR</td>\n",
       "      <td>2018-09-28 15:45:28</td>\n",
       "      <td>2018-09-28 15:45:28</td>\n",
       "      <td>organizational unit 65458</td>\n",
       "      <td>1970-01-01 00:00:00.000000264+00:00</td>\n",
       "      <td>True</td>\n",
       "      <td>1970-01-01 00:00:00.000000347+00:00</td>\n",
       "      <td>1970-01-01 00:00:00.000000044+00:00</td>\n",
       "      <td>STAFF MEMBER</td>\n",
       "      <td>...</td>\n",
       "      <td>2018-09-28 15:45:28</td>\n",
       "      <td>2</td>\n",
       "      <td>0</td>\n",
       "      <td>2018-09-28 15:45:28</td>\n",
       "      <td>0.0</td>\n",
       "      <td>47423.0</td>\n",
       "      <td>47423.0</td>\n",
       "      <td>47418.0</td>\n",
       "      <td>0.0</td>\n",
       "      <td>travel permit 10898</td>\n",
       "    </tr>\n",
       "    <tr>\n",
       "      <th>3</th>\n",
       "      <td>travel permit 10898</td>\n",
       "      <td>Start trip</td>\n",
       "      <td>2018-10-08 00:00:00</td>\n",
       "      <td>2018-10-08 00:00:00</td>\n",
       "      <td>organizational unit 65458</td>\n",
       "      <td>1970-01-01 00:00:00.000000264+00:00</td>\n",
       "      <td>True</td>\n",
       "      <td>1970-01-01 00:00:00.000000347+00:00</td>\n",
       "      <td>1970-01-01 00:00:00.000000044+00:00</td>\n",
       "      <td>STAFF MEMBER</td>\n",
       "      <td>...</td>\n",
       "      <td>2018-10-08 00:00:00</td>\n",
       "      <td>3</td>\n",
       "      <td>0</td>\n",
       "      <td>2018-10-08 00:00:00</td>\n",
       "      <td>0.0</td>\n",
       "      <td>231895.0</td>\n",
       "      <td>231895.0</td>\n",
       "      <td>184472.0</td>\n",
       "      <td>0.0</td>\n",
       "      <td>travel permit 10898</td>\n",
       "    </tr>\n",
       "    <tr>\n",
       "      <th>4</th>\n",
       "      <td>travel permit 11220</td>\n",
       "      <td>Permit SUBMITTED by EMPLOYEE</td>\n",
       "      <td>2018-10-04 14:04:31</td>\n",
       "      <td>2018-10-04 14:04:31</td>\n",
       "      <td>organizational unit 65464</td>\n",
       "      <td>1970-01-01 00:00:00.000000264+00:00</td>\n",
       "      <td>False</td>\n",
       "      <td>1970-01-01 00:00:00.000000334+00:00</td>\n",
       "      <td>1969-12-31 23:59:59.999999907+00:00</td>\n",
       "      <td>STAFF MEMBER</td>\n",
       "      <td>...</td>\n",
       "      <td>2018-10-04 14:04:31</td>\n",
       "      <td>10</td>\n",
       "      <td>1</td>\n",
       "      <td>2018-10-04 14:04:31</td>\n",
       "      <td>0.0</td>\n",
       "      <td>0.0</td>\n",
       "      <td>0.0</td>\n",
       "      <td>0.0</td>\n",
       "      <td>1.0</td>\n",
       "      <td>travel permit 11220</td>\n",
       "    </tr>\n",
       "  </tbody>\n",
       "</table>\n",
       "<p>5 rows × 28 columns</p>\n",
       "</div>"
      ],
      "text/plain": [
       "                  case                                event  \\\n",
       "0  travel permit 10898         Permit SUBMITTED by EMPLOYEE   \n",
       "1  travel permit 10898    Permit APPROVED by ADMINISTRATION   \n",
       "2  travel permit 10898  Permit FINAL_APPROVED by SUPERVISOR   \n",
       "3  travel permit 10898                           Start trip   \n",
       "4  travel permit 11220         Permit SUBMITTED by EMPLOYEE   \n",
       "\n",
       "            startTime        completeTime       OrganizationalEntity  \\\n",
       "0 2018-09-27 12:35:05 2018-09-27 12:35:05  organizational unit 65458   \n",
       "1 2018-09-27 12:35:10 2018-09-27 12:35:10  organizational unit 65458   \n",
       "2 2018-09-28 15:45:28 2018-09-28 15:45:28  organizational unit 65458   \n",
       "3 2018-10-08 00:00:00 2018-10-08 00:00:00  organizational unit 65458   \n",
       "4 2018-10-04 14:04:31 2018-10-04 14:04:31  organizational unit 65464   \n",
       "\n",
       "                        TotalDeclared  Overspent  \\\n",
       "0 1970-01-01 00:00:00.000000264+00:00       True   \n",
       "1 1970-01-01 00:00:00.000000264+00:00       True   \n",
       "2 1970-01-01 00:00:00.000000264+00:00       True   \n",
       "3 1970-01-01 00:00:00.000000264+00:00       True   \n",
       "4 1970-01-01 00:00:00.000000264+00:00      False   \n",
       "\n",
       "                      RequestedBudget                     OverspentAmount  \\\n",
       "0 1970-01-01 00:00:00.000000347+00:00 1970-01-01 00:00:00.000000044+00:00   \n",
       "1 1970-01-01 00:00:00.000000347+00:00 1970-01-01 00:00:00.000000044+00:00   \n",
       "2 1970-01-01 00:00:00.000000347+00:00 1970-01-01 00:00:00.000000044+00:00   \n",
       "3 1970-01-01 00:00:00.000000347+00:00 1970-01-01 00:00:00.000000044+00:00   \n",
       "4 1970-01-01 00:00:00.000000334+00:00 1969-12-31 23:59:59.999999907+00:00   \n",
       "\n",
       "   org:resource  ...      time:timestamp  @@index  @@case_index  \\\n",
       "0  STAFF MEMBER  ... 2018-09-27 12:35:05        0             0   \n",
       "1  STAFF MEMBER  ... 2018-09-27 12:35:10        1             0   \n",
       "2  STAFF MEMBER  ... 2018-09-28 15:45:28        2             0   \n",
       "3  STAFF MEMBER  ... 2018-10-08 00:00:00        3             0   \n",
       "4  STAFF MEMBER  ... 2018-10-04 14:04:31       10             1   \n",
       "\n",
       "      start_timestamp @@approx_bh_partial_cycle_time  \\\n",
       "0 2018-09-27 12:35:05                            0.0   \n",
       "1 2018-09-27 12:35:10                            0.0   \n",
       "2 2018-09-28 15:45:28                            0.0   \n",
       "3 2018-10-08 00:00:00                            0.0   \n",
       "4 2018-10-04 14:04:31                            0.0   \n",
       "\n",
       "   @@approx_bh_partial_lead_time  @@approx_bh_overall_wasted_time  \\\n",
       "0                            0.0                              0.0   \n",
       "1                            5.0                              5.0   \n",
       "2                        47423.0                          47423.0   \n",
       "3                       231895.0                         231895.0   \n",
       "4                            0.0                              0.0   \n",
       "\n",
       "  @@approx_bh_this_wasted_time @approx_bh_ratio_cycle_lead_time  \\\n",
       "0                          0.0                              1.0   \n",
       "1                          5.0                              0.0   \n",
       "2                      47418.0                              0.0   \n",
       "3                     184472.0                              0.0   \n",
       "4                          0.0                              1.0   \n",
       "\n",
       "     case:concept:name  \n",
       "0  travel permit 10898  \n",
       "1  travel permit 10898  \n",
       "2  travel permit 10898  \n",
       "3  travel permit 10898  \n",
       "4  travel permit 11220  \n",
       "\n",
       "[5 rows x 28 columns]"
      ]
     },
     "execution_count": 425,
     "metadata": {},
     "output_type": "execute_result"
    }
   ],
   "source": [
    "# convert logs to dataframe\n",
    "df = pm4py.convert_to_dataframe(trace_prefixes)\n",
    "df.head(5)"
   ]
  },
  {
   "cell_type": "code",
   "execution_count": 426,
   "metadata": {},
   "outputs": [
    {
     "data": {
      "text/plain": [
       "Index(['case', 'event', 'startTime', 'completeTime', 'OrganizationalEntity',\n",
       "       'TotalDeclared', 'Overspent', 'RequestedBudget', 'OverspentAmount',\n",
       "       'org:resource', 'year', 'month', 'act_completionTime', 'startTime_min',\n",
       "       'completeTime_max', 'processCompletionTime', 'next_act_time_diff',\n",
       "       'concept:name', 'time:timestamp', '@@index', '@@case_index',\n",
       "       'start_timestamp', '@@approx_bh_partial_cycle_time',\n",
       "       '@@approx_bh_partial_lead_time', '@@approx_bh_overall_wasted_time',\n",
       "       '@@approx_bh_this_wasted_time', '@approx_bh_ratio_cycle_lead_time',\n",
       "       'case:concept:name'],\n",
       "      dtype='object')"
      ]
     },
     "execution_count": 426,
     "metadata": {},
     "output_type": "execute_result"
    }
   ],
   "source": [
    "df.columns"
   ]
  },
  {
   "cell_type": "code",
   "execution_count": 427,
   "metadata": {},
   "outputs": [],
   "source": [
    "# passed features we want to extract\n",
    "\n",
    "# str_ev_attr\tString attributes at the event level: these are hot-encoded into features that may assume value 0 or value 1.\n",
    "# str_tr_attr\tString attributes at the trace level: these are hot-encoded into features that may assume value 0 or value 1.\n",
    "# num_ev_attr\tNumeric attributes at the event level: these are encoded by including the last value of the attribute among the events of the trace.\n",
    "# num_tr_attr\tNumeric attributes at trace level: these are encoded by including the numerical value.\n",
    "# str_evsucc_attr\tSuccessions related to the string attributes values at the event level: for example, if we have a trace [A,B,C], it might be important to include not only the presence of the single values A, B and C as features; but also the presence of the directly-follows couples (A,B) and (B,C).\n",
    "# ================================================\n",
    "\n",
    "str_ev_attr = ['concept:name','org:resource']\n",
    "str_tr_attr = ['OrganizationalEntity','month']\n",
    "num_ev_attr = ['@@approx_bh_partial_lead_time','@@approx_bh_this_wasted_time']\n",
    "num_tr_attr = []"
   ]
  },
  {
   "cell_type": "markdown",
   "metadata": {},
   "source": [
    "## Boolean encoding\n",
    "\n",
    "- can be easily extended with adding more attributes of traces other then activities, but for now kept it simple and as discussed in course"
   ]
  },
  {
   "cell_type": "code",
   "execution_count": 428,
   "metadata": {},
   "outputs": [],
   "source": [
    "encode_name = 'boolean_encode_'\n",
    "save_path = save_path_base + encode_name + 'train' +'_trace_len_'+str(t_length)+ '.pickle'\n",
    "loaded_data = load_data(save_path)\n",
    "ohe_dict = loaded_data['feature_names']"
   ]
  },
  {
   "cell_type": "code",
   "execution_count": 429,
   "metadata": {},
   "outputs": [],
   "source": [
    "data = []\n",
    "\n",
    "for id, group in df.groupby(['case:concept:name']):\n",
    "    feature_vec = []\n",
    "\n",
    "    # add categorical and numerical event attributes\n",
    "    for cat_atr in str_ev_attr[:1]:\n",
    "        attr_length = len(list(ohe_dict[cat_atr].values())[0])\n",
    "        str_ev_vec = np.array([0]*attr_length)\n",
    "\n",
    "        for ca in group[cat_atr]:\n",
    "            str_ev_vec  = str_ev_vec + np.array(ohe_dict[cat_atr][ca])\n",
    "\n",
    "        # make it a non frequency vector (if count is greater then 1 make it 1)\n",
    "        for i,num in enumerate(str_ev_vec):\n",
    "            if num>1:\n",
    "                str_ev_vec[i]=1\n",
    "\n",
    "        feature_vec.extend(list(str_ev_vec))\n",
    "\n",
    "    data.append(feature_vec)\n",
    "\n",
    "    # data.append(feature_vec)"
   ]
  },
  {
   "cell_type": "code",
   "execution_count": 430,
   "metadata": {},
   "outputs": [],
   "source": [
    "encode_name = 'boolean_encode_'\n",
    "save_path = save_path_base + encode_name + df_type +'_trace_len_'+str(t_length)+ '.pickle'\n",
    "save_data(data, declerations, ohe_dict ,save_path)"
   ]
  },
  {
   "cell_type": "markdown",
   "metadata": {},
   "source": [
    "## Frequency encoding"
   ]
  },
  {
   "cell_type": "code",
   "execution_count": 431,
   "metadata": {},
   "outputs": [],
   "source": [
    "encode_name = 'frequency_encode_'\n",
    "save_path = save_path_base + encode_name + 'train' +'_trace_len_'+str(t_length)+ '.pickle'\n",
    "loaded_data = load_data(save_path)\n",
    "ohe_dict = loaded_data['feature_names']"
   ]
  },
  {
   "cell_type": "code",
   "execution_count": 432,
   "metadata": {},
   "outputs": [],
   "source": [
    "data = []\n",
    "\n",
    "for id, group in df.groupby(['case:concept:name']):\n",
    "    feature_vec = []\n",
    "\n",
    "    # add categorical and numerical event attributes\n",
    "    for cat_atr in str_ev_attr[:1]:\n",
    "        attr_length = len(list(ohe_dict[cat_atr].values())[0])\n",
    "        str_ev_vec = np.array([0]*attr_length)\n",
    "\n",
    "        for ca in group[cat_atr]:\n",
    "            str_ev_vec  = str_ev_vec + np.array(ohe_dict[cat_atr][ca])\n",
    "\n",
    "        feature_vec.extend(list(str_ev_vec))\n",
    "\n",
    "    data.append(feature_vec)\n",
    "\n",
    "    # data.append(feature_vec)"
   ]
  },
  {
   "cell_type": "code",
   "execution_count": 433,
   "metadata": {},
   "outputs": [],
   "source": [
    "# save results\n",
    "encode_name = 'frequency_encode_'\n",
    "save_path = save_path_base + encode_name + df_type +'_trace_len_'+str(t_length)+ '.pickle'\n",
    "save_data(data, declerations, ohe_dict ,save_path)"
   ]
  },
  {
   "cell_type": "markdown",
   "metadata": {},
   "source": [
    "## Complex index based encoding - static feature (trace attributes) + n events encoding + event features"
   ]
  },
  {
   "cell_type": "code",
   "execution_count": 434,
   "metadata": {},
   "outputs": [],
   "source": [
    "encode_name = 'complex_index_encode_'\n",
    "save_path = save_path_base + encode_name + 'train' +'_trace_len_'+str(t_length)+ '.pickle'\n",
    "loaded_data = load_data(save_path)\n",
    "ohe_dict = loaded_data['feature_names']"
   ]
  },
  {
   "cell_type": "code",
   "execution_count": 435,
   "metadata": {},
   "outputs": [],
   "source": [
    "data = []\n",
    "\n",
    "for id, group in df.groupby(['case:concept:name']):\n",
    "    feature_vec = []\n",
    "\n",
    "    # add categorical and numerical event attributes along with paddings \n",
    "\n",
    "    for cat_atr in str_ev_attr:\n",
    "        str_ev_vec = []\n",
    "        attr_length = len(list(ohe_dict[cat_atr].values())[0])\n",
    "        for ca in group[cat_atr]:\n",
    "            str_ev_vec.append(ohe_dict[cat_atr][ca])\n",
    "        \n",
    "        # padding\n",
    "        str_ev_vec = cat_padding(str_ev_vec, t_length, attr_length)\n",
    "        feature_vec.extend(str_ev_vec)\n",
    "\n",
    "\n",
    "    for num_atr in num_ev_attr:\n",
    "        num_ev_vec = []\n",
    "        num_ev_vec.append(list(group[num_atr]))\n",
    "\n",
    "        # padding\n",
    "        num_ev_vec = num_padding(num_ev_vec, t_length)\n",
    "        feature_vec.extend(num_ev_vec)\n",
    "\n",
    "\n",
    "\n",
    "    # add categorical and numerical trace attributes\n",
    "    for num_t_atr in num_tr_attr:\n",
    "        feature_vec.extend(group[num_t_atr].iloc[0])\n",
    "\n",
    "\n",
    "    for cat_t_atr in str_tr_attr:\n",
    "        feature_vec.extend(ohe_dict[cat_t_atr][group[cat_t_atr].iloc[0]])\n",
    "\n",
    "    # add vector to data\n",
    "    data.append(feature_vec)\n"
   ]
  },
  {
   "cell_type": "code",
   "execution_count": 436,
   "metadata": {},
   "outputs": [],
   "source": [
    "# check if all vector lengths are same \n",
    "vec_len = len(data[0])\n",
    "\n",
    "for i, d in enumerate(data):\n",
    "    if len(d)!=vec_len:\n",
    "        print(i, len(d))"
   ]
  },
  {
   "cell_type": "code",
   "execution_count": 437,
   "metadata": {},
   "outputs": [],
   "source": [
    "# save results\n",
    "encode_name = 'complex_index_encode_'\n",
    "save_path = save_path_base + encode_name + df_type +'_trace_len_'+str(t_length)+ '.pickle'\n",
    "save_data(data, declerations, ohe_dict ,save_path)"
   ]
  },
  {
   "cell_type": "markdown",
   "metadata": {},
   "source": [
    "## LSTM encoding"
   ]
  },
  {
   "cell_type": "code",
   "execution_count": 438,
   "metadata": {},
   "outputs": [],
   "source": [
    "encode_name = 'lstm_encode_'\n",
    "save_path = save_path_base + encode_name + 'train' +'_trace_len_'+str(t_length)+ '.pickle'\n",
    "loaded_data = load_data(save_path)\n",
    "ohe_dict = loaded_data['feature_names']"
   ]
  },
  {
   "cell_type": "code",
   "execution_count": 439,
   "metadata": {},
   "outputs": [],
   "source": [
    "data = []\n",
    "\n",
    "for id, group in df.groupby(['case:concept:name']):\n",
    "    \n",
    "    feature_vec = []\n",
    "\n",
    "    for index, row in group.iterrows():\n",
    "\n",
    "        row_vec = []\n",
    "\n",
    "        for cat_atr in str_ev_attr:\n",
    "            row_vec.extend(ohe_dict[cat_atr][row[cat_atr]])\n",
    "\n",
    "        for num_atr in num_ev_attr:\n",
    "            row_vec.append(row[num_atr])\n",
    "\n",
    "\n",
    "        # add categorical and numerical trace attributes\n",
    "        for num_t_atr in num_tr_attr:\n",
    "            row_vec.append(group[num_t_atr].iloc[0])\n",
    "\n",
    "        for cat_t_atr in str_tr_attr:\n",
    "            row_vec.extend(ohe_dict[cat_t_atr][group[cat_t_atr].iloc[0]])\n",
    "\n",
    "        feature_vec.append(row_vec)\n",
    "    \n",
    "\n",
    "    # add vector to data\n",
    "    data.append(feature_vec)\n"
   ]
  },
  {
   "cell_type": "code",
   "execution_count": 440,
   "metadata": {},
   "outputs": [],
   "source": [
    "# converting to array\n",
    "data = np.array([np.array(ls) for ls in data])"
   ]
  },
  {
   "cell_type": "code",
   "execution_count": 441,
   "metadata": {},
   "outputs": [
    {
     "data": {
      "text/plain": [
       "(4, 49)"
      ]
     },
     "execution_count": 441,
     "metadata": {},
     "output_type": "execute_result"
    }
   ],
   "source": [
    "feature_len = len(data[0][0])\n",
    "desired_shape = (t_length,feature_len)\n",
    "desired_shape"
   ]
  },
  {
   "cell_type": "code",
   "execution_count": 442,
   "metadata": {},
   "outputs": [],
   "source": [
    "# padding data to make equal shape of vectors\n",
    "padded_data = []\n",
    "for case in data:\n",
    "    pd_case = np.zeros(desired_shape)\n",
    "    pd_case[:case.shape[0],:case.shape[1]] = case\n",
    "    padded_data.append(pd_case)\n",
    "\n",
    "padded_data = np.array(padded_data).shape"
   ]
  },
  {
   "cell_type": "code",
   "execution_count": 443,
   "metadata": {},
   "outputs": [],
   "source": [
    "# save results\n",
    "encode_name = 'lstm_encode_'\n",
    "save_path = save_path_base + encode_name + df_type +'_trace_len_'+str(t_length)+ '.pickle'\n",
    "save_data(data, declerations, ohe_dict ,save_path)"
   ]
  },
  {
   "cell_type": "markdown",
   "metadata": {},
   "source": [
    "# =================== END ================="
   ]
  },
  {
   "cell_type": "code",
   "execution_count": null,
   "metadata": {},
   "outputs": [],
   "source": []
  },
  {
   "cell_type": "code",
   "execution_count": null,
   "metadata": {},
   "outputs": [],
   "source": []
  },
  {
   "cell_type": "code",
   "execution_count": null,
   "metadata": {},
   "outputs": [],
   "source": []
  },
  {
   "cell_type": "code",
   "execution_count": null,
   "metadata": {},
   "outputs": [],
   "source": []
  },
  {
   "cell_type": "code",
   "execution_count": null,
   "metadata": {},
   "outputs": [],
   "source": []
  },
  {
   "cell_type": "code",
   "execution_count": null,
   "metadata": {},
   "outputs": [],
   "source": []
  },
  {
   "cell_type": "markdown",
   "metadata": {},
   "source": [
    "\n",
    "\n",
    "# Extra"
   ]
  },
  {
   "cell_type": "code",
   "execution_count": null,
   "metadata": {},
   "outputs": [],
   "source": [
    "# from pm4py.statistics.sojourn_time.log import get as soj_time_get\n",
    "# soj_time = soj_time_get.apply(trace_log, parameters={soj_time_get.Parameters.TIMESTAMP_KEY: \"time:timestamp\", soj_time_get.Parameters.START_TIMESTAMP_KEY: \"startTime\"})\n",
    "# print(soj_time)"
   ]
  },
  {
   "cell_type": "code",
   "execution_count": null,
   "metadata": {},
   "outputs": [],
   "source": [
    "# # to get all trace cases\n",
    "# for i, trace in enumerate(trace_log):\n",
    "#     print(trace[0]['case'])"
   ]
  },
  {
   "cell_type": "code",
   "execution_count": null,
   "metadata": {},
   "outputs": [],
   "source": [
    "# # throughput time (time to complete traces) all in seconds\n",
    "# all_case_durations = pm4py.get_all_case_durations(trace_log)\n",
    "# all_case_durations"
   ]
  },
  {
   "cell_type": "code",
   "execution_count": null,
   "metadata": {},
   "outputs": [],
   "source": [
    "# # arrival between cases\n",
    "# case_arrival_ratio = pm4py.get_case_arrival_average(trace_log)\n",
    "# case_arrival_ratio/(60*60)"
   ]
  },
  {
   "cell_type": "code",
   "execution_count": null,
   "metadata": {},
   "outputs": [],
   "source": [
    "# from pm4py.objects.log.util import interval_lifecycle\n",
    "# enriched_log = interval_lifecycle.assign_lead_cycle_time(trace_log)\n",
    "# enriched_log"
   ]
  },
  {
   "cell_type": "markdown",
   "metadata": {},
   "source": [
    "### boolean bigram encoding"
   ]
  },
  {
   "cell_type": "code",
   "execution_count": null,
   "metadata": {},
   "outputs": [],
   "source": [
    "data_2gram, feature_names = log_to_features.apply(trace_prefixes, \n",
    "                                                  parameters={\"str_ev_attr\": [], \n",
    "                                                        \"str_tr_attr\": [], \n",
    "                                                        \"num_ev_attr\": [], \n",
    "                                                        \"num_tr_attr\": [], \n",
    "                                                        \"str_evsucc_attr\": [\"concept:name\"]})\n",
    "feature_names"
   ]
  },
  {
   "cell_type": "code",
   "execution_count": null,
   "metadata": {},
   "outputs": [],
   "source": [
    "data_2gram = np.asarray(data_2gram)"
   ]
  },
  {
   "cell_type": "code",
   "execution_count": null,
   "metadata": {},
   "outputs": [],
   "source": [
    "project_nth(trace_prefixes, 0)"
   ]
  },
  {
   "cell_type": "code",
   "execution_count": null,
   "metadata": {},
   "outputs": [],
   "source": [
    "print(data_2gram[0])"
   ]
  },
  {
   "cell_type": "code",
   "execution_count": null,
   "metadata": {},
   "outputs": [],
   "source": [
    "train_data = {}\n",
    "train_data['X']=data_2gram\n",
    "train_data['y'] = declerations\n",
    "train_data['feature_names'] = feature_names"
   ]
  },
  {
   "cell_type": "code",
   "execution_count": null,
   "metadata": {},
   "outputs": [],
   "source": [
    "# save json\n",
    "save_path = '../data/training_data/bigram_boolean_encode.json'\n",
    "with open(save_path, 'w', encoding='utf-8') as f:\n",
    "    json.dump(train_data, f, ensure_ascii=False, indent=4)"
   ]
  },
  {
   "cell_type": "markdown",
   "metadata": {},
   "source": []
  },
  {
   "cell_type": "code",
   "execution_count": null,
   "metadata": {},
   "outputs": [],
   "source": [
    "# between_log = pm4py.filter_between(dec_sub_traces, \"Permit SUBMITTED by EMPLOYEE\", \"Declaration SUBMITTED by EMPLOYEE\")"
   ]
  },
  {
   "cell_type": "code",
   "execution_count": null,
   "metadata": {},
   "outputs": [],
   "source": [
    "# project_nth(between_log, 232)"
   ]
  },
  {
   "cell_type": "code",
   "execution_count": null,
   "metadata": {},
   "outputs": [],
   "source": [
    "# we can get any attribute of trace using this\n",
    "activities = pm4py.get_event_attribute_values(trace_log, \"concept:name\")\n",
    "resources = pm4py.get_event_attribute_values(trace_log, \"org:resource\")\n",
    "resources"
   ]
  },
  {
   "cell_type": "code",
   "execution_count": null,
   "metadata": {},
   "outputs": [],
   "source": [
    "# remove Return Decleration event\n",
    "# train_raw = pm4py.filter_event_attribute_values(trace_log, \"concept:name\", \"Declaration REJECTED by EMPLOYEE\", level = \"event\", retain=False)"
   ]
  },
  {
   "cell_type": "markdown",
   "metadata": {},
   "source": []
  },
  {
   "cell_type": "code",
   "execution_count": null,
   "metadata": {},
   "outputs": [],
   "source": [
    "# to display most frequent feature\n",
    "# # look at the unique vectors and their occurrence frequency/count\n",
    "# # just to check which trace was most frequent, just analysis\n",
    "# dist_features = np.unique(data, return_counts= True, axis = 0)\n",
    "# print(dist_features)\n",
    "\n",
    "\n",
    "# # display most freuent feature\n",
    "# most_freq_feature = dist_features[0][np.argmax(dist_features[1])]\n",
    "# most_freq_feature\n",
    "\n",
    "\n",
    "# # order doesn't matter here\n",
    "# for i in range(0, len(most_freq_feature)):\n",
    "#     if most_freq_feature[i]!=0:\n",
    "#         print(feature_names[i].split(\"@\")[1], end=' , ')"
   ]
  },
  {
   "cell_type": "code",
   "execution_count": null,
   "metadata": {},
   "outputs": [],
   "source": []
  },
  {
   "cell_type": "code",
   "execution_count": null,
   "metadata": {},
   "outputs": [],
   "source": [
    "# # printing all activities in trace \n",
    "# for trace in trace_log[0]:\n",
    "#     print(trace[\"concept:name\"])"
   ]
  },
  {
   "cell_type": "code",
   "execution_count": null,
   "metadata": {},
   "outputs": [],
   "source": [
    "# to extract only traces where Declaration SUBMITTED by EMPLOYEE is present\n",
    "# dec_sub_traces = []\n",
    "# for trace in trace_log:\n",
    "#     if len(list(filter(lambda e: e[\"concept:name\"] == \"Declaration SUBMITTED by EMPLOYEE\" ,trace))) > 0:\n",
    "#         dec_sub_traces.append(Trace(trace, attributes = trace.attributes))\n",
    "\n",
    "# dec_sub_traces = EventLog(dec_sub_traces)"
   ]
  }
 ],
 "metadata": {
  "kernelspec": {
   "display_name": "Python 3.10.4 ('ml')",
   "language": "python",
   "name": "python3"
  },
  "language_info": {
   "codemirror_mode": {
    "name": "ipython",
    "version": 3
   },
   "file_extension": ".py",
   "mimetype": "text/x-python",
   "name": "python",
   "nbconvert_exporter": "python",
   "pygments_lexer": "ipython3",
   "version": "3.10.4"
  },
  "orig_nbformat": 4,
  "vscode": {
   "interpreter": {
    "hash": "5188bc372fa413aa2565ae5d28228f50ad7b2c4ebb4a82c5900fd598adbb6408"
   }
  }
 },
 "nbformat": 4,
 "nbformat_minor": 2
}
