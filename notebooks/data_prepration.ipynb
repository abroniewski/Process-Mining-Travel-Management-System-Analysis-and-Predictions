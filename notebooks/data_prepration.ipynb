{
 "cells": [
  {
   "cell_type": "code",
   "execution_count": 8,
   "metadata": {},
   "outputs": [],
   "source": [
    "# import libraties\n",
    "import pandas as pd\n",
    "import numpy as np\n",
    "import json\n",
    "import pickle\n",
    "\n",
    "# https://pm4py.fit.fraunhofer.de/documentation\n",
    "import pm4py\n",
    "from pm4py.objects.log.util.log import project_traces\n",
    "from pm4py.objects.log.util import interval_lifecycle\n",
    "from pm4py.algo.transformation.log_to_features import algorithm as log_to_features\n",
    "from pm4py.objects.log.obj import EventLog, Trace\n",
    "\n",
    "import warnings\n",
    "warnings.filterwarnings(\"ignore\")"
   ]
  },
  {
   "cell_type": "code",
   "execution_count": 9,
   "metadata": {},
   "outputs": [],
   "source": [
    "# function to project the trace\n",
    "def project_nth(log, index):\n",
    "    print(str(project_traces(log)[index]))"
   ]
  },
  {
   "cell_type": "code",
   "execution_count": 10,
   "metadata": {},
   "outputs": [
    {
     "data": {
      "text/html": [
       "<div>\n",
       "<style scoped>\n",
       "    .dataframe tbody tr th:only-of-type {\n",
       "        vertical-align: middle;\n",
       "    }\n",
       "\n",
       "    .dataframe tbody tr th {\n",
       "        vertical-align: top;\n",
       "    }\n",
       "\n",
       "    .dataframe thead th {\n",
       "        text-align: right;\n",
       "    }\n",
       "</style>\n",
       "<table border=\"1\" class=\"dataframe\">\n",
       "  <thead>\n",
       "    <tr style=\"text-align: right;\">\n",
       "      <th></th>\n",
       "      <th>case</th>\n",
       "      <th>event</th>\n",
       "      <th>startTime</th>\n",
       "      <th>completeTime</th>\n",
       "      <th>dec_id_5</th>\n",
       "      <th>dec_id_6</th>\n",
       "      <th>dec_id_3</th>\n",
       "      <th>dec_id_4</th>\n",
       "      <th>dec_id_1</th>\n",
       "      <th>dec_id_2</th>\n",
       "      <th>...</th>\n",
       "      <th>Task_6</th>\n",
       "      <th>org:resource</th>\n",
       "      <th>event_id</th>\n",
       "      <th>org:role</th>\n",
       "      <th>concept:name</th>\n",
       "      <th>time:timestamp</th>\n",
       "      <th>@@index</th>\n",
       "      <th>@@case_index</th>\n",
       "      <th>start_timestamp</th>\n",
       "      <th>case:concept:name</th>\n",
       "    </tr>\n",
       "  </thead>\n",
       "  <tbody>\n",
       "    <tr>\n",
       "      <th>0</th>\n",
       "      <td>travel permit 10022</td>\n",
       "      <td>Permit SUBMITTED by EMPLOYEE</td>\n",
       "      <td>2018-02-20 13:51:27+00:00</td>\n",
       "      <td>2018-02-20 13:51:27+00:00</td>\n",
       "      <td>NaN</td>\n",
       "      <td>NaN</td>\n",
       "      <td>NaN</td>\n",
       "      <td>NaN</td>\n",
       "      <td>declaration 10026</td>\n",
       "      <td>NaN</td>\n",
       "      <td>...</td>\n",
       "      <td>NaN</td>\n",
       "      <td>STAFF MEMBER</td>\n",
       "      <td>st_step 10031_0</td>\n",
       "      <td>EMPLOYEE</td>\n",
       "      <td>Permit SUBMITTED by EMPLOYEE</td>\n",
       "      <td>2018-02-20 13:51:27+00:00</td>\n",
       "      <td>0</td>\n",
       "      <td>0</td>\n",
       "      <td>2018-02-20 13:51:27+00:00</td>\n",
       "      <td>travel permit 10022</td>\n",
       "    </tr>\n",
       "    <tr>\n",
       "      <th>1</th>\n",
       "      <td>travel permit 10022</td>\n",
       "      <td>Permit APPROVED by ADMINISTRATION</td>\n",
       "      <td>2018-02-20 13:51:34+00:00</td>\n",
       "      <td>2018-02-20 13:51:34+00:00</td>\n",
       "      <td>NaN</td>\n",
       "      <td>NaN</td>\n",
       "      <td>NaN</td>\n",
       "      <td>NaN</td>\n",
       "      <td>declaration 10026</td>\n",
       "      <td>NaN</td>\n",
       "      <td>...</td>\n",
       "      <td>NaN</td>\n",
       "      <td>STAFF MEMBER</td>\n",
       "      <td>st_step 10030_0</td>\n",
       "      <td>ADMINISTRATION</td>\n",
       "      <td>Permit APPROVED by ADMINISTRATION</td>\n",
       "      <td>2018-02-20 13:51:34+00:00</td>\n",
       "      <td>1</td>\n",
       "      <td>0</td>\n",
       "      <td>2018-02-20 13:51:34+00:00</td>\n",
       "      <td>travel permit 10022</td>\n",
       "    </tr>\n",
       "    <tr>\n",
       "      <th>2</th>\n",
       "      <td>travel permit 10022</td>\n",
       "      <td>Permit APPROVED by BUDGET OWNER</td>\n",
       "      <td>2018-02-20 16:27:33+00:00</td>\n",
       "      <td>2018-02-20 16:27:33+00:00</td>\n",
       "      <td>NaN</td>\n",
       "      <td>NaN</td>\n",
       "      <td>NaN</td>\n",
       "      <td>NaN</td>\n",
       "      <td>declaration 10026</td>\n",
       "      <td>NaN</td>\n",
       "      <td>...</td>\n",
       "      <td>NaN</td>\n",
       "      <td>STAFF MEMBER</td>\n",
       "      <td>st_step 10029_0</td>\n",
       "      <td>BUDGET OWNER</td>\n",
       "      <td>Permit APPROVED by BUDGET OWNER</td>\n",
       "      <td>2018-02-20 16:27:33+00:00</td>\n",
       "      <td>2</td>\n",
       "      <td>0</td>\n",
       "      <td>2018-02-20 16:27:33+00:00</td>\n",
       "      <td>travel permit 10022</td>\n",
       "    </tr>\n",
       "    <tr>\n",
       "      <th>3</th>\n",
       "      <td>travel permit 10022</td>\n",
       "      <td>Permit FINAL_APPROVED by SUPERVISOR</td>\n",
       "      <td>2018-02-21 12:58:49+00:00</td>\n",
       "      <td>2018-02-21 12:58:49+00:00</td>\n",
       "      <td>NaN</td>\n",
       "      <td>NaN</td>\n",
       "      <td>NaN</td>\n",
       "      <td>NaN</td>\n",
       "      <td>declaration 10026</td>\n",
       "      <td>NaN</td>\n",
       "      <td>...</td>\n",
       "      <td>NaN</td>\n",
       "      <td>STAFF MEMBER</td>\n",
       "      <td>st_step 10028_0</td>\n",
       "      <td>SUPERVISOR</td>\n",
       "      <td>Permit FINAL_APPROVED by SUPERVISOR</td>\n",
       "      <td>2018-02-21 12:58:49+00:00</td>\n",
       "      <td>3</td>\n",
       "      <td>0</td>\n",
       "      <td>2018-02-21 12:58:49+00:00</td>\n",
       "      <td>travel permit 10022</td>\n",
       "    </tr>\n",
       "    <tr>\n",
       "      <th>4</th>\n",
       "      <td>travel permit 10022</td>\n",
       "      <td>Start trip</td>\n",
       "      <td>2018-03-17 00:00:00+00:00</td>\n",
       "      <td>2018-03-17 00:00:00+00:00</td>\n",
       "      <td>NaN</td>\n",
       "      <td>NaN</td>\n",
       "      <td>NaN</td>\n",
       "      <td>NaN</td>\n",
       "      <td>declaration 10026</td>\n",
       "      <td>NaN</td>\n",
       "      <td>...</td>\n",
       "      <td>NaN</td>\n",
       "      <td>STAFF MEMBER</td>\n",
       "      <td>rv_travel permit 10022_6</td>\n",
       "      <td>EMPLOYEE</td>\n",
       "      <td>Start trip</td>\n",
       "      <td>2018-03-17 00:00:00+00:00</td>\n",
       "      <td>4</td>\n",
       "      <td>0</td>\n",
       "      <td>2018-03-17 00:00:00+00:00</td>\n",
       "      <td>travel permit 10022</td>\n",
       "    </tr>\n",
       "  </tbody>\n",
       "</table>\n",
       "<p>5 rows × 180 columns</p>\n",
       "</div>"
      ],
      "text/plain": [
       "                  case                                event  \\\n",
       "0  travel permit 10022         Permit SUBMITTED by EMPLOYEE   \n",
       "1  travel permit 10022    Permit APPROVED by ADMINISTRATION   \n",
       "2  travel permit 10022      Permit APPROVED by BUDGET OWNER   \n",
       "3  travel permit 10022  Permit FINAL_APPROVED by SUPERVISOR   \n",
       "4  travel permit 10022                           Start trip   \n",
       "\n",
       "                   startTime               completeTime dec_id_5 dec_id_6  \\\n",
       "0  2018-02-20 13:51:27+00:00  2018-02-20 13:51:27+00:00      NaN      NaN   \n",
       "1  2018-02-20 13:51:34+00:00  2018-02-20 13:51:34+00:00      NaN      NaN   \n",
       "2  2018-02-20 16:27:33+00:00  2018-02-20 16:27:33+00:00      NaN      NaN   \n",
       "3  2018-02-21 12:58:49+00:00  2018-02-21 12:58:49+00:00      NaN      NaN   \n",
       "4  2018-03-17 00:00:00+00:00  2018-03-17 00:00:00+00:00      NaN      NaN   \n",
       "\n",
       "  dec_id_3 dec_id_4           dec_id_1 dec_id_2  ... Task_6  org:resource  \\\n",
       "0      NaN      NaN  declaration 10026      NaN  ...    NaN  STAFF MEMBER   \n",
       "1      NaN      NaN  declaration 10026      NaN  ...    NaN  STAFF MEMBER   \n",
       "2      NaN      NaN  declaration 10026      NaN  ...    NaN  STAFF MEMBER   \n",
       "3      NaN      NaN  declaration 10026      NaN  ...    NaN  STAFF MEMBER   \n",
       "4      NaN      NaN  declaration 10026      NaN  ...    NaN  STAFF MEMBER   \n",
       "\n",
       "                   event_id        org:role  \\\n",
       "0           st_step 10031_0        EMPLOYEE   \n",
       "1           st_step 10030_0  ADMINISTRATION   \n",
       "2           st_step 10029_0    BUDGET OWNER   \n",
       "3           st_step 10028_0      SUPERVISOR   \n",
       "4  rv_travel permit 10022_6        EMPLOYEE   \n",
       "\n",
       "                          concept:name             time:timestamp @@index  \\\n",
       "0         Permit SUBMITTED by EMPLOYEE  2018-02-20 13:51:27+00:00       0   \n",
       "1    Permit APPROVED by ADMINISTRATION  2018-02-20 13:51:34+00:00       1   \n",
       "2      Permit APPROVED by BUDGET OWNER  2018-02-20 16:27:33+00:00       2   \n",
       "3  Permit FINAL_APPROVED by SUPERVISOR  2018-02-21 12:58:49+00:00       3   \n",
       "4                           Start trip  2018-03-17 00:00:00+00:00       4   \n",
       "\n",
       "  @@case_index            start_timestamp    case:concept:name  \n",
       "0            0  2018-02-20 13:51:27+00:00  travel permit 10022  \n",
       "1            0  2018-02-20 13:51:34+00:00  travel permit 10022  \n",
       "2            0  2018-02-20 16:27:33+00:00  travel permit 10022  \n",
       "3            0  2018-02-21 12:58:49+00:00  travel permit 10022  \n",
       "4            0  2018-03-17 00:00:00+00:00  travel permit 10022  \n",
       "\n",
       "[5 rows x 180 columns]"
      ]
     },
     "execution_count": 10,
     "metadata": {},
     "output_type": "execute_result"
    }
   ],
   "source": [
    "# read data in csv \n",
    "trace = pd.read_csv('../data/BPIC2020_CSV/filterd_TravelPermits.csv')\n",
    "trace.head()"
   ]
  },
  {
   "attachments": {},
   "cell_type": "markdown",
   "metadata": {},
   "source": [
    "# Comman Data Pre Processing"
   ]
  },
  {
   "cell_type": "code",
   "execution_count": 11,
   "metadata": {},
   "outputs": [
    {
     "data": {
      "text/html": [
       "<div>\n",
       "<style scoped>\n",
       "    .dataframe tbody tr th:only-of-type {\n",
       "        vertical-align: middle;\n",
       "    }\n",
       "\n",
       "    .dataframe tbody tr th {\n",
       "        vertical-align: top;\n",
       "    }\n",
       "\n",
       "    .dataframe thead th {\n",
       "        text-align: right;\n",
       "    }\n",
       "</style>\n",
       "<table border=\"1\" class=\"dataframe\">\n",
       "  <thead>\n",
       "    <tr style=\"text-align: right;\">\n",
       "      <th></th>\n",
       "      <th>case</th>\n",
       "      <th>event</th>\n",
       "      <th>startTime</th>\n",
       "      <th>completeTime</th>\n",
       "      <th>id</th>\n",
       "      <th>RequestedAmount_0</th>\n",
       "      <th>Overspent</th>\n",
       "      <th>travel permit number</th>\n",
       "      <th>OverspentAmount</th>\n",
       "      <th>RequestedBudget</th>\n",
       "      <th>...</th>\n",
       "      <th>OrganizationalEntity</th>\n",
       "      <th>org:resource</th>\n",
       "      <th>event_id</th>\n",
       "      <th>org:role</th>\n",
       "      <th>concept:name</th>\n",
       "      <th>time:timestamp</th>\n",
       "      <th>@@index</th>\n",
       "      <th>@@case_index</th>\n",
       "      <th>start_timestamp</th>\n",
       "      <th>case:concept:name</th>\n",
       "    </tr>\n",
       "  </thead>\n",
       "  <tbody>\n",
       "    <tr>\n",
       "      <th>0</th>\n",
       "      <td>travel permit 10022</td>\n",
       "      <td>Permit SUBMITTED by EMPLOYEE</td>\n",
       "      <td>2018-02-20 13:51:27+00:00</td>\n",
       "      <td>2018-02-20 13:51:27+00:00</td>\n",
       "      <td>travel permit 10022</td>\n",
       "      <td>395</td>\n",
       "      <td>False</td>\n",
       "      <td>travel permit number 10023</td>\n",
       "      <td>-50.662542</td>\n",
       "      <td>2134.047941</td>\n",
       "      <td>...</td>\n",
       "      <td>organizational unit 65466</td>\n",
       "      <td>STAFF MEMBER</td>\n",
       "      <td>st_step 10031_0</td>\n",
       "      <td>EMPLOYEE</td>\n",
       "      <td>Permit SUBMITTED by EMPLOYEE</td>\n",
       "      <td>2018-02-20 13:51:27+00:00</td>\n",
       "      <td>0</td>\n",
       "      <td>0</td>\n",
       "      <td>2018-02-20 13:51:27+00:00</td>\n",
       "      <td>travel permit 10022</td>\n",
       "    </tr>\n",
       "    <tr>\n",
       "      <th>1</th>\n",
       "      <td>travel permit 10022</td>\n",
       "      <td>Permit APPROVED by ADMINISTRATION</td>\n",
       "      <td>2018-02-20 13:51:34+00:00</td>\n",
       "      <td>2018-02-20 13:51:34+00:00</td>\n",
       "      <td>travel permit 10022</td>\n",
       "      <td>395</td>\n",
       "      <td>False</td>\n",
       "      <td>travel permit number 10023</td>\n",
       "      <td>-50.662542</td>\n",
       "      <td>2134.047941</td>\n",
       "      <td>...</td>\n",
       "      <td>organizational unit 65466</td>\n",
       "      <td>STAFF MEMBER</td>\n",
       "      <td>st_step 10030_0</td>\n",
       "      <td>ADMINISTRATION</td>\n",
       "      <td>Permit APPROVED by ADMINISTRATION</td>\n",
       "      <td>2018-02-20 13:51:34+00:00</td>\n",
       "      <td>1</td>\n",
       "      <td>0</td>\n",
       "      <td>2018-02-20 13:51:34+00:00</td>\n",
       "      <td>travel permit 10022</td>\n",
       "    </tr>\n",
       "    <tr>\n",
       "      <th>2</th>\n",
       "      <td>travel permit 10022</td>\n",
       "      <td>Permit APPROVED by BUDGET OWNER</td>\n",
       "      <td>2018-02-20 16:27:33+00:00</td>\n",
       "      <td>2018-02-20 16:27:33+00:00</td>\n",
       "      <td>travel permit 10022</td>\n",
       "      <td>395</td>\n",
       "      <td>False</td>\n",
       "      <td>travel permit number 10023</td>\n",
       "      <td>-50.662542</td>\n",
       "      <td>2134.047941</td>\n",
       "      <td>...</td>\n",
       "      <td>organizational unit 65466</td>\n",
       "      <td>STAFF MEMBER</td>\n",
       "      <td>st_step 10029_0</td>\n",
       "      <td>BUDGET OWNER</td>\n",
       "      <td>Permit APPROVED by BUDGET OWNER</td>\n",
       "      <td>2018-02-20 16:27:33+00:00</td>\n",
       "      <td>2</td>\n",
       "      <td>0</td>\n",
       "      <td>2018-02-20 16:27:33+00:00</td>\n",
       "      <td>travel permit 10022</td>\n",
       "    </tr>\n",
       "    <tr>\n",
       "      <th>3</th>\n",
       "      <td>travel permit 10022</td>\n",
       "      <td>Permit FINAL_APPROVED by SUPERVISOR</td>\n",
       "      <td>2018-02-21 12:58:49+00:00</td>\n",
       "      <td>2018-02-21 12:58:49+00:00</td>\n",
       "      <td>travel permit 10022</td>\n",
       "      <td>395</td>\n",
       "      <td>False</td>\n",
       "      <td>travel permit number 10023</td>\n",
       "      <td>-50.662542</td>\n",
       "      <td>2134.047941</td>\n",
       "      <td>...</td>\n",
       "      <td>organizational unit 65466</td>\n",
       "      <td>STAFF MEMBER</td>\n",
       "      <td>st_step 10028_0</td>\n",
       "      <td>SUPERVISOR</td>\n",
       "      <td>Permit FINAL_APPROVED by SUPERVISOR</td>\n",
       "      <td>2018-02-21 12:58:49+00:00</td>\n",
       "      <td>3</td>\n",
       "      <td>0</td>\n",
       "      <td>2018-02-21 12:58:49+00:00</td>\n",
       "      <td>travel permit 10022</td>\n",
       "    </tr>\n",
       "    <tr>\n",
       "      <th>4</th>\n",
       "      <td>travel permit 10022</td>\n",
       "      <td>Start trip</td>\n",
       "      <td>2018-03-17 00:00:00+00:00</td>\n",
       "      <td>2018-03-17 00:00:00+00:00</td>\n",
       "      <td>travel permit 10022</td>\n",
       "      <td>395</td>\n",
       "      <td>False</td>\n",
       "      <td>travel permit number 10023</td>\n",
       "      <td>-50.662542</td>\n",
       "      <td>2134.047941</td>\n",
       "      <td>...</td>\n",
       "      <td>organizational unit 65466</td>\n",
       "      <td>STAFF MEMBER</td>\n",
       "      <td>rv_travel permit 10022_6</td>\n",
       "      <td>EMPLOYEE</td>\n",
       "      <td>Start trip</td>\n",
       "      <td>2018-03-17 00:00:00+00:00</td>\n",
       "      <td>4</td>\n",
       "      <td>0</td>\n",
       "      <td>2018-03-17 00:00:00+00:00</td>\n",
       "      <td>travel permit 10022</td>\n",
       "    </tr>\n",
       "  </tbody>\n",
       "</table>\n",
       "<p>5 rows × 25 columns</p>\n",
       "</div>"
      ],
      "text/plain": [
       "                  case                                event  \\\n",
       "0  travel permit 10022         Permit SUBMITTED by EMPLOYEE   \n",
       "1  travel permit 10022    Permit APPROVED by ADMINISTRATION   \n",
       "2  travel permit 10022      Permit APPROVED by BUDGET OWNER   \n",
       "3  travel permit 10022  Permit FINAL_APPROVED by SUPERVISOR   \n",
       "4  travel permit 10022                           Start trip   \n",
       "\n",
       "                   startTime               completeTime                   id  \\\n",
       "0  2018-02-20 13:51:27+00:00  2018-02-20 13:51:27+00:00  travel permit 10022   \n",
       "1  2018-02-20 13:51:34+00:00  2018-02-20 13:51:34+00:00  travel permit 10022   \n",
       "2  2018-02-20 16:27:33+00:00  2018-02-20 16:27:33+00:00  travel permit 10022   \n",
       "3  2018-02-21 12:58:49+00:00  2018-02-21 12:58:49+00:00  travel permit 10022   \n",
       "4  2018-03-17 00:00:00+00:00  2018-03-17 00:00:00+00:00  travel permit 10022   \n",
       "\n",
       "  RequestedAmount_0  Overspent        travel permit number  OverspentAmount  \\\n",
       "0               395      False  travel permit number 10023       -50.662542   \n",
       "1               395      False  travel permit number 10023       -50.662542   \n",
       "2               395      False  travel permit number 10023       -50.662542   \n",
       "3               395      False  travel permit number 10023       -50.662542   \n",
       "4               395      False  travel permit number 10023       -50.662542   \n",
       "\n",
       "   RequestedBudget  ...       OrganizationalEntity  org:resource  \\\n",
       "0      2134.047941  ...  organizational unit 65466  STAFF MEMBER   \n",
       "1      2134.047941  ...  organizational unit 65466  STAFF MEMBER   \n",
       "2      2134.047941  ...  organizational unit 65466  STAFF MEMBER   \n",
       "3      2134.047941  ...  organizational unit 65466  STAFF MEMBER   \n",
       "4      2134.047941  ...  organizational unit 65466  STAFF MEMBER   \n",
       "\n",
       "                   event_id        org:role  \\\n",
       "0           st_step 10031_0        EMPLOYEE   \n",
       "1           st_step 10030_0  ADMINISTRATION   \n",
       "2           st_step 10029_0    BUDGET OWNER   \n",
       "3           st_step 10028_0      SUPERVISOR   \n",
       "4  rv_travel permit 10022_6        EMPLOYEE   \n",
       "\n",
       "                          concept:name             time:timestamp @@index  \\\n",
       "0         Permit SUBMITTED by EMPLOYEE  2018-02-20 13:51:27+00:00       0   \n",
       "1    Permit APPROVED by ADMINISTRATION  2018-02-20 13:51:34+00:00       1   \n",
       "2      Permit APPROVED by BUDGET OWNER  2018-02-20 16:27:33+00:00       2   \n",
       "3  Permit FINAL_APPROVED by SUPERVISOR  2018-02-21 12:58:49+00:00       3   \n",
       "4                           Start trip  2018-03-17 00:00:00+00:00       4   \n",
       "\n",
       "  @@case_index            start_timestamp    case:concept:name  \n",
       "0            0  2018-02-20 13:51:27+00:00  travel permit 10022  \n",
       "1            0  2018-02-20 13:51:34+00:00  travel permit 10022  \n",
       "2            0  2018-02-20 16:27:33+00:00  travel permit 10022  \n",
       "3            0  2018-02-21 12:58:49+00:00  travel permit 10022  \n",
       "4            0  2018-03-17 00:00:00+00:00  travel permit 10022  \n",
       "\n",
       "[5 rows x 25 columns]"
      ]
     },
     "execution_count": 11,
     "metadata": {},
     "output_type": "execute_result"
    }
   ],
   "source": [
    "# remove columns where missing > 30%\n",
    "\n",
    "# get persentage of missing values in a column\n",
    "percent_missing = trace.isnull().sum() * 100 / len(trace)\n",
    "missing_value_df = pd.DataFrame({'column_name': trace.columns,\n",
    "                                 'percent_missing': percent_missing})\n",
    "\n",
    "# extract list of coumns which are more then 30%\n",
    "miss_ls = list(percent_missing[percent_missing>30].keys())\n",
    "\n",
    "# keep the remaining columns where missing data is less then 30%\n",
    "trace = trace.loc[:, ~trace.columns.isin(miss_ls)]\n",
    "trace.head()"
   ]
  },
  {
   "cell_type": "code",
   "execution_count": 12,
   "metadata": {},
   "outputs": [],
   "source": [
    "# adding time features month and year\n",
    "trace['startTime'] = pd.to_datetime(trace['startTime'])\n",
    "trace['completeTime'] = pd.to_datetime(trace['completeTime'])\n",
    "trace['year'] = trace['startTime'].dt.year\n",
    "trace['month'] = trace['startTime'].dt.month\n",
    "\n",
    "# converting dataframe to event log\n",
    "trace_log = pm4py.format_dataframe(trace, case_id='case', activity_key='event', timestamp_key='completeTime', start_timestamp_key='startTime')\n",
    "trace_log = pm4py.convert_to_event_log(trace_log)\n",
    "\n",
    "# add other time features\n",
    "trace_log = interval_lifecycle.assign_lead_cycle_time(trace_log)"
   ]
  },
  {
   "attachments": {},
   "cell_type": "markdown",
   "metadata": {},
   "source": [
    "### Keeping traces only till rejection event or complete if not rejected\n",
    "\n",
    "- No bucketing/clustering/binding is applied (to do if needed)\n",
    "- we extracted traces before the rejection for decleration, because we are intrested in prediction for the traces before that only \n",
    "- some process do not follow the above path but those are considered as accapted"
   ]
  },
  {
   "cell_type": "code",
   "execution_count": 13,
   "metadata": {},
   "outputs": [],
   "source": [
    "# extract traces only till the decleration is rejected(included), otherwise complete trace \n",
    "prefix_traces = []\n",
    "for trace in trace_log:\n",
    "    for i,event in enumerate(trace):\n",
    "        if \"Declaration REJECTED\" in event['event']:\n",
    "            i+=1\n",
    "            break\n",
    "    prefix_traces.append(Trace(trace[:i], attributes = trace.attributes))\n",
    "prefix_traces = EventLog(prefix_traces)"
   ]
  },
  {
   "attachments": {},
   "cell_type": "markdown",
   "metadata": {},
   "source": [
    "### Extracting target variables"
   ]
  },
  {
   "cell_type": "code",
   "execution_count": 14,
   "metadata": {},
   "outputs": [
    {
     "data": {
      "text/html": [
       "<div>\n",
       "<style scoped>\n",
       "    .dataframe tbody tr th:only-of-type {\n",
       "        vertical-align: middle;\n",
       "    }\n",
       "\n",
       "    .dataframe tbody tr th {\n",
       "        vertical-align: top;\n",
       "    }\n",
       "\n",
       "    .dataframe thead th {\n",
       "        text-align: right;\n",
       "    }\n",
       "</style>\n",
       "<table border=\"1\" class=\"dataframe\">\n",
       "  <thead>\n",
       "    <tr style=\"text-align: right;\">\n",
       "      <th></th>\n",
       "      <th>case</th>\n",
       "      <th>event</th>\n",
       "      <th>startTime</th>\n",
       "      <th>completeTime</th>\n",
       "      <th>id</th>\n",
       "      <th>RequestedAmount_0</th>\n",
       "      <th>Overspent</th>\n",
       "      <th>travel permit number</th>\n",
       "      <th>OverspentAmount</th>\n",
       "      <th>RequestedBudget</th>\n",
       "      <th>...</th>\n",
       "      <th>year</th>\n",
       "      <th>month</th>\n",
       "      <th>concept:name</th>\n",
       "      <th>time:timestamp</th>\n",
       "      <th>@@approx_bh_partial_cycle_time</th>\n",
       "      <th>@@approx_bh_partial_lead_time</th>\n",
       "      <th>@@approx_bh_overall_wasted_time</th>\n",
       "      <th>@@approx_bh_this_wasted_time</th>\n",
       "      <th>@approx_bh_ratio_cycle_lead_time</th>\n",
       "      <th>case:concept:name</th>\n",
       "    </tr>\n",
       "  </thead>\n",
       "  <tbody>\n",
       "    <tr>\n",
       "      <th>0</th>\n",
       "      <td>travel permit 10022</td>\n",
       "      <td>Permit SUBMITTED by EMPLOYEE</td>\n",
       "      <td>2018-02-20 13:51:27+00:00</td>\n",
       "      <td>2018-02-20 13:51:27+00:00</td>\n",
       "      <td>travel permit 10022</td>\n",
       "      <td>395</td>\n",
       "      <td>False</td>\n",
       "      <td>travel permit number 10023</td>\n",
       "      <td>-50.662542</td>\n",
       "      <td>2134.047941</td>\n",
       "      <td>...</td>\n",
       "      <td>2018</td>\n",
       "      <td>2</td>\n",
       "      <td>Permit SUBMITTED by EMPLOYEE</td>\n",
       "      <td>2018-02-20 13:51:27+00:00</td>\n",
       "      <td>0.0</td>\n",
       "      <td>0.0</td>\n",
       "      <td>0.0</td>\n",
       "      <td>0.0</td>\n",
       "      <td>1.0</td>\n",
       "      <td>travel permit 10022</td>\n",
       "    </tr>\n",
       "    <tr>\n",
       "      <th>1</th>\n",
       "      <td>travel permit 10022</td>\n",
       "      <td>Permit APPROVED by ADMINISTRATION</td>\n",
       "      <td>2018-02-20 13:51:34+00:00</td>\n",
       "      <td>2018-02-20 13:51:34+00:00</td>\n",
       "      <td>travel permit 10022</td>\n",
       "      <td>395</td>\n",
       "      <td>False</td>\n",
       "      <td>travel permit number 10023</td>\n",
       "      <td>-50.662542</td>\n",
       "      <td>2134.047941</td>\n",
       "      <td>...</td>\n",
       "      <td>2018</td>\n",
       "      <td>2</td>\n",
       "      <td>Permit APPROVED by ADMINISTRATION</td>\n",
       "      <td>2018-02-20 13:51:34+00:00</td>\n",
       "      <td>0.0</td>\n",
       "      <td>7.0</td>\n",
       "      <td>7.0</td>\n",
       "      <td>7.0</td>\n",
       "      <td>0.0</td>\n",
       "      <td>travel permit 10022</td>\n",
       "    </tr>\n",
       "    <tr>\n",
       "      <th>2</th>\n",
       "      <td>travel permit 10022</td>\n",
       "      <td>Permit APPROVED by BUDGET OWNER</td>\n",
       "      <td>2018-02-20 16:27:33+00:00</td>\n",
       "      <td>2018-02-20 16:27:33+00:00</td>\n",
       "      <td>travel permit 10022</td>\n",
       "      <td>395</td>\n",
       "      <td>False</td>\n",
       "      <td>travel permit number 10023</td>\n",
       "      <td>-50.662542</td>\n",
       "      <td>2134.047941</td>\n",
       "      <td>...</td>\n",
       "      <td>2018</td>\n",
       "      <td>2</td>\n",
       "      <td>Permit APPROVED by BUDGET OWNER</td>\n",
       "      <td>2018-02-20 16:27:33+00:00</td>\n",
       "      <td>0.0</td>\n",
       "      <td>9366.0</td>\n",
       "      <td>9366.0</td>\n",
       "      <td>9359.0</td>\n",
       "      <td>0.0</td>\n",
       "      <td>travel permit 10022</td>\n",
       "    </tr>\n",
       "    <tr>\n",
       "      <th>3</th>\n",
       "      <td>travel permit 10022</td>\n",
       "      <td>Permit FINAL_APPROVED by SUPERVISOR</td>\n",
       "      <td>2018-02-21 12:58:49+00:00</td>\n",
       "      <td>2018-02-21 12:58:49+00:00</td>\n",
       "      <td>travel permit 10022</td>\n",
       "      <td>395</td>\n",
       "      <td>False</td>\n",
       "      <td>travel permit number 10023</td>\n",
       "      <td>-50.662542</td>\n",
       "      <td>2134.047941</td>\n",
       "      <td>...</td>\n",
       "      <td>2018</td>\n",
       "      <td>2</td>\n",
       "      <td>Permit FINAL_APPROVED by SUPERVISOR</td>\n",
       "      <td>2018-02-21 12:58:49+00:00</td>\n",
       "      <td>0.0</td>\n",
       "      <td>32842.0</td>\n",
       "      <td>32842.0</td>\n",
       "      <td>23476.0</td>\n",
       "      <td>0.0</td>\n",
       "      <td>travel permit 10022</td>\n",
       "    </tr>\n",
       "    <tr>\n",
       "      <th>4</th>\n",
       "      <td>travel permit 10022</td>\n",
       "      <td>Start trip</td>\n",
       "      <td>2018-03-17 00:00:00+00:00</td>\n",
       "      <td>2018-03-17 00:00:00+00:00</td>\n",
       "      <td>travel permit 10022</td>\n",
       "      <td>395</td>\n",
       "      <td>False</td>\n",
       "      <td>travel permit number 10023</td>\n",
       "      <td>-50.662542</td>\n",
       "      <td>2134.047941</td>\n",
       "      <td>...</td>\n",
       "      <td>2018</td>\n",
       "      <td>3</td>\n",
       "      <td>Start trip</td>\n",
       "      <td>2018-03-17 00:00:00+00:00</td>\n",
       "      <td>0.0</td>\n",
       "      <td>659313.0</td>\n",
       "      <td>659313.0</td>\n",
       "      <td>626471.0</td>\n",
       "      <td>0.0</td>\n",
       "      <td>travel permit 10022</td>\n",
       "    </tr>\n",
       "  </tbody>\n",
       "</table>\n",
       "<p>5 rows × 32 columns</p>\n",
       "</div>"
      ],
      "text/plain": [
       "                  case                                event  \\\n",
       "0  travel permit 10022         Permit SUBMITTED by EMPLOYEE   \n",
       "1  travel permit 10022    Permit APPROVED by ADMINISTRATION   \n",
       "2  travel permit 10022      Permit APPROVED by BUDGET OWNER   \n",
       "3  travel permit 10022  Permit FINAL_APPROVED by SUPERVISOR   \n",
       "4  travel permit 10022                           Start trip   \n",
       "\n",
       "                  startTime              completeTime                   id  \\\n",
       "0 2018-02-20 13:51:27+00:00 2018-02-20 13:51:27+00:00  travel permit 10022   \n",
       "1 2018-02-20 13:51:34+00:00 2018-02-20 13:51:34+00:00  travel permit 10022   \n",
       "2 2018-02-20 16:27:33+00:00 2018-02-20 16:27:33+00:00  travel permit 10022   \n",
       "3 2018-02-21 12:58:49+00:00 2018-02-21 12:58:49+00:00  travel permit 10022   \n",
       "4 2018-03-17 00:00:00+00:00 2018-03-17 00:00:00+00:00  travel permit 10022   \n",
       "\n",
       "  RequestedAmount_0  Overspent        travel permit number  OverspentAmount  \\\n",
       "0               395      False  travel permit number 10023       -50.662542   \n",
       "1               395      False  travel permit number 10023       -50.662542   \n",
       "2               395      False  travel permit number 10023       -50.662542   \n",
       "3               395      False  travel permit number 10023       -50.662542   \n",
       "4               395      False  travel permit number 10023       -50.662542   \n",
       "\n",
       "   RequestedBudget  ...  year month                         concept:name  \\\n",
       "0      2134.047941  ...  2018     2         Permit SUBMITTED by EMPLOYEE   \n",
       "1      2134.047941  ...  2018     2    Permit APPROVED by ADMINISTRATION   \n",
       "2      2134.047941  ...  2018     2      Permit APPROVED by BUDGET OWNER   \n",
       "3      2134.047941  ...  2018     2  Permit FINAL_APPROVED by SUPERVISOR   \n",
       "4      2134.047941  ...  2018     3                           Start trip   \n",
       "\n",
       "             time:timestamp @@approx_bh_partial_cycle_time  \\\n",
       "0 2018-02-20 13:51:27+00:00                            0.0   \n",
       "1 2018-02-20 13:51:34+00:00                            0.0   \n",
       "2 2018-02-20 16:27:33+00:00                            0.0   \n",
       "3 2018-02-21 12:58:49+00:00                            0.0   \n",
       "4 2018-03-17 00:00:00+00:00                            0.0   \n",
       "\n",
       "  @@approx_bh_partial_lead_time @@approx_bh_overall_wasted_time  \\\n",
       "0                           0.0                             0.0   \n",
       "1                           7.0                             7.0   \n",
       "2                        9366.0                          9366.0   \n",
       "3                       32842.0                         32842.0   \n",
       "4                      659313.0                        659313.0   \n",
       "\n",
       "  @@approx_bh_this_wasted_time @approx_bh_ratio_cycle_lead_time  \\\n",
       "0                          0.0                              1.0   \n",
       "1                          7.0                              0.0   \n",
       "2                       9359.0                              0.0   \n",
       "3                      23476.0                              0.0   \n",
       "4                     626471.0                              0.0   \n",
       "\n",
       "     case:concept:name  \n",
       "0  travel permit 10022  \n",
       "1  travel permit 10022  \n",
       "2  travel permit 10022  \n",
       "3  travel permit 10022  \n",
       "4  travel permit 10022  \n",
       "\n",
       "[5 rows x 32 columns]"
      ]
     },
     "execution_count": 14,
     "metadata": {},
     "output_type": "execute_result"
    }
   ],
   "source": [
    "# convert extracted traces to dataframe\n",
    "trace = pm4py.convert_to_dataframe(prefix_traces)\n",
    "trace.head()"
   ]
  },
  {
   "cell_type": "code",
   "execution_count": 16,
   "metadata": {},
   "outputs": [],
   "source": [
    "# saving original trace dataframe for one hot encoding \n",
    "original_df = trace.copy()"
   ]
  },
  {
   "attachments": {},
   "cell_type": "markdown",
   "metadata": {},
   "source": [
    "# train test split\n",
    "\n",
    "- Do temporal train test split and preprocess them seperately so that no data leakage will be present\n",
    "- we split data based on 70% 30 % (Temporal split)\n",
    "- classifier will be trained with all cases that started before a given date T1 which would represent a current point in time in a real-life scenario, and the testing is done only on cases that start afterwards."
   ]
  },
  {
   "cell_type": "code",
   "execution_count": 17,
   "metadata": {},
   "outputs": [],
   "source": [
    "# get completion time and sort\n",
    "completion_time_ls = list(trace.groupby(['case'])['completeTime'].max())\n",
    "completion_time_ls = sorted(completion_time_ls)"
   ]
  },
  {
   "cell_type": "code",
   "execution_count": 18,
   "metadata": {},
   "outputs": [
    {
     "data": {
      "text/plain": [
       "(Timestamp('2018-10-01 09:31:39+0000', tz='UTC'),\n",
       " Timestamp('2018-11-29 15:32:39+0000', tz='UTC'))"
      ]
     },
     "execution_count": 18,
     "metadata": {},
     "output_type": "execute_result"
    }
   ],
   "source": [
    "# split on 70% max time \n",
    "train_split_portion = 0.70\n",
    "val_split_seperation = 0.85\n",
    "total_data = len(completion_time_ls)\n",
    "train_len = int(train_split_portion*total_data)\n",
    "val_len = int(val_split_seperation*total_data)\n",
    "last_train_completion_time = completion_time_ls[train_len]\n",
    "last_val_completion_time = completion_time_ls[val_len]\n",
    "val_start_time = last_train_completion_time\n",
    "last_train_completion_time,last_val_completion_time"
   ]
  },
  {
   "cell_type": "code",
   "execution_count": 19,
   "metadata": {},
   "outputs": [
    {
     "name": "stdout",
     "output_type": "stream",
     "text": [
      "train, val and test count\n",
      "4424 208 233\n"
     ]
    }
   ],
   "source": [
    "# take all traces where start dates are after the last_train_completion_time\n",
    "dtype_list = list(trace.dtypes) # get original types of the columns\n",
    "train_df = pd.DataFrame(columns = trace.columns)\n",
    "test_df = pd.DataFrame(columns = trace.columns)\n",
    "val_df = pd.DataFrame(columns = trace.columns)\n",
    "train_count,test_count,val_count = 0,0,0\n",
    "intersecting_traces = []\n",
    "for name, group in trace.groupby(['case'],as_index=False):\n",
    "    if group['completeTime'].iloc[-1] <= last_train_completion_time:\n",
    "        train_df = train_df.append(group)\n",
    "        train_count+=1\n",
    "    elif (group['startTime'].iloc[0] >= last_train_completion_time) and (group['completeTime'].iloc[-1] <= last_val_completion_time):\n",
    "        val_df = val_df.append(group)\n",
    "        val_count+=1        \n",
    "    elif group['startTime'].iloc[0] >= last_val_completion_time:\n",
    "        test_df = test_df.append(group)\n",
    "        test_count+=1\n",
    "    else:\n",
    "        intersecting_traces.append(group)\n",
    "\n",
    "\n",
    "# converting train and test to their original data types\n",
    "for i,col in enumerate(train_df.columns):\n",
    "    train_df[col] = train_df[col].astype(dtype_list[i])\n",
    "\n",
    "for i,col in enumerate(test_df.columns):\n",
    "    test_df[col] = test_df[col].astype(dtype_list[i])\n",
    "\n",
    "for i,col in enumerate(val_df.columns):\n",
    "    val_df[col] = val_df[col].astype(dtype_list[i])\n",
    "\n",
    "\n",
    "print(\"train, val and test count\")\n",
    "print(train_count,val_count,test_count)"
   ]
  },
  {
   "cell_type": "code",
   "execution_count": 20,
   "metadata": {},
   "outputs": [
    {
     "data": {
      "text/plain": [
       "1454"
      ]
     },
     "execution_count": 20,
     "metadata": {},
     "output_type": "execute_result"
    }
   ],
   "source": [
    "# loss of traces due to temporal intersection\n",
    "# these are the traces which started and intersecting with split times\n",
    "len(intersecting_traces)"
   ]
  },
  {
   "cell_type": "code",
   "execution_count": null,
   "metadata": {},
   "outputs": [],
   "source": []
  },
  {
   "cell_type": "markdown",
   "metadata": {},
   "source": [
    "# Define common variables"
   ]
  },
  {
   "cell_type": "code",
   "execution_count": 22,
   "metadata": {},
   "outputs": [],
   "source": [
    "# trace length and saving path\n",
    "t_length = 10\n",
    "save_path_base = '../data/training_data/'"
   ]
  },
  {
   "cell_type": "markdown",
   "metadata": {},
   "source": [
    "# ====================================\n",
    "# Preparing Train Data\n",
    "\n",
    "- define trace length and df_type (train or test)\n",
    "- Working on train and test seperately, so run whole code for the same trace length for train and then for test\n",
    "- the repeating code will be modularized when developing python file"
   ]
  },
  {
   "cell_type": "code",
   "execution_count": 23,
   "metadata": {},
   "outputs": [],
   "source": [
    "# permits is just for the variable name, as below code is using permit as dataframe name\n",
    "df_type = 'train'\n",
    "permits = train_df"
   ]
  },
  {
   "attachments": {},
   "cell_type": "markdown",
   "metadata": {},
   "source": [
    "# Extracting Prefix till specified length\n",
    "\n",
    "- Trace length ( 10 for now - no specific reason, process is not big so randomly chosen 10 / to do)\n",
    "- so basically all the traces of length less than equal to 10 are chosen, \n",
    "    - We need to deal if vector length is not same (10 in our case) - we performed padding (adding zeros at the end) during encoding for those traces\n",
    "    - so we have traces with length 1,2,... 10 \n",
    "    - any trace with length less then equal to 10 can be predicted using our model"
   ]
  },
  {
   "cell_type": "code",
   "execution_count": 24,
   "metadata": {},
   "outputs": [],
   "source": [
    "# converting dataframe to event log\n",
    "trace_log = pm4py.format_dataframe(permits, case_id='case', activity_key='event', timestamp_key='completeTime', start_timestamp_key='startTime')\n",
    "trace_log = pm4py.convert_to_event_log(trace_log)"
   ]
  },
  {
   "attachments": {},
   "cell_type": "markdown",
   "metadata": {},
   "source": [
    "### Extracting target variable\n",
    "\n",
    "- In our case target variable is REJECTED Declaration, in the process whoever rejects the Declaration (Administrartor, pre-approvar, etc.) it is considered as Declaration REJECTED so using it to identify our target variable\n",
    "\n",
    "- One of our assumption is - If the decleration is not submitted by Employee and the payment is handeled directly, it is also considered as Declaration Accapted (so basically all the Declarations which is not rejected by employee are considerd as Accapted )\n",
    "\n",
    "- we are not dealing with situations where it got rejected twice. For now we are only interested in 1st time rejection\n"
   ]
  },
  {
   "cell_type": "code",
   "execution_count": 25,
   "metadata": {},
   "outputs": [],
   "source": [
    "# to extract target varaible, \n",
    "# if event starts with the name decleration rejected it is considered as rejected\n",
    "declerations = []\n",
    "for trace in trace_log:\n",
    "    flag = False\n",
    "    for i,event in enumerate(trace):\n",
    "        if \"Declaration REJECTED\" in event['event']:\n",
    "            flag = True\n",
    "            break\n",
    "    \n",
    "    if flag:\n",
    "        declerations.append(1)\n",
    "    else:\n",
    "        declerations.append(0)"
   ]
  },
  {
   "cell_type": "code",
   "execution_count": 26,
   "metadata": {},
   "outputs": [],
   "source": [
    "# extract traces only till the decleration is rejected (excluded), otherwise complete trace \n",
    "prefix_traces = []\n",
    "for trace in trace_log:\n",
    "    for i,event in enumerate(trace):\n",
    "        if \"Declaration REJECTED\" in event['event']:\n",
    "            break\n",
    "    prefix_traces.append(Trace(trace[:i], attributes = trace.attributes))\n",
    "prefix_traces = EventLog(prefix_traces)"
   ]
  },
  {
   "cell_type": "code",
   "execution_count": 27,
   "metadata": {},
   "outputs": [],
   "source": [
    "# generate prefixes, note that we need to add the casts to EventLog and Trace to make sure that the result is a PM4Py EventLog object\n",
    "trace_prefixes = EventLog([Trace(trace[0:t_length], attributes = trace.attributes) for trace in prefix_traces])"
   ]
  },
  {
   "cell_type": "code",
   "execution_count": 28,
   "metadata": {},
   "outputs": [
    {
     "name": "stdout",
     "output_type": "stream",
     "text": [
      "[16, 16, 6, 8, 8, 6, 17, 5, 8, 10, 6, 5, 8, 6, 9]\n",
      "[10, 10, 6, 8, 8, 6, 10, 5, 8, 10, 6, 5, 8, 6, 9]\n"
     ]
    }
   ],
   "source": [
    "# check the trace length\n",
    "print([len(trace) for trace in prefix_traces][0:15])\n",
    "print([len(trace) for trace in trace_prefixes][0:15])"
   ]
  },
  {
   "cell_type": "code",
   "execution_count": 29,
   "metadata": {},
   "outputs": [
    {
     "name": "stdout",
     "output_type": "stream",
     "text": [
      "['Permit SUBMITTED by EMPLOYEE', 'Permit APPROVED by ADMINISTRATION', 'Permit APPROVED by BUDGET OWNER', 'Permit FINAL_APPROVED by SUPERVISOR', 'Start trip', 'End trip', 'Declaration SUBMITTED by EMPLOYEE', 'Declaration APPROVED by ADMINISTRATION', 'Declaration SUBMITTED by EMPLOYEE', 'Declaration APPROVED by ADMINISTRATION']\n"
     ]
    }
   ],
   "source": [
    "# check if all good\n",
    "project_nth(trace_prefixes, 0)"
   ]
  },
  {
   "cell_type": "code",
   "execution_count": 30,
   "metadata": {},
   "outputs": [
    {
     "name": "stdout",
     "output_type": "stream",
     "text": [
      "2 6\n"
     ]
    }
   ],
   "source": [
    "# to check which traces are not of our desired length (these will be padded while preparing the the training data)\n",
    "for i,trace in enumerate(trace_prefixes):\n",
    "    if len(trace)!=t_length:\n",
    "        print(i, len(trace))\n",
    "        break"
   ]
  },
  {
   "cell_type": "code",
   "execution_count": 31,
   "metadata": {},
   "outputs": [
    {
     "data": {
      "text/html": [
       "<div>\n",
       "<style scoped>\n",
       "    .dataframe tbody tr th:only-of-type {\n",
       "        vertical-align: middle;\n",
       "    }\n",
       "\n",
       "    .dataframe tbody tr th {\n",
       "        vertical-align: top;\n",
       "    }\n",
       "\n",
       "    .dataframe thead th {\n",
       "        text-align: right;\n",
       "    }\n",
       "</style>\n",
       "<table border=\"1\" class=\"dataframe\">\n",
       "  <thead>\n",
       "    <tr style=\"text-align: right;\">\n",
       "      <th></th>\n",
       "      <th>case</th>\n",
       "      <th>event</th>\n",
       "      <th>startTime</th>\n",
       "      <th>completeTime</th>\n",
       "      <th>id</th>\n",
       "      <th>RequestedAmount_0</th>\n",
       "      <th>Overspent</th>\n",
       "      <th>travel permit number</th>\n",
       "      <th>OverspentAmount</th>\n",
       "      <th>RequestedBudget</th>\n",
       "      <th>...</th>\n",
       "      <th>year</th>\n",
       "      <th>month</th>\n",
       "      <th>@@approx_bh_partial_cycle_time</th>\n",
       "      <th>@@approx_bh_partial_lead_time</th>\n",
       "      <th>@@approx_bh_overall_wasted_time</th>\n",
       "      <th>@@approx_bh_this_wasted_time</th>\n",
       "      <th>@approx_bh_ratio_cycle_lead_time</th>\n",
       "      <th>concept:name</th>\n",
       "      <th>time:timestamp</th>\n",
       "      <th>case:concept:name</th>\n",
       "    </tr>\n",
       "  </thead>\n",
       "  <tbody>\n",
       "    <tr>\n",
       "      <th>0</th>\n",
       "      <td>travel permit 10022</td>\n",
       "      <td>Permit SUBMITTED by EMPLOYEE</td>\n",
       "      <td>2018-02-20 13:51:27+00:00</td>\n",
       "      <td>2018-02-20 13:51:27+00:00</td>\n",
       "      <td>travel permit 10022</td>\n",
       "      <td>395</td>\n",
       "      <td>False</td>\n",
       "      <td>travel permit number 10023</td>\n",
       "      <td>-50.662542</td>\n",
       "      <td>2134.047941</td>\n",
       "      <td>...</td>\n",
       "      <td>2018</td>\n",
       "      <td>2</td>\n",
       "      <td>0.0</td>\n",
       "      <td>0.0</td>\n",
       "      <td>0.0</td>\n",
       "      <td>0.0</td>\n",
       "      <td>1.0</td>\n",
       "      <td>Permit SUBMITTED by EMPLOYEE</td>\n",
       "      <td>2018-02-20 13:51:27+00:00</td>\n",
       "      <td>travel permit 10022</td>\n",
       "    </tr>\n",
       "    <tr>\n",
       "      <th>1</th>\n",
       "      <td>travel permit 10022</td>\n",
       "      <td>Permit APPROVED by ADMINISTRATION</td>\n",
       "      <td>2018-02-20 13:51:34+00:00</td>\n",
       "      <td>2018-02-20 13:51:34+00:00</td>\n",
       "      <td>travel permit 10022</td>\n",
       "      <td>395</td>\n",
       "      <td>False</td>\n",
       "      <td>travel permit number 10023</td>\n",
       "      <td>-50.662542</td>\n",
       "      <td>2134.047941</td>\n",
       "      <td>...</td>\n",
       "      <td>2018</td>\n",
       "      <td>2</td>\n",
       "      <td>0.0</td>\n",
       "      <td>7.0</td>\n",
       "      <td>7.0</td>\n",
       "      <td>7.0</td>\n",
       "      <td>0.0</td>\n",
       "      <td>Permit APPROVED by ADMINISTRATION</td>\n",
       "      <td>2018-02-20 13:51:34+00:00</td>\n",
       "      <td>travel permit 10022</td>\n",
       "    </tr>\n",
       "    <tr>\n",
       "      <th>2</th>\n",
       "      <td>travel permit 10022</td>\n",
       "      <td>Permit APPROVED by BUDGET OWNER</td>\n",
       "      <td>2018-02-20 16:27:33+00:00</td>\n",
       "      <td>2018-02-20 16:27:33+00:00</td>\n",
       "      <td>travel permit 10022</td>\n",
       "      <td>395</td>\n",
       "      <td>False</td>\n",
       "      <td>travel permit number 10023</td>\n",
       "      <td>-50.662542</td>\n",
       "      <td>2134.047941</td>\n",
       "      <td>...</td>\n",
       "      <td>2018</td>\n",
       "      <td>2</td>\n",
       "      <td>0.0</td>\n",
       "      <td>9366.0</td>\n",
       "      <td>9366.0</td>\n",
       "      <td>9359.0</td>\n",
       "      <td>0.0</td>\n",
       "      <td>Permit APPROVED by BUDGET OWNER</td>\n",
       "      <td>2018-02-20 16:27:33+00:00</td>\n",
       "      <td>travel permit 10022</td>\n",
       "    </tr>\n",
       "    <tr>\n",
       "      <th>3</th>\n",
       "      <td>travel permit 10022</td>\n",
       "      <td>Permit FINAL_APPROVED by SUPERVISOR</td>\n",
       "      <td>2018-02-21 12:58:49+00:00</td>\n",
       "      <td>2018-02-21 12:58:49+00:00</td>\n",
       "      <td>travel permit 10022</td>\n",
       "      <td>395</td>\n",
       "      <td>False</td>\n",
       "      <td>travel permit number 10023</td>\n",
       "      <td>-50.662542</td>\n",
       "      <td>2134.047941</td>\n",
       "      <td>...</td>\n",
       "      <td>2018</td>\n",
       "      <td>2</td>\n",
       "      <td>0.0</td>\n",
       "      <td>32842.0</td>\n",
       "      <td>32842.0</td>\n",
       "      <td>23476.0</td>\n",
       "      <td>0.0</td>\n",
       "      <td>Permit FINAL_APPROVED by SUPERVISOR</td>\n",
       "      <td>2018-02-21 12:58:49+00:00</td>\n",
       "      <td>travel permit 10022</td>\n",
       "    </tr>\n",
       "    <tr>\n",
       "      <th>4</th>\n",
       "      <td>travel permit 10022</td>\n",
       "      <td>Start trip</td>\n",
       "      <td>2018-03-17 00:00:00+00:00</td>\n",
       "      <td>2018-03-17 00:00:00+00:00</td>\n",
       "      <td>travel permit 10022</td>\n",
       "      <td>395</td>\n",
       "      <td>False</td>\n",
       "      <td>travel permit number 10023</td>\n",
       "      <td>-50.662542</td>\n",
       "      <td>2134.047941</td>\n",
       "      <td>...</td>\n",
       "      <td>2018</td>\n",
       "      <td>3</td>\n",
       "      <td>0.0</td>\n",
       "      <td>659313.0</td>\n",
       "      <td>659313.0</td>\n",
       "      <td>626471.0</td>\n",
       "      <td>0.0</td>\n",
       "      <td>Start trip</td>\n",
       "      <td>2018-03-17 00:00:00+00:00</td>\n",
       "      <td>travel permit 10022</td>\n",
       "    </tr>\n",
       "  </tbody>\n",
       "</table>\n",
       "<p>5 rows × 32 columns</p>\n",
       "</div>"
      ],
      "text/plain": [
       "                  case                                event  \\\n",
       "0  travel permit 10022         Permit SUBMITTED by EMPLOYEE   \n",
       "1  travel permit 10022    Permit APPROVED by ADMINISTRATION   \n",
       "2  travel permit 10022      Permit APPROVED by BUDGET OWNER   \n",
       "3  travel permit 10022  Permit FINAL_APPROVED by SUPERVISOR   \n",
       "4  travel permit 10022                           Start trip   \n",
       "\n",
       "                  startTime              completeTime                   id  \\\n",
       "0 2018-02-20 13:51:27+00:00 2018-02-20 13:51:27+00:00  travel permit 10022   \n",
       "1 2018-02-20 13:51:34+00:00 2018-02-20 13:51:34+00:00  travel permit 10022   \n",
       "2 2018-02-20 16:27:33+00:00 2018-02-20 16:27:33+00:00  travel permit 10022   \n",
       "3 2018-02-21 12:58:49+00:00 2018-02-21 12:58:49+00:00  travel permit 10022   \n",
       "4 2018-03-17 00:00:00+00:00 2018-03-17 00:00:00+00:00  travel permit 10022   \n",
       "\n",
       "  RequestedAmount_0  Overspent        travel permit number  OverspentAmount  \\\n",
       "0               395      False  travel permit number 10023       -50.662542   \n",
       "1               395      False  travel permit number 10023       -50.662542   \n",
       "2               395      False  travel permit number 10023       -50.662542   \n",
       "3               395      False  travel permit number 10023       -50.662542   \n",
       "4               395      False  travel permit number 10023       -50.662542   \n",
       "\n",
       "   RequestedBudget  ...  year month  @@approx_bh_partial_cycle_time  \\\n",
       "0      2134.047941  ...  2018     2                             0.0   \n",
       "1      2134.047941  ...  2018     2                             0.0   \n",
       "2      2134.047941  ...  2018     2                             0.0   \n",
       "3      2134.047941  ...  2018     2                             0.0   \n",
       "4      2134.047941  ...  2018     3                             0.0   \n",
       "\n",
       "  @@approx_bh_partial_lead_time @@approx_bh_overall_wasted_time  \\\n",
       "0                           0.0                             0.0   \n",
       "1                           7.0                             7.0   \n",
       "2                        9366.0                          9366.0   \n",
       "3                       32842.0                         32842.0   \n",
       "4                      659313.0                        659313.0   \n",
       "\n",
       "  @@approx_bh_this_wasted_time @approx_bh_ratio_cycle_lead_time  \\\n",
       "0                          0.0                              1.0   \n",
       "1                          7.0                              0.0   \n",
       "2                       9359.0                              0.0   \n",
       "3                      23476.0                              0.0   \n",
       "4                     626471.0                              0.0   \n",
       "\n",
       "                          concept:name            time:timestamp  \\\n",
       "0         Permit SUBMITTED by EMPLOYEE 2018-02-20 13:51:27+00:00   \n",
       "1    Permit APPROVED by ADMINISTRATION 2018-02-20 13:51:34+00:00   \n",
       "2      Permit APPROVED by BUDGET OWNER 2018-02-20 16:27:33+00:00   \n",
       "3  Permit FINAL_APPROVED by SUPERVISOR 2018-02-21 12:58:49+00:00   \n",
       "4                           Start trip 2018-03-17 00:00:00+00:00   \n",
       "\n",
       "     case:concept:name  \n",
       "0  travel permit 10022  \n",
       "1  travel permit 10022  \n",
       "2  travel permit 10022  \n",
       "3  travel permit 10022  \n",
       "4  travel permit 10022  \n",
       "\n",
       "[5 rows x 32 columns]"
      ]
     },
     "execution_count": 31,
     "metadata": {},
     "output_type": "execute_result"
    }
   ],
   "source": [
    "# convert logs to dataframe\n",
    "# final base dataframe\n",
    "df = pm4py.convert_to_dataframe(trace_prefixes)\n",
    "df.head(5)"
   ]
  },
  {
   "cell_type": "code",
   "execution_count": 47,
   "metadata": {},
   "outputs": [
    {
     "data": {
      "text/html": [
       "<div>\n",
       "<style scoped>\n",
       "    .dataframe tbody tr th:only-of-type {\n",
       "        vertical-align: middle;\n",
       "    }\n",
       "\n",
       "    .dataframe tbody tr th {\n",
       "        vertical-align: top;\n",
       "    }\n",
       "\n",
       "    .dataframe thead th {\n",
       "        text-align: right;\n",
       "    }\n",
       "</style>\n",
       "<table border=\"1\" class=\"dataframe\">\n",
       "  <thead>\n",
       "    <tr style=\"text-align: right;\">\n",
       "      <th></th>\n",
       "      <th>case</th>\n",
       "      <th>event</th>\n",
       "      <th>startTime</th>\n",
       "      <th>completeTime</th>\n",
       "      <th>id</th>\n",
       "      <th>RequestedAmount_0</th>\n",
       "      <th>Overspent</th>\n",
       "      <th>travel permit number</th>\n",
       "      <th>OverspentAmount</th>\n",
       "      <th>RequestedBudget</th>\n",
       "      <th>...</th>\n",
       "      <th>year</th>\n",
       "      <th>month</th>\n",
       "      <th>@@approx_bh_partial_cycle_time</th>\n",
       "      <th>@@approx_bh_partial_lead_time</th>\n",
       "      <th>@@approx_bh_overall_wasted_time</th>\n",
       "      <th>@@approx_bh_this_wasted_time</th>\n",
       "      <th>@approx_bh_ratio_cycle_lead_time</th>\n",
       "      <th>concept:name</th>\n",
       "      <th>time:timestamp</th>\n",
       "      <th>case:concept:name</th>\n",
       "    </tr>\n",
       "  </thead>\n",
       "  <tbody>\n",
       "    <tr>\n",
       "      <th>0</th>\n",
       "      <td>travel permit 10022</td>\n",
       "      <td>Permit SUBMITTED by EMPLOYEE</td>\n",
       "      <td>2018-02-20 13:51:27+00:00</td>\n",
       "      <td>2018-02-20 13:51:27+00:00</td>\n",
       "      <td>travel permit 10022</td>\n",
       "      <td>395</td>\n",
       "      <td>False</td>\n",
       "      <td>travel permit number 10023</td>\n",
       "      <td>-50.662542</td>\n",
       "      <td>2134.047941</td>\n",
       "      <td>...</td>\n",
       "      <td>2018</td>\n",
       "      <td>2</td>\n",
       "      <td>0.0</td>\n",
       "      <td>0.0</td>\n",
       "      <td>0.0</td>\n",
       "      <td>0.0</td>\n",
       "      <td>1.0</td>\n",
       "      <td>Permit SUBMITTED by EMPLOYEE</td>\n",
       "      <td>2018-02-20 13:51:27+00:00</td>\n",
       "      <td>travel permit 10022</td>\n",
       "    </tr>\n",
       "    <tr>\n",
       "      <th>1</th>\n",
       "      <td>travel permit 10022</td>\n",
       "      <td>Permit APPROVED by ADMINISTRATION</td>\n",
       "      <td>2018-02-20 13:51:34+00:00</td>\n",
       "      <td>2018-02-20 13:51:34+00:00</td>\n",
       "      <td>travel permit 10022</td>\n",
       "      <td>395</td>\n",
       "      <td>False</td>\n",
       "      <td>travel permit number 10023</td>\n",
       "      <td>-50.662542</td>\n",
       "      <td>2134.047941</td>\n",
       "      <td>...</td>\n",
       "      <td>2018</td>\n",
       "      <td>2</td>\n",
       "      <td>0.0</td>\n",
       "      <td>7.0</td>\n",
       "      <td>7.0</td>\n",
       "      <td>7.0</td>\n",
       "      <td>0.0</td>\n",
       "      <td>Permit APPROVED by ADMINISTRATION</td>\n",
       "      <td>2018-02-20 13:51:34+00:00</td>\n",
       "      <td>travel permit 10022</td>\n",
       "    </tr>\n",
       "    <tr>\n",
       "      <th>2</th>\n",
       "      <td>travel permit 10022</td>\n",
       "      <td>Permit APPROVED by BUDGET OWNER</td>\n",
       "      <td>2018-02-20 16:27:33+00:00</td>\n",
       "      <td>2018-02-20 16:27:33+00:00</td>\n",
       "      <td>travel permit 10022</td>\n",
       "      <td>395</td>\n",
       "      <td>False</td>\n",
       "      <td>travel permit number 10023</td>\n",
       "      <td>-50.662542</td>\n",
       "      <td>2134.047941</td>\n",
       "      <td>...</td>\n",
       "      <td>2018</td>\n",
       "      <td>2</td>\n",
       "      <td>0.0</td>\n",
       "      <td>9366.0</td>\n",
       "      <td>9366.0</td>\n",
       "      <td>9359.0</td>\n",
       "      <td>0.0</td>\n",
       "      <td>Permit APPROVED by BUDGET OWNER</td>\n",
       "      <td>2018-02-20 16:27:33+00:00</td>\n",
       "      <td>travel permit 10022</td>\n",
       "    </tr>\n",
       "    <tr>\n",
       "      <th>3</th>\n",
       "      <td>travel permit 10022</td>\n",
       "      <td>Permit FINAL_APPROVED by SUPERVISOR</td>\n",
       "      <td>2018-02-21 12:58:49+00:00</td>\n",
       "      <td>2018-02-21 12:58:49+00:00</td>\n",
       "      <td>travel permit 10022</td>\n",
       "      <td>395</td>\n",
       "      <td>False</td>\n",
       "      <td>travel permit number 10023</td>\n",
       "      <td>-50.662542</td>\n",
       "      <td>2134.047941</td>\n",
       "      <td>...</td>\n",
       "      <td>2018</td>\n",
       "      <td>2</td>\n",
       "      <td>0.0</td>\n",
       "      <td>32842.0</td>\n",
       "      <td>32842.0</td>\n",
       "      <td>23476.0</td>\n",
       "      <td>0.0</td>\n",
       "      <td>Permit FINAL_APPROVED by SUPERVISOR</td>\n",
       "      <td>2018-02-21 12:58:49+00:00</td>\n",
       "      <td>travel permit 10022</td>\n",
       "    </tr>\n",
       "    <tr>\n",
       "      <th>4</th>\n",
       "      <td>travel permit 10022</td>\n",
       "      <td>Start trip</td>\n",
       "      <td>2018-03-17 00:00:00+00:00</td>\n",
       "      <td>2018-03-17 00:00:00+00:00</td>\n",
       "      <td>travel permit 10022</td>\n",
       "      <td>395</td>\n",
       "      <td>False</td>\n",
       "      <td>travel permit number 10023</td>\n",
       "      <td>-50.662542</td>\n",
       "      <td>2134.047941</td>\n",
       "      <td>...</td>\n",
       "      <td>2018</td>\n",
       "      <td>3</td>\n",
       "      <td>0.0</td>\n",
       "      <td>659313.0</td>\n",
       "      <td>659313.0</td>\n",
       "      <td>626471.0</td>\n",
       "      <td>0.0</td>\n",
       "      <td>Start trip</td>\n",
       "      <td>2018-03-17 00:00:00+00:00</td>\n",
       "      <td>travel permit 10022</td>\n",
       "    </tr>\n",
       "    <tr>\n",
       "      <th>5</th>\n",
       "      <td>travel permit 10022</td>\n",
       "      <td>End trip</td>\n",
       "      <td>2018-03-22 00:00:00+00:00</td>\n",
       "      <td>2018-03-22 00:00:00+00:00</td>\n",
       "      <td>travel permit 10022</td>\n",
       "      <td>395</td>\n",
       "      <td>False</td>\n",
       "      <td>travel permit number 10023</td>\n",
       "      <td>-50.662542</td>\n",
       "      <td>2134.047941</td>\n",
       "      <td>...</td>\n",
       "      <td>2018</td>\n",
       "      <td>3</td>\n",
       "      <td>0.0</td>\n",
       "      <td>767313.0</td>\n",
       "      <td>767313.0</td>\n",
       "      <td>108000.0</td>\n",
       "      <td>0.0</td>\n",
       "      <td>End trip</td>\n",
       "      <td>2018-03-22 00:00:00+00:00</td>\n",
       "      <td>travel permit 10022</td>\n",
       "    </tr>\n",
       "    <tr>\n",
       "      <th>6</th>\n",
       "      <td>travel permit 10022</td>\n",
       "      <td>Declaration SUBMITTED by EMPLOYEE</td>\n",
       "      <td>2018-04-15 16:36:12+00:00</td>\n",
       "      <td>2018-04-15 16:36:12+00:00</td>\n",
       "      <td>travel permit 10022</td>\n",
       "      <td>395</td>\n",
       "      <td>False</td>\n",
       "      <td>travel permit number 10023</td>\n",
       "      <td>-50.662542</td>\n",
       "      <td>2134.047941</td>\n",
       "      <td>...</td>\n",
       "      <td>2018</td>\n",
       "      <td>4</td>\n",
       "      <td>0.0</td>\n",
       "      <td>1379313.0</td>\n",
       "      <td>1379313.0</td>\n",
       "      <td>612000.0</td>\n",
       "      <td>0.0</td>\n",
       "      <td>Declaration SUBMITTED by EMPLOYEE</td>\n",
       "      <td>2018-04-15 16:36:12+00:00</td>\n",
       "      <td>travel permit 10022</td>\n",
       "    </tr>\n",
       "    <tr>\n",
       "      <th>7</th>\n",
       "      <td>travel permit 10022</td>\n",
       "      <td>Declaration APPROVED by ADMINISTRATION</td>\n",
       "      <td>2018-04-16 21:05:21+00:00</td>\n",
       "      <td>2018-04-16 21:05:21+00:00</td>\n",
       "      <td>travel permit 10022</td>\n",
       "      <td>395</td>\n",
       "      <td>False</td>\n",
       "      <td>travel permit number 10023</td>\n",
       "      <td>-50.662542</td>\n",
       "      <td>2134.047941</td>\n",
       "      <td>...</td>\n",
       "      <td>2018</td>\n",
       "      <td>4</td>\n",
       "      <td>0.0</td>\n",
       "      <td>1415313.0</td>\n",
       "      <td>1415313.0</td>\n",
       "      <td>36000.0</td>\n",
       "      <td>0.0</td>\n",
       "      <td>Declaration APPROVED by ADMINISTRATION</td>\n",
       "      <td>2018-04-16 21:05:21+00:00</td>\n",
       "      <td>travel permit 10022</td>\n",
       "    </tr>\n",
       "    <tr>\n",
       "      <th>8</th>\n",
       "      <td>travel permit 10022</td>\n",
       "      <td>Declaration SUBMITTED by EMPLOYEE</td>\n",
       "      <td>2018-04-16 21:08:02+00:00</td>\n",
       "      <td>2018-04-16 21:08:02+00:00</td>\n",
       "      <td>travel permit 10022</td>\n",
       "      <td>395</td>\n",
       "      <td>False</td>\n",
       "      <td>travel permit number 10023</td>\n",
       "      <td>-50.662542</td>\n",
       "      <td>2134.047941</td>\n",
       "      <td>...</td>\n",
       "      <td>2018</td>\n",
       "      <td>4</td>\n",
       "      <td>0.0</td>\n",
       "      <td>1415313.0</td>\n",
       "      <td>1415313.0</td>\n",
       "      <td>0.0</td>\n",
       "      <td>0.0</td>\n",
       "      <td>Declaration SUBMITTED by EMPLOYEE</td>\n",
       "      <td>2018-04-16 21:08:02+00:00</td>\n",
       "      <td>travel permit 10022</td>\n",
       "    </tr>\n",
       "    <tr>\n",
       "      <th>9</th>\n",
       "      <td>travel permit 10022</td>\n",
       "      <td>Declaration APPROVED by ADMINISTRATION</td>\n",
       "      <td>2018-04-16 21:14:17+00:00</td>\n",
       "      <td>2018-04-16 21:14:17+00:00</td>\n",
       "      <td>travel permit 10022</td>\n",
       "      <td>395</td>\n",
       "      <td>False</td>\n",
       "      <td>travel permit number 10023</td>\n",
       "      <td>-50.662542</td>\n",
       "      <td>2134.047941</td>\n",
       "      <td>...</td>\n",
       "      <td>2018</td>\n",
       "      <td>4</td>\n",
       "      <td>0.0</td>\n",
       "      <td>1415313.0</td>\n",
       "      <td>1415313.0</td>\n",
       "      <td>0.0</td>\n",
       "      <td>0.0</td>\n",
       "      <td>Declaration APPROVED by ADMINISTRATION</td>\n",
       "      <td>2018-04-16 21:14:17+00:00</td>\n",
       "      <td>travel permit 10022</td>\n",
       "    </tr>\n",
       "    <tr>\n",
       "      <th>10</th>\n",
       "      <td>travel permit 10040</td>\n",
       "      <td>Permit SUBMITTED by EMPLOYEE</td>\n",
       "      <td>2018-02-20 13:53:11+00:00</td>\n",
       "      <td>2018-02-20 13:53:11+00:00</td>\n",
       "      <td>travel permit 10040</td>\n",
       "      <td>2129.846048886792</td>\n",
       "      <td>False</td>\n",
       "      <td>travel permit number 10041</td>\n",
       "      <td>-646.643989</td>\n",
       "      <td>2531.512736</td>\n",
       "      <td>...</td>\n",
       "      <td>2018</td>\n",
       "      <td>2</td>\n",
       "      <td>0.0</td>\n",
       "      <td>0.0</td>\n",
       "      <td>0.0</td>\n",
       "      <td>0.0</td>\n",
       "      <td>1.0</td>\n",
       "      <td>Permit SUBMITTED by EMPLOYEE</td>\n",
       "      <td>2018-02-20 13:53:11+00:00</td>\n",
       "      <td>travel permit 10040</td>\n",
       "    </tr>\n",
       "    <tr>\n",
       "      <th>11</th>\n",
       "      <td>travel permit 10040</td>\n",
       "      <td>Permit APPROVED by ADMINISTRATION</td>\n",
       "      <td>2018-02-20 13:53:14+00:00</td>\n",
       "      <td>2018-02-20 13:53:14+00:00</td>\n",
       "      <td>travel permit 10040</td>\n",
       "      <td>2129.846048886792</td>\n",
       "      <td>False</td>\n",
       "      <td>travel permit number 10041</td>\n",
       "      <td>-646.643989</td>\n",
       "      <td>2531.512736</td>\n",
       "      <td>...</td>\n",
       "      <td>2018</td>\n",
       "      <td>2</td>\n",
       "      <td>0.0</td>\n",
       "      <td>3.0</td>\n",
       "      <td>3.0</td>\n",
       "      <td>3.0</td>\n",
       "      <td>0.0</td>\n",
       "      <td>Permit APPROVED by ADMINISTRATION</td>\n",
       "      <td>2018-02-20 13:53:14+00:00</td>\n",
       "      <td>travel permit 10040</td>\n",
       "    </tr>\n",
       "    <tr>\n",
       "      <th>12</th>\n",
       "      <td>travel permit 10040</td>\n",
       "      <td>Permit FINAL_APPROVED by SUPERVISOR</td>\n",
       "      <td>2018-02-20 16:28:52+00:00</td>\n",
       "      <td>2018-02-20 16:28:52+00:00</td>\n",
       "      <td>travel permit 10040</td>\n",
       "      <td>2129.846048886792</td>\n",
       "      <td>False</td>\n",
       "      <td>travel permit number 10041</td>\n",
       "      <td>-646.643989</td>\n",
       "      <td>2531.512736</td>\n",
       "      <td>...</td>\n",
       "      <td>2018</td>\n",
       "      <td>2</td>\n",
       "      <td>0.0</td>\n",
       "      <td>9341.0</td>\n",
       "      <td>9341.0</td>\n",
       "      <td>9338.0</td>\n",
       "      <td>0.0</td>\n",
       "      <td>Permit FINAL_APPROVED by SUPERVISOR</td>\n",
       "      <td>2018-02-20 16:28:52+00:00</td>\n",
       "      <td>travel permit 10040</td>\n",
       "    </tr>\n",
       "    <tr>\n",
       "      <th>13</th>\n",
       "      <td>travel permit 10040</td>\n",
       "      <td>Request For Payment SUBMITTED by EMPLOYEE</td>\n",
       "      <td>2018-02-23 16:48:10+00:00</td>\n",
       "      <td>2018-02-23 16:48:10+00:00</td>\n",
       "      <td>travel permit 10040</td>\n",
       "      <td>2129.846048886792</td>\n",
       "      <td>False</td>\n",
       "      <td>travel permit number 10041</td>\n",
       "      <td>-646.643989</td>\n",
       "      <td>2531.512736</td>\n",
       "      <td>...</td>\n",
       "      <td>2018</td>\n",
       "      <td>2</td>\n",
       "      <td>0.0</td>\n",
       "      <td>118499.0</td>\n",
       "      <td>118499.0</td>\n",
       "      <td>109158.0</td>\n",
       "      <td>0.0</td>\n",
       "      <td>Request For Payment SUBMITTED by EMPLOYEE</td>\n",
       "      <td>2018-02-23 16:48:10+00:00</td>\n",
       "      <td>travel permit 10040</td>\n",
       "    </tr>\n",
       "    <tr>\n",
       "      <th>14</th>\n",
       "      <td>travel permit 10040</td>\n",
       "      <td>Request For Payment REJECTED by ADMINISTRATION</td>\n",
       "      <td>2018-02-23 16:50:51+00:00</td>\n",
       "      <td>2018-02-23 16:50:51+00:00</td>\n",
       "      <td>travel permit 10040</td>\n",
       "      <td>2129.846048886792</td>\n",
       "      <td>False</td>\n",
       "      <td>travel permit number 10041</td>\n",
       "      <td>-646.643989</td>\n",
       "      <td>2531.512736</td>\n",
       "      <td>...</td>\n",
       "      <td>2018</td>\n",
       "      <td>2</td>\n",
       "      <td>0.0</td>\n",
       "      <td>118660.0</td>\n",
       "      <td>118660.0</td>\n",
       "      <td>161.0</td>\n",
       "      <td>0.0</td>\n",
       "      <td>Request For Payment REJECTED by ADMINISTRATION</td>\n",
       "      <td>2018-02-23 16:50:51+00:00</td>\n",
       "      <td>travel permit 10040</td>\n",
       "    </tr>\n",
       "    <tr>\n",
       "      <th>15</th>\n",
       "      <td>travel permit 10040</td>\n",
       "      <td>Request For Payment REJECTED by EMPLOYEE</td>\n",
       "      <td>2018-02-26 09:24:04+00:00</td>\n",
       "      <td>2018-02-26 09:24:04+00:00</td>\n",
       "      <td>travel permit 10040</td>\n",
       "      <td>2129.846048886792</td>\n",
       "      <td>False</td>\n",
       "      <td>travel permit number 10041</td>\n",
       "      <td>-646.643989</td>\n",
       "      <td>2531.512736</td>\n",
       "      <td>...</td>\n",
       "      <td>2018</td>\n",
       "      <td>2</td>\n",
       "      <td>0.0</td>\n",
       "      <td>127853.0</td>\n",
       "      <td>127853.0</td>\n",
       "      <td>9193.0</td>\n",
       "      <td>0.0</td>\n",
       "      <td>Request For Payment REJECTED by EMPLOYEE</td>\n",
       "      <td>2018-02-26 09:24:04+00:00</td>\n",
       "      <td>travel permit 10040</td>\n",
       "    </tr>\n",
       "    <tr>\n",
       "      <th>16</th>\n",
       "      <td>travel permit 10040</td>\n",
       "      <td>Request For Payment SUBMITTED by EMPLOYEE</td>\n",
       "      <td>2018-02-26 11:30:14+00:00</td>\n",
       "      <td>2018-02-26 11:30:14+00:00</td>\n",
       "      <td>travel permit 10040</td>\n",
       "      <td>2129.846048886792</td>\n",
       "      <td>False</td>\n",
       "      <td>travel permit number 10041</td>\n",
       "      <td>-646.643989</td>\n",
       "      <td>2531.512736</td>\n",
       "      <td>...</td>\n",
       "      <td>2018</td>\n",
       "      <td>2</td>\n",
       "      <td>0.0</td>\n",
       "      <td>135423.0</td>\n",
       "      <td>135423.0</td>\n",
       "      <td>7570.0</td>\n",
       "      <td>0.0</td>\n",
       "      <td>Request For Payment SUBMITTED by EMPLOYEE</td>\n",
       "      <td>2018-02-26 11:30:14+00:00</td>\n",
       "      <td>travel permit 10040</td>\n",
       "    </tr>\n",
       "    <tr>\n",
       "      <th>17</th>\n",
       "      <td>travel permit 10040</td>\n",
       "      <td>Request For Payment APPROVED by ADMINISTRATION</td>\n",
       "      <td>2018-02-26 11:30:29+00:00</td>\n",
       "      <td>2018-02-26 11:30:29+00:00</td>\n",
       "      <td>travel permit 10040</td>\n",
       "      <td>2129.846048886792</td>\n",
       "      <td>False</td>\n",
       "      <td>travel permit number 10041</td>\n",
       "      <td>-646.643989</td>\n",
       "      <td>2531.512736</td>\n",
       "      <td>...</td>\n",
       "      <td>2018</td>\n",
       "      <td>2</td>\n",
       "      <td>0.0</td>\n",
       "      <td>135438.0</td>\n",
       "      <td>135438.0</td>\n",
       "      <td>15.0</td>\n",
       "      <td>0.0</td>\n",
       "      <td>Request For Payment APPROVED by ADMINISTRATION</td>\n",
       "      <td>2018-02-26 11:30:29+00:00</td>\n",
       "      <td>travel permit 10040</td>\n",
       "    </tr>\n",
       "    <tr>\n",
       "      <th>18</th>\n",
       "      <td>travel permit 10040</td>\n",
       "      <td>Request For Payment FINAL_APPROVED by SUPERVISOR</td>\n",
       "      <td>2018-02-26 15:26:30+00:00</td>\n",
       "      <td>2018-02-26 15:26:30+00:00</td>\n",
       "      <td>travel permit 10040</td>\n",
       "      <td>2129.846048886792</td>\n",
       "      <td>False</td>\n",
       "      <td>travel permit number 10041</td>\n",
       "      <td>-646.643989</td>\n",
       "      <td>2531.512736</td>\n",
       "      <td>...</td>\n",
       "      <td>2018</td>\n",
       "      <td>2</td>\n",
       "      <td>0.0</td>\n",
       "      <td>149599.0</td>\n",
       "      <td>149599.0</td>\n",
       "      <td>14161.0</td>\n",
       "      <td>0.0</td>\n",
       "      <td>Request For Payment FINAL_APPROVED by SUPERVISOR</td>\n",
       "      <td>2018-02-26 15:26:30+00:00</td>\n",
       "      <td>travel permit 10040</td>\n",
       "    </tr>\n",
       "    <tr>\n",
       "      <th>19</th>\n",
       "      <td>travel permit 10040</td>\n",
       "      <td>Request Payment</td>\n",
       "      <td>2018-03-01 06:26:43+00:00</td>\n",
       "      <td>2018-03-01 06:26:43+00:00</td>\n",
       "      <td>travel permit 10040</td>\n",
       "      <td>2129.846048886792</td>\n",
       "      <td>False</td>\n",
       "      <td>travel permit number 10041</td>\n",
       "      <td>-646.643989</td>\n",
       "      <td>2531.512736</td>\n",
       "      <td>...</td>\n",
       "      <td>2018</td>\n",
       "      <td>3</td>\n",
       "      <td>0.0</td>\n",
       "      <td>227209.0</td>\n",
       "      <td>227209.0</td>\n",
       "      <td>77610.0</td>\n",
       "      <td>0.0</td>\n",
       "      <td>Request Payment</td>\n",
       "      <td>2018-03-01 06:26:43+00:00</td>\n",
       "      <td>travel permit 10040</td>\n",
       "    </tr>\n",
       "    <tr>\n",
       "      <th>20</th>\n",
       "      <td>travel permit 10060</td>\n",
       "      <td>Permit SUBMITTED by EMPLOYEE</td>\n",
       "      <td>2018-02-20 17:29:10+00:00</td>\n",
       "      <td>2018-02-20 17:29:10+00:00</td>\n",
       "      <td>travel permit 10060</td>\n",
       "      <td>NaN</td>\n",
       "      <td>False</td>\n",
       "      <td>travel permit number 10061</td>\n",
       "      <td>0.000000</td>\n",
       "      <td>0.000000</td>\n",
       "      <td>...</td>\n",
       "      <td>2018</td>\n",
       "      <td>2</td>\n",
       "      <td>0.0</td>\n",
       "      <td>0.0</td>\n",
       "      <td>0.0</td>\n",
       "      <td>0.0</td>\n",
       "      <td>1.0</td>\n",
       "      <td>Permit SUBMITTED by EMPLOYEE</td>\n",
       "      <td>2018-02-20 17:29:10+00:00</td>\n",
       "      <td>travel permit 10060</td>\n",
       "    </tr>\n",
       "    <tr>\n",
       "      <th>21</th>\n",
       "      <td>travel permit 10060</td>\n",
       "      <td>Permit APPROVED by ADMINISTRATION</td>\n",
       "      <td>2018-02-20 17:29:15+00:00</td>\n",
       "      <td>2018-02-20 17:29:15+00:00</td>\n",
       "      <td>travel permit 10060</td>\n",
       "      <td>NaN</td>\n",
       "      <td>False</td>\n",
       "      <td>travel permit number 10061</td>\n",
       "      <td>0.000000</td>\n",
       "      <td>0.000000</td>\n",
       "      <td>...</td>\n",
       "      <td>2018</td>\n",
       "      <td>2</td>\n",
       "      <td>0.0</td>\n",
       "      <td>0.0</td>\n",
       "      <td>0.0</td>\n",
       "      <td>0.0</td>\n",
       "      <td>1.0</td>\n",
       "      <td>Permit APPROVED by ADMINISTRATION</td>\n",
       "      <td>2018-02-20 17:29:15+00:00</td>\n",
       "      <td>travel permit 10060</td>\n",
       "    </tr>\n",
       "    <tr>\n",
       "      <th>22</th>\n",
       "      <td>travel permit 10060</td>\n",
       "      <td>Permit APPROVED by BUDGET OWNER</td>\n",
       "      <td>2018-02-22 15:49:58+00:00</td>\n",
       "      <td>2018-02-22 15:49:58+00:00</td>\n",
       "      <td>travel permit 10060</td>\n",
       "      <td>NaN</td>\n",
       "      <td>False</td>\n",
       "      <td>travel permit number 10061</td>\n",
       "      <td>0.000000</td>\n",
       "      <td>0.000000</td>\n",
       "      <td>...</td>\n",
       "      <td>2018</td>\n",
       "      <td>2</td>\n",
       "      <td>0.0</td>\n",
       "      <td>67798.0</td>\n",
       "      <td>67798.0</td>\n",
       "      <td>67798.0</td>\n",
       "      <td>0.0</td>\n",
       "      <td>Permit APPROVED by BUDGET OWNER</td>\n",
       "      <td>2018-02-22 15:49:58+00:00</td>\n",
       "      <td>travel permit 10060</td>\n",
       "    </tr>\n",
       "    <tr>\n",
       "      <th>23</th>\n",
       "      <td>travel permit 10060</td>\n",
       "      <td>Permit FINAL_APPROVED by SUPERVISOR</td>\n",
       "      <td>2018-02-26 12:14:57+00:00</td>\n",
       "      <td>2018-02-26 12:14:57+00:00</td>\n",
       "      <td>travel permit 10060</td>\n",
       "      <td>NaN</td>\n",
       "      <td>False</td>\n",
       "      <td>travel permit number 10061</td>\n",
       "      <td>0.000000</td>\n",
       "      <td>0.000000</td>\n",
       "      <td>...</td>\n",
       "      <td>2018</td>\n",
       "      <td>2</td>\n",
       "      <td>0.0</td>\n",
       "      <td>126897.0</td>\n",
       "      <td>126897.0</td>\n",
       "      <td>59099.0</td>\n",
       "      <td>0.0</td>\n",
       "      <td>Permit FINAL_APPROVED by SUPERVISOR</td>\n",
       "      <td>2018-02-26 12:14:57+00:00</td>\n",
       "      <td>travel permit 10060</td>\n",
       "    </tr>\n",
       "    <tr>\n",
       "      <th>24</th>\n",
       "      <td>travel permit 10060</td>\n",
       "      <td>Start trip</td>\n",
       "      <td>2018-06-18 00:00:00+00:00</td>\n",
       "      <td>2018-06-18 00:00:00+00:00</td>\n",
       "      <td>travel permit 10060</td>\n",
       "      <td>NaN</td>\n",
       "      <td>False</td>\n",
       "      <td>travel permit number 10061</td>\n",
       "      <td>0.000000</td>\n",
       "      <td>0.000000</td>\n",
       "      <td>...</td>\n",
       "      <td>2018</td>\n",
       "      <td>6</td>\n",
       "      <td>0.0</td>\n",
       "      <td>2988000.0</td>\n",
       "      <td>2988000.0</td>\n",
       "      <td>2861103.0</td>\n",
       "      <td>0.0</td>\n",
       "      <td>Start trip</td>\n",
       "      <td>2018-06-18 00:00:00+00:00</td>\n",
       "      <td>travel permit 10060</td>\n",
       "    </tr>\n",
       "    <tr>\n",
       "      <th>25</th>\n",
       "      <td>travel permit 10060</td>\n",
       "      <td>End trip</td>\n",
       "      <td>2018-07-18 00:00:00+00:00</td>\n",
       "      <td>2018-07-18 00:00:00+00:00</td>\n",
       "      <td>travel permit 10060</td>\n",
       "      <td>NaN</td>\n",
       "      <td>False</td>\n",
       "      <td>travel permit number 10061</td>\n",
       "      <td>0.000000</td>\n",
       "      <td>0.000000</td>\n",
       "      <td>...</td>\n",
       "      <td>2018</td>\n",
       "      <td>7</td>\n",
       "      <td>0.0</td>\n",
       "      <td>3780000.0</td>\n",
       "      <td>3780000.0</td>\n",
       "      <td>792000.0</td>\n",
       "      <td>0.0</td>\n",
       "      <td>End trip</td>\n",
       "      <td>2018-07-18 00:00:00+00:00</td>\n",
       "      <td>travel permit 10060</td>\n",
       "    </tr>\n",
       "    <tr>\n",
       "      <th>26</th>\n",
       "      <td>travel permit 10066</td>\n",
       "      <td>Permit SUBMITTED by EMPLOYEE</td>\n",
       "      <td>2018-02-21 16:28:17+00:00</td>\n",
       "      <td>2018-02-21 16:28:17+00:00</td>\n",
       "      <td>travel permit 10066</td>\n",
       "      <td>79</td>\n",
       "      <td>False</td>\n",
       "      <td>travel permit number 10067</td>\n",
       "      <td>-18.925474</td>\n",
       "      <td>64.878503</td>\n",
       "      <td>...</td>\n",
       "      <td>2018</td>\n",
       "      <td>2</td>\n",
       "      <td>0.0</td>\n",
       "      <td>0.0</td>\n",
       "      <td>0.0</td>\n",
       "      <td>0.0</td>\n",
       "      <td>1.0</td>\n",
       "      <td>Permit SUBMITTED by EMPLOYEE</td>\n",
       "      <td>2018-02-21 16:28:17+00:00</td>\n",
       "      <td>travel permit 10066</td>\n",
       "    </tr>\n",
       "    <tr>\n",
       "      <th>27</th>\n",
       "      <td>travel permit 10066</td>\n",
       "      <td>Permit APPROVED by ADMINISTRATION</td>\n",
       "      <td>2018-02-21 16:28:19+00:00</td>\n",
       "      <td>2018-02-21 16:28:19+00:00</td>\n",
       "      <td>travel permit 10066</td>\n",
       "      <td>79</td>\n",
       "      <td>False</td>\n",
       "      <td>travel permit number 10067</td>\n",
       "      <td>-18.925474</td>\n",
       "      <td>64.878503</td>\n",
       "      <td>...</td>\n",
       "      <td>2018</td>\n",
       "      <td>2</td>\n",
       "      <td>0.0</td>\n",
       "      <td>2.0</td>\n",
       "      <td>2.0</td>\n",
       "      <td>2.0</td>\n",
       "      <td>0.0</td>\n",
       "      <td>Permit APPROVED by ADMINISTRATION</td>\n",
       "      <td>2018-02-21 16:28:19+00:00</td>\n",
       "      <td>travel permit 10066</td>\n",
       "    </tr>\n",
       "    <tr>\n",
       "      <th>28</th>\n",
       "      <td>travel permit 10066</td>\n",
       "      <td>Start trip</td>\n",
       "      <td>2018-02-22 00:00:00+00:00</td>\n",
       "      <td>2018-02-22 00:00:00+00:00</td>\n",
       "      <td>travel permit 10066</td>\n",
       "      <td>79</td>\n",
       "      <td>False</td>\n",
       "      <td>travel permit number 10067</td>\n",
       "      <td>-18.925474</td>\n",
       "      <td>64.878503</td>\n",
       "      <td>...</td>\n",
       "      <td>2018</td>\n",
       "      <td>2</td>\n",
       "      <td>0.0</td>\n",
       "      <td>1903.0</td>\n",
       "      <td>1903.0</td>\n",
       "      <td>1901.0</td>\n",
       "      <td>0.0</td>\n",
       "      <td>Start trip</td>\n",
       "      <td>2018-02-22 00:00:00+00:00</td>\n",
       "      <td>travel permit 10066</td>\n",
       "    </tr>\n",
       "    <tr>\n",
       "      <th>29</th>\n",
       "      <td>travel permit 10066</td>\n",
       "      <td>End trip</td>\n",
       "      <td>2018-02-22 00:00:00+00:00</td>\n",
       "      <td>2018-02-22 00:00:00+00:00</td>\n",
       "      <td>travel permit 10066</td>\n",
       "      <td>79</td>\n",
       "      <td>False</td>\n",
       "      <td>travel permit number 10067</td>\n",
       "      <td>-18.925474</td>\n",
       "      <td>64.878503</td>\n",
       "      <td>...</td>\n",
       "      <td>2018</td>\n",
       "      <td>2</td>\n",
       "      <td>0.0</td>\n",
       "      <td>1903.0</td>\n",
       "      <td>1903.0</td>\n",
       "      <td>0.0</td>\n",
       "      <td>0.0</td>\n",
       "      <td>End trip</td>\n",
       "      <td>2018-02-22 00:00:00+00:00</td>\n",
       "      <td>travel permit 10066</td>\n",
       "    </tr>\n",
       "  </tbody>\n",
       "</table>\n",
       "<p>30 rows × 32 columns</p>\n",
       "</div>"
      ],
      "text/plain": [
       "                   case                                             event  \\\n",
       "0   travel permit 10022                      Permit SUBMITTED by EMPLOYEE   \n",
       "1   travel permit 10022                 Permit APPROVED by ADMINISTRATION   \n",
       "2   travel permit 10022                   Permit APPROVED by BUDGET OWNER   \n",
       "3   travel permit 10022               Permit FINAL_APPROVED by SUPERVISOR   \n",
       "4   travel permit 10022                                        Start trip   \n",
       "5   travel permit 10022                                          End trip   \n",
       "6   travel permit 10022                 Declaration SUBMITTED by EMPLOYEE   \n",
       "7   travel permit 10022            Declaration APPROVED by ADMINISTRATION   \n",
       "8   travel permit 10022                 Declaration SUBMITTED by EMPLOYEE   \n",
       "9   travel permit 10022            Declaration APPROVED by ADMINISTRATION   \n",
       "10  travel permit 10040                      Permit SUBMITTED by EMPLOYEE   \n",
       "11  travel permit 10040                 Permit APPROVED by ADMINISTRATION   \n",
       "12  travel permit 10040               Permit FINAL_APPROVED by SUPERVISOR   \n",
       "13  travel permit 10040         Request For Payment SUBMITTED by EMPLOYEE   \n",
       "14  travel permit 10040    Request For Payment REJECTED by ADMINISTRATION   \n",
       "15  travel permit 10040          Request For Payment REJECTED by EMPLOYEE   \n",
       "16  travel permit 10040         Request For Payment SUBMITTED by EMPLOYEE   \n",
       "17  travel permit 10040    Request For Payment APPROVED by ADMINISTRATION   \n",
       "18  travel permit 10040  Request For Payment FINAL_APPROVED by SUPERVISOR   \n",
       "19  travel permit 10040                                   Request Payment   \n",
       "20  travel permit 10060                      Permit SUBMITTED by EMPLOYEE   \n",
       "21  travel permit 10060                 Permit APPROVED by ADMINISTRATION   \n",
       "22  travel permit 10060                   Permit APPROVED by BUDGET OWNER   \n",
       "23  travel permit 10060               Permit FINAL_APPROVED by SUPERVISOR   \n",
       "24  travel permit 10060                                        Start trip   \n",
       "25  travel permit 10060                                          End trip   \n",
       "26  travel permit 10066                      Permit SUBMITTED by EMPLOYEE   \n",
       "27  travel permit 10066                 Permit APPROVED by ADMINISTRATION   \n",
       "28  travel permit 10066                                        Start trip   \n",
       "29  travel permit 10066                                          End trip   \n",
       "\n",
       "                   startTime              completeTime                   id  \\\n",
       "0  2018-02-20 13:51:27+00:00 2018-02-20 13:51:27+00:00  travel permit 10022   \n",
       "1  2018-02-20 13:51:34+00:00 2018-02-20 13:51:34+00:00  travel permit 10022   \n",
       "2  2018-02-20 16:27:33+00:00 2018-02-20 16:27:33+00:00  travel permit 10022   \n",
       "3  2018-02-21 12:58:49+00:00 2018-02-21 12:58:49+00:00  travel permit 10022   \n",
       "4  2018-03-17 00:00:00+00:00 2018-03-17 00:00:00+00:00  travel permit 10022   \n",
       "5  2018-03-22 00:00:00+00:00 2018-03-22 00:00:00+00:00  travel permit 10022   \n",
       "6  2018-04-15 16:36:12+00:00 2018-04-15 16:36:12+00:00  travel permit 10022   \n",
       "7  2018-04-16 21:05:21+00:00 2018-04-16 21:05:21+00:00  travel permit 10022   \n",
       "8  2018-04-16 21:08:02+00:00 2018-04-16 21:08:02+00:00  travel permit 10022   \n",
       "9  2018-04-16 21:14:17+00:00 2018-04-16 21:14:17+00:00  travel permit 10022   \n",
       "10 2018-02-20 13:53:11+00:00 2018-02-20 13:53:11+00:00  travel permit 10040   \n",
       "11 2018-02-20 13:53:14+00:00 2018-02-20 13:53:14+00:00  travel permit 10040   \n",
       "12 2018-02-20 16:28:52+00:00 2018-02-20 16:28:52+00:00  travel permit 10040   \n",
       "13 2018-02-23 16:48:10+00:00 2018-02-23 16:48:10+00:00  travel permit 10040   \n",
       "14 2018-02-23 16:50:51+00:00 2018-02-23 16:50:51+00:00  travel permit 10040   \n",
       "15 2018-02-26 09:24:04+00:00 2018-02-26 09:24:04+00:00  travel permit 10040   \n",
       "16 2018-02-26 11:30:14+00:00 2018-02-26 11:30:14+00:00  travel permit 10040   \n",
       "17 2018-02-26 11:30:29+00:00 2018-02-26 11:30:29+00:00  travel permit 10040   \n",
       "18 2018-02-26 15:26:30+00:00 2018-02-26 15:26:30+00:00  travel permit 10040   \n",
       "19 2018-03-01 06:26:43+00:00 2018-03-01 06:26:43+00:00  travel permit 10040   \n",
       "20 2018-02-20 17:29:10+00:00 2018-02-20 17:29:10+00:00  travel permit 10060   \n",
       "21 2018-02-20 17:29:15+00:00 2018-02-20 17:29:15+00:00  travel permit 10060   \n",
       "22 2018-02-22 15:49:58+00:00 2018-02-22 15:49:58+00:00  travel permit 10060   \n",
       "23 2018-02-26 12:14:57+00:00 2018-02-26 12:14:57+00:00  travel permit 10060   \n",
       "24 2018-06-18 00:00:00+00:00 2018-06-18 00:00:00+00:00  travel permit 10060   \n",
       "25 2018-07-18 00:00:00+00:00 2018-07-18 00:00:00+00:00  travel permit 10060   \n",
       "26 2018-02-21 16:28:17+00:00 2018-02-21 16:28:17+00:00  travel permit 10066   \n",
       "27 2018-02-21 16:28:19+00:00 2018-02-21 16:28:19+00:00  travel permit 10066   \n",
       "28 2018-02-22 00:00:00+00:00 2018-02-22 00:00:00+00:00  travel permit 10066   \n",
       "29 2018-02-22 00:00:00+00:00 2018-02-22 00:00:00+00:00  travel permit 10066   \n",
       "\n",
       "    RequestedAmount_0  Overspent        travel permit number  OverspentAmount  \\\n",
       "0                 395      False  travel permit number 10023       -50.662542   \n",
       "1                 395      False  travel permit number 10023       -50.662542   \n",
       "2                 395      False  travel permit number 10023       -50.662542   \n",
       "3                 395      False  travel permit number 10023       -50.662542   \n",
       "4                 395      False  travel permit number 10023       -50.662542   \n",
       "5                 395      False  travel permit number 10023       -50.662542   \n",
       "6                 395      False  travel permit number 10023       -50.662542   \n",
       "7                 395      False  travel permit number 10023       -50.662542   \n",
       "8                 395      False  travel permit number 10023       -50.662542   \n",
       "9                 395      False  travel permit number 10023       -50.662542   \n",
       "10  2129.846048886792      False  travel permit number 10041      -646.643989   \n",
       "11  2129.846048886792      False  travel permit number 10041      -646.643989   \n",
       "12  2129.846048886792      False  travel permit number 10041      -646.643989   \n",
       "13  2129.846048886792      False  travel permit number 10041      -646.643989   \n",
       "14  2129.846048886792      False  travel permit number 10041      -646.643989   \n",
       "15  2129.846048886792      False  travel permit number 10041      -646.643989   \n",
       "16  2129.846048886792      False  travel permit number 10041      -646.643989   \n",
       "17  2129.846048886792      False  travel permit number 10041      -646.643989   \n",
       "18  2129.846048886792      False  travel permit number 10041      -646.643989   \n",
       "19  2129.846048886792      False  travel permit number 10041      -646.643989   \n",
       "20                NaN      False  travel permit number 10061         0.000000   \n",
       "21                NaN      False  travel permit number 10061         0.000000   \n",
       "22                NaN      False  travel permit number 10061         0.000000   \n",
       "23                NaN      False  travel permit number 10061         0.000000   \n",
       "24                NaN      False  travel permit number 10061         0.000000   \n",
       "25                NaN      False  travel permit number 10061         0.000000   \n",
       "26                 79      False  travel permit number 10067       -18.925474   \n",
       "27                 79      False  travel permit number 10067       -18.925474   \n",
       "28                 79      False  travel permit number 10067       -18.925474   \n",
       "29                 79      False  travel permit number 10067       -18.925474   \n",
       "\n",
       "    RequestedBudget  ...  year month  @@approx_bh_partial_cycle_time  \\\n",
       "0       2134.047941  ...  2018     2                             0.0   \n",
       "1       2134.047941  ...  2018     2                             0.0   \n",
       "2       2134.047941  ...  2018     2                             0.0   \n",
       "3       2134.047941  ...  2018     2                             0.0   \n",
       "4       2134.047941  ...  2018     3                             0.0   \n",
       "5       2134.047941  ...  2018     3                             0.0   \n",
       "6       2134.047941  ...  2018     4                             0.0   \n",
       "7       2134.047941  ...  2018     4                             0.0   \n",
       "8       2134.047941  ...  2018     4                             0.0   \n",
       "9       2134.047941  ...  2018     4                             0.0   \n",
       "10      2531.512736  ...  2018     2                             0.0   \n",
       "11      2531.512736  ...  2018     2                             0.0   \n",
       "12      2531.512736  ...  2018     2                             0.0   \n",
       "13      2531.512736  ...  2018     2                             0.0   \n",
       "14      2531.512736  ...  2018     2                             0.0   \n",
       "15      2531.512736  ...  2018     2                             0.0   \n",
       "16      2531.512736  ...  2018     2                             0.0   \n",
       "17      2531.512736  ...  2018     2                             0.0   \n",
       "18      2531.512736  ...  2018     2                             0.0   \n",
       "19      2531.512736  ...  2018     3                             0.0   \n",
       "20         0.000000  ...  2018     2                             0.0   \n",
       "21         0.000000  ...  2018     2                             0.0   \n",
       "22         0.000000  ...  2018     2                             0.0   \n",
       "23         0.000000  ...  2018     2                             0.0   \n",
       "24         0.000000  ...  2018     6                             0.0   \n",
       "25         0.000000  ...  2018     7                             0.0   \n",
       "26        64.878503  ...  2018     2                             0.0   \n",
       "27        64.878503  ...  2018     2                             0.0   \n",
       "28        64.878503  ...  2018     2                             0.0   \n",
       "29        64.878503  ...  2018     2                             0.0   \n",
       "\n",
       "   @@approx_bh_partial_lead_time @@approx_bh_overall_wasted_time  \\\n",
       "0                            0.0                             0.0   \n",
       "1                            7.0                             7.0   \n",
       "2                         9366.0                          9366.0   \n",
       "3                        32842.0                         32842.0   \n",
       "4                       659313.0                        659313.0   \n",
       "5                       767313.0                        767313.0   \n",
       "6                      1379313.0                       1379313.0   \n",
       "7                      1415313.0                       1415313.0   \n",
       "8                      1415313.0                       1415313.0   \n",
       "9                      1415313.0                       1415313.0   \n",
       "10                           0.0                             0.0   \n",
       "11                           3.0                             3.0   \n",
       "12                        9341.0                          9341.0   \n",
       "13                      118499.0                        118499.0   \n",
       "14                      118660.0                        118660.0   \n",
       "15                      127853.0                        127853.0   \n",
       "16                      135423.0                        135423.0   \n",
       "17                      135438.0                        135438.0   \n",
       "18                      149599.0                        149599.0   \n",
       "19                      227209.0                        227209.0   \n",
       "20                           0.0                             0.0   \n",
       "21                           0.0                             0.0   \n",
       "22                       67798.0                         67798.0   \n",
       "23                      126897.0                        126897.0   \n",
       "24                     2988000.0                       2988000.0   \n",
       "25                     3780000.0                       3780000.0   \n",
       "26                           0.0                             0.0   \n",
       "27                           2.0                             2.0   \n",
       "28                        1903.0                          1903.0   \n",
       "29                        1903.0                          1903.0   \n",
       "\n",
       "   @@approx_bh_this_wasted_time @approx_bh_ratio_cycle_lead_time  \\\n",
       "0                           0.0                              1.0   \n",
       "1                           7.0                              0.0   \n",
       "2                        9359.0                              0.0   \n",
       "3                       23476.0                              0.0   \n",
       "4                      626471.0                              0.0   \n",
       "5                      108000.0                              0.0   \n",
       "6                      612000.0                              0.0   \n",
       "7                       36000.0                              0.0   \n",
       "8                           0.0                              0.0   \n",
       "9                           0.0                              0.0   \n",
       "10                          0.0                              1.0   \n",
       "11                          3.0                              0.0   \n",
       "12                       9338.0                              0.0   \n",
       "13                     109158.0                              0.0   \n",
       "14                        161.0                              0.0   \n",
       "15                       9193.0                              0.0   \n",
       "16                       7570.0                              0.0   \n",
       "17                         15.0                              0.0   \n",
       "18                      14161.0                              0.0   \n",
       "19                      77610.0                              0.0   \n",
       "20                          0.0                              1.0   \n",
       "21                          0.0                              1.0   \n",
       "22                      67798.0                              0.0   \n",
       "23                      59099.0                              0.0   \n",
       "24                    2861103.0                              0.0   \n",
       "25                     792000.0                              0.0   \n",
       "26                          0.0                              1.0   \n",
       "27                          2.0                              0.0   \n",
       "28                       1901.0                              0.0   \n",
       "29                          0.0                              0.0   \n",
       "\n",
       "                                        concept:name  \\\n",
       "0                       Permit SUBMITTED by EMPLOYEE   \n",
       "1                  Permit APPROVED by ADMINISTRATION   \n",
       "2                    Permit APPROVED by BUDGET OWNER   \n",
       "3                Permit FINAL_APPROVED by SUPERVISOR   \n",
       "4                                         Start trip   \n",
       "5                                           End trip   \n",
       "6                  Declaration SUBMITTED by EMPLOYEE   \n",
       "7             Declaration APPROVED by ADMINISTRATION   \n",
       "8                  Declaration SUBMITTED by EMPLOYEE   \n",
       "9             Declaration APPROVED by ADMINISTRATION   \n",
       "10                      Permit SUBMITTED by EMPLOYEE   \n",
       "11                 Permit APPROVED by ADMINISTRATION   \n",
       "12               Permit FINAL_APPROVED by SUPERVISOR   \n",
       "13         Request For Payment SUBMITTED by EMPLOYEE   \n",
       "14    Request For Payment REJECTED by ADMINISTRATION   \n",
       "15          Request For Payment REJECTED by EMPLOYEE   \n",
       "16         Request For Payment SUBMITTED by EMPLOYEE   \n",
       "17    Request For Payment APPROVED by ADMINISTRATION   \n",
       "18  Request For Payment FINAL_APPROVED by SUPERVISOR   \n",
       "19                                   Request Payment   \n",
       "20                      Permit SUBMITTED by EMPLOYEE   \n",
       "21                 Permit APPROVED by ADMINISTRATION   \n",
       "22                   Permit APPROVED by BUDGET OWNER   \n",
       "23               Permit FINAL_APPROVED by SUPERVISOR   \n",
       "24                                        Start trip   \n",
       "25                                          End trip   \n",
       "26                      Permit SUBMITTED by EMPLOYEE   \n",
       "27                 Permit APPROVED by ADMINISTRATION   \n",
       "28                                        Start trip   \n",
       "29                                          End trip   \n",
       "\n",
       "              time:timestamp    case:concept:name  \n",
       "0  2018-02-20 13:51:27+00:00  travel permit 10022  \n",
       "1  2018-02-20 13:51:34+00:00  travel permit 10022  \n",
       "2  2018-02-20 16:27:33+00:00  travel permit 10022  \n",
       "3  2018-02-21 12:58:49+00:00  travel permit 10022  \n",
       "4  2018-03-17 00:00:00+00:00  travel permit 10022  \n",
       "5  2018-03-22 00:00:00+00:00  travel permit 10022  \n",
       "6  2018-04-15 16:36:12+00:00  travel permit 10022  \n",
       "7  2018-04-16 21:05:21+00:00  travel permit 10022  \n",
       "8  2018-04-16 21:08:02+00:00  travel permit 10022  \n",
       "9  2018-04-16 21:14:17+00:00  travel permit 10022  \n",
       "10 2018-02-20 13:53:11+00:00  travel permit 10040  \n",
       "11 2018-02-20 13:53:14+00:00  travel permit 10040  \n",
       "12 2018-02-20 16:28:52+00:00  travel permit 10040  \n",
       "13 2018-02-23 16:48:10+00:00  travel permit 10040  \n",
       "14 2018-02-23 16:50:51+00:00  travel permit 10040  \n",
       "15 2018-02-26 09:24:04+00:00  travel permit 10040  \n",
       "16 2018-02-26 11:30:14+00:00  travel permit 10040  \n",
       "17 2018-02-26 11:30:29+00:00  travel permit 10040  \n",
       "18 2018-02-26 15:26:30+00:00  travel permit 10040  \n",
       "19 2018-03-01 06:26:43+00:00  travel permit 10040  \n",
       "20 2018-02-20 17:29:10+00:00  travel permit 10060  \n",
       "21 2018-02-20 17:29:15+00:00  travel permit 10060  \n",
       "22 2018-02-22 15:49:58+00:00  travel permit 10060  \n",
       "23 2018-02-26 12:14:57+00:00  travel permit 10060  \n",
       "24 2018-06-18 00:00:00+00:00  travel permit 10060  \n",
       "25 2018-07-18 00:00:00+00:00  travel permit 10060  \n",
       "26 2018-02-21 16:28:17+00:00  travel permit 10066  \n",
       "27 2018-02-21 16:28:19+00:00  travel permit 10066  \n",
       "28 2018-02-22 00:00:00+00:00  travel permit 10066  \n",
       "29 2018-02-22 00:00:00+00:00  travel permit 10066  \n",
       "\n",
       "[30 rows x 32 columns]"
      ]
     },
     "execution_count": 47,
     "metadata": {},
     "output_type": "execute_result"
    }
   ],
   "source": [
    "df.head(30)"
   ]
  },
  {
   "attachments": {},
   "cell_type": "markdown",
   "metadata": {},
   "source": [
    "## Check last activity distribution for all trace length\n",
    "\n",
    "- Run the below code when trace length is 10\n",
    "- because it will give you all traces ending at 10,8,6,4 lengths\n",
    "- if trace is smaller then nth (4,6,8,10) length we keep the last activity if the trace"
   ]
  },
  {
   "cell_type": "code",
   "execution_count": 96,
   "metadata": {},
   "outputs": [],
   "source": [
    "# save distribution\n",
    "event_distribution_LIST = []\n",
    "# event_distribution_LIST['10'],event_distribution_LIST['8'],event_distribution_LIST['6'],event_distribution_LIST['4'] = [],[],[],[]\n",
    "trace_lengths = [4,6,8,10]\n",
    "for name, group in df.groupby(['case'],sort=False):\n",
    "    # print(name)\n",
    "    event_list = list(group['event'])\n",
    "    for t_len in trace_lengths:\n",
    "        index = t_len-1\n",
    "        try:\n",
    "            event_distribution_LIST.append([event_list[index],t_len])\n",
    "        except:\n",
    "            event_distribution_LIST.append([event_list[-1],t_len])"
   ]
  },
  {
   "cell_type": "code",
   "execution_count": 97,
   "metadata": {},
   "outputs": [
    {
     "data": {
      "text/html": [
       "<div>\n",
       "<style scoped>\n",
       "    .dataframe tbody tr th:only-of-type {\n",
       "        vertical-align: middle;\n",
       "    }\n",
       "\n",
       "    .dataframe tbody tr th {\n",
       "        vertical-align: top;\n",
       "    }\n",
       "\n",
       "    .dataframe thead th {\n",
       "        text-align: right;\n",
       "    }\n",
       "</style>\n",
       "<table border=\"1\" class=\"dataframe\">\n",
       "  <thead>\n",
       "    <tr style=\"text-align: right;\">\n",
       "      <th></th>\n",
       "      <th>Activities</th>\n",
       "      <th>Trace length</th>\n",
       "    </tr>\n",
       "  </thead>\n",
       "  <tbody>\n",
       "    <tr>\n",
       "      <th>0</th>\n",
       "      <td>Permit FINAL_APPROVED by SUPERVISOR</td>\n",
       "      <td>4</td>\n",
       "    </tr>\n",
       "    <tr>\n",
       "      <th>1</th>\n",
       "      <td>End trip</td>\n",
       "      <td>6</td>\n",
       "    </tr>\n",
       "    <tr>\n",
       "      <th>2</th>\n",
       "      <td>Declaration APPROVED by ADMINISTRATION</td>\n",
       "      <td>8</td>\n",
       "    </tr>\n",
       "    <tr>\n",
       "      <th>3</th>\n",
       "      <td>Declaration APPROVED by ADMINISTRATION</td>\n",
       "      <td>10</td>\n",
       "    </tr>\n",
       "    <tr>\n",
       "      <th>4</th>\n",
       "      <td>Request For Payment SUBMITTED by EMPLOYEE</td>\n",
       "      <td>4</td>\n",
       "    </tr>\n",
       "  </tbody>\n",
       "</table>\n",
       "</div>"
      ],
      "text/plain": [
       "                                  Activities  Trace length\n",
       "0        Permit FINAL_APPROVED by SUPERVISOR             4\n",
       "1                                   End trip             6\n",
       "2     Declaration APPROVED by ADMINISTRATION             8\n",
       "3     Declaration APPROVED by ADMINISTRATION            10\n",
       "4  Request For Payment SUBMITTED by EMPLOYEE             4"
      ]
     },
     "execution_count": 97,
     "metadata": {},
     "output_type": "execute_result"
    }
   ],
   "source": [
    "# create dataframe\n",
    "act_distribution = pd.DataFrame(event_distribution_LIST, columns=['Activities','Trace length'])\n",
    "act_distribution.head()"
   ]
  },
  {
   "cell_type": "code",
   "execution_count": 100,
   "metadata": {},
   "outputs": [
    {
     "data": {
      "text/html": [
       "<div>\n",
       "<style scoped>\n",
       "    .dataframe tbody tr th:only-of-type {\n",
       "        vertical-align: middle;\n",
       "    }\n",
       "\n",
       "    .dataframe tbody tr th {\n",
       "        vertical-align: top;\n",
       "    }\n",
       "\n",
       "    .dataframe thead th {\n",
       "        text-align: right;\n",
       "    }\n",
       "</style>\n",
       "<table border=\"1\" class=\"dataframe\">\n",
       "  <thead>\n",
       "    <tr style=\"text-align: right;\">\n",
       "      <th></th>\n",
       "      <th>Trace length</th>\n",
       "      <th>Activities</th>\n",
       "      <th>Percent count</th>\n",
       "    </tr>\n",
       "  </thead>\n",
       "  <tbody>\n",
       "    <tr>\n",
       "      <th>0</th>\n",
       "      <td>4</td>\n",
       "      <td>Start trip</td>\n",
       "      <td>40.551537</td>\n",
       "    </tr>\n",
       "    <tr>\n",
       "      <th>1</th>\n",
       "      <td>4</td>\n",
       "      <td>Permit FINAL_APPROVED by SUPERVISOR</td>\n",
       "      <td>20.275769</td>\n",
       "    </tr>\n",
       "    <tr>\n",
       "      <th>2</th>\n",
       "      <td>4</td>\n",
       "      <td>End trip</td>\n",
       "      <td>13.087703</td>\n",
       "    </tr>\n",
       "    <tr>\n",
       "      <th>3</th>\n",
       "      <td>4</td>\n",
       "      <td>Request For Payment SUBMITTED by EMPLOYEE</td>\n",
       "      <td>9.832731</td>\n",
       "    </tr>\n",
       "    <tr>\n",
       "      <th>4</th>\n",
       "      <td>4</td>\n",
       "      <td>Permit FINAL_APPROVED by DIRECTOR</td>\n",
       "      <td>3.729656</td>\n",
       "    </tr>\n",
       "  </tbody>\n",
       "</table>\n",
       "</div>"
      ],
      "text/plain": [
       "   Trace length                                 Activities  Percent count\n",
       "0             4                                 Start trip      40.551537\n",
       "1             4        Permit FINAL_APPROVED by SUPERVISOR      20.275769\n",
       "2             4                                   End trip      13.087703\n",
       "3             4  Request For Payment SUBMITTED by EMPLOYEE       9.832731\n",
       "4             4          Permit FINAL_APPROVED by DIRECTOR       3.729656"
      ]
     },
     "execution_count": 100,
     "metadata": {},
     "output_type": "execute_result"
    }
   ],
   "source": [
    "# value count and normalized\n",
    "df_dist = act_distribution.groupby('Trace length')['Activities'].value_counts(normalize=True)\n",
    "df_dist = df_dist.mul(100)\n",
    "df_dist = df_dist.rename('Percent count').reset_index()\n",
    "df_dist.head()"
   ]
  },
  {
   "cell_type": "code",
   "execution_count": 101,
   "metadata": {},
   "outputs": [],
   "source": [
    "df_dist.to_csv('../last_activity_distribution_against_tracelength.csv',index='False')"
   ]
  },
  {
   "cell_type": "code",
   "execution_count": 103,
   "metadata": {},
   "outputs": [
    {
     "data": {
      "application/vnd.plotly.v1+json": {
       "config": {
        "plotlyServerURL": "https://plot.ly"
       },
       "data": [
        {
         "alignmentgroup": "True",
         "hovertemplate": "Activities=Start trip<br>Trace length=%{x}<br>Percent count=%{y}<extra></extra>",
         "legendgroup": "Start trip",
         "marker": {
          "color": "#636efa",
          "pattern": {
           "shape": ""
          }
         },
         "name": "Start trip",
         "offsetgroup": "Start trip",
         "orientation": "v",
         "showlegend": true,
         "textposition": "auto",
         "type": "bar",
         "x": [
          4,
          6,
          8,
          10
         ],
         "xaxis": "x",
         "y": [
          40.55153707052441,
          3.413200723327306,
          2.418625678119349,
          2.689873417721519
         ],
         "yaxis": "y"
        },
        {
         "alignmentgroup": "True",
         "hovertemplate": "Activities=Permit FINAL_APPROVED by SUPERVISOR<br>Trace length=%{x}<br>Percent count=%{y}<extra></extra>",
         "legendgroup": "Permit FINAL_APPROVED by SUPERVISOR",
         "marker": {
          "color": "#EF553B",
          "pattern": {
           "shape": ""
          }
         },
         "name": "Permit FINAL_APPROVED by SUPERVISOR",
         "offsetgroup": "Permit FINAL_APPROVED by SUPERVISOR",
         "orientation": "v",
         "showlegend": true,
         "textposition": "auto",
         "type": "bar",
         "x": [
          4,
          6,
          8,
          10
         ],
         "xaxis": "x",
         "y": [
          20.275768535262205,
          3.9330922242314643,
          2.2603978300180834,
          1.7857142857142856
         ],
         "yaxis": "y"
        },
        {
         "alignmentgroup": "True",
         "hovertemplate": "Activities=End trip<br>Trace length=%{x}<br>Percent count=%{y}<extra></extra>",
         "legendgroup": "End trip",
         "marker": {
          "color": "#00cc96",
          "pattern": {
           "shape": ""
          }
         },
         "name": "End trip",
         "offsetgroup": "End trip",
         "orientation": "v",
         "showlegend": true,
         "textposition": "auto",
         "type": "bar",
         "x": [
          4,
          6,
          8,
          10
         ],
         "xaxis": "x",
         "y": [
          13.087703435804702,
          24.38969258589512,
          12.160940325497288,
          16.907775768535263
         ],
         "yaxis": "y"
        },
        {
         "alignmentgroup": "True",
         "hovertemplate": "Activities=Request For Payment SUBMITTED by EMPLOYEE<br>Trace length=%{x}<br>Percent count=%{y}<extra></extra>",
         "legendgroup": "Request For Payment SUBMITTED by EMPLOYEE",
         "marker": {
          "color": "#ab63fa",
          "pattern": {
           "shape": ""
          }
         },
         "name": "Request For Payment SUBMITTED by EMPLOYEE",
         "offsetgroup": "Request For Payment SUBMITTED by EMPLOYEE",
         "orientation": "v",
         "showlegend": true,
         "textposition": "auto",
         "type": "bar",
         "x": [
          4,
          6,
          8,
          10
         ],
         "xaxis": "x",
         "y": [
          9.832730560578662,
          2.102169981916817,
          1.4918625678119348,
          0.8815551537070525
         ],
         "yaxis": "y"
        },
        {
         "alignmentgroup": "True",
         "hovertemplate": "Activities=Permit FINAL_APPROVED by DIRECTOR<br>Trace length=%{x}<br>Percent count=%{y}<extra></extra>",
         "legendgroup": "Permit FINAL_APPROVED by DIRECTOR",
         "marker": {
          "color": "#FFA15A",
          "pattern": {
           "shape": ""
          }
         },
         "name": "Permit FINAL_APPROVED by DIRECTOR",
         "offsetgroup": "Permit FINAL_APPROVED by DIRECTOR",
         "orientation": "v",
         "showlegend": true,
         "textposition": "auto",
         "type": "bar",
         "x": [
          4,
          6,
          8,
          10
         ],
         "xaxis": "x",
         "y": [
          3.7296564195298374,
          0.5198915009041591,
          0.31645569620253167,
          0.22603978300180833
         ],
         "yaxis": "y"
        },
        {
         "alignmentgroup": "True",
         "hovertemplate": "Activities=Permit APPROVED by SUPERVISOR<br>Trace length=%{x}<br>Percent count=%{y}<extra></extra>",
         "legendgroup": "Permit APPROVED by SUPERVISOR",
         "marker": {
          "color": "#19d3f3",
          "pattern": {
           "shape": ""
          }
         },
         "name": "Permit APPROVED by SUPERVISOR",
         "offsetgroup": "Permit APPROVED by SUPERVISOR",
         "orientation": "v",
         "showlegend": true,
         "textposition": "auto",
         "type": "bar",
         "x": [
          4,
          6,
          8,
          10
         ],
         "xaxis": "x",
         "y": [
          2.4638336347197107,
          0.13562386980108498,
          0.09041591320072333,
          0.045207956600361664
         ],
         "yaxis": "y"
        },
        {
         "alignmentgroup": "True",
         "hovertemplate": "Activities=Permit REJECTED by EMPLOYEE<br>Trace length=%{x}<br>Percent count=%{y}<extra></extra>",
         "legendgroup": "Permit REJECTED by EMPLOYEE",
         "marker": {
          "color": "#FF6692",
          "pattern": {
           "shape": ""
          }
         },
         "name": "Permit REJECTED by EMPLOYEE",
         "offsetgroup": "Permit REJECTED by EMPLOYEE",
         "orientation": "v",
         "showlegend": true,
         "textposition": "auto",
         "type": "bar",
         "x": [
          4,
          6,
          8,
          10
         ],
         "xaxis": "x",
         "y": [
          1.6726943942133816,
          0.8815551537070525,
          0.8589511754068716,
          0.8363471971066908
         ],
         "yaxis": "y"
        },
        {
         "alignmentgroup": "True",
         "hovertemplate": "Activities=Request For Payment APPROVED by ADMINISTRATION<br>Trace length=%{x}<br>Percent count=%{y}<extra></extra>",
         "legendgroup": "Request For Payment APPROVED by ADMINISTRATION",
         "marker": {
          "color": "#B6E880",
          "pattern": {
           "shape": ""
          }
         },
         "name": "Request For Payment APPROVED by ADMINISTRATION",
         "offsetgroup": "Request For Payment APPROVED by ADMINISTRATION",
         "orientation": "v",
         "showlegend": true,
         "textposition": "auto",
         "type": "bar",
         "x": [
          4,
          6,
          8,
          10
         ],
         "xaxis": "x",
         "y": [
          1.62748643761302,
          4.3625678119349,
          1.62748643761302,
          1.4240506329113924
         ],
         "yaxis": "y"
        },
        {
         "alignmentgroup": "True",
         "hovertemplate": "Activities=Request For Payment FINAL_APPROVED by SUPERVISOR<br>Trace length=%{x}<br>Percent count=%{y}<extra></extra>",
         "legendgroup": "Request For Payment FINAL_APPROVED by SUPERVISOR",
         "marker": {
          "color": "#FF97FF",
          "pattern": {
           "shape": ""
          }
         },
         "name": "Request For Payment FINAL_APPROVED by SUPERVISOR",
         "offsetgroup": "Request For Payment FINAL_APPROVED by SUPERVISOR",
         "orientation": "v",
         "showlegend": true,
         "textposition": "auto",
         "type": "bar",
         "x": [
          4,
          6,
          8,
          10
         ],
         "xaxis": "x",
         "y": [
          1.604882459312839,
          7.9113924050632916,
          3.9330922242314643,
          0.9945750452079566
         ],
         "yaxis": "y"
        },
        {
         "alignmentgroup": "True",
         "hovertemplate": "Activities=Permit SUBMITTED by EMPLOYEE<br>Trace length=%{x}<br>Percent count=%{y}<extra></extra>",
         "legendgroup": "Permit SUBMITTED by EMPLOYEE",
         "marker": {
          "color": "#FECB52",
          "pattern": {
           "shape": ""
          }
         },
         "name": "Permit SUBMITTED by EMPLOYEE",
         "offsetgroup": "Permit SUBMITTED by EMPLOYEE",
         "orientation": "v",
         "showlegend": true,
         "textposition": "auto",
         "type": "bar",
         "x": [
          4,
          6,
          8,
          10
         ],
         "xaxis": "x",
         "y": [
          1.2884267631103075,
          0.3616636528028933,
          0.09041591320072333,
          0.045207956600361664
         ],
         "yaxis": "y"
        },
        {
         "alignmentgroup": "True",
         "hovertemplate": "Activities=Declaration SUBMITTED by EMPLOYEE<br>Trace length=%{x}<br>Percent count=%{y}<extra></extra>",
         "legendgroup": "Declaration SUBMITTED by EMPLOYEE",
         "marker": {
          "color": "#636efa",
          "pattern": {
           "shape": ""
          }
         },
         "name": "Declaration SUBMITTED by EMPLOYEE",
         "offsetgroup": "Declaration SUBMITTED by EMPLOYEE",
         "orientation": "v",
         "showlegend": true,
         "textposition": "auto",
         "type": "bar",
         "x": [
          4,
          6,
          8,
          10
         ],
         "xaxis": "x",
         "y": [
          1.2658227848101267,
          33.951175406871606,
          15.913200723327305,
          15.23508137432188
         ],
         "yaxis": "y"
        },
        {
         "alignmentgroup": "True",
         "hovertemplate": "Activities=Permit APPROVED by BUDGET OWNER<br>Trace length=%{x}<br>Percent count=%{y}<extra></extra>",
         "legendgroup": "Permit APPROVED by BUDGET OWNER",
         "marker": {
          "color": "#EF553B",
          "pattern": {
           "shape": ""
          }
         },
         "name": "Permit APPROVED by BUDGET OWNER",
         "offsetgroup": "Permit APPROVED by BUDGET OWNER",
         "orientation": "v",
         "showlegend": true,
         "textposition": "auto",
         "type": "bar",
         "x": [
          4,
          6,
          8,
          10
         ],
         "xaxis": "x",
         "y": [
          1.1075949367088607,
          0.4294755877034358,
          0.2938517179023508,
          0.09041591320072333
         ],
         "yaxis": "y"
        },
        {
         "alignmentgroup": "True",
         "hovertemplate": "Activities=Permit REJECTED by MISSING<br>Trace length=%{x}<br>Percent count=%{y}<extra></extra>",
         "legendgroup": "Permit REJECTED by MISSING",
         "marker": {
          "color": "#00cc96",
          "pattern": {
           "shape": ""
          }
         },
         "name": "Permit REJECTED by MISSING",
         "offsetgroup": "Permit REJECTED by MISSING",
         "orientation": "v",
         "showlegend": true,
         "textposition": "auto",
         "type": "bar",
         "x": [
          4,
          6,
          8,
          10
         ],
         "xaxis": "x",
         "y": [
          0.406871609403255,
          0.33905967450271246,
          0.3616636528028933,
          0.2938517179023508
         ],
         "yaxis": "y"
        },
        {
         "alignmentgroup": "True",
         "hovertemplate": "Activities=Permit REJECTED by SUPERVISOR<br>Trace length=%{x}<br>Percent count=%{y}<extra></extra>",
         "legendgroup": "Permit REJECTED by SUPERVISOR",
         "marker": {
          "color": "#ab63fa",
          "pattern": {
           "shape": ""
          }
         },
         "name": "Permit REJECTED by SUPERVISOR",
         "offsetgroup": "Permit REJECTED by SUPERVISOR",
         "orientation": "v",
         "showlegend": true,
         "textposition": "auto",
         "type": "bar",
         "x": [
          4,
          6,
          8,
          10
         ],
         "xaxis": "x",
         "y": [
          0.3842676311030741,
          0.045207956600361664,
          0.022603978300180832,
          0.022603978300180832
         ],
         "yaxis": "y"
        },
        {
         "alignmentgroup": "True",
         "hovertemplate": "Activities=Request For Payment APPROVED by PRE_APPROVER<br>Trace length=%{x}<br>Percent count=%{y}<extra></extra>",
         "legendgroup": "Request For Payment APPROVED by PRE_APPROVER",
         "marker": {
          "color": "#FFA15A",
          "pattern": {
           "shape": ""
          }
         },
         "name": "Request For Payment APPROVED by PRE_APPROVER",
         "offsetgroup": "Request For Payment APPROVED by PRE_APPROVER",
         "orientation": "v",
         "showlegend": true,
         "textposition": "auto",
         "type": "bar",
         "x": [
          4,
          6,
          8,
          10
         ],
         "xaxis": "x",
         "y": [
          0.27124773960216997,
          0.13562386980108498,
          0.13562386980108498,
          0.24864376130198915
         ],
         "yaxis": "y"
        },
        {
         "alignmentgroup": "True",
         "hovertemplate": "Activities=Request For Payment REJECTED by ADMINISTRATION<br>Trace length=%{x}<br>Percent count=%{y}<extra></extra>",
         "legendgroup": "Request For Payment REJECTED by ADMINISTRATION",
         "marker": {
          "color": "#19d3f3",
          "pattern": {
           "shape": ""
          }
         },
         "name": "Request For Payment REJECTED by ADMINISTRATION",
         "offsetgroup": "Request For Payment REJECTED by ADMINISTRATION",
         "orientation": "v",
         "showlegend": true,
         "textposition": "auto",
         "type": "bar",
         "x": [
          4,
          6,
          8,
          10
         ],
         "xaxis": "x",
         "y": [
          0.13562386980108498,
          0.3842676311030741,
          0.15822784810126583,
          0.11301989150090416
         ],
         "yaxis": "y"
        },
        {
         "alignmentgroup": "True",
         "hovertemplate": "Activities=Declaration SAVED by EMPLOYEE<br>Trace length=%{x}<br>Percent count=%{y}<extra></extra>",
         "legendgroup": "Declaration SAVED by EMPLOYEE",
         "marker": {
          "color": "#FF6692",
          "pattern": {
           "shape": ""
          }
         },
         "name": "Declaration SAVED by EMPLOYEE",
         "offsetgroup": "Declaration SAVED by EMPLOYEE",
         "orientation": "v",
         "showlegend": true,
         "textposition": "auto",
         "type": "bar",
         "x": [
          4,
          6,
          8,
          10
         ],
         "xaxis": "x",
         "y": [
          0.09041591320072333,
          0.09041591320072333,
          0.045207956600361664,
          0.09041591320072333
         ],
         "yaxis": "y"
        },
        {
         "alignmentgroup": "True",
         "hovertemplate": "Activities=Permit APPROVED by ADMINISTRATION<br>Trace length=%{x}<br>Percent count=%{y}<extra></extra>",
         "legendgroup": "Permit APPROVED by ADMINISTRATION",
         "marker": {
          "color": "#B6E880",
          "pattern": {
           "shape": ""
          }
         },
         "name": "Permit APPROVED by ADMINISTRATION",
         "offsetgroup": "Permit APPROVED by ADMINISTRATION",
         "orientation": "v",
         "showlegend": true,
         "textposition": "auto",
         "type": "bar",
         "x": [
          4,
          6,
          8,
          10
         ],
         "xaxis": "x",
         "y": [
          0.09041591320072333,
          0.7911392405063291,
          0.09041591320072333,
          0.045207956600361664
         ],
         "yaxis": "y"
        },
        {
         "alignmentgroup": "True",
         "hovertemplate": "Activities=Permit APPROVED by PRE_APPROVER<br>Trace length=%{x}<br>Percent count=%{y}<extra></extra>",
         "legendgroup": "Permit APPROVED by PRE_APPROVER",
         "marker": {
          "color": "#FF97FF",
          "pattern": {
           "shape": ""
          }
         },
         "name": "Permit APPROVED by PRE_APPROVER",
         "offsetgroup": "Permit APPROVED by PRE_APPROVER",
         "orientation": "v",
         "showlegend": true,
         "textposition": "auto",
         "type": "bar",
         "x": [
          4,
          6,
          8
         ],
         "xaxis": "x",
         "y": [
          0.045207956600361664,
          0.13562386980108498,
          0.06781193490054249
         ],
         "yaxis": "y"
        },
        {
         "alignmentgroup": "True",
         "hovertemplate": "Activities=Request For Payment SAVED by EMPLOYEE<br>Trace length=%{x}<br>Percent count=%{y}<extra></extra>",
         "legendgroup": "Request For Payment SAVED by EMPLOYEE",
         "marker": {
          "color": "#FECB52",
          "pattern": {
           "shape": ""
          }
         },
         "name": "Request For Payment SAVED by EMPLOYEE",
         "offsetgroup": "Request For Payment SAVED by EMPLOYEE",
         "orientation": "v",
         "showlegend": true,
         "textposition": "auto",
         "type": "bar",
         "x": [
          4,
          6
         ],
         "xaxis": "x",
         "y": [
          0.045207956600361664,
          0.022603978300180832
         ],
         "yaxis": "y"
        },
        {
         "alignmentgroup": "True",
         "hovertemplate": "Activities=Declaration FINAL_APPROVED by SUPERVISOR<br>Trace length=%{x}<br>Percent count=%{y}<extra></extra>",
         "legendgroup": "Declaration FINAL_APPROVED by SUPERVISOR",
         "marker": {
          "color": "#636efa",
          "pattern": {
           "shape": ""
          }
         },
         "name": "Declaration FINAL_APPROVED by SUPERVISOR",
         "offsetgroup": "Declaration FINAL_APPROVED by SUPERVISOR",
         "orientation": "v",
         "showlegend": true,
         "textposition": "auto",
         "type": "bar",
         "x": [
          4,
          6,
          8,
          10
         ],
         "xaxis": "x",
         "y": [
          0.022603978300180832,
          8.092224231464739,
          32.730560578661844,
          44.868896925858955
         ],
         "yaxis": "y"
        },
        {
         "alignmentgroup": "True",
         "hovertemplate": "Activities=Send Reminder<br>Trace length=%{x}<br>Percent count=%{y}<extra></extra>",
         "legendgroup": "Send Reminder",
         "marker": {
          "color": "#EF553B",
          "pattern": {
           "shape": ""
          }
         },
         "name": "Send Reminder",
         "offsetgroup": "Send Reminder",
         "orientation": "v",
         "showlegend": true,
         "textposition": "auto",
         "type": "bar",
         "x": [
          6,
          8,
          10
         ],
         "xaxis": "x",
         "y": [
          1.8083182640144666,
          0.22603978300180833,
          0.022603978300180832
         ],
         "yaxis": "y"
        },
        {
         "alignmentgroup": "True",
         "hovertemplate": "Activities=Payment Handled<br>Trace length=%{x}<br>Percent count=%{y}<extra></extra>",
         "legendgroup": "Payment Handled",
         "marker": {
          "color": "#00cc96",
          "pattern": {
           "shape": ""
          }
         },
         "name": "Payment Handled",
         "offsetgroup": "Payment Handled",
         "orientation": "v",
         "showlegend": true,
         "textposition": "auto",
         "type": "bar",
         "x": [
          6,
          8,
          10
         ],
         "xaxis": "x",
         "y": [
          1.2658227848101267,
          7.459312839059675,
          3.887884267631103
         ],
         "yaxis": "y"
        },
        {
         "alignmentgroup": "True",
         "hovertemplate": "Activities=Declaration APPROVED by ADMINISTRATION<br>Trace length=%{x}<br>Percent count=%{y}<extra></extra>",
         "legendgroup": "Declaration APPROVED by ADMINISTRATION",
         "marker": {
          "color": "#ab63fa",
          "pattern": {
           "shape": ""
          }
         },
         "name": "Declaration APPROVED by ADMINISTRATION",
         "offsetgroup": "Declaration APPROVED by ADMINISTRATION",
         "orientation": "v",
         "showlegend": true,
         "textposition": "auto",
         "type": "bar",
         "x": [
          6,
          8,
          10
         ],
         "xaxis": "x",
         "y": [
          1.2432188065099457,
          11.505424954792042,
          1.4466546112115732
         ],
         "yaxis": "y"
        },
        {
         "alignmentgroup": "True",
         "hovertemplate": "Activities=Request For Payment REJECTED by EMPLOYEE<br>Trace length=%{x}<br>Percent count=%{y}<extra></extra>",
         "legendgroup": "Request For Payment REJECTED by EMPLOYEE",
         "marker": {
          "color": "#FFA15A",
          "pattern": {
           "shape": ""
          }
         },
         "name": "Request For Payment REJECTED by EMPLOYEE",
         "offsetgroup": "Request For Payment REJECTED by EMPLOYEE",
         "orientation": "v",
         "showlegend": true,
         "textposition": "auto",
         "type": "bar",
         "x": [
          6,
          8,
          10
         ],
         "xaxis": "x",
         "y": [
          0.8589511754068716,
          0.33905967450271246,
          0.24864376130198915
         ],
         "yaxis": "y"
        },
        {
         "alignmentgroup": "True",
         "hovertemplate": "Activities=Request For Payment APPROVED by BUDGET OWNER<br>Trace length=%{x}<br>Percent count=%{y}<extra></extra>",
         "legendgroup": "Request For Payment APPROVED by BUDGET OWNER",
         "marker": {
          "color": "#19d3f3",
          "pattern": {
           "shape": ""
          }
         },
         "name": "Request For Payment APPROVED by BUDGET OWNER",
         "offsetgroup": "Request For Payment APPROVED by BUDGET OWNER",
         "orientation": "v",
         "showlegend": true,
         "textposition": "auto",
         "type": "bar",
         "x": [
          6,
          8,
          10
         ],
         "xaxis": "x",
         "y": [
          0.7685352622061482,
          0.6555153707052441,
          0.8363471971066908
         ],
         "yaxis": "y"
        },
        {
         "alignmentgroup": "True",
         "hovertemplate": "Activities=Declaration APPROVED by PRE_APPROVER<br>Trace length=%{x}<br>Percent count=%{y}<extra></extra>",
         "legendgroup": "Declaration APPROVED by PRE_APPROVER",
         "marker": {
          "color": "#FF6692",
          "pattern": {
           "shape": ""
          }
         },
         "name": "Declaration APPROVED by PRE_APPROVER",
         "offsetgroup": "Declaration APPROVED by PRE_APPROVER",
         "orientation": "v",
         "showlegend": true,
         "textposition": "auto",
         "type": "bar",
         "x": [
          6,
          8,
          10
         ],
         "xaxis": "x",
         "y": [
          0.7007233273056057,
          0.2938517179023508,
          0.33905967450271246
         ],
         "yaxis": "y"
        },
        {
         "alignmentgroup": "True",
         "hovertemplate": "Activities=Request Payment<br>Trace length=%{x}<br>Percent count=%{y}<extra></extra>",
         "legendgroup": "Request Payment",
         "marker": {
          "color": "#B6E880",
          "pattern": {
           "shape": ""
          }
         },
         "name": "Request Payment",
         "offsetgroup": "Request Payment",
         "orientation": "v",
         "showlegend": true,
         "textposition": "auto",
         "type": "bar",
         "x": [
          6,
          8,
          10
         ],
         "xaxis": "x",
         "y": [
          0.6781193490054249,
          1.7857142857142856,
          2.6446654611211575
         ],
         "yaxis": "y"
        },
        {
         "alignmentgroup": "True",
         "hovertemplate": "Activities=Request For Payment REJECTED by SUPERVISOR<br>Trace length=%{x}<br>Percent count=%{y}<extra></extra>",
         "legendgroup": "Request For Payment REJECTED by SUPERVISOR",
         "marker": {
          "color": "#FF97FF",
          "pattern": {
           "shape": ""
          }
         },
         "name": "Request For Payment REJECTED by SUPERVISOR",
         "offsetgroup": "Request For Payment REJECTED by SUPERVISOR",
         "orientation": "v",
         "showlegend": true,
         "textposition": "auto",
         "type": "bar",
         "x": [
          6,
          10
         ],
         "xaxis": "x",
         "y": [
          0.09041591320072333,
          0.022603978300180832
         ],
         "yaxis": "y"
        },
        {
         "alignmentgroup": "True",
         "hovertemplate": "Activities=Request For Payment FINAL_APPROVED by DIRECTOR<br>Trace length=%{x}<br>Percent count=%{y}<extra></extra>",
         "legendgroup": "Request For Payment FINAL_APPROVED by DIRECTOR",
         "marker": {
          "color": "#FECB52",
          "pattern": {
           "shape": ""
          }
         },
         "name": "Request For Payment FINAL_APPROVED by DIRECTOR",
         "offsetgroup": "Request For Payment FINAL_APPROVED by DIRECTOR",
         "orientation": "v",
         "showlegend": true,
         "textposition": "auto",
         "type": "bar",
         "x": [
          6,
          8,
          10
         ],
         "xaxis": "x",
         "y": [
          0.06781193490054249,
          0.15822784810126583,
          0.09041591320072333
         ],
         "yaxis": "y"
        },
        {
         "alignmentgroup": "True",
         "hovertemplate": "Activities=Request For Payment APPROVED by SUPERVISOR<br>Trace length=%{x}<br>Percent count=%{y}<extra></extra>",
         "legendgroup": "Request For Payment APPROVED by SUPERVISOR",
         "marker": {
          "color": "#636efa",
          "pattern": {
           "shape": ""
          }
         },
         "name": "Request For Payment APPROVED by SUPERVISOR",
         "offsetgroup": "Request For Payment APPROVED by SUPERVISOR",
         "orientation": "v",
         "showlegend": true,
         "textposition": "auto",
         "type": "bar",
         "x": [
          6,
          8,
          10
         ],
         "xaxis": "x",
         "y": [
          0.045207956600361664,
          0.06781193490054249,
          0.045207956600361664
         ],
         "yaxis": "y"
        },
        {
         "alignmentgroup": "True",
         "hovertemplate": "Activities=Declaration APPROVED by SUPERVISOR<br>Trace length=%{x}<br>Percent count=%{y}<extra></extra>",
         "legendgroup": "Declaration APPROVED by SUPERVISOR",
         "marker": {
          "color": "#EF553B",
          "pattern": {
           "shape": ""
          }
         },
         "name": "Declaration APPROVED by SUPERVISOR",
         "offsetgroup": "Declaration APPROVED by SUPERVISOR",
         "orientation": "v",
         "showlegend": true,
         "textposition": "auto",
         "type": "bar",
         "x": [
          6,
          8,
          10
         ],
         "xaxis": "x",
         "y": [
          0.022603978300180832,
          0.22603978300180833,
          0.24864376130198915
         ],
         "yaxis": "y"
        },
        {
         "alignmentgroup": "True",
         "hovertemplate": "Activities=Permit REJECTED by ADMINISTRATION<br>Trace length=%{x}<br>Percent count=%{y}<extra></extra>",
         "legendgroup": "Permit REJECTED by ADMINISTRATION",
         "marker": {
          "color": "#00cc96",
          "pattern": {
           "shape": ""
          }
         },
         "name": "Permit REJECTED by ADMINISTRATION",
         "offsetgroup": "Permit REJECTED by ADMINISTRATION",
         "orientation": "v",
         "showlegend": true,
         "textposition": "auto",
         "type": "bar",
         "x": [
          6
         ],
         "xaxis": "x",
         "y": [
          0.022603978300180832
         ],
         "yaxis": "y"
        },
        {
         "alignmentgroup": "True",
         "hovertemplate": "Activities=Declaration FINAL_APPROVED by DIRECTOR<br>Trace length=%{x}<br>Percent count=%{y}<extra></extra>",
         "legendgroup": "Declaration FINAL_APPROVED by DIRECTOR",
         "marker": {
          "color": "#ab63fa",
          "pattern": {
           "shape": ""
          }
         },
         "name": "Declaration FINAL_APPROVED by DIRECTOR",
         "offsetgroup": "Declaration FINAL_APPROVED by DIRECTOR",
         "orientation": "v",
         "showlegend": true,
         "textposition": "auto",
         "type": "bar",
         "x": [
          8,
          10
         ],
         "xaxis": "x",
         "y": [
          1.1301989150090417,
          1.7857142857142856
         ],
         "yaxis": "y"
        },
        {
         "alignmentgroup": "True",
         "hovertemplate": "Activities=Declaration APPROVED by BUDGET OWNER<br>Trace length=%{x}<br>Percent count=%{y}<extra></extra>",
         "legendgroup": "Declaration APPROVED by BUDGET OWNER",
         "marker": {
          "color": "#FFA15A",
          "pattern": {
           "shape": ""
          }
         },
         "name": "Declaration APPROVED by BUDGET OWNER",
         "offsetgroup": "Declaration APPROVED by BUDGET OWNER",
         "orientation": "v",
         "showlegend": true,
         "textposition": "auto",
         "type": "bar",
         "x": [
          8,
          10
         ],
         "xaxis": "x",
         "y": [
          0.9719710669077758,
          1.5144665461121156
         ],
         "yaxis": "y"
        },
        {
         "alignmentgroup": "True",
         "hovertemplate": "Activities=Request For Payment REJECTED by PRE_APPROVER<br>Trace length=%{x}<br>Percent count=%{y}<extra></extra>",
         "legendgroup": "Request For Payment REJECTED by PRE_APPROVER",
         "marker": {
          "color": "#19d3f3",
          "pattern": {
           "shape": ""
          }
         },
         "name": "Request For Payment REJECTED by PRE_APPROVER",
         "offsetgroup": "Request For Payment REJECTED by PRE_APPROVER",
         "orientation": "v",
         "showlegend": true,
         "textposition": "auto",
         "type": "bar",
         "x": [
          8,
          10
         ],
         "xaxis": "x",
         "y": [
          0.06781193490054249,
          0.022603978300180832
         ],
         "yaxis": "y"
        },
        {
         "alignmentgroup": "True",
         "hovertemplate": "Activities=Permit REJECTED by BUDGET OWNER<br>Trace length=%{x}<br>Percent count=%{y}<extra></extra>",
         "legendgroup": "Permit REJECTED by BUDGET OWNER",
         "marker": {
          "color": "#FF6692",
          "pattern": {
           "shape": ""
          }
         },
         "name": "Permit REJECTED by BUDGET OWNER",
         "offsetgroup": "Permit REJECTED by BUDGET OWNER",
         "orientation": "v",
         "showlegend": true,
         "textposition": "auto",
         "type": "bar",
         "x": [
          8
         ],
         "xaxis": "x",
         "y": [
          0.045207956600361664
         ],
         "yaxis": "y"
        }
       ],
       "layout": {
        "barmode": "relative",
        "legend": {
         "title": {
          "text": "Activities"
         },
         "tracegroupgap": 0
        },
        "template": {
         "data": {
          "bar": [
           {
            "error_x": {
             "color": "#2a3f5f"
            },
            "error_y": {
             "color": "#2a3f5f"
            },
            "marker": {
             "line": {
              "color": "#E5ECF6",
              "width": 0.5
             },
             "pattern": {
              "fillmode": "overlay",
              "size": 10,
              "solidity": 0.2
             }
            },
            "type": "bar"
           }
          ],
          "barpolar": [
           {
            "marker": {
             "line": {
              "color": "#E5ECF6",
              "width": 0.5
             },
             "pattern": {
              "fillmode": "overlay",
              "size": 10,
              "solidity": 0.2
             }
            },
            "type": "barpolar"
           }
          ],
          "carpet": [
           {
            "aaxis": {
             "endlinecolor": "#2a3f5f",
             "gridcolor": "white",
             "linecolor": "white",
             "minorgridcolor": "white",
             "startlinecolor": "#2a3f5f"
            },
            "baxis": {
             "endlinecolor": "#2a3f5f",
             "gridcolor": "white",
             "linecolor": "white",
             "minorgridcolor": "white",
             "startlinecolor": "#2a3f5f"
            },
            "type": "carpet"
           }
          ],
          "choropleth": [
           {
            "colorbar": {
             "outlinewidth": 0,
             "ticks": ""
            },
            "type": "choropleth"
           }
          ],
          "contour": [
           {
            "colorbar": {
             "outlinewidth": 0,
             "ticks": ""
            },
            "colorscale": [
             [
              0,
              "#0d0887"
             ],
             [
              0.1111111111111111,
              "#46039f"
             ],
             [
              0.2222222222222222,
              "#7201a8"
             ],
             [
              0.3333333333333333,
              "#9c179e"
             ],
             [
              0.4444444444444444,
              "#bd3786"
             ],
             [
              0.5555555555555556,
              "#d8576b"
             ],
             [
              0.6666666666666666,
              "#ed7953"
             ],
             [
              0.7777777777777778,
              "#fb9f3a"
             ],
             [
              0.8888888888888888,
              "#fdca26"
             ],
             [
              1,
              "#f0f921"
             ]
            ],
            "type": "contour"
           }
          ],
          "contourcarpet": [
           {
            "colorbar": {
             "outlinewidth": 0,
             "ticks": ""
            },
            "type": "contourcarpet"
           }
          ],
          "heatmap": [
           {
            "colorbar": {
             "outlinewidth": 0,
             "ticks": ""
            },
            "colorscale": [
             [
              0,
              "#0d0887"
             ],
             [
              0.1111111111111111,
              "#46039f"
             ],
             [
              0.2222222222222222,
              "#7201a8"
             ],
             [
              0.3333333333333333,
              "#9c179e"
             ],
             [
              0.4444444444444444,
              "#bd3786"
             ],
             [
              0.5555555555555556,
              "#d8576b"
             ],
             [
              0.6666666666666666,
              "#ed7953"
             ],
             [
              0.7777777777777778,
              "#fb9f3a"
             ],
             [
              0.8888888888888888,
              "#fdca26"
             ],
             [
              1,
              "#f0f921"
             ]
            ],
            "type": "heatmap"
           }
          ],
          "heatmapgl": [
           {
            "colorbar": {
             "outlinewidth": 0,
             "ticks": ""
            },
            "colorscale": [
             [
              0,
              "#0d0887"
             ],
             [
              0.1111111111111111,
              "#46039f"
             ],
             [
              0.2222222222222222,
              "#7201a8"
             ],
             [
              0.3333333333333333,
              "#9c179e"
             ],
             [
              0.4444444444444444,
              "#bd3786"
             ],
             [
              0.5555555555555556,
              "#d8576b"
             ],
             [
              0.6666666666666666,
              "#ed7953"
             ],
             [
              0.7777777777777778,
              "#fb9f3a"
             ],
             [
              0.8888888888888888,
              "#fdca26"
             ],
             [
              1,
              "#f0f921"
             ]
            ],
            "type": "heatmapgl"
           }
          ],
          "histogram": [
           {
            "marker": {
             "pattern": {
              "fillmode": "overlay",
              "size": 10,
              "solidity": 0.2
             }
            },
            "type": "histogram"
           }
          ],
          "histogram2d": [
           {
            "colorbar": {
             "outlinewidth": 0,
             "ticks": ""
            },
            "colorscale": [
             [
              0,
              "#0d0887"
             ],
             [
              0.1111111111111111,
              "#46039f"
             ],
             [
              0.2222222222222222,
              "#7201a8"
             ],
             [
              0.3333333333333333,
              "#9c179e"
             ],
             [
              0.4444444444444444,
              "#bd3786"
             ],
             [
              0.5555555555555556,
              "#d8576b"
             ],
             [
              0.6666666666666666,
              "#ed7953"
             ],
             [
              0.7777777777777778,
              "#fb9f3a"
             ],
             [
              0.8888888888888888,
              "#fdca26"
             ],
             [
              1,
              "#f0f921"
             ]
            ],
            "type": "histogram2d"
           }
          ],
          "histogram2dcontour": [
           {
            "colorbar": {
             "outlinewidth": 0,
             "ticks": ""
            },
            "colorscale": [
             [
              0,
              "#0d0887"
             ],
             [
              0.1111111111111111,
              "#46039f"
             ],
             [
              0.2222222222222222,
              "#7201a8"
             ],
             [
              0.3333333333333333,
              "#9c179e"
             ],
             [
              0.4444444444444444,
              "#bd3786"
             ],
             [
              0.5555555555555556,
              "#d8576b"
             ],
             [
              0.6666666666666666,
              "#ed7953"
             ],
             [
              0.7777777777777778,
              "#fb9f3a"
             ],
             [
              0.8888888888888888,
              "#fdca26"
             ],
             [
              1,
              "#f0f921"
             ]
            ],
            "type": "histogram2dcontour"
           }
          ],
          "mesh3d": [
           {
            "colorbar": {
             "outlinewidth": 0,
             "ticks": ""
            },
            "type": "mesh3d"
           }
          ],
          "parcoords": [
           {
            "line": {
             "colorbar": {
              "outlinewidth": 0,
              "ticks": ""
             }
            },
            "type": "parcoords"
           }
          ],
          "pie": [
           {
            "automargin": true,
            "type": "pie"
           }
          ],
          "scatter": [
           {
            "fillpattern": {
             "fillmode": "overlay",
             "size": 10,
             "solidity": 0.2
            },
            "type": "scatter"
           }
          ],
          "scatter3d": [
           {
            "line": {
             "colorbar": {
              "outlinewidth": 0,
              "ticks": ""
             }
            },
            "marker": {
             "colorbar": {
              "outlinewidth": 0,
              "ticks": ""
             }
            },
            "type": "scatter3d"
           }
          ],
          "scattercarpet": [
           {
            "marker": {
             "colorbar": {
              "outlinewidth": 0,
              "ticks": ""
             }
            },
            "type": "scattercarpet"
           }
          ],
          "scattergeo": [
           {
            "marker": {
             "colorbar": {
              "outlinewidth": 0,
              "ticks": ""
             }
            },
            "type": "scattergeo"
           }
          ],
          "scattergl": [
           {
            "marker": {
             "colorbar": {
              "outlinewidth": 0,
              "ticks": ""
             }
            },
            "type": "scattergl"
           }
          ],
          "scattermapbox": [
           {
            "marker": {
             "colorbar": {
              "outlinewidth": 0,
              "ticks": ""
             }
            },
            "type": "scattermapbox"
           }
          ],
          "scatterpolar": [
           {
            "marker": {
             "colorbar": {
              "outlinewidth": 0,
              "ticks": ""
             }
            },
            "type": "scatterpolar"
           }
          ],
          "scatterpolargl": [
           {
            "marker": {
             "colorbar": {
              "outlinewidth": 0,
              "ticks": ""
             }
            },
            "type": "scatterpolargl"
           }
          ],
          "scatterternary": [
           {
            "marker": {
             "colorbar": {
              "outlinewidth": 0,
              "ticks": ""
             }
            },
            "type": "scatterternary"
           }
          ],
          "surface": [
           {
            "colorbar": {
             "outlinewidth": 0,
             "ticks": ""
            },
            "colorscale": [
             [
              0,
              "#0d0887"
             ],
             [
              0.1111111111111111,
              "#46039f"
             ],
             [
              0.2222222222222222,
              "#7201a8"
             ],
             [
              0.3333333333333333,
              "#9c179e"
             ],
             [
              0.4444444444444444,
              "#bd3786"
             ],
             [
              0.5555555555555556,
              "#d8576b"
             ],
             [
              0.6666666666666666,
              "#ed7953"
             ],
             [
              0.7777777777777778,
              "#fb9f3a"
             ],
             [
              0.8888888888888888,
              "#fdca26"
             ],
             [
              1,
              "#f0f921"
             ]
            ],
            "type": "surface"
           }
          ],
          "table": [
           {
            "cells": {
             "fill": {
              "color": "#EBF0F8"
             },
             "line": {
              "color": "white"
             }
            },
            "header": {
             "fill": {
              "color": "#C8D4E3"
             },
             "line": {
              "color": "white"
             }
            },
            "type": "table"
           }
          ]
         },
         "layout": {
          "annotationdefaults": {
           "arrowcolor": "#2a3f5f",
           "arrowhead": 0,
           "arrowwidth": 1
          },
          "autotypenumbers": "strict",
          "coloraxis": {
           "colorbar": {
            "outlinewidth": 0,
            "ticks": ""
           }
          },
          "colorscale": {
           "diverging": [
            [
             0,
             "#8e0152"
            ],
            [
             0.1,
             "#c51b7d"
            ],
            [
             0.2,
             "#de77ae"
            ],
            [
             0.3,
             "#f1b6da"
            ],
            [
             0.4,
             "#fde0ef"
            ],
            [
             0.5,
             "#f7f7f7"
            ],
            [
             0.6,
             "#e6f5d0"
            ],
            [
             0.7,
             "#b8e186"
            ],
            [
             0.8,
             "#7fbc41"
            ],
            [
             0.9,
             "#4d9221"
            ],
            [
             1,
             "#276419"
            ]
           ],
           "sequential": [
            [
             0,
             "#0d0887"
            ],
            [
             0.1111111111111111,
             "#46039f"
            ],
            [
             0.2222222222222222,
             "#7201a8"
            ],
            [
             0.3333333333333333,
             "#9c179e"
            ],
            [
             0.4444444444444444,
             "#bd3786"
            ],
            [
             0.5555555555555556,
             "#d8576b"
            ],
            [
             0.6666666666666666,
             "#ed7953"
            ],
            [
             0.7777777777777778,
             "#fb9f3a"
            ],
            [
             0.8888888888888888,
             "#fdca26"
            ],
            [
             1,
             "#f0f921"
            ]
           ],
           "sequentialminus": [
            [
             0,
             "#0d0887"
            ],
            [
             0.1111111111111111,
             "#46039f"
            ],
            [
             0.2222222222222222,
             "#7201a8"
            ],
            [
             0.3333333333333333,
             "#9c179e"
            ],
            [
             0.4444444444444444,
             "#bd3786"
            ],
            [
             0.5555555555555556,
             "#d8576b"
            ],
            [
             0.6666666666666666,
             "#ed7953"
            ],
            [
             0.7777777777777778,
             "#fb9f3a"
            ],
            [
             0.8888888888888888,
             "#fdca26"
            ],
            [
             1,
             "#f0f921"
            ]
           ]
          },
          "colorway": [
           "#636efa",
           "#EF553B",
           "#00cc96",
           "#ab63fa",
           "#FFA15A",
           "#19d3f3",
           "#FF6692",
           "#B6E880",
           "#FF97FF",
           "#FECB52"
          ],
          "font": {
           "color": "#2a3f5f"
          },
          "geo": {
           "bgcolor": "white",
           "lakecolor": "white",
           "landcolor": "#E5ECF6",
           "showlakes": true,
           "showland": true,
           "subunitcolor": "white"
          },
          "hoverlabel": {
           "align": "left"
          },
          "hovermode": "closest",
          "mapbox": {
           "style": "light"
          },
          "paper_bgcolor": "white",
          "plot_bgcolor": "#E5ECF6",
          "polar": {
           "angularaxis": {
            "gridcolor": "white",
            "linecolor": "white",
            "ticks": ""
           },
           "bgcolor": "#E5ECF6",
           "radialaxis": {
            "gridcolor": "white",
            "linecolor": "white",
            "ticks": ""
           }
          },
          "scene": {
           "xaxis": {
            "backgroundcolor": "#E5ECF6",
            "gridcolor": "white",
            "gridwidth": 2,
            "linecolor": "white",
            "showbackground": true,
            "ticks": "",
            "zerolinecolor": "white"
           },
           "yaxis": {
            "backgroundcolor": "#E5ECF6",
            "gridcolor": "white",
            "gridwidth": 2,
            "linecolor": "white",
            "showbackground": true,
            "ticks": "",
            "zerolinecolor": "white"
           },
           "zaxis": {
            "backgroundcolor": "#E5ECF6",
            "gridcolor": "white",
            "gridwidth": 2,
            "linecolor": "white",
            "showbackground": true,
            "ticks": "",
            "zerolinecolor": "white"
           }
          },
          "shapedefaults": {
           "line": {
            "color": "#2a3f5f"
           }
          },
          "ternary": {
           "aaxis": {
            "gridcolor": "white",
            "linecolor": "white",
            "ticks": ""
           },
           "baxis": {
            "gridcolor": "white",
            "linecolor": "white",
            "ticks": ""
           },
           "bgcolor": "#E5ECF6",
           "caxis": {
            "gridcolor": "white",
            "linecolor": "white",
            "ticks": ""
           }
          },
          "title": {
           "x": 0.05
          },
          "xaxis": {
           "automargin": true,
           "gridcolor": "white",
           "linecolor": "white",
           "ticks": "",
           "title": {
            "standoff": 15
           },
           "zerolinecolor": "white",
           "zerolinewidth": 2
          },
          "yaxis": {
           "automargin": true,
           "gridcolor": "white",
           "linecolor": "white",
           "ticks": "",
           "title": {
            "standoff": 15
           },
           "zerolinecolor": "white",
           "zerolinewidth": 2
          }
         }
        },
        "title": {
         "text": "Last activity vs trace length distribution"
        },
        "xaxis": {
         "anchor": "y",
         "domain": [
          0,
          1
         ],
         "title": {
          "text": "Trace length"
         }
        },
        "yaxis": {
         "anchor": "x",
         "domain": [
          0,
          1
         ],
         "title": {
          "text": "Percent count"
         }
        }
       }
      }
     },
     "metadata": {},
     "output_type": "display_data"
    }
   ],
   "source": [
    "# plot the distribution\n",
    "import plotly.express as px\n",
    "fig = px.bar(df_dist, x=\"Trace length\", y=\"Percent count\", color=\"Activities\", title=\"Last activity vs trace length distribution\")\n",
    "fig.show()\n",
    "fig.write_html(\"../docs/activity_vs_trace_length_distribution.html\")"
   ]
  },
  {
   "cell_type": "markdown",
   "metadata": {},
   "source": [
    "## Feature Selection ( Based on Data Exploration )"
   ]
  },
  {
   "cell_type": "code",
   "execution_count": 32,
   "metadata": {},
   "outputs": [],
   "source": [
    "# passed features we want to extract\n",
    "\n",
    "# str_ev_attr\tString attributes at the event level: these are hot-encoded into features that may assume value 0 or value 1.\n",
    "# str_tr_attr\tString attributes at the trace level: these are hot-encoded into features that may assume value 0 or value 1.\n",
    "# num_ev_attr\tNumeric attributes at the event level: these are encoded by including the last value of the attribute among the events of the trace.\n",
    "# num_tr_attr\tNumeric attributes at trace level: these are encoded by including the numerical value.\n",
    "# str_evsucc_attr\tSuccessions related to the string attributes values at the event level: for example, if we have a trace [A,B,C], it might be important to include not only the presence of the single values A, B and C as features; but also the presence of the directly-follows couples (A,B) and (B,C).\n",
    "# ================================================\n",
    "\n",
    "str_ev_attr = ['concept:name']\n",
    "str_tr_attr = ['OrganizationalEntity','month']\n",
    "num_ev_attr = ['@@approx_bh_partial_lead_time','@@approx_bh_this_wasted_time']\n",
    "num_tr_attr = []"
   ]
  },
  {
   "cell_type": "markdown",
   "metadata": {},
   "source": [
    "# Data encoding\n",
    "\n",
    "- preparing input data to be passed, \n",
    "- there are different encodings we can go with\n",
    "    - boolean encoding (one hot encoding if the activity present or not)\n",
    "    - frequency encoding (count of activity)\n",
    "    - simple index encoding (n events one hot encoding)\n",
    "    - latest payload encoding (with trace attributes)\n",
    "    - index payload encoding (n events one hot encoding + with trace attributes)\n",
    "    - complex index based encoding (static feature + nevents encoding + event features )\n",
    "    - lstm encoding (m x n)\n",
    "    \n",
    "=========  \n",
    "\n",
    "- Since the complex index based encoding covers the above 3 ( we can simply filter columns to get those, also feature importance (random forest) can ignore those which are not imporant ) we basically generated 4 different encodings -\n",
    "    - boolean encoding (one hot encoding if the activity present or not)\n",
    "    - frequency encoding (count of activity)\n",
    "    - complex index based encoding (static feature + nevents encoding + event features )\n",
    "    - lstm encoding (m x n)\n",
    "\n",
    "=======\n",
    "- No need of paddings in boolean and frequency encoding as the activities are fixed \\\n",
    "\n",
    "**PADDING** \n",
    "- for one hot encoded attributes (categorical values) the desired vector length is  - t_length * ohe_length (Ex. 10*number of activities) \n",
    "- for numerical values the desired length is t_length\n",
    "\n",
    "**Note** - For now process changes are not been considered, if a new activity arrives in future"
   ]
  },
  {
   "cell_type": "markdown",
   "metadata": {},
   "source": [
    "## Common functions for Encodings "
   ]
  },
  {
   "cell_type": "code",
   "execution_count": 288,
   "metadata": {},
   "outputs": [],
   "source": [
    "# function to save the data\n",
    "def save_data(X,y,feature_names, save_path):\n",
    "    data_dict = {}\n",
    "    data_dict['X'] = X\n",
    "    data_dict['y'] = y\n",
    "    data_dict['feature_names'] = feature_names\n",
    "\n",
    "    # save pickle\n",
    "    with open(save_path, 'wb') as handle:\n",
    "        pickle.dump(data_dict, handle)"
   ]
  },
  {
   "cell_type": "code",
   "execution_count": 289,
   "metadata": {},
   "outputs": [],
   "source": [
    "# load the data from pickle\n",
    "def load_data(load_path):\n",
    "    with open(load_path, 'rb') as handle:\n",
    "        data = pickle.load(handle)\n",
    "    return data"
   ]
  },
  {
   "cell_type": "code",
   "execution_count": 290,
   "metadata": {},
   "outputs": [],
   "source": [
    "# function to get the one hot encoded vectors of categorical values\n",
    "def get_ohe_dict(categorical_vars, df):\n",
    "    ohe_dict = {}\n",
    "    for var in categorical_vars:\n",
    "        var_dict = {}\n",
    "        var_data = sorted(df[var].unique())\n",
    "        var_len = len(var_data)\n",
    "        for i,cat in enumerate(var_data):\n",
    "            var_dict[cat] = [0]*var_len\n",
    "            var_dict[cat][i] = 1\n",
    "\n",
    "        ohe_dict[var] = var_dict\n",
    "\n",
    "    return ohe_dict"
   ]
  },
  {
   "cell_type": "code",
   "execution_count": 291,
   "metadata": {},
   "outputs": [],
   "source": [
    "# padding function for ohe encoding\n",
    "def cat_padding(vec, t_length, attr_length):\n",
    "    desired_length = t_length*attr_length\n",
    "    vec_length = len(vec)\n",
    "    if vec_length != desired_length:\n",
    "        pad_vec = [0]*(desired_length-vec_length)\n",
    "        vec.extend(pad_vec)\n",
    "    return vec"
   ]
  },
  {
   "cell_type": "code",
   "execution_count": 292,
   "metadata": {},
   "outputs": [],
   "source": [
    "# padding function for non-ohe encoding\n",
    "def num_padding(vec, t_length):\n",
    "    vec_length = len(vec)\n",
    "    if vec_length != t_length:\n",
    "        pad_vec = [0]*(t_length-vec_length)\n",
    "        vec.extend(pad_vec)\n",
    "    return vec"
   ]
  },
  {
   "cell_type": "code",
   "execution_count": 293,
   "metadata": {},
   "outputs": [
    {
     "data": {
      "text/plain": [
       "['concept:name', 'OrganizationalEntity', 'month']"
      ]
     },
     "execution_count": 293,
     "metadata": {},
     "output_type": "execute_result"
    }
   ],
   "source": [
    "# create one hot encoding dict fot categorical variables\n",
    "# variables which we want to be one hot encoded\n",
    "categorical_vars = str_ev_attr + str_tr_attr\n",
    "ohe_dict = get_ohe_dict(categorical_vars, original_df)\n",
    "categorical_vars"
   ]
  },
  {
   "cell_type": "markdown",
   "metadata": {},
   "source": [
    "## Boolean encoding\n",
    "\n",
    "- can be easily extended with adding more attributes of traces other then activities, but for now kept it simple and as discussed in course"
   ]
  },
  {
   "cell_type": "code",
   "execution_count": 294,
   "metadata": {},
   "outputs": [],
   "source": [
    "# here for each trace we extract ohe vector for activity and sum them up and if count is greater then 1 we make them 1 \n",
    "# because this encoding only provides info, if the activity was there or not\n",
    "\n",
    "data = []\n",
    "\n",
    "for id, group in df.groupby(['case:concept:name']):\n",
    "    feature_vec = []\n",
    "\n",
    "    # add categorical and numerical event attributes\n",
    "    for cat_atr in str_ev_attr[:1]:\n",
    "        attr_length = len(list(ohe_dict[cat_atr].values())[0])\n",
    "        str_ev_vec = np.array([0]*attr_length)\n",
    "\n",
    "        for ca in group[cat_atr]:\n",
    "            str_ev_vec  = str_ev_vec + np.array(ohe_dict[cat_atr][ca])\n",
    "\n",
    "        # make it a non frequency vector (if count is greater then 1 make it 1)\n",
    "        for i,num in enumerate(str_ev_vec):\n",
    "            if num>1:\n",
    "                str_ev_vec[i]=1\n",
    "\n",
    "        feature_vec.extend(list(str_ev_vec))\n",
    "\n",
    "    data.append(feature_vec)\n",
    "\n",
    "    # data.append(feature_vec)"
   ]
  },
  {
   "cell_type": "code",
   "execution_count": 295,
   "metadata": {},
   "outputs": [],
   "source": [
    "# saving data \n",
    "encode_name = 'boolean_encode_'\n",
    "save_path = save_path_base + encode_name + df_type +'_trace_len_'+str(t_length)+ '.pickle'\n",
    "save_data(data, declerations, ohe_dict ,save_path)"
   ]
  },
  {
   "cell_type": "markdown",
   "metadata": {},
   "source": [
    "## Frequency encoding"
   ]
  },
  {
   "cell_type": "code",
   "execution_count": 296,
   "metadata": {},
   "outputs": [],
   "source": [
    "# here for each trace we extract ohe vector for activity and sum them up \n",
    "# because this encoding only provides count of how many times the activity appears\n",
    "\n",
    "data = []\n",
    "\n",
    "for id, group in df.groupby(['case:concept:name']):\n",
    "    feature_vec = []\n",
    "\n",
    "    # add categorical and numerical event attributes\n",
    "    for cat_atr in str_ev_attr[:1]:\n",
    "        attr_length = len(list(ohe_dict[cat_atr].values())[0])\n",
    "        str_ev_vec = np.array([0]*attr_length)\n",
    "\n",
    "        for ca in group[cat_atr]:\n",
    "            str_ev_vec  = str_ev_vec + np.array(ohe_dict[cat_atr][ca])\n",
    "\n",
    "        feature_vec.extend(list(str_ev_vec))\n",
    "\n",
    "    data.append(feature_vec)\n",
    "\n",
    "    # data.append(feature_vec)"
   ]
  },
  {
   "cell_type": "code",
   "execution_count": 297,
   "metadata": {},
   "outputs": [],
   "source": [
    "# save results\n",
    "encode_name = 'frequency_encode_'\n",
    "save_path = save_path_base + encode_name + df_type +'_trace_len_'+str(t_length)+ '.pickle'\n",
    "save_data(data, declerations, ohe_dict ,save_path)"
   ]
  },
  {
   "cell_type": "markdown",
   "metadata": {},
   "source": [
    "## Complex index based encoding - static feature (trace attributes) + n events encoding + event features"
   ]
  },
  {
   "cell_type": "code",
   "execution_count": 298,
   "metadata": {},
   "outputs": [],
   "source": [
    "# here for each trace we put events encoded in order and there aatributes along with padding to make vector length same\n",
    "# similatly for trace attributes but since it is trace attributes that is only for once\n",
    "\n",
    "data = []\n",
    "\n",
    "for id, group in df.groupby(['case:concept:name']):\n",
    "    feature_vec = []\n",
    "\n",
    "    # add categorical and numerical event attributes along with paddings \n",
    "\n",
    "    for cat_atr in str_ev_attr:\n",
    "        str_ev_vec = []\n",
    "        attr_length = len(list(ohe_dict[cat_atr].values())[0])\n",
    "        for ca in group[cat_atr]:\n",
    "            str_ev_vec.extend(ohe_dict[cat_atr][ca])\n",
    "        \n",
    "        # padding\n",
    "        str_ev_vec = cat_padding(str_ev_vec, t_length, attr_length)\n",
    "        feature_vec.extend(str_ev_vec)\n",
    "\n",
    "\n",
    "    for num_atr in num_ev_attr:\n",
    "        num_ev_vec = []\n",
    "        num_ev_vec.extend(list(group[num_atr]))\n",
    "\n",
    "        # padding\n",
    "        num_ev_vec = num_padding(num_ev_vec, t_length)\n",
    "        feature_vec.extend(num_ev_vec)\n",
    "\n",
    "\n",
    "\n",
    "    # add categorical and numerical trace attributes\n",
    "    for num_t_atr in num_tr_attr:\n",
    "        feature_vec.extend(group[num_t_atr].iloc[0])\n",
    "\n",
    "\n",
    "    for cat_t_atr in str_tr_attr:\n",
    "        feature_vec.extend(ohe_dict[cat_t_atr][group[cat_t_atr].iloc[0]])\n",
    "\n",
    "    # add vector to data\n",
    "    data.append(feature_vec)\n"
   ]
  },
  {
   "cell_type": "code",
   "execution_count": 299,
   "metadata": {},
   "outputs": [],
   "source": [
    "# check if all vector lengths are same \n",
    "vec_len = len(data[0])\n",
    "for i, d in enumerate(data):\n",
    "    if len(d)!=vec_len:\n",
    "        print(i, len(d))"
   ]
  },
  {
   "cell_type": "code",
   "execution_count": 300,
   "metadata": {},
   "outputs": [],
   "source": [
    "# save results\n",
    "encode_name = 'complex_index_encode_'\n",
    "save_path = save_path_base + encode_name + df_type +'_trace_len_'+str(t_length)+ '.pickle'\n",
    "save_data(data, declerations, ohe_dict ,save_path)"
   ]
  },
  {
   "cell_type": "markdown",
   "metadata": {},
   "source": [
    "## LSTM encoding"
   ]
  },
  {
   "cell_type": "code",
   "execution_count": 301,
   "metadata": {},
   "outputs": [],
   "source": [
    "# here we create sequence of each trace\n",
    "# so the dimentions will be (number of examples * trace_length * feature_length )\n",
    "\n",
    "data = []\n",
    "\n",
    "for id, group in df.groupby(['case:concept:name']):\n",
    "    \n",
    "    feature_vec = []\n",
    "\n",
    "    for index, row in group.iterrows():\n",
    "\n",
    "        row_vec = []\n",
    "\n",
    "        for cat_atr in str_ev_attr:\n",
    "            row_vec.extend(ohe_dict[cat_atr][row[cat_atr]])\n",
    "\n",
    "        for num_atr in num_ev_attr:\n",
    "            row_vec.append(row[num_atr])\n",
    "\n",
    "\n",
    "        # add categorical and numerical trace attributes\n",
    "        for num_t_atr in num_tr_attr:\n",
    "            row_vec.append(group[num_t_atr].iloc[0])\n",
    "\n",
    "        for cat_t_atr in str_tr_attr:\n",
    "            row_vec.extend(ohe_dict[cat_t_atr][group[cat_t_atr].iloc[0]])\n",
    "\n",
    "        feature_vec.append(row_vec)\n",
    "    \n",
    "\n",
    "    # add vector to data\n",
    "    data.append(feature_vec)\n"
   ]
  },
  {
   "cell_type": "code",
   "execution_count": 302,
   "metadata": {},
   "outputs": [],
   "source": [
    "# converting to array\n",
    "data = np.array([np.array(ls) for ls in data])"
   ]
  },
  {
   "cell_type": "code",
   "execution_count": 303,
   "metadata": {},
   "outputs": [
    {
     "data": {
      "text/plain": [
       "(8, 91)"
      ]
     },
     "execution_count": 303,
     "metadata": {},
     "output_type": "execute_result"
    }
   ],
   "source": [
    "# shape we want for all the traces\n",
    "feature_len = len(data[0][0])\n",
    "desired_shape = (t_length,feature_len)\n",
    "desired_shape"
   ]
  },
  {
   "cell_type": "code",
   "execution_count": 304,
   "metadata": {},
   "outputs": [
    {
     "data": {
      "text/plain": [
       "(4424, 8, 91)"
      ]
     },
     "execution_count": 304,
     "metadata": {},
     "output_type": "execute_result"
    }
   ],
   "source": [
    "# padding data to make equal shape of vectors\n",
    "padded_data = []\n",
    "for case in data:\n",
    "    pd_case = np.zeros(desired_shape)\n",
    "    pd_case[:case.shape[0],:case.shape[1]] = case\n",
    "    padded_data.append(pd_case)\n",
    "\n",
    "padded_data = np.array(padded_data)\n",
    "padded_data.shape"
   ]
  },
  {
   "cell_type": "code",
   "execution_count": 305,
   "metadata": {},
   "outputs": [],
   "source": [
    "# save results\n",
    "encode_name = 'lstm_encode_'\n",
    "save_path = save_path_base + encode_name + df_type +'_trace_len_'+str(t_length)+ '.pickle'\n",
    "save_data(padded_data, declerations, ohe_dict ,save_path)"
   ]
  },
  {
   "cell_type": "code",
   "execution_count": null,
   "metadata": {},
   "outputs": [],
   "source": []
  },
  {
   "cell_type": "code",
   "execution_count": null,
   "metadata": {},
   "outputs": [],
   "source": []
  },
  {
   "cell_type": "markdown",
   "metadata": {},
   "source": [
    "# =============================================\n",
    "# Preparing Test Data\n",
    "\n",
    "- exactly same, just using **train encoding** to create features\n",
    "- define trace length and df_type (train or test)\n",
    "- Working on train and test seperately, so run whole code for the same trace length for train and then for test"
   ]
  },
  {
   "cell_type": "code",
   "execution_count": 306,
   "metadata": {},
   "outputs": [],
   "source": [
    "df_type = 'test'\n",
    "permits = test_df"
   ]
  },
  {
   "cell_type": "code",
   "execution_count": 307,
   "metadata": {},
   "outputs": [
    {
     "data": {
      "text/html": [
       "<div>\n",
       "<style scoped>\n",
       "    .dataframe tbody tr th:only-of-type {\n",
       "        vertical-align: middle;\n",
       "    }\n",
       "\n",
       "    .dataframe tbody tr th {\n",
       "        vertical-align: top;\n",
       "    }\n",
       "\n",
       "    .dataframe thead th {\n",
       "        text-align: right;\n",
       "    }\n",
       "</style>\n",
       "<table border=\"1\" class=\"dataframe\">\n",
       "  <thead>\n",
       "    <tr style=\"text-align: right;\">\n",
       "      <th></th>\n",
       "      <th>case</th>\n",
       "      <th>event</th>\n",
       "      <th>startTime</th>\n",
       "      <th>completeTime</th>\n",
       "      <th>id</th>\n",
       "      <th>RequestedAmount_0</th>\n",
       "      <th>Overspent</th>\n",
       "      <th>travel permit number</th>\n",
       "      <th>OverspentAmount</th>\n",
       "      <th>RequestedBudget</th>\n",
       "      <th>...</th>\n",
       "      <th>year</th>\n",
       "      <th>month</th>\n",
       "      <th>@@approx_bh_partial_cycle_time</th>\n",
       "      <th>@@approx_bh_partial_lead_time</th>\n",
       "      <th>@@approx_bh_overall_wasted_time</th>\n",
       "      <th>@@approx_bh_this_wasted_time</th>\n",
       "      <th>@approx_bh_ratio_cycle_lead_time</th>\n",
       "      <th>case:concept:name</th>\n",
       "      <th>concept:name</th>\n",
       "      <th>time:timestamp</th>\n",
       "    </tr>\n",
       "  </thead>\n",
       "  <tbody>\n",
       "    <tr>\n",
       "      <th>1049</th>\n",
       "      <td>travel permit 11371</td>\n",
       "      <td>Permit SUBMITTED by EMPLOYEE</td>\n",
       "      <td>2018-12-04 11:46:32+00:00</td>\n",
       "      <td>2018-12-04 11:46:32+00:00</td>\n",
       "      <td>travel permit 11371</td>\n",
       "      <td>2354.157015302422</td>\n",
       "      <td>False</td>\n",
       "      <td>travel permit number 11372</td>\n",
       "      <td>-2065.009872</td>\n",
       "      <td>2865.099816</td>\n",
       "      <td>...</td>\n",
       "      <td>2018</td>\n",
       "      <td>12</td>\n",
       "      <td>0.0</td>\n",
       "      <td>0.0</td>\n",
       "      <td>0.0</td>\n",
       "      <td>0.0</td>\n",
       "      <td>1.0</td>\n",
       "      <td>travel permit 11371</td>\n",
       "      <td>Permit SUBMITTED by EMPLOYEE</td>\n",
       "      <td>2018-12-04 11:46:32+00:00</td>\n",
       "    </tr>\n",
       "    <tr>\n",
       "      <th>1050</th>\n",
       "      <td>travel permit 11371</td>\n",
       "      <td>Permit APPROVED by ADMINISTRATION</td>\n",
       "      <td>2018-12-04 11:46:33+00:00</td>\n",
       "      <td>2018-12-04 11:46:33+00:00</td>\n",
       "      <td>travel permit 11371</td>\n",
       "      <td>2354.157015302422</td>\n",
       "      <td>False</td>\n",
       "      <td>travel permit number 11372</td>\n",
       "      <td>-2065.009872</td>\n",
       "      <td>2865.099816</td>\n",
       "      <td>...</td>\n",
       "      <td>2018</td>\n",
       "      <td>12</td>\n",
       "      <td>0.0</td>\n",
       "      <td>1.0</td>\n",
       "      <td>1.0</td>\n",
       "      <td>1.0</td>\n",
       "      <td>0.0</td>\n",
       "      <td>travel permit 11371</td>\n",
       "      <td>Permit APPROVED by ADMINISTRATION</td>\n",
       "      <td>2018-12-04 11:46:33+00:00</td>\n",
       "    </tr>\n",
       "    <tr>\n",
       "      <th>1051</th>\n",
       "      <td>travel permit 11371</td>\n",
       "      <td>Request For Payment SUBMITTED by EMPLOYEE</td>\n",
       "      <td>2018-12-04 15:08:17+00:00</td>\n",
       "      <td>2018-12-04 15:08:17+00:00</td>\n",
       "      <td>travel permit 11371</td>\n",
       "      <td>2354.157015302422</td>\n",
       "      <td>False</td>\n",
       "      <td>travel permit number 11372</td>\n",
       "      <td>-2065.009872</td>\n",
       "      <td>2865.099816</td>\n",
       "      <td>...</td>\n",
       "      <td>2018</td>\n",
       "      <td>12</td>\n",
       "      <td>0.0</td>\n",
       "      <td>12105.0</td>\n",
       "      <td>12105.0</td>\n",
       "      <td>12104.0</td>\n",
       "      <td>0.0</td>\n",
       "      <td>travel permit 11371</td>\n",
       "      <td>Request For Payment SUBMITTED by EMPLOYEE</td>\n",
       "      <td>2018-12-04 15:08:17+00:00</td>\n",
       "    </tr>\n",
       "    <tr>\n",
       "      <th>1052</th>\n",
       "      <td>travel permit 11371</td>\n",
       "      <td>Request For Payment APPROVED by ADMINISTRATION</td>\n",
       "      <td>2018-12-04 15:11:54+00:00</td>\n",
       "      <td>2018-12-04 15:11:54+00:00</td>\n",
       "      <td>travel permit 11371</td>\n",
       "      <td>2354.157015302422</td>\n",
       "      <td>False</td>\n",
       "      <td>travel permit number 11372</td>\n",
       "      <td>-2065.009872</td>\n",
       "      <td>2865.099816</td>\n",
       "      <td>...</td>\n",
       "      <td>2018</td>\n",
       "      <td>12</td>\n",
       "      <td>0.0</td>\n",
       "      <td>12322.0</td>\n",
       "      <td>12322.0</td>\n",
       "      <td>217.0</td>\n",
       "      <td>0.0</td>\n",
       "      <td>travel permit 11371</td>\n",
       "      <td>Request For Payment APPROVED by ADMINISTRATION</td>\n",
       "      <td>2018-12-04 15:11:54+00:00</td>\n",
       "    </tr>\n",
       "    <tr>\n",
       "      <th>1053</th>\n",
       "      <td>travel permit 11371</td>\n",
       "      <td>Permit APPROVED by BUDGET OWNER</td>\n",
       "      <td>2018-12-04 15:27:14+00:00</td>\n",
       "      <td>2018-12-04 15:27:14+00:00</td>\n",
       "      <td>travel permit 11371</td>\n",
       "      <td>2354.157015302422</td>\n",
       "      <td>False</td>\n",
       "      <td>travel permit number 11372</td>\n",
       "      <td>-2065.009872</td>\n",
       "      <td>2865.099816</td>\n",
       "      <td>...</td>\n",
       "      <td>2018</td>\n",
       "      <td>12</td>\n",
       "      <td>0.0</td>\n",
       "      <td>13242.0</td>\n",
       "      <td>13242.0</td>\n",
       "      <td>920.0</td>\n",
       "      <td>0.0</td>\n",
       "      <td>travel permit 11371</td>\n",
       "      <td>Permit APPROVED by BUDGET OWNER</td>\n",
       "      <td>2018-12-04 15:27:14+00:00</td>\n",
       "    </tr>\n",
       "  </tbody>\n",
       "</table>\n",
       "<p>5 rows × 32 columns</p>\n",
       "</div>"
      ],
      "text/plain": [
       "                     case                                           event  \\\n",
       "1049  travel permit 11371                    Permit SUBMITTED by EMPLOYEE   \n",
       "1050  travel permit 11371               Permit APPROVED by ADMINISTRATION   \n",
       "1051  travel permit 11371       Request For Payment SUBMITTED by EMPLOYEE   \n",
       "1052  travel permit 11371  Request For Payment APPROVED by ADMINISTRATION   \n",
       "1053  travel permit 11371                 Permit APPROVED by BUDGET OWNER   \n",
       "\n",
       "                     startTime              completeTime                   id  \\\n",
       "1049 2018-12-04 11:46:32+00:00 2018-12-04 11:46:32+00:00  travel permit 11371   \n",
       "1050 2018-12-04 11:46:33+00:00 2018-12-04 11:46:33+00:00  travel permit 11371   \n",
       "1051 2018-12-04 15:08:17+00:00 2018-12-04 15:08:17+00:00  travel permit 11371   \n",
       "1052 2018-12-04 15:11:54+00:00 2018-12-04 15:11:54+00:00  travel permit 11371   \n",
       "1053 2018-12-04 15:27:14+00:00 2018-12-04 15:27:14+00:00  travel permit 11371   \n",
       "\n",
       "      RequestedAmount_0  Overspent        travel permit number  \\\n",
       "1049  2354.157015302422      False  travel permit number 11372   \n",
       "1050  2354.157015302422      False  travel permit number 11372   \n",
       "1051  2354.157015302422      False  travel permit number 11372   \n",
       "1052  2354.157015302422      False  travel permit number 11372   \n",
       "1053  2354.157015302422      False  travel permit number 11372   \n",
       "\n",
       "      OverspentAmount  RequestedBudget  ...  year month  \\\n",
       "1049     -2065.009872      2865.099816  ...  2018    12   \n",
       "1050     -2065.009872      2865.099816  ...  2018    12   \n",
       "1051     -2065.009872      2865.099816  ...  2018    12   \n",
       "1052     -2065.009872      2865.099816  ...  2018    12   \n",
       "1053     -2065.009872      2865.099816  ...  2018    12   \n",
       "\n",
       "      @@approx_bh_partial_cycle_time @@approx_bh_partial_lead_time  \\\n",
       "1049                             0.0                           0.0   \n",
       "1050                             0.0                           1.0   \n",
       "1051                             0.0                       12105.0   \n",
       "1052                             0.0                       12322.0   \n",
       "1053                             0.0                       13242.0   \n",
       "\n",
       "     @@approx_bh_overall_wasted_time @@approx_bh_this_wasted_time  \\\n",
       "1049                             0.0                          0.0   \n",
       "1050                             1.0                          1.0   \n",
       "1051                         12105.0                      12104.0   \n",
       "1052                         12322.0                        217.0   \n",
       "1053                         13242.0                        920.0   \n",
       "\n",
       "     @approx_bh_ratio_cycle_lead_time    case:concept:name  \\\n",
       "1049                              1.0  travel permit 11371   \n",
       "1050                              0.0  travel permit 11371   \n",
       "1051                              0.0  travel permit 11371   \n",
       "1052                              0.0  travel permit 11371   \n",
       "1053                              0.0  travel permit 11371   \n",
       "\n",
       "                                        concept:name            time:timestamp  \n",
       "1049                    Permit SUBMITTED by EMPLOYEE 2018-12-04 11:46:32+00:00  \n",
       "1050               Permit APPROVED by ADMINISTRATION 2018-12-04 11:46:33+00:00  \n",
       "1051       Request For Payment SUBMITTED by EMPLOYEE 2018-12-04 15:08:17+00:00  \n",
       "1052  Request For Payment APPROVED by ADMINISTRATION 2018-12-04 15:11:54+00:00  \n",
       "1053                 Permit APPROVED by BUDGET OWNER 2018-12-04 15:27:14+00:00  \n",
       "\n",
       "[5 rows x 32 columns]"
      ]
     },
     "execution_count": 307,
     "metadata": {},
     "output_type": "execute_result"
    }
   ],
   "source": [
    "test_df.head()"
   ]
  },
  {
   "cell_type": "markdown",
   "metadata": {},
   "source": [
    "### Adding some stastitics features in event log using pm4py"
   ]
  },
  {
   "cell_type": "code",
   "execution_count": 308,
   "metadata": {},
   "outputs": [],
   "source": [
    "# converting dataframe to event log\n",
    "trace_log = pm4py.format_dataframe(permits, case_id='case', activity_key='event', timestamp_key='completeTime', start_timestamp_key='startTime')\n",
    "trace_log = pm4py.convert_to_event_log(trace_log)"
   ]
  },
  {
   "attachments": {},
   "cell_type": "markdown",
   "metadata": {},
   "source": [
    "### Extracting target variable\n",
    "\n",
    "- In our case target variable is REJECTED Declaration, in the process whoever rejects the Declaration (Administrartor, pre-approvar, etc.) it is considered as Declaration REJECTED so using it to identify our target variable\n",
    "\n",
    "- One of our assumption is - If the decleration is not submitted by Employee and the payment is handeled directly, it is also considered as Declaration Accapted (so basically all the Declarations which is not rejected by employee are considerd as Accapted )\n",
    "\n",
    "- we are not dealing with situations where it got rejected twice. For now we are only interested in 1st time rejection\n"
   ]
  },
  {
   "cell_type": "code",
   "execution_count": 309,
   "metadata": {},
   "outputs": [],
   "source": [
    "# to extract target varaible, \n",
    "# if event starts with the name decleration rejected it is considered as rejected\n",
    "declerations = []\n",
    "for trace in trace_log:\n",
    "    flag = False\n",
    "    for i,event in enumerate(trace):\n",
    "        if \"Declaration REJECTED\" in event['event']:\n",
    "            flag = True\n",
    "            break\n",
    "    \n",
    "    if flag:\n",
    "        declerations.append(1)\n",
    "    else:\n",
    "        declerations.append(0)"
   ]
  },
  {
   "cell_type": "code",
   "execution_count": 310,
   "metadata": {},
   "outputs": [
    {
     "data": {
      "text/plain": [
       "233"
      ]
     },
     "execution_count": 310,
     "metadata": {},
     "output_type": "execute_result"
    }
   ],
   "source": [
    "len(declerations)"
   ]
  },
  {
   "cell_type": "code",
   "execution_count": 311,
   "metadata": {},
   "outputs": [],
   "source": [
    "# extract traces only till the decleration is rejected (excluded), otherwise complete trace \n",
    "prefix_traces = []\n",
    "for trace in trace_log:\n",
    "    for i,event in enumerate(trace):\n",
    "        if \"Declaration REJECTED\" in event['event']:\n",
    "            break\n",
    "    prefix_traces.append(Trace(trace[:i], attributes = trace.attributes))\n",
    "prefix_traces = EventLog(prefix_traces)"
   ]
  },
  {
   "cell_type": "code",
   "execution_count": 312,
   "metadata": {},
   "outputs": [],
   "source": [
    "# generate prefixes, note that we need to add the casts to EventLog and Trace to make sure that the result is a PM4Py EventLog object\n",
    "trace_prefixes = EventLog([Trace(trace[0:t_length], attributes = trace.attributes) for trace in prefix_traces])"
   ]
  },
  {
   "cell_type": "code",
   "execution_count": 313,
   "metadata": {},
   "outputs": [
    {
     "name": "stdout",
     "output_type": "stream",
     "text": [
      "[12, 3, 3, 4, 4, 5, 6, 5, 8, 9, 8, 8, 4, 5, 3]\n",
      "[8, 3, 3, 4, 4, 5, 6, 5, 8, 8, 8, 8, 4, 5, 3]\n"
     ]
    }
   ],
   "source": [
    "# check the trace length\n",
    "print([len(trace) for trace in prefix_traces][0:15])\n",
    "print([len(trace) for trace in trace_prefixes][0:15])"
   ]
  },
  {
   "cell_type": "code",
   "execution_count": 314,
   "metadata": {},
   "outputs": [
    {
     "name": "stdout",
     "output_type": "stream",
     "text": [
      "['Permit SUBMITTED by EMPLOYEE', 'Permit APPROVED by ADMINISTRATION', 'Request For Payment SUBMITTED by EMPLOYEE', 'Request For Payment APPROVED by ADMINISTRATION', 'Permit APPROVED by BUDGET OWNER', 'Request For Payment APPROVED by BUDGET OWNER', 'Permit FINAL_APPROVED by SUPERVISOR', 'Request For Payment FINAL_APPROVED by SUPERVISOR']\n"
     ]
    }
   ],
   "source": [
    "# check if all good\n",
    "project_nth(trace_prefixes, 0)"
   ]
  },
  {
   "cell_type": "code",
   "execution_count": 315,
   "metadata": {},
   "outputs": [
    {
     "name": "stdout",
     "output_type": "stream",
     "text": [
      "1 3\n"
     ]
    }
   ],
   "source": [
    "# to check which traces are not of our desired length (these will be padded while preparing the the training data)\n",
    "for i,trace in enumerate(trace_prefixes):\n",
    "    if len(trace)!=t_length:\n",
    "        print(i, len(trace))\n",
    "        break"
   ]
  },
  {
   "cell_type": "code",
   "execution_count": 316,
   "metadata": {},
   "outputs": [
    {
     "data": {
      "text/html": [
       "<div>\n",
       "<style scoped>\n",
       "    .dataframe tbody tr th:only-of-type {\n",
       "        vertical-align: middle;\n",
       "    }\n",
       "\n",
       "    .dataframe tbody tr th {\n",
       "        vertical-align: top;\n",
       "    }\n",
       "\n",
       "    .dataframe thead th {\n",
       "        text-align: right;\n",
       "    }\n",
       "</style>\n",
       "<table border=\"1\" class=\"dataframe\">\n",
       "  <thead>\n",
       "    <tr style=\"text-align: right;\">\n",
       "      <th></th>\n",
       "      <th>case</th>\n",
       "      <th>event</th>\n",
       "      <th>startTime</th>\n",
       "      <th>completeTime</th>\n",
       "      <th>id</th>\n",
       "      <th>RequestedAmount_0</th>\n",
       "      <th>Overspent</th>\n",
       "      <th>travel permit number</th>\n",
       "      <th>OverspentAmount</th>\n",
       "      <th>RequestedBudget</th>\n",
       "      <th>...</th>\n",
       "      <th>year</th>\n",
       "      <th>month</th>\n",
       "      <th>@@approx_bh_partial_cycle_time</th>\n",
       "      <th>@@approx_bh_partial_lead_time</th>\n",
       "      <th>@@approx_bh_overall_wasted_time</th>\n",
       "      <th>@@approx_bh_this_wasted_time</th>\n",
       "      <th>@approx_bh_ratio_cycle_lead_time</th>\n",
       "      <th>concept:name</th>\n",
       "      <th>time:timestamp</th>\n",
       "      <th>case:concept:name</th>\n",
       "    </tr>\n",
       "  </thead>\n",
       "  <tbody>\n",
       "    <tr>\n",
       "      <th>0</th>\n",
       "      <td>travel permit 11371</td>\n",
       "      <td>Permit SUBMITTED by EMPLOYEE</td>\n",
       "      <td>2018-12-04 11:46:32+00:00</td>\n",
       "      <td>2018-12-04 11:46:32+00:00</td>\n",
       "      <td>travel permit 11371</td>\n",
       "      <td>2354.157015302422</td>\n",
       "      <td>False</td>\n",
       "      <td>travel permit number 11372</td>\n",
       "      <td>-2065.009872</td>\n",
       "      <td>2865.099816</td>\n",
       "      <td>...</td>\n",
       "      <td>2018</td>\n",
       "      <td>12</td>\n",
       "      <td>0.0</td>\n",
       "      <td>0.0</td>\n",
       "      <td>0.0</td>\n",
       "      <td>0.0</td>\n",
       "      <td>1.0</td>\n",
       "      <td>Permit SUBMITTED by EMPLOYEE</td>\n",
       "      <td>2018-12-04 11:46:32+00:00</td>\n",
       "      <td>travel permit 11371</td>\n",
       "    </tr>\n",
       "    <tr>\n",
       "      <th>1</th>\n",
       "      <td>travel permit 11371</td>\n",
       "      <td>Permit APPROVED by ADMINISTRATION</td>\n",
       "      <td>2018-12-04 11:46:33+00:00</td>\n",
       "      <td>2018-12-04 11:46:33+00:00</td>\n",
       "      <td>travel permit 11371</td>\n",
       "      <td>2354.157015302422</td>\n",
       "      <td>False</td>\n",
       "      <td>travel permit number 11372</td>\n",
       "      <td>-2065.009872</td>\n",
       "      <td>2865.099816</td>\n",
       "      <td>...</td>\n",
       "      <td>2018</td>\n",
       "      <td>12</td>\n",
       "      <td>0.0</td>\n",
       "      <td>1.0</td>\n",
       "      <td>1.0</td>\n",
       "      <td>1.0</td>\n",
       "      <td>0.0</td>\n",
       "      <td>Permit APPROVED by ADMINISTRATION</td>\n",
       "      <td>2018-12-04 11:46:33+00:00</td>\n",
       "      <td>travel permit 11371</td>\n",
       "    </tr>\n",
       "    <tr>\n",
       "      <th>2</th>\n",
       "      <td>travel permit 11371</td>\n",
       "      <td>Request For Payment SUBMITTED by EMPLOYEE</td>\n",
       "      <td>2018-12-04 15:08:17+00:00</td>\n",
       "      <td>2018-12-04 15:08:17+00:00</td>\n",
       "      <td>travel permit 11371</td>\n",
       "      <td>2354.157015302422</td>\n",
       "      <td>False</td>\n",
       "      <td>travel permit number 11372</td>\n",
       "      <td>-2065.009872</td>\n",
       "      <td>2865.099816</td>\n",
       "      <td>...</td>\n",
       "      <td>2018</td>\n",
       "      <td>12</td>\n",
       "      <td>0.0</td>\n",
       "      <td>12105.0</td>\n",
       "      <td>12105.0</td>\n",
       "      <td>12104.0</td>\n",
       "      <td>0.0</td>\n",
       "      <td>Request For Payment SUBMITTED by EMPLOYEE</td>\n",
       "      <td>2018-12-04 15:08:17+00:00</td>\n",
       "      <td>travel permit 11371</td>\n",
       "    </tr>\n",
       "    <tr>\n",
       "      <th>3</th>\n",
       "      <td>travel permit 11371</td>\n",
       "      <td>Request For Payment APPROVED by ADMINISTRATION</td>\n",
       "      <td>2018-12-04 15:11:54+00:00</td>\n",
       "      <td>2018-12-04 15:11:54+00:00</td>\n",
       "      <td>travel permit 11371</td>\n",
       "      <td>2354.157015302422</td>\n",
       "      <td>False</td>\n",
       "      <td>travel permit number 11372</td>\n",
       "      <td>-2065.009872</td>\n",
       "      <td>2865.099816</td>\n",
       "      <td>...</td>\n",
       "      <td>2018</td>\n",
       "      <td>12</td>\n",
       "      <td>0.0</td>\n",
       "      <td>12322.0</td>\n",
       "      <td>12322.0</td>\n",
       "      <td>217.0</td>\n",
       "      <td>0.0</td>\n",
       "      <td>Request For Payment APPROVED by ADMINISTRATION</td>\n",
       "      <td>2018-12-04 15:11:54+00:00</td>\n",
       "      <td>travel permit 11371</td>\n",
       "    </tr>\n",
       "    <tr>\n",
       "      <th>4</th>\n",
       "      <td>travel permit 11371</td>\n",
       "      <td>Permit APPROVED by BUDGET OWNER</td>\n",
       "      <td>2018-12-04 15:27:14+00:00</td>\n",
       "      <td>2018-12-04 15:27:14+00:00</td>\n",
       "      <td>travel permit 11371</td>\n",
       "      <td>2354.157015302422</td>\n",
       "      <td>False</td>\n",
       "      <td>travel permit number 11372</td>\n",
       "      <td>-2065.009872</td>\n",
       "      <td>2865.099816</td>\n",
       "      <td>...</td>\n",
       "      <td>2018</td>\n",
       "      <td>12</td>\n",
       "      <td>0.0</td>\n",
       "      <td>13242.0</td>\n",
       "      <td>13242.0</td>\n",
       "      <td>920.0</td>\n",
       "      <td>0.0</td>\n",
       "      <td>Permit APPROVED by BUDGET OWNER</td>\n",
       "      <td>2018-12-04 15:27:14+00:00</td>\n",
       "      <td>travel permit 11371</td>\n",
       "    </tr>\n",
       "  </tbody>\n",
       "</table>\n",
       "<p>5 rows × 32 columns</p>\n",
       "</div>"
      ],
      "text/plain": [
       "                  case                                           event  \\\n",
       "0  travel permit 11371                    Permit SUBMITTED by EMPLOYEE   \n",
       "1  travel permit 11371               Permit APPROVED by ADMINISTRATION   \n",
       "2  travel permit 11371       Request For Payment SUBMITTED by EMPLOYEE   \n",
       "3  travel permit 11371  Request For Payment APPROVED by ADMINISTRATION   \n",
       "4  travel permit 11371                 Permit APPROVED by BUDGET OWNER   \n",
       "\n",
       "                  startTime              completeTime                   id  \\\n",
       "0 2018-12-04 11:46:32+00:00 2018-12-04 11:46:32+00:00  travel permit 11371   \n",
       "1 2018-12-04 11:46:33+00:00 2018-12-04 11:46:33+00:00  travel permit 11371   \n",
       "2 2018-12-04 15:08:17+00:00 2018-12-04 15:08:17+00:00  travel permit 11371   \n",
       "3 2018-12-04 15:11:54+00:00 2018-12-04 15:11:54+00:00  travel permit 11371   \n",
       "4 2018-12-04 15:27:14+00:00 2018-12-04 15:27:14+00:00  travel permit 11371   \n",
       "\n",
       "   RequestedAmount_0  Overspent        travel permit number  OverspentAmount  \\\n",
       "0  2354.157015302422      False  travel permit number 11372     -2065.009872   \n",
       "1  2354.157015302422      False  travel permit number 11372     -2065.009872   \n",
       "2  2354.157015302422      False  travel permit number 11372     -2065.009872   \n",
       "3  2354.157015302422      False  travel permit number 11372     -2065.009872   \n",
       "4  2354.157015302422      False  travel permit number 11372     -2065.009872   \n",
       "\n",
       "   RequestedBudget  ...  year month  @@approx_bh_partial_cycle_time  \\\n",
       "0      2865.099816  ...  2018    12                             0.0   \n",
       "1      2865.099816  ...  2018    12                             0.0   \n",
       "2      2865.099816  ...  2018    12                             0.0   \n",
       "3      2865.099816  ...  2018    12                             0.0   \n",
       "4      2865.099816  ...  2018    12                             0.0   \n",
       "\n",
       "  @@approx_bh_partial_lead_time @@approx_bh_overall_wasted_time  \\\n",
       "0                           0.0                             0.0   \n",
       "1                           1.0                             1.0   \n",
       "2                       12105.0                         12105.0   \n",
       "3                       12322.0                         12322.0   \n",
       "4                       13242.0                         13242.0   \n",
       "\n",
       "  @@approx_bh_this_wasted_time @approx_bh_ratio_cycle_lead_time  \\\n",
       "0                          0.0                              1.0   \n",
       "1                          1.0                              0.0   \n",
       "2                      12104.0                              0.0   \n",
       "3                        217.0                              0.0   \n",
       "4                        920.0                              0.0   \n",
       "\n",
       "                                     concept:name            time:timestamp  \\\n",
       "0                    Permit SUBMITTED by EMPLOYEE 2018-12-04 11:46:32+00:00   \n",
       "1               Permit APPROVED by ADMINISTRATION 2018-12-04 11:46:33+00:00   \n",
       "2       Request For Payment SUBMITTED by EMPLOYEE 2018-12-04 15:08:17+00:00   \n",
       "3  Request For Payment APPROVED by ADMINISTRATION 2018-12-04 15:11:54+00:00   \n",
       "4                 Permit APPROVED by BUDGET OWNER 2018-12-04 15:27:14+00:00   \n",
       "\n",
       "     case:concept:name  \n",
       "0  travel permit 11371  \n",
       "1  travel permit 11371  \n",
       "2  travel permit 11371  \n",
       "3  travel permit 11371  \n",
       "4  travel permit 11371  \n",
       "\n",
       "[5 rows x 32 columns]"
      ]
     },
     "execution_count": 316,
     "metadata": {},
     "output_type": "execute_result"
    }
   ],
   "source": [
    "# convert logs to dataframe\n",
    "# final base dataframe\n",
    "df = pm4py.convert_to_dataframe(trace_prefixes)\n",
    "df.head(5)"
   ]
  },
  {
   "cell_type": "markdown",
   "metadata": {},
   "source": [
    "## Feature Selection ( Based on Data Exploration )"
   ]
  },
  {
   "cell_type": "code",
   "execution_count": 317,
   "metadata": {},
   "outputs": [],
   "source": [
    "# passed features we want to extract\n",
    "\n",
    "# str_ev_attr\tString attributes at the event level: these are hot-encoded into features that may assume value 0 or value 1.\n",
    "# str_tr_attr\tString attributes at the trace level: these are hot-encoded into features that may assume value 0 or value 1.\n",
    "# num_ev_attr\tNumeric attributes at the event level: these are encoded by including the last value of the attribute among the events of the trace.\n",
    "# num_tr_attr\tNumeric attributes at trace level: these are encoded by including the numerical value.\n",
    "# str_evsucc_attr\tSuccessions related to the string attributes values at the event level: for example, if we have a trace [A,B,C], it might be important to include not only the presence of the single values A, B and C as features; but also the presence of the directly-follows couples (A,B) and (B,C).\n",
    "# ================================================\n",
    "\n",
    "str_ev_attr = ['concept:name']\n",
    "str_tr_attr = ['OrganizationalEntity','month']\n",
    "num_ev_attr = ['@@approx_bh_partial_lead_time','@@approx_bh_this_wasted_time']\n",
    "num_tr_attr = []"
   ]
  },
  {
   "cell_type": "markdown",
   "metadata": {},
   "source": [
    "## Boolean encoding\n",
    "\n",
    "- can be easily extended with adding more attributes of traces other then activities, but for now kept it simple and as discussed in course"
   ]
  },
  {
   "cell_type": "code",
   "execution_count": 318,
   "metadata": {},
   "outputs": [],
   "source": [
    "encode_name = 'boolean_encode_'\n",
    "save_path = save_path_base + encode_name + 'train' +'_trace_len_'+str(t_length)+ '.pickle'\n",
    "loaded_data = load_data(save_path)\n",
    "ohe_dict = loaded_data['feature_names']"
   ]
  },
  {
   "cell_type": "code",
   "execution_count": 319,
   "metadata": {},
   "outputs": [],
   "source": [
    "# here for each trace we extract ohe vector for activity and sum them up and if count is greater then 1 we make them 1 \n",
    "# because this encoding only provides info, if the activity was there or not\n",
    "\n",
    "data = []\n",
    "\n",
    "for id, group in df.groupby(['case:concept:name']):\n",
    "    feature_vec = []\n",
    "\n",
    "    # add categorical and numerical event attributes\n",
    "    for cat_atr in str_ev_attr[:1]:\n",
    "        attr_length = len(list(ohe_dict[cat_atr].values())[0])\n",
    "        str_ev_vec = np.array([0]*attr_length)\n",
    "\n",
    "        for ca in group[cat_atr]:\n",
    "            str_ev_vec  = str_ev_vec + np.array(ohe_dict[cat_atr][ca])\n",
    "\n",
    "        # make it a non frequency vector (if count is greater then 1 make it 1)\n",
    "        for i,num in enumerate(str_ev_vec):\n",
    "            if num>1:\n",
    "                str_ev_vec[i]=1\n",
    "\n",
    "        feature_vec.extend(list(str_ev_vec))\n",
    "\n",
    "    data.append(feature_vec)\n",
    "\n",
    "    # data.append(feature_vec)"
   ]
  },
  {
   "cell_type": "code",
   "execution_count": 320,
   "metadata": {},
   "outputs": [],
   "source": [
    "encode_name = 'boolean_encode_'\n",
    "save_path = save_path_base + encode_name + df_type +'_trace_len_'+str(t_length)+ '.pickle'\n",
    "save_data(data, declerations, ohe_dict ,save_path)"
   ]
  },
  {
   "cell_type": "markdown",
   "metadata": {},
   "source": [
    "## Frequency encoding"
   ]
  },
  {
   "cell_type": "code",
   "execution_count": 321,
   "metadata": {},
   "outputs": [],
   "source": [
    "encode_name = 'frequency_encode_'\n",
    "save_path = save_path_base + encode_name + 'train' +'_trace_len_'+str(t_length)+ '.pickle'\n",
    "loaded_data = load_data(save_path)\n",
    "ohe_dict = loaded_data['feature_names']"
   ]
  },
  {
   "cell_type": "code",
   "execution_count": 322,
   "metadata": {},
   "outputs": [],
   "source": [
    "# here for each trace we extract ohe vector for activity and sum them up \n",
    "# because this encoding only provides count of how many times the activity appears\n",
    "\n",
    "data = []\n",
    "\n",
    "for id, group in df.groupby(['case:concept:name']):\n",
    "    feature_vec = []\n",
    "\n",
    "    # add categorical and numerical event attributes\n",
    "    for cat_atr in str_ev_attr[:1]:\n",
    "        attr_length = len(list(ohe_dict[cat_atr].values())[0])\n",
    "        str_ev_vec = np.array([0]*attr_length)\n",
    "\n",
    "        for ca in group[cat_atr]:\n",
    "            str_ev_vec  = str_ev_vec + np.array(ohe_dict[cat_atr][ca])\n",
    "\n",
    "        feature_vec.extend(list(str_ev_vec))\n",
    "\n",
    "    data.append(feature_vec)\n",
    "\n",
    "    # data.append(feature_vec)"
   ]
  },
  {
   "cell_type": "code",
   "execution_count": 323,
   "metadata": {},
   "outputs": [],
   "source": [
    "# save results\n",
    "encode_name = 'frequency_encode_'\n",
    "save_path = save_path_base + encode_name + df_type +'_trace_len_'+str(t_length)+ '.pickle'\n",
    "save_data(data, declerations, ohe_dict ,save_path)"
   ]
  },
  {
   "cell_type": "markdown",
   "metadata": {},
   "source": [
    "## Complex index based encoding - static feature (trace attributes) + n events encoding + event features"
   ]
  },
  {
   "cell_type": "code",
   "execution_count": 324,
   "metadata": {},
   "outputs": [],
   "source": [
    "encode_name = 'complex_index_encode_'\n",
    "save_path = save_path_base + encode_name + 'train' +'_trace_len_'+str(t_length)+ '.pickle'\n",
    "loaded_data = load_data(save_path)\n",
    "ohe_dict = loaded_data['feature_names']"
   ]
  },
  {
   "cell_type": "code",
   "execution_count": 325,
   "metadata": {},
   "outputs": [],
   "source": [
    "# here for each trace we put events encoded in order and there aatributes along with padding to make vector length same\n",
    "# similatly for trace attributes but since it is trace attributes that is only for once\n",
    "\n",
    "data = []\n",
    "\n",
    "for id, group in df.groupby(['case:concept:name']):\n",
    "    feature_vec = []\n",
    "\n",
    "    # add categorical and numerical event attributes along with paddings \n",
    "\n",
    "    for cat_atr in str_ev_attr:\n",
    "        str_ev_vec = []\n",
    "        attr_length = len(list(ohe_dict[cat_atr].values())[0])\n",
    "        for ca in group[cat_atr]:\n",
    "            str_ev_vec.extend(ohe_dict[cat_atr][ca])\n",
    "        \n",
    "        # padding\n",
    "        str_ev_vec = cat_padding(str_ev_vec, t_length, attr_length)\n",
    "        feature_vec.extend(str_ev_vec)\n",
    "\n",
    "\n",
    "    for num_atr in num_ev_attr:\n",
    "        num_ev_vec = []\n",
    "        num_ev_vec.extend(list(group[num_atr]))\n",
    "\n",
    "        # padding\n",
    "        num_ev_vec = num_padding(num_ev_vec, t_length)\n",
    "        feature_vec.extend(num_ev_vec)\n",
    "\n",
    "\n",
    "\n",
    "    # add categorical and numerical trace attributes\n",
    "    for num_t_atr in num_tr_attr:\n",
    "        feature_vec.extend(group[num_t_atr].iloc[0])\n",
    "\n",
    "\n",
    "    for cat_t_atr in str_tr_attr:\n",
    "        feature_vec.extend(ohe_dict[cat_t_atr][group[cat_t_atr].iloc[0]])\n",
    "\n",
    "    # add vector to data\n",
    "    data.append(feature_vec)\n"
   ]
  },
  {
   "cell_type": "code",
   "execution_count": 326,
   "metadata": {},
   "outputs": [],
   "source": [
    "# check if all vector lengths are same \n",
    "vec_len = len(data[0])\n",
    "\n",
    "for i, d in enumerate(data):\n",
    "    if len(d)!=vec_len:\n",
    "        print(i, len(d))"
   ]
  },
  {
   "cell_type": "code",
   "execution_count": 327,
   "metadata": {},
   "outputs": [],
   "source": [
    "# save results\n",
    "encode_name = 'complex_index_encode_'\n",
    "save_path = save_path_base + encode_name + df_type +'_trace_len_'+str(t_length)+ '.pickle'\n",
    "save_data(data, declerations, ohe_dict ,save_path)"
   ]
  },
  {
   "cell_type": "markdown",
   "metadata": {},
   "source": [
    "## LSTM encoding"
   ]
  },
  {
   "cell_type": "code",
   "execution_count": 328,
   "metadata": {},
   "outputs": [],
   "source": [
    "encode_name = 'lstm_encode_'\n",
    "save_path = save_path_base + encode_name + 'train' +'_trace_len_'+str(t_length)+ '.pickle'\n",
    "loaded_data = load_data(save_path)\n",
    "ohe_dict = loaded_data['feature_names']"
   ]
  },
  {
   "cell_type": "code",
   "execution_count": 329,
   "metadata": {},
   "outputs": [],
   "source": [
    "# here we create sequence of each trace\n",
    "# so the dimentions will be (number of examples * trace_length * feature_length )\n",
    "\n",
    "data = []\n",
    "\n",
    "for id, group in df.groupby(['case:concept:name']):\n",
    "    \n",
    "    feature_vec = []\n",
    "\n",
    "    for index, row in group.iterrows():\n",
    "\n",
    "        row_vec = []\n",
    "\n",
    "        for cat_atr in str_ev_attr:\n",
    "            row_vec.extend(ohe_dict[cat_atr][row[cat_atr]])\n",
    "\n",
    "        for num_atr in num_ev_attr:\n",
    "            row_vec.append(row[num_atr])\n",
    "\n",
    "\n",
    "        # add categorical and numerical trace attributes\n",
    "        for num_t_atr in num_tr_attr:\n",
    "            row_vec.append(group[num_t_atr].iloc[0])\n",
    "\n",
    "        for cat_t_atr in str_tr_attr:\n",
    "            row_vec.extend(ohe_dict[cat_t_atr][group[cat_t_atr].iloc[0]])\n",
    "\n",
    "        feature_vec.append(row_vec)\n",
    "    \n",
    "\n",
    "    # add vector to data\n",
    "    data.append(feature_vec)\n"
   ]
  },
  {
   "cell_type": "code",
   "execution_count": 330,
   "metadata": {},
   "outputs": [],
   "source": [
    "# converting to array\n",
    "data = np.array([np.array(ls) for ls in data])"
   ]
  },
  {
   "cell_type": "code",
   "execution_count": 331,
   "metadata": {},
   "outputs": [
    {
     "data": {
      "text/plain": [
       "(8, 91)"
      ]
     },
     "execution_count": 331,
     "metadata": {},
     "output_type": "execute_result"
    }
   ],
   "source": [
    "feature_len = len(data[0][0])\n",
    "desired_shape = (t_length,feature_len)\n",
    "desired_shape"
   ]
  },
  {
   "cell_type": "code",
   "execution_count": 332,
   "metadata": {},
   "outputs": [
    {
     "data": {
      "text/plain": [
       "(233, 8, 91)"
      ]
     },
     "execution_count": 332,
     "metadata": {},
     "output_type": "execute_result"
    }
   ],
   "source": [
    "# padding data to make equal shape of vectors\n",
    "padded_data = []\n",
    "for case in data:\n",
    "    pd_case = np.zeros(desired_shape)\n",
    "    pd_case[:case.shape[0],:case.shape[1]] = case\n",
    "    padded_data.append(pd_case)\n",
    "\n",
    "padded_data = np.array(padded_data)\n",
    "padded_data.shape"
   ]
  },
  {
   "cell_type": "code",
   "execution_count": 333,
   "metadata": {},
   "outputs": [],
   "source": [
    "# save results\n",
    "encode_name = 'lstm_encode_'\n",
    "save_path = save_path_base + encode_name + df_type +'_trace_len_'+str(t_length)+ '.pickle'\n",
    "save_data(data, declerations, ohe_dict ,save_path)"
   ]
  },
  {
   "cell_type": "code",
   "execution_count": null,
   "metadata": {},
   "outputs": [],
   "source": []
  },
  {
   "cell_type": "code",
   "execution_count": null,
   "metadata": {},
   "outputs": [],
   "source": []
  },
  {
   "attachments": {},
   "cell_type": "markdown",
   "metadata": {},
   "source": [
    "# =============================================\n",
    "# Preparing Val Data"
   ]
  },
  {
   "cell_type": "code",
   "execution_count": 334,
   "metadata": {},
   "outputs": [],
   "source": [
    "df_type = 'val'\n",
    "permits = val_df"
   ]
  },
  {
   "cell_type": "code",
   "execution_count": 335,
   "metadata": {},
   "outputs": [
    {
     "data": {
      "text/html": [
       "<div>\n",
       "<style scoped>\n",
       "    .dataframe tbody tr th:only-of-type {\n",
       "        vertical-align: middle;\n",
       "    }\n",
       "\n",
       "    .dataframe tbody tr th {\n",
       "        vertical-align: top;\n",
       "    }\n",
       "\n",
       "    .dataframe thead th {\n",
       "        text-align: right;\n",
       "    }\n",
       "</style>\n",
       "<table border=\"1\" class=\"dataframe\">\n",
       "  <thead>\n",
       "    <tr style=\"text-align: right;\">\n",
       "      <th></th>\n",
       "      <th>case</th>\n",
       "      <th>event</th>\n",
       "      <th>startTime</th>\n",
       "      <th>completeTime</th>\n",
       "      <th>id</th>\n",
       "      <th>RequestedAmount_0</th>\n",
       "      <th>Overspent</th>\n",
       "      <th>travel permit number</th>\n",
       "      <th>OverspentAmount</th>\n",
       "      <th>RequestedBudget</th>\n",
       "      <th>...</th>\n",
       "      <th>year</th>\n",
       "      <th>month</th>\n",
       "      <th>@@approx_bh_partial_cycle_time</th>\n",
       "      <th>@@approx_bh_partial_lead_time</th>\n",
       "      <th>@@approx_bh_overall_wasted_time</th>\n",
       "      <th>@@approx_bh_this_wasted_time</th>\n",
       "      <th>@approx_bh_ratio_cycle_lead_time</th>\n",
       "      <th>case:concept:name</th>\n",
       "      <th>concept:name</th>\n",
       "      <th>time:timestamp</th>\n",
       "    </tr>\n",
       "  </thead>\n",
       "  <tbody>\n",
       "    <tr>\n",
       "      <th>922</th>\n",
       "      <td>travel permit 11220</td>\n",
       "      <td>Permit SUBMITTED by EMPLOYEE</td>\n",
       "      <td>2018-10-04 14:04:31+00:00</td>\n",
       "      <td>2018-10-04 14:04:31+00:00</td>\n",
       "      <td>travel permit 11220</td>\n",
       "      <td>185</td>\n",
       "      <td>False</td>\n",
       "      <td>travel permit number 11221</td>\n",
       "      <td>-93.099472</td>\n",
       "      <td>334.595674</td>\n",
       "      <td>...</td>\n",
       "      <td>2018</td>\n",
       "      <td>10</td>\n",
       "      <td>0.0</td>\n",
       "      <td>0.0</td>\n",
       "      <td>0.0</td>\n",
       "      <td>0.0</td>\n",
       "      <td>1.0</td>\n",
       "      <td>travel permit 11220</td>\n",
       "      <td>Permit SUBMITTED by EMPLOYEE</td>\n",
       "      <td>2018-10-04 14:04:31+00:00</td>\n",
       "    </tr>\n",
       "    <tr>\n",
       "      <th>923</th>\n",
       "      <td>travel permit 11220</td>\n",
       "      <td>Permit APPROVED by ADMINISTRATION</td>\n",
       "      <td>2018-10-04 14:04:38+00:00</td>\n",
       "      <td>2018-10-04 14:04:38+00:00</td>\n",
       "      <td>travel permit 11220</td>\n",
       "      <td>185</td>\n",
       "      <td>False</td>\n",
       "      <td>travel permit number 11221</td>\n",
       "      <td>-93.099472</td>\n",
       "      <td>334.595674</td>\n",
       "      <td>...</td>\n",
       "      <td>2018</td>\n",
       "      <td>10</td>\n",
       "      <td>0.0</td>\n",
       "      <td>7.0</td>\n",
       "      <td>7.0</td>\n",
       "      <td>7.0</td>\n",
       "      <td>0.0</td>\n",
       "      <td>travel permit 11220</td>\n",
       "      <td>Permit APPROVED by ADMINISTRATION</td>\n",
       "      <td>2018-10-04 14:04:38+00:00</td>\n",
       "    </tr>\n",
       "    <tr>\n",
       "      <th>924</th>\n",
       "      <td>travel permit 11220</td>\n",
       "      <td>Permit FINAL_APPROVED by SUPERVISOR</td>\n",
       "      <td>2018-10-05 08:38:27+00:00</td>\n",
       "      <td>2018-10-05 08:38:27+00:00</td>\n",
       "      <td>travel permit 11220</td>\n",
       "      <td>185</td>\n",
       "      <td>False</td>\n",
       "      <td>travel permit number 11221</td>\n",
       "      <td>-93.099472</td>\n",
       "      <td>334.595674</td>\n",
       "      <td>...</td>\n",
       "      <td>2018</td>\n",
       "      <td>10</td>\n",
       "      <td>0.0</td>\n",
       "      <td>16436.0</td>\n",
       "      <td>16436.0</td>\n",
       "      <td>16429.0</td>\n",
       "      <td>0.0</td>\n",
       "      <td>travel permit 11220</td>\n",
       "      <td>Permit FINAL_APPROVED by SUPERVISOR</td>\n",
       "      <td>2018-10-05 08:38:27+00:00</td>\n",
       "    </tr>\n",
       "    <tr>\n",
       "      <th>925</th>\n",
       "      <td>travel permit 11220</td>\n",
       "      <td>Start trip</td>\n",
       "      <td>2018-10-10 00:00:00+00:00</td>\n",
       "      <td>2018-10-10 00:00:00+00:00</td>\n",
       "      <td>travel permit 11220</td>\n",
       "      <td>185</td>\n",
       "      <td>False</td>\n",
       "      <td>travel permit number 11221</td>\n",
       "      <td>-93.099472</td>\n",
       "      <td>334.595674</td>\n",
       "      <td>...</td>\n",
       "      <td>2018</td>\n",
       "      <td>10</td>\n",
       "      <td>0.0</td>\n",
       "      <td>118529.0</td>\n",
       "      <td>118529.0</td>\n",
       "      <td>102093.0</td>\n",
       "      <td>0.0</td>\n",
       "      <td>travel permit 11220</td>\n",
       "      <td>Start trip</td>\n",
       "      <td>2018-10-10 00:00:00+00:00</td>\n",
       "    </tr>\n",
       "    <tr>\n",
       "      <th>926</th>\n",
       "      <td>travel permit 11220</td>\n",
       "      <td>End trip</td>\n",
       "      <td>2018-10-11 00:00:00+00:00</td>\n",
       "      <td>2018-10-11 00:00:00+00:00</td>\n",
       "      <td>travel permit 11220</td>\n",
       "      <td>185</td>\n",
       "      <td>False</td>\n",
       "      <td>travel permit number 11221</td>\n",
       "      <td>-93.099472</td>\n",
       "      <td>334.595674</td>\n",
       "      <td>...</td>\n",
       "      <td>2018</td>\n",
       "      <td>10</td>\n",
       "      <td>0.0</td>\n",
       "      <td>154529.0</td>\n",
       "      <td>154529.0</td>\n",
       "      <td>36000.0</td>\n",
       "      <td>0.0</td>\n",
       "      <td>travel permit 11220</td>\n",
       "      <td>End trip</td>\n",
       "      <td>2018-10-11 00:00:00+00:00</td>\n",
       "    </tr>\n",
       "  </tbody>\n",
       "</table>\n",
       "<p>5 rows × 32 columns</p>\n",
       "</div>"
      ],
      "text/plain": [
       "                    case                                event  \\\n",
       "922  travel permit 11220         Permit SUBMITTED by EMPLOYEE   \n",
       "923  travel permit 11220    Permit APPROVED by ADMINISTRATION   \n",
       "924  travel permit 11220  Permit FINAL_APPROVED by SUPERVISOR   \n",
       "925  travel permit 11220                           Start trip   \n",
       "926  travel permit 11220                             End trip   \n",
       "\n",
       "                    startTime              completeTime                   id  \\\n",
       "922 2018-10-04 14:04:31+00:00 2018-10-04 14:04:31+00:00  travel permit 11220   \n",
       "923 2018-10-04 14:04:38+00:00 2018-10-04 14:04:38+00:00  travel permit 11220   \n",
       "924 2018-10-05 08:38:27+00:00 2018-10-05 08:38:27+00:00  travel permit 11220   \n",
       "925 2018-10-10 00:00:00+00:00 2018-10-10 00:00:00+00:00  travel permit 11220   \n",
       "926 2018-10-11 00:00:00+00:00 2018-10-11 00:00:00+00:00  travel permit 11220   \n",
       "\n",
       "    RequestedAmount_0  Overspent        travel permit number  OverspentAmount  \\\n",
       "922               185      False  travel permit number 11221       -93.099472   \n",
       "923               185      False  travel permit number 11221       -93.099472   \n",
       "924               185      False  travel permit number 11221       -93.099472   \n",
       "925               185      False  travel permit number 11221       -93.099472   \n",
       "926               185      False  travel permit number 11221       -93.099472   \n",
       "\n",
       "     RequestedBudget  ...  year month  @@approx_bh_partial_cycle_time  \\\n",
       "922       334.595674  ...  2018    10                             0.0   \n",
       "923       334.595674  ...  2018    10                             0.0   \n",
       "924       334.595674  ...  2018    10                             0.0   \n",
       "925       334.595674  ...  2018    10                             0.0   \n",
       "926       334.595674  ...  2018    10                             0.0   \n",
       "\n",
       "    @@approx_bh_partial_lead_time @@approx_bh_overall_wasted_time  \\\n",
       "922                           0.0                             0.0   \n",
       "923                           7.0                             7.0   \n",
       "924                       16436.0                         16436.0   \n",
       "925                      118529.0                        118529.0   \n",
       "926                      154529.0                        154529.0   \n",
       "\n",
       "    @@approx_bh_this_wasted_time @approx_bh_ratio_cycle_lead_time  \\\n",
       "922                          0.0                              1.0   \n",
       "923                          7.0                              0.0   \n",
       "924                      16429.0                              0.0   \n",
       "925                     102093.0                              0.0   \n",
       "926                      36000.0                              0.0   \n",
       "\n",
       "       case:concept:name                         concept:name  \\\n",
       "922  travel permit 11220         Permit SUBMITTED by EMPLOYEE   \n",
       "923  travel permit 11220    Permit APPROVED by ADMINISTRATION   \n",
       "924  travel permit 11220  Permit FINAL_APPROVED by SUPERVISOR   \n",
       "925  travel permit 11220                           Start trip   \n",
       "926  travel permit 11220                             End trip   \n",
       "\n",
       "               time:timestamp  \n",
       "922 2018-10-04 14:04:31+00:00  \n",
       "923 2018-10-04 14:04:38+00:00  \n",
       "924 2018-10-05 08:38:27+00:00  \n",
       "925 2018-10-10 00:00:00+00:00  \n",
       "926 2018-10-11 00:00:00+00:00  \n",
       "\n",
       "[5 rows x 32 columns]"
      ]
     },
     "execution_count": 335,
     "metadata": {},
     "output_type": "execute_result"
    }
   ],
   "source": [
    "val_df.head()"
   ]
  },
  {
   "cell_type": "markdown",
   "metadata": {},
   "source": [
    "### Adding some stastitics features in event log using pm4py"
   ]
  },
  {
   "cell_type": "code",
   "execution_count": 336,
   "metadata": {},
   "outputs": [],
   "source": [
    "# converting dataframe to event log\n",
    "trace_log = pm4py.format_dataframe(permits, case_id='case', activity_key='event', timestamp_key='completeTime', start_timestamp_key='startTime')\n",
    "trace_log = pm4py.convert_to_event_log(trace_log)"
   ]
  },
  {
   "attachments": {},
   "cell_type": "markdown",
   "metadata": {},
   "source": [
    "### Extracting target variable\n",
    "\n",
    "- In our case target variable is REJECTED Declaration, in the process whoever rejects the Declaration (Administrartor, pre-approvar, etc.) it is considered as Declaration REJECTED so using it to identify our target variable\n",
    "\n",
    "- One of our assumption is - If the decleration is not submitted by Employee and the payment is handeled directly, it is also considered as Declaration Accapted (so basically all the Declarations which is not rejected by employee are considerd as Accapted )\n",
    "\n",
    "- we are not dealing with situations where it got rejected twice. For now we are only interested in 1st time rejection\n"
   ]
  },
  {
   "cell_type": "code",
   "execution_count": 337,
   "metadata": {},
   "outputs": [],
   "source": [
    "# to extract target varaible, \n",
    "# if event starts with the name decleration rejected it is considered as rejected\n",
    "declerations = []\n",
    "for trace in trace_log:\n",
    "    flag = False\n",
    "    for i,event in enumerate(trace):\n",
    "        if \"Declaration REJECTED\" in event['event']:\n",
    "            flag = True\n",
    "            break\n",
    "    \n",
    "    if flag:\n",
    "        declerations.append(1)\n",
    "    else:\n",
    "        declerations.append(0)"
   ]
  },
  {
   "cell_type": "code",
   "execution_count": 338,
   "metadata": {},
   "outputs": [
    {
     "data": {
      "text/plain": [
       "208"
      ]
     },
     "execution_count": 338,
     "metadata": {},
     "output_type": "execute_result"
    }
   ],
   "source": [
    "len(declerations)"
   ]
  },
  {
   "cell_type": "code",
   "execution_count": 339,
   "metadata": {},
   "outputs": [],
   "source": [
    "# extract traces only till the decleration is rejected (excluded), otherwise complete trace \n",
    "prefix_traces = []\n",
    "for trace in trace_log:\n",
    "    for i,event in enumerate(trace):\n",
    "        if \"Declaration REJECTED\" in event['event']:\n",
    "            break\n",
    "    prefix_traces.append(Trace(trace[:i], attributes = trace.attributes))\n",
    "prefix_traces = EventLog(prefix_traces)"
   ]
  },
  {
   "cell_type": "code",
   "execution_count": 340,
   "metadata": {},
   "outputs": [],
   "source": [
    "# generate prefixes, note that we need to add the casts to EventLog and Trace to make sure that the result is a PM4Py EventLog object\n",
    "trace_prefixes = EventLog([Trace(trace[0:t_length], attributes = trace.attributes) for trace in prefix_traces])"
   ]
  },
  {
   "cell_type": "code",
   "execution_count": 341,
   "metadata": {},
   "outputs": [
    {
     "name": "stdout",
     "output_type": "stream",
     "text": [
      "[8, 10, 8, 3, 4, 4, 3, 9, 14, 8, 13, 3, 6, 8, 4]\n",
      "[8, 8, 8, 3, 4, 4, 3, 8, 8, 8, 8, 3, 6, 8, 4]\n"
     ]
    }
   ],
   "source": [
    "# check the trace length\n",
    "print([len(trace) for trace in prefix_traces][0:15])\n",
    "print([len(trace) for trace in trace_prefixes][0:15])"
   ]
  },
  {
   "cell_type": "code",
   "execution_count": 342,
   "metadata": {},
   "outputs": [
    {
     "name": "stdout",
     "output_type": "stream",
     "text": [
      "['Permit SUBMITTED by EMPLOYEE', 'Permit APPROVED by ADMINISTRATION', 'Permit FINAL_APPROVED by SUPERVISOR', 'Start trip', 'End trip', 'Declaration SUBMITTED by EMPLOYEE', 'Declaration APPROVED by ADMINISTRATION', 'Declaration FINAL_APPROVED by SUPERVISOR']\n"
     ]
    }
   ],
   "source": [
    "# check if all good\n",
    "project_nth(trace_prefixes, 0)"
   ]
  },
  {
   "cell_type": "code",
   "execution_count": 343,
   "metadata": {},
   "outputs": [
    {
     "name": "stdout",
     "output_type": "stream",
     "text": [
      "3 3\n"
     ]
    }
   ],
   "source": [
    "# to check which traces are not of our desired length (these will be padded while preparing the the training data)\n",
    "for i,trace in enumerate(trace_prefixes):\n",
    "    if len(trace)!=t_length:\n",
    "        print(i, len(trace))\n",
    "        break"
   ]
  },
  {
   "cell_type": "code",
   "execution_count": 344,
   "metadata": {},
   "outputs": [
    {
     "data": {
      "text/html": [
       "<div>\n",
       "<style scoped>\n",
       "    .dataframe tbody tr th:only-of-type {\n",
       "        vertical-align: middle;\n",
       "    }\n",
       "\n",
       "    .dataframe tbody tr th {\n",
       "        vertical-align: top;\n",
       "    }\n",
       "\n",
       "    .dataframe thead th {\n",
       "        text-align: right;\n",
       "    }\n",
       "</style>\n",
       "<table border=\"1\" class=\"dataframe\">\n",
       "  <thead>\n",
       "    <tr style=\"text-align: right;\">\n",
       "      <th></th>\n",
       "      <th>case</th>\n",
       "      <th>event</th>\n",
       "      <th>startTime</th>\n",
       "      <th>completeTime</th>\n",
       "      <th>id</th>\n",
       "      <th>RequestedAmount_0</th>\n",
       "      <th>Overspent</th>\n",
       "      <th>travel permit number</th>\n",
       "      <th>OverspentAmount</th>\n",
       "      <th>RequestedBudget</th>\n",
       "      <th>...</th>\n",
       "      <th>year</th>\n",
       "      <th>month</th>\n",
       "      <th>@@approx_bh_partial_cycle_time</th>\n",
       "      <th>@@approx_bh_partial_lead_time</th>\n",
       "      <th>@@approx_bh_overall_wasted_time</th>\n",
       "      <th>@@approx_bh_this_wasted_time</th>\n",
       "      <th>@approx_bh_ratio_cycle_lead_time</th>\n",
       "      <th>concept:name</th>\n",
       "      <th>time:timestamp</th>\n",
       "      <th>case:concept:name</th>\n",
       "    </tr>\n",
       "  </thead>\n",
       "  <tbody>\n",
       "    <tr>\n",
       "      <th>0</th>\n",
       "      <td>travel permit 11220</td>\n",
       "      <td>Permit SUBMITTED by EMPLOYEE</td>\n",
       "      <td>2018-10-04 14:04:31+00:00</td>\n",
       "      <td>2018-10-04 14:04:31+00:00</td>\n",
       "      <td>travel permit 11220</td>\n",
       "      <td>185</td>\n",
       "      <td>False</td>\n",
       "      <td>travel permit number 11221</td>\n",
       "      <td>-93.099472</td>\n",
       "      <td>334.595674</td>\n",
       "      <td>...</td>\n",
       "      <td>2018</td>\n",
       "      <td>10</td>\n",
       "      <td>0.0</td>\n",
       "      <td>0.0</td>\n",
       "      <td>0.0</td>\n",
       "      <td>0.0</td>\n",
       "      <td>1.0</td>\n",
       "      <td>Permit SUBMITTED by EMPLOYEE</td>\n",
       "      <td>2018-10-04 14:04:31+00:00</td>\n",
       "      <td>travel permit 11220</td>\n",
       "    </tr>\n",
       "    <tr>\n",
       "      <th>1</th>\n",
       "      <td>travel permit 11220</td>\n",
       "      <td>Permit APPROVED by ADMINISTRATION</td>\n",
       "      <td>2018-10-04 14:04:38+00:00</td>\n",
       "      <td>2018-10-04 14:04:38+00:00</td>\n",
       "      <td>travel permit 11220</td>\n",
       "      <td>185</td>\n",
       "      <td>False</td>\n",
       "      <td>travel permit number 11221</td>\n",
       "      <td>-93.099472</td>\n",
       "      <td>334.595674</td>\n",
       "      <td>...</td>\n",
       "      <td>2018</td>\n",
       "      <td>10</td>\n",
       "      <td>0.0</td>\n",
       "      <td>7.0</td>\n",
       "      <td>7.0</td>\n",
       "      <td>7.0</td>\n",
       "      <td>0.0</td>\n",
       "      <td>Permit APPROVED by ADMINISTRATION</td>\n",
       "      <td>2018-10-04 14:04:38+00:00</td>\n",
       "      <td>travel permit 11220</td>\n",
       "    </tr>\n",
       "    <tr>\n",
       "      <th>2</th>\n",
       "      <td>travel permit 11220</td>\n",
       "      <td>Permit FINAL_APPROVED by SUPERVISOR</td>\n",
       "      <td>2018-10-05 08:38:27+00:00</td>\n",
       "      <td>2018-10-05 08:38:27+00:00</td>\n",
       "      <td>travel permit 11220</td>\n",
       "      <td>185</td>\n",
       "      <td>False</td>\n",
       "      <td>travel permit number 11221</td>\n",
       "      <td>-93.099472</td>\n",
       "      <td>334.595674</td>\n",
       "      <td>...</td>\n",
       "      <td>2018</td>\n",
       "      <td>10</td>\n",
       "      <td>0.0</td>\n",
       "      <td>16436.0</td>\n",
       "      <td>16436.0</td>\n",
       "      <td>16429.0</td>\n",
       "      <td>0.0</td>\n",
       "      <td>Permit FINAL_APPROVED by SUPERVISOR</td>\n",
       "      <td>2018-10-05 08:38:27+00:00</td>\n",
       "      <td>travel permit 11220</td>\n",
       "    </tr>\n",
       "    <tr>\n",
       "      <th>3</th>\n",
       "      <td>travel permit 11220</td>\n",
       "      <td>Start trip</td>\n",
       "      <td>2018-10-10 00:00:00+00:00</td>\n",
       "      <td>2018-10-10 00:00:00+00:00</td>\n",
       "      <td>travel permit 11220</td>\n",
       "      <td>185</td>\n",
       "      <td>False</td>\n",
       "      <td>travel permit number 11221</td>\n",
       "      <td>-93.099472</td>\n",
       "      <td>334.595674</td>\n",
       "      <td>...</td>\n",
       "      <td>2018</td>\n",
       "      <td>10</td>\n",
       "      <td>0.0</td>\n",
       "      <td>118529.0</td>\n",
       "      <td>118529.0</td>\n",
       "      <td>102093.0</td>\n",
       "      <td>0.0</td>\n",
       "      <td>Start trip</td>\n",
       "      <td>2018-10-10 00:00:00+00:00</td>\n",
       "      <td>travel permit 11220</td>\n",
       "    </tr>\n",
       "    <tr>\n",
       "      <th>4</th>\n",
       "      <td>travel permit 11220</td>\n",
       "      <td>End trip</td>\n",
       "      <td>2018-10-11 00:00:00+00:00</td>\n",
       "      <td>2018-10-11 00:00:00+00:00</td>\n",
       "      <td>travel permit 11220</td>\n",
       "      <td>185</td>\n",
       "      <td>False</td>\n",
       "      <td>travel permit number 11221</td>\n",
       "      <td>-93.099472</td>\n",
       "      <td>334.595674</td>\n",
       "      <td>...</td>\n",
       "      <td>2018</td>\n",
       "      <td>10</td>\n",
       "      <td>0.0</td>\n",
       "      <td>154529.0</td>\n",
       "      <td>154529.0</td>\n",
       "      <td>36000.0</td>\n",
       "      <td>0.0</td>\n",
       "      <td>End trip</td>\n",
       "      <td>2018-10-11 00:00:00+00:00</td>\n",
       "      <td>travel permit 11220</td>\n",
       "    </tr>\n",
       "  </tbody>\n",
       "</table>\n",
       "<p>5 rows × 32 columns</p>\n",
       "</div>"
      ],
      "text/plain": [
       "                  case                                event  \\\n",
       "0  travel permit 11220         Permit SUBMITTED by EMPLOYEE   \n",
       "1  travel permit 11220    Permit APPROVED by ADMINISTRATION   \n",
       "2  travel permit 11220  Permit FINAL_APPROVED by SUPERVISOR   \n",
       "3  travel permit 11220                           Start trip   \n",
       "4  travel permit 11220                             End trip   \n",
       "\n",
       "                  startTime              completeTime                   id  \\\n",
       "0 2018-10-04 14:04:31+00:00 2018-10-04 14:04:31+00:00  travel permit 11220   \n",
       "1 2018-10-04 14:04:38+00:00 2018-10-04 14:04:38+00:00  travel permit 11220   \n",
       "2 2018-10-05 08:38:27+00:00 2018-10-05 08:38:27+00:00  travel permit 11220   \n",
       "3 2018-10-10 00:00:00+00:00 2018-10-10 00:00:00+00:00  travel permit 11220   \n",
       "4 2018-10-11 00:00:00+00:00 2018-10-11 00:00:00+00:00  travel permit 11220   \n",
       "\n",
       "  RequestedAmount_0  Overspent        travel permit number  OverspentAmount  \\\n",
       "0               185      False  travel permit number 11221       -93.099472   \n",
       "1               185      False  travel permit number 11221       -93.099472   \n",
       "2               185      False  travel permit number 11221       -93.099472   \n",
       "3               185      False  travel permit number 11221       -93.099472   \n",
       "4               185      False  travel permit number 11221       -93.099472   \n",
       "\n",
       "   RequestedBudget  ...  year month  @@approx_bh_partial_cycle_time  \\\n",
       "0       334.595674  ...  2018    10                             0.0   \n",
       "1       334.595674  ...  2018    10                             0.0   \n",
       "2       334.595674  ...  2018    10                             0.0   \n",
       "3       334.595674  ...  2018    10                             0.0   \n",
       "4       334.595674  ...  2018    10                             0.0   \n",
       "\n",
       "  @@approx_bh_partial_lead_time @@approx_bh_overall_wasted_time  \\\n",
       "0                           0.0                             0.0   \n",
       "1                           7.0                             7.0   \n",
       "2                       16436.0                         16436.0   \n",
       "3                      118529.0                        118529.0   \n",
       "4                      154529.0                        154529.0   \n",
       "\n",
       "  @@approx_bh_this_wasted_time @approx_bh_ratio_cycle_lead_time  \\\n",
       "0                          0.0                              1.0   \n",
       "1                          7.0                              0.0   \n",
       "2                      16429.0                              0.0   \n",
       "3                     102093.0                              0.0   \n",
       "4                      36000.0                              0.0   \n",
       "\n",
       "                          concept:name            time:timestamp  \\\n",
       "0         Permit SUBMITTED by EMPLOYEE 2018-10-04 14:04:31+00:00   \n",
       "1    Permit APPROVED by ADMINISTRATION 2018-10-04 14:04:38+00:00   \n",
       "2  Permit FINAL_APPROVED by SUPERVISOR 2018-10-05 08:38:27+00:00   \n",
       "3                           Start trip 2018-10-10 00:00:00+00:00   \n",
       "4                             End trip 2018-10-11 00:00:00+00:00   \n",
       "\n",
       "     case:concept:name  \n",
       "0  travel permit 11220  \n",
       "1  travel permit 11220  \n",
       "2  travel permit 11220  \n",
       "3  travel permit 11220  \n",
       "4  travel permit 11220  \n",
       "\n",
       "[5 rows x 32 columns]"
      ]
     },
     "execution_count": 344,
     "metadata": {},
     "output_type": "execute_result"
    }
   ],
   "source": [
    "# convert logs to dataframe\n",
    "# final base dataframe\n",
    "df = pm4py.convert_to_dataframe(trace_prefixes)\n",
    "df.head(5)"
   ]
  },
  {
   "cell_type": "markdown",
   "metadata": {},
   "source": [
    "## Feature Selection ( Based on Data Exploration )"
   ]
  },
  {
   "cell_type": "code",
   "execution_count": 345,
   "metadata": {},
   "outputs": [],
   "source": [
    "# passed features we want to extract\n",
    "\n",
    "# str_ev_attr\tString attributes at the event level: these are hot-encoded into features that may assume value 0 or value 1.\n",
    "# str_tr_attr\tString attributes at the trace level: these are hot-encoded into features that may assume value 0 or value 1.\n",
    "# num_ev_attr\tNumeric attributes at the event level: these are encoded by including the last value of the attribute among the events of the trace.\n",
    "# num_tr_attr\tNumeric attributes at trace level: these are encoded by including the numerical value.\n",
    "# str_evsucc_attr\tSuccessions related to the string attributes values at the event level: for example, if we have a trace [A,B,C], it might be important to include not only the presence of the single values A, B and C as features; but also the presence of the directly-follows couples (A,B) and (B,C).\n",
    "# ================================================\n",
    "\n",
    "str_ev_attr = ['concept:name']\n",
    "str_tr_attr = ['OrganizationalEntity','month']\n",
    "num_ev_attr = ['@@approx_bh_partial_lead_time','@@approx_bh_this_wasted_time']\n",
    "num_tr_attr = []"
   ]
  },
  {
   "cell_type": "markdown",
   "metadata": {},
   "source": [
    "## Boolean encoding\n",
    "\n",
    "- can be easily extended with adding more attributes of traces other then activities, but for now kept it simple and as discussed in course"
   ]
  },
  {
   "cell_type": "code",
   "execution_count": 346,
   "metadata": {},
   "outputs": [],
   "source": [
    "encode_name = 'boolean_encode_'\n",
    "save_path = save_path_base + encode_name + 'train' +'_trace_len_'+str(t_length)+ '.pickle'\n",
    "loaded_data = load_data(save_path)\n",
    "ohe_dict = loaded_data['feature_names']"
   ]
  },
  {
   "cell_type": "code",
   "execution_count": 347,
   "metadata": {},
   "outputs": [],
   "source": [
    "# here for each trace we extract ohe vector for activity and sum them up and if count is greater then 1 we make them 1 \n",
    "# because this encoding only provides info, if the activity was there or not\n",
    "\n",
    "data = []\n",
    "\n",
    "for id, group in df.groupby(['case:concept:name']):\n",
    "    feature_vec = []\n",
    "\n",
    "    # add categorical and numerical event attributes\n",
    "    for cat_atr in str_ev_attr[:1]:\n",
    "        attr_length = len(list(ohe_dict[cat_atr].values())[0])\n",
    "        str_ev_vec = np.array([0]*attr_length)\n",
    "\n",
    "        for ca in group[cat_atr]:\n",
    "            str_ev_vec  = str_ev_vec + np.array(ohe_dict[cat_atr][ca])\n",
    "\n",
    "        # make it a non frequency vector (if count is greater then 1 make it 1)\n",
    "        for i,num in enumerate(str_ev_vec):\n",
    "            if num>1:\n",
    "                str_ev_vec[i]=1\n",
    "\n",
    "        feature_vec.extend(list(str_ev_vec))\n",
    "\n",
    "    data.append(feature_vec)\n",
    "\n",
    "    # data.append(feature_vec)"
   ]
  },
  {
   "cell_type": "code",
   "execution_count": 348,
   "metadata": {},
   "outputs": [],
   "source": [
    "encode_name = 'boolean_encode_'\n",
    "save_path = save_path_base + encode_name + df_type +'_trace_len_'+str(t_length)+ '.pickle'\n",
    "save_data(data, declerations, ohe_dict ,save_path)"
   ]
  },
  {
   "cell_type": "markdown",
   "metadata": {},
   "source": [
    "## Frequency encoding"
   ]
  },
  {
   "cell_type": "code",
   "execution_count": 349,
   "metadata": {},
   "outputs": [],
   "source": [
    "encode_name = 'frequency_encode_'\n",
    "save_path = save_path_base + encode_name + 'train' +'_trace_len_'+str(t_length)+ '.pickle'\n",
    "loaded_data = load_data(save_path)\n",
    "ohe_dict = loaded_data['feature_names']"
   ]
  },
  {
   "cell_type": "code",
   "execution_count": 350,
   "metadata": {},
   "outputs": [],
   "source": [
    "# here for each trace we extract ohe vector for activity and sum them up \n",
    "# because this encoding only provides count of how many times the activity appears\n",
    "\n",
    "data = []\n",
    "\n",
    "for id, group in df.groupby(['case:concept:name']):\n",
    "    feature_vec = []\n",
    "\n",
    "    # add categorical and numerical event attributes\n",
    "    for cat_atr in str_ev_attr[:1]:\n",
    "        attr_length = len(list(ohe_dict[cat_atr].values())[0])\n",
    "        str_ev_vec = np.array([0]*attr_length)\n",
    "\n",
    "        for ca in group[cat_atr]:\n",
    "            str_ev_vec  = str_ev_vec + np.array(ohe_dict[cat_atr][ca])\n",
    "\n",
    "        feature_vec.extend(list(str_ev_vec))\n",
    "\n",
    "    data.append(feature_vec)\n",
    "\n",
    "    # data.append(feature_vec)"
   ]
  },
  {
   "cell_type": "code",
   "execution_count": 351,
   "metadata": {},
   "outputs": [],
   "source": [
    "# save results\n",
    "encode_name = 'frequency_encode_'\n",
    "save_path = save_path_base + encode_name + df_type +'_trace_len_'+str(t_length)+ '.pickle'\n",
    "save_data(data, declerations, ohe_dict ,save_path)"
   ]
  },
  {
   "cell_type": "markdown",
   "metadata": {},
   "source": [
    "## Complex index based encoding - static feature (trace attributes) + n events encoding + event features"
   ]
  },
  {
   "cell_type": "code",
   "execution_count": 352,
   "metadata": {},
   "outputs": [],
   "source": [
    "encode_name = 'complex_index_encode_'\n",
    "save_path = save_path_base + encode_name + 'train' +'_trace_len_'+str(t_length)+ '.pickle'\n",
    "loaded_data = load_data(save_path)\n",
    "ohe_dict = loaded_data['feature_names']"
   ]
  },
  {
   "cell_type": "code",
   "execution_count": 353,
   "metadata": {},
   "outputs": [],
   "source": [
    "# here for each trace we put events encoded in order and there aatributes along with padding to make vector length same\n",
    "# similatly for trace attributes but since it is trace attributes that is only for once\n",
    "\n",
    "data = []\n",
    "\n",
    "for id, group in df.groupby(['case:concept:name']):\n",
    "    feature_vec = []\n",
    "\n",
    "    # add categorical and numerical event attributes along with paddings \n",
    "\n",
    "    for cat_atr in str_ev_attr:\n",
    "        str_ev_vec = []\n",
    "        attr_length = len(list(ohe_dict[cat_atr].values())[0])\n",
    "        for ca in group[cat_atr]:\n",
    "            str_ev_vec.extend(ohe_dict[cat_atr][ca])\n",
    "        \n",
    "        # padding\n",
    "        str_ev_vec = cat_padding(str_ev_vec, t_length, attr_length)\n",
    "        feature_vec.extend(str_ev_vec)\n",
    "\n",
    "\n",
    "    for num_atr in num_ev_attr:\n",
    "        num_ev_vec = []\n",
    "        num_ev_vec.extend(list(group[num_atr]))\n",
    "\n",
    "        # padding\n",
    "        num_ev_vec = num_padding(num_ev_vec, t_length)\n",
    "        feature_vec.extend(num_ev_vec)\n",
    "\n",
    "\n",
    "\n",
    "    # add categorical and numerical trace attributes\n",
    "    for num_t_atr in num_tr_attr:\n",
    "        feature_vec.extend(group[num_t_atr].iloc[0])\n",
    "\n",
    "\n",
    "    for cat_t_atr in str_tr_attr:\n",
    "        feature_vec.extend(ohe_dict[cat_t_atr][group[cat_t_atr].iloc[0]])\n",
    "\n",
    "    # add vector to data\n",
    "    data.append(feature_vec)\n"
   ]
  },
  {
   "cell_type": "code",
   "execution_count": 354,
   "metadata": {},
   "outputs": [],
   "source": [
    "# check if all vector lengths are same \n",
    "vec_len = len(data[0])\n",
    "\n",
    "for i, d in enumerate(data):\n",
    "    if len(d)!=vec_len:\n",
    "        print(i, len(d))"
   ]
  },
  {
   "cell_type": "code",
   "execution_count": 355,
   "metadata": {},
   "outputs": [],
   "source": [
    "# save results\n",
    "encode_name = 'complex_index_encode_'\n",
    "save_path = save_path_base + encode_name + df_type +'_trace_len_'+str(t_length)+ '.pickle'\n",
    "save_data(data, declerations, ohe_dict ,save_path)"
   ]
  },
  {
   "cell_type": "markdown",
   "metadata": {},
   "source": [
    "## LSTM encoding"
   ]
  },
  {
   "cell_type": "code",
   "execution_count": 356,
   "metadata": {},
   "outputs": [],
   "source": [
    "encode_name = 'lstm_encode_'\n",
    "save_path = save_path_base + encode_name + 'train' +'_trace_len_'+str(t_length)+ '.pickle'\n",
    "loaded_data = load_data(save_path)\n",
    "ohe_dict = loaded_data['feature_names']"
   ]
  },
  {
   "cell_type": "code",
   "execution_count": 357,
   "metadata": {},
   "outputs": [],
   "source": [
    "# here we create sequence of each trace\n",
    "# so the dimentions will be (number of examples * trace_length * feature_length )\n",
    "\n",
    "data = []\n",
    "\n",
    "for id, group in df.groupby(['case:concept:name']):\n",
    "    \n",
    "    feature_vec = []\n",
    "\n",
    "    for index, row in group.iterrows():\n",
    "\n",
    "        row_vec = []\n",
    "\n",
    "        for cat_atr in str_ev_attr:\n",
    "            row_vec.extend(ohe_dict[cat_atr][row[cat_atr]])\n",
    "\n",
    "        for num_atr in num_ev_attr:\n",
    "            row_vec.append(row[num_atr])\n",
    "\n",
    "\n",
    "        # add categorical and numerical trace attributes\n",
    "        for num_t_atr in num_tr_attr:\n",
    "            row_vec.append(group[num_t_atr].iloc[0])\n",
    "\n",
    "        for cat_t_atr in str_tr_attr:\n",
    "            row_vec.extend(ohe_dict[cat_t_atr][group[cat_t_atr].iloc[0]])\n",
    "\n",
    "        feature_vec.append(row_vec)\n",
    "    \n",
    "\n",
    "    # add vector to data\n",
    "    data.append(feature_vec)\n"
   ]
  },
  {
   "cell_type": "code",
   "execution_count": 358,
   "metadata": {},
   "outputs": [],
   "source": [
    "# converting to array\n",
    "data = np.array([np.array(ls) for ls in data])"
   ]
  },
  {
   "cell_type": "code",
   "execution_count": 359,
   "metadata": {},
   "outputs": [
    {
     "data": {
      "text/plain": [
       "(8, 91)"
      ]
     },
     "execution_count": 359,
     "metadata": {},
     "output_type": "execute_result"
    }
   ],
   "source": [
    "feature_len = len(data[0][0])\n",
    "desired_shape = (t_length,feature_len)\n",
    "desired_shape"
   ]
  },
  {
   "cell_type": "code",
   "execution_count": 360,
   "metadata": {},
   "outputs": [
    {
     "data": {
      "text/plain": [
       "(208, 8, 91)"
      ]
     },
     "execution_count": 360,
     "metadata": {},
     "output_type": "execute_result"
    }
   ],
   "source": [
    "# padding data to make equal shape of vectors\n",
    "padded_data = []\n",
    "for case in data:\n",
    "    pd_case = np.zeros(desired_shape)\n",
    "    pd_case[:case.shape[0],:case.shape[1]] = case\n",
    "    padded_data.append(pd_case)\n",
    "\n",
    "padded_data = np.array(padded_data)\n",
    "padded_data.shape"
   ]
  },
  {
   "cell_type": "code",
   "execution_count": 361,
   "metadata": {},
   "outputs": [],
   "source": [
    "# save results\n",
    "encode_name = 'lstm_encode_'\n",
    "save_path = save_path_base + encode_name + df_type +'_trace_len_'+str(t_length)+ '.pickle'\n",
    "save_data(data, declerations, ohe_dict ,save_path)"
   ]
  },
  {
   "cell_type": "code",
   "execution_count": null,
   "metadata": {},
   "outputs": [],
   "source": []
  },
  {
   "cell_type": "code",
   "execution_count": null,
   "metadata": {},
   "outputs": [],
   "source": []
  },
  {
   "cell_type": "markdown",
   "metadata": {},
   "source": [
    "# =================== END ================="
   ]
  },
  {
   "cell_type": "code",
   "execution_count": null,
   "metadata": {},
   "outputs": [],
   "source": []
  },
  {
   "cell_type": "code",
   "execution_count": null,
   "metadata": {},
   "outputs": [],
   "source": []
  },
  {
   "cell_type": "code",
   "execution_count": null,
   "metadata": {},
   "outputs": [],
   "source": []
  },
  {
   "cell_type": "code",
   "execution_count": null,
   "metadata": {},
   "outputs": [],
   "source": []
  },
  {
   "cell_type": "code",
   "execution_count": null,
   "metadata": {},
   "outputs": [],
   "source": []
  },
  {
   "cell_type": "code",
   "execution_count": null,
   "metadata": {},
   "outputs": [],
   "source": []
  },
  {
   "cell_type": "markdown",
   "metadata": {},
   "source": [
    "\n",
    "\n",
    "# Extra"
   ]
  },
  {
   "cell_type": "code",
   "execution_count": null,
   "metadata": {},
   "outputs": [],
   "source": []
  },
  {
   "cell_type": "markdown",
   "metadata": {},
   "source": [
    "## Preparing data for task Declaration REJECTED vs Accapted by Administrator/Employee\n",
    "\n",
    "- keeping all the traces \\\n",
    "or\n",
    "Extract traces only where decleration is submitted by employee is in a trace ( we are not considering other traces where decision of accatped, rejected is not being made /discuss )\n",
    "- create target variables, if application is rejected or not\n",
    "- get traces which starts from permit submitted by employee to the trace decleration is submitted by employee (discuss)\n",
    "- filter traces of length n (10,15,20 decide) \n",
    "- choose encoding and decide features to involve which we belive will be there before the activity decleration is submitted\n",
    "\n",
    "\n",
    "### Filterings\n",
    "\n",
    "1. Filtering on timeframe (from this date to that)\n",
    "2. Filter on case performance (traces finished withing 10 days)\n",
    "3. Filter on start and end activities (give list of start and end)\n",
    "4. Filter on variants (keeping only frequent trace flows like - [a,b,c,d] and [a d b c], or 0.4 threshold etc)\n",
    "5. Filter on attributes values (selection and projection of traces)\n",
    "6. Filter on numeric attribute values (from declared amount 500 to 1000)\n",
    "7. Between Filter (filtering the activities from say permit apply to permit accapted)\n",
    "8. case size (number of activiries in case)\n",
    "\n",
    "\n",
    "### Statistics\n",
    "\n",
    "1. Throughput Time (time to complete traces)\n",
    "2. Case Arrival/Dispersion Ratio (arrival time between two traces (not events))\n",
    "3. Performance Spectrum (time between activities)\n",
    "4. Cycle Time and Waiting Time (cycle time - time between activities, lead Time - the overall time in which the instance was worked, from the start to the end,accumelative )\n",
    "5. Sojourn Time - time taken for an activity to complete from the end of previous activity\n",
    "6. other stats if needed\n"
   ]
  },
  {
   "cell_type": "code",
   "execution_count": 7,
   "metadata": {},
   "outputs": [],
   "source": [
    "# # To extract target varaible, \n",
    "# # if event starts with the name decleration rejected it is considered as rejected application\n",
    "# declerations = []\n",
    "# for trace in trace_log:\n",
    "#     flag = False\n",
    "#     for i,event in enumerate(trace):\n",
    "#         if \"Declaration REJECTED\" in event['event']:\n",
    "#             flag = True\n",
    "#             break\n",
    "#     if flag:\n",
    "#         declerations.append(1)\n",
    "#     else:\n",
    "#         declerations.append(0)"
   ]
  },
  {
   "cell_type": "code",
   "execution_count": null,
   "metadata": {},
   "outputs": [],
   "source": [
    "# prefix_data = pd.DataFrame(columns = trace.columns)\n",
    "# for name, group in trace.groupby(['case']):\n",
    "#     for i in range(len(group)):\n",
    "#         if \"Declaration REJECTED\" in group.iloc[i]['event']:\n",
    "#             break\n",
    "#     temp = group.head(i)\n",
    "#     prefix_data = prefix_data.append(group.head(i))\n",
    "#     break\n",
    "# prefix_data.head()"
   ]
  },
  {
   "cell_type": "code",
   "execution_count": null,
   "metadata": {},
   "outputs": [],
   "source": [
    "# permits.head()\n",
    "# permits['startTime'] = pd.to_datetime(permits['startTime'])\n",
    "# permits['completeTime'] = pd.to_datetime(permits['completeTime'])"
   ]
  },
  {
   "cell_type": "code",
   "execution_count": null,
   "metadata": {},
   "outputs": [],
   "source": [
    "# # add year and month column\n",
    "# permits['year'] = permits['startTime'].dt.year\n",
    "# permits['month'] = permits['startTime'].dt.month"
   ]
  },
  {
   "cell_type": "code",
   "execution_count": null,
   "metadata": {},
   "outputs": [],
   "source": [
    "# # time to complete the activity\n",
    "# permits['act_completionTime'] = permits['completeTime'] - permits['startTime']\n",
    "# permits['act_completionTime'] = permits['act_completionTime'].dt.total_seconds()"
   ]
  },
  {
   "cell_type": "code",
   "execution_count": null,
   "metadata": {},
   "outputs": [],
   "source": [
    "# # get minimum time for earch trace (when trace started)\n",
    "# temp_df = pd.DataFrame(permits.groupby(['case'])['startTime'].min())\n",
    "# temp_df['index'] = temp_df.index\n",
    "# temp_df.reset_index(drop=True, inplace=True)\n",
    "# temp_df.columns = ['startTime_min','case']\n",
    "\n",
    "# # merge with permits\n",
    "# permits = permits.merge(temp_df,on=['case'])"
   ]
  },
  {
   "cell_type": "code",
   "execution_count": null,
   "metadata": {},
   "outputs": [],
   "source": [
    "# # get max time for earch trace (when trace ended)\n",
    "# temp_df = pd.DataFrame(permits.groupby(['case'])['completeTime'].max())\n",
    "# temp_df['index'] = temp_df.index\n",
    "# temp_df.reset_index(drop=True, inplace=True)\n",
    "# temp_df.columns = ['completeTime_max','case']\n",
    "\n",
    "# # merge with permits\n",
    "# permits = permits.merge(temp_df,on=['case'])"
   ]
  },
  {
   "cell_type": "code",
   "execution_count": null,
   "metadata": {},
   "outputs": [],
   "source": [
    "# # calculate trace time\n",
    "# permits['processCompletionTime']=permits['completeTime_max']-permits['startTime_min']\n",
    "# permits['processCompletionTime'] = permits['processCompletionTime'].dt.total_seconds()"
   ]
  },
  {
   "cell_type": "code",
   "execution_count": null,
   "metadata": {},
   "outputs": [],
   "source": [
    "# # calculate time taken between activities and cumulative time\n",
    "# act_time_taken=[]\n",
    "# act_inc_time = []\n",
    "# for name,group in permits.groupby(['case'],sort=False):\n",
    "#     act_time_taken.append([name,pd.to_datetime(0) - pd.to_datetime(0)])\n",
    "#     act_inc_time.append([name,pd.to_datetime(0) - pd.to_datetime(0)])\n",
    "#     act_time=pd.to_datetime(0) - pd.to_datetime(0)\n",
    "#     for i in range(len(group)-1):\n",
    "#         st_time_1 = group.iloc[i]['startTime']\n",
    "#         st_time_2 = group.iloc[i+1]['startTime']\n",
    "#         diff = st_time_2-st_time_1\n",
    "#         act_time+=diff\n",
    "#         act_time_taken.append([name,diff])\n",
    "#         act_inc_time.append([name,act_time])\n",
    "\n",
    "# time_diff_df = pd.DataFrame(act_time_taken,columns=['case','act_time_diff'])\n",
    "# time_inc_df = pd.DataFrame(act_inc_time,columns=['case','act_inc_time'])\n",
    "\n",
    "# # add with permits\n",
    "# permits['next_act_time_diff'] = time_diff_df['act_time_diff']\n",
    "# permits['next_act_time_diff'] = permits['next_act_time_diff'].dt.total_seconds()\n",
    "\n",
    "# permits['act_inc_time'] = time_inc_df['act_inc_time']\n",
    "# permits['act_inc_time'] = permits['act_inc_time'].dt.total_seconds()"
   ]
  },
  {
   "cell_type": "code",
   "execution_count": null,
   "metadata": {},
   "outputs": [
    {
     "data": {
      "text/html": [
       "<div>\n",
       "<style scoped>\n",
       "    .dataframe tbody tr th:only-of-type {\n",
       "        vertical-align: middle;\n",
       "    }\n",
       "\n",
       "    .dataframe tbody tr th {\n",
       "        vertical-align: top;\n",
       "    }\n",
       "\n",
       "    .dataframe thead th {\n",
       "        text-align: right;\n",
       "    }\n",
       "</style>\n",
       "<table border=\"1\" class=\"dataframe\">\n",
       "  <thead>\n",
       "    <tr style=\"text-align: right;\">\n",
       "      <th></th>\n",
       "      <th>case</th>\n",
       "      <th>event</th>\n",
       "      <th>startTime</th>\n",
       "      <th>completeTime</th>\n",
       "      <th>OrganizationalEntity</th>\n",
       "      <th>TotalDeclared</th>\n",
       "      <th>Overspent</th>\n",
       "      <th>RequestedBudget</th>\n",
       "      <th>OverspentAmount</th>\n",
       "      <th>org:resource</th>\n",
       "      <th>year</th>\n",
       "      <th>month</th>\n",
       "      <th>act_completionTime</th>\n",
       "      <th>startTime_min</th>\n",
       "      <th>completeTime_max</th>\n",
       "      <th>processCompletionTime</th>\n",
       "      <th>next_act_time_diff</th>\n",
       "      <th>act_inc_time</th>\n",
       "    </tr>\n",
       "  </thead>\n",
       "  <tbody>\n",
       "    <tr>\n",
       "      <th>0</th>\n",
       "      <td>travel permit 10066</td>\n",
       "      <td>Permit SUBMITTED by EMPLOYEE</td>\n",
       "      <td>2018-02-21 16:28:17</td>\n",
       "      <td>2018-02-21 16:28:17</td>\n",
       "      <td>organizational unit 65460</td>\n",
       "      <td>71.195831</td>\n",
       "      <td>False</td>\n",
       "      <td>64.878503</td>\n",
       "      <td>-18.925474</td>\n",
       "      <td>STAFF MEMBER</td>\n",
       "      <td>2018</td>\n",
       "      <td>2</td>\n",
       "      <td>0.0</td>\n",
       "      <td>2018-02-21 16:28:17</td>\n",
       "      <td>2018-03-01 17:31:26</td>\n",
       "      <td>694989.0</td>\n",
       "      <td>0.0</td>\n",
       "      <td>0.0</td>\n",
       "    </tr>\n",
       "    <tr>\n",
       "      <th>1</th>\n",
       "      <td>travel permit 10066</td>\n",
       "      <td>Permit APPROVED by ADMINISTRATION</td>\n",
       "      <td>2018-02-21 16:28:19</td>\n",
       "      <td>2018-02-21 16:28:19</td>\n",
       "      <td>organizational unit 65460</td>\n",
       "      <td>71.195831</td>\n",
       "      <td>False</td>\n",
       "      <td>64.878503</td>\n",
       "      <td>-18.925474</td>\n",
       "      <td>STAFF MEMBER</td>\n",
       "      <td>2018</td>\n",
       "      <td>2</td>\n",
       "      <td>0.0</td>\n",
       "      <td>2018-02-21 16:28:17</td>\n",
       "      <td>2018-03-01 17:31:26</td>\n",
       "      <td>694989.0</td>\n",
       "      <td>2.0</td>\n",
       "      <td>2.0</td>\n",
       "    </tr>\n",
       "    <tr>\n",
       "      <th>2</th>\n",
       "      <td>travel permit 10066</td>\n",
       "      <td>Start trip</td>\n",
       "      <td>2018-02-22 00:00:00</td>\n",
       "      <td>2018-02-22 00:00:00</td>\n",
       "      <td>organizational unit 65460</td>\n",
       "      <td>71.195831</td>\n",
       "      <td>False</td>\n",
       "      <td>64.878503</td>\n",
       "      <td>-18.925474</td>\n",
       "      <td>STAFF MEMBER</td>\n",
       "      <td>2018</td>\n",
       "      <td>2</td>\n",
       "      <td>0.0</td>\n",
       "      <td>2018-02-21 16:28:17</td>\n",
       "      <td>2018-03-01 17:31:26</td>\n",
       "      <td>694989.0</td>\n",
       "      <td>27101.0</td>\n",
       "      <td>27103.0</td>\n",
       "    </tr>\n",
       "    <tr>\n",
       "      <th>3</th>\n",
       "      <td>travel permit 10066</td>\n",
       "      <td>End trip</td>\n",
       "      <td>2018-02-22 00:00:00</td>\n",
       "      <td>2018-02-22 00:00:00</td>\n",
       "      <td>organizational unit 65460</td>\n",
       "      <td>71.195831</td>\n",
       "      <td>False</td>\n",
       "      <td>64.878503</td>\n",
       "      <td>-18.925474</td>\n",
       "      <td>STAFF MEMBER</td>\n",
       "      <td>2018</td>\n",
       "      <td>2</td>\n",
       "      <td>0.0</td>\n",
       "      <td>2018-02-21 16:28:17</td>\n",
       "      <td>2018-03-01 17:31:26</td>\n",
       "      <td>694989.0</td>\n",
       "      <td>0.0</td>\n",
       "      <td>27103.0</td>\n",
       "    </tr>\n",
       "    <tr>\n",
       "      <th>4</th>\n",
       "      <td>travel permit 10066</td>\n",
       "      <td>Permit FINAL_APPROVED by SUPERVISOR</td>\n",
       "      <td>2018-02-22 08:27:05</td>\n",
       "      <td>2018-02-22 08:27:05</td>\n",
       "      <td>organizational unit 65460</td>\n",
       "      <td>71.195831</td>\n",
       "      <td>False</td>\n",
       "      <td>64.878503</td>\n",
       "      <td>-18.925474</td>\n",
       "      <td>STAFF MEMBER</td>\n",
       "      <td>2018</td>\n",
       "      <td>2</td>\n",
       "      <td>0.0</td>\n",
       "      <td>2018-02-21 16:28:17</td>\n",
       "      <td>2018-03-01 17:31:26</td>\n",
       "      <td>694989.0</td>\n",
       "      <td>30425.0</td>\n",
       "      <td>57528.0</td>\n",
       "    </tr>\n",
       "  </tbody>\n",
       "</table>\n",
       "</div>"
      ],
      "text/plain": [
       "                  case                                event  \\\n",
       "0  travel permit 10066         Permit SUBMITTED by EMPLOYEE   \n",
       "1  travel permit 10066    Permit APPROVED by ADMINISTRATION   \n",
       "2  travel permit 10066                           Start trip   \n",
       "3  travel permit 10066                             End trip   \n",
       "4  travel permit 10066  Permit FINAL_APPROVED by SUPERVISOR   \n",
       "\n",
       "            startTime        completeTime       OrganizationalEntity  \\\n",
       "0 2018-02-21 16:28:17 2018-02-21 16:28:17  organizational unit 65460   \n",
       "1 2018-02-21 16:28:19 2018-02-21 16:28:19  organizational unit 65460   \n",
       "2 2018-02-22 00:00:00 2018-02-22 00:00:00  organizational unit 65460   \n",
       "3 2018-02-22 00:00:00 2018-02-22 00:00:00  organizational unit 65460   \n",
       "4 2018-02-22 08:27:05 2018-02-22 08:27:05  organizational unit 65460   \n",
       "\n",
       "  TotalDeclared Overspent RequestedBudget OverspentAmount  org:resource  year  \\\n",
       "0     71.195831     False       64.878503      -18.925474  STAFF MEMBER  2018   \n",
       "1     71.195831     False       64.878503      -18.925474  STAFF MEMBER  2018   \n",
       "2     71.195831     False       64.878503      -18.925474  STAFF MEMBER  2018   \n",
       "3     71.195831     False       64.878503      -18.925474  STAFF MEMBER  2018   \n",
       "4     71.195831     False       64.878503      -18.925474  STAFF MEMBER  2018   \n",
       "\n",
       "   month  act_completionTime       startTime_min    completeTime_max  \\\n",
       "0      2                 0.0 2018-02-21 16:28:17 2018-03-01 17:31:26   \n",
       "1      2                 0.0 2018-02-21 16:28:17 2018-03-01 17:31:26   \n",
       "2      2                 0.0 2018-02-21 16:28:17 2018-03-01 17:31:26   \n",
       "3      2                 0.0 2018-02-21 16:28:17 2018-03-01 17:31:26   \n",
       "4      2                 0.0 2018-02-21 16:28:17 2018-03-01 17:31:26   \n",
       "\n",
       "   processCompletionTime  next_act_time_diff  act_inc_time  \n",
       "0               694989.0                 0.0           0.0  \n",
       "1               694989.0                 2.0           2.0  \n",
       "2               694989.0             27101.0       27103.0  \n",
       "3               694989.0                 0.0       27103.0  \n",
       "4               694989.0             30425.0       57528.0  "
      ]
     },
     "metadata": {},
     "output_type": "display_data"
    }
   ],
   "source": [
    "# permits.head()"
   ]
  },
  {
   "cell_type": "code",
   "execution_count": null,
   "metadata": {},
   "outputs": [],
   "source": []
  },
  {
   "cell_type": "code",
   "execution_count": null,
   "metadata": {},
   "outputs": [],
   "source": []
  },
  {
   "cell_type": "code",
   "execution_count": 21,
   "metadata": {},
   "outputs": [],
   "source": [
    "# # Create dataframe for Target variable and combine with above trace dataframe\n",
    "# cases = list(df.groupby(['case'],sort=False)['id'].first().keys())\n",
    "# df_dict = dict()\n",
    "# df_dict['case'] = cases\n",
    "# df_dict['declerations'] = declerations\n",
    "# temp_df = pd.DataFrame(df_dict)\n",
    "\n",
    "# # merge target variable with permits\n",
    "# trace = df.merge(temp_df,on=['case'])\n",
    "# trace.head()"
   ]
  },
  {
   "cell_type": "code",
   "execution_count": null,
   "metadata": {},
   "outputs": [],
   "source": [
    "# from pm4py.statistics.sojourn_time.log import get as soj_time_get\n",
    "# soj_time = soj_time_get.apply(trace_log, parameters={soj_time_get.Parameters.TIMESTAMP_KEY: \"time:timestamp\", soj_time_get.Parameters.START_TIMESTAMP_KEY: \"startTime\"})\n",
    "# print(soj_time)"
   ]
  },
  {
   "cell_type": "code",
   "execution_count": null,
   "metadata": {},
   "outputs": [],
   "source": [
    "# # to get all trace cases\n",
    "# for i, trace in enumerate(trace_log):\n",
    "#     print(trace[0]['case'])"
   ]
  },
  {
   "cell_type": "code",
   "execution_count": null,
   "metadata": {},
   "outputs": [],
   "source": [
    "# # throughput time (time to complete traces) all in seconds\n",
    "# all_case_durations = pm4py.get_all_case_durations(trace_log)\n",
    "# all_case_durations"
   ]
  },
  {
   "cell_type": "code",
   "execution_count": null,
   "metadata": {},
   "outputs": [],
   "source": [
    "# # arrival between cases\n",
    "# case_arrival_ratio = pm4py.get_case_arrival_average(trace_log)\n",
    "# case_arrival_ratio/(60*60)"
   ]
  },
  {
   "cell_type": "code",
   "execution_count": null,
   "metadata": {},
   "outputs": [],
   "source": [
    "# from pm4py.objects.log.util import interval_lifecycle\n",
    "# enriched_log = interval_lifecycle.assign_lead_cycle_time(trace_log)\n",
    "# enriched_log"
   ]
  },
  {
   "cell_type": "markdown",
   "metadata": {},
   "source": [
    "### boolean bigram encoding"
   ]
  },
  {
   "cell_type": "code",
   "execution_count": null,
   "metadata": {},
   "outputs": [],
   "source": [
    "# data_2gram, feature_names = log_to_features.apply(trace_prefixes, \n",
    "#                                                   parameters={\"str_ev_attr\": [], \n",
    "#                                                         \"str_tr_attr\": [], \n",
    "#                                                         \"num_ev_attr\": [], \n",
    "#                                                         \"num_tr_attr\": [], \n",
    "#                                                         \"str_evsucc_attr\": [\"concept:name\"]})\n",
    "# feature_names"
   ]
  },
  {
   "cell_type": "code",
   "execution_count": null,
   "metadata": {},
   "outputs": [],
   "source": [
    "# data_2gram = np.asarray(data_2gram)"
   ]
  },
  {
   "cell_type": "code",
   "execution_count": null,
   "metadata": {},
   "outputs": [],
   "source": [
    "# project_nth(trace_prefixes, 0)"
   ]
  },
  {
   "cell_type": "code",
   "execution_count": null,
   "metadata": {},
   "outputs": [],
   "source": [
    "# print(data_2gram[0])"
   ]
  },
  {
   "cell_type": "code",
   "execution_count": null,
   "metadata": {},
   "outputs": [],
   "source": [
    "# train_data = {}\n",
    "# train_data['X']=data_2gram\n",
    "# train_data['y'] = declerations\n",
    "# train_data['feature_names'] = feature_names"
   ]
  },
  {
   "cell_type": "code",
   "execution_count": null,
   "metadata": {},
   "outputs": [],
   "source": [
    "# # save json\n",
    "# save_path = '../data/training_data/bigram_boolean_encode.json'\n",
    "# with open(save_path, 'w', encoding='utf-8') as f:\n",
    "#     json.dump(train_data, f, ensure_ascii=False, indent=4)"
   ]
  },
  {
   "cell_type": "markdown",
   "metadata": {},
   "source": []
  },
  {
   "cell_type": "code",
   "execution_count": null,
   "metadata": {},
   "outputs": [],
   "source": [
    "# between_log = pm4py.filter_between(dec_sub_traces, \"Permit SUBMITTED by EMPLOYEE\", \"Declaration SUBMITTED by EMPLOYEE\")"
   ]
  },
  {
   "cell_type": "code",
   "execution_count": null,
   "metadata": {},
   "outputs": [],
   "source": [
    "# project_nth(between_log, 232)"
   ]
  },
  {
   "cell_type": "code",
   "execution_count": null,
   "metadata": {},
   "outputs": [],
   "source": [
    "# # we can get any attribute of trace using this\n",
    "# activities = pm4py.get_event_attribute_values(trace_log, \"concept:name\")\n",
    "# resources = pm4py.get_event_attribute_values(trace_log, \"org:resource\")\n",
    "# resources"
   ]
  },
  {
   "cell_type": "code",
   "execution_count": null,
   "metadata": {},
   "outputs": [],
   "source": [
    "# remove Return Decleration event\n",
    "# train_raw = pm4py.filter_event_attribute_values(trace_log, \"concept:name\", \"Declaration REJECTED by EMPLOYEE\", level = \"event\", retain=False)"
   ]
  },
  {
   "cell_type": "markdown",
   "metadata": {},
   "source": []
  },
  {
   "cell_type": "code",
   "execution_count": null,
   "metadata": {},
   "outputs": [],
   "source": [
    "# to display most frequent feature\n",
    "# # look at the unique vectors and their occurrence frequency/count\n",
    "# # just to check which trace was most frequent, just analysis\n",
    "# dist_features = np.unique(data, return_counts= True, axis = 0)\n",
    "# print(dist_features)\n",
    "\n",
    "\n",
    "# # display most freuent feature\n",
    "# most_freq_feature = dist_features[0][np.argmax(dist_features[1])]\n",
    "# most_freq_feature\n",
    "\n",
    "\n",
    "# # order doesn't matter here\n",
    "# for i in range(0, len(most_freq_feature)):\n",
    "#     if most_freq_feature[i]!=0:\n",
    "#         print(feature_names[i].split(\"@\")[1], end=' , ')"
   ]
  },
  {
   "cell_type": "code",
   "execution_count": null,
   "metadata": {},
   "outputs": [],
   "source": []
  },
  {
   "cell_type": "code",
   "execution_count": null,
   "metadata": {},
   "outputs": [],
   "source": [
    "# # printing all activities in trace \n",
    "# for trace in trace_log[0]:\n",
    "#     print(trace[\"concept:name\"])"
   ]
  },
  {
   "cell_type": "code",
   "execution_count": null,
   "metadata": {},
   "outputs": [],
   "source": [
    "# # although the split was 70:30, but since it is sequence data, traces can have different number of data points, so actual number is different \n",
    "# test_data_percentage = (test_count/train_count)*100\n",
    "# print(\"trace test percentage\")\n",
    "# print(test_data_percentage)"
   ]
  },
  {
   "cell_type": "code",
   "execution_count": null,
   "metadata": {},
   "outputs": [],
   "source": [
    "# to extract only traces where Declaration SUBMITTED by EMPLOYEE is present\n",
    "# dec_sub_traces = []\n",
    "# for trace in trace_log:\n",
    "#     if len(list(filter(lambda e: e[\"concept:name\"] == \"Declaration SUBMITTED by EMPLOYEE\" ,trace))) > 0:\n",
    "#         dec_sub_traces.append(Trace(trace, attributes = trace.attributes))\n",
    "\n",
    "# dec_sub_traces = EventLog(dec_sub_traces)"
   ]
  }
 ],
 "metadata": {
  "kernelspec": {
   "display_name": "Python 3.10.4 ('ml')",
   "language": "python",
   "name": "python3"
  },
  "language_info": {
   "codemirror_mode": {
    "name": "ipython",
    "version": 3
   },
   "file_extension": ".py",
   "mimetype": "text/x-python",
   "name": "python",
   "nbconvert_exporter": "python",
   "pygments_lexer": "ipython3",
   "version": "3.10.4"
  },
  "orig_nbformat": 4,
  "vscode": {
   "interpreter": {
    "hash": "5188bc372fa413aa2565ae5d28228f50ad7b2c4ebb4a82c5900fd598adbb6408"
   }
  }
 },
 "nbformat": 4,
 "nbformat_minor": 2
}
