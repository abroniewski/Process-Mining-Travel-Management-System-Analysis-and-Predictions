{
  "cells": [
    {
      "cell_type": "code",
      "execution_count": 1,
      "metadata": {
        "collapsed": true,
        "id": "ciiz3BRHxPxi"
      },
      "outputs": [],
      "source": [
        "import pandas as pd\n",
        "from sklearn.preprocessing import FunctionTransformer, MinMaxScaler\n",
        "import numpy as np\n",
        "import sklearn\n",
        "from tqdm.auto import tqdm"
      ]
    },
    {
      "cell_type": "code",
      "source": [
        "# For visualization\n",
        "import matplotlib.pyplot as plt\n",
        "from sklearn.metrics import roc_curve, auc"
      ],
      "metadata": {
        "id": "97TfOZpXgLak"
      },
      "execution_count": 2,
      "outputs": []
    },
    {
      "cell_type": "code",
      "execution_count": null,
      "outputs": [],
      "source": [
        "import pickle\n",
        "from joblib import dump, load\n",
        "import os"
      ],
      "metadata": {
        "id": "6uqD4aKlxPxl"
      }
    },
    {
      "cell_type": "code",
      "source": [
        "from sklearn.tree import DecisionTreeClassifier\n",
        "from sklearn import tree\n",
        "from sklearn.linear_model import LogisticRegression\n",
        "from sklearn.ensemble import RandomForestClassifier\n",
        "from sklearn.neural_network import MLPClassifier\n",
        "from sklearn.metrics import f1_score, precision_score, recall_score\n",
        "from sklearn.metrics import accuracy_score\n",
        "from sklearn.model_selection import GridSearchCV, cross_validate\n",
        "from sklearn.model_selection import KFold,train_test_split, RandomizedSearchCV\n",
        "np.random.seed(42)"
      ],
      "metadata": {
        "id": "bSNq2e5rAD8D"
      },
      "execution_count": null,
      "outputs": []
    },
    {
      "cell_type": "markdown",
      "source": [
        "# Event Log & Data Loading"
      ],
      "metadata": {
        "collapsed": false,
        "id": "RllfN1LDxPxl"
      }
    },
    {
      "cell_type": "code",
      "execution_count": null,
      "outputs": [],
      "source": [
        "# function to load the data from pickle\n",
        "def load_data(load_path):\n",
        "    with open(load_path, 'rb') as handle:\n",
        "        data = pickle.load(handle)\n",
        "    return data"
      ],
      "metadata": {
        "id": "-m9gnlBAxPxm"
      }
    },
    {
      "cell_type": "code",
      "execution_count": null,
      "outputs": [],
      "source": [
        "data_test = load_data(\"../data/training_data/frequency_encode_test_trace_len_4.pickle\")\n",
        "data_train = load_data(\"../data/training_data/frequency_encode_train_trace_len_4.pickle\")"
      ],
      "metadata": {
        "id": "bIRRIZHzxPxn"
      }
    },
    {
      "cell_type": "markdown",
      "source": [
        "# Model Building"
      ],
      "metadata": {
        "id": "PoSxUGE1ANKa"
      }
    },
    {
      "cell_type": "markdown",
      "source": [
        "## Scaling\n",
        "If needed, would take place here. Not required for binary values."
      ],
      "metadata": {
        "id": "4X3j_3bt_Rcw"
      }
    },
    {
      "cell_type": "code",
      "source": [
        "X_train = np.array(data_train['X'])\n",
        "X_test = np.array(data_test['X'])\n",
        "y_train = np.array(data_train['y'])\n",
        "y_test = np.array(data_test['y'])"
      ],
      "metadata": {
        "id": "eX_4sgwEA2Rc"
      },
      "execution_count": null,
      "outputs": []
    },
    {
      "cell_type": "code",
      "execution_count": null,
      "outputs": [],
      "source": [
        "# scaler_x = MinMaxScaler()\n",
        "# data_scaled = scaler_x.fit_transform(data_dict['X'])\n",
        "\n",
        "# scaler_y = FunctionTransformer() # for binary values scaling does not make sense at all but we keep it for symetry and apply the \"NoOp\" scaler\n",
        "# target_scaled = scaler_y.fit_transform(data_dict['y'].reshape(-1, 1))"
      ],
      "metadata": {
        "id": "_uaWg7jLxPxn"
      }
    },
    {
      "cell_type": "markdown",
      "source": [
        "## Setting up Model Evaluation DataFrame\n",
        "All the results will be saved to the `results_df` dataframe for comparison."
      ],
      "metadata": {
        "id": "eBXr9qtBASS_"
      }
    },
    {
      "cell_type": "code",
      "source": [
        "results_df = pd.DataFrame(index=['Decision Tree (Default)'],\n",
        "                          columns=['F-score', 'Precision','Recall', 'Accuracy'])"
      ],
      "metadata": {
        "id": "udp33HMqAVvD"
      },
      "execution_count": null,
      "outputs": []
    },
    {
      "cell_type": "markdown",
      "source": [
        "## Decision Tree Classifier"
      ],
      "metadata": {
        "id": "0-1CVtCyAoJR"
      }
    },
    {
      "cell_type": "code",
      "source": [
        "# Create Decision Tree classifier object\n",
        "dt = DecisionTreeClassifier()\n",
        "\n",
        "# Train Decision Tree Classifier\n",
        "dt_fit = dt.fit(X_train,y_train)\n",
        "\n",
        "#Predict the response for test dataset\n",
        "dt_predict = dt_fit.predict(X_test)\n",
        "\n",
        "results_df.loc['Decision Tree (Default)',:] = [f1_score(y_test,dt_predict, average='macro'), precision_score(y_test,dt_predict), recall_score(y_test,dt_predict),accuracy_score(y_test,dt_predict)]\n",
        "\n",
        "results_df.sort_values(by='F-score', ascending=False)"
      ],
      "metadata": {
        "colab": {
          "base_uri": "https://localhost:8080/",
          "height": 131
        },
        "id": "vF8ZMALvAkrg",
        "outputId": "6d2c7264-5f08-4e26-c624-5ea45e5a6efc"
      },
      "execution_count": null,
      "outputs": [
        {
          "name": "stderr",
          "output_type": "stream",
          "text": [
            "/Users/adambroniewski/CODE_Repositories/APM_BPI_2020/venv/lib/python3.10/site-packages/sklearn/metrics/_classification.py:1344: UndefinedMetricWarning: Precision is ill-defined and being set to 0.0 due to no predicted samples. Use `zero_division` parameter to control this behavior.\n",
            "  _warn_prf(average, modifier, msg_start, len(result))\n"
          ]
        },
        {
          "data": {
            "text/plain": "                          F-score Precision Recall  Accuracy\nDecision Tree (Default)  0.476087       0.0    0.0  0.908714",
            "text/html": "<div>\n<style scoped>\n    .dataframe tbody tr th:only-of-type {\n        vertical-align: middle;\n    }\n\n    .dataframe tbody tr th {\n        vertical-align: top;\n    }\n\n    .dataframe thead th {\n        text-align: right;\n    }\n</style>\n<table border=\"1\" class=\"dataframe\">\n  <thead>\n    <tr style=\"text-align: right;\">\n      <th></th>\n      <th>F-score</th>\n      <th>Precision</th>\n      <th>Recall</th>\n      <th>Accuracy</th>\n    </tr>\n  </thead>\n  <tbody>\n    <tr>\n      <th>Decision Tree (Default)</th>\n      <td>0.476087</td>\n      <td>0.0</td>\n      <td>0.0</td>\n      <td>0.908714</td>\n    </tr>\n  </tbody>\n</table>\n</div>"
          },
          "execution_count": 14,
          "metadata": {},
          "output_type": "execute_result"
        }
      ]
    },
    {
      "cell_type": "code",
      "execution_count": null,
      "outputs": [
        {
          "data": {
            "text/plain": "[Text(0.8692660550458715, 0.9736842105263158, 'x[3] <= 0.5\\ngini = 0.343\\nsamples = 5596\\nvalue = [4365, 1231]'),\n Text(0.7752293577981652, 0.9210526315789473, 'x[5] <= 0.5\\ngini = 0.363\\nsamples = 4967\\nvalue = [3783, 1184]'),\n Text(0.6788990825688074, 0.868421052631579, 'x[20] <= 0.5\\ngini = 0.34\\nsamples = 3531\\nvalue = [2764, 767]'),\n Text(0.5779816513761468, 0.8157894736842105, 'x[2] <= 0.5\\ngini = 0.345\\nsamples = 3460\\nvalue = [2694, 766]'),\n Text(0.43119266055045874, 0.7631578947368421, 'x[24] <= 0.5\\ngini = 0.34\\nsamples = 3389\\nvalue = [2652, 737]'),\n Text(0.3119266055045872, 0.7105263157894737, 'x[9] <= 0.5\\ngini = 0.373\\nsamples = 1045\\nvalue = [786, 259]'),\n Text(0.26605504587155965, 0.6578947368421053, 'x[15] <= 0.5\\ngini = 0.405\\nsamples = 517\\nvalue = [371, 146]'),\n Text(0.24770642201834864, 0.6052631578947368, 'x[6] <= 0.5\\ngini = 0.412\\nsamples = 496\\nvalue = [352, 144]'),\n Text(0.21100917431192662, 0.5526315789473685, 'x[21] <= 0.5\\ngini = 0.405\\nsamples = 468\\nvalue = [336, 132]'),\n Text(0.1926605504587156, 0.5, 'x[14] <= 0.5\\ngini = 0.41\\nsamples = 456\\nvalue = [325, 131]'),\n Text(0.1743119266055046, 0.4473684210526316, 'x[23] <= 0.5\\ngini = 0.413\\nsamples = 450\\nvalue = [319, 131]'),\n Text(0.11009174311926606, 0.39473684210526316, 'x[12] <= 0.5\\ngini = 0.428\\nsamples = 310\\nvalue = [214, 96]'),\n Text(0.09174311926605505, 0.34210526315789475, 'x[11] <= 0.5\\ngini = 0.434\\nsamples = 279\\nvalue = [190, 89]'),\n Text(0.07339449541284404, 0.2894736842105263, 'x[4] <= 0.5\\ngini = 0.429\\nsamples = 247\\nvalue = [170, 77]'),\n Text(0.03669724770642202, 0.23684210526315788, 'x[13] <= 0.5\\ngini = 0.278\\nsamples = 12\\nvalue = [10, 2]'),\n Text(0.01834862385321101, 0.18421052631578946, 'gini = 0.0\\nsamples = 1\\nvalue = [1, 0]'),\n Text(0.05504587155963303, 0.18421052631578946, 'gini = 0.298\\nsamples = 11\\nvalue = [9, 2]'),\n Text(0.11009174311926606, 0.23684210526315788, 'x[22] <= 0.5\\ngini = 0.435\\nsamples = 235\\nvalue = [160, 75]'),\n Text(0.09174311926605505, 0.18421052631578946, 'x[8] <= 0.5\\ngini = 0.432\\nsamples = 234\\nvalue = [160, 74]'),\n Text(0.07339449541284404, 0.13157894736842105, 'gini = 0.426\\nsamples = 39\\nvalue = [27, 12]'),\n Text(0.11009174311926606, 0.13157894736842105, 'gini = 0.434\\nsamples = 195\\nvalue = [133, 62]'),\n Text(0.12844036697247707, 0.18421052631578946, 'gini = 0.0\\nsamples = 1\\nvalue = [0, 1]'),\n Text(0.11009174311926606, 0.2894736842105263, 'gini = 0.469\\nsamples = 32\\nvalue = [20, 12]'),\n Text(0.12844036697247707, 0.34210526315789475, 'gini = 0.35\\nsamples = 31\\nvalue = [24, 7]'),\n Text(0.23853211009174313, 0.39473684210526316, 'x[8] <= 0.5\\ngini = 0.375\\nsamples = 140\\nvalue = [105, 35]'),\n Text(0.22018348623853212, 0.34210526315789475, 'x[16] <= 0.5\\ngini = 0.405\\nsamples = 117\\nvalue = [84, 33]'),\n Text(0.2018348623853211, 0.2894736842105263, 'x[13] <= 0.5\\ngini = 0.409\\nsamples = 115\\nvalue = [82, 33]'),\n Text(0.1834862385321101, 0.23684210526315788, 'x[23] <= 1.5\\ngini = 0.406\\nsamples = 113\\nvalue = [81, 32]'),\n Text(0.1651376146788991, 0.18421052631578946, 'x[4] <= 0.5\\ngini = 0.408\\nsamples = 112\\nvalue = [80, 32]'),\n Text(0.14678899082568808, 0.13157894736842105, 'gini = 0.0\\nsamples = 1\\nvalue = [1, 0]'),\n Text(0.1834862385321101, 0.13157894736842105, 'x[12] <= 0.5\\ngini = 0.41\\nsamples = 111\\nvalue = [79, 32]'),\n Text(0.1651376146788991, 0.07894736842105263, 'x[7] <= 0.5\\ngini = 0.413\\nsamples = 110\\nvalue = [78, 32]'),\n Text(0.14678899082568808, 0.02631578947368421, 'gini = 0.408\\nsamples = 105\\nvalue = [75, 30]'),\n Text(0.1834862385321101, 0.02631578947368421, 'gini = 0.48\\nsamples = 5\\nvalue = [3, 2]'),\n Text(0.2018348623853211, 0.07894736842105263, 'gini = 0.0\\nsamples = 1\\nvalue = [1, 0]'),\n Text(0.2018348623853211, 0.18421052631578946, 'gini = 0.0\\nsamples = 1\\nvalue = [1, 0]'),\n Text(0.22018348623853212, 0.23684210526315788, 'gini = 0.5\\nsamples = 2\\nvalue = [1, 1]'),\n Text(0.23853211009174313, 0.2894736842105263, 'gini = 0.0\\nsamples = 2\\nvalue = [2, 0]'),\n Text(0.25688073394495414, 0.34210526315789475, 'gini = 0.159\\nsamples = 23\\nvalue = [21, 2]'),\n Text(0.21100917431192662, 0.4473684210526316, 'gini = 0.0\\nsamples = 6\\nvalue = [6, 0]'),\n Text(0.22935779816513763, 0.5, 'gini = 0.153\\nsamples = 12\\nvalue = [11, 1]'),\n Text(0.28440366972477066, 0.5526315789473685, 'x[13] <= 0.5\\ngini = 0.49\\nsamples = 28\\nvalue = [16, 12]'),\n Text(0.26605504587155965, 0.5, 'x[8] <= 0.5\\ngini = 0.476\\nsamples = 23\\nvalue = [14, 9]'),\n Text(0.24770642201834864, 0.4473684210526316, 'gini = 0.49\\nsamples = 7\\nvalue = [4, 3]'),\n Text(0.28440366972477066, 0.4473684210526316, 'gini = 0.469\\nsamples = 16\\nvalue = [10, 6]'),\n Text(0.30275229357798167, 0.5, 'gini = 0.48\\nsamples = 5\\nvalue = [2, 3]'),\n Text(0.28440366972477066, 0.6052631578947368, 'gini = 0.172\\nsamples = 21\\nvalue = [19, 2]'),\n Text(0.3577981651376147, 0.6578947368421053, 'x[23] <= 0.5\\ngini = 0.336\\nsamples = 528\\nvalue = [415, 113]'),\n Text(0.3394495412844037, 0.6052631578947368, 'gini = 0.0\\nsamples = 17\\nvalue = [17, 0]'),\n Text(0.3761467889908257, 0.6052631578947368, 'x[6] <= 0.5\\ngini = 0.344\\nsamples = 511\\nvalue = [398, 113]'),\n Text(0.3577981651376147, 0.5526315789473685, 'x[4] <= 0.5\\ngini = 0.33\\nsamples = 431\\nvalue = [341, 90]'),\n Text(0.3394495412844037, 0.5, 'gini = 0.0\\nsamples = 6\\nvalue = [6, 0]'),\n Text(0.3761467889908257, 0.5, 'gini = 0.334\\nsamples = 425\\nvalue = [335, 90]'),\n Text(0.3944954128440367, 0.5526315789473685, 'gini = 0.41\\nsamples = 80\\nvalue = [57, 23]'),\n Text(0.5504587155963303, 0.7105263157894737, 'x[4] <= 0.5\\ngini = 0.325\\nsamples = 2344\\nvalue = [1866, 478]'),\n Text(0.48623853211009177, 0.6578947368421053, 'x[13] <= 0.5\\ngini = 0.281\\nsamples = 509\\nvalue = [423, 86]'),\n Text(0.44954128440366975, 0.6052631578947368, 'x[14] <= 0.5\\ngini = 0.289\\nsamples = 485\\nvalue = [400, 85]'),\n Text(0.43119266055045874, 0.5526315789473685, 'x[6] <= 0.5\\ngini = 0.292\\nsamples = 479\\nvalue = [394, 85]'),\n Text(0.41284403669724773, 0.5, 'x[8] <= 0.5\\ngini = 0.257\\nsamples = 112\\nvalue = [95, 17]'),\n Text(0.3944954128440367, 0.4473684210526316, 'gini = 0.0\\nsamples = 1\\nvalue = [1, 0]'),\n Text(0.43119266055045874, 0.4473684210526316, 'gini = 0.259\\nsamples = 111\\nvalue = [94, 17]'),\n Text(0.44954128440366975, 0.5, 'gini = 0.302\\nsamples = 367\\nvalue = [299, 68]'),\n Text(0.46788990825688076, 0.5526315789473685, 'gini = 0.0\\nsamples = 6\\nvalue = [6, 0]'),\n Text(0.5229357798165137, 0.6052631578947368, 'x[15] <= 0.5\\ngini = 0.08\\nsamples = 24\\nvalue = [23, 1]'),\n Text(0.5045871559633027, 0.5526315789473685, 'gini = 0.0\\nsamples = 17\\nvalue = [17, 0]'),\n Text(0.5412844036697247, 0.5526315789473685, 'gini = 0.245\\nsamples = 7\\nvalue = [6, 1]'),\n Text(0.6146788990825688, 0.6578947368421053, 'x[9] <= 0.5\\ngini = 0.336\\nsamples = 1835\\nvalue = [1443, 392]'),\n Text(0.5963302752293578, 0.6052631578947368, 'x[7] <= 0.5\\ngini = 0.375\\nsamples = 16\\nvalue = [12, 4]'),\n Text(0.5779816513761468, 0.5526315789473685, 'gini = 0.375\\nsamples = 4\\nvalue = [3, 1]'),\n Text(0.6146788990825688, 0.5526315789473685, 'gini = 0.375\\nsamples = 12\\nvalue = [9, 3]'),\n Text(0.6330275229357798, 0.6052631578947368, 'gini = 0.336\\nsamples = 1819\\nvalue = [1431, 388]'),\n Text(0.7247706422018348, 0.7631578947368421, 'x[7] <= 0.5\\ngini = 0.483\\nsamples = 71\\nvalue = [42, 29]'),\n Text(0.7064220183486238, 0.7105263157894737, 'x[6] <= 0.5\\ngini = 0.48\\nsamples = 70\\nvalue = [42, 28]'),\n Text(0.6880733944954128, 0.6578947368421053, 'x[4] <= 0.5\\ngini = 0.468\\nsamples = 59\\nvalue = [37, 22]'),\n Text(0.6697247706422018, 0.6052631578947368, 'x[24] <= 0.5\\ngini = 0.346\\nsamples = 9\\nvalue = [7, 2]'),\n Text(0.6513761467889908, 0.5526315789473685, 'gini = 0.0\\nsamples = 2\\nvalue = [2, 0]'),\n Text(0.6880733944954128, 0.5526315789473685, 'gini = 0.408\\nsamples = 7\\nvalue = [5, 2]'),\n Text(0.7064220183486238, 0.6052631578947368, 'gini = 0.48\\nsamples = 50\\nvalue = [30, 20]'),\n Text(0.7247706422018348, 0.6578947368421053, 'gini = 0.496\\nsamples = 11\\nvalue = [5, 6]'),\n Text(0.7431192660550459, 0.7105263157894737, 'gini = 0.0\\nsamples = 1\\nvalue = [0, 1]'),\n Text(0.7798165137614679, 0.8157894736842105, 'x[7] <= 0.5\\ngini = 0.028\\nsamples = 71\\nvalue = [70, 1]'),\n Text(0.7614678899082569, 0.7631578947368421, 'gini = 0.029\\nsamples = 69\\nvalue = [68, 1]'),\n Text(0.7981651376146789, 0.7631578947368421, 'gini = 0.0\\nsamples = 2\\nvalue = [2, 0]'),\n Text(0.8715596330275229, 0.868421052631579, 'x[7] <= 0.5\\ngini = 0.412\\nsamples = 1436\\nvalue = [1019, 417]'),\n Text(0.8532110091743119, 0.8157894736842105, 'x[22] <= 0.5\\ngini = 0.405\\nsamples = 1300\\nvalue = [934, 366]'),\n Text(0.8348623853211009, 0.7631578947368421, 'x[24] <= 0.5\\ngini = 0.405\\nsamples = 1297\\nvalue = [931, 366]'),\n Text(0.8165137614678899, 0.7105263157894737, 'x[8] <= 0.5\\ngini = 0.409\\nsamples = 1135\\nvalue = [809, 326]'),\n Text(0.7981651376146789, 0.6578947368421053, 'x[23] <= 0.5\\ngini = 0.41\\nsamples = 1133\\nvalue = [807, 326]'),\n Text(0.7798165137614679, 0.6052631578947368, 'x[9] <= 0.5\\ngini = 0.409\\nsamples = 1116\\nvalue = [796, 320]'),\n Text(0.7614678899082569, 0.5526315789473685, 'gini = 0.415\\nsamples = 17\\nvalue = [12, 5]'),\n Text(0.7981651376146789, 0.5526315789473685, 'gini = 0.409\\nsamples = 1099\\nvalue = [784, 315]'),\n Text(0.8165137614678899, 0.6052631578947368, 'gini = 0.457\\nsamples = 17\\nvalue = [11, 6]'),\n Text(0.8348623853211009, 0.6578947368421053, 'gini = 0.0\\nsamples = 2\\nvalue = [2, 0]'),\n Text(0.8532110091743119, 0.7105263157894737, 'gini = 0.372\\nsamples = 162\\nvalue = [122, 40]'),\n Text(0.8715596330275229, 0.7631578947368421, 'gini = 0.0\\nsamples = 3\\nvalue = [3, 0]'),\n Text(0.8899082568807339, 0.8157894736842105, 'gini = 0.469\\nsamples = 136\\nvalue = [85, 51]'),\n Text(0.963302752293578, 0.9210526315789473, 'x[4] <= 0.5\\ngini = 0.138\\nsamples = 629\\nvalue = [582, 47]'),\n Text(0.944954128440367, 0.868421052631579, 'x[9] <= 0.5\\ngini = 0.128\\nsamples = 526\\nvalue = [490, 36]'),\n Text(0.926605504587156, 0.8157894736842105, 'gini = 0.0\\nsamples = 22\\nvalue = [22, 0]'),\n Text(0.963302752293578, 0.8157894736842105, 'gini = 0.133\\nsamples = 504\\nvalue = [468, 36]'),\n Text(0.981651376146789, 0.868421052631579, 'gini = 0.191\\nsamples = 103\\nvalue = [92, 11]')]"
          },
          "execution_count": 90,
          "metadata": {},
          "output_type": "execute_result"
        },
        {
          "data": {
            "text/plain": "<Figure size 640x480 with 1 Axes>",
            "image/png": "[encoded data removed]"
          },
          "metadata": {},
          "output_type": "display_data"
        }
      ],
      "source": [
        "tree.plot_tree(dt_fit)"
      ],
      "metadata": {
        "id": "brSuOe8QgH_F",
        "outputId": "af3d7a1e-59a4-402a-b6bc-3f5608e80099"
      }
    },
    {
      "cell_type": "markdown",
      "source": [
        "# Logistic Regression\n"
      ],
      "metadata": {
        "id": "svWkXw8uFhx7"
      }
    },
    {
      "cell_type": "code",
      "source": [
        "# Training the Logistic Regression model on the Training set\n",
        "lr = LogisticRegression(random_state=42)\n",
        "lr_fit = lr.fit(X_train, y_train)\n",
        "# Predicting the Test set results\n",
        "lr_predict = lr_fit.predict(X_test)\n",
        "\n",
        "results_df.loc['Logistic Regression (Default)',:] = [f1_score(y_test,lr_predict, average='macro'), precision_score(y_test,lr_predict), recall_score(y_test,lr_predict),accuracy_score(y_test,lr_predict)]\n",
        "\n",
        "results_df.sort_values(by='F-score', ascending=False)"
      ],
      "metadata": {
        "colab": {
          "base_uri": "https://localhost:8080/",
          "height": 162
        },
        "id": "3Tl6v9TdFmrp",
        "outputId": "9fdd0e14-5b5e-4b0b-a67f-bdba2be4fca6"
      },
      "execution_count": null,
      "outputs": [
        {
          "name": "stderr",
          "output_type": "stream",
          "text": [
            "/Users/adambroniewski/CODE_Repositories/APM_BPI_2020/venv/lib/python3.10/site-packages/sklearn/metrics/_classification.py:1344: UndefinedMetricWarning: Precision is ill-defined and being set to 0.0 due to no predicted samples. Use `zero_division` parameter to control this behavior.\n",
            "  _warn_prf(average, modifier, msg_start, len(result))\n"
          ]
        },
        {
          "data": {
            "text/plain": "                                F-score Precision Recall  Accuracy\nDecision Tree (Default)        0.476087       0.0    0.0  0.908714\nLogistic Regression (Default)  0.476087       0.0    0.0  0.908714",
            "text/html": "<div>\n<style scoped>\n    .dataframe tbody tr th:only-of-type {\n        vertical-align: middle;\n    }\n\n    .dataframe tbody tr th {\n        vertical-align: top;\n    }\n\n    .dataframe thead th {\n        text-align: right;\n    }\n</style>\n<table border=\"1\" class=\"dataframe\">\n  <thead>\n    <tr style=\"text-align: right;\">\n      <th></th>\n      <th>F-score</th>\n      <th>Precision</th>\n      <th>Recall</th>\n      <th>Accuracy</th>\n    </tr>\n  </thead>\n  <tbody>\n    <tr>\n      <th>Decision Tree (Default)</th>\n      <td>0.476087</td>\n      <td>0.0</td>\n      <td>0.0</td>\n      <td>0.908714</td>\n    </tr>\n    <tr>\n      <th>Logistic Regression (Default)</th>\n      <td>0.476087</td>\n      <td>0.0</td>\n      <td>0.0</td>\n      <td>0.908714</td>\n    </tr>\n  </tbody>\n</table>\n</div>"
          },
          "execution_count": 22,
          "metadata": {},
          "output_type": "execute_result"
        }
      ]
    },
    {
      "cell_type": "code",
      "execution_count": null,
      "outputs": [
        {
          "name": "stderr",
          "output_type": "stream",
          "text": [
            "/Users/adambroniewski/CODE_Repositories/APM_BPI_2020/venv/lib/python3.10/site-packages/sklearn/linear_model/_logistic.py:458: ConvergenceWarning: lbfgs failed to converge (status=1):\n",
            "STOP: TOTAL NO. of ITERATIONS REACHED LIMIT.\n",
            "\n",
            "Increase the number of iterations (max_iter) or scale the data as shown in:\n",
            "    https://scikit-learn.org/stable/modules/preprocessing.html\n",
            "Please also refer to the documentation for alternative solver options:\n",
            "    https://scikit-learn.org/stable/modules/linear_model.html#logistic-regression\n",
            "  n_iter_i = _check_optimize_result(\n",
            "/Users/adambroniewski/CODE_Repositories/APM_BPI_2020/venv/lib/python3.10/site-packages/sklearn/linear_model/_logistic.py:458: ConvergenceWarning: lbfgs failed to converge (status=1):\n",
            "STOP: TOTAL NO. of ITERATIONS REACHED LIMIT.\n",
            "\n",
            "Increase the number of iterations (max_iter) or scale the data as shown in:\n",
            "    https://scikit-learn.org/stable/modules/preprocessing.html\n",
            "Please also refer to the documentation for alternative solver options:\n",
            "    https://scikit-learn.org/stable/modules/linear_model.html#logistic-regression\n",
            "  n_iter_i = _check_optimize_result(\n",
            "/Users/adambroniewski/CODE_Repositories/APM_BPI_2020/venv/lib/python3.10/site-packages/sklearn/linear_model/_logistic.py:458: ConvergenceWarning: lbfgs failed to converge (status=1):\n",
            "STOP: TOTAL NO. of ITERATIONS REACHED LIMIT.\n",
            "\n",
            "Increase the number of iterations (max_iter) or scale the data as shown in:\n",
            "    https://scikit-learn.org/stable/modules/preprocessing.html\n",
            "Please also refer to the documentation for alternative solver options:\n",
            "    https://scikit-learn.org/stable/modules/linear_model.html#logistic-regression\n",
            "  n_iter_i = _check_optimize_result(\n",
            "/Users/adambroniewski/CODE_Repositories/APM_BPI_2020/venv/lib/python3.10/site-packages/sklearn/linear_model/_logistic.py:458: ConvergenceWarning: lbfgs failed to converge (status=1):\n",
            "STOP: TOTAL NO. of ITERATIONS REACHED LIMIT.\n",
            "\n",
            "Increase the number of iterations (max_iter) or scale the data as shown in:\n",
            "    https://scikit-learn.org/stable/modules/preprocessing.html\n",
            "Please also refer to the documentation for alternative solver options:\n",
            "    https://scikit-learn.org/stable/modules/linear_model.html#logistic-regression\n",
            "  n_iter_i = _check_optimize_result(\n",
            "/Users/adambroniewski/CODE_Repositories/APM_BPI_2020/venv/lib/python3.10/site-packages/sklearn/linear_model/_logistic.py:458: ConvergenceWarning: lbfgs failed to converge (status=1):\n",
            "STOP: TOTAL NO. of ITERATIONS REACHED LIMIT.\n",
            "\n",
            "Increase the number of iterations (max_iter) or scale the data as shown in:\n",
            "    https://scikit-learn.org/stable/modules/preprocessing.html\n",
            "Please also refer to the documentation for alternative solver options:\n",
            "    https://scikit-learn.org/stable/modules/linear_model.html#logistic-regression\n",
            "  n_iter_i = _check_optimize_result(\n",
            "/Users/adambroniewski/CODE_Repositories/APM_BPI_2020/venv/lib/python3.10/site-packages/sklearn/linear_model/_sag.py:350: ConvergenceWarning: The max_iter was reached which means the coef_ did not converge\n",
            "  warnings.warn(\n",
            "/Users/adambroniewski/CODE_Repositories/APM_BPI_2020/venv/lib/python3.10/site-packages/sklearn/linear_model/_sag.py:350: ConvergenceWarning: The max_iter was reached which means the coef_ did not converge\n",
            "  warnings.warn(\n",
            "/Users/adambroniewski/CODE_Repositories/APM_BPI_2020/venv/lib/python3.10/site-packages/sklearn/linear_model/_sag.py:350: ConvergenceWarning: The max_iter was reached which means the coef_ did not converge\n",
            "  warnings.warn(\n",
            "/Users/adambroniewski/CODE_Repositories/APM_BPI_2020/venv/lib/python3.10/site-packages/sklearn/linear_model/_sag.py:350: ConvergenceWarning: The max_iter was reached which means the coef_ did not converge\n",
            "  warnings.warn(\n",
            "/Users/adambroniewski/CODE_Repositories/APM_BPI_2020/venv/lib/python3.10/site-packages/sklearn/linear_model/_sag.py:350: ConvergenceWarning: The max_iter was reached which means the coef_ did not converge\n",
            "  warnings.warn(\n",
            "/Users/adambroniewski/CODE_Repositories/APM_BPI_2020/venv/lib/python3.10/site-packages/sklearn/linear_model/_sag.py:350: ConvergenceWarning: The max_iter was reached which means the coef_ did not converge\n",
            "  warnings.warn(\n",
            "/Users/adambroniewski/CODE_Repositories/APM_BPI_2020/venv/lib/python3.10/site-packages/sklearn/linear_model/_sag.py:350: ConvergenceWarning: The max_iter was reached which means the coef_ did not converge\n",
            "  warnings.warn(\n",
            "/Users/adambroniewski/CODE_Repositories/APM_BPI_2020/venv/lib/python3.10/site-packages/sklearn/linear_model/_sag.py:350: ConvergenceWarning: The max_iter was reached which means the coef_ did not converge\n",
            "  warnings.warn(\n",
            "/Users/adambroniewski/CODE_Repositories/APM_BPI_2020/venv/lib/python3.10/site-packages/sklearn/linear_model/_logistic.py:458: ConvergenceWarning: lbfgs failed to converge (status=1):\n",
            "STOP: TOTAL NO. of ITERATIONS REACHED LIMIT.\n",
            "\n",
            "Increase the number of iterations (max_iter) or scale the data as shown in:\n",
            "    https://scikit-learn.org/stable/modules/preprocessing.html\n",
            "Please also refer to the documentation for alternative solver options:\n",
            "    https://scikit-learn.org/stable/modules/linear_model.html#logistic-regression\n",
            "  n_iter_i = _check_optimize_result(\n",
            "/Users/adambroniewski/CODE_Repositories/APM_BPI_2020/venv/lib/python3.10/site-packages/sklearn/linear_model/_sag.py:350: ConvergenceWarning: The max_iter was reached which means the coef_ did not converge\n",
            "  warnings.warn(\n",
            "/Users/adambroniewski/CODE_Repositories/APM_BPI_2020/venv/lib/python3.10/site-packages/sklearn/linear_model/_sag.py:350: ConvergenceWarning: The max_iter was reached which means the coef_ did not converge\n",
            "  warnings.warn(\n",
            "/Users/adambroniewski/CODE_Repositories/APM_BPI_2020/venv/lib/python3.10/site-packages/sklearn/linear_model/_logistic.py:458: ConvergenceWarning: lbfgs failed to converge (status=1):\n",
            "STOP: TOTAL NO. of ITERATIONS REACHED LIMIT.\n",
            "\n",
            "Increase the number of iterations (max_iter) or scale the data as shown in:\n",
            "    https://scikit-learn.org/stable/modules/preprocessing.html\n",
            "Please also refer to the documentation for alternative solver options:\n",
            "    https://scikit-learn.org/stable/modules/linear_model.html#logistic-regression\n",
            "  n_iter_i = _check_optimize_result(\n",
            "/Users/adambroniewski/CODE_Repositories/APM_BPI_2020/venv/lib/python3.10/site-packages/sklearn/linear_model/_logistic.py:458: ConvergenceWarning: lbfgs failed to converge (status=1):\n",
            "STOP: TOTAL NO. of ITERATIONS REACHED LIMIT.\n",
            "\n",
            "Increase the number of iterations (max_iter) or scale the data as shown in:\n",
            "    https://scikit-learn.org/stable/modules/preprocessing.html\n",
            "Please also refer to the documentation for alternative solver options:\n",
            "    https://scikit-learn.org/stable/modules/linear_model.html#logistic-regression\n",
            "  n_iter_i = _check_optimize_result(\n",
            "/Users/adambroniewski/CODE_Repositories/APM_BPI_2020/venv/lib/python3.10/site-packages/sklearn/linear_model/_logistic.py:458: ConvergenceWarning: lbfgs failed to converge (status=1):\n",
            "STOP: TOTAL NO. of ITERATIONS REACHED LIMIT.\n",
            "\n",
            "Increase the number of iterations (max_iter) or scale the data as shown in:\n",
            "    https://scikit-learn.org/stable/modules/preprocessing.html\n",
            "Please also refer to the documentation for alternative solver options:\n",
            "    https://scikit-learn.org/stable/modules/linear_model.html#logistic-regression\n",
            "  n_iter_i = _check_optimize_result(\n",
            "/Users/adambroniewski/CODE_Repositories/APM_BPI_2020/venv/lib/python3.10/site-packages/sklearn/linear_model/_logistic.py:458: ConvergenceWarning: lbfgs failed to converge (status=1):\n",
            "STOP: TOTAL NO. of ITERATIONS REACHED LIMIT.\n",
            "\n",
            "Increase the number of iterations (max_iter) or scale the data as shown in:\n",
            "    https://scikit-learn.org/stable/modules/preprocessing.html\n",
            "Please also refer to the documentation for alternative solver options:\n",
            "    https://scikit-learn.org/stable/modules/linear_model.html#logistic-regression\n",
            "  n_iter_i = _check_optimize_result(\n",
            "/Users/adambroniewski/CODE_Repositories/APM_BPI_2020/venv/lib/python3.10/site-packages/sklearn/linear_model/_sag.py:350: ConvergenceWarning: The max_iter was reached which means the coef_ did not converge\n",
            "  warnings.warn(\n",
            "/Users/adambroniewski/CODE_Repositories/APM_BPI_2020/venv/lib/python3.10/site-packages/sklearn/linear_model/_sag.py:350: ConvergenceWarning: The max_iter was reached which means the coef_ did not converge\n",
            "  warnings.warn(\n",
            "/Users/adambroniewski/CODE_Repositories/APM_BPI_2020/venv/lib/python3.10/site-packages/sklearn/linear_model/_sag.py:350: ConvergenceWarning: The max_iter was reached which means the coef_ did not converge\n",
            "  warnings.warn(\n",
            "/Users/adambroniewski/CODE_Repositories/APM_BPI_2020/venv/lib/python3.10/site-packages/sklearn/linear_model/_logistic.py:458: ConvergenceWarning: lbfgs failed to converge (status=1):\n",
            "STOP: TOTAL NO. of ITERATIONS REACHED LIMIT.\n",
            "\n",
            "Increase the number of iterations (max_iter) or scale the data as shown in:\n",
            "    https://scikit-learn.org/stable/modules/preprocessing.html\n",
            "Please also refer to the documentation for alternative solver options:\n",
            "    https://scikit-learn.org/stable/modules/linear_model.html#logistic-regression\n",
            "  n_iter_i = _check_optimize_result(\n",
            "/Users/adambroniewski/CODE_Repositories/APM_BPI_2020/venv/lib/python3.10/site-packages/sklearn/linear_model/_sag.py:350: ConvergenceWarning: The max_iter was reached which means the coef_ did not converge\n",
            "  warnings.warn(\n",
            "/Users/adambroniewski/CODE_Repositories/APM_BPI_2020/venv/lib/python3.10/site-packages/sklearn/linear_model/_sag.py:350: ConvergenceWarning: The max_iter was reached which means the coef_ did not converge\n",
            "  warnings.warn(\n",
            "/Users/adambroniewski/CODE_Repositories/APM_BPI_2020/venv/lib/python3.10/site-packages/sklearn/linear_model/_sag.py:350: ConvergenceWarning: The max_iter was reached which means the coef_ did not converge\n",
            "  warnings.warn(\n",
            "/Users/adambroniewski/CODE_Repositories/APM_BPI_2020/venv/lib/python3.10/site-packages/sklearn/linear_model/_sag.py:350: ConvergenceWarning: The max_iter was reached which means the coef_ did not converge\n",
            "  warnings.warn(\n",
            "/Users/adambroniewski/CODE_Repositories/APM_BPI_2020/venv/lib/python3.10/site-packages/sklearn/linear_model/_sag.py:350: ConvergenceWarning: The max_iter was reached which means the coef_ did not converge\n",
            "  warnings.warn(\n",
            "/Users/adambroniewski/CODE_Repositories/APM_BPI_2020/venv/lib/python3.10/site-packages/sklearn/linear_model/_sag.py:350: ConvergenceWarning: The max_iter was reached which means the coef_ did not converge\n",
            "  warnings.warn(\n",
            "/Users/adambroniewski/CODE_Repositories/APM_BPI_2020/venv/lib/python3.10/site-packages/sklearn/linear_model/_sag.py:350: ConvergenceWarning: The max_iter was reached which means the coef_ did not converge\n",
            "  warnings.warn(\n",
            "/Users/adambroniewski/CODE_Repositories/APM_BPI_2020/venv/lib/python3.10/site-packages/sklearn/linear_model/_sag.py:350: ConvergenceWarning: The max_iter was reached which means the coef_ did not converge\n",
            "  warnings.warn(\n",
            "/Users/adambroniewski/CODE_Repositories/APM_BPI_2020/venv/lib/python3.10/site-packages/sklearn/linear_model/_logistic.py:458: ConvergenceWarning: lbfgs failed to converge (status=1):\n",
            "STOP: TOTAL NO. of ITERATIONS REACHED LIMIT.\n",
            "\n",
            "Increase the number of iterations (max_iter) or scale the data as shown in:\n",
            "    https://scikit-learn.org/stable/modules/preprocessing.html\n",
            "Please also refer to the documentation for alternative solver options:\n",
            "    https://scikit-learn.org/stable/modules/linear_model.html#logistic-regression\n",
            "  n_iter_i = _check_optimize_result(\n",
            "/Users/adambroniewski/CODE_Repositories/APM_BPI_2020/venv/lib/python3.10/site-packages/sklearn/linear_model/_logistic.py:458: ConvergenceWarning: lbfgs failed to converge (status=1):\n",
            "STOP: TOTAL NO. of ITERATIONS REACHED LIMIT.\n",
            "\n",
            "Increase the number of iterations (max_iter) or scale the data as shown in:\n",
            "    https://scikit-learn.org/stable/modules/preprocessing.html\n",
            "Please also refer to the documentation for alternative solver options:\n",
            "    https://scikit-learn.org/stable/modules/linear_model.html#logistic-regression\n",
            "  n_iter_i = _check_optimize_result(\n",
            "/Users/adambroniewski/CODE_Repositories/APM_BPI_2020/venv/lib/python3.10/site-packages/sklearn/linear_model/_logistic.py:458: ConvergenceWarning: lbfgs failed to converge (status=1):\n",
            "STOP: TOTAL NO. of ITERATIONS REACHED LIMIT.\n",
            "\n",
            "Increase the number of iterations (max_iter) or scale the data as shown in:\n",
            "    https://scikit-learn.org/stable/modules/preprocessing.html\n",
            "Please also refer to the documentation for alternative solver options:\n",
            "    https://scikit-learn.org/stable/modules/linear_model.html#logistic-regression\n",
            "  n_iter_i = _check_optimize_result(\n",
            "/Users/adambroniewski/CODE_Repositories/APM_BPI_2020/venv/lib/python3.10/site-packages/sklearn/linear_model/_logistic.py:458: ConvergenceWarning: lbfgs failed to converge (status=1):\n",
            "STOP: TOTAL NO. of ITERATIONS REACHED LIMIT.\n",
            "\n",
            "Increase the number of iterations (max_iter) or scale the data as shown in:\n",
            "    https://scikit-learn.org/stable/modules/preprocessing.html\n",
            "Please also refer to the documentation for alternative solver options:\n",
            "    https://scikit-learn.org/stable/modules/linear_model.html#logistic-regression\n",
            "  n_iter_i = _check_optimize_result(\n",
            "/Users/adambroniewski/CODE_Repositories/APM_BPI_2020/venv/lib/python3.10/site-packages/sklearn/linear_model/_logistic.py:458: ConvergenceWarning: lbfgs failed to converge (status=1):\n",
            "STOP: TOTAL NO. of ITERATIONS REACHED LIMIT.\n",
            "\n",
            "Increase the number of iterations (max_iter) or scale the data as shown in:\n",
            "    https://scikit-learn.org/stable/modules/preprocessing.html\n",
            "Please also refer to the documentation for alternative solver options:\n",
            "    https://scikit-learn.org/stable/modules/linear_model.html#logistic-regression\n",
            "  n_iter_i = _check_optimize_result(\n",
            "/Users/adambroniewski/CODE_Repositories/APM_BPI_2020/venv/lib/python3.10/site-packages/sklearn/linear_model/_sag.py:350: ConvergenceWarning: The max_iter was reached which means the coef_ did not converge\n",
            "  warnings.warn(\n",
            "/Users/adambroniewski/CODE_Repositories/APM_BPI_2020/venv/lib/python3.10/site-packages/sklearn/linear_model/_sag.py:350: ConvergenceWarning: The max_iter was reached which means the coef_ did not converge\n",
            "  warnings.warn(\n",
            "/Users/adambroniewski/CODE_Repositories/APM_BPI_2020/venv/lib/python3.10/site-packages/sklearn/linear_model/_sag.py:350: ConvergenceWarning: The max_iter was reached which means the coef_ did not converge\n",
            "  warnings.warn(\n",
            "/Users/adambroniewski/CODE_Repositories/APM_BPI_2020/venv/lib/python3.10/site-packages/sklearn/linear_model/_logistic.py:458: ConvergenceWarning: lbfgs failed to converge (status=1):\n",
            "STOP: TOTAL NO. of ITERATIONS REACHED LIMIT.\n",
            "\n",
            "Increase the number of iterations (max_iter) or scale the data as shown in:\n",
            "    https://scikit-learn.org/stable/modules/preprocessing.html\n",
            "Please also refer to the documentation for alternative solver options:\n",
            "    https://scikit-learn.org/stable/modules/linear_model.html#logistic-regression\n",
            "  n_iter_i = _check_optimize_result(\n",
            "/Users/adambroniewski/CODE_Repositories/APM_BPI_2020/venv/lib/python3.10/site-packages/sklearn/linear_model/_logistic.py:458: ConvergenceWarning: lbfgs failed to converge (status=1):\n",
            "STOP: TOTAL NO. of ITERATIONS REACHED LIMIT.\n",
            "\n",
            "Increase the number of iterations (max_iter) or scale the data as shown in:\n",
            "    https://scikit-learn.org/stable/modules/preprocessing.html\n",
            "Please also refer to the documentation for alternative solver options:\n",
            "    https://scikit-learn.org/stable/modules/linear_model.html#logistic-regression\n",
            "  n_iter_i = _check_optimize_result(\n",
            "/Users/adambroniewski/CODE_Repositories/APM_BPI_2020/venv/lib/python3.10/site-packages/sklearn/linear_model/_sag.py:350: ConvergenceWarning: The max_iter was reached which means the coef_ did not converge\n",
            "  warnings.warn(\n",
            "/Users/adambroniewski/CODE_Repositories/APM_BPI_2020/venv/lib/python3.10/site-packages/sklearn/linear_model/_sag.py:350: ConvergenceWarning: The max_iter was reached which means the coef_ did not converge\n",
            "  warnings.warn(\n",
            "/Users/adambroniewski/CODE_Repositories/APM_BPI_2020/venv/lib/python3.10/site-packages/sklearn/linear_model/_logistic.py:458: ConvergenceWarning: lbfgs failed to converge (status=1):\n",
            "STOP: TOTAL NO. of ITERATIONS REACHED LIMIT.\n",
            "\n",
            "Increase the number of iterations (max_iter) or scale the data as shown in:\n",
            "    https://scikit-learn.org/stable/modules/preprocessing.html\n",
            "Please also refer to the documentation for alternative solver options:\n",
            "    https://scikit-learn.org/stable/modules/linear_model.html#logistic-regression\n",
            "  n_iter_i = _check_optimize_result(\n",
            "/Users/adambroniewski/CODE_Repositories/APM_BPI_2020/venv/lib/python3.10/site-packages/sklearn/linear_model/_logistic.py:458: ConvergenceWarning: lbfgs failed to converge (status=1):\n",
            "STOP: TOTAL NO. of ITERATIONS REACHED LIMIT.\n",
            "\n",
            "Increase the number of iterations (max_iter) or scale the data as shown in:\n",
            "    https://scikit-learn.org/stable/modules/preprocessing.html\n",
            "Please also refer to the documentation for alternative solver options:\n",
            "    https://scikit-learn.org/stable/modules/linear_model.html#logistic-regression\n",
            "  n_iter_i = _check_optimize_result(\n",
            "/Users/adambroniewski/CODE_Repositories/APM_BPI_2020/venv/lib/python3.10/site-packages/sklearn/linear_model/_sag.py:350: ConvergenceWarning: The max_iter was reached which means the coef_ did not converge\n",
            "  warnings.warn(\n",
            "/Users/adambroniewski/CODE_Repositories/APM_BPI_2020/venv/lib/python3.10/site-packages/sklearn/linear_model/_sag.py:350: ConvergenceWarning: The max_iter was reached which means the coef_ did not converge\n",
            "  warnings.warn(\n",
            "/Users/adambroniewski/CODE_Repositories/APM_BPI_2020/venv/lib/python3.10/site-packages/sklearn/linear_model/_logistic.py:458: ConvergenceWarning: lbfgs failed to converge (status=1):\n",
            "STOP: TOTAL NO. of ITERATIONS REACHED LIMIT.\n",
            "\n",
            "Increase the number of iterations (max_iter) or scale the data as shown in:\n",
            "    https://scikit-learn.org/stable/modules/preprocessing.html\n",
            "Please also refer to the documentation for alternative solver options:\n",
            "    https://scikit-learn.org/stable/modules/linear_model.html#logistic-regression\n",
            "  n_iter_i = _check_optimize_result(\n",
            "/Users/adambroniewski/CODE_Repositories/APM_BPI_2020/venv/lib/python3.10/site-packages/sklearn/linear_model/_sag.py:350: ConvergenceWarning: The max_iter was reached which means the coef_ did not converge\n",
            "  warnings.warn(\n",
            "/Users/adambroniewski/CODE_Repositories/APM_BPI_2020/venv/lib/python3.10/site-packages/sklearn/linear_model/_sag.py:350: ConvergenceWarning: The max_iter was reached which means the coef_ did not converge\n",
            "  warnings.warn(\n",
            "/Users/adambroniewski/CODE_Repositories/APM_BPI_2020/venv/lib/python3.10/site-packages/sklearn/linear_model/_sag.py:350: ConvergenceWarning: The max_iter was reached which means the coef_ did not converge\n",
            "  warnings.warn(\n",
            "/Users/adambroniewski/CODE_Repositories/APM_BPI_2020/venv/lib/python3.10/site-packages/sklearn/linear_model/_sag.py:350: ConvergenceWarning: The max_iter was reached which means the coef_ did not converge\n",
            "  warnings.warn(\n",
            "/Users/adambroniewski/CODE_Repositories/APM_BPI_2020/venv/lib/python3.10/site-packages/sklearn/linear_model/_sag.py:350: ConvergenceWarning: The max_iter was reached which means the coef_ did not converge\n",
            "  warnings.warn(\n",
            "/Users/adambroniewski/CODE_Repositories/APM_BPI_2020/venv/lib/python3.10/site-packages/sklearn/linear_model/_sag.py:350: ConvergenceWarning: The max_iter was reached which means the coef_ did not converge\n",
            "  warnings.warn(\n",
            "/Users/adambroniewski/CODE_Repositories/APM_BPI_2020/venv/lib/python3.10/site-packages/sklearn/linear_model/_sag.py:350: ConvergenceWarning: The max_iter was reached which means the coef_ did not converge\n",
            "  warnings.warn(\n",
            "/Users/adambroniewski/CODE_Repositories/APM_BPI_2020/venv/lib/python3.10/site-packages/sklearn/linear_model/_sag.py:350: ConvergenceWarning: The max_iter was reached which means the coef_ did not converge\n",
            "  warnings.warn(\n",
            "/Users/adambroniewski/CODE_Repositories/APM_BPI_2020/venv/lib/python3.10/site-packages/sklearn/linear_model/_logistic.py:458: ConvergenceWarning: lbfgs failed to converge (status=1):\n",
            "STOP: TOTAL NO. of ITERATIONS REACHED LIMIT.\n",
            "\n",
            "Increase the number of iterations (max_iter) or scale the data as shown in:\n",
            "    https://scikit-learn.org/stable/modules/preprocessing.html\n",
            "Please also refer to the documentation for alternative solver options:\n",
            "    https://scikit-learn.org/stable/modules/linear_model.html#logistic-regression\n",
            "  n_iter_i = _check_optimize_result(\n",
            "/Users/adambroniewski/CODE_Repositories/APM_BPI_2020/venv/lib/python3.10/site-packages/sklearn/model_selection/_validation.py:378: FitFailedWarning: \n",
            "750 fits failed out of a total of 1500.\n",
            "The score on these train-test partitions for these parameters will be set to 0.\n",
            "If these failures are not expected, you can try to debug them by setting error_score='raise'.\n",
            "\n",
            "Below are more details about the failures:\n",
            "--------------------------------------------------------------------------------\n",
            "110 fits failed with the following error:\n",
            "Traceback (most recent call last):\n",
            "  File \"/Users/adambroniewski/CODE_Repositories/APM_BPI_2020/venv/lib/python3.10/site-packages/sklearn/model_selection/_validation.py\", line 686, in _fit_and_score\n",
            "    estimator.fit(X_train, y_train, **fit_params)\n",
            "  File \"/Users/adambroniewski/CODE_Repositories/APM_BPI_2020/venv/lib/python3.10/site-packages/sklearn/linear_model/_logistic.py\", line 1160, in fit\n",
            "    self._validate_params()\n",
            "  File \"/Users/adambroniewski/CODE_Repositories/APM_BPI_2020/venv/lib/python3.10/site-packages/sklearn/base.py\", line 570, in _validate_params\n",
            "    validate_parameter_constraints(\n",
            "  File \"/Users/adambroniewski/CODE_Repositories/APM_BPI_2020/venv/lib/python3.10/site-packages/sklearn/utils/_param_validation.py\", line 97, in validate_parameter_constraints\n",
            "    raise InvalidParameterError(\n",
            "sklearn.utils._param_validation.InvalidParameterError: The 'penalty' parameter of LogisticRegression must be a str among {'l2', 'elasticnet', 'l1', 'none' (deprecated)} or None. Got 'None' instead.\n",
            "\n",
            "--------------------------------------------------------------------------------\n",
            "133 fits failed with the following error:\n",
            "Traceback (most recent call last):\n",
            "  File \"/Users/adambroniewski/CODE_Repositories/APM_BPI_2020/venv/lib/python3.10/site-packages/sklearn/model_selection/_validation.py\", line 686, in _fit_and_score\n",
            "    estimator.fit(X_train, y_train, **fit_params)\n",
            "  File \"/Users/adambroniewski/CODE_Repositories/APM_BPI_2020/venv/lib/python3.10/site-packages/sklearn/linear_model/_logistic.py\", line 1160, in fit\n",
            "    self._validate_params()\n",
            "  File \"/Users/adambroniewski/CODE_Repositories/APM_BPI_2020/venv/lib/python3.10/site-packages/sklearn/base.py\", line 570, in _validate_params\n",
            "    validate_parameter_constraints(\n",
            "  File \"/Users/adambroniewski/CODE_Repositories/APM_BPI_2020/venv/lib/python3.10/site-packages/sklearn/utils/_param_validation.py\", line 97, in validate_parameter_constraints\n",
            "    raise InvalidParameterError(\n",
            "sklearn.utils._param_validation.InvalidParameterError: The 'penalty' parameter of LogisticRegression must be a str among {'elasticnet', 'none' (deprecated), 'l1', 'l2'} or None. Got 'None' instead.\n",
            "\n",
            "--------------------------------------------------------------------------------\n",
            "120 fits failed with the following error:\n",
            "Traceback (most recent call last):\n",
            "  File \"/Users/adambroniewski/CODE_Repositories/APM_BPI_2020/venv/lib/python3.10/site-packages/sklearn/model_selection/_validation.py\", line 686, in _fit_and_score\n",
            "    estimator.fit(X_train, y_train, **fit_params)\n",
            "  File \"/Users/adambroniewski/CODE_Repositories/APM_BPI_2020/venv/lib/python3.10/site-packages/sklearn/linear_model/_logistic.py\", line 1160, in fit\n",
            "    self._validate_params()\n",
            "  File \"/Users/adambroniewski/CODE_Repositories/APM_BPI_2020/venv/lib/python3.10/site-packages/sklearn/base.py\", line 570, in _validate_params\n",
            "    validate_parameter_constraints(\n",
            "  File \"/Users/adambroniewski/CODE_Repositories/APM_BPI_2020/venv/lib/python3.10/site-packages/sklearn/utils/_param_validation.py\", line 97, in validate_parameter_constraints\n",
            "    raise InvalidParameterError(\n",
            "sklearn.utils._param_validation.InvalidParameterError: The 'penalty' parameter of LogisticRegression must be a str among {'elasticnet', 'l2', 'l1', 'none' (deprecated)} or None. Got 'None' instead.\n",
            "\n",
            "--------------------------------------------------------------------------------\n",
            "128 fits failed with the following error:\n",
            "Traceback (most recent call last):\n",
            "  File \"/Users/adambroniewski/CODE_Repositories/APM_BPI_2020/venv/lib/python3.10/site-packages/sklearn/model_selection/_validation.py\", line 686, in _fit_and_score\n",
            "    estimator.fit(X_train, y_train, **fit_params)\n",
            "  File \"/Users/adambroniewski/CODE_Repositories/APM_BPI_2020/venv/lib/python3.10/site-packages/sklearn/linear_model/_logistic.py\", line 1160, in fit\n",
            "    self._validate_params()\n",
            "  File \"/Users/adambroniewski/CODE_Repositories/APM_BPI_2020/venv/lib/python3.10/site-packages/sklearn/base.py\", line 570, in _validate_params\n",
            "    validate_parameter_constraints(\n",
            "  File \"/Users/adambroniewski/CODE_Repositories/APM_BPI_2020/venv/lib/python3.10/site-packages/sklearn/utils/_param_validation.py\", line 97, in validate_parameter_constraints\n",
            "    raise InvalidParameterError(\n",
            "sklearn.utils._param_validation.InvalidParameterError: The 'penalty' parameter of LogisticRegression must be a str among {'none' (deprecated), 'l2', 'elasticnet', 'l1'} or None. Got 'None' instead.\n",
            "\n",
            "--------------------------------------------------------------------------------\n",
            "47 fits failed with the following error:\n",
            "Traceback (most recent call last):\n",
            "  File \"/Users/adambroniewski/CODE_Repositories/APM_BPI_2020/venv/lib/python3.10/site-packages/sklearn/model_selection/_validation.py\", line 686, in _fit_and_score\n",
            "    estimator.fit(X_train, y_train, **fit_params)\n",
            "  File \"/Users/adambroniewski/CODE_Repositories/APM_BPI_2020/venv/lib/python3.10/site-packages/sklearn/linear_model/_logistic.py\", line 1160, in fit\n",
            "    self._validate_params()\n",
            "  File \"/Users/adambroniewski/CODE_Repositories/APM_BPI_2020/venv/lib/python3.10/site-packages/sklearn/base.py\", line 570, in _validate_params\n",
            "    validate_parameter_constraints(\n",
            "  File \"/Users/adambroniewski/CODE_Repositories/APM_BPI_2020/venv/lib/python3.10/site-packages/sklearn/utils/_param_validation.py\", line 97, in validate_parameter_constraints\n",
            "    raise InvalidParameterError(\n",
            "sklearn.utils._param_validation.InvalidParameterError: The 'penalty' parameter of LogisticRegression must be a str among {'l2', 'elasticnet', 'none' (deprecated), 'l1'} or None. Got 'None' instead.\n",
            "\n",
            "--------------------------------------------------------------------------------\n",
            "105 fits failed with the following error:\n",
            "Traceback (most recent call last):\n",
            "  File \"/Users/adambroniewski/CODE_Repositories/APM_BPI_2020/venv/lib/python3.10/site-packages/sklearn/model_selection/_validation.py\", line 686, in _fit_and_score\n",
            "    estimator.fit(X_train, y_train, **fit_params)\n",
            "  File \"/Users/adambroniewski/CODE_Repositories/APM_BPI_2020/venv/lib/python3.10/site-packages/sklearn/linear_model/_logistic.py\", line 1160, in fit\n",
            "    self._validate_params()\n",
            "  File \"/Users/adambroniewski/CODE_Repositories/APM_BPI_2020/venv/lib/python3.10/site-packages/sklearn/base.py\", line 570, in _validate_params\n",
            "    validate_parameter_constraints(\n",
            "  File \"/Users/adambroniewski/CODE_Repositories/APM_BPI_2020/venv/lib/python3.10/site-packages/sklearn/utils/_param_validation.py\", line 97, in validate_parameter_constraints\n",
            "    raise InvalidParameterError(\n",
            "sklearn.utils._param_validation.InvalidParameterError: The 'penalty' parameter of LogisticRegression must be a str among {'l1', 'elasticnet', 'l2', 'none' (deprecated)} or None. Got 'None' instead.\n",
            "\n",
            "--------------------------------------------------------------------------------\n",
            "107 fits failed with the following error:\n",
            "Traceback (most recent call last):\n",
            "  File \"/Users/adambroniewski/CODE_Repositories/APM_BPI_2020/venv/lib/python3.10/site-packages/sklearn/model_selection/_validation.py\", line 686, in _fit_and_score\n",
            "    estimator.fit(X_train, y_train, **fit_params)\n",
            "  File \"/Users/adambroniewski/CODE_Repositories/APM_BPI_2020/venv/lib/python3.10/site-packages/sklearn/linear_model/_logistic.py\", line 1160, in fit\n",
            "    self._validate_params()\n",
            "  File \"/Users/adambroniewski/CODE_Repositories/APM_BPI_2020/venv/lib/python3.10/site-packages/sklearn/base.py\", line 570, in _validate_params\n",
            "    validate_parameter_constraints(\n",
            "  File \"/Users/adambroniewski/CODE_Repositories/APM_BPI_2020/venv/lib/python3.10/site-packages/sklearn/utils/_param_validation.py\", line 97, in validate_parameter_constraints\n",
            "    raise InvalidParameterError(\n",
            "sklearn.utils._param_validation.InvalidParameterError: The 'penalty' parameter of LogisticRegression must be a str among {'none' (deprecated), 'elasticnet', 'l2', 'l1'} or None. Got 'None' instead.\n",
            "\n",
            "  warnings.warn(some_fits_failed_message, FitFailedWarning)\n",
            "/Users/adambroniewski/CODE_Repositories/APM_BPI_2020/venv/lib/python3.10/site-packages/sklearn/metrics/_classification.py:1344: UndefinedMetricWarning: Precision is ill-defined and being set to 0.0 in labels with no predicted samples. Use `zero_division` parameter to control this behavior.\n",
            "  _warn_prf(average, modifier, msg_start, len(result))\n",
            "/Users/adambroniewski/CODE_Repositories/APM_BPI_2020/venv/lib/python3.10/site-packages/sklearn/metrics/_classification.py:1344: UndefinedMetricWarning: Precision is ill-defined and being set to 0.0 in labels with no predicted samples. Use `zero_division` parameter to control this behavior.\n",
            "  _warn_prf(average, modifier, msg_start, len(result))\n",
            "/Users/adambroniewski/CODE_Repositories/APM_BPI_2020/venv/lib/python3.10/site-packages/sklearn/metrics/_classification.py:1344: UndefinedMetricWarning: Precision is ill-defined and being set to 0.0 in labels with no predicted samples. Use `zero_division` parameter to control this behavior.\n",
            "  _warn_prf(average, modifier, msg_start, len(result))\n",
            "/Users/adambroniewski/CODE_Repositories/APM_BPI_2020/venv/lib/python3.10/site-packages/sklearn/metrics/_classification.py:1344: UndefinedMetricWarning: Precision is ill-defined and being set to 0.0 in labels with no predicted samples. Use `zero_division` parameter to control this behavior.\n",
            "  _warn_prf(average, modifier, msg_start, len(result))\n",
            "/Users/adambroniewski/CODE_Repositories/APM_BPI_2020/venv/lib/python3.10/site-packages/sklearn/metrics/_classification.py:1344: UndefinedMetricWarning: Precision is ill-defined and being set to 0.0 in labels with no predicted samples. Use `zero_division` parameter to control this behavior.\n",
            "  _warn_prf(average, modifier, msg_start, len(result))\n"
          ]
        },
        {
          "data": {
            "text/plain": "                                       F-score Precision Recall  Accuracy\nDecision Tree (Default)               0.476087       0.0    0.0  0.908714\nLogistic Regression (Default)         0.476087       0.0    0.0  0.908714\nLogistic Regression (Grid CV Tuning)  0.438209  0.390011    0.5  0.780022",
            "text/html": "<div>\n<style scoped>\n    .dataframe tbody tr th:only-of-type {\n        vertical-align: middle;\n    }\n\n    .dataframe tbody tr th {\n        vertical-align: top;\n    }\n\n    .dataframe thead th {\n        text-align: right;\n    }\n</style>\n<table border=\"1\" class=\"dataframe\">\n  <thead>\n    <tr style=\"text-align: right;\">\n      <th></th>\n      <th>F-score</th>\n      <th>Precision</th>\n      <th>Recall</th>\n      <th>Accuracy</th>\n    </tr>\n  </thead>\n  <tbody>\n    <tr>\n      <th>Decision Tree (Default)</th>\n      <td>0.476087</td>\n      <td>0.0</td>\n      <td>0.0</td>\n      <td>0.908714</td>\n    </tr>\n    <tr>\n      <th>Logistic Regression (Default)</th>\n      <td>0.476087</td>\n      <td>0.0</td>\n      <td>0.0</td>\n      <td>0.908714</td>\n    </tr>\n    <tr>\n      <th>Logistic Regression (Grid CV Tuning)</th>\n      <td>0.438209</td>\n      <td>0.390011</td>\n      <td>0.5</td>\n      <td>0.780022</td>\n    </tr>\n  </tbody>\n</table>\n</div>"
          },
          "execution_count": 23,
          "metadata": {},
          "output_type": "execute_result"
        }
      ],
      "source": [
        "solvers = ['lbfgs','newton-cg','liblinear','sag','saga']\n",
        "penalty = ['l2', 'None']\n",
        "c_values = [100, 10, 1.0, 0.1, 0.01]\n",
        "max_iteration= [100, 200, 500, 1000, 2000, 5000]\n",
        "# define grid search\n",
        "grid = dict(solver=solvers,penalty=penalty,C=c_values,max_iter=max_iteration)\n",
        "\n",
        "lr_grid = GridSearchCV(estimator=lr, param_grid=grid, n_jobs=-1, scoring='accuracy',error_score=0)\n",
        "lr_grid_fit = lr_grid.fit(X_train, y_train)\n",
        "\n",
        "cross_val_results = pd.DataFrame(cross_validate(lr_grid.best_estimator_, X_train, y_train, scoring = [ 'f1_macro', 'precision_macro', 'recall_macro', 'accuracy'] ))\n",
        "\n",
        "results_df.loc['Logistic Regression (Grid CV Tuning)',:] = cross_val_results[['test_f1_macro',\n",
        "       'test_precision_macro', 'test_recall_macro','test_accuracy']].mean().values\n",
        "\n",
        "results_df.sort_values(by='F-score', ascending=False)"
      ],
      "metadata": {
        "id": "CDim0GMggH_G",
        "outputId": "6a75d146-d82b-449d-a27d-b11e40c7a6aa"
      }
    },
    {
      "cell_type": "code",
      "source": [
        "import seaborn as sns\n",
        "\n",
        "# Create a data frame with the evaluation metrics\n",
        "df = pd.DataFrame({'Model': ['Decision Tree', 'Logistic Regression (Default)', 'Logistic Regression (Grid CV Tuning)'],\n",
        "                   'F-score': [0.476087, 0.476087, 0.438209],\n",
        "                   'Precision': [0.0, 0.0, 0.390011],\n",
        "                   'Recall': [0.0, 0.0, 0.5],\n",
        "                   'Accuracy': [0.908714, 0.908714, 0.780022]})\n"
      ],
      "metadata": {
        "id": "mCSOYGNfgXYu"
      },
      "execution_count": 47,
      "outputs": []
    },
    {
      "cell_type": "code",
      "source": [
        "# Create the figure with subplots\n",
        "fig, ax  = plt.subplots(2,2,figsize=(15,15))\n",
        "\n",
        "# Plot the first bar plot\n",
        "sns.barplot(x='Model', y='F-score', data=df, ax=ax[0,0])\n",
        "\n",
        "# Set the axis label for the first subplot\n",
        "ax[0,0].set_xlabel(\"Model\")\n",
        "ax[0,0].set_ylabel(\"F-score\")\n",
        "\n",
        "# Rotate the x-axis labels\n",
        "ax[0,0].set_xticklabels(ax[0,0].get_xticklabels(), rotation=45)\n",
        "\n",
        "\n",
        "# Add a title to the first subplot\n",
        "ax[0,0].set_title(\"F-score\")\n",
        "\n",
        "# Plot the second bar plot\n",
        "sns.barplot(x='Model', y='Precision', data=df, ax=ax[0,1])\n",
        "\n",
        "# Set the axis label for the second subplot\n",
        "ax[0,1].set_xlabel(\"Model\")\n",
        "ax[0,1].set_ylabel(\"Precision\")\n",
        "\n",
        "# Rotate the x-axis labels\n",
        "ax[0,1].set_xticklabels(ax[0,0].get_xticklabels(), rotation=45)\n",
        "\n",
        "# Add a title to the second subplot\n",
        "ax[0,1].set_title(\"Precision\")\n",
        "\n",
        "# Plot the third bar plot\n",
        "sns.barplot(x='Model', y='Recall', data=df, ax=ax[1,0])\n",
        "\n",
        "# Set the axis label for the third subplot\n",
        "ax[1,0].set_xlabel(\"Model\")\n",
        "ax[1,0].set_ylabel(\"Recall\")\n",
        "\n",
        "# Rotate the x-axis labels\n",
        "ax[1,0].set_xticklabels(ax[0,0].get_xticklabels(), rotation=45)\n",
        "\n",
        "# Add a title to the third subplot\n",
        "ax[1,0].set_title(\"Recall\")\n",
        "\n",
        "# Plot the fourth bar plot\n",
        "sns.barplot(x='Model', y='Accuracy', data=df, ax=ax[1,1])\n",
        "\n",
        "# Set the axis label for the fourth subplot\n",
        "ax[1,1].set_xlabel(\"Model\")\n",
        "ax[1,1].set_ylabel(\"Accuracy\")\n",
        "\n",
        "# Rotate the x-axis labels\n",
        "ax[1,1].set_xticklabels(ax[0,0].get_xticklabels(), rotation=45)\n",
        "\n",
        "# Add a title to the fourth subplot\n",
        "ax[1,1].set_title(\"Accuracy\")\n",
        "\n"
      ],
      "metadata": {
        "id": "bwHGfDPGoX0u",
        "outputId": "d5401c5b-bfbb-46ee-b437-db9acf0c0521",
        "colab": {
          "base_uri": "https://localhost:8080/",
          "height": 1000
        }
      },
      "execution_count": 53,
      "outputs": [
        {
          "output_type": "execute_result",
          "data": {
            "text/plain": [
              "Text(0.5, 1.0, 'Accuracy')"
            ]
          },
          "metadata": {},
          "execution_count": 53
        },
        {
          "output_type": "display_data",
          "data": {
            "text/plain": [
              "<Figure size 1080x1080 with 4 Axes>"
            ],
            "image/png": "[encoded data removed]"
          },
          "metadata": {
            "needs_background": "light"
          }
        }
      ]
    },
    {
      "cell_type": "markdown",
      "source": [
        "# Random Forest Classifier"
      ],
      "metadata": {
        "id": "J4lEF8uIHh80"
      }
    },
    {
      "cell_type": "code",
      "source": [
        "rf = RandomForestClassifier()\n",
        "n_estimators = [1,5,10,40,100,200,500,1000,2000,5000]\n",
        "max_features = ['sqrt', 'log2']\n",
        "max_depth = [1,3,5,7,9,11,13,15,20]\n",
        "criterion= ['gini', 'entropy']\n",
        "\n",
        "grid = dict(n_estimators=n_estimators, max_features=max_features, max_depth=max_depth, criterion=criterion)\n",
        "\n",
        "rf_random = RandomizedSearchCV(estimator = rf, param_distributions = grid, n_iter = 100, verbose=2, random_state=42, n_jobs = -1)\n",
        "rf_random_fit = rf_random.fit(X_train, y_train)\n",
        "\n",
        "cross_val_results = pd.DataFrame(cross_validate(rf_random.best_estimator_ , X_train, y_train, scoring = [ 'f1_macro', 'precision_macro', 'recall_macro', 'accuracy'] ))\n",
        "\n",
        "results_df.loc['Random Forest (Randomized Parameters)',:] = cross_val_results[['test_f1_macro',\n",
        "       'test_precision_macro', 'test_recall_macro','test_accuracy']].mean().values\n",
        "\n",
        "results_df.sort_values(by='F-score', ascending=False)"
      ],
      "metadata": {
        "colab": {
          "base_uri": "https://localhost:8080/",
          "height": 192
        },
        "id": "ZXacGqHBHhJ_",
        "outputId": "c9660ee7-fa5b-4ded-bb2d-cfe18e040ba9",
        "pycharm": {
          "is_executing": true
        }
      },
      "execution_count": null,
      "outputs": [
        {
          "name": "stdout",
          "output_type": "stream",
          "text": [
            "Fitting 5 folds for each of 100 candidates, totalling 500 fits\n"
          ]
        }
      ]
    },
    {
      "cell_type": "markdown",
      "source": [
        "# MLP (Neural Network) Classifier"
      ],
      "metadata": {
        "id": "0jmQ4aBaIvUx"
      }
    },
    {
      "cell_type": "code",
      "source": [
        "sizes = [2*i for i in range(1,5)]\n",
        "sizes = sizes + [[1*i,1*i] for i in range(1,5)]\n",
        "sizes = sizes + [[1*i,1*i, 1*i] for i in range(1,5)]\n",
        "\n",
        "decays = [3,4,5,6,7,8]\n",
        "\n",
        "nnet = MLPClassifier(alpha=0,\n",
        "                     activation='logistic',\n",
        "                           max_iter=500,\n",
        "                           solver='lbfgs',\n",
        "                           random_state=42)\n",
        "\n",
        "nnet_grid = GridSearchCV(estimator=nnet,\n",
        "                   scoring=['f1_macro', 'precision_macro', 'recall_macro', 'accuracy'],\n",
        "                   param_grid={'hidden_layer_sizes': sizes,\n",
        "                              'alpha': decays,},\n",
        "                   return_train_score=True,\n",
        "                   refit='f1_macro')\n",
        "\n",
        "nnet_grid_fit = nnet_grid.fit(X_train, y_train)\n",
        "\n",
        "cross_val_results = pd.DataFrame(cross_validate(nnet_grid.best_estimator_, X_train, y_train, scoring = ['f1_macro', 'precision_macro', 'recall_macro', 'accuracy'] ))\n",
        "\n",
        "results_df.loc['MLP (Hyper Parameter Tuning)',:] = cross_val_results[['test_f1_macro',\n",
        "       'test_precision_macro', 'test_recall_macro','test_accuracy']].mean().values\n",
        "\n",
        "results_df.sort_values(by='F-score', ascending=False)"
      ],
      "metadata": {
        "id": "SWsz4HBBIzJh",
        "pycharm": {
          "is_executing": true
        }
      },
      "execution_count": null,
      "outputs": []
    },
    {
      "cell_type": "code",
      "execution_count": null,
      "outputs": [],
      "source": [
        "print(nnet_grid.best_params_)\n",
        "print(nnet_grid.best_estimator_.n_iter_)\n",
        "print(nnet_grid.best_estimator_.n_layers_)"
      ],
      "metadata": {
        "pycharm": {
          "is_executing": true
        },
        "id": "5OxwvxVmgH_H"
      }
    },
    {
      "cell_type": "markdown",
      "source": [],
      "metadata": {
        "collapsed": false,
        "id": "Otv352SYgH_H"
      }
    },
    {
      "cell_type": "code",
      "execution_count": null,
      "outputs": [],
      "source": [
        "def save_model(model, model_name, output_path):\n",
        "    dump(model, os.path.join(output_path, model_name+'.joblib'))"
      ],
      "metadata": {
        "id": "J0Lv3HClgH_H"
      }
    },
    {
      "cell_type": "code",
      "execution_count": null,
      "outputs": [],
      "source": [
        "model_path = '../models'\n",
        "save_model(dt_fit, 'dt_fit', model_path)\n",
        "save_model(lr_fit, 'lr_fit', model_path)\n",
        "save_model(lr_fit_grid, 'lr_fit_grid', model_path)\n",
        "save_model(rf_random_fit, 'rf_random_fit', model_path)\n",
        "save_model(nnet_grid_fit, 'nnet_grid_fit', model_path)"
      ],
      "metadata": {
        "id": "SMEDX2m3gH_H"
      }
    },
    {
      "cell_type": "code",
      "execution_count": null,
      "outputs": [],
      "source": [],
      "metadata": {
        "id": "pL4yP3HNgH_H"
      }
    }
  ],
  "metadata": {
    "kernelspec": {
      "display_name": "Python 3",
      "language": "python",
      "name": "python3"
    },
    "language_info": {
      "codemirror_mode": {
        "name": "ipython",
        "version": 2
      },
      "file_extension": ".py",
      "mimetype": "text/x-python",
      "name": "python",
      "nbconvert_exporter": "python",
      "pygments_lexer": "ipython2",
      "version": "2.7.6"
    },
    "colab": {
      "provenance": []
    }
  },
  "nbformat": 4,
  "nbformat_minor": 0
}