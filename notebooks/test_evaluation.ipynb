{
 "cells": [
  {
   "cell_type": "code",
   "execution_count": 30,
   "metadata": {},
   "outputs": [],
   "source": [
    "# import libraties\n",
    "import pandas as pd\n",
    "import numpy as np\n",
    "import json\n",
    "import pickle\n",
    "\n",
    "# https://pm4py.fit.fraunhofer.de/documentation\n",
    "import pm4py\n",
    "from pm4py.objects.log.util.log import project_traces\n",
    "from pm4py.objects.log.util import interval_lifecycle\n",
    "from pm4py.algo.transformation.log_to_features import algorithm as log_to_features\n",
    "from pm4py.objects.log.obj import EventLog, Trace\n",
    "from sklearn.metrics import f1_score, precision_score, recall_score\n",
    "from sklearn.metrics import accuracy_score\n",
    "\n",
    "import warnings\n",
    "warnings.filterwarnings(\"ignore\")"
   ]
  },
  {
   "cell_type": "code",
   "execution_count": 21,
   "metadata": {},
   "outputs": [],
   "source": [
    "# load data for the best perfroming model for trace length 6\n",
    "prediction_load_path = '../data/processed/complex_6_decision_tree_model_predictions.csv'\n",
    "test_data_path = '../data/training_data/original_data/test_trace_len_6.csv' \n",
    "predicted_df = pd.read_csv(prediction_load_path)\n",
    "test_df = pd.read_csv(test_data_path)"
   ]
  },
  {
   "cell_type": "code",
   "execution_count": 28,
   "metadata": {},
   "outputs": [
    {
     "data": {
      "text/plain": [
       "0    690\n",
       "1    171\n",
       "Name: declerations, dtype: int64"
      ]
     },
     "execution_count": 28,
     "metadata": {},
     "output_type": "execute_result"
    }
   ],
   "source": [
    "pred_df = pd.DataFrame(test_df.groupby(['case'],sort=False)['declerations'].first()).reset_index()\n",
    "pred_df['declerations'].value_counts()"
   ]
  },
  {
   "cell_type": "code",
   "execution_count": 40,
   "metadata": {},
   "outputs": [],
   "source": [
    "import random\n",
    "random.seed(43)"
   ]
  },
  {
   "cell_type": "code",
   "execution_count": 67,
   "metadata": {},
   "outputs": [],
   "source": [
    "base_pred = []\n",
    "random.seed(43)\n",
    "for i in range(10):\n",
    "    if random.random() <=0.75:\n",
    "        base_pred.append(0)\n",
    "    else:\n",
    "        base_pred.append(1)"
   ]
  },
  {
   "cell_type": "code",
   "execution_count": 68,
   "metadata": {},
   "outputs": [
    {
     "data": {
      "text/plain": [
       "[0, 0, 0, 0, 0, 1, 0, 0, 0, 0]"
      ]
     },
     "execution_count": 68,
     "metadata": {},
     "output_type": "execute_result"
    }
   ],
   "source": [
    "base_pred"
   ]
  },
  {
   "cell_type": "code",
   "execution_count": 31,
   "metadata": {},
   "outputs": [
    {
     "data": {
      "text/plain": [
       "Model        Decision Tree (Val)\n",
       "F-score                 0.444874\n",
       "Precision                    0.0\n",
       "Recall                       0.0\n",
       "Accuracy                0.801394\n",
       "dtype: object"
      ]
     },
     "execution_count": 31,
     "metadata": {},
     "output_type": "execute_result"
    }
   ],
   "source": [
    "df_baseline = np.zeros(len(pred_df))\n",
    "base_val = pd.Series({'Model': 'Baseline', 'F-score': f1_score(pred_df['declerations'], df_baseline, average='macro'),\n",
    "    'Precision': precision_score(pred_df['declerations'], df_baseline), 'Recall': recall_score(\n",
    "    pred_df['declerations'], df_baseline), 'Accuracy': accuracy_score(pred_df['declerations'], df_baseline)})\n",
    "base_val"
   ]
  },
  {
   "cell_type": "code",
   "execution_count": 6,
   "metadata": {},
   "outputs": [],
   "source": [
    "# Create dataframe for Target variable and combine with above trace dataframe\n",
    "cases = list(test_df.groupby(['case'],sort=False)['id'].first().keys())\n",
    "predicted_df['case'] = cases\n",
    "\n",
    "# merge target variable with permits\n",
    "test_df = test_df.merge(predicted_df,on=['case'])"
   ]
  },
  {
   "cell_type": "code",
   "execution_count": 7,
   "metadata": {},
   "outputs": [
    {
     "data": {
      "text/html": [
       "<div>\n",
       "<style scoped>\n",
       "    .dataframe tbody tr th:only-of-type {\n",
       "        vertical-align: middle;\n",
       "    }\n",
       "\n",
       "    .dataframe tbody tr th {\n",
       "        vertical-align: top;\n",
       "    }\n",
       "\n",
       "    .dataframe thead th {\n",
       "        text-align: right;\n",
       "    }\n",
       "</style>\n",
       "<table border=\"1\" class=\"dataframe\">\n",
       "  <thead>\n",
       "    <tr style=\"text-align: right;\">\n",
       "      <th></th>\n",
       "      <th>case</th>\n",
       "      <th>event</th>\n",
       "      <th>startTime</th>\n",
       "      <th>completeTime</th>\n",
       "      <th>id</th>\n",
       "      <th>RequestedAmount_0</th>\n",
       "      <th>Overspent</th>\n",
       "      <th>travel permit number</th>\n",
       "      <th>OverspentAmount</th>\n",
       "      <th>RequestedBudget</th>\n",
       "      <th>...</th>\n",
       "      <th>@@approx_bh_overall_wasted_time</th>\n",
       "      <th>@@approx_bh_this_wasted_time</th>\n",
       "      <th>@approx_bh_ratio_cycle_lead_time</th>\n",
       "      <th>concept:name</th>\n",
       "      <th>time:timestamp</th>\n",
       "      <th>case:concept:name</th>\n",
       "      <th>declerations</th>\n",
       "      <th>accepted</th>\n",
       "      <th>rejected</th>\n",
       "      <th>predicted_class</th>\n",
       "    </tr>\n",
       "  </thead>\n",
       "  <tbody>\n",
       "    <tr>\n",
       "      <th>0</th>\n",
       "      <td>travel permit 10293</td>\n",
       "      <td>Permit SUBMITTED by EMPLOYEE</td>\n",
       "      <td>2018-09-05 16:41:02+00:00</td>\n",
       "      <td>2018-09-05 16:41:02+00:00</td>\n",
       "      <td>travel permit 10293</td>\n",
       "      <td>484</td>\n",
       "      <td>False</td>\n",
       "      <td>travel permit number 10294</td>\n",
       "      <td>-463.442149</td>\n",
       "      <td>1384.079011</td>\n",
       "      <td>...</td>\n",
       "      <td>0.0</td>\n",
       "      <td>0.0</td>\n",
       "      <td>1.0</td>\n",
       "      <td>Permit SUBMITTED by EMPLOYEE</td>\n",
       "      <td>2018-09-05 16:41:02+00:00</td>\n",
       "      <td>travel permit 10293</td>\n",
       "      <td>0</td>\n",
       "      <td>0.0</td>\n",
       "      <td>1.0</td>\n",
       "      <td>1</td>\n",
       "    </tr>\n",
       "    <tr>\n",
       "      <th>1</th>\n",
       "      <td>travel permit 10293</td>\n",
       "      <td>Permit APPROVED by ADMINISTRATION</td>\n",
       "      <td>2018-09-05 16:41:04+00:00</td>\n",
       "      <td>2018-09-05 16:41:04+00:00</td>\n",
       "      <td>travel permit 10293</td>\n",
       "      <td>484</td>\n",
       "      <td>False</td>\n",
       "      <td>travel permit number 10294</td>\n",
       "      <td>-463.442149</td>\n",
       "      <td>1384.079011</td>\n",
       "      <td>...</td>\n",
       "      <td>2.0</td>\n",
       "      <td>2.0</td>\n",
       "      <td>0.0</td>\n",
       "      <td>Permit APPROVED by ADMINISTRATION</td>\n",
       "      <td>2018-09-05 16:41:04+00:00</td>\n",
       "      <td>travel permit 10293</td>\n",
       "      <td>0</td>\n",
       "      <td>0.0</td>\n",
       "      <td>1.0</td>\n",
       "      <td>1</td>\n",
       "    </tr>\n",
       "    <tr>\n",
       "      <th>2</th>\n",
       "      <td>travel permit 10293</td>\n",
       "      <td>Permit FINAL_APPROVED by SUPERVISOR</td>\n",
       "      <td>2018-09-06 13:27:35+00:00</td>\n",
       "      <td>2018-09-06 13:27:35+00:00</td>\n",
       "      <td>travel permit 10293</td>\n",
       "      <td>484</td>\n",
       "      <td>False</td>\n",
       "      <td>travel permit number 10294</td>\n",
       "      <td>-463.442149</td>\n",
       "      <td>1384.079011</td>\n",
       "      <td>...</td>\n",
       "      <td>24393.0</td>\n",
       "      <td>24391.0</td>\n",
       "      <td>0.0</td>\n",
       "      <td>Permit FINAL_APPROVED by SUPERVISOR</td>\n",
       "      <td>2018-09-06 13:27:35+00:00</td>\n",
       "      <td>travel permit 10293</td>\n",
       "      <td>0</td>\n",
       "      <td>0.0</td>\n",
       "      <td>1.0</td>\n",
       "      <td>1</td>\n",
       "    </tr>\n",
       "    <tr>\n",
       "      <th>3</th>\n",
       "      <td>travel permit 10293</td>\n",
       "      <td>Start trip</td>\n",
       "      <td>2018-12-03 00:00:00+00:00</td>\n",
       "      <td>2018-12-03 00:00:00+00:00</td>\n",
       "      <td>travel permit 10293</td>\n",
       "      <td>484</td>\n",
       "      <td>False</td>\n",
       "      <td>travel permit number 10294</td>\n",
       "      <td>-463.442149</td>\n",
       "      <td>1384.079011</td>\n",
       "      <td>...</td>\n",
       "      <td>2233138.0</td>\n",
       "      <td>2208745.0</td>\n",
       "      <td>0.0</td>\n",
       "      <td>Start trip</td>\n",
       "      <td>2018-12-03 00:00:00+00:00</td>\n",
       "      <td>travel permit 10293</td>\n",
       "      <td>0</td>\n",
       "      <td>0.0</td>\n",
       "      <td>1.0</td>\n",
       "      <td>1</td>\n",
       "    </tr>\n",
       "    <tr>\n",
       "      <th>4</th>\n",
       "      <td>travel permit 10293</td>\n",
       "      <td>End trip</td>\n",
       "      <td>2018-12-06 00:00:00+00:00</td>\n",
       "      <td>2018-12-06 00:00:00+00:00</td>\n",
       "      <td>travel permit 10293</td>\n",
       "      <td>484</td>\n",
       "      <td>False</td>\n",
       "      <td>travel permit number 10294</td>\n",
       "      <td>-463.442149</td>\n",
       "      <td>1384.079011</td>\n",
       "      <td>...</td>\n",
       "      <td>2341138.0</td>\n",
       "      <td>108000.0</td>\n",
       "      <td>0.0</td>\n",
       "      <td>End trip</td>\n",
       "      <td>2018-12-06 00:00:00+00:00</td>\n",
       "      <td>travel permit 10293</td>\n",
       "      <td>0</td>\n",
       "      <td>0.0</td>\n",
       "      <td>1.0</td>\n",
       "      <td>1</td>\n",
       "    </tr>\n",
       "  </tbody>\n",
       "</table>\n",
       "<p>5 rows × 36 columns</p>\n",
       "</div>"
      ],
      "text/plain": [
       "                  case                                event  \\\n",
       "0  travel permit 10293         Permit SUBMITTED by EMPLOYEE   \n",
       "1  travel permit 10293    Permit APPROVED by ADMINISTRATION   \n",
       "2  travel permit 10293  Permit FINAL_APPROVED by SUPERVISOR   \n",
       "3  travel permit 10293                           Start trip   \n",
       "4  travel permit 10293                             End trip   \n",
       "\n",
       "                   startTime               completeTime                   id  \\\n",
       "0  2018-09-05 16:41:02+00:00  2018-09-05 16:41:02+00:00  travel permit 10293   \n",
       "1  2018-09-05 16:41:04+00:00  2018-09-05 16:41:04+00:00  travel permit 10293   \n",
       "2  2018-09-06 13:27:35+00:00  2018-09-06 13:27:35+00:00  travel permit 10293   \n",
       "3  2018-12-03 00:00:00+00:00  2018-12-03 00:00:00+00:00  travel permit 10293   \n",
       "4  2018-12-06 00:00:00+00:00  2018-12-06 00:00:00+00:00  travel permit 10293   \n",
       "\n",
       "  RequestedAmount_0  Overspent        travel permit number  OverspentAmount  \\\n",
       "0               484      False  travel permit number 10294      -463.442149   \n",
       "1               484      False  travel permit number 10294      -463.442149   \n",
       "2               484      False  travel permit number 10294      -463.442149   \n",
       "3               484      False  travel permit number 10294      -463.442149   \n",
       "4               484      False  travel permit number 10294      -463.442149   \n",
       "\n",
       "   RequestedBudget  ... @@approx_bh_overall_wasted_time  \\\n",
       "0      1384.079011  ...                             0.0   \n",
       "1      1384.079011  ...                             2.0   \n",
       "2      1384.079011  ...                         24393.0   \n",
       "3      1384.079011  ...                       2233138.0   \n",
       "4      1384.079011  ...                       2341138.0   \n",
       "\n",
       "  @@approx_bh_this_wasted_time  @approx_bh_ratio_cycle_lead_time  \\\n",
       "0                          0.0                               1.0   \n",
       "1                          2.0                               0.0   \n",
       "2                      24391.0                               0.0   \n",
       "3                    2208745.0                               0.0   \n",
       "4                     108000.0                               0.0   \n",
       "\n",
       "                          concept:name             time:timestamp  \\\n",
       "0         Permit SUBMITTED by EMPLOYEE  2018-09-05 16:41:02+00:00   \n",
       "1    Permit APPROVED by ADMINISTRATION  2018-09-05 16:41:04+00:00   \n",
       "2  Permit FINAL_APPROVED by SUPERVISOR  2018-09-06 13:27:35+00:00   \n",
       "3                           Start trip  2018-12-03 00:00:00+00:00   \n",
       "4                             End trip  2018-12-06 00:00:00+00:00   \n",
       "\n",
       "     case:concept:name declerations accepted rejected  predicted_class  \n",
       "0  travel permit 10293            0      0.0      1.0                1  \n",
       "1  travel permit 10293            0      0.0      1.0                1  \n",
       "2  travel permit 10293            0      0.0      1.0                1  \n",
       "3  travel permit 10293            0      0.0      1.0                1  \n",
       "4  travel permit 10293            0      0.0      1.0                1  \n",
       "\n",
       "[5 rows x 36 columns]"
      ]
     },
     "execution_count": 7,
     "metadata": {},
     "output_type": "execute_result"
    }
   ],
   "source": [
    "wrong_predictions = test_df[(test_df['predicted_class']!=test_df['declerations'])]\n",
    "wrong_predictions = wrong_predictions.reset_index(drop=True)\n",
    "wrong_predictions.to_csv('../data/processed/complex_6_random_forest_model_predictions_wrong.csv',index=False)\n",
    "wrong_predictions.head()"
   ]
  },
  {
   "cell_type": "code",
   "execution_count": 8,
   "metadata": {},
   "outputs": [
    {
     "data": {
      "text/plain": [
       "282"
      ]
     },
     "execution_count": 8,
     "metadata": {},
     "output_type": "execute_result"
    }
   ],
   "source": [
    "len(wrong_predictions['case'].unique())"
   ]
  },
  {
   "cell_type": "code",
   "execution_count": 9,
   "metadata": {},
   "outputs": [
    {
     "data": {
      "text/html": [
       "<div>\n",
       "<style scoped>\n",
       "    .dataframe tbody tr th:only-of-type {\n",
       "        vertical-align: middle;\n",
       "    }\n",
       "\n",
       "    .dataframe tbody tr th {\n",
       "        vertical-align: top;\n",
       "    }\n",
       "\n",
       "    .dataframe thead th {\n",
       "        text-align: right;\n",
       "    }\n",
       "</style>\n",
       "<table border=\"1\" class=\"dataframe\">\n",
       "  <thead>\n",
       "    <tr style=\"text-align: right;\">\n",
       "      <th></th>\n",
       "      <th>case</th>\n",
       "      <th>event</th>\n",
       "      <th>startTime</th>\n",
       "      <th>completeTime</th>\n",
       "      <th>id</th>\n",
       "      <th>RequestedAmount_0</th>\n",
       "      <th>Overspent</th>\n",
       "      <th>travel permit number</th>\n",
       "      <th>OverspentAmount</th>\n",
       "      <th>RequestedBudget</th>\n",
       "      <th>...</th>\n",
       "      <th>@@approx_bh_overall_wasted_time</th>\n",
       "      <th>@@approx_bh_this_wasted_time</th>\n",
       "      <th>@approx_bh_ratio_cycle_lead_time</th>\n",
       "      <th>concept:name</th>\n",
       "      <th>time:timestamp</th>\n",
       "      <th>case:concept:name</th>\n",
       "      <th>declerations</th>\n",
       "      <th>accepted</th>\n",
       "      <th>rejected</th>\n",
       "      <th>predicted_class</th>\n",
       "    </tr>\n",
       "  </thead>\n",
       "  <tbody>\n",
       "    <tr>\n",
       "      <th>0</th>\n",
       "      <td>travel permit 10215</td>\n",
       "      <td>Permit SUBMITTED by EMPLOYEE</td>\n",
       "      <td>2018-09-05 08:37:34+00:00</td>\n",
       "      <td>2018-09-05 08:37:34+00:00</td>\n",
       "      <td>travel permit 10215</td>\n",
       "      <td>1,957</td>\n",
       "      <td>True</td>\n",
       "      <td>travel permit number 10216</td>\n",
       "      <td>224.765145</td>\n",
       "      <td>1915.760495</td>\n",
       "      <td>...</td>\n",
       "      <td>0.0</td>\n",
       "      <td>0.0</td>\n",
       "      <td>1.0</td>\n",
       "      <td>Permit SUBMITTED by EMPLOYEE</td>\n",
       "      <td>2018-09-05 08:37:34+00:00</td>\n",
       "      <td>travel permit 10215</td>\n",
       "      <td>0</td>\n",
       "      <td>1.0</td>\n",
       "      <td>0.0</td>\n",
       "      <td>0</td>\n",
       "    </tr>\n",
       "    <tr>\n",
       "      <th>1</th>\n",
       "      <td>travel permit 10215</td>\n",
       "      <td>Permit APPROVED by ADMINISTRATION</td>\n",
       "      <td>2018-09-05 08:38:28+00:00</td>\n",
       "      <td>2018-09-05 08:38:28+00:00</td>\n",
       "      <td>travel permit 10215</td>\n",
       "      <td>1,957</td>\n",
       "      <td>True</td>\n",
       "      <td>travel permit number 10216</td>\n",
       "      <td>224.765145</td>\n",
       "      <td>1915.760495</td>\n",
       "      <td>...</td>\n",
       "      <td>54.0</td>\n",
       "      <td>54.0</td>\n",
       "      <td>0.0</td>\n",
       "      <td>Permit APPROVED by ADMINISTRATION</td>\n",
       "      <td>2018-09-05 08:38:28+00:00</td>\n",
       "      <td>travel permit 10215</td>\n",
       "      <td>0</td>\n",
       "      <td>1.0</td>\n",
       "      <td>0.0</td>\n",
       "      <td>0</td>\n",
       "    </tr>\n",
       "    <tr>\n",
       "      <th>2</th>\n",
       "      <td>travel permit 10215</td>\n",
       "      <td>Permit APPROVED by BUDGET OWNER</td>\n",
       "      <td>2018-09-05 08:55:23+00:00</td>\n",
       "      <td>2018-09-05 08:55:23+00:00</td>\n",
       "      <td>travel permit 10215</td>\n",
       "      <td>1,957</td>\n",
       "      <td>True</td>\n",
       "      <td>travel permit number 10216</td>\n",
       "      <td>224.765145</td>\n",
       "      <td>1915.760495</td>\n",
       "      <td>...</td>\n",
       "      <td>1069.0</td>\n",
       "      <td>1015.0</td>\n",
       "      <td>0.0</td>\n",
       "      <td>Permit APPROVED by BUDGET OWNER</td>\n",
       "      <td>2018-09-05 08:55:23+00:00</td>\n",
       "      <td>travel permit 10215</td>\n",
       "      <td>0</td>\n",
       "      <td>1.0</td>\n",
       "      <td>0.0</td>\n",
       "      <td>0</td>\n",
       "    </tr>\n",
       "    <tr>\n",
       "      <th>3</th>\n",
       "      <td>travel permit 10215</td>\n",
       "      <td>Permit FINAL_APPROVED by SUPERVISOR</td>\n",
       "      <td>2018-09-06 15:06:29+00:00</td>\n",
       "      <td>2018-09-06 15:06:29+00:00</td>\n",
       "      <td>travel permit 10215</td>\n",
       "      <td>1,957</td>\n",
       "      <td>True</td>\n",
       "      <td>travel permit number 10216</td>\n",
       "      <td>224.765145</td>\n",
       "      <td>1915.760495</td>\n",
       "      <td>...</td>\n",
       "      <td>59335.0</td>\n",
       "      <td>58266.0</td>\n",
       "      <td>0.0</td>\n",
       "      <td>Permit FINAL_APPROVED by SUPERVISOR</td>\n",
       "      <td>2018-09-06 15:06:29+00:00</td>\n",
       "      <td>travel permit 10215</td>\n",
       "      <td>0</td>\n",
       "      <td>1.0</td>\n",
       "      <td>0.0</td>\n",
       "      <td>0</td>\n",
       "    </tr>\n",
       "    <tr>\n",
       "      <th>4</th>\n",
       "      <td>travel permit 10215</td>\n",
       "      <td>Start trip</td>\n",
       "      <td>2018-11-06 00:00:00+00:00</td>\n",
       "      <td>2018-11-06 00:00:00+00:00</td>\n",
       "      <td>travel permit 10215</td>\n",
       "      <td>1,957</td>\n",
       "      <td>True</td>\n",
       "      <td>travel permit number 10216</td>\n",
       "      <td>224.765145</td>\n",
       "      <td>1915.760495</td>\n",
       "      <td>...</td>\n",
       "      <td>1578146.0</td>\n",
       "      <td>1518811.0</td>\n",
       "      <td>0.0</td>\n",
       "      <td>Start trip</td>\n",
       "      <td>2018-11-06 00:00:00+00:00</td>\n",
       "      <td>travel permit 10215</td>\n",
       "      <td>0</td>\n",
       "      <td>1.0</td>\n",
       "      <td>0.0</td>\n",
       "      <td>0</td>\n",
       "    </tr>\n",
       "  </tbody>\n",
       "</table>\n",
       "<p>5 rows × 36 columns</p>\n",
       "</div>"
      ],
      "text/plain": [
       "                  case                                event  \\\n",
       "0  travel permit 10215         Permit SUBMITTED by EMPLOYEE   \n",
       "1  travel permit 10215    Permit APPROVED by ADMINISTRATION   \n",
       "2  travel permit 10215      Permit APPROVED by BUDGET OWNER   \n",
       "3  travel permit 10215  Permit FINAL_APPROVED by SUPERVISOR   \n",
       "4  travel permit 10215                           Start trip   \n",
       "\n",
       "                   startTime               completeTime                   id  \\\n",
       "0  2018-09-05 08:37:34+00:00  2018-09-05 08:37:34+00:00  travel permit 10215   \n",
       "1  2018-09-05 08:38:28+00:00  2018-09-05 08:38:28+00:00  travel permit 10215   \n",
       "2  2018-09-05 08:55:23+00:00  2018-09-05 08:55:23+00:00  travel permit 10215   \n",
       "3  2018-09-06 15:06:29+00:00  2018-09-06 15:06:29+00:00  travel permit 10215   \n",
       "4  2018-11-06 00:00:00+00:00  2018-11-06 00:00:00+00:00  travel permit 10215   \n",
       "\n",
       "  RequestedAmount_0  Overspent        travel permit number  OverspentAmount  \\\n",
       "0             1,957       True  travel permit number 10216       224.765145   \n",
       "1             1,957       True  travel permit number 10216       224.765145   \n",
       "2             1,957       True  travel permit number 10216       224.765145   \n",
       "3             1,957       True  travel permit number 10216       224.765145   \n",
       "4             1,957       True  travel permit number 10216       224.765145   \n",
       "\n",
       "   RequestedBudget  ... @@approx_bh_overall_wasted_time  \\\n",
       "0      1915.760495  ...                             0.0   \n",
       "1      1915.760495  ...                            54.0   \n",
       "2      1915.760495  ...                          1069.0   \n",
       "3      1915.760495  ...                         59335.0   \n",
       "4      1915.760495  ...                       1578146.0   \n",
       "\n",
       "  @@approx_bh_this_wasted_time  @approx_bh_ratio_cycle_lead_time  \\\n",
       "0                          0.0                               1.0   \n",
       "1                         54.0                               0.0   \n",
       "2                       1015.0                               0.0   \n",
       "3                      58266.0                               0.0   \n",
       "4                    1518811.0                               0.0   \n",
       "\n",
       "                          concept:name             time:timestamp  \\\n",
       "0         Permit SUBMITTED by EMPLOYEE  2018-09-05 08:37:34+00:00   \n",
       "1    Permit APPROVED by ADMINISTRATION  2018-09-05 08:38:28+00:00   \n",
       "2      Permit APPROVED by BUDGET OWNER  2018-09-05 08:55:23+00:00   \n",
       "3  Permit FINAL_APPROVED by SUPERVISOR  2018-09-06 15:06:29+00:00   \n",
       "4                           Start trip  2018-11-06 00:00:00+00:00   \n",
       "\n",
       "     case:concept:name declerations accepted rejected  predicted_class  \n",
       "0  travel permit 10215            0      1.0      0.0                0  \n",
       "1  travel permit 10215            0      1.0      0.0                0  \n",
       "2  travel permit 10215            0      1.0      0.0                0  \n",
       "3  travel permit 10215            0      1.0      0.0                0  \n",
       "4  travel permit 10215            0      1.0      0.0                0  \n",
       "\n",
       "[5 rows x 36 columns]"
      ]
     },
     "execution_count": 9,
     "metadata": {},
     "output_type": "execute_result"
    }
   ],
   "source": [
    "correct_predictions = test_df[(test_df['predicted_class']==test_df['declerations'])]\n",
    "correct_predictions = correct_predictions.reset_index(drop=True)\n",
    "correct_predictions.to_csv('../data/processed/complex_6_random_forest_model_predictions_correct.csv',index=False)\n",
    "correct_predictions.head()"
   ]
  },
  {
   "cell_type": "code",
   "execution_count": 10,
   "metadata": {},
   "outputs": [
    {
     "data": {
      "text/plain": [
       "487"
      ]
     },
     "execution_count": 10,
     "metadata": {},
     "output_type": "execute_result"
    }
   ],
   "source": [
    "len(correct_predictions['case'].unique())"
   ]
  },
  {
   "cell_type": "code",
   "execution_count": null,
   "metadata": {},
   "outputs": [],
   "source": []
  },
  {
   "attachments": {},
   "cell_type": "markdown",
   "metadata": {},
   "source": [
    "## Check last activity distribution for all trace length\n",
    "\n",
    "- Run the below code when trace length is 10\n",
    "- because it will give you all traces ending at 10,8,6,4 lengths\n",
    "- if trace is smaller then nth (4,6,8,10) length we keep the last activity if the trace"
   ]
  },
  {
   "attachments": {},
   "cell_type": "markdown",
   "metadata": {},
   "source": [
    "### Correct predictions"
   ]
  },
  {
   "cell_type": "code",
   "execution_count": 12,
   "metadata": {},
   "outputs": [],
   "source": [
    "# save distribution\n",
    "event_distribution_LIST = []\n",
    "# event_distribution_LIST['10'],event_distribution_LIST['8'],event_distribution_LIST['6'],event_distribution_LIST['4'] = [],[],[],[]\n",
    "trace_lengths = [6]\n",
    "for name, group in correct_predictions.groupby(['case'],sort=False):\n",
    "    # print(name)\n",
    "    event_list = list(group['event'])\n",
    "    for t_len in trace_lengths:\n",
    "        index = t_len-1\n",
    "        try:\n",
    "            event_distribution_LIST.append([event_list[index],t_len])\n",
    "        except:\n",
    "            event_distribution_LIST.append([event_list[-1],t_len])"
   ]
  },
  {
   "cell_type": "code",
   "execution_count": 13,
   "metadata": {},
   "outputs": [
    {
     "data": {
      "text/html": [
       "<div>\n",
       "<style scoped>\n",
       "    .dataframe tbody tr th:only-of-type {\n",
       "        vertical-align: middle;\n",
       "    }\n",
       "\n",
       "    .dataframe tbody tr th {\n",
       "        vertical-align: top;\n",
       "    }\n",
       "\n",
       "    .dataframe thead th {\n",
       "        text-align: right;\n",
       "    }\n",
       "</style>\n",
       "<table border=\"1\" class=\"dataframe\">\n",
       "  <thead>\n",
       "    <tr style=\"text-align: right;\">\n",
       "      <th></th>\n",
       "      <th>Activities</th>\n",
       "      <th>Trace length</th>\n",
       "    </tr>\n",
       "  </thead>\n",
       "  <tbody>\n",
       "    <tr>\n",
       "      <th>0</th>\n",
       "      <td>End trip</td>\n",
       "      <td>6</td>\n",
       "    </tr>\n",
       "    <tr>\n",
       "      <th>1</th>\n",
       "      <td>Request For Payment APPROVED by ADMINISTRATION</td>\n",
       "      <td>6</td>\n",
       "    </tr>\n",
       "    <tr>\n",
       "      <th>2</th>\n",
       "      <td>Request For Payment APPROVED by ADMINISTRATION</td>\n",
       "      <td>6</td>\n",
       "    </tr>\n",
       "    <tr>\n",
       "      <th>3</th>\n",
       "      <td>End trip</td>\n",
       "      <td>6</td>\n",
       "    </tr>\n",
       "    <tr>\n",
       "      <th>4</th>\n",
       "      <td>Request For Payment FINAL_APPROVED by SUPERVISOR</td>\n",
       "      <td>6</td>\n",
       "    </tr>\n",
       "  </tbody>\n",
       "</table>\n",
       "</div>"
      ],
      "text/plain": [
       "                                         Activities  Trace length\n",
       "0                                          End trip             6\n",
       "1    Request For Payment APPROVED by ADMINISTRATION             6\n",
       "2    Request For Payment APPROVED by ADMINISTRATION             6\n",
       "3                                          End trip             6\n",
       "4  Request For Payment FINAL_APPROVED by SUPERVISOR             6"
      ]
     },
     "execution_count": 13,
     "metadata": {},
     "output_type": "execute_result"
    }
   ],
   "source": [
    "# create dataframe\n",
    "act_distribution = pd.DataFrame(event_distribution_LIST, columns=['Activities','Trace length'])\n",
    "act_distribution.head()"
   ]
  },
  {
   "cell_type": "code",
   "execution_count": 14,
   "metadata": {},
   "outputs": [
    {
     "data": {
      "text/html": [
       "<div>\n",
       "<style scoped>\n",
       "    .dataframe tbody tr th:only-of-type {\n",
       "        vertical-align: middle;\n",
       "    }\n",
       "\n",
       "    .dataframe tbody tr th {\n",
       "        vertical-align: top;\n",
       "    }\n",
       "\n",
       "    .dataframe thead th {\n",
       "        text-align: right;\n",
       "    }\n",
       "</style>\n",
       "<table border=\"1\" class=\"dataframe\">\n",
       "  <thead>\n",
       "    <tr style=\"text-align: right;\">\n",
       "      <th></th>\n",
       "      <th>Trace length</th>\n",
       "      <th>Activities</th>\n",
       "      <th>Percent count</th>\n",
       "    </tr>\n",
       "  </thead>\n",
       "  <tbody>\n",
       "    <tr>\n",
       "      <th>0</th>\n",
       "      <td>6</td>\n",
       "      <td>Declaration SUBMITTED by EMPLOYEE</td>\n",
       "      <td>32.238193</td>\n",
       "    </tr>\n",
       "    <tr>\n",
       "      <th>1</th>\n",
       "      <td>6</td>\n",
       "      <td>End trip</td>\n",
       "      <td>24.845996</td>\n",
       "    </tr>\n",
       "    <tr>\n",
       "      <th>2</th>\n",
       "      <td>6</td>\n",
       "      <td>Request For Payment FINAL_APPROVED by SUPERVISOR</td>\n",
       "      <td>12.936345</td>\n",
       "    </tr>\n",
       "    <tr>\n",
       "      <th>3</th>\n",
       "      <td>6</td>\n",
       "      <td>Request For Payment APPROVED by ADMINISTRATION</td>\n",
       "      <td>7.186858</td>\n",
       "    </tr>\n",
       "    <tr>\n",
       "      <th>4</th>\n",
       "      <td>6</td>\n",
       "      <td>Send Reminder</td>\n",
       "      <td>4.106776</td>\n",
       "    </tr>\n",
       "  </tbody>\n",
       "</table>\n",
       "</div>"
      ],
      "text/plain": [
       "   Trace length                                        Activities  \\\n",
       "0             6                 Declaration SUBMITTED by EMPLOYEE   \n",
       "1             6                                          End trip   \n",
       "2             6  Request For Payment FINAL_APPROVED by SUPERVISOR   \n",
       "3             6    Request For Payment APPROVED by ADMINISTRATION   \n",
       "4             6                                     Send Reminder   \n",
       "\n",
       "   Percent count  \n",
       "0      32.238193  \n",
       "1      24.845996  \n",
       "2      12.936345  \n",
       "3       7.186858  \n",
       "4       4.106776  "
      ]
     },
     "execution_count": 14,
     "metadata": {},
     "output_type": "execute_result"
    }
   ],
   "source": [
    "# value count and normalized\n",
    "df_dist = act_distribution.groupby('Trace length')['Activities'].value_counts(normalize=True)\n",
    "df_dist = df_dist.mul(100)\n",
    "df_dist = df_dist.rename('Percent count').reset_index()\n",
    "df_dist.head()"
   ]
  },
  {
   "cell_type": "code",
   "execution_count": 15,
   "metadata": {},
   "outputs": [
    {
     "data": {
      "application/vnd.plotly.v1+json": {
       "config": {
        "plotlyServerURL": "https://plot.ly"
       },
       "data": [
        {
         "alignmentgroup": "True",
         "hovertemplate": "Activities=Declaration SUBMITTED by EMPLOYEE<br>Trace length=%{x}<br>Percent count=%{y}<extra></extra>",
         "legendgroup": "Declaration SUBMITTED by EMPLOYEE",
         "marker": {
          "color": "#636efa",
          "pattern": {
           "shape": ""
          }
         },
         "name": "Declaration SUBMITTED by EMPLOYEE",
         "offsetgroup": "Declaration SUBMITTED by EMPLOYEE",
         "orientation": "v",
         "showlegend": true,
         "textposition": "auto",
         "type": "bar",
         "x": [
          6
         ],
         "xaxis": "x",
         "y": [
          32.238193018480494
         ],
         "yaxis": "y"
        },
        {
         "alignmentgroup": "True",
         "hovertemplate": "Activities=End trip<br>Trace length=%{x}<br>Percent count=%{y}<extra></extra>",
         "legendgroup": "End trip",
         "marker": {
          "color": "#EF553B",
          "pattern": {
           "shape": ""
          }
         },
         "name": "End trip",
         "offsetgroup": "End trip",
         "orientation": "v",
         "showlegend": true,
         "textposition": "auto",
         "type": "bar",
         "x": [
          6
         ],
         "xaxis": "x",
         "y": [
          24.84599589322382
         ],
         "yaxis": "y"
        },
        {
         "alignmentgroup": "True",
         "hovertemplate": "Activities=Request For Payment FINAL_APPROVED by SUPERVISOR<br>Trace length=%{x}<br>Percent count=%{y}<extra></extra>",
         "legendgroup": "Request For Payment FINAL_APPROVED by SUPERVISOR",
         "marker": {
          "color": "#00cc96",
          "pattern": {
           "shape": ""
          }
         },
         "name": "Request For Payment FINAL_APPROVED by SUPERVISOR",
         "offsetgroup": "Request For Payment FINAL_APPROVED by SUPERVISOR",
         "orientation": "v",
         "showlegend": true,
         "textposition": "auto",
         "type": "bar",
         "x": [
          6
         ],
         "xaxis": "x",
         "y": [
          12.93634496919918
         ],
         "yaxis": "y"
        },
        {
         "alignmentgroup": "True",
         "hovertemplate": "Activities=Request For Payment APPROVED by ADMINISTRATION<br>Trace length=%{x}<br>Percent count=%{y}<extra></extra>",
         "legendgroup": "Request For Payment APPROVED by ADMINISTRATION",
         "marker": {
          "color": "#ab63fa",
          "pattern": {
           "shape": ""
          }
         },
         "name": "Request For Payment APPROVED by ADMINISTRATION",
         "offsetgroup": "Request For Payment APPROVED by ADMINISTRATION",
         "orientation": "v",
         "showlegend": true,
         "textposition": "auto",
         "type": "bar",
         "x": [
          6
         ],
         "xaxis": "x",
         "y": [
          7.186858316221765
         ],
         "yaxis": "y"
        },
        {
         "alignmentgroup": "True",
         "hovertemplate": "Activities=Send Reminder<br>Trace length=%{x}<br>Percent count=%{y}<extra></extra>",
         "legendgroup": "Send Reminder",
         "marker": {
          "color": "#FFA15A",
          "pattern": {
           "shape": ""
          }
         },
         "name": "Send Reminder",
         "offsetgroup": "Send Reminder",
         "orientation": "v",
         "showlegend": true,
         "textposition": "auto",
         "type": "bar",
         "x": [
          6
         ],
         "xaxis": "x",
         "y": [
          4.1067761806981515
         ],
         "yaxis": "y"
        },
        {
         "alignmentgroup": "True",
         "hovertemplate": "Activities=Start trip<br>Trace length=%{x}<br>Percent count=%{y}<extra></extra>",
         "legendgroup": "Start trip",
         "marker": {
          "color": "#19d3f3",
          "pattern": {
           "shape": ""
          }
         },
         "name": "Start trip",
         "offsetgroup": "Start trip",
         "orientation": "v",
         "showlegend": true,
         "textposition": "auto",
         "type": "bar",
         "x": [
          6
         ],
         "xaxis": "x",
         "y": [
          3.696098562628337
         ],
         "yaxis": "y"
        },
        {
         "alignmentgroup": "True",
         "hovertemplate": "Activities=Permit FINAL_APPROVED by SUPERVISOR<br>Trace length=%{x}<br>Percent count=%{y}<extra></extra>",
         "legendgroup": "Permit FINAL_APPROVED by SUPERVISOR",
         "marker": {
          "color": "#FF6692",
          "pattern": {
           "shape": ""
          }
         },
         "name": "Permit FINAL_APPROVED by SUPERVISOR",
         "offsetgroup": "Permit FINAL_APPROVED by SUPERVISOR",
         "orientation": "v",
         "showlegend": true,
         "textposition": "auto",
         "type": "bar",
         "x": [
          6
         ],
         "xaxis": "x",
         "y": [
          3.4907597535934287
         ],
         "yaxis": "y"
        },
        {
         "alignmentgroup": "True",
         "hovertemplate": "Activities=Request For Payment SUBMITTED by EMPLOYEE<br>Trace length=%{x}<br>Percent count=%{y}<extra></extra>",
         "legendgroup": "Request For Payment SUBMITTED by EMPLOYEE",
         "marker": {
          "color": "#B6E880",
          "pattern": {
           "shape": ""
          }
         },
         "name": "Request For Payment SUBMITTED by EMPLOYEE",
         "offsetgroup": "Request For Payment SUBMITTED by EMPLOYEE",
         "orientation": "v",
         "showlegend": true,
         "textposition": "auto",
         "type": "bar",
         "x": [
          6
         ],
         "xaxis": "x",
         "y": [
          2.4640657084188913
         ],
         "yaxis": "y"
        },
        {
         "alignmentgroup": "True",
         "hovertemplate": "Activities=Permit APPROVED by ADMINISTRATION<br>Trace length=%{x}<br>Percent count=%{y}<extra></extra>",
         "legendgroup": "Permit APPROVED by ADMINISTRATION",
         "marker": {
          "color": "#FF97FF",
          "pattern": {
           "shape": ""
          }
         },
         "name": "Permit APPROVED by ADMINISTRATION",
         "offsetgroup": "Permit APPROVED by ADMINISTRATION",
         "orientation": "v",
         "showlegend": true,
         "textposition": "auto",
         "type": "bar",
         "x": [
          6
         ],
         "xaxis": "x",
         "y": [
          2.0533880903490758
         ],
         "yaxis": "y"
        },
        {
         "alignmentgroup": "True",
         "hovertemplate": "Activities=Request For Payment APPROVED by BUDGET OWNER<br>Trace length=%{x}<br>Percent count=%{y}<extra></extra>",
         "legendgroup": "Request For Payment APPROVED by BUDGET OWNER",
         "marker": {
          "color": "#FECB52",
          "pattern": {
           "shape": ""
          }
         },
         "name": "Request For Payment APPROVED by BUDGET OWNER",
         "offsetgroup": "Request For Payment APPROVED by BUDGET OWNER",
         "orientation": "v",
         "showlegend": true,
         "textposition": "auto",
         "type": "bar",
         "x": [
          6
         ],
         "xaxis": "x",
         "y": [
          1.642710472279261
         ],
         "yaxis": "y"
        },
        {
         "alignmentgroup": "True",
         "hovertemplate": "Activities=Declaration APPROVED by ADMINISTRATION<br>Trace length=%{x}<br>Percent count=%{y}<extra></extra>",
         "legendgroup": "Declaration APPROVED by ADMINISTRATION",
         "marker": {
          "color": "#636efa",
          "pattern": {
           "shape": ""
          }
         },
         "name": "Declaration APPROVED by ADMINISTRATION",
         "offsetgroup": "Declaration APPROVED by ADMINISTRATION",
         "orientation": "v",
         "showlegend": true,
         "textposition": "auto",
         "type": "bar",
         "x": [
          6
         ],
         "xaxis": "x",
         "y": [
          1.2320328542094456
         ],
         "yaxis": "y"
        },
        {
         "alignmentgroup": "True",
         "hovertemplate": "Activities=Request For Payment REJECTED by EMPLOYEE<br>Trace length=%{x}<br>Percent count=%{y}<extra></extra>",
         "legendgroup": "Request For Payment REJECTED by EMPLOYEE",
         "marker": {
          "color": "#EF553B",
          "pattern": {
           "shape": ""
          }
         },
         "name": "Request For Payment REJECTED by EMPLOYEE",
         "offsetgroup": "Request For Payment REJECTED by EMPLOYEE",
         "orientation": "v",
         "showlegend": true,
         "textposition": "auto",
         "type": "bar",
         "x": [
          6
         ],
         "xaxis": "x",
         "y": [
          1.0266940451745379
         ],
         "yaxis": "y"
        },
        {
         "alignmentgroup": "True",
         "hovertemplate": "Activities=Request For Payment REJECTED by ADMINISTRATION<br>Trace length=%{x}<br>Percent count=%{y}<extra></extra>",
         "legendgroup": "Request For Payment REJECTED by ADMINISTRATION",
         "marker": {
          "color": "#00cc96",
          "pattern": {
           "shape": ""
          }
         },
         "name": "Request For Payment REJECTED by ADMINISTRATION",
         "offsetgroup": "Request For Payment REJECTED by ADMINISTRATION",
         "orientation": "v",
         "showlegend": true,
         "textposition": "auto",
         "type": "bar",
         "x": [
          6
         ],
         "xaxis": "x",
         "y": [
          0.8213552361396305
         ],
         "yaxis": "y"
        },
        {
         "alignmentgroup": "True",
         "hovertemplate": "Activities=Declaration FINAL_APPROVED by SUPERVISOR<br>Trace length=%{x}<br>Percent count=%{y}<extra></extra>",
         "legendgroup": "Declaration FINAL_APPROVED by SUPERVISOR",
         "marker": {
          "color": "#ab63fa",
          "pattern": {
           "shape": ""
          }
         },
         "name": "Declaration FINAL_APPROVED by SUPERVISOR",
         "offsetgroup": "Declaration FINAL_APPROVED by SUPERVISOR",
         "orientation": "v",
         "showlegend": true,
         "textposition": "auto",
         "type": "bar",
         "x": [
          6
         ],
         "xaxis": "x",
         "y": [
          0.41067761806981523
         ],
         "yaxis": "y"
        },
        {
         "alignmentgroup": "True",
         "hovertemplate": "Activities=Permit APPROVED by BUDGET OWNER<br>Trace length=%{x}<br>Percent count=%{y}<extra></extra>",
         "legendgroup": "Permit APPROVED by BUDGET OWNER",
         "marker": {
          "color": "#FFA15A",
          "pattern": {
           "shape": ""
          }
         },
         "name": "Permit APPROVED by BUDGET OWNER",
         "offsetgroup": "Permit APPROVED by BUDGET OWNER",
         "orientation": "v",
         "showlegend": true,
         "textposition": "auto",
         "type": "bar",
         "x": [
          6
         ],
         "xaxis": "x",
         "y": [
          0.41067761806981523
         ],
         "yaxis": "y"
        },
        {
         "alignmentgroup": "True",
         "hovertemplate": "Activities=Permit FINAL_APPROVED by DIRECTOR<br>Trace length=%{x}<br>Percent count=%{y}<extra></extra>",
         "legendgroup": "Permit FINAL_APPROVED by DIRECTOR",
         "marker": {
          "color": "#19d3f3",
          "pattern": {
           "shape": ""
          }
         },
         "name": "Permit FINAL_APPROVED by DIRECTOR",
         "offsetgroup": "Permit FINAL_APPROVED by DIRECTOR",
         "orientation": "v",
         "showlegend": true,
         "textposition": "auto",
         "type": "bar",
         "x": [
          6
         ],
         "xaxis": "x",
         "y": [
          0.41067761806981523
         ],
         "yaxis": "y"
        },
        {
         "alignmentgroup": "True",
         "hovertemplate": "Activities=Request For Payment REJECTED by SUPERVISOR<br>Trace length=%{x}<br>Percent count=%{y}<extra></extra>",
         "legendgroup": "Request For Payment REJECTED by SUPERVISOR",
         "marker": {
          "color": "#FF6692",
          "pattern": {
           "shape": ""
          }
         },
         "name": "Request For Payment REJECTED by SUPERVISOR",
         "offsetgroup": "Request For Payment REJECTED by SUPERVISOR",
         "orientation": "v",
         "showlegend": true,
         "textposition": "auto",
         "type": "bar",
         "x": [
          6
         ],
         "xaxis": "x",
         "y": [
          0.41067761806981523
         ],
         "yaxis": "y"
        },
        {
         "alignmentgroup": "True",
         "hovertemplate": "Activities=Permit APPROVED by SUPERVISOR<br>Trace length=%{x}<br>Percent count=%{y}<extra></extra>",
         "legendgroup": "Permit APPROVED by SUPERVISOR",
         "marker": {
          "color": "#B6E880",
          "pattern": {
           "shape": ""
          }
         },
         "name": "Permit APPROVED by SUPERVISOR",
         "offsetgroup": "Permit APPROVED by SUPERVISOR",
         "orientation": "v",
         "showlegend": true,
         "textposition": "auto",
         "type": "bar",
         "x": [
          6
         ],
         "xaxis": "x",
         "y": [
          0.20533880903490762
         ],
         "yaxis": "y"
        },
        {
         "alignmentgroup": "True",
         "hovertemplate": "Activities=Permit REJECTED by EMPLOYEE<br>Trace length=%{x}<br>Percent count=%{y}<extra></extra>",
         "legendgroup": "Permit REJECTED by EMPLOYEE",
         "marker": {
          "color": "#FF97FF",
          "pattern": {
           "shape": ""
          }
         },
         "name": "Permit REJECTED by EMPLOYEE",
         "offsetgroup": "Permit REJECTED by EMPLOYEE",
         "orientation": "v",
         "showlegend": true,
         "textposition": "auto",
         "type": "bar",
         "x": [
          6
         ],
         "xaxis": "x",
         "y": [
          0.20533880903490762
         ],
         "yaxis": "y"
        },
        {
         "alignmentgroup": "True",
         "hovertemplate": "Activities=Permit SUBMITTED by EMPLOYEE<br>Trace length=%{x}<br>Percent count=%{y}<extra></extra>",
         "legendgroup": "Permit SUBMITTED by EMPLOYEE",
         "marker": {
          "color": "#FECB52",
          "pattern": {
           "shape": ""
          }
         },
         "name": "Permit SUBMITTED by EMPLOYEE",
         "offsetgroup": "Permit SUBMITTED by EMPLOYEE",
         "orientation": "v",
         "showlegend": true,
         "textposition": "auto",
         "type": "bar",
         "x": [
          6
         ],
         "xaxis": "x",
         "y": [
          0.20533880903490762
         ],
         "yaxis": "y"
        }
       ],
       "layout": {
        "barmode": "relative",
        "legend": {
         "title": {
          "text": "Activities"
         },
         "tracegroupgap": 0
        },
        "template": {
         "data": {
          "bar": [
           {
            "error_x": {
             "color": "#2a3f5f"
            },
            "error_y": {
             "color": "#2a3f5f"
            },
            "marker": {
             "line": {
              "color": "#E5ECF6",
              "width": 0.5
             },
             "pattern": {
              "fillmode": "overlay",
              "size": 10,
              "solidity": 0.2
             }
            },
            "type": "bar"
           }
          ],
          "barpolar": [
           {
            "marker": {
             "line": {
              "color": "#E5ECF6",
              "width": 0.5
             },
             "pattern": {
              "fillmode": "overlay",
              "size": 10,
              "solidity": 0.2
             }
            },
            "type": "barpolar"
           }
          ],
          "carpet": [
           {
            "aaxis": {
             "endlinecolor": "#2a3f5f",
             "gridcolor": "white",
             "linecolor": "white",
             "minorgridcolor": "white",
             "startlinecolor": "#2a3f5f"
            },
            "baxis": {
             "endlinecolor": "#2a3f5f",
             "gridcolor": "white",
             "linecolor": "white",
             "minorgridcolor": "white",
             "startlinecolor": "#2a3f5f"
            },
            "type": "carpet"
           }
          ],
          "choropleth": [
           {
            "colorbar": {
             "outlinewidth": 0,
             "ticks": ""
            },
            "type": "choropleth"
           }
          ],
          "contour": [
           {
            "colorbar": {
             "outlinewidth": 0,
             "ticks": ""
            },
            "colorscale": [
             [
              0,
              "#0d0887"
             ],
             [
              0.1111111111111111,
              "#46039f"
             ],
             [
              0.2222222222222222,
              "#7201a8"
             ],
             [
              0.3333333333333333,
              "#9c179e"
             ],
             [
              0.4444444444444444,
              "#bd3786"
             ],
             [
              0.5555555555555556,
              "#d8576b"
             ],
             [
              0.6666666666666666,
              "#ed7953"
             ],
             [
              0.7777777777777778,
              "#fb9f3a"
             ],
             [
              0.8888888888888888,
              "#fdca26"
             ],
             [
              1,
              "#f0f921"
             ]
            ],
            "type": "contour"
           }
          ],
          "contourcarpet": [
           {
            "colorbar": {
             "outlinewidth": 0,
             "ticks": ""
            },
            "type": "contourcarpet"
           }
          ],
          "heatmap": [
           {
            "colorbar": {
             "outlinewidth": 0,
             "ticks": ""
            },
            "colorscale": [
             [
              0,
              "#0d0887"
             ],
             [
              0.1111111111111111,
              "#46039f"
             ],
             [
              0.2222222222222222,
              "#7201a8"
             ],
             [
              0.3333333333333333,
              "#9c179e"
             ],
             [
              0.4444444444444444,
              "#bd3786"
             ],
             [
              0.5555555555555556,
              "#d8576b"
             ],
             [
              0.6666666666666666,
              "#ed7953"
             ],
             [
              0.7777777777777778,
              "#fb9f3a"
             ],
             [
              0.8888888888888888,
              "#fdca26"
             ],
             [
              1,
              "#f0f921"
             ]
            ],
            "type": "heatmap"
           }
          ],
          "heatmapgl": [
           {
            "colorbar": {
             "outlinewidth": 0,
             "ticks": ""
            },
            "colorscale": [
             [
              0,
              "#0d0887"
             ],
             [
              0.1111111111111111,
              "#46039f"
             ],
             [
              0.2222222222222222,
              "#7201a8"
             ],
             [
              0.3333333333333333,
              "#9c179e"
             ],
             [
              0.4444444444444444,
              "#bd3786"
             ],
             [
              0.5555555555555556,
              "#d8576b"
             ],
             [
              0.6666666666666666,
              "#ed7953"
             ],
             [
              0.7777777777777778,
              "#fb9f3a"
             ],
             [
              0.8888888888888888,
              "#fdca26"
             ],
             [
              1,
              "#f0f921"
             ]
            ],
            "type": "heatmapgl"
           }
          ],
          "histogram": [
           {
            "marker": {
             "pattern": {
              "fillmode": "overlay",
              "size": 10,
              "solidity": 0.2
             }
            },
            "type": "histogram"
           }
          ],
          "histogram2d": [
           {
            "colorbar": {
             "outlinewidth": 0,
             "ticks": ""
            },
            "colorscale": [
             [
              0,
              "#0d0887"
             ],
             [
              0.1111111111111111,
              "#46039f"
             ],
             [
              0.2222222222222222,
              "#7201a8"
             ],
             [
              0.3333333333333333,
              "#9c179e"
             ],
             [
              0.4444444444444444,
              "#bd3786"
             ],
             [
              0.5555555555555556,
              "#d8576b"
             ],
             [
              0.6666666666666666,
              "#ed7953"
             ],
             [
              0.7777777777777778,
              "#fb9f3a"
             ],
             [
              0.8888888888888888,
              "#fdca26"
             ],
             [
              1,
              "#f0f921"
             ]
            ],
            "type": "histogram2d"
           }
          ],
          "histogram2dcontour": [
           {
            "colorbar": {
             "outlinewidth": 0,
             "ticks": ""
            },
            "colorscale": [
             [
              0,
              "#0d0887"
             ],
             [
              0.1111111111111111,
              "#46039f"
             ],
             [
              0.2222222222222222,
              "#7201a8"
             ],
             [
              0.3333333333333333,
              "#9c179e"
             ],
             [
              0.4444444444444444,
              "#bd3786"
             ],
             [
              0.5555555555555556,
              "#d8576b"
             ],
             [
              0.6666666666666666,
              "#ed7953"
             ],
             [
              0.7777777777777778,
              "#fb9f3a"
             ],
             [
              0.8888888888888888,
              "#fdca26"
             ],
             [
              1,
              "#f0f921"
             ]
            ],
            "type": "histogram2dcontour"
           }
          ],
          "mesh3d": [
           {
            "colorbar": {
             "outlinewidth": 0,
             "ticks": ""
            },
            "type": "mesh3d"
           }
          ],
          "parcoords": [
           {
            "line": {
             "colorbar": {
              "outlinewidth": 0,
              "ticks": ""
             }
            },
            "type": "parcoords"
           }
          ],
          "pie": [
           {
            "automargin": true,
            "type": "pie"
           }
          ],
          "scatter": [
           {
            "fillpattern": {
             "fillmode": "overlay",
             "size": 10,
             "solidity": 0.2
            },
            "type": "scatter"
           }
          ],
          "scatter3d": [
           {
            "line": {
             "colorbar": {
              "outlinewidth": 0,
              "ticks": ""
             }
            },
            "marker": {
             "colorbar": {
              "outlinewidth": 0,
              "ticks": ""
             }
            },
            "type": "scatter3d"
           }
          ],
          "scattercarpet": [
           {
            "marker": {
             "colorbar": {
              "outlinewidth": 0,
              "ticks": ""
             }
            },
            "type": "scattercarpet"
           }
          ],
          "scattergeo": [
           {
            "marker": {
             "colorbar": {
              "outlinewidth": 0,
              "ticks": ""
             }
            },
            "type": "scattergeo"
           }
          ],
          "scattergl": [
           {
            "marker": {
             "colorbar": {
              "outlinewidth": 0,
              "ticks": ""
             }
            },
            "type": "scattergl"
           }
          ],
          "scattermapbox": [
           {
            "marker": {
             "colorbar": {
              "outlinewidth": 0,
              "ticks": ""
             }
            },
            "type": "scattermapbox"
           }
          ],
          "scatterpolar": [
           {
            "marker": {
             "colorbar": {
              "outlinewidth": 0,
              "ticks": ""
             }
            },
            "type": "scatterpolar"
           }
          ],
          "scatterpolargl": [
           {
            "marker": {
             "colorbar": {
              "outlinewidth": 0,
              "ticks": ""
             }
            },
            "type": "scatterpolargl"
           }
          ],
          "scatterternary": [
           {
            "marker": {
             "colorbar": {
              "outlinewidth": 0,
              "ticks": ""
             }
            },
            "type": "scatterternary"
           }
          ],
          "surface": [
           {
            "colorbar": {
             "outlinewidth": 0,
             "ticks": ""
            },
            "colorscale": [
             [
              0,
              "#0d0887"
             ],
             [
              0.1111111111111111,
              "#46039f"
             ],
             [
              0.2222222222222222,
              "#7201a8"
             ],
             [
              0.3333333333333333,
              "#9c179e"
             ],
             [
              0.4444444444444444,
              "#bd3786"
             ],
             [
              0.5555555555555556,
              "#d8576b"
             ],
             [
              0.6666666666666666,
              "#ed7953"
             ],
             [
              0.7777777777777778,
              "#fb9f3a"
             ],
             [
              0.8888888888888888,
              "#fdca26"
             ],
             [
              1,
              "#f0f921"
             ]
            ],
            "type": "surface"
           }
          ],
          "table": [
           {
            "cells": {
             "fill": {
              "color": "#EBF0F8"
             },
             "line": {
              "color": "white"
             }
            },
            "header": {
             "fill": {
              "color": "#C8D4E3"
             },
             "line": {
              "color": "white"
             }
            },
            "type": "table"
           }
          ]
         },
         "layout": {
          "annotationdefaults": {
           "arrowcolor": "#2a3f5f",
           "arrowhead": 0,
           "arrowwidth": 1
          },
          "autotypenumbers": "strict",
          "coloraxis": {
           "colorbar": {
            "outlinewidth": 0,
            "ticks": ""
           }
          },
          "colorscale": {
           "diverging": [
            [
             0,
             "#8e0152"
            ],
            [
             0.1,
             "#c51b7d"
            ],
            [
             0.2,
             "#de77ae"
            ],
            [
             0.3,
             "#f1b6da"
            ],
            [
             0.4,
             "#fde0ef"
            ],
            [
             0.5,
             "#f7f7f7"
            ],
            [
             0.6,
             "#e6f5d0"
            ],
            [
             0.7,
             "#b8e186"
            ],
            [
             0.8,
             "#7fbc41"
            ],
            [
             0.9,
             "#4d9221"
            ],
            [
             1,
             "#276419"
            ]
           ],
           "sequential": [
            [
             0,
             "#0d0887"
            ],
            [
             0.1111111111111111,
             "#46039f"
            ],
            [
             0.2222222222222222,
             "#7201a8"
            ],
            [
             0.3333333333333333,
             "#9c179e"
            ],
            [
             0.4444444444444444,
             "#bd3786"
            ],
            [
             0.5555555555555556,
             "#d8576b"
            ],
            [
             0.6666666666666666,
             "#ed7953"
            ],
            [
             0.7777777777777778,
             "#fb9f3a"
            ],
            [
             0.8888888888888888,
             "#fdca26"
            ],
            [
             1,
             "#f0f921"
            ]
           ],
           "sequentialminus": [
            [
             0,
             "#0d0887"
            ],
            [
             0.1111111111111111,
             "#46039f"
            ],
            [
             0.2222222222222222,
             "#7201a8"
            ],
            [
             0.3333333333333333,
             "#9c179e"
            ],
            [
             0.4444444444444444,
             "#bd3786"
            ],
            [
             0.5555555555555556,
             "#d8576b"
            ],
            [
             0.6666666666666666,
             "#ed7953"
            ],
            [
             0.7777777777777778,
             "#fb9f3a"
            ],
            [
             0.8888888888888888,
             "#fdca26"
            ],
            [
             1,
             "#f0f921"
            ]
           ]
          },
          "colorway": [
           "#636efa",
           "#EF553B",
           "#00cc96",
           "#ab63fa",
           "#FFA15A",
           "#19d3f3",
           "#FF6692",
           "#B6E880",
           "#FF97FF",
           "#FECB52"
          ],
          "font": {
           "color": "#2a3f5f"
          },
          "geo": {
           "bgcolor": "white",
           "lakecolor": "white",
           "landcolor": "#E5ECF6",
           "showlakes": true,
           "showland": true,
           "subunitcolor": "white"
          },
          "hoverlabel": {
           "align": "left"
          },
          "hovermode": "closest",
          "mapbox": {
           "style": "light"
          },
          "paper_bgcolor": "white",
          "plot_bgcolor": "#E5ECF6",
          "polar": {
           "angularaxis": {
            "gridcolor": "white",
            "linecolor": "white",
            "ticks": ""
           },
           "bgcolor": "#E5ECF6",
           "radialaxis": {
            "gridcolor": "white",
            "linecolor": "white",
            "ticks": ""
           }
          },
          "scene": {
           "xaxis": {
            "backgroundcolor": "#E5ECF6",
            "gridcolor": "white",
            "gridwidth": 2,
            "linecolor": "white",
            "showbackground": true,
            "ticks": "",
            "zerolinecolor": "white"
           },
           "yaxis": {
            "backgroundcolor": "#E5ECF6",
            "gridcolor": "white",
            "gridwidth": 2,
            "linecolor": "white",
            "showbackground": true,
            "ticks": "",
            "zerolinecolor": "white"
           },
           "zaxis": {
            "backgroundcolor": "#E5ECF6",
            "gridcolor": "white",
            "gridwidth": 2,
            "linecolor": "white",
            "showbackground": true,
            "ticks": "",
            "zerolinecolor": "white"
           }
          },
          "shapedefaults": {
           "line": {
            "color": "#2a3f5f"
           }
          },
          "ternary": {
           "aaxis": {
            "gridcolor": "white",
            "linecolor": "white",
            "ticks": ""
           },
           "baxis": {
            "gridcolor": "white",
            "linecolor": "white",
            "ticks": ""
           },
           "bgcolor": "#E5ECF6",
           "caxis": {
            "gridcolor": "white",
            "linecolor": "white",
            "ticks": ""
           }
          },
          "title": {
           "x": 0.05
          },
          "xaxis": {
           "automargin": true,
           "gridcolor": "white",
           "linecolor": "white",
           "ticks": "",
           "title": {
            "standoff": 15
           },
           "zerolinecolor": "white",
           "zerolinewidth": 2
          },
          "yaxis": {
           "automargin": true,
           "gridcolor": "white",
           "linecolor": "white",
           "ticks": "",
           "title": {
            "standoff": 15
           },
           "zerolinecolor": "white",
           "zerolinewidth": 2
          }
         }
        },
        "title": {
         "text": "Last activity vs trace length distribution"
        },
        "xaxis": {
         "anchor": "y",
         "domain": [
          0,
          1
         ],
         "title": {
          "text": "Trace length"
         }
        },
        "yaxis": {
         "anchor": "x",
         "domain": [
          0,
          1
         ],
         "title": {
          "text": "Percent count"
         }
        }
       }
      }
     },
     "metadata": {},
     "output_type": "display_data"
    }
   ],
   "source": [
    "# plot the distribution\n",
    "import plotly.express as px\n",
    "fig = px.bar(df_dist, x=\"Trace length\", y=\"Percent count\", color=\"Activities\", title=\"Last activity vs trace length distribution\")\n",
    "fig.show()\n",
    "# fig.write_html(\"../docs/activity_vs_trace_length_distribution.html\")"
   ]
  },
  {
   "cell_type": "code",
   "execution_count": null,
   "metadata": {},
   "outputs": [],
   "source": []
  },
  {
   "attachments": {},
   "cell_type": "markdown",
   "metadata": {},
   "source": [
    "### Wrong predictions"
   ]
  },
  {
   "cell_type": "code",
   "execution_count": 16,
   "metadata": {},
   "outputs": [],
   "source": [
    "# save distribution\n",
    "event_distribution_LIST = []\n",
    "# event_distribution_LIST['10'],event_distribution_LIST['8'],event_distribution_LIST['6'],event_distribution_LIST['4'] = [],[],[],[]\n",
    "trace_lengths = [6]\n",
    "for name, group in wrong_predictions.groupby(['case'],sort=False):\n",
    "    # print(name)\n",
    "    event_list = list(group['event'])\n",
    "    for t_len in trace_lengths:\n",
    "        index = t_len-1\n",
    "        try:\n",
    "            event_distribution_LIST.append([event_list[index],t_len])\n",
    "        except:\n",
    "            event_distribution_LIST.append([event_list[-1],t_len])"
   ]
  },
  {
   "cell_type": "code",
   "execution_count": 17,
   "metadata": {},
   "outputs": [
    {
     "data": {
      "text/html": [
       "<div>\n",
       "<style scoped>\n",
       "    .dataframe tbody tr th:only-of-type {\n",
       "        vertical-align: middle;\n",
       "    }\n",
       "\n",
       "    .dataframe tbody tr th {\n",
       "        vertical-align: top;\n",
       "    }\n",
       "\n",
       "    .dataframe thead th {\n",
       "        text-align: right;\n",
       "    }\n",
       "</style>\n",
       "<table border=\"1\" class=\"dataframe\">\n",
       "  <thead>\n",
       "    <tr style=\"text-align: right;\">\n",
       "      <th></th>\n",
       "      <th>Activities</th>\n",
       "      <th>Trace length</th>\n",
       "    </tr>\n",
       "  </thead>\n",
       "  <tbody>\n",
       "    <tr>\n",
       "      <th>0</th>\n",
       "      <td>Declaration SUBMITTED by EMPLOYEE</td>\n",
       "      <td>6</td>\n",
       "    </tr>\n",
       "    <tr>\n",
       "      <th>1</th>\n",
       "      <td>Request For Payment SUBMITTED by EMPLOYEE</td>\n",
       "      <td>6</td>\n",
       "    </tr>\n",
       "    <tr>\n",
       "      <th>2</th>\n",
       "      <td>Request For Payment SUBMITTED by EMPLOYEE</td>\n",
       "      <td>6</td>\n",
       "    </tr>\n",
       "    <tr>\n",
       "      <th>3</th>\n",
       "      <td>End trip</td>\n",
       "      <td>6</td>\n",
       "    </tr>\n",
       "    <tr>\n",
       "      <th>4</th>\n",
       "      <td>Declaration SUBMITTED by EMPLOYEE</td>\n",
       "      <td>6</td>\n",
       "    </tr>\n",
       "  </tbody>\n",
       "</table>\n",
       "</div>"
      ],
      "text/plain": [
       "                                  Activities  Trace length\n",
       "0          Declaration SUBMITTED by EMPLOYEE             6\n",
       "1  Request For Payment SUBMITTED by EMPLOYEE             6\n",
       "2  Request For Payment SUBMITTED by EMPLOYEE             6\n",
       "3                                   End trip             6\n",
       "4          Declaration SUBMITTED by EMPLOYEE             6"
      ]
     },
     "execution_count": 17,
     "metadata": {},
     "output_type": "execute_result"
    }
   ],
   "source": [
    "# create dataframe\n",
    "act_distribution = pd.DataFrame(event_distribution_LIST, columns=['Activities','Trace length'])\n",
    "act_distribution.head()"
   ]
  },
  {
   "cell_type": "code",
   "execution_count": 18,
   "metadata": {},
   "outputs": [
    {
     "data": {
      "text/html": [
       "<div>\n",
       "<style scoped>\n",
       "    .dataframe tbody tr th:only-of-type {\n",
       "        vertical-align: middle;\n",
       "    }\n",
       "\n",
       "    .dataframe tbody tr th {\n",
       "        vertical-align: top;\n",
       "    }\n",
       "\n",
       "    .dataframe thead th {\n",
       "        text-align: right;\n",
       "    }\n",
       "</style>\n",
       "<table border=\"1\" class=\"dataframe\">\n",
       "  <thead>\n",
       "    <tr style=\"text-align: right;\">\n",
       "      <th></th>\n",
       "      <th>Trace length</th>\n",
       "      <th>Activities</th>\n",
       "      <th>Percent count</th>\n",
       "    </tr>\n",
       "  </thead>\n",
       "  <tbody>\n",
       "    <tr>\n",
       "      <th>0</th>\n",
       "      <td>6</td>\n",
       "      <td>Declaration SUBMITTED by EMPLOYEE</td>\n",
       "      <td>31.914894</td>\n",
       "    </tr>\n",
       "    <tr>\n",
       "      <th>1</th>\n",
       "      <td>6</td>\n",
       "      <td>End trip</td>\n",
       "      <td>25.531915</td>\n",
       "    </tr>\n",
       "    <tr>\n",
       "      <th>2</th>\n",
       "      <td>6</td>\n",
       "      <td>Request For Payment APPROVED by ADMINISTRATION</td>\n",
       "      <td>11.347518</td>\n",
       "    </tr>\n",
       "    <tr>\n",
       "      <th>3</th>\n",
       "      <td>6</td>\n",
       "      <td>Permit FINAL_APPROVED by SUPERVISOR</td>\n",
       "      <td>6.028369</td>\n",
       "    </tr>\n",
       "    <tr>\n",
       "      <th>4</th>\n",
       "      <td>6</td>\n",
       "      <td>Request For Payment FINAL_APPROVED by SUPERVISOR</td>\n",
       "      <td>5.673759</td>\n",
       "    </tr>\n",
       "  </tbody>\n",
       "</table>\n",
       "</div>"
      ],
      "text/plain": [
       "   Trace length                                        Activities  \\\n",
       "0             6                 Declaration SUBMITTED by EMPLOYEE   \n",
       "1             6                                          End trip   \n",
       "2             6    Request For Payment APPROVED by ADMINISTRATION   \n",
       "3             6               Permit FINAL_APPROVED by SUPERVISOR   \n",
       "4             6  Request For Payment FINAL_APPROVED by SUPERVISOR   \n",
       "\n",
       "   Percent count  \n",
       "0      31.914894  \n",
       "1      25.531915  \n",
       "2      11.347518  \n",
       "3       6.028369  \n",
       "4       5.673759  "
      ]
     },
     "execution_count": 18,
     "metadata": {},
     "output_type": "execute_result"
    }
   ],
   "source": [
    "# value count and normalized\n",
    "df_dist = act_distribution.groupby('Trace length')['Activities'].value_counts(normalize=True)\n",
    "df_dist = df_dist.mul(100)\n",
    "df_dist = df_dist.rename('Percent count').reset_index()\n",
    "df_dist.head()"
   ]
  },
  {
   "cell_type": "code",
   "execution_count": 19,
   "metadata": {},
   "outputs": [
    {
     "data": {
      "application/vnd.plotly.v1+json": {
       "config": {
        "plotlyServerURL": "https://plot.ly"
       },
       "data": [
        {
         "alignmentgroup": "True",
         "hovertemplate": "Activities=Declaration SUBMITTED by EMPLOYEE<br>Trace length=%{x}<br>Percent count=%{y}<extra></extra>",
         "legendgroup": "Declaration SUBMITTED by EMPLOYEE",
         "marker": {
          "color": "#636efa",
          "pattern": {
           "shape": ""
          }
         },
         "name": "Declaration SUBMITTED by EMPLOYEE",
         "offsetgroup": "Declaration SUBMITTED by EMPLOYEE",
         "orientation": "v",
         "showlegend": true,
         "textposition": "auto",
         "type": "bar",
         "x": [
          6
         ],
         "xaxis": "x",
         "y": [
          31.914893617021278
         ],
         "yaxis": "y"
        },
        {
         "alignmentgroup": "True",
         "hovertemplate": "Activities=End trip<br>Trace length=%{x}<br>Percent count=%{y}<extra></extra>",
         "legendgroup": "End trip",
         "marker": {
          "color": "#EF553B",
          "pattern": {
           "shape": ""
          }
         },
         "name": "End trip",
         "offsetgroup": "End trip",
         "orientation": "v",
         "showlegend": true,
         "textposition": "auto",
         "type": "bar",
         "x": [
          6
         ],
         "xaxis": "x",
         "y": [
          25.53191489361702
         ],
         "yaxis": "y"
        },
        {
         "alignmentgroup": "True",
         "hovertemplate": "Activities=Request For Payment APPROVED by ADMINISTRATION<br>Trace length=%{x}<br>Percent count=%{y}<extra></extra>",
         "legendgroup": "Request For Payment APPROVED by ADMINISTRATION",
         "marker": {
          "color": "#00cc96",
          "pattern": {
           "shape": ""
          }
         },
         "name": "Request For Payment APPROVED by ADMINISTRATION",
         "offsetgroup": "Request For Payment APPROVED by ADMINISTRATION",
         "orientation": "v",
         "showlegend": true,
         "textposition": "auto",
         "type": "bar",
         "x": [
          6
         ],
         "xaxis": "x",
         "y": [
          11.347517730496454
         ],
         "yaxis": "y"
        },
        {
         "alignmentgroup": "True",
         "hovertemplate": "Activities=Permit FINAL_APPROVED by SUPERVISOR<br>Trace length=%{x}<br>Percent count=%{y}<extra></extra>",
         "legendgroup": "Permit FINAL_APPROVED by SUPERVISOR",
         "marker": {
          "color": "#ab63fa",
          "pattern": {
           "shape": ""
          }
         },
         "name": "Permit FINAL_APPROVED by SUPERVISOR",
         "offsetgroup": "Permit FINAL_APPROVED by SUPERVISOR",
         "orientation": "v",
         "showlegend": true,
         "textposition": "auto",
         "type": "bar",
         "x": [
          6
         ],
         "xaxis": "x",
         "y": [
          6.028368794326241
         ],
         "yaxis": "y"
        },
        {
         "alignmentgroup": "True",
         "hovertemplate": "Activities=Request For Payment FINAL_APPROVED by SUPERVISOR<br>Trace length=%{x}<br>Percent count=%{y}<extra></extra>",
         "legendgroup": "Request For Payment FINAL_APPROVED by SUPERVISOR",
         "marker": {
          "color": "#FFA15A",
          "pattern": {
           "shape": ""
          }
         },
         "name": "Request For Payment FINAL_APPROVED by SUPERVISOR",
         "offsetgroup": "Request For Payment FINAL_APPROVED by SUPERVISOR",
         "orientation": "v",
         "showlegend": true,
         "textposition": "auto",
         "type": "bar",
         "x": [
          6
         ],
         "xaxis": "x",
         "y": [
          5.673758865248227
         ],
         "yaxis": "y"
        },
        {
         "alignmentgroup": "True",
         "hovertemplate": "Activities=Send Reminder<br>Trace length=%{x}<br>Percent count=%{y}<extra></extra>",
         "legendgroup": "Send Reminder",
         "marker": {
          "color": "#19d3f3",
          "pattern": {
           "shape": ""
          }
         },
         "name": "Send Reminder",
         "offsetgroup": "Send Reminder",
         "orientation": "v",
         "showlegend": true,
         "textposition": "auto",
         "type": "bar",
         "x": [
          6
         ],
         "xaxis": "x",
         "y": [
          4.609929078014184
         ],
         "yaxis": "y"
        },
        {
         "alignmentgroup": "True",
         "hovertemplate": "Activities=Request For Payment REJECTED by EMPLOYEE<br>Trace length=%{x}<br>Percent count=%{y}<extra></extra>",
         "legendgroup": "Request For Payment REJECTED by EMPLOYEE",
         "marker": {
          "color": "#FF6692",
          "pattern": {
           "shape": ""
          }
         },
         "name": "Request For Payment REJECTED by EMPLOYEE",
         "offsetgroup": "Request For Payment REJECTED by EMPLOYEE",
         "orientation": "v",
         "showlegend": true,
         "textposition": "auto",
         "type": "bar",
         "x": [
          6
         ],
         "xaxis": "x",
         "y": [
          3.1914893617021276
         ],
         "yaxis": "y"
        },
        {
         "alignmentgroup": "True",
         "hovertemplate": "Activities=Permit APPROVED by ADMINISTRATION<br>Trace length=%{x}<br>Percent count=%{y}<extra></extra>",
         "legendgroup": "Permit APPROVED by ADMINISTRATION",
         "marker": {
          "color": "#B6E880",
          "pattern": {
           "shape": ""
          }
         },
         "name": "Permit APPROVED by ADMINISTRATION",
         "offsetgroup": "Permit APPROVED by ADMINISTRATION",
         "orientation": "v",
         "showlegend": true,
         "textposition": "auto",
         "type": "bar",
         "x": [
          6
         ],
         "xaxis": "x",
         "y": [
          1.773049645390071
         ],
         "yaxis": "y"
        },
        {
         "alignmentgroup": "True",
         "hovertemplate": "Activities=Request For Payment REJECTED by ADMINISTRATION<br>Trace length=%{x}<br>Percent count=%{y}<extra></extra>",
         "legendgroup": "Request For Payment REJECTED by ADMINISTRATION",
         "marker": {
          "color": "#FF97FF",
          "pattern": {
           "shape": ""
          }
         },
         "name": "Request For Payment REJECTED by ADMINISTRATION",
         "offsetgroup": "Request For Payment REJECTED by ADMINISTRATION",
         "orientation": "v",
         "showlegend": true,
         "textposition": "auto",
         "type": "bar",
         "x": [
          6
         ],
         "xaxis": "x",
         "y": [
          1.773049645390071
         ],
         "yaxis": "y"
        },
        {
         "alignmentgroup": "True",
         "hovertemplate": "Activities=Request For Payment SUBMITTED by EMPLOYEE<br>Trace length=%{x}<br>Percent count=%{y}<extra></extra>",
         "legendgroup": "Request For Payment SUBMITTED by EMPLOYEE",
         "marker": {
          "color": "#FECB52",
          "pattern": {
           "shape": ""
          }
         },
         "name": "Request For Payment SUBMITTED by EMPLOYEE",
         "offsetgroup": "Request For Payment SUBMITTED by EMPLOYEE",
         "orientation": "v",
         "showlegend": true,
         "textposition": "auto",
         "type": "bar",
         "x": [
          6
         ],
         "xaxis": "x",
         "y": [
          1.773049645390071
         ],
         "yaxis": "y"
        },
        {
         "alignmentgroup": "True",
         "hovertemplate": "Activities=Start trip<br>Trace length=%{x}<br>Percent count=%{y}<extra></extra>",
         "legendgroup": "Start trip",
         "marker": {
          "color": "#636efa",
          "pattern": {
           "shape": ""
          }
         },
         "name": "Start trip",
         "offsetgroup": "Start trip",
         "orientation": "v",
         "showlegend": true,
         "textposition": "auto",
         "type": "bar",
         "x": [
          6
         ],
         "xaxis": "x",
         "y": [
          1.4184397163120568
         ],
         "yaxis": "y"
        },
        {
         "alignmentgroup": "True",
         "hovertemplate": "Activities=Declaration APPROVED by ADMINISTRATION<br>Trace length=%{x}<br>Percent count=%{y}<extra></extra>",
         "legendgroup": "Declaration APPROVED by ADMINISTRATION",
         "marker": {
          "color": "#EF553B",
          "pattern": {
           "shape": ""
          }
         },
         "name": "Declaration APPROVED by ADMINISTRATION",
         "offsetgroup": "Declaration APPROVED by ADMINISTRATION",
         "orientation": "v",
         "showlegend": true,
         "textposition": "auto",
         "type": "bar",
         "x": [
          6
         ],
         "xaxis": "x",
         "y": [
          1.0638297872340425
         ],
         "yaxis": "y"
        },
        {
         "alignmentgroup": "True",
         "hovertemplate": "Activities=Request For Payment APPROVED by BUDGET OWNER<br>Trace length=%{x}<br>Percent count=%{y}<extra></extra>",
         "legendgroup": "Request For Payment APPROVED by BUDGET OWNER",
         "marker": {
          "color": "#00cc96",
          "pattern": {
           "shape": ""
          }
         },
         "name": "Request For Payment APPROVED by BUDGET OWNER",
         "offsetgroup": "Request For Payment APPROVED by BUDGET OWNER",
         "orientation": "v",
         "showlegend": true,
         "textposition": "auto",
         "type": "bar",
         "x": [
          6
         ],
         "xaxis": "x",
         "y": [
          1.0638297872340425
         ],
         "yaxis": "y"
        },
        {
         "alignmentgroup": "True",
         "hovertemplate": "Activities=Permit SUBMITTED by EMPLOYEE<br>Trace length=%{x}<br>Percent count=%{y}<extra></extra>",
         "legendgroup": "Permit SUBMITTED by EMPLOYEE",
         "marker": {
          "color": "#ab63fa",
          "pattern": {
           "shape": ""
          }
         },
         "name": "Permit SUBMITTED by EMPLOYEE",
         "offsetgroup": "Permit SUBMITTED by EMPLOYEE",
         "orientation": "v",
         "showlegend": true,
         "textposition": "auto",
         "type": "bar",
         "x": [
          6
         ],
         "xaxis": "x",
         "y": [
          0.7092198581560284
         ],
         "yaxis": "y"
        },
        {
         "alignmentgroup": "True",
         "hovertemplate": "Activities=Declaration FINAL_APPROVED by SUPERVISOR<br>Trace length=%{x}<br>Percent count=%{y}<extra></extra>",
         "legendgroup": "Declaration FINAL_APPROVED by SUPERVISOR",
         "marker": {
          "color": "#FFA15A",
          "pattern": {
           "shape": ""
          }
         },
         "name": "Declaration FINAL_APPROVED by SUPERVISOR",
         "offsetgroup": "Declaration FINAL_APPROVED by SUPERVISOR",
         "orientation": "v",
         "showlegend": true,
         "textposition": "auto",
         "type": "bar",
         "x": [
          6
         ],
         "xaxis": "x",
         "y": [
          0.3546099290780142
         ],
         "yaxis": "y"
        },
        {
         "alignmentgroup": "True",
         "hovertemplate": "Activities=Permit APPROVED by BUDGET OWNER<br>Trace length=%{x}<br>Percent count=%{y}<extra></extra>",
         "legendgroup": "Permit APPROVED by BUDGET OWNER",
         "marker": {
          "color": "#19d3f3",
          "pattern": {
           "shape": ""
          }
         },
         "name": "Permit APPROVED by BUDGET OWNER",
         "offsetgroup": "Permit APPROVED by BUDGET OWNER",
         "orientation": "v",
         "showlegend": true,
         "textposition": "auto",
         "type": "bar",
         "x": [
          6
         ],
         "xaxis": "x",
         "y": [
          0.3546099290780142
         ],
         "yaxis": "y"
        },
        {
         "alignmentgroup": "True",
         "hovertemplate": "Activities=Permit APPROVED by SUPERVISOR<br>Trace length=%{x}<br>Percent count=%{y}<extra></extra>",
         "legendgroup": "Permit APPROVED by SUPERVISOR",
         "marker": {
          "color": "#FF6692",
          "pattern": {
           "shape": ""
          }
         },
         "name": "Permit APPROVED by SUPERVISOR",
         "offsetgroup": "Permit APPROVED by SUPERVISOR",
         "orientation": "v",
         "showlegend": true,
         "textposition": "auto",
         "type": "bar",
         "x": [
          6
         ],
         "xaxis": "x",
         "y": [
          0.3546099290780142
         ],
         "yaxis": "y"
        },
        {
         "alignmentgroup": "True",
         "hovertemplate": "Activities=Permit REJECTED by ADMINISTRATION<br>Trace length=%{x}<br>Percent count=%{y}<extra></extra>",
         "legendgroup": "Permit REJECTED by ADMINISTRATION",
         "marker": {
          "color": "#B6E880",
          "pattern": {
           "shape": ""
          }
         },
         "name": "Permit REJECTED by ADMINISTRATION",
         "offsetgroup": "Permit REJECTED by ADMINISTRATION",
         "orientation": "v",
         "showlegend": true,
         "textposition": "auto",
         "type": "bar",
         "x": [
          6
         ],
         "xaxis": "x",
         "y": [
          0.3546099290780142
         ],
         "yaxis": "y"
        },
        {
         "alignmentgroup": "True",
         "hovertemplate": "Activities=Request For Payment APPROVED by SUPERVISOR<br>Trace length=%{x}<br>Percent count=%{y}<extra></extra>",
         "legendgroup": "Request For Payment APPROVED by SUPERVISOR",
         "marker": {
          "color": "#FF97FF",
          "pattern": {
           "shape": ""
          }
         },
         "name": "Request For Payment APPROVED by SUPERVISOR",
         "offsetgroup": "Request For Payment APPROVED by SUPERVISOR",
         "orientation": "v",
         "showlegend": true,
         "textposition": "auto",
         "type": "bar",
         "x": [
          6
         ],
         "xaxis": "x",
         "y": [
          0.3546099290780142
         ],
         "yaxis": "y"
        },
        {
         "alignmentgroup": "True",
         "hovertemplate": "Activities=Request For Payment REJECTED by SUPERVISOR<br>Trace length=%{x}<br>Percent count=%{y}<extra></extra>",
         "legendgroup": "Request For Payment REJECTED by SUPERVISOR",
         "marker": {
          "color": "#FECB52",
          "pattern": {
           "shape": ""
          }
         },
         "name": "Request For Payment REJECTED by SUPERVISOR",
         "offsetgroup": "Request For Payment REJECTED by SUPERVISOR",
         "orientation": "v",
         "showlegend": true,
         "textposition": "auto",
         "type": "bar",
         "x": [
          6
         ],
         "xaxis": "x",
         "y": [
          0.3546099290780142
         ],
         "yaxis": "y"
        }
       ],
       "layout": {
        "barmode": "relative",
        "legend": {
         "title": {
          "text": "Activities"
         },
         "tracegroupgap": 0
        },
        "template": {
         "data": {
          "bar": [
           {
            "error_x": {
             "color": "#2a3f5f"
            },
            "error_y": {
             "color": "#2a3f5f"
            },
            "marker": {
             "line": {
              "color": "#E5ECF6",
              "width": 0.5
             },
             "pattern": {
              "fillmode": "overlay",
              "size": 10,
              "solidity": 0.2
             }
            },
            "type": "bar"
           }
          ],
          "barpolar": [
           {
            "marker": {
             "line": {
              "color": "#E5ECF6",
              "width": 0.5
             },
             "pattern": {
              "fillmode": "overlay",
              "size": 10,
              "solidity": 0.2
             }
            },
            "type": "barpolar"
           }
          ],
          "carpet": [
           {
            "aaxis": {
             "endlinecolor": "#2a3f5f",
             "gridcolor": "white",
             "linecolor": "white",
             "minorgridcolor": "white",
             "startlinecolor": "#2a3f5f"
            },
            "baxis": {
             "endlinecolor": "#2a3f5f",
             "gridcolor": "white",
             "linecolor": "white",
             "minorgridcolor": "white",
             "startlinecolor": "#2a3f5f"
            },
            "type": "carpet"
           }
          ],
          "choropleth": [
           {
            "colorbar": {
             "outlinewidth": 0,
             "ticks": ""
            },
            "type": "choropleth"
           }
          ],
          "contour": [
           {
            "colorbar": {
             "outlinewidth": 0,
             "ticks": ""
            },
            "colorscale": [
             [
              0,
              "#0d0887"
             ],
             [
              0.1111111111111111,
              "#46039f"
             ],
             [
              0.2222222222222222,
              "#7201a8"
             ],
             [
              0.3333333333333333,
              "#9c179e"
             ],
             [
              0.4444444444444444,
              "#bd3786"
             ],
             [
              0.5555555555555556,
              "#d8576b"
             ],
             [
              0.6666666666666666,
              "#ed7953"
             ],
             [
              0.7777777777777778,
              "#fb9f3a"
             ],
             [
              0.8888888888888888,
              "#fdca26"
             ],
             [
              1,
              "#f0f921"
             ]
            ],
            "type": "contour"
           }
          ],
          "contourcarpet": [
           {
            "colorbar": {
             "outlinewidth": 0,
             "ticks": ""
            },
            "type": "contourcarpet"
           }
          ],
          "heatmap": [
           {
            "colorbar": {
             "outlinewidth": 0,
             "ticks": ""
            },
            "colorscale": [
             [
              0,
              "#0d0887"
             ],
             [
              0.1111111111111111,
              "#46039f"
             ],
             [
              0.2222222222222222,
              "#7201a8"
             ],
             [
              0.3333333333333333,
              "#9c179e"
             ],
             [
              0.4444444444444444,
              "#bd3786"
             ],
             [
              0.5555555555555556,
              "#d8576b"
             ],
             [
              0.6666666666666666,
              "#ed7953"
             ],
             [
              0.7777777777777778,
              "#fb9f3a"
             ],
             [
              0.8888888888888888,
              "#fdca26"
             ],
             [
              1,
              "#f0f921"
             ]
            ],
            "type": "heatmap"
           }
          ],
          "heatmapgl": [
           {
            "colorbar": {
             "outlinewidth": 0,
             "ticks": ""
            },
            "colorscale": [
             [
              0,
              "#0d0887"
             ],
             [
              0.1111111111111111,
              "#46039f"
             ],
             [
              0.2222222222222222,
              "#7201a8"
             ],
             [
              0.3333333333333333,
              "#9c179e"
             ],
             [
              0.4444444444444444,
              "#bd3786"
             ],
             [
              0.5555555555555556,
              "#d8576b"
             ],
             [
              0.6666666666666666,
              "#ed7953"
             ],
             [
              0.7777777777777778,
              "#fb9f3a"
             ],
             [
              0.8888888888888888,
              "#fdca26"
             ],
             [
              1,
              "#f0f921"
             ]
            ],
            "type": "heatmapgl"
           }
          ],
          "histogram": [
           {
            "marker": {
             "pattern": {
              "fillmode": "overlay",
              "size": 10,
              "solidity": 0.2
             }
            },
            "type": "histogram"
           }
          ],
          "histogram2d": [
           {
            "colorbar": {
             "outlinewidth": 0,
             "ticks": ""
            },
            "colorscale": [
             [
              0,
              "#0d0887"
             ],
             [
              0.1111111111111111,
              "#46039f"
             ],
             [
              0.2222222222222222,
              "#7201a8"
             ],
             [
              0.3333333333333333,
              "#9c179e"
             ],
             [
              0.4444444444444444,
              "#bd3786"
             ],
             [
              0.5555555555555556,
              "#d8576b"
             ],
             [
              0.6666666666666666,
              "#ed7953"
             ],
             [
              0.7777777777777778,
              "#fb9f3a"
             ],
             [
              0.8888888888888888,
              "#fdca26"
             ],
             [
              1,
              "#f0f921"
             ]
            ],
            "type": "histogram2d"
           }
          ],
          "histogram2dcontour": [
           {
            "colorbar": {
             "outlinewidth": 0,
             "ticks": ""
            },
            "colorscale": [
             [
              0,
              "#0d0887"
             ],
             [
              0.1111111111111111,
              "#46039f"
             ],
             [
              0.2222222222222222,
              "#7201a8"
             ],
             [
              0.3333333333333333,
              "#9c179e"
             ],
             [
              0.4444444444444444,
              "#bd3786"
             ],
             [
              0.5555555555555556,
              "#d8576b"
             ],
             [
              0.6666666666666666,
              "#ed7953"
             ],
             [
              0.7777777777777778,
              "#fb9f3a"
             ],
             [
              0.8888888888888888,
              "#fdca26"
             ],
             [
              1,
              "#f0f921"
             ]
            ],
            "type": "histogram2dcontour"
           }
          ],
          "mesh3d": [
           {
            "colorbar": {
             "outlinewidth": 0,
             "ticks": ""
            },
            "type": "mesh3d"
           }
          ],
          "parcoords": [
           {
            "line": {
             "colorbar": {
              "outlinewidth": 0,
              "ticks": ""
             }
            },
            "type": "parcoords"
           }
          ],
          "pie": [
           {
            "automargin": true,
            "type": "pie"
           }
          ],
          "scatter": [
           {
            "fillpattern": {
             "fillmode": "overlay",
             "size": 10,
             "solidity": 0.2
            },
            "type": "scatter"
           }
          ],
          "scatter3d": [
           {
            "line": {
             "colorbar": {
              "outlinewidth": 0,
              "ticks": ""
             }
            },
            "marker": {
             "colorbar": {
              "outlinewidth": 0,
              "ticks": ""
             }
            },
            "type": "scatter3d"
           }
          ],
          "scattercarpet": [
           {
            "marker": {
             "colorbar": {
              "outlinewidth": 0,
              "ticks": ""
             }
            },
            "type": "scattercarpet"
           }
          ],
          "scattergeo": [
           {
            "marker": {
             "colorbar": {
              "outlinewidth": 0,
              "ticks": ""
             }
            },
            "type": "scattergeo"
           }
          ],
          "scattergl": [
           {
            "marker": {
             "colorbar": {
              "outlinewidth": 0,
              "ticks": ""
             }
            },
            "type": "scattergl"
           }
          ],
          "scattermapbox": [
           {
            "marker": {
             "colorbar": {
              "outlinewidth": 0,
              "ticks": ""
             }
            },
            "type": "scattermapbox"
           }
          ],
          "scatterpolar": [
           {
            "marker": {
             "colorbar": {
              "outlinewidth": 0,
              "ticks": ""
             }
            },
            "type": "scatterpolar"
           }
          ],
          "scatterpolargl": [
           {
            "marker": {
             "colorbar": {
              "outlinewidth": 0,
              "ticks": ""
             }
            },
            "type": "scatterpolargl"
           }
          ],
          "scatterternary": [
           {
            "marker": {
             "colorbar": {
              "outlinewidth": 0,
              "ticks": ""
             }
            },
            "type": "scatterternary"
           }
          ],
          "surface": [
           {
            "colorbar": {
             "outlinewidth": 0,
             "ticks": ""
            },
            "colorscale": [
             [
              0,
              "#0d0887"
             ],
             [
              0.1111111111111111,
              "#46039f"
             ],
             [
              0.2222222222222222,
              "#7201a8"
             ],
             [
              0.3333333333333333,
              "#9c179e"
             ],
             [
              0.4444444444444444,
              "#bd3786"
             ],
             [
              0.5555555555555556,
              "#d8576b"
             ],
             [
              0.6666666666666666,
              "#ed7953"
             ],
             [
              0.7777777777777778,
              "#fb9f3a"
             ],
             [
              0.8888888888888888,
              "#fdca26"
             ],
             [
              1,
              "#f0f921"
             ]
            ],
            "type": "surface"
           }
          ],
          "table": [
           {
            "cells": {
             "fill": {
              "color": "#EBF0F8"
             },
             "line": {
              "color": "white"
             }
            },
            "header": {
             "fill": {
              "color": "#C8D4E3"
             },
             "line": {
              "color": "white"
             }
            },
            "type": "table"
           }
          ]
         },
         "layout": {
          "annotationdefaults": {
           "arrowcolor": "#2a3f5f",
           "arrowhead": 0,
           "arrowwidth": 1
          },
          "autotypenumbers": "strict",
          "coloraxis": {
           "colorbar": {
            "outlinewidth": 0,
            "ticks": ""
           }
          },
          "colorscale": {
           "diverging": [
            [
             0,
             "#8e0152"
            ],
            [
             0.1,
             "#c51b7d"
            ],
            [
             0.2,
             "#de77ae"
            ],
            [
             0.3,
             "#f1b6da"
            ],
            [
             0.4,
             "#fde0ef"
            ],
            [
             0.5,
             "#f7f7f7"
            ],
            [
             0.6,
             "#e6f5d0"
            ],
            [
             0.7,
             "#b8e186"
            ],
            [
             0.8,
             "#7fbc41"
            ],
            [
             0.9,
             "#4d9221"
            ],
            [
             1,
             "#276419"
            ]
           ],
           "sequential": [
            [
             0,
             "#0d0887"
            ],
            [
             0.1111111111111111,
             "#46039f"
            ],
            [
             0.2222222222222222,
             "#7201a8"
            ],
            [
             0.3333333333333333,
             "#9c179e"
            ],
            [
             0.4444444444444444,
             "#bd3786"
            ],
            [
             0.5555555555555556,
             "#d8576b"
            ],
            [
             0.6666666666666666,
             "#ed7953"
            ],
            [
             0.7777777777777778,
             "#fb9f3a"
            ],
            [
             0.8888888888888888,
             "#fdca26"
            ],
            [
             1,
             "#f0f921"
            ]
           ],
           "sequentialminus": [
            [
             0,
             "#0d0887"
            ],
            [
             0.1111111111111111,
             "#46039f"
            ],
            [
             0.2222222222222222,
             "#7201a8"
            ],
            [
             0.3333333333333333,
             "#9c179e"
            ],
            [
             0.4444444444444444,
             "#bd3786"
            ],
            [
             0.5555555555555556,
             "#d8576b"
            ],
            [
             0.6666666666666666,
             "#ed7953"
            ],
            [
             0.7777777777777778,
             "#fb9f3a"
            ],
            [
             0.8888888888888888,
             "#fdca26"
            ],
            [
             1,
             "#f0f921"
            ]
           ]
          },
          "colorway": [
           "#636efa",
           "#EF553B",
           "#00cc96",
           "#ab63fa",
           "#FFA15A",
           "#19d3f3",
           "#FF6692",
           "#B6E880",
           "#FF97FF",
           "#FECB52"
          ],
          "font": {
           "color": "#2a3f5f"
          },
          "geo": {
           "bgcolor": "white",
           "lakecolor": "white",
           "landcolor": "#E5ECF6",
           "showlakes": true,
           "showland": true,
           "subunitcolor": "white"
          },
          "hoverlabel": {
           "align": "left"
          },
          "hovermode": "closest",
          "mapbox": {
           "style": "light"
          },
          "paper_bgcolor": "white",
          "plot_bgcolor": "#E5ECF6",
          "polar": {
           "angularaxis": {
            "gridcolor": "white",
            "linecolor": "white",
            "ticks": ""
           },
           "bgcolor": "#E5ECF6",
           "radialaxis": {
            "gridcolor": "white",
            "linecolor": "white",
            "ticks": ""
           }
          },
          "scene": {
           "xaxis": {
            "backgroundcolor": "#E5ECF6",
            "gridcolor": "white",
            "gridwidth": 2,
            "linecolor": "white",
            "showbackground": true,
            "ticks": "",
            "zerolinecolor": "white"
           },
           "yaxis": {
            "backgroundcolor": "#E5ECF6",
            "gridcolor": "white",
            "gridwidth": 2,
            "linecolor": "white",
            "showbackground": true,
            "ticks": "",
            "zerolinecolor": "white"
           },
           "zaxis": {
            "backgroundcolor": "#E5ECF6",
            "gridcolor": "white",
            "gridwidth": 2,
            "linecolor": "white",
            "showbackground": true,
            "ticks": "",
            "zerolinecolor": "white"
           }
          },
          "shapedefaults": {
           "line": {
            "color": "#2a3f5f"
           }
          },
          "ternary": {
           "aaxis": {
            "gridcolor": "white",
            "linecolor": "white",
            "ticks": ""
           },
           "baxis": {
            "gridcolor": "white",
            "linecolor": "white",
            "ticks": ""
           },
           "bgcolor": "#E5ECF6",
           "caxis": {
            "gridcolor": "white",
            "linecolor": "white",
            "ticks": ""
           }
          },
          "title": {
           "x": 0.05
          },
          "xaxis": {
           "automargin": true,
           "gridcolor": "white",
           "linecolor": "white",
           "ticks": "",
           "title": {
            "standoff": 15
           },
           "zerolinecolor": "white",
           "zerolinewidth": 2
          },
          "yaxis": {
           "automargin": true,
           "gridcolor": "white",
           "linecolor": "white",
           "ticks": "",
           "title": {
            "standoff": 15
           },
           "zerolinecolor": "white",
           "zerolinewidth": 2
          }
         }
        },
        "title": {
         "text": "Last activity vs trace length distribution"
        },
        "xaxis": {
         "anchor": "y",
         "domain": [
          0,
          1
         ],
         "title": {
          "text": "Trace length"
         }
        },
        "yaxis": {
         "anchor": "x",
         "domain": [
          0,
          1
         ],
         "title": {
          "text": "Percent count"
         }
        }
       }
      }
     },
     "metadata": {},
     "output_type": "display_data"
    }
   ],
   "source": [
    "# plot the distribution\n",
    "import plotly.express as px\n",
    "fig = px.bar(df_dist, x=\"Trace length\", y=\"Percent count\", color=\"Activities\", title=\"Last activity vs trace length distribution\")\n",
    "fig.show()\n",
    "# fig.write_html(\"../docs/activity_vs_trace_length_distribution.html\")"
   ]
  },
  {
   "cell_type": "code",
   "execution_count": null,
   "metadata": {},
   "outputs": [],
   "source": []
  },
  {
   "cell_type": "code",
   "execution_count": null,
   "metadata": {},
   "outputs": [],
   "source": []
  },
  {
   "cell_type": "code",
   "execution_count": null,
   "metadata": {},
   "outputs": [],
   "source": []
  },
  {
   "attachments": {},
   "cell_type": "markdown",
   "metadata": {},
   "source": [
    "# ===================== END ====================== ######"
   ]
  },
  {
   "cell_type": "code",
   "execution_count": null,
   "metadata": {},
   "outputs": [],
   "source": []
  }
 ],
 "metadata": {
  "kernelspec": {
   "display_name": "ml",
   "language": "python",
   "name": "python3"
  },
  "language_info": {
   "codemirror_mode": {
    "name": "ipython",
    "version": 3
   },
   "file_extension": ".py",
   "mimetype": "text/x-python",
   "name": "python",
   "nbconvert_exporter": "python",
   "pygments_lexer": "ipython3",
   "version": "3.10.4"
  },
  "orig_nbformat": 4,
  "vscode": {
   "interpreter": {
    "hash": "5188bc372fa413aa2565ae5d28228f50ad7b2c4ebb4a82c5900fd598adbb6408"
   }
  }
 },
 "nbformat": 4,
 "nbformat_minor": 2
}
